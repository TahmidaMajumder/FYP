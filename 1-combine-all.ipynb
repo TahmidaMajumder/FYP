{
 "cells": [
  {
   "cell_type": "markdown",
   "id": "ea765e95",
   "metadata": {
    "id": "gkLCIjIYqlP_",
    "papermill": {
     "duration": 0.03984,
     "end_time": "2024-12-30T03:22:20.345351",
     "exception": false,
     "start_time": "2024-12-30T03:22:20.305511",
     "status": "completed"
    },
    "tags": []
   },
   "source": [
    "**About the dataset**\n",
    "\n",
    "WAQI project data-set is updated 3 times a day, and covering about 380 major cities in the world.\n",
    "\n",
    "The data for each major cities is based on the average (median) of several stations. The data set provides min, max, median and standard deviation for each of the air pollutant species (PM2.5,PM10, Ozone ...) as well as meteorological data (Wind, Temperature, ...).\n",
    "\n",
    "All air pollutant species are converted to the US EPA standard (i.e. no raw concentrations). All dates are UTC based.\n",
    "\n",
    "The count column is the number of samples used for calculating the median and standard deviation.\n",
    "\n",
    "The city-median value is computed per day using all AQI values for available stations.\n",
    "\n",
    "More Info: https://aqicn.org/data-platform/covid19/"
   ]
  },
  {
   "cell_type": "markdown",
   "id": "7c01b050",
   "metadata": {
    "id": "ZAGE3N7_rCRw",
    "papermill": {
     "duration": 0.036552,
     "end_time": "2024-12-30T03:22:20.419189",
     "exception": false,
     "start_time": "2024-12-30T03:22:20.382637",
     "status": "completed"
    },
    "tags": []
   },
   "source": [
    "**WORKING STEPS OF THE WITH DATASET**\n",
    "\n",
    "\n",
    "1.   Group the content of the dataset based on date, country and city(4 dataset separately)\n",
    "\n",
    "*   Each unique specie will become new column\n",
    "*   Values of species if found duplicate max value all be assigned among the values\n",
    "\n",
    "\n",
    "2.   Combine 4 dataframe into one\n",
    "3.   Export the combine dataset\n",
    "***Additional Information***\n",
    "01/01/2024 - 17-12-2024\n",
    "\n",
    "\n",
    "Dataset 1 starting and end date(mm/dd/yyyy) : 12/26/2022-4/2/2023\n",
    "\n",
    "Dataset 2 starting and end date(mm/dd/yyyy) : 3/27/2023-7/2/2023\n",
    "\n",
    "Dataset 3 starting and end date(mm/dd/yyyy) : 6/26/2023-10/1/2023\n",
    "\n",
    "Dataset 4 starting and end date(mm/dd/yyyy) : 9/25/2023-12/31/2023\n",
    "\n",
    "\n",
    "2023:\n",
    "\n",
    "12/26/2022-4/2/2023\n",
    "\n",
    "3/27/2023-7/2/2023\n",
    "\n",
    "6/26/2023-10/1/2023\n",
    "\n",
    "9/25/2023-12/31/2023\n",
    "\n",
    "2022:\n",
    "\n",
    "3/28/2022-7/3/2022\n",
    "\n",
    "6/27/2022-10/2/2022\n",
    "\n",
    "9/26/2022-1/1/2023\n",
    "\n",
    "2021:\n",
    "\n",
    "12/28/2020-4/4/2021\n",
    "\n",
    "3/29/2021-7/4/2021\n",
    "\n",
    "6/28/2021-10/3/2021\n",
    "\n",
    "9/27/2021-1/2/2022\n",
    "\n",
    "2020:\n",
    "\n",
    "12/30/2019-4/5/2020\n",
    "\n",
    "3/30/2020-7/5/2020\n",
    "\n",
    "6/29/2020-10/4/2020\n",
    "\n",
    "9/28/2020-1/3/2021\n",
    "\n",
    "2019:\n",
    "\n",
    "12/31/2018-3/31/2019\n",
    "\n",
    "4/1/2019-6/30/2019\n",
    "\n",
    "7/1/2019-10/6/2019\n",
    "\n",
    "9/30/2019-1/5/2020\n",
    "\n",
    "2018:\n",
    "\n",
    "1/1/2018-7/1/2018\n",
    "\n",
    "2017:\n",
    "\n",
    "12/26/2016-7/2/2017\n",
    "\n",
    "2016:\n",
    "\n",
    "12/28/2015-7/3/2016\n",
    "\n",
    "2015:\n",
    "\n",
    "12/29/2014-7/5/2015\n",
    "\n"
   ]
  },
  {
   "cell_type": "code",
   "execution_count": 1,
   "id": "bafcbd16",
   "metadata": {
    "execution": {
     "iopub.execute_input": "2024-12-30T03:22:20.496845Z",
     "iopub.status.busy": "2024-12-30T03:22:20.496391Z",
     "iopub.status.idle": "2024-12-30T03:22:20.880756Z",
     "shell.execute_reply": "2024-12-30T03:22:20.879855Z"
    },
    "id": "avxZMh6YjPCn",
    "papermill": {
     "duration": 0.426695,
     "end_time": "2024-12-30T03:22:20.882664",
     "exception": false,
     "start_time": "2024-12-30T03:22:20.455969",
     "status": "completed"
    },
    "tags": []
   },
   "outputs": [],
   "source": [
    "import pandas as pd\n",
    "import numpy as np"
   ]
  },
  {
   "cell_type": "markdown",
   "id": "df2d7b0b",
   "metadata": {
    "id": "l1bJgJpbVwf5",
    "papermill": {
     "duration": 0.038109,
     "end_time": "2024-12-30T03:22:20.957982",
     "exception": false,
     "start_time": "2024-12-30T03:22:20.919873",
     "status": "completed"
    },
    "tags": []
   },
   "source": [
    "# 2024"
   ]
  },
  {
   "cell_type": "code",
   "execution_count": 2,
   "id": "64e3192d",
   "metadata": {
    "execution": {
     "iopub.execute_input": "2024-12-30T03:22:21.042718Z",
     "iopub.status.busy": "2024-12-30T03:22:21.042178Z",
     "iopub.status.idle": "2024-12-30T03:22:22.276272Z",
     "shell.execute_reply": "2024-12-30T03:22:22.274910Z"
    },
    "papermill": {
     "duration": 1.282711,
     "end_time": "2024-12-30T03:22:22.277935",
     "exception": false,
     "start_time": "2024-12-30T03:22:20.995224",
     "status": "completed"
    },
    "tags": []
   },
   "outputs": [
    {
     "name": "stdout",
     "output_type": "stream",
     "text": [
      "(1048571, 5)\n"
     ]
    },
    {
     "data": {
      "text/html": [
       "<div>\n",
       "<style scoped>\n",
       "    .dataframe tbody tr th:only-of-type {\n",
       "        vertical-align: middle;\n",
       "    }\n",
       "\n",
       "    .dataframe tbody tr th {\n",
       "        vertical-align: top;\n",
       "    }\n",
       "\n",
       "    .dataframe thead th {\n",
       "        text-align: right;\n",
       "    }\n",
       "</style>\n",
       "<table border=\"1\" class=\"dataframe\">\n",
       "  <thead>\n",
       "    <tr style=\"text-align: right;\">\n",
       "      <th></th>\n",
       "      <th>Date</th>\n",
       "      <th>Country</th>\n",
       "      <th>City</th>\n",
       "      <th>Specie</th>\n",
       "      <th>count</th>\n",
       "    </tr>\n",
       "  </thead>\n",
       "  <tbody>\n",
       "    <tr>\n",
       "      <th>0</th>\n",
       "      <td>12/17/2024</td>\n",
       "      <td>CI</td>\n",
       "      <td>Abidjan</td>\n",
       "      <td>pm25</td>\n",
       "      <td>8</td>\n",
       "    </tr>\n",
       "    <tr>\n",
       "      <th>1</th>\n",
       "      <td>12/17/2024</td>\n",
       "      <td>CI</td>\n",
       "      <td>Abidjan</td>\n",
       "      <td>dew</td>\n",
       "      <td>2</td>\n",
       "    </tr>\n",
       "    <tr>\n",
       "      <th>2</th>\n",
       "      <td>12/17/2024</td>\n",
       "      <td>CI</td>\n",
       "      <td>Abidjan</td>\n",
       "      <td>temperature</td>\n",
       "      <td>8</td>\n",
       "    </tr>\n",
       "    <tr>\n",
       "      <th>3</th>\n",
       "      <td>12/17/2024</td>\n",
       "      <td>CI</td>\n",
       "      <td>Abidjan</td>\n",
       "      <td>humidity</td>\n",
       "      <td>8</td>\n",
       "    </tr>\n",
       "    <tr>\n",
       "      <th>4</th>\n",
       "      <td>12/17/2024</td>\n",
       "      <td>CI</td>\n",
       "      <td>Abidjan</td>\n",
       "      <td>pressure</td>\n",
       "      <td>8</td>\n",
       "    </tr>\n",
       "  </tbody>\n",
       "</table>\n",
       "</div>"
      ],
      "text/plain": [
       "         Date Country     City       Specie  count\n",
       "0  12/17/2024      CI  Abidjan         pm25      8\n",
       "1  12/17/2024      CI  Abidjan          dew      2\n",
       "2  12/17/2024      CI  Abidjan  temperature      8\n",
       "3  12/17/2024      CI  Abidjan     humidity      8\n",
       "4  12/17/2024      CI  Abidjan     pressure      8"
      ]
     },
     "execution_count": 2,
     "metadata": {},
     "output_type": "execute_result"
    }
   ],
   "source": [
    "# Load the dataset into a DataFrame\n",
    "raw_data_2024 = pd.read_csv(r'/kaggle/input/data-for-combine/airqualitydata-2024.csv')\n",
    "\n",
    "# print the shape\n",
    "print(raw_data_2024.shape)\n",
    "\n",
    "#runs the first 5 rows\n",
    "raw_data_2024.head()"
   ]
  },
  {
   "cell_type": "code",
   "execution_count": 3,
   "id": "f30de60a",
   "metadata": {
    "execution": {
     "iopub.execute_input": "2024-12-30T03:22:22.353968Z",
     "iopub.status.busy": "2024-12-30T03:22:22.353616Z",
     "iopub.status.idle": "2024-12-30T03:22:22.490982Z",
     "shell.execute_reply": "2024-12-30T03:22:22.489858Z"
    },
    "id": "O6AgwvutU_wH",
    "papermill": {
     "duration": 0.177996,
     "end_time": "2024-12-30T03:22:22.492912",
     "exception": false,
     "start_time": "2024-12-30T03:22:22.314916",
     "status": "completed"
    },
    "tags": []
   },
   "outputs": [],
   "source": [
    "# Convert 'Date' to datetime\n",
    "raw_data_2024['Date'] = pd.to_datetime(raw_data_2024['Date'])"
   ]
  },
  {
   "cell_type": "code",
   "execution_count": 4,
   "id": "f89107b7",
   "metadata": {
    "execution": {
     "iopub.execute_input": "2024-12-30T03:22:22.570340Z",
     "iopub.status.busy": "2024-12-30T03:22:22.569999Z",
     "iopub.status.idle": "2024-12-30T03:22:22.575925Z",
     "shell.execute_reply": "2024-12-30T03:22:22.574919Z"
    },
    "executionInfo": {
     "elapsed": 14,
     "status": "ok",
     "timestamp": 1734445417435,
     "user": {
      "displayName": "Tahmida Majumder",
      "userId": "15415648085337204568"
     },
     "user_tz": -480
    },
    "id": "BYUTr5WOU_wH",
    "outputId": "f7341c48-836b-4c19-cd26-b07d7752136b",
    "papermill": {
     "duration": 0.04583,
     "end_time": "2024-12-30T03:22:22.577382",
     "exception": false,
     "start_time": "2024-12-30T03:22:22.531552",
     "status": "completed"
    },
    "tags": []
   },
   "outputs": [
    {
     "data": {
      "text/plain": [
       "(1048571, 5)"
      ]
     },
     "execution_count": 4,
     "metadata": {},
     "output_type": "execute_result"
    }
   ],
   "source": [
    "raw_data_2024.shape"
   ]
  },
  {
   "cell_type": "code",
   "execution_count": 5,
   "id": "d99b6587",
   "metadata": {
    "execution": {
     "iopub.execute_input": "2024-12-30T03:22:22.711394Z",
     "iopub.status.busy": "2024-12-30T03:22:22.711025Z",
     "iopub.status.idle": "2024-12-30T03:22:23.499962Z",
     "shell.execute_reply": "2024-12-30T03:22:23.498920Z"
    },
    "id": "vDVgKgQFU_wH",
    "papermill": {
     "duration": 0.887375,
     "end_time": "2024-12-30T03:22:23.501895",
     "exception": false,
     "start_time": "2024-12-30T03:22:22.614520",
     "status": "completed"
    },
    "tags": []
   },
   "outputs": [],
   "source": [
    "# Pivot the data\n",
    "data_df_2024 = raw_data_2024.pivot_table(\n",
    "    index=['Date', 'Country', 'City'],  # Grouping columns\n",
    "    columns='Specie',                  # Unique values become columns\n",
    "    values='count',                   # Values to aggregate\n",
    "    aggfunc='mean'                     # Aggregation function\n",
    ").reset_index()\n"
   ]
  },
  {
   "cell_type": "code",
   "execution_count": 6,
   "id": "d0d6c155",
   "metadata": {
    "execution": {
     "iopub.execute_input": "2024-12-30T03:22:23.578108Z",
     "iopub.status.busy": "2024-12-30T03:22:23.577740Z",
     "iopub.status.idle": "2024-12-30T03:22:23.602298Z",
     "shell.execute_reply": "2024-12-30T03:22:23.601181Z"
    },
    "executionInfo": {
     "elapsed": 8,
     "status": "ok",
     "timestamp": 1734445418344,
     "user": {
      "displayName": "Tahmida Majumder",
      "userId": "15415648085337204568"
     },
     "user_tz": -480
    },
    "id": "eR6ZzK3RU_wH",
    "outputId": "493998b8-a5fc-46bc-b2b2-4230e483fddf",
    "papermill": {
     "duration": 0.065182,
     "end_time": "2024-12-30T03:22:23.604071",
     "exception": false,
     "start_time": "2024-12-30T03:22:23.538889",
     "status": "completed"
    },
    "tags": []
   },
   "outputs": [
    {
     "name": "stdout",
     "output_type": "stream",
     "text": [
      "(104165, 20)\n"
     ]
    },
    {
     "data": {
      "text/html": [
       "<div>\n",
       "<style scoped>\n",
       "    .dataframe tbody tr th:only-of-type {\n",
       "        vertical-align: middle;\n",
       "    }\n",
       "\n",
       "    .dataframe tbody tr th {\n",
       "        vertical-align: top;\n",
       "    }\n",
       "\n",
       "    .dataframe thead th {\n",
       "        text-align: right;\n",
       "    }\n",
       "</style>\n",
       "<table border=\"1\" class=\"dataframe\">\n",
       "  <thead>\n",
       "    <tr style=\"text-align: right;\">\n",
       "      <th>Specie</th>\n",
       "      <th>Date</th>\n",
       "      <th>Country</th>\n",
       "      <th>City</th>\n",
       "      <th>co</th>\n",
       "      <th>dew</th>\n",
       "      <th>humidity</th>\n",
       "      <th>neph</th>\n",
       "      <th>no2</th>\n",
       "      <th>o3</th>\n",
       "      <th>pm1</th>\n",
       "      <th>pm10</th>\n",
       "      <th>pm25</th>\n",
       "      <th>precipitation</th>\n",
       "      <th>pressure</th>\n",
       "      <th>so2</th>\n",
       "      <th>temperature</th>\n",
       "      <th>uvi</th>\n",
       "      <th>wd</th>\n",
       "      <th>wind-gust</th>\n",
       "      <th>wind-speed</th>\n",
       "    </tr>\n",
       "  </thead>\n",
       "  <tbody>\n",
       "    <tr>\n",
       "      <th>0</th>\n",
       "      <td>2024-01-01</td>\n",
       "      <td>AE</td>\n",
       "      <td>Abu Dhabi</td>\n",
       "      <td>24.0</td>\n",
       "      <td>132.0</td>\n",
       "      <td>186.0</td>\n",
       "      <td>NaN</td>\n",
       "      <td>120.0</td>\n",
       "      <td>119.0</td>\n",
       "      <td>NaN</td>\n",
       "      <td>120.0</td>\n",
       "      <td>24.0</td>\n",
       "      <td>NaN</td>\n",
       "      <td>192.0</td>\n",
       "      <td>120.0</td>\n",
       "      <td>192.0</td>\n",
       "      <td>NaN</td>\n",
       "      <td>NaN</td>\n",
       "      <td>NaN</td>\n",
       "      <td>184.0</td>\n",
       "    </tr>\n",
       "    <tr>\n",
       "      <th>1</th>\n",
       "      <td>2024-01-01</td>\n",
       "      <td>AE</td>\n",
       "      <td>Dubai</td>\n",
       "      <td>87.0</td>\n",
       "      <td>140.0</td>\n",
       "      <td>144.0</td>\n",
       "      <td>NaN</td>\n",
       "      <td>87.0</td>\n",
       "      <td>90.0</td>\n",
       "      <td>NaN</td>\n",
       "      <td>74.0</td>\n",
       "      <td>26.0</td>\n",
       "      <td>NaN</td>\n",
       "      <td>144.0</td>\n",
       "      <td>87.0</td>\n",
       "      <td>144.0</td>\n",
       "      <td>NaN</td>\n",
       "      <td>NaN</td>\n",
       "      <td>NaN</td>\n",
       "      <td>144.0</td>\n",
       "    </tr>\n",
       "    <tr>\n",
       "      <th>2</th>\n",
       "      <td>2024-01-01</td>\n",
       "      <td>AR</td>\n",
       "      <td>Buenos Aires</td>\n",
       "      <td>68.0</td>\n",
       "      <td>44.0</td>\n",
       "      <td>92.0</td>\n",
       "      <td>NaN</td>\n",
       "      <td>47.0</td>\n",
       "      <td>24.0</td>\n",
       "      <td>NaN</td>\n",
       "      <td>75.0</td>\n",
       "      <td>24.0</td>\n",
       "      <td>2.0</td>\n",
       "      <td>92.0</td>\n",
       "      <td>8.0</td>\n",
       "      <td>92.0</td>\n",
       "      <td>NaN</td>\n",
       "      <td>21.0</td>\n",
       "      <td>48.0</td>\n",
       "      <td>92.0</td>\n",
       "    </tr>\n",
       "    <tr>\n",
       "      <th>3</th>\n",
       "      <td>2024-01-01</td>\n",
       "      <td>AU</td>\n",
       "      <td>Adelaide</td>\n",
       "      <td>24.0</td>\n",
       "      <td>46.0</td>\n",
       "      <td>118.0</td>\n",
       "      <td>NaN</td>\n",
       "      <td>69.0</td>\n",
       "      <td>72.0</td>\n",
       "      <td>NaN</td>\n",
       "      <td>120.0</td>\n",
       "      <td>72.0</td>\n",
       "      <td>NaN</td>\n",
       "      <td>95.0</td>\n",
       "      <td>2.0</td>\n",
       "      <td>118.0</td>\n",
       "      <td>NaN</td>\n",
       "      <td>NaN</td>\n",
       "      <td>72.0</td>\n",
       "      <td>112.0</td>\n",
       "    </tr>\n",
       "    <tr>\n",
       "      <th>4</th>\n",
       "      <td>2024-01-01</td>\n",
       "      <td>AU</td>\n",
       "      <td>Brisbane</td>\n",
       "      <td>24.0</td>\n",
       "      <td>192.0</td>\n",
       "      <td>216.0</td>\n",
       "      <td>NaN</td>\n",
       "      <td>134.0</td>\n",
       "      <td>72.0</td>\n",
       "      <td>NaN</td>\n",
       "      <td>215.0</td>\n",
       "      <td>212.0</td>\n",
       "      <td>102.0</td>\n",
       "      <td>216.0</td>\n",
       "      <td>5.0</td>\n",
       "      <td>208.0</td>\n",
       "      <td>NaN</td>\n",
       "      <td>216.0</td>\n",
       "      <td>26.0</td>\n",
       "      <td>216.0</td>\n",
       "    </tr>\n",
       "  </tbody>\n",
       "</table>\n",
       "</div>"
      ],
      "text/plain": [
       "Specie       Date Country          City    co    dew  humidity  neph    no2  \\\n",
       "0      2024-01-01      AE     Abu Dhabi  24.0  132.0     186.0   NaN  120.0   \n",
       "1      2024-01-01      AE         Dubai  87.0  140.0     144.0   NaN   87.0   \n",
       "2      2024-01-01      AR  Buenos Aires  68.0   44.0      92.0   NaN   47.0   \n",
       "3      2024-01-01      AU      Adelaide  24.0   46.0     118.0   NaN   69.0   \n",
       "4      2024-01-01      AU      Brisbane  24.0  192.0     216.0   NaN  134.0   \n",
       "\n",
       "Specie     o3  pm1   pm10   pm25  precipitation  pressure    so2  temperature  \\\n",
       "0       119.0  NaN  120.0   24.0            NaN     192.0  120.0        192.0   \n",
       "1        90.0  NaN   74.0   26.0            NaN     144.0   87.0        144.0   \n",
       "2        24.0  NaN   75.0   24.0            2.0      92.0    8.0         92.0   \n",
       "3        72.0  NaN  120.0   72.0            NaN      95.0    2.0        118.0   \n",
       "4        72.0  NaN  215.0  212.0          102.0     216.0    5.0        208.0   \n",
       "\n",
       "Specie  uvi     wd  wind-gust  wind-speed  \n",
       "0       NaN    NaN        NaN       184.0  \n",
       "1       NaN    NaN        NaN       144.0  \n",
       "2       NaN   21.0       48.0        92.0  \n",
       "3       NaN    NaN       72.0       112.0  \n",
       "4       NaN  216.0       26.0       216.0  "
      ]
     },
     "execution_count": 6,
     "metadata": {},
     "output_type": "execute_result"
    }
   ],
   "source": [
    "print(data_df_2024.shape)\n",
    "data_df_2024.head()"
   ]
  },
  {
   "cell_type": "code",
   "execution_count": 7,
   "id": "40756ee6",
   "metadata": {
    "execution": {
     "iopub.execute_input": "2024-12-30T03:22:23.681153Z",
     "iopub.status.busy": "2024-12-30T03:22:23.680747Z",
     "iopub.status.idle": "2024-12-30T03:22:23.701571Z",
     "shell.execute_reply": "2024-12-30T03:22:23.700464Z"
    },
    "executionInfo": {
     "elapsed": 7,
     "status": "ok",
     "timestamp": 1734445418344,
     "user": {
      "displayName": "Tahmida Majumder",
      "userId": "15415648085337204568"
     },
     "user_tz": -480
    },
    "id": "KZi3vcfqU_wH",
    "outputId": "6c69afaa-9d12-40da-b88a-92ed834ee111",
    "papermill": {
     "duration": 0.061643,
     "end_time": "2024-12-30T03:22:23.703325",
     "exception": false,
     "start_time": "2024-12-30T03:22:23.641682",
     "status": "completed"
    },
    "tags": []
   },
   "outputs": [
    {
     "data": {
      "text/plain": [
       "Specie\n",
       "Date                  0\n",
       "Country               0\n",
       "City                  0\n",
       "co                41979\n",
       "dew               16512\n",
       "humidity            443\n",
       "neph             103462\n",
       "no2               13599\n",
       "o3                32845\n",
       "pm1              103527\n",
       "pm10               8580\n",
       "pm25              14538\n",
       "precipitation     91177\n",
       "pressure           1341\n",
       "so2               29919\n",
       "temperature         577\n",
       "uvi              100969\n",
       "wd               102117\n",
       "wind-gust         58262\n",
       "wind-speed         2387\n",
       "dtype: int64"
      ]
     },
     "execution_count": 7,
     "metadata": {},
     "output_type": "execute_result"
    }
   ],
   "source": [
    "data_df_2024.isnull().sum()"
   ]
  },
  {
   "cell_type": "markdown",
   "id": "d824cf9f",
   "metadata": {
    "id": "TK5W8oRPV2sQ",
    "papermill": {
     "duration": 0.037397,
     "end_time": "2024-12-30T03:22:23.778315",
     "exception": false,
     "start_time": "2024-12-30T03:22:23.740918",
     "status": "completed"
    },
    "tags": []
   },
   "source": [
    "# 2023_Q1"
   ]
  },
  {
   "cell_type": "code",
   "execution_count": 8,
   "id": "d5979617",
   "metadata": {
    "execution": {
     "iopub.execute_input": "2024-12-30T03:22:23.854675Z",
     "iopub.status.busy": "2024-12-30T03:22:23.854265Z",
     "iopub.status.idle": "2024-12-30T03:22:24.409287Z",
     "shell.execute_reply": "2024-12-30T03:22:24.408197Z"
    },
    "executionInfo": {
     "elapsed": 1444,
     "status": "ok",
     "timestamp": 1734445419782,
     "user": {
      "displayName": "Tahmida Majumder",
      "userId": "15415648085337204568"
     },
     "user_tz": -480
    },
    "id": "lJK9ahVCjTGd",
    "outputId": "38a9d229-7253-4f6e-ccaa-14e12d6cdfbd",
    "papermill": {
     "duration": 0.595146,
     "end_time": "2024-12-30T03:22:24.410924",
     "exception": false,
     "start_time": "2024-12-30T03:22:23.815778",
     "status": "completed"
    },
    "tags": []
   },
   "outputs": [
    {
     "name": "stdout",
     "output_type": "stream",
     "text": [
      "(553335, 5)\n"
     ]
    },
    {
     "data": {
      "text/html": [
       "<div>\n",
       "<style scoped>\n",
       "    .dataframe tbody tr th:only-of-type {\n",
       "        vertical-align: middle;\n",
       "    }\n",
       "\n",
       "    .dataframe tbody tr th {\n",
       "        vertical-align: top;\n",
       "    }\n",
       "\n",
       "    .dataframe thead th {\n",
       "        text-align: right;\n",
       "    }\n",
       "</style>\n",
       "<table border=\"1\" class=\"dataframe\">\n",
       "  <thead>\n",
       "    <tr style=\"text-align: right;\">\n",
       "      <th></th>\n",
       "      <th>Date</th>\n",
       "      <th>Country</th>\n",
       "      <th>City</th>\n",
       "      <th>Specie</th>\n",
       "      <th>count</th>\n",
       "    </tr>\n",
       "  </thead>\n",
       "  <tbody>\n",
       "    <tr>\n",
       "      <th>0</th>\n",
       "      <td>4/2/2023</td>\n",
       "      <td>BH</td>\n",
       "      <td>Manama</td>\n",
       "      <td>pressure</td>\n",
       "      <td>24</td>\n",
       "    </tr>\n",
       "    <tr>\n",
       "      <th>1</th>\n",
       "      <td>4/2/2023</td>\n",
       "      <td>BH</td>\n",
       "      <td>Manama</td>\n",
       "      <td>pm25</td>\n",
       "      <td>10</td>\n",
       "    </tr>\n",
       "    <tr>\n",
       "      <th>2</th>\n",
       "      <td>4/2/2023</td>\n",
       "      <td>BH</td>\n",
       "      <td>Manama</td>\n",
       "      <td>temperature</td>\n",
       "      <td>24</td>\n",
       "    </tr>\n",
       "    <tr>\n",
       "      <th>3</th>\n",
       "      <td>4/2/2023</td>\n",
       "      <td>BH</td>\n",
       "      <td>Manama</td>\n",
       "      <td>humidity</td>\n",
       "      <td>24</td>\n",
       "    </tr>\n",
       "    <tr>\n",
       "      <th>4</th>\n",
       "      <td>4/2/2023</td>\n",
       "      <td>LK</td>\n",
       "      <td>Colombo</td>\n",
       "      <td>dew</td>\n",
       "      <td>20</td>\n",
       "    </tr>\n",
       "    <tr>\n",
       "      <th>5</th>\n",
       "      <td>4/2/2023</td>\n",
       "      <td>LK</td>\n",
       "      <td>Colombo</td>\n",
       "      <td>temperature</td>\n",
       "      <td>22</td>\n",
       "    </tr>\n",
       "    <tr>\n",
       "      <th>6</th>\n",
       "      <td>4/2/2023</td>\n",
       "      <td>LK</td>\n",
       "      <td>Colombo</td>\n",
       "      <td>humidity</td>\n",
       "      <td>22</td>\n",
       "    </tr>\n",
       "    <tr>\n",
       "      <th>7</th>\n",
       "      <td>4/2/2023</td>\n",
       "      <td>LK</td>\n",
       "      <td>Colombo</td>\n",
       "      <td>pressure</td>\n",
       "      <td>22</td>\n",
       "    </tr>\n",
       "    <tr>\n",
       "      <th>8</th>\n",
       "      <td>4/2/2023</td>\n",
       "      <td>LK</td>\n",
       "      <td>Colombo</td>\n",
       "      <td>wind-speed</td>\n",
       "      <td>22</td>\n",
       "    </tr>\n",
       "    <tr>\n",
       "      <th>9</th>\n",
       "      <td>4/2/2023</td>\n",
       "      <td>LK</td>\n",
       "      <td>Colombo</td>\n",
       "      <td>pm25</td>\n",
       "      <td>24</td>\n",
       "    </tr>\n",
       "  </tbody>\n",
       "</table>\n",
       "</div>"
      ],
      "text/plain": [
       "       Date Country     City       Specie  count\n",
       "0  4/2/2023      BH   Manama     pressure     24\n",
       "1  4/2/2023      BH   Manama         pm25     10\n",
       "2  4/2/2023      BH   Manama  temperature     24\n",
       "3  4/2/2023      BH   Manama     humidity     24\n",
       "4  4/2/2023      LK  Colombo          dew     20\n",
       "5  4/2/2023      LK  Colombo  temperature     22\n",
       "6  4/2/2023      LK  Colombo     humidity     22\n",
       "7  4/2/2023      LK  Colombo     pressure     22\n",
       "8  4/2/2023      LK  Colombo   wind-speed     22\n",
       "9  4/2/2023      LK  Colombo         pm25     24"
      ]
     },
     "execution_count": 8,
     "metadata": {},
     "output_type": "execute_result"
    }
   ],
   "source": [
    "# Loading the data\n",
    "raw_data_2023_Q1 = pd.read_csv(r\"/kaggle/input/data-for-combine/airqualitydata-2023Q1.csv\")\n",
    "\n",
    "# print the shape\n",
    "print(raw_data_2023_Q1.shape)\n",
    "\n",
    "#runs the first 5 rows\n",
    "raw_data_2023_Q1.head(10)"
   ]
  },
  {
   "cell_type": "code",
   "execution_count": 9,
   "id": "8222c21a",
   "metadata": {
    "execution": {
     "iopub.execute_input": "2024-12-30T03:22:24.489141Z",
     "iopub.status.busy": "2024-12-30T03:22:24.488802Z",
     "iopub.status.idle": "2024-12-30T03:22:24.545896Z",
     "shell.execute_reply": "2024-12-30T03:22:24.545006Z"
    },
    "id": "FQuE6s68jrTe",
    "papermill": {
     "duration": 0.099148,
     "end_time": "2024-12-30T03:22:24.547694",
     "exception": false,
     "start_time": "2024-12-30T03:22:24.448546",
     "status": "completed"
    },
    "tags": []
   },
   "outputs": [],
   "source": [
    "# Convert 'Date' to datetime\n",
    "raw_data_2023_Q1['Date'] = pd.to_datetime(raw_data_2023_Q1['Date'])"
   ]
  },
  {
   "cell_type": "code",
   "execution_count": 10,
   "id": "80b753fa",
   "metadata": {
    "execution": {
     "iopub.execute_input": "2024-12-30T03:22:24.624441Z",
     "iopub.status.busy": "2024-12-30T03:22:24.624085Z",
     "iopub.status.idle": "2024-12-30T03:22:24.629344Z",
     "shell.execute_reply": "2024-12-30T03:22:24.628437Z"
    },
    "executionInfo": {
     "elapsed": 9,
     "status": "ok",
     "timestamp": 1734445419782,
     "user": {
      "displayName": "Tahmida Majumder",
      "userId": "15415648085337204568"
     },
     "user_tz": -480
    },
    "id": "f8VkcrBkjy40",
    "outputId": "b8e6eee3-71f3-4705-d29f-b197dd8af8a3",
    "papermill": {
     "duration": 0.045426,
     "end_time": "2024-12-30T03:22:24.630877",
     "exception": false,
     "start_time": "2024-12-30T03:22:24.585451",
     "status": "completed"
    },
    "tags": []
   },
   "outputs": [
    {
     "data": {
      "text/plain": [
       "(553335, 5)"
      ]
     },
     "execution_count": 10,
     "metadata": {},
     "output_type": "execute_result"
    }
   ],
   "source": [
    "raw_data_2023_Q1.shape"
   ]
  },
  {
   "cell_type": "code",
   "execution_count": 11,
   "id": "5a60e69c",
   "metadata": {
    "execution": {
     "iopub.execute_input": "2024-12-30T03:22:24.710969Z",
     "iopub.status.busy": "2024-12-30T03:22:24.710587Z",
     "iopub.status.idle": "2024-12-30T03:22:25.064401Z",
     "shell.execute_reply": "2024-12-30T03:22:25.063343Z"
    },
    "id": "FZcov_NSj1vM",
    "papermill": {
     "duration": 0.396746,
     "end_time": "2024-12-30T03:22:25.066557",
     "exception": false,
     "start_time": "2024-12-30T03:22:24.669811",
     "status": "completed"
    },
    "tags": []
   },
   "outputs": [],
   "source": [
    "# Pivot the data\n",
    "data_df_2023_Q1 = raw_data_2023_Q1.pivot_table(\n",
    "    index=['Date', 'Country', 'City'],  # Grouping columns\n",
    "    columns='Specie',                  # Unique values become columns\n",
    "    values='count',                   # Values to aggregate\n",
    "    aggfunc='mean'                     # Aggregation function\n",
    ").reset_index()\n"
   ]
  },
  {
   "cell_type": "code",
   "execution_count": 12,
   "id": "ed0e2a53",
   "metadata": {
    "cellView": "form",
    "execution": {
     "iopub.execute_input": "2024-12-30T03:22:25.145408Z",
     "iopub.status.busy": "2024-12-30T03:22:25.145067Z",
     "iopub.status.idle": "2024-12-30T03:22:25.171446Z",
     "shell.execute_reply": "2024-12-30T03:22:25.170493Z"
    },
    "executionInfo": {
     "elapsed": 11,
     "status": "ok",
     "timestamp": 1734445420200,
     "user": {
      "displayName": "Tahmida Majumder",
      "userId": "15415648085337204568"
     },
     "user_tz": -480
    },
    "id": "MIFdzoOGkBDe",
    "outputId": "fb1ae07d-9969-438b-97ad-4aaa91dde2c3",
    "papermill": {
     "duration": 0.067323,
     "end_time": "2024-12-30T03:22:25.173072",
     "exception": false,
     "start_time": "2024-12-30T03:22:25.105749",
     "status": "completed"
    },
    "tags": []
   },
   "outputs": [
    {
     "name": "stdout",
     "output_type": "stream",
     "text": [
      "(54535, 22)\n"
     ]
    },
    {
     "data": {
      "text/html": [
       "<div>\n",
       "<style scoped>\n",
       "    .dataframe tbody tr th:only-of-type {\n",
       "        vertical-align: middle;\n",
       "    }\n",
       "\n",
       "    .dataframe tbody tr th {\n",
       "        vertical-align: top;\n",
       "    }\n",
       "\n",
       "    .dataframe thead th {\n",
       "        text-align: right;\n",
       "    }\n",
       "</style>\n",
       "<table border=\"1\" class=\"dataframe\">\n",
       "  <thead>\n",
       "    <tr style=\"text-align: right;\">\n",
       "      <th>Specie</th>\n",
       "      <th>Date</th>\n",
       "      <th>Country</th>\n",
       "      <th>City</th>\n",
       "      <th>aqi</th>\n",
       "      <th>co</th>\n",
       "      <th>dew</th>\n",
       "      <th>humidity</th>\n",
       "      <th>mepaqi</th>\n",
       "      <th>neph</th>\n",
       "      <th>no2</th>\n",
       "      <th>...</th>\n",
       "      <th>pm10</th>\n",
       "      <th>pm25</th>\n",
       "      <th>precipitation</th>\n",
       "      <th>pressure</th>\n",
       "      <th>so2</th>\n",
       "      <th>temperature</th>\n",
       "      <th>uvi</th>\n",
       "      <th>wd</th>\n",
       "      <th>wind-gust</th>\n",
       "      <th>wind-speed</th>\n",
       "    </tr>\n",
       "  </thead>\n",
       "  <tbody>\n",
       "    <tr>\n",
       "      <th>0</th>\n",
       "      <td>2022-12-26</td>\n",
       "      <td>AE</td>\n",
       "      <td>Abu Dhabi</td>\n",
       "      <td>NaN</td>\n",
       "      <td>13.0</td>\n",
       "      <td>128.0</td>\n",
       "      <td>192.0</td>\n",
       "      <td>NaN</td>\n",
       "      <td>NaN</td>\n",
       "      <td>118.0</td>\n",
       "      <td>...</td>\n",
       "      <td>118.0</td>\n",
       "      <td>24.0</td>\n",
       "      <td>NaN</td>\n",
       "      <td>192.0</td>\n",
       "      <td>118.0</td>\n",
       "      <td>192.0</td>\n",
       "      <td>NaN</td>\n",
       "      <td>NaN</td>\n",
       "      <td>46.0</td>\n",
       "      <td>174.0</td>\n",
       "    </tr>\n",
       "    <tr>\n",
       "      <th>1</th>\n",
       "      <td>2022-12-26</td>\n",
       "      <td>AE</td>\n",
       "      <td>Dubai</td>\n",
       "      <td>NaN</td>\n",
       "      <td>NaN</td>\n",
       "      <td>16.0</td>\n",
       "      <td>24.0</td>\n",
       "      <td>NaN</td>\n",
       "      <td>NaN</td>\n",
       "      <td>NaN</td>\n",
       "      <td>...</td>\n",
       "      <td>NaN</td>\n",
       "      <td>24.0</td>\n",
       "      <td>NaN</td>\n",
       "      <td>24.0</td>\n",
       "      <td>NaN</td>\n",
       "      <td>24.0</td>\n",
       "      <td>NaN</td>\n",
       "      <td>NaN</td>\n",
       "      <td>NaN</td>\n",
       "      <td>24.0</td>\n",
       "    </tr>\n",
       "    <tr>\n",
       "      <th>2</th>\n",
       "      <td>2022-12-26</td>\n",
       "      <td>AR</td>\n",
       "      <td>Buenos Aires</td>\n",
       "      <td>NaN</td>\n",
       "      <td>43.0</td>\n",
       "      <td>22.0</td>\n",
       "      <td>71.0</td>\n",
       "      <td>NaN</td>\n",
       "      <td>NaN</td>\n",
       "      <td>12.0</td>\n",
       "      <td>...</td>\n",
       "      <td>17.0</td>\n",
       "      <td>NaN</td>\n",
       "      <td>NaN</td>\n",
       "      <td>71.0</td>\n",
       "      <td>18.0</td>\n",
       "      <td>71.0</td>\n",
       "      <td>NaN</td>\n",
       "      <td>22.0</td>\n",
       "      <td>34.0</td>\n",
       "      <td>38.0</td>\n",
       "    </tr>\n",
       "    <tr>\n",
       "      <th>3</th>\n",
       "      <td>2022-12-26</td>\n",
       "      <td>AT</td>\n",
       "      <td>Graz</td>\n",
       "      <td>NaN</td>\n",
       "      <td>39.0</td>\n",
       "      <td>147.0</td>\n",
       "      <td>216.0</td>\n",
       "      <td>NaN</td>\n",
       "      <td>NaN</td>\n",
       "      <td>189.0</td>\n",
       "      <td>...</td>\n",
       "      <td>214.0</td>\n",
       "      <td>24.0</td>\n",
       "      <td>NaN</td>\n",
       "      <td>216.0</td>\n",
       "      <td>88.0</td>\n",
       "      <td>216.0</td>\n",
       "      <td>NaN</td>\n",
       "      <td>NaN</td>\n",
       "      <td>NaN</td>\n",
       "      <td>126.0</td>\n",
       "    </tr>\n",
       "    <tr>\n",
       "      <th>4</th>\n",
       "      <td>2022-12-26</td>\n",
       "      <td>AT</td>\n",
       "      <td>Innsbruck</td>\n",
       "      <td>NaN</td>\n",
       "      <td>13.0</td>\n",
       "      <td>69.0</td>\n",
       "      <td>72.0</td>\n",
       "      <td>NaN</td>\n",
       "      <td>NaN</td>\n",
       "      <td>71.0</td>\n",
       "      <td>...</td>\n",
       "      <td>65.0</td>\n",
       "      <td>NaN</td>\n",
       "      <td>NaN</td>\n",
       "      <td>72.0</td>\n",
       "      <td>6.0</td>\n",
       "      <td>72.0</td>\n",
       "      <td>NaN</td>\n",
       "      <td>NaN</td>\n",
       "      <td>24.0</td>\n",
       "      <td>72.0</td>\n",
       "    </tr>\n",
       "  </tbody>\n",
       "</table>\n",
       "<p>5 rows × 22 columns</p>\n",
       "</div>"
      ],
      "text/plain": [
       "Specie       Date Country          City  aqi    co    dew  humidity  mepaqi  \\\n",
       "0      2022-12-26      AE     Abu Dhabi  NaN  13.0  128.0     192.0     NaN   \n",
       "1      2022-12-26      AE         Dubai  NaN   NaN   16.0      24.0     NaN   \n",
       "2      2022-12-26      AR  Buenos Aires  NaN  43.0   22.0      71.0     NaN   \n",
       "3      2022-12-26      AT          Graz  NaN  39.0  147.0     216.0     NaN   \n",
       "4      2022-12-26      AT     Innsbruck  NaN  13.0   69.0      72.0     NaN   \n",
       "\n",
       "Specie  neph    no2  ...   pm10  pm25  precipitation  pressure    so2  \\\n",
       "0        NaN  118.0  ...  118.0  24.0            NaN     192.0  118.0   \n",
       "1        NaN    NaN  ...    NaN  24.0            NaN      24.0    NaN   \n",
       "2        NaN   12.0  ...   17.0   NaN            NaN      71.0   18.0   \n",
       "3        NaN  189.0  ...  214.0  24.0            NaN     216.0   88.0   \n",
       "4        NaN   71.0  ...   65.0   NaN            NaN      72.0    6.0   \n",
       "\n",
       "Specie  temperature  uvi    wd  wind-gust  wind-speed  \n",
       "0             192.0  NaN   NaN       46.0       174.0  \n",
       "1              24.0  NaN   NaN        NaN        24.0  \n",
       "2              71.0  NaN  22.0       34.0        38.0  \n",
       "3             216.0  NaN   NaN        NaN       126.0  \n",
       "4              72.0  NaN   NaN       24.0        72.0  \n",
       "\n",
       "[5 rows x 22 columns]"
      ]
     },
     "execution_count": 12,
     "metadata": {},
     "output_type": "execute_result"
    }
   ],
   "source": [
    "print(data_df_2023_Q1.shape)\n",
    "data_df_2023_Q1.head()"
   ]
  },
  {
   "cell_type": "code",
   "execution_count": 13,
   "id": "9dd66cf8",
   "metadata": {
    "execution": {
     "iopub.execute_input": "2024-12-30T03:22:25.252086Z",
     "iopub.status.busy": "2024-12-30T03:22:25.251743Z",
     "iopub.status.idle": "2024-12-30T03:22:25.266195Z",
     "shell.execute_reply": "2024-12-30T03:22:25.265130Z"
    },
    "executionInfo": {
     "elapsed": 7,
     "status": "ok",
     "timestamp": 1734445420200,
     "user": {
      "displayName": "Tahmida Majumder",
      "userId": "15415648085337204568"
     },
     "user_tz": -480
    },
    "id": "STIfeqmakbsN",
    "outputId": "b5b5eec3-5a38-42e3-d176-9fd400390c6a",
    "papermill": {
     "duration": 0.055933,
     "end_time": "2024-12-30T03:22:25.267929",
     "exception": false,
     "start_time": "2024-12-30T03:22:25.211996",
     "status": "completed"
    },
    "tags": []
   },
   "outputs": [
    {
     "data": {
      "text/plain": [
       "Specie\n",
       "Date                 0\n",
       "Country              0\n",
       "City                 0\n",
       "aqi              53716\n",
       "co               20563\n",
       "dew              10232\n",
       "humidity           192\n",
       "mepaqi           54437\n",
       "neph             54339\n",
       "no2               9381\n",
       "o3               12986\n",
       "pm1              54255\n",
       "pm10              9970\n",
       "pm25              6880\n",
       "precipitation    48004\n",
       "pressure           324\n",
       "so2              16332\n",
       "temperature        106\n",
       "uvi              53557\n",
       "wd               50771\n",
       "wind-gust        25751\n",
       "wind-speed        1034\n",
       "dtype: int64"
      ]
     },
     "execution_count": 13,
     "metadata": {},
     "output_type": "execute_result"
    }
   ],
   "source": [
    "data_df_2023_Q1.isnull().sum()"
   ]
  },
  {
   "cell_type": "code",
   "execution_count": null,
   "id": "ff1a04ba",
   "metadata": {
    "id": "eGWahjkooqpz",
    "papermill": {
     "duration": 0.038206,
     "end_time": "2024-12-30T03:22:25.344845",
     "exception": false,
     "start_time": "2024-12-30T03:22:25.306639",
     "status": "completed"
    },
    "tags": []
   },
   "outputs": [],
   "source": []
  },
  {
   "cell_type": "markdown",
   "id": "70af18ac",
   "metadata": {
    "id": "enZ5-ZNNWCau",
    "papermill": {
     "duration": 0.038539,
     "end_time": "2024-12-30T03:22:25.422891",
     "exception": false,
     "start_time": "2024-12-30T03:22:25.384352",
     "status": "completed"
    },
    "tags": []
   },
   "source": [
    "# 2023_Q2"
   ]
  },
  {
   "cell_type": "code",
   "execution_count": 14,
   "id": "4dd5af95",
   "metadata": {
    "execution": {
     "iopub.execute_input": "2024-12-30T03:22:25.503721Z",
     "iopub.status.busy": "2024-12-30T03:22:25.503324Z",
     "iopub.status.idle": "2024-12-30T03:22:26.060936Z",
     "shell.execute_reply": "2024-12-30T03:22:26.059093Z"
    },
    "executionInfo": {
     "elapsed": 426,
     "status": "ok",
     "timestamp": 1734445420620,
     "user": {
      "displayName": "Tahmida Majumder",
      "userId": "15415648085337204568"
     },
     "user_tz": -480
    },
    "id": "5vEBWIVToq_X",
    "outputId": "dff81ce9-0c01-4222-d909-7b4731ba9f42",
    "papermill": {
     "duration": 0.601119,
     "end_time": "2024-12-30T03:22:26.062816",
     "exception": false,
     "start_time": "2024-12-30T03:22:25.461697",
     "status": "completed"
    },
    "tags": []
   },
   "outputs": [
    {
     "name": "stdout",
     "output_type": "stream",
     "text": [
      "(564703, 5)\n"
     ]
    },
    {
     "data": {
      "text/html": [
       "<div>\n",
       "<style scoped>\n",
       "    .dataframe tbody tr th:only-of-type {\n",
       "        vertical-align: middle;\n",
       "    }\n",
       "\n",
       "    .dataframe tbody tr th {\n",
       "        vertical-align: top;\n",
       "    }\n",
       "\n",
       "    .dataframe thead th {\n",
       "        text-align: right;\n",
       "    }\n",
       "</style>\n",
       "<table border=\"1\" class=\"dataframe\">\n",
       "  <thead>\n",
       "    <tr style=\"text-align: right;\">\n",
       "      <th></th>\n",
       "      <th>Date</th>\n",
       "      <th>Country</th>\n",
       "      <th>City</th>\n",
       "      <th>Specie</th>\n",
       "      <th>count</th>\n",
       "    </tr>\n",
       "  </thead>\n",
       "  <tbody>\n",
       "    <tr>\n",
       "      <th>0</th>\n",
       "      <td>7/2/2023</td>\n",
       "      <td>DZ</td>\n",
       "      <td>Algiers</td>\n",
       "      <td>pressure</td>\n",
       "      <td>24</td>\n",
       "    </tr>\n",
       "    <tr>\n",
       "      <th>1</th>\n",
       "      <td>7/2/2023</td>\n",
       "      <td>DZ</td>\n",
       "      <td>Algiers</td>\n",
       "      <td>wind-speed</td>\n",
       "      <td>24</td>\n",
       "    </tr>\n",
       "    <tr>\n",
       "      <th>2</th>\n",
       "      <td>7/2/2023</td>\n",
       "      <td>DZ</td>\n",
       "      <td>Algiers</td>\n",
       "      <td>dew</td>\n",
       "      <td>23</td>\n",
       "    </tr>\n",
       "    <tr>\n",
       "      <th>3</th>\n",
       "      <td>7/2/2023</td>\n",
       "      <td>DZ</td>\n",
       "      <td>Algiers</td>\n",
       "      <td>temperature</td>\n",
       "      <td>24</td>\n",
       "    </tr>\n",
       "    <tr>\n",
       "      <th>4</th>\n",
       "      <td>7/2/2023</td>\n",
       "      <td>DZ</td>\n",
       "      <td>Algiers</td>\n",
       "      <td>humidity</td>\n",
       "      <td>24</td>\n",
       "    </tr>\n",
       "    <tr>\n",
       "      <th>5</th>\n",
       "      <td>7/2/2023</td>\n",
       "      <td>DZ</td>\n",
       "      <td>Algiers</td>\n",
       "      <td>pm25</td>\n",
       "      <td>24</td>\n",
       "    </tr>\n",
       "    <tr>\n",
       "      <th>6</th>\n",
       "      <td>7/2/2023</td>\n",
       "      <td>IT</td>\n",
       "      <td>Bologna</td>\n",
       "      <td>temperature</td>\n",
       "      <td>96</td>\n",
       "    </tr>\n",
       "    <tr>\n",
       "      <th>7</th>\n",
       "      <td>7/2/2023</td>\n",
       "      <td>IT</td>\n",
       "      <td>Bologna</td>\n",
       "      <td>pm25</td>\n",
       "      <td>96</td>\n",
       "    </tr>\n",
       "    <tr>\n",
       "      <th>8</th>\n",
       "      <td>7/2/2023</td>\n",
       "      <td>IT</td>\n",
       "      <td>Bologna</td>\n",
       "      <td>humidity</td>\n",
       "      <td>96</td>\n",
       "    </tr>\n",
       "    <tr>\n",
       "      <th>9</th>\n",
       "      <td>7/2/2023</td>\n",
       "      <td>IT</td>\n",
       "      <td>Bologna</td>\n",
       "      <td>o3</td>\n",
       "      <td>96</td>\n",
       "    </tr>\n",
       "  </tbody>\n",
       "</table>\n",
       "</div>"
      ],
      "text/plain": [
       "       Date Country     City       Specie  count\n",
       "0  7/2/2023      DZ  Algiers     pressure     24\n",
       "1  7/2/2023      DZ  Algiers   wind-speed     24\n",
       "2  7/2/2023      DZ  Algiers          dew     23\n",
       "3  7/2/2023      DZ  Algiers  temperature     24\n",
       "4  7/2/2023      DZ  Algiers     humidity     24\n",
       "5  7/2/2023      DZ  Algiers         pm25     24\n",
       "6  7/2/2023      IT  Bologna  temperature     96\n",
       "7  7/2/2023      IT  Bologna         pm25     96\n",
       "8  7/2/2023      IT  Bologna     humidity     96\n",
       "9  7/2/2023      IT  Bologna           o3     96"
      ]
     },
     "execution_count": 14,
     "metadata": {},
     "output_type": "execute_result"
    }
   ],
   "source": [
    "# Loading the data\n",
    "raw_data_2023_Q2 = pd.read_csv(r\"/kaggle/input/data-for-combine/airqualitydata-2023Q2.csv\")\n",
    "\n",
    "# print the shape\n",
    "print(raw_data_2023_Q2.shape)\n",
    "\n",
    "#runs the first 5 rows\n",
    "raw_data_2023_Q2.head(10)"
   ]
  },
  {
   "cell_type": "code",
   "execution_count": 15,
   "id": "af63d08a",
   "metadata": {
    "execution": {
     "iopub.execute_input": "2024-12-30T03:22:26.148427Z",
     "iopub.status.busy": "2024-12-30T03:22:26.148070Z",
     "iopub.status.idle": "2024-12-30T03:22:26.214618Z",
     "shell.execute_reply": "2024-12-30T03:22:26.213653Z"
    },
    "id": "e0NZtVbIpC0V",
    "papermill": {
     "duration": 0.11127,
     "end_time": "2024-12-30T03:22:26.216280",
     "exception": false,
     "start_time": "2024-12-30T03:22:26.105010",
     "status": "completed"
    },
    "tags": []
   },
   "outputs": [],
   "source": [
    "# Convert 'Date' to datetime\n",
    "raw_data_2023_Q2['Date'] = pd.to_datetime(raw_data_2023_Q2['Date'])"
   ]
  },
  {
   "cell_type": "code",
   "execution_count": 16,
   "id": "5b2ffdd9",
   "metadata": {
    "execution": {
     "iopub.execute_input": "2024-12-30T03:22:26.295713Z",
     "iopub.status.busy": "2024-12-30T03:22:26.295275Z",
     "iopub.status.idle": "2024-12-30T03:22:26.301344Z",
     "shell.execute_reply": "2024-12-30T03:22:26.300371Z"
    },
    "executionInfo": {
     "elapsed": 7,
     "status": "ok",
     "timestamp": 1734445420621,
     "user": {
      "displayName": "Tahmida Majumder",
      "userId": "15415648085337204568"
     },
     "user_tz": -480
    },
    "id": "BUtlKAl2pYgH",
    "outputId": "645ffa67-69d8-401c-a95e-c36877b3448c",
    "papermill": {
     "duration": 0.048019,
     "end_time": "2024-12-30T03:22:26.303084",
     "exception": false,
     "start_time": "2024-12-30T03:22:26.255065",
     "status": "completed"
    },
    "tags": []
   },
   "outputs": [
    {
     "data": {
      "text/plain": [
       "(564703, 5)"
      ]
     },
     "execution_count": 16,
     "metadata": {},
     "output_type": "execute_result"
    }
   ],
   "source": [
    "raw_data_2023_Q2.shape"
   ]
  },
  {
   "cell_type": "code",
   "execution_count": 17,
   "id": "a12c8e2a",
   "metadata": {
    "execution": {
     "iopub.execute_input": "2024-12-30T03:22:26.383291Z",
     "iopub.status.busy": "2024-12-30T03:22:26.382931Z",
     "iopub.status.idle": "2024-12-30T03:22:26.815245Z",
     "shell.execute_reply": "2024-12-30T03:22:26.814269Z"
    },
    "id": "CPkWhbJQpgz2",
    "papermill": {
     "duration": 0.475633,
     "end_time": "2024-12-30T03:22:26.818220",
     "exception": false,
     "start_time": "2024-12-30T03:22:26.342587",
     "status": "completed"
    },
    "tags": []
   },
   "outputs": [],
   "source": [
    "# Pivot the data\n",
    "data_df_2023_Q2 = raw_data_2023_Q2.pivot_table(\n",
    "    index=['Date', 'Country', 'City'],  # Grouping columns\n",
    "    columns='Specie',                  # Unique values become columns\n",
    "    values='count',                   # Values to aggregate\n",
    "    aggfunc='mean'                     # Aggregation function\n",
    ").reset_index()\n"
   ]
  },
  {
   "cell_type": "code",
   "execution_count": 18,
   "id": "39817050",
   "metadata": {
    "execution": {
     "iopub.execute_input": "2024-12-30T03:22:26.910156Z",
     "iopub.status.busy": "2024-12-30T03:22:26.909824Z",
     "iopub.status.idle": "2024-12-30T03:22:26.935165Z",
     "shell.execute_reply": "2024-12-30T03:22:26.934138Z"
    },
    "executionInfo": {
     "elapsed": 12,
     "status": "ok",
     "timestamp": 1734445421619,
     "user": {
      "displayName": "Tahmida Majumder",
      "userId": "15415648085337204568"
     },
     "user_tz": -480
    },
    "id": "BKi-RIYAptUD",
    "outputId": "965baf5c-5018-4367-cc8b-f10880025ed4",
    "papermill": {
     "duration": 0.067213,
     "end_time": "2024-12-30T03:22:26.936681",
     "exception": false,
     "start_time": "2024-12-30T03:22:26.869468",
     "status": "completed"
    },
    "tags": []
   },
   "outputs": [
    {
     "name": "stdout",
     "output_type": "stream",
     "text": [
      "(55730, 22)\n"
     ]
    },
    {
     "data": {
      "text/html": [
       "<div>\n",
       "<style scoped>\n",
       "    .dataframe tbody tr th:only-of-type {\n",
       "        vertical-align: middle;\n",
       "    }\n",
       "\n",
       "    .dataframe tbody tr th {\n",
       "        vertical-align: top;\n",
       "    }\n",
       "\n",
       "    .dataframe thead th {\n",
       "        text-align: right;\n",
       "    }\n",
       "</style>\n",
       "<table border=\"1\" class=\"dataframe\">\n",
       "  <thead>\n",
       "    <tr style=\"text-align: right;\">\n",
       "      <th>Specie</th>\n",
       "      <th>Date</th>\n",
       "      <th>Country</th>\n",
       "      <th>City</th>\n",
       "      <th>aqi</th>\n",
       "      <th>co</th>\n",
       "      <th>dew</th>\n",
       "      <th>humidity</th>\n",
       "      <th>mepaqi</th>\n",
       "      <th>neph</th>\n",
       "      <th>no2</th>\n",
       "      <th>...</th>\n",
       "      <th>pm10</th>\n",
       "      <th>pm25</th>\n",
       "      <th>precipitation</th>\n",
       "      <th>pressure</th>\n",
       "      <th>so2</th>\n",
       "      <th>temperature</th>\n",
       "      <th>uvi</th>\n",
       "      <th>wd</th>\n",
       "      <th>wind-gust</th>\n",
       "      <th>wind-speed</th>\n",
       "    </tr>\n",
       "  </thead>\n",
       "  <tbody>\n",
       "    <tr>\n",
       "      <th>0</th>\n",
       "      <td>2023-03-27</td>\n",
       "      <td>AE</td>\n",
       "      <td>Abu Dhabi</td>\n",
       "      <td>NaN</td>\n",
       "      <td>22.0</td>\n",
       "      <td>144.0</td>\n",
       "      <td>192.0</td>\n",
       "      <td>NaN</td>\n",
       "      <td>NaN</td>\n",
       "      <td>117.0</td>\n",
       "      <td>...</td>\n",
       "      <td>101.0</td>\n",
       "      <td>18.0</td>\n",
       "      <td>NaN</td>\n",
       "      <td>192.0</td>\n",
       "      <td>117.0</td>\n",
       "      <td>192.0</td>\n",
       "      <td>NaN</td>\n",
       "      <td>NaN</td>\n",
       "      <td>54.0</td>\n",
       "      <td>192.0</td>\n",
       "    </tr>\n",
       "    <tr>\n",
       "      <th>1</th>\n",
       "      <td>2023-03-27</td>\n",
       "      <td>AE</td>\n",
       "      <td>Dubai</td>\n",
       "      <td>NaN</td>\n",
       "      <td>NaN</td>\n",
       "      <td>20.0</td>\n",
       "      <td>24.0</td>\n",
       "      <td>NaN</td>\n",
       "      <td>NaN</td>\n",
       "      <td>NaN</td>\n",
       "      <td>...</td>\n",
       "      <td>NaN</td>\n",
       "      <td>24.0</td>\n",
       "      <td>NaN</td>\n",
       "      <td>24.0</td>\n",
       "      <td>NaN</td>\n",
       "      <td>24.0</td>\n",
       "      <td>NaN</td>\n",
       "      <td>NaN</td>\n",
       "      <td>NaN</td>\n",
       "      <td>24.0</td>\n",
       "    </tr>\n",
       "    <tr>\n",
       "      <th>2</th>\n",
       "      <td>2023-03-27</td>\n",
       "      <td>AR</td>\n",
       "      <td>Buenos Aires</td>\n",
       "      <td>NaN</td>\n",
       "      <td>73.0</td>\n",
       "      <td>46.0</td>\n",
       "      <td>94.0</td>\n",
       "      <td>NaN</td>\n",
       "      <td>NaN</td>\n",
       "      <td>44.0</td>\n",
       "      <td>...</td>\n",
       "      <td>45.0</td>\n",
       "      <td>NaN</td>\n",
       "      <td>NaN</td>\n",
       "      <td>94.0</td>\n",
       "      <td>23.0</td>\n",
       "      <td>94.0</td>\n",
       "      <td>NaN</td>\n",
       "      <td>19.0</td>\n",
       "      <td>30.0</td>\n",
       "      <td>64.0</td>\n",
       "    </tr>\n",
       "    <tr>\n",
       "      <th>3</th>\n",
       "      <td>2023-03-27</td>\n",
       "      <td>AT</td>\n",
       "      <td>Graz</td>\n",
       "      <td>NaN</td>\n",
       "      <td>53.0</td>\n",
       "      <td>161.0</td>\n",
       "      <td>216.0</td>\n",
       "      <td>NaN</td>\n",
       "      <td>NaN</td>\n",
       "      <td>161.0</td>\n",
       "      <td>...</td>\n",
       "      <td>212.0</td>\n",
       "      <td>3.0</td>\n",
       "      <td>7.0</td>\n",
       "      <td>216.0</td>\n",
       "      <td>64.0</td>\n",
       "      <td>216.0</td>\n",
       "      <td>NaN</td>\n",
       "      <td>NaN</td>\n",
       "      <td>NaN</td>\n",
       "      <td>161.0</td>\n",
       "    </tr>\n",
       "    <tr>\n",
       "      <th>4</th>\n",
       "      <td>2023-03-27</td>\n",
       "      <td>AT</td>\n",
       "      <td>Innsbruck</td>\n",
       "      <td>NaN</td>\n",
       "      <td>7.0</td>\n",
       "      <td>23.0</td>\n",
       "      <td>72.0</td>\n",
       "      <td>NaN</td>\n",
       "      <td>NaN</td>\n",
       "      <td>64.0</td>\n",
       "      <td>...</td>\n",
       "      <td>54.0</td>\n",
       "      <td>NaN</td>\n",
       "      <td>3.0</td>\n",
       "      <td>72.0</td>\n",
       "      <td>18.0</td>\n",
       "      <td>72.0</td>\n",
       "      <td>NaN</td>\n",
       "      <td>NaN</td>\n",
       "      <td>72.0</td>\n",
       "      <td>72.0</td>\n",
       "    </tr>\n",
       "  </tbody>\n",
       "</table>\n",
       "<p>5 rows × 22 columns</p>\n",
       "</div>"
      ],
      "text/plain": [
       "Specie       Date Country          City  aqi    co    dew  humidity  mepaqi  \\\n",
       "0      2023-03-27      AE     Abu Dhabi  NaN  22.0  144.0     192.0     NaN   \n",
       "1      2023-03-27      AE         Dubai  NaN   NaN   20.0      24.0     NaN   \n",
       "2      2023-03-27      AR  Buenos Aires  NaN  73.0   46.0      94.0     NaN   \n",
       "3      2023-03-27      AT          Graz  NaN  53.0  161.0     216.0     NaN   \n",
       "4      2023-03-27      AT     Innsbruck  NaN   7.0   23.0      72.0     NaN   \n",
       "\n",
       "Specie  neph    no2  ...   pm10  pm25  precipitation  pressure    so2  \\\n",
       "0        NaN  117.0  ...  101.0  18.0            NaN     192.0  117.0   \n",
       "1        NaN    NaN  ...    NaN  24.0            NaN      24.0    NaN   \n",
       "2        NaN   44.0  ...   45.0   NaN            NaN      94.0   23.0   \n",
       "3        NaN  161.0  ...  212.0   3.0            7.0     216.0   64.0   \n",
       "4        NaN   64.0  ...   54.0   NaN            3.0      72.0   18.0   \n",
       "\n",
       "Specie  temperature  uvi    wd  wind-gust  wind-speed  \n",
       "0             192.0  NaN   NaN       54.0       192.0  \n",
       "1              24.0  NaN   NaN        NaN        24.0  \n",
       "2              94.0  NaN  19.0       30.0        64.0  \n",
       "3             216.0  NaN   NaN        NaN       161.0  \n",
       "4              72.0  NaN   NaN       72.0        72.0  \n",
       "\n",
       "[5 rows x 22 columns]"
      ]
     },
     "execution_count": 18,
     "metadata": {},
     "output_type": "execute_result"
    }
   ],
   "source": [
    "print(data_df_2023_Q2.shape)\n",
    "data_df_2023_Q2.head()"
   ]
  },
  {
   "cell_type": "code",
   "execution_count": 19,
   "id": "91ab3be8",
   "metadata": {
    "execution": {
     "iopub.execute_input": "2024-12-30T03:22:27.017430Z",
     "iopub.status.busy": "2024-12-30T03:22:27.017083Z",
     "iopub.status.idle": "2024-12-30T03:22:27.030858Z",
     "shell.execute_reply": "2024-12-30T03:22:27.029823Z"
    },
    "executionInfo": {
     "elapsed": 8,
     "status": "ok",
     "timestamp": 1734445421619,
     "user": {
      "displayName": "Tahmida Majumder",
      "userId": "15415648085337204568"
     },
     "user_tz": -480
    },
    "id": "ZB66ln4Lp3PI",
    "outputId": "1dbc8623-eb83-4a88-c64a-cfa883194649",
    "papermill": {
     "duration": 0.056299,
     "end_time": "2024-12-30T03:22:27.032464",
     "exception": false,
     "start_time": "2024-12-30T03:22:26.976165",
     "status": "completed"
    },
    "tags": []
   },
   "outputs": [
    {
     "data": {
      "text/plain": [
       "Specie\n",
       "Date                 0\n",
       "Country              0\n",
       "City                 0\n",
       "aqi              54358\n",
       "co               21724\n",
       "dew              11112\n",
       "humidity           206\n",
       "mepaqi           55632\n",
       "neph             55534\n",
       "no2               9257\n",
       "o3               12462\n",
       "pm1              55479\n",
       "pm10             10038\n",
       "pm25              7057\n",
       "precipitation    49911\n",
       "pressure           391\n",
       "so2              17226\n",
       "temperature        150\n",
       "uvi              54759\n",
       "wd               51871\n",
       "wind-gust        25758\n",
       "wind-speed        1242\n",
       "dtype: int64"
      ]
     },
     "execution_count": 19,
     "metadata": {},
     "output_type": "execute_result"
    }
   ],
   "source": [
    "data_df_2023_Q2.isnull().sum()"
   ]
  },
  {
   "cell_type": "markdown",
   "id": "44ca6e22",
   "metadata": {
    "id": "NzGm9wFEWInj",
    "papermill": {
     "duration": 0.039575,
     "end_time": "2024-12-30T03:22:27.111869",
     "exception": false,
     "start_time": "2024-12-30T03:22:27.072294",
     "status": "completed"
    },
    "tags": []
   },
   "source": [
    "# 2023_Q3"
   ]
  },
  {
   "cell_type": "code",
   "execution_count": 20,
   "id": "182d11e5",
   "metadata": {
    "execution": {
     "iopub.execute_input": "2024-12-30T03:22:27.191709Z",
     "iopub.status.busy": "2024-12-30T03:22:27.191313Z",
     "iopub.status.idle": "2024-12-30T03:22:27.484457Z",
     "shell.execute_reply": "2024-12-30T03:22:27.483399Z"
    },
    "executionInfo": {
     "elapsed": 394,
     "status": "ok",
     "timestamp": 1734445422006,
     "user": {
      "displayName": "Tahmida Majumder",
      "userId": "15415648085337204568"
     },
     "user_tz": -480
    },
    "id": "YPhZZpfTotON",
    "outputId": "72aecce4-09d7-4988-9826-c92f2869761e",
    "papermill": {
     "duration": 0.334765,
     "end_time": "2024-12-30T03:22:27.486088",
     "exception": false,
     "start_time": "2024-12-30T03:22:27.151323",
     "status": "completed"
    },
    "tags": []
   },
   "outputs": [
    {
     "name": "stdout",
     "output_type": "stream",
     "text": [
      "(255419, 5)\n"
     ]
    },
    {
     "data": {
      "text/html": [
       "<div>\n",
       "<style scoped>\n",
       "    .dataframe tbody tr th:only-of-type {\n",
       "        vertical-align: middle;\n",
       "    }\n",
       "\n",
       "    .dataframe tbody tr th {\n",
       "        vertical-align: top;\n",
       "    }\n",
       "\n",
       "    .dataframe thead th {\n",
       "        text-align: right;\n",
       "    }\n",
       "</style>\n",
       "<table border=\"1\" class=\"dataframe\">\n",
       "  <thead>\n",
       "    <tr style=\"text-align: right;\">\n",
       "      <th></th>\n",
       "      <th>Date</th>\n",
       "      <th>Country</th>\n",
       "      <th>City</th>\n",
       "      <th>Specie</th>\n",
       "      <th>count</th>\n",
       "    </tr>\n",
       "  </thead>\n",
       "  <tbody>\n",
       "    <tr>\n",
       "      <th>0</th>\n",
       "      <td>10/1/2023</td>\n",
       "      <td>JP</td>\n",
       "      <td>Kumamoto</td>\n",
       "      <td>so2</td>\n",
       "      <td>25</td>\n",
       "    </tr>\n",
       "    <tr>\n",
       "      <th>1</th>\n",
       "      <td>10/1/2023</td>\n",
       "      <td>JP</td>\n",
       "      <td>Kumamoto</td>\n",
       "      <td>no2</td>\n",
       "      <td>244</td>\n",
       "    </tr>\n",
       "    <tr>\n",
       "      <th>2</th>\n",
       "      <td>10/1/2023</td>\n",
       "      <td>JP</td>\n",
       "      <td>Kumamoto</td>\n",
       "      <td>wind-speed</td>\n",
       "      <td>352</td>\n",
       "    </tr>\n",
       "    <tr>\n",
       "      <th>3</th>\n",
       "      <td>10/1/2023</td>\n",
       "      <td>JP</td>\n",
       "      <td>Kumamoto</td>\n",
       "      <td>co</td>\n",
       "      <td>190</td>\n",
       "    </tr>\n",
       "    <tr>\n",
       "      <th>4</th>\n",
       "      <td>10/1/2023</td>\n",
       "      <td>JP</td>\n",
       "      <td>Kumamoto</td>\n",
       "      <td>pm10</td>\n",
       "      <td>308</td>\n",
       "    </tr>\n",
       "    <tr>\n",
       "      <th>5</th>\n",
       "      <td>10/1/2023</td>\n",
       "      <td>JP</td>\n",
       "      <td>Kumamoto</td>\n",
       "      <td>humidity</td>\n",
       "      <td>352</td>\n",
       "    </tr>\n",
       "    <tr>\n",
       "      <th>6</th>\n",
       "      <td>10/1/2023</td>\n",
       "      <td>JP</td>\n",
       "      <td>Kumamoto</td>\n",
       "      <td>o3</td>\n",
       "      <td>312</td>\n",
       "    </tr>\n",
       "    <tr>\n",
       "      <th>7</th>\n",
       "      <td>10/1/2023</td>\n",
       "      <td>JP</td>\n",
       "      <td>Kumamoto</td>\n",
       "      <td>pm25</td>\n",
       "      <td>332</td>\n",
       "    </tr>\n",
       "    <tr>\n",
       "      <th>8</th>\n",
       "      <td>10/1/2023</td>\n",
       "      <td>JP</td>\n",
       "      <td>Kumamoto</td>\n",
       "      <td>pressure</td>\n",
       "      <td>352</td>\n",
       "    </tr>\n",
       "    <tr>\n",
       "      <th>9</th>\n",
       "      <td>10/1/2023</td>\n",
       "      <td>JP</td>\n",
       "      <td>Kumamoto</td>\n",
       "      <td>precipitation</td>\n",
       "      <td>36</td>\n",
       "    </tr>\n",
       "  </tbody>\n",
       "</table>\n",
       "</div>"
      ],
      "text/plain": [
       "        Date Country      City         Specie  count\n",
       "0  10/1/2023      JP  Kumamoto            so2     25\n",
       "1  10/1/2023      JP  Kumamoto            no2    244\n",
       "2  10/1/2023      JP  Kumamoto     wind-speed    352\n",
       "3  10/1/2023      JP  Kumamoto             co    190\n",
       "4  10/1/2023      JP  Kumamoto           pm10    308\n",
       "5  10/1/2023      JP  Kumamoto       humidity    352\n",
       "6  10/1/2023      JP  Kumamoto             o3    312\n",
       "7  10/1/2023      JP  Kumamoto           pm25    332\n",
       "8  10/1/2023      JP  Kumamoto       pressure    352\n",
       "9  10/1/2023      JP  Kumamoto  precipitation     36"
      ]
     },
     "execution_count": 20,
     "metadata": {},
     "output_type": "execute_result"
    }
   ],
   "source": [
    "# Loading the data\n",
    "raw_data_2023_Q3 = pd.read_csv(r\"/kaggle/input/data-for-combine/airqualitydata-2023Q3.csv\")\n",
    "\n",
    "# print the shape\n",
    "print(raw_data_2023_Q3.shape)\n",
    "\n",
    "#runs the first 5 rows\n",
    "raw_data_2023_Q3.head(10)"
   ]
  },
  {
   "cell_type": "code",
   "execution_count": 21,
   "id": "68d2d2d1",
   "metadata": {
    "execution": {
     "iopub.execute_input": "2024-12-30T03:22:27.569970Z",
     "iopub.status.busy": "2024-12-30T03:22:27.569604Z",
     "iopub.status.idle": "2024-12-30T03:22:27.601655Z",
     "shell.execute_reply": "2024-12-30T03:22:27.600823Z"
    },
    "id": "egnxcT2UpMuV",
    "papermill": {
     "duration": 0.07454,
     "end_time": "2024-12-30T03:22:27.603552",
     "exception": false,
     "start_time": "2024-12-30T03:22:27.529012",
     "status": "completed"
    },
    "tags": []
   },
   "outputs": [],
   "source": [
    "# Convert 'Date' to datetime\n",
    "raw_data_2023_Q3['Date'] = pd.to_datetime(raw_data_2023_Q3['Date'])"
   ]
  },
  {
   "cell_type": "code",
   "execution_count": 22,
   "id": "e1706776",
   "metadata": {
    "execution": {
     "iopub.execute_input": "2024-12-30T03:22:27.685897Z",
     "iopub.status.busy": "2024-12-30T03:22:27.685113Z",
     "iopub.status.idle": "2024-12-30T03:22:27.691619Z",
     "shell.execute_reply": "2024-12-30T03:22:27.690586Z"
    },
    "executionInfo": {
     "elapsed": 8,
     "status": "ok",
     "timestamp": 1734445422007,
     "user": {
      "displayName": "Tahmida Majumder",
      "userId": "15415648085337204568"
     },
     "user_tz": -480
    },
    "id": "vOvM6fDlpaAi",
    "outputId": "41886017-a791-4866-ea2c-d82414ed3d88",
    "papermill": {
     "duration": 0.050113,
     "end_time": "2024-12-30T03:22:27.693353",
     "exception": false,
     "start_time": "2024-12-30T03:22:27.643240",
     "status": "completed"
    },
    "tags": []
   },
   "outputs": [
    {
     "data": {
      "text/plain": [
       "(255419, 5)"
      ]
     },
     "execution_count": 22,
     "metadata": {},
     "output_type": "execute_result"
    }
   ],
   "source": [
    "raw_data_2023_Q3.shape"
   ]
  },
  {
   "cell_type": "code",
   "execution_count": 23,
   "id": "02c28818",
   "metadata": {
    "execution": {
     "iopub.execute_input": "2024-12-30T03:22:27.776254Z",
     "iopub.status.busy": "2024-12-30T03:22:27.775900Z",
     "iopub.status.idle": "2024-12-30T03:22:27.932776Z",
     "shell.execute_reply": "2024-12-30T03:22:27.931665Z"
    },
    "id": "4JO0oj4upiAU",
    "papermill": {
     "duration": 0.199569,
     "end_time": "2024-12-30T03:22:27.934739",
     "exception": false,
     "start_time": "2024-12-30T03:22:27.735170",
     "status": "completed"
    },
    "tags": []
   },
   "outputs": [],
   "source": [
    "# Pivot the data\n",
    "data_df_2023_Q3 = raw_data_2023_Q3.pivot_table(\n",
    "    index=['Date', 'Country', 'City'],  # Grouping columns\n",
    "    columns='Specie',                  # Unique values become columns\n",
    "    values='count',                   # Values to aggregate\n",
    "    aggfunc='mean'                     # Aggregation function\n",
    ").reset_index()\n"
   ]
  },
  {
   "cell_type": "code",
   "execution_count": 24,
   "id": "cd3ec5c0",
   "metadata": {
    "execution": {
     "iopub.execute_input": "2024-12-30T03:22:28.016192Z",
     "iopub.status.busy": "2024-12-30T03:22:28.015844Z",
     "iopub.status.idle": "2024-12-30T03:22:28.041447Z",
     "shell.execute_reply": "2024-12-30T03:22:28.040342Z"
    },
    "executionInfo": {
     "elapsed": 416,
     "status": "ok",
     "timestamp": 1734445422417,
     "user": {
      "displayName": "Tahmida Majumder",
      "userId": "15415648085337204568"
     },
     "user_tz": -480
    },
    "id": "IOPN1iyrpuXD",
    "outputId": "04d7043f-dced-4ae7-9aef-524a2155aede",
    "papermill": {
     "duration": 0.068596,
     "end_time": "2024-12-30T03:22:28.043421",
     "exception": false,
     "start_time": "2024-12-30T03:22:27.974825",
     "status": "completed"
    },
    "tags": []
   },
   "outputs": [
    {
     "name": "stdout",
     "output_type": "stream",
     "text": [
      "(25197, 21)\n"
     ]
    },
    {
     "data": {
      "text/html": [
       "<div>\n",
       "<style scoped>\n",
       "    .dataframe tbody tr th:only-of-type {\n",
       "        vertical-align: middle;\n",
       "    }\n",
       "\n",
       "    .dataframe tbody tr th {\n",
       "        vertical-align: top;\n",
       "    }\n",
       "\n",
       "    .dataframe thead th {\n",
       "        text-align: right;\n",
       "    }\n",
       "</style>\n",
       "<table border=\"1\" class=\"dataframe\">\n",
       "  <thead>\n",
       "    <tr style=\"text-align: right;\">\n",
       "      <th>Specie</th>\n",
       "      <th>Date</th>\n",
       "      <th>Country</th>\n",
       "      <th>City</th>\n",
       "      <th>aqi</th>\n",
       "      <th>co</th>\n",
       "      <th>dew</th>\n",
       "      <th>humidity</th>\n",
       "      <th>mepaqi</th>\n",
       "      <th>neph</th>\n",
       "      <th>no2</th>\n",
       "      <th>...</th>\n",
       "      <th>pm1</th>\n",
       "      <th>pm10</th>\n",
       "      <th>pm25</th>\n",
       "      <th>precipitation</th>\n",
       "      <th>pressure</th>\n",
       "      <th>so2</th>\n",
       "      <th>temperature</th>\n",
       "      <th>wd</th>\n",
       "      <th>wind-gust</th>\n",
       "      <th>wind-speed</th>\n",
       "    </tr>\n",
       "  </thead>\n",
       "  <tbody>\n",
       "    <tr>\n",
       "      <th>0</th>\n",
       "      <td>2023-06-26</td>\n",
       "      <td>AE</td>\n",
       "      <td>Abu Dhabi</td>\n",
       "      <td>NaN</td>\n",
       "      <td>11.0</td>\n",
       "      <td>136.0</td>\n",
       "      <td>144.0</td>\n",
       "      <td>NaN</td>\n",
       "      <td>NaN</td>\n",
       "      <td>51.0</td>\n",
       "      <td>...</td>\n",
       "      <td>NaN</td>\n",
       "      <td>55.0</td>\n",
       "      <td>24.0</td>\n",
       "      <td>NaN</td>\n",
       "      <td>144.0</td>\n",
       "      <td>50.0</td>\n",
       "      <td>192.0</td>\n",
       "      <td>NaN</td>\n",
       "      <td>NaN</td>\n",
       "      <td>144.0</td>\n",
       "    </tr>\n",
       "    <tr>\n",
       "      <th>1</th>\n",
       "      <td>2023-06-26</td>\n",
       "      <td>AE</td>\n",
       "      <td>Dubai</td>\n",
       "      <td>NaN</td>\n",
       "      <td>NaN</td>\n",
       "      <td>16.0</td>\n",
       "      <td>24.0</td>\n",
       "      <td>NaN</td>\n",
       "      <td>NaN</td>\n",
       "      <td>NaN</td>\n",
       "      <td>...</td>\n",
       "      <td>NaN</td>\n",
       "      <td>NaN</td>\n",
       "      <td>24.0</td>\n",
       "      <td>NaN</td>\n",
       "      <td>24.0</td>\n",
       "      <td>NaN</td>\n",
       "      <td>24.0</td>\n",
       "      <td>NaN</td>\n",
       "      <td>NaN</td>\n",
       "      <td>24.0</td>\n",
       "    </tr>\n",
       "    <tr>\n",
       "      <th>2</th>\n",
       "      <td>2023-06-26</td>\n",
       "      <td>AR</td>\n",
       "      <td>Buenos Aires</td>\n",
       "      <td>NaN</td>\n",
       "      <td>96.0</td>\n",
       "      <td>48.0</td>\n",
       "      <td>95.0</td>\n",
       "      <td>NaN</td>\n",
       "      <td>NaN</td>\n",
       "      <td>48.0</td>\n",
       "      <td>...</td>\n",
       "      <td>NaN</td>\n",
       "      <td>88.0</td>\n",
       "      <td>24.0</td>\n",
       "      <td>NaN</td>\n",
       "      <td>95.0</td>\n",
       "      <td>22.0</td>\n",
       "      <td>95.0</td>\n",
       "      <td>19.0</td>\n",
       "      <td>16.0</td>\n",
       "      <td>47.0</td>\n",
       "    </tr>\n",
       "    <tr>\n",
       "      <th>3</th>\n",
       "      <td>2023-06-26</td>\n",
       "      <td>AU</td>\n",
       "      <td>Adelaide</td>\n",
       "      <td>NaN</td>\n",
       "      <td>23.0</td>\n",
       "      <td>22.0</td>\n",
       "      <td>82.0</td>\n",
       "      <td>NaN</td>\n",
       "      <td>NaN</td>\n",
       "      <td>62.0</td>\n",
       "      <td>...</td>\n",
       "      <td>NaN</td>\n",
       "      <td>96.0</td>\n",
       "      <td>91.0</td>\n",
       "      <td>2.0</td>\n",
       "      <td>82.0</td>\n",
       "      <td>NaN</td>\n",
       "      <td>82.0</td>\n",
       "      <td>NaN</td>\n",
       "      <td>59.0</td>\n",
       "      <td>75.0</td>\n",
       "    </tr>\n",
       "    <tr>\n",
       "      <th>4</th>\n",
       "      <td>2023-06-26</td>\n",
       "      <td>AU</td>\n",
       "      <td>Brisbane</td>\n",
       "      <td>NaN</td>\n",
       "      <td>35.0</td>\n",
       "      <td>176.0</td>\n",
       "      <td>200.0</td>\n",
       "      <td>NaN</td>\n",
       "      <td>NaN</td>\n",
       "      <td>138.0</td>\n",
       "      <td>...</td>\n",
       "      <td>NaN</td>\n",
       "      <td>207.0</td>\n",
       "      <td>195.0</td>\n",
       "      <td>NaN</td>\n",
       "      <td>216.0</td>\n",
       "      <td>35.0</td>\n",
       "      <td>200.0</td>\n",
       "      <td>200.0</td>\n",
       "      <td>136.0</td>\n",
       "      <td>200.0</td>\n",
       "    </tr>\n",
       "  </tbody>\n",
       "</table>\n",
       "<p>5 rows × 21 columns</p>\n",
       "</div>"
      ],
      "text/plain": [
       "Specie       Date Country          City  aqi    co    dew  humidity  mepaqi  \\\n",
       "0      2023-06-26      AE     Abu Dhabi  NaN  11.0  136.0     144.0     NaN   \n",
       "1      2023-06-26      AE         Dubai  NaN   NaN   16.0      24.0     NaN   \n",
       "2      2023-06-26      AR  Buenos Aires  NaN  96.0   48.0      95.0     NaN   \n",
       "3      2023-06-26      AU      Adelaide  NaN  23.0   22.0      82.0     NaN   \n",
       "4      2023-06-26      AU      Brisbane  NaN  35.0  176.0     200.0     NaN   \n",
       "\n",
       "Specie  neph    no2  ...  pm1   pm10   pm25  precipitation  pressure   so2  \\\n",
       "0        NaN   51.0  ...  NaN   55.0   24.0            NaN     144.0  50.0   \n",
       "1        NaN    NaN  ...  NaN    NaN   24.0            NaN      24.0   NaN   \n",
       "2        NaN   48.0  ...  NaN   88.0   24.0            NaN      95.0  22.0   \n",
       "3        NaN   62.0  ...  NaN   96.0   91.0            2.0      82.0   NaN   \n",
       "4        NaN  138.0  ...  NaN  207.0  195.0            NaN     216.0  35.0   \n",
       "\n",
       "Specie  temperature     wd  wind-gust  wind-speed  \n",
       "0             192.0    NaN        NaN       144.0  \n",
       "1              24.0    NaN        NaN        24.0  \n",
       "2              95.0   19.0       16.0        47.0  \n",
       "3              82.0    NaN       59.0        75.0  \n",
       "4             200.0  200.0      136.0       200.0  \n",
       "\n",
       "[5 rows x 21 columns]"
      ]
     },
     "execution_count": 24,
     "metadata": {},
     "output_type": "execute_result"
    }
   ],
   "source": [
    "print(data_df_2023_Q3.shape)\n",
    "data_df_2023_Q3.head()"
   ]
  },
  {
   "cell_type": "code",
   "execution_count": 25,
   "id": "92b8957c",
   "metadata": {
    "execution": {
     "iopub.execute_input": "2024-12-30T03:22:28.127172Z",
     "iopub.status.busy": "2024-12-30T03:22:28.126760Z",
     "iopub.status.idle": "2024-12-30T03:22:28.137733Z",
     "shell.execute_reply": "2024-12-30T03:22:28.136642Z"
    },
    "executionInfo": {
     "elapsed": 7,
     "status": "ok",
     "timestamp": 1734445422417,
     "user": {
      "displayName": "Tahmida Majumder",
      "userId": "15415648085337204568"
     },
     "user_tz": -480
    },
    "id": "nmU29RmFp4aI",
    "outputId": "840ca7e9-e5b2-4ec1-b8b5-60f43e5204ef",
    "papermill": {
     "duration": 0.054248,
     "end_time": "2024-12-30T03:22:28.139861",
     "exception": false,
     "start_time": "2024-12-30T03:22:28.085613",
     "status": "completed"
    },
    "tags": []
   },
   "outputs": [
    {
     "data": {
      "text/plain": [
       "Specie\n",
       "Date                 0\n",
       "Country              0\n",
       "City                 0\n",
       "aqi              25102\n",
       "co               10340\n",
       "dew               5166\n",
       "humidity            23\n",
       "mepaqi           25099\n",
       "neph             25001\n",
       "no2               4438\n",
       "o3                3734\n",
       "pm1              25100\n",
       "pm10              5937\n",
       "pm25              2644\n",
       "precipitation    21924\n",
       "pressure           169\n",
       "so2               8920\n",
       "temperature          2\n",
       "wd               24217\n",
       "wind-gust         9754\n",
       "wind-speed         557\n",
       "dtype: int64"
      ]
     },
     "execution_count": 25,
     "metadata": {},
     "output_type": "execute_result"
    }
   ],
   "source": [
    "data_df_2023_Q3.isnull().sum()"
   ]
  },
  {
   "cell_type": "code",
   "execution_count": null,
   "id": "b5e054c3",
   "metadata": {
    "id": "ZCn5R1Oqo4ES",
    "papermill": {
     "duration": 0.039916,
     "end_time": "2024-12-30T03:22:28.220214",
     "exception": false,
     "start_time": "2024-12-30T03:22:28.180298",
     "status": "completed"
    },
    "tags": []
   },
   "outputs": [],
   "source": []
  },
  {
   "cell_type": "markdown",
   "id": "283c73f2",
   "metadata": {
    "id": "zx7OUYrpWORd",
    "papermill": {
     "duration": 0.040798,
     "end_time": "2024-12-30T03:22:28.301932",
     "exception": false,
     "start_time": "2024-12-30T03:22:28.261134",
     "status": "completed"
    },
    "tags": []
   },
   "source": [
    "# 2023_Q4"
   ]
  },
  {
   "cell_type": "code",
   "execution_count": 26,
   "id": "0dbb6d52",
   "metadata": {
    "execution": {
     "iopub.execute_input": "2024-12-30T03:22:28.385401Z",
     "iopub.status.busy": "2024-12-30T03:22:28.385001Z",
     "iopub.status.idle": "2024-12-30T03:22:28.632421Z",
     "shell.execute_reply": "2024-12-30T03:22:28.631314Z"
    },
    "executionInfo": {
     "elapsed": 461,
     "status": "ok",
     "timestamp": 1734445422872,
     "user": {
      "displayName": "Tahmida Majumder",
      "userId": "15415648085337204568"
     },
     "user_tz": -480
    },
    "id": "pSl4NkPDot4g",
    "outputId": "6c541288-bf4c-4ab5-f571-68ecaa520f34",
    "papermill": {
     "duration": 0.293267,
     "end_time": "2024-12-30T03:22:28.636082",
     "exception": false,
     "start_time": "2024-12-30T03:22:28.342815",
     "status": "completed"
    },
    "tags": []
   },
   "outputs": [
    {
     "name": "stdout",
     "output_type": "stream",
     "text": [
      "(217731, 5)\n"
     ]
    },
    {
     "data": {
      "text/html": [
       "<div>\n",
       "<style scoped>\n",
       "    .dataframe tbody tr th:only-of-type {\n",
       "        vertical-align: middle;\n",
       "    }\n",
       "\n",
       "    .dataframe tbody tr th {\n",
       "        vertical-align: top;\n",
       "    }\n",
       "\n",
       "    .dataframe thead th {\n",
       "        text-align: right;\n",
       "    }\n",
       "</style>\n",
       "<table border=\"1\" class=\"dataframe\">\n",
       "  <thead>\n",
       "    <tr style=\"text-align: right;\">\n",
       "      <th></th>\n",
       "      <th>Date</th>\n",
       "      <th>Country</th>\n",
       "      <th>City</th>\n",
       "      <th>Specie</th>\n",
       "      <th>count</th>\n",
       "    </tr>\n",
       "  </thead>\n",
       "  <tbody>\n",
       "    <tr>\n",
       "      <th>0</th>\n",
       "      <td>12/31/2023</td>\n",
       "      <td>FI</td>\n",
       "      <td>Turku</td>\n",
       "      <td>pressure</td>\n",
       "      <td>72</td>\n",
       "    </tr>\n",
       "    <tr>\n",
       "      <th>1</th>\n",
       "      <td>12/31/2023</td>\n",
       "      <td>FI</td>\n",
       "      <td>Turku</td>\n",
       "      <td>temperature</td>\n",
       "      <td>72</td>\n",
       "    </tr>\n",
       "    <tr>\n",
       "      <th>2</th>\n",
       "      <td>12/31/2023</td>\n",
       "      <td>FI</td>\n",
       "      <td>Turku</td>\n",
       "      <td>pm10</td>\n",
       "      <td>64</td>\n",
       "    </tr>\n",
       "    <tr>\n",
       "      <th>3</th>\n",
       "      <td>12/31/2023</td>\n",
       "      <td>FI</td>\n",
       "      <td>Turku</td>\n",
       "      <td>humidity</td>\n",
       "      <td>72</td>\n",
       "    </tr>\n",
       "    <tr>\n",
       "      <th>4</th>\n",
       "      <td>12/31/2023</td>\n",
       "      <td>FI</td>\n",
       "      <td>Turku</td>\n",
       "      <td>pm25</td>\n",
       "      <td>21</td>\n",
       "    </tr>\n",
       "    <tr>\n",
       "      <th>5</th>\n",
       "      <td>12/31/2023</td>\n",
       "      <td>FI</td>\n",
       "      <td>Turku</td>\n",
       "      <td>no2</td>\n",
       "      <td>45</td>\n",
       "    </tr>\n",
       "    <tr>\n",
       "      <th>6</th>\n",
       "      <td>12/31/2023</td>\n",
       "      <td>FI</td>\n",
       "      <td>Turku</td>\n",
       "      <td>dew</td>\n",
       "      <td>69</td>\n",
       "    </tr>\n",
       "    <tr>\n",
       "      <th>7</th>\n",
       "      <td>12/31/2023</td>\n",
       "      <td>FI</td>\n",
       "      <td>Turku</td>\n",
       "      <td>wind-speed</td>\n",
       "      <td>72</td>\n",
       "    </tr>\n",
       "    <tr>\n",
       "      <th>8</th>\n",
       "      <td>12/31/2023</td>\n",
       "      <td>FI</td>\n",
       "      <td>Oulu</td>\n",
       "      <td>temperature</td>\n",
       "      <td>48</td>\n",
       "    </tr>\n",
       "    <tr>\n",
       "      <th>9</th>\n",
       "      <td>12/31/2023</td>\n",
       "      <td>FI</td>\n",
       "      <td>Oulu</td>\n",
       "      <td>pm10</td>\n",
       "      <td>48</td>\n",
       "    </tr>\n",
       "  </tbody>\n",
       "</table>\n",
       "</div>"
      ],
      "text/plain": [
       "         Date Country   City       Specie  count\n",
       "0  12/31/2023      FI  Turku     pressure     72\n",
       "1  12/31/2023      FI  Turku  temperature     72\n",
       "2  12/31/2023      FI  Turku         pm10     64\n",
       "3  12/31/2023      FI  Turku     humidity     72\n",
       "4  12/31/2023      FI  Turku         pm25     21\n",
       "5  12/31/2023      FI  Turku          no2     45\n",
       "6  12/31/2023      FI  Turku          dew     69\n",
       "7  12/31/2023      FI  Turku   wind-speed     72\n",
       "8  12/31/2023      FI   Oulu  temperature     48\n",
       "9  12/31/2023      FI   Oulu         pm10     48"
      ]
     },
     "execution_count": 26,
     "metadata": {},
     "output_type": "execute_result"
    }
   ],
   "source": [
    "# Loading the data\n",
    "raw_data_2023_Q4 = pd.read_csv(r\"/kaggle/input/data-for-combine/airqualitydata-2023Q4.csv\")\n",
    "\n",
    "# print the shape\n",
    "print(raw_data_2023_Q4.shape)\n",
    "\n",
    "#runs the first 5 rows\n",
    "raw_data_2023_Q4.head(10)"
   ]
  },
  {
   "cell_type": "code",
   "execution_count": 27,
   "id": "aeb24d69",
   "metadata": {
    "execution": {
     "iopub.execute_input": "2024-12-30T03:22:28.719318Z",
     "iopub.status.busy": "2024-12-30T03:22:28.718983Z",
     "iopub.status.idle": "2024-12-30T03:22:28.747698Z",
     "shell.execute_reply": "2024-12-30T03:22:28.746514Z"
    },
    "id": "svTbkVghpOnR",
    "papermill": {
     "duration": 0.072916,
     "end_time": "2024-12-30T03:22:28.749639",
     "exception": false,
     "start_time": "2024-12-30T03:22:28.676723",
     "status": "completed"
    },
    "tags": []
   },
   "outputs": [],
   "source": [
    "# Convert 'Date' to datetime\n",
    "raw_data_2023_Q4['Date'] = pd.to_datetime(raw_data_2023_Q4['Date'])"
   ]
  },
  {
   "cell_type": "code",
   "execution_count": 28,
   "id": "92abdb52",
   "metadata": {
    "execution": {
     "iopub.execute_input": "2024-12-30T03:22:28.832847Z",
     "iopub.status.busy": "2024-12-30T03:22:28.832357Z",
     "iopub.status.idle": "2024-12-30T03:22:28.838304Z",
     "shell.execute_reply": "2024-12-30T03:22:28.837196Z"
    },
    "executionInfo": {
     "elapsed": 8,
     "status": "ok",
     "timestamp": 1734445422873,
     "user": {
      "displayName": "Tahmida Majumder",
      "userId": "15415648085337204568"
     },
     "user_tz": -480
    },
    "id": "D9JWIFFVpbUZ",
    "outputId": "80ebfeb3-e4e3-4c0c-c1f6-eaf4f678715e",
    "papermill": {
     "duration": 0.049872,
     "end_time": "2024-12-30T03:22:28.840210",
     "exception": false,
     "start_time": "2024-12-30T03:22:28.790338",
     "status": "completed"
    },
    "tags": []
   },
   "outputs": [
    {
     "data": {
      "text/plain": [
       "(217731, 5)"
      ]
     },
     "execution_count": 28,
     "metadata": {},
     "output_type": "execute_result"
    }
   ],
   "source": [
    "raw_data_2023_Q4.shape"
   ]
  },
  {
   "cell_type": "code",
   "execution_count": 29,
   "id": "54903e30",
   "metadata": {
    "execution": {
     "iopub.execute_input": "2024-12-30T03:22:28.925265Z",
     "iopub.status.busy": "2024-12-30T03:22:28.924911Z",
     "iopub.status.idle": "2024-12-30T03:22:29.074663Z",
     "shell.execute_reply": "2024-12-30T03:22:29.073750Z"
    },
    "id": "JEg6HZkRpjGB",
    "papermill": {
     "duration": 0.194234,
     "end_time": "2024-12-30T03:22:29.076598",
     "exception": false,
     "start_time": "2024-12-30T03:22:28.882364",
     "status": "completed"
    },
    "tags": []
   },
   "outputs": [],
   "source": [
    "# Pivot the data\n",
    "data_df_2023_Q4 = raw_data_2023_Q4.pivot_table(\n",
    "    index=['Date', 'Country', 'City'],  # Grouping columns\n",
    "    columns='Specie',                  # Unique values become columns\n",
    "    values='count',                   # Values to aggregate\n",
    "    aggfunc='mean'                     # Aggregation function\n",
    ").reset_index()\n"
   ]
  },
  {
   "cell_type": "code",
   "execution_count": 30,
   "id": "f998171a",
   "metadata": {
    "execution": {
     "iopub.execute_input": "2024-12-30T03:22:29.160178Z",
     "iopub.status.busy": "2024-12-30T03:22:29.159812Z",
     "iopub.status.idle": "2024-12-30T03:22:29.185559Z",
     "shell.execute_reply": "2024-12-30T03:22:29.184562Z"
    },
    "executionInfo": {
     "elapsed": 11,
     "status": "ok",
     "timestamp": 1734445423320,
     "user": {
      "displayName": "Tahmida Majumder",
      "userId": "15415648085337204568"
     },
     "user_tz": -480
    },
    "id": "TK9gogykpwCE",
    "outputId": "9d3dc0f3-f47a-4e33-a8eb-924bde7fa8c3",
    "papermill": {
     "duration": 0.069383,
     "end_time": "2024-12-30T03:22:29.187279",
     "exception": false,
     "start_time": "2024-12-30T03:22:29.117896",
     "status": "completed"
    },
    "tags": []
   },
   "outputs": [
    {
     "name": "stdout",
     "output_type": "stream",
     "text": [
      "(22632, 21)\n"
     ]
    },
    {
     "data": {
      "text/html": [
       "<div>\n",
       "<style scoped>\n",
       "    .dataframe tbody tr th:only-of-type {\n",
       "        vertical-align: middle;\n",
       "    }\n",
       "\n",
       "    .dataframe tbody tr th {\n",
       "        vertical-align: top;\n",
       "    }\n",
       "\n",
       "    .dataframe thead th {\n",
       "        text-align: right;\n",
       "    }\n",
       "</style>\n",
       "<table border=\"1\" class=\"dataframe\">\n",
       "  <thead>\n",
       "    <tr style=\"text-align: right;\">\n",
       "      <th>Specie</th>\n",
       "      <th>Date</th>\n",
       "      <th>Country</th>\n",
       "      <th>City</th>\n",
       "      <th>aqi</th>\n",
       "      <th>co</th>\n",
       "      <th>dew</th>\n",
       "      <th>humidity</th>\n",
       "      <th>mepaqi</th>\n",
       "      <th>no2</th>\n",
       "      <th>o3</th>\n",
       "      <th>...</th>\n",
       "      <th>pm10</th>\n",
       "      <th>pm25</th>\n",
       "      <th>precipitation</th>\n",
       "      <th>pressure</th>\n",
       "      <th>so2</th>\n",
       "      <th>temperature</th>\n",
       "      <th>uvi</th>\n",
       "      <th>wd</th>\n",
       "      <th>wind-gust</th>\n",
       "      <th>wind-speed</th>\n",
       "    </tr>\n",
       "  </thead>\n",
       "  <tbody>\n",
       "    <tr>\n",
       "      <th>0</th>\n",
       "      <td>2023-09-25</td>\n",
       "      <td>AT</td>\n",
       "      <td>Graz</td>\n",
       "      <td>NaN</td>\n",
       "      <td>54.0</td>\n",
       "      <td>161.0</td>\n",
       "      <td>216.0</td>\n",
       "      <td>NaN</td>\n",
       "      <td>185.0</td>\n",
       "      <td>NaN</td>\n",
       "      <td>...</td>\n",
       "      <td>215.0</td>\n",
       "      <td>23.0</td>\n",
       "      <td>NaN</td>\n",
       "      <td>216.0</td>\n",
       "      <td>36.0</td>\n",
       "      <td>216.0</td>\n",
       "      <td>NaN</td>\n",
       "      <td>NaN</td>\n",
       "      <td>44.0</td>\n",
       "      <td>210.0</td>\n",
       "    </tr>\n",
       "    <tr>\n",
       "      <th>1</th>\n",
       "      <td>2023-09-25</td>\n",
       "      <td>AT</td>\n",
       "      <td>Innsbruck</td>\n",
       "      <td>NaN</td>\n",
       "      <td>13.0</td>\n",
       "      <td>NaN</td>\n",
       "      <td>72.0</td>\n",
       "      <td>NaN</td>\n",
       "      <td>70.0</td>\n",
       "      <td>NaN</td>\n",
       "      <td>...</td>\n",
       "      <td>67.0</td>\n",
       "      <td>NaN</td>\n",
       "      <td>NaN</td>\n",
       "      <td>72.0</td>\n",
       "      <td>12.0</td>\n",
       "      <td>72.0</td>\n",
       "      <td>NaN</td>\n",
       "      <td>NaN</td>\n",
       "      <td>18.0</td>\n",
       "      <td>72.0</td>\n",
       "    </tr>\n",
       "    <tr>\n",
       "      <th>2</th>\n",
       "      <td>2023-09-25</td>\n",
       "      <td>AT</td>\n",
       "      <td>Linz</td>\n",
       "      <td>NaN</td>\n",
       "      <td>36.0</td>\n",
       "      <td>21.0</td>\n",
       "      <td>168.0</td>\n",
       "      <td>NaN</td>\n",
       "      <td>163.0</td>\n",
       "      <td>NaN</td>\n",
       "      <td>...</td>\n",
       "      <td>135.0</td>\n",
       "      <td>134.0</td>\n",
       "      <td>NaN</td>\n",
       "      <td>168.0</td>\n",
       "      <td>48.0</td>\n",
       "      <td>168.0</td>\n",
       "      <td>NaN</td>\n",
       "      <td>NaN</td>\n",
       "      <td>144.0</td>\n",
       "      <td>78.0</td>\n",
       "    </tr>\n",
       "    <tr>\n",
       "      <th>3</th>\n",
       "      <td>2023-09-25</td>\n",
       "      <td>AT</td>\n",
       "      <td>Salzburg</td>\n",
       "      <td>NaN</td>\n",
       "      <td>20.0</td>\n",
       "      <td>72.0</td>\n",
       "      <td>72.0</td>\n",
       "      <td>NaN</td>\n",
       "      <td>72.0</td>\n",
       "      <td>NaN</td>\n",
       "      <td>...</td>\n",
       "      <td>68.0</td>\n",
       "      <td>42.0</td>\n",
       "      <td>NaN</td>\n",
       "      <td>72.0</td>\n",
       "      <td>19.0</td>\n",
       "      <td>72.0</td>\n",
       "      <td>NaN</td>\n",
       "      <td>NaN</td>\n",
       "      <td>NaN</td>\n",
       "      <td>72.0</td>\n",
       "    </tr>\n",
       "    <tr>\n",
       "      <th>4</th>\n",
       "      <td>2023-09-25</td>\n",
       "      <td>AT</td>\n",
       "      <td>Vienna</td>\n",
       "      <td>NaN</td>\n",
       "      <td>40.0</td>\n",
       "      <td>46.0</td>\n",
       "      <td>408.0</td>\n",
       "      <td>NaN</td>\n",
       "      <td>361.0</td>\n",
       "      <td>NaN</td>\n",
       "      <td>...</td>\n",
       "      <td>348.0</td>\n",
       "      <td>278.0</td>\n",
       "      <td>NaN</td>\n",
       "      <td>408.0</td>\n",
       "      <td>74.0</td>\n",
       "      <td>408.0</td>\n",
       "      <td>NaN</td>\n",
       "      <td>NaN</td>\n",
       "      <td>288.0</td>\n",
       "      <td>287.0</td>\n",
       "    </tr>\n",
       "  </tbody>\n",
       "</table>\n",
       "<p>5 rows × 21 columns</p>\n",
       "</div>"
      ],
      "text/plain": [
       "Specie       Date Country       City  aqi    co    dew  humidity  mepaqi  \\\n",
       "0      2023-09-25      AT       Graz  NaN  54.0  161.0     216.0     NaN   \n",
       "1      2023-09-25      AT  Innsbruck  NaN  13.0    NaN      72.0     NaN   \n",
       "2      2023-09-25      AT       Linz  NaN  36.0   21.0     168.0     NaN   \n",
       "3      2023-09-25      AT   Salzburg  NaN  20.0   72.0      72.0     NaN   \n",
       "4      2023-09-25      AT     Vienna  NaN  40.0   46.0     408.0     NaN   \n",
       "\n",
       "Specie    no2  o3  ...   pm10   pm25  precipitation  pressure   so2  \\\n",
       "0       185.0 NaN  ...  215.0   23.0            NaN     216.0  36.0   \n",
       "1        70.0 NaN  ...   67.0    NaN            NaN      72.0  12.0   \n",
       "2       163.0 NaN  ...  135.0  134.0            NaN     168.0  48.0   \n",
       "3        72.0 NaN  ...   68.0   42.0            NaN      72.0  19.0   \n",
       "4       361.0 NaN  ...  348.0  278.0            NaN     408.0  74.0   \n",
       "\n",
       "Specie  temperature  uvi  wd  wind-gust  wind-speed  \n",
       "0             216.0  NaN NaN       44.0       210.0  \n",
       "1              72.0  NaN NaN       18.0        72.0  \n",
       "2             168.0  NaN NaN      144.0        78.0  \n",
       "3              72.0  NaN NaN        NaN        72.0  \n",
       "4             408.0  NaN NaN      288.0       287.0  \n",
       "\n",
       "[5 rows x 21 columns]"
      ]
     },
     "execution_count": 30,
     "metadata": {},
     "output_type": "execute_result"
    }
   ],
   "source": [
    "print(data_df_2023_Q4.shape)\n",
    "data_df_2023_Q4.head()"
   ]
  },
  {
   "cell_type": "code",
   "execution_count": 31,
   "id": "88309ba1",
   "metadata": {
    "execution": {
     "iopub.execute_input": "2024-12-30T03:22:29.273163Z",
     "iopub.status.busy": "2024-12-30T03:22:29.272789Z",
     "iopub.status.idle": "2024-12-30T03:22:29.283059Z",
     "shell.execute_reply": "2024-12-30T03:22:29.281948Z"
    },
    "executionInfo": {
     "elapsed": 6,
     "status": "ok",
     "timestamp": 1734445423320,
     "user": {
      "displayName": "Tahmida Majumder",
      "userId": "15415648085337204568"
     },
     "user_tz": -480
    },
    "id": "tVHbYj0dp59i",
    "outputId": "f3cf929b-27ac-48c7-aeea-5604a0aca082",
    "papermill": {
     "duration": 0.05599,
     "end_time": "2024-12-30T03:22:29.284914",
     "exception": false,
     "start_time": "2024-12-30T03:22:29.228924",
     "status": "completed"
    },
    "tags": []
   },
   "outputs": [
    {
     "data": {
      "text/plain": [
       "Specie\n",
       "Date                 0\n",
       "Country              0\n",
       "City                 0\n",
       "aqi              21358\n",
       "co               11602\n",
       "dew               4359\n",
       "humidity            65\n",
       "mepaqi           22534\n",
       "no2               5375\n",
       "o3                7954\n",
       "pm1              22372\n",
       "pm10              5288\n",
       "pm25              5839\n",
       "precipitation    19716\n",
       "pressure           201\n",
       "so2               8084\n",
       "temperature         32\n",
       "uvi              21841\n",
       "wd               21683\n",
       "wind-gust        11027\n",
       "wind-speed         315\n",
       "dtype: int64"
      ]
     },
     "execution_count": 31,
     "metadata": {},
     "output_type": "execute_result"
    }
   ],
   "source": [
    "data_df_2023_Q4.isnull().sum()"
   ]
  },
  {
   "cell_type": "markdown",
   "id": "50718e66",
   "metadata": {
    "id": "QY0v8HWwWVbJ",
    "papermill": {
     "duration": 0.040822,
     "end_time": "2024-12-30T03:22:29.367140",
     "exception": false,
     "start_time": "2024-12-30T03:22:29.326318",
     "status": "completed"
    },
    "tags": []
   },
   "source": [
    "# 2022_Q2"
   ]
  },
  {
   "cell_type": "code",
   "execution_count": 32,
   "id": "ce473916",
   "metadata": {
    "execution": {
     "iopub.execute_input": "2024-12-30T03:22:29.451774Z",
     "iopub.status.busy": "2024-12-30T03:22:29.451360Z",
     "iopub.status.idle": "2024-12-30T03:22:30.064207Z",
     "shell.execute_reply": "2024-12-30T03:22:30.061398Z"
    },
    "executionInfo": {
     "elapsed": 963,
     "status": "ok",
     "timestamp": 1734445424278,
     "user": {
      "displayName": "Tahmida Majumder",
      "userId": "15415648085337204568"
     },
     "user_tz": -480
    },
    "id": "58jUmENe5eqK",
    "outputId": "a45fd0b4-9269-43c8-ff9e-36269f11ba3b",
    "papermill": {
     "duration": 0.659865,
     "end_time": "2024-12-30T03:22:30.069033",
     "exception": false,
     "start_time": "2024-12-30T03:22:29.409168",
     "status": "completed"
    },
    "tags": []
   },
   "outputs": [
    {
     "name": "stdout",
     "output_type": "stream",
     "text": [
      "(573836, 5)\n"
     ]
    },
    {
     "data": {
      "text/html": [
       "<div>\n",
       "<style scoped>\n",
       "    .dataframe tbody tr th:only-of-type {\n",
       "        vertical-align: middle;\n",
       "    }\n",
       "\n",
       "    .dataframe tbody tr th {\n",
       "        vertical-align: top;\n",
       "    }\n",
       "\n",
       "    .dataframe thead th {\n",
       "        text-align: right;\n",
       "    }\n",
       "</style>\n",
       "<table border=\"1\" class=\"dataframe\">\n",
       "  <thead>\n",
       "    <tr style=\"text-align: right;\">\n",
       "      <th></th>\n",
       "      <th>Date</th>\n",
       "      <th>Country</th>\n",
       "      <th>City</th>\n",
       "      <th>Specie</th>\n",
       "      <th>count</th>\n",
       "    </tr>\n",
       "  </thead>\n",
       "  <tbody>\n",
       "    <tr>\n",
       "      <th>0</th>\n",
       "      <td>7/3/2022</td>\n",
       "      <td>GT</td>\n",
       "      <td>Guatemala City</td>\n",
       "      <td>pressure</td>\n",
       "      <td>24</td>\n",
       "    </tr>\n",
       "    <tr>\n",
       "      <th>1</th>\n",
       "      <td>7/3/2022</td>\n",
       "      <td>GT</td>\n",
       "      <td>Guatemala City</td>\n",
       "      <td>wind-speed</td>\n",
       "      <td>23</td>\n",
       "    </tr>\n",
       "    <tr>\n",
       "      <th>2</th>\n",
       "      <td>7/3/2022</td>\n",
       "      <td>GT</td>\n",
       "      <td>Guatemala City</td>\n",
       "      <td>dew</td>\n",
       "      <td>11</td>\n",
       "    </tr>\n",
       "    <tr>\n",
       "      <th>3</th>\n",
       "      <td>7/3/2022</td>\n",
       "      <td>GT</td>\n",
       "      <td>Guatemala City</td>\n",
       "      <td>temperature</td>\n",
       "      <td>24</td>\n",
       "    </tr>\n",
       "    <tr>\n",
       "      <th>4</th>\n",
       "      <td>7/3/2022</td>\n",
       "      <td>GT</td>\n",
       "      <td>Guatemala City</td>\n",
       "      <td>humidity</td>\n",
       "      <td>24</td>\n",
       "    </tr>\n",
       "    <tr>\n",
       "      <th>5</th>\n",
       "      <td>7/3/2022</td>\n",
       "      <td>GT</td>\n",
       "      <td>Guatemala City</td>\n",
       "      <td>pm25</td>\n",
       "      <td>19</td>\n",
       "    </tr>\n",
       "    <tr>\n",
       "      <th>6</th>\n",
       "      <td>7/3/2022</td>\n",
       "      <td>KR</td>\n",
       "      <td>Jeonju</td>\n",
       "      <td>humidity</td>\n",
       "      <td>210</td>\n",
       "    </tr>\n",
       "    <tr>\n",
       "      <th>7</th>\n",
       "      <td>7/3/2022</td>\n",
       "      <td>KR</td>\n",
       "      <td>Jeonju</td>\n",
       "      <td>so2</td>\n",
       "      <td>158</td>\n",
       "    </tr>\n",
       "    <tr>\n",
       "      <th>8</th>\n",
       "      <td>7/3/2022</td>\n",
       "      <td>KR</td>\n",
       "      <td>Jeonju</td>\n",
       "      <td>pm25</td>\n",
       "      <td>233</td>\n",
       "    </tr>\n",
       "    <tr>\n",
       "      <th>9</th>\n",
       "      <td>7/3/2022</td>\n",
       "      <td>KR</td>\n",
       "      <td>Jeonju</td>\n",
       "      <td>precipitation</td>\n",
       "      <td>30</td>\n",
       "    </tr>\n",
       "  </tbody>\n",
       "</table>\n",
       "</div>"
      ],
      "text/plain": [
       "       Date Country            City         Specie  count\n",
       "0  7/3/2022      GT  Guatemala City       pressure     24\n",
       "1  7/3/2022      GT  Guatemala City     wind-speed     23\n",
       "2  7/3/2022      GT  Guatemala City            dew     11\n",
       "3  7/3/2022      GT  Guatemala City    temperature     24\n",
       "4  7/3/2022      GT  Guatemala City       humidity     24\n",
       "5  7/3/2022      GT  Guatemala City           pm25     19\n",
       "6  7/3/2022      KR          Jeonju       humidity    210\n",
       "7  7/3/2022      KR          Jeonju            so2    158\n",
       "8  7/3/2022      KR          Jeonju           pm25    233\n",
       "9  7/3/2022      KR          Jeonju  precipitation     30"
      ]
     },
     "execution_count": 32,
     "metadata": {},
     "output_type": "execute_result"
    }
   ],
   "source": [
    "# Loading the data\n",
    "raw_data_2022_Q2 = pd.read_csv(r\"/kaggle/input/data-for-combine/airqualitydata-2022Q2.csv\")\n",
    "\n",
    "# print the shape\n",
    "print(raw_data_2022_Q2.shape)\n",
    "\n",
    "#runs the first 5 rows\n",
    "raw_data_2022_Q2.head(10)"
   ]
  },
  {
   "cell_type": "code",
   "execution_count": 33,
   "id": "92a70e57",
   "metadata": {
    "execution": {
     "iopub.execute_input": "2024-12-30T03:22:30.167735Z",
     "iopub.status.busy": "2024-12-30T03:22:30.166116Z",
     "iopub.status.idle": "2024-12-30T03:22:30.238918Z",
     "shell.execute_reply": "2024-12-30T03:22:30.237805Z"
    },
    "id": "WRRaOcrK5eqK",
    "papermill": {
     "duration": 0.125066,
     "end_time": "2024-12-30T03:22:30.241268",
     "exception": false,
     "start_time": "2024-12-30T03:22:30.116202",
     "status": "completed"
    },
    "tags": []
   },
   "outputs": [],
   "source": [
    "# Convert 'Date' to datetime\n",
    "raw_data_2022_Q2['Date'] = pd.to_datetime(raw_data_2022_Q2['Date'])"
   ]
  },
  {
   "cell_type": "code",
   "execution_count": 34,
   "id": "1898e3bd",
   "metadata": {
    "execution": {
     "iopub.execute_input": "2024-12-30T03:22:30.334231Z",
     "iopub.status.busy": "2024-12-30T03:22:30.333873Z",
     "iopub.status.idle": "2024-12-30T03:22:30.339580Z",
     "shell.execute_reply": "2024-12-30T03:22:30.338587Z"
    },
    "executionInfo": {
     "elapsed": 8,
     "status": "ok",
     "timestamp": 1734445424279,
     "user": {
      "displayName": "Tahmida Majumder",
      "userId": "15415648085337204568"
     },
     "user_tz": -480
    },
    "id": "EzyYRpJ25eqL",
    "outputId": "21656761-5883-4d1f-9437-70912960c206",
    "papermill": {
     "duration": 0.049886,
     "end_time": "2024-12-30T03:22:30.341445",
     "exception": false,
     "start_time": "2024-12-30T03:22:30.291559",
     "status": "completed"
    },
    "tags": []
   },
   "outputs": [
    {
     "data": {
      "text/plain": [
       "(573836, 5)"
      ]
     },
     "execution_count": 34,
     "metadata": {},
     "output_type": "execute_result"
    }
   ],
   "source": [
    "raw_data_2022_Q2.shape"
   ]
  },
  {
   "cell_type": "code",
   "execution_count": 35,
   "id": "d932ed2b",
   "metadata": {
    "execution": {
     "iopub.execute_input": "2024-12-30T03:22:30.430965Z",
     "iopub.status.busy": "2024-12-30T03:22:30.430588Z",
     "iopub.status.idle": "2024-12-30T03:22:30.830027Z",
     "shell.execute_reply": "2024-12-30T03:22:30.828735Z"
    },
    "id": "sa6wsiuz5eqL",
    "papermill": {
     "duration": 0.443767,
     "end_time": "2024-12-30T03:22:30.832515",
     "exception": false,
     "start_time": "2024-12-30T03:22:30.388748",
     "status": "completed"
    },
    "tags": []
   },
   "outputs": [],
   "source": [
    "# Pivot the data\n",
    "data_df_2022_Q2 = raw_data_2022_Q2.pivot_table(\n",
    "    index=['Date', 'Country', 'City'],  # Grouping columns\n",
    "    columns='Specie',                  # Unique values become columns\n",
    "    values='count',                   # Values to aggregate\n",
    "    aggfunc='mean'                     # Aggregation function\n",
    ").reset_index()\n"
   ]
  },
  {
   "cell_type": "code",
   "execution_count": 36,
   "id": "eabb2b09",
   "metadata": {
    "execution": {
     "iopub.execute_input": "2024-12-30T03:22:30.924418Z",
     "iopub.status.busy": "2024-12-30T03:22:30.923929Z",
     "iopub.status.idle": "2024-12-30T03:22:30.950879Z",
     "shell.execute_reply": "2024-12-30T03:22:30.949798Z"
    },
    "executionInfo": {
     "elapsed": 11,
     "status": "ok",
     "timestamp": 1734445424705,
     "user": {
      "displayName": "Tahmida Majumder",
      "userId": "15415648085337204568"
     },
     "user_tz": -480
    },
    "id": "ouR90SnN5eqL",
    "outputId": "30e9aa2c-b89e-4e26-c740-6544e30b9b38",
    "papermill": {
     "duration": 0.071175,
     "end_time": "2024-12-30T03:22:30.952802",
     "exception": false,
     "start_time": "2024-12-30T03:22:30.881627",
     "status": "completed"
    },
    "tags": []
   },
   "outputs": [
    {
     "name": "stdout",
     "output_type": "stream",
     "text": [
      "(56751, 22)\n"
     ]
    },
    {
     "data": {
      "text/html": [
       "<div>\n",
       "<style scoped>\n",
       "    .dataframe tbody tr th:only-of-type {\n",
       "        vertical-align: middle;\n",
       "    }\n",
       "\n",
       "    .dataframe tbody tr th {\n",
       "        vertical-align: top;\n",
       "    }\n",
       "\n",
       "    .dataframe thead th {\n",
       "        text-align: right;\n",
       "    }\n",
       "</style>\n",
       "<table border=\"1\" class=\"dataframe\">\n",
       "  <thead>\n",
       "    <tr style=\"text-align: right;\">\n",
       "      <th>Specie</th>\n",
       "      <th>Date</th>\n",
       "      <th>Country</th>\n",
       "      <th>City</th>\n",
       "      <th>aqi</th>\n",
       "      <th>co</th>\n",
       "      <th>dew</th>\n",
       "      <th>humidity</th>\n",
       "      <th>mepaqi</th>\n",
       "      <th>neph</th>\n",
       "      <th>no2</th>\n",
       "      <th>...</th>\n",
       "      <th>pm10</th>\n",
       "      <th>pm25</th>\n",
       "      <th>precipitation</th>\n",
       "      <th>pressure</th>\n",
       "      <th>so2</th>\n",
       "      <th>temperature</th>\n",
       "      <th>uvi</th>\n",
       "      <th>wd</th>\n",
       "      <th>wind-gust</th>\n",
       "      <th>wind-speed</th>\n",
       "    </tr>\n",
       "  </thead>\n",
       "  <tbody>\n",
       "    <tr>\n",
       "      <th>0</th>\n",
       "      <td>2022-03-28</td>\n",
       "      <td>AE</td>\n",
       "      <td>Abu Dhabi</td>\n",
       "      <td>NaN</td>\n",
       "      <td>24.0</td>\n",
       "      <td>126.0</td>\n",
       "      <td>192.0</td>\n",
       "      <td>NaN</td>\n",
       "      <td>NaN</td>\n",
       "      <td>120.0</td>\n",
       "      <td>...</td>\n",
       "      <td>120.0</td>\n",
       "      <td>11.0</td>\n",
       "      <td>NaN</td>\n",
       "      <td>192.0</td>\n",
       "      <td>120.0</td>\n",
       "      <td>192.0</td>\n",
       "      <td>NaN</td>\n",
       "      <td>NaN</td>\n",
       "      <td>48.0</td>\n",
       "      <td>192.0</td>\n",
       "    </tr>\n",
       "    <tr>\n",
       "      <th>1</th>\n",
       "      <td>2022-03-28</td>\n",
       "      <td>AE</td>\n",
       "      <td>Dubai</td>\n",
       "      <td>NaN</td>\n",
       "      <td>NaN</td>\n",
       "      <td>17.0</td>\n",
       "      <td>24.0</td>\n",
       "      <td>NaN</td>\n",
       "      <td>NaN</td>\n",
       "      <td>NaN</td>\n",
       "      <td>...</td>\n",
       "      <td>NaN</td>\n",
       "      <td>23.0</td>\n",
       "      <td>NaN</td>\n",
       "      <td>24.0</td>\n",
       "      <td>NaN</td>\n",
       "      <td>24.0</td>\n",
       "      <td>NaN</td>\n",
       "      <td>NaN</td>\n",
       "      <td>NaN</td>\n",
       "      <td>24.0</td>\n",
       "    </tr>\n",
       "    <tr>\n",
       "      <th>2</th>\n",
       "      <td>2022-03-28</td>\n",
       "      <td>AR</td>\n",
       "      <td>Buenos Aires</td>\n",
       "      <td>NaN</td>\n",
       "      <td>13.0</td>\n",
       "      <td>24.0</td>\n",
       "      <td>71.0</td>\n",
       "      <td>NaN</td>\n",
       "      <td>NaN</td>\n",
       "      <td>NaN</td>\n",
       "      <td>...</td>\n",
       "      <td>24.0</td>\n",
       "      <td>24.0</td>\n",
       "      <td>NaN</td>\n",
       "      <td>72.0</td>\n",
       "      <td>24.0</td>\n",
       "      <td>71.0</td>\n",
       "      <td>NaN</td>\n",
       "      <td>11.0</td>\n",
       "      <td>28.0</td>\n",
       "      <td>31.0</td>\n",
       "    </tr>\n",
       "    <tr>\n",
       "      <th>3</th>\n",
       "      <td>2022-03-28</td>\n",
       "      <td>AT</td>\n",
       "      <td>Graz</td>\n",
       "      <td>NaN</td>\n",
       "      <td>62.0</td>\n",
       "      <td>133.0</td>\n",
       "      <td>216.0</td>\n",
       "      <td>NaN</td>\n",
       "      <td>NaN</td>\n",
       "      <td>191.0</td>\n",
       "      <td>...</td>\n",
       "      <td>211.0</td>\n",
       "      <td>NaN</td>\n",
       "      <td>NaN</td>\n",
       "      <td>216.0</td>\n",
       "      <td>90.0</td>\n",
       "      <td>216.0</td>\n",
       "      <td>NaN</td>\n",
       "      <td>NaN</td>\n",
       "      <td>200.0</td>\n",
       "      <td>209.0</td>\n",
       "    </tr>\n",
       "    <tr>\n",
       "      <th>4</th>\n",
       "      <td>2022-03-28</td>\n",
       "      <td>AT</td>\n",
       "      <td>Innsbruck</td>\n",
       "      <td>NaN</td>\n",
       "      <td>13.0</td>\n",
       "      <td>66.0</td>\n",
       "      <td>72.0</td>\n",
       "      <td>NaN</td>\n",
       "      <td>NaN</td>\n",
       "      <td>69.0</td>\n",
       "      <td>...</td>\n",
       "      <td>69.0</td>\n",
       "      <td>NaN</td>\n",
       "      <td>2.0</td>\n",
       "      <td>72.0</td>\n",
       "      <td>8.0</td>\n",
       "      <td>72.0</td>\n",
       "      <td>NaN</td>\n",
       "      <td>NaN</td>\n",
       "      <td>22.0</td>\n",
       "      <td>70.0</td>\n",
       "    </tr>\n",
       "  </tbody>\n",
       "</table>\n",
       "<p>5 rows × 22 columns</p>\n",
       "</div>"
      ],
      "text/plain": [
       "Specie       Date Country          City  aqi    co    dew  humidity  mepaqi  \\\n",
       "0      2022-03-28      AE     Abu Dhabi  NaN  24.0  126.0     192.0     NaN   \n",
       "1      2022-03-28      AE         Dubai  NaN   NaN   17.0      24.0     NaN   \n",
       "2      2022-03-28      AR  Buenos Aires  NaN  13.0   24.0      71.0     NaN   \n",
       "3      2022-03-28      AT          Graz  NaN  62.0  133.0     216.0     NaN   \n",
       "4      2022-03-28      AT     Innsbruck  NaN  13.0   66.0      72.0     NaN   \n",
       "\n",
       "Specie  neph    no2  ...   pm10  pm25  precipitation  pressure    so2  \\\n",
       "0        NaN  120.0  ...  120.0  11.0            NaN     192.0  120.0   \n",
       "1        NaN    NaN  ...    NaN  23.0            NaN      24.0    NaN   \n",
       "2        NaN    NaN  ...   24.0  24.0            NaN      72.0   24.0   \n",
       "3        NaN  191.0  ...  211.0   NaN            NaN     216.0   90.0   \n",
       "4        NaN   69.0  ...   69.0   NaN            2.0      72.0    8.0   \n",
       "\n",
       "Specie  temperature  uvi    wd  wind-gust  wind-speed  \n",
       "0             192.0  NaN   NaN       48.0       192.0  \n",
       "1              24.0  NaN   NaN        NaN        24.0  \n",
       "2              71.0  NaN  11.0       28.0        31.0  \n",
       "3             216.0  NaN   NaN      200.0       209.0  \n",
       "4              72.0  NaN   NaN       22.0        70.0  \n",
       "\n",
       "[5 rows x 22 columns]"
      ]
     },
     "execution_count": 36,
     "metadata": {},
     "output_type": "execute_result"
    }
   ],
   "source": [
    "print(data_df_2022_Q2.shape)\n",
    "data_df_2022_Q2.head()"
   ]
  },
  {
   "cell_type": "code",
   "execution_count": 37,
   "id": "4139dcbe",
   "metadata": {
    "execution": {
     "iopub.execute_input": "2024-12-30T03:22:31.048837Z",
     "iopub.status.busy": "2024-12-30T03:22:31.048413Z",
     "iopub.status.idle": "2024-12-30T03:22:31.063086Z",
     "shell.execute_reply": "2024-12-30T03:22:31.061997Z"
    },
    "executionInfo": {
     "elapsed": 8,
     "status": "ok",
     "timestamp": 1734445424705,
     "user": {
      "displayName": "Tahmida Majumder",
      "userId": "15415648085337204568"
     },
     "user_tz": -480
    },
    "id": "1Oex3eQC5eqL",
    "outputId": "1d3cf39e-1740-47e0-bd36-82b17d176256",
    "papermill": {
     "duration": 0.060937,
     "end_time": "2024-12-30T03:22:31.065203",
     "exception": false,
     "start_time": "2024-12-30T03:22:31.004266",
     "status": "completed"
    },
    "tags": []
   },
   "outputs": [
    {
     "data": {
      "text/plain": [
       "Specie\n",
       "Date                 0\n",
       "Country              0\n",
       "City                 0\n",
       "aqi              55322\n",
       "co               20880\n",
       "dew              12576\n",
       "humidity            86\n",
       "mepaqi           56653\n",
       "neph             56555\n",
       "no2              10984\n",
       "o3               14660\n",
       "pm1              56486\n",
       "pm10              9916\n",
       "pm25              7691\n",
       "precipitation    50204\n",
       "pressure           358\n",
       "so2              18493\n",
       "temperature         69\n",
       "uvi              55772\n",
       "wd               52418\n",
       "wind-gust        24603\n",
       "wind-speed         707\n",
       "dtype: int64"
      ]
     },
     "execution_count": 37,
     "metadata": {},
     "output_type": "execute_result"
    }
   ],
   "source": [
    "data_df_2022_Q2.isnull().sum()"
   ]
  },
  {
   "cell_type": "code",
   "execution_count": null,
   "id": "7862886e",
   "metadata": {
    "id": "eg2MYloopQVg",
    "papermill": {
     "duration": 0.047081,
     "end_time": "2024-12-30T03:22:31.155193",
     "exception": false,
     "start_time": "2024-12-30T03:22:31.108112",
     "status": "completed"
    },
    "tags": []
   },
   "outputs": [],
   "source": []
  },
  {
   "cell_type": "markdown",
   "id": "8ea0a75d",
   "metadata": {
    "id": "SOVFr2FF6Vbg",
    "papermill": {
     "duration": 0.042019,
     "end_time": "2024-12-30T03:22:31.239896",
     "exception": false,
     "start_time": "2024-12-30T03:22:31.197877",
     "status": "completed"
    },
    "tags": []
   },
   "source": [
    "# 2022_Q3"
   ]
  },
  {
   "cell_type": "code",
   "execution_count": 38,
   "id": "392a41aa",
   "metadata": {
    "execution": {
     "iopub.execute_input": "2024-12-30T03:22:31.327261Z",
     "iopub.status.busy": "2024-12-30T03:22:31.326918Z",
     "iopub.status.idle": "2024-12-30T03:22:31.941889Z",
     "shell.execute_reply": "2024-12-30T03:22:31.940033Z"
    },
    "executionInfo": {
     "elapsed": 1126,
     "status": "ok",
     "timestamp": 1734445425824,
     "user": {
      "displayName": "Tahmida Majumder",
      "userId": "15415648085337204568"
     },
     "user_tz": -480
    },
    "id": "AgeZtu0d6Vbh",
    "outputId": "66b85b8c-f8b6-4ed4-98a7-a9b4035b976b",
    "papermill": {
     "duration": 0.662286,
     "end_time": "2024-12-30T03:22:31.944735",
     "exception": false,
     "start_time": "2024-12-30T03:22:31.282449",
     "status": "completed"
    },
    "tags": []
   },
   "outputs": [
    {
     "name": "stdout",
     "output_type": "stream",
     "text": [
      "(570466, 5)\n"
     ]
    },
    {
     "data": {
      "text/html": [
       "<div>\n",
       "<style scoped>\n",
       "    .dataframe tbody tr th:only-of-type {\n",
       "        vertical-align: middle;\n",
       "    }\n",
       "\n",
       "    .dataframe tbody tr th {\n",
       "        vertical-align: top;\n",
       "    }\n",
       "\n",
       "    .dataframe thead th {\n",
       "        text-align: right;\n",
       "    }\n",
       "</style>\n",
       "<table border=\"1\" class=\"dataframe\">\n",
       "  <thead>\n",
       "    <tr style=\"text-align: right;\">\n",
       "      <th></th>\n",
       "      <th>Date</th>\n",
       "      <th>Country</th>\n",
       "      <th>City</th>\n",
       "      <th>Specie</th>\n",
       "      <th>count</th>\n",
       "    </tr>\n",
       "  </thead>\n",
       "  <tbody>\n",
       "    <tr>\n",
       "      <th>0</th>\n",
       "      <td>10/2/2022</td>\n",
       "      <td>MX</td>\n",
       "      <td>Guadalajara</td>\n",
       "      <td>wind-speed</td>\n",
       "      <td>107</td>\n",
       "    </tr>\n",
       "    <tr>\n",
       "      <th>1</th>\n",
       "      <td>10/2/2022</td>\n",
       "      <td>MX</td>\n",
       "      <td>Guadalajara</td>\n",
       "      <td>wind-gust</td>\n",
       "      <td>78</td>\n",
       "    </tr>\n",
       "    <tr>\n",
       "      <th>2</th>\n",
       "      <td>10/2/2022</td>\n",
       "      <td>MX</td>\n",
       "      <td>Guadalajara</td>\n",
       "      <td>dew</td>\n",
       "      <td>39</td>\n",
       "    </tr>\n",
       "    <tr>\n",
       "      <th>3</th>\n",
       "      <td>10/2/2022</td>\n",
       "      <td>MX</td>\n",
       "      <td>Guadalajara</td>\n",
       "      <td>co</td>\n",
       "      <td>72</td>\n",
       "    </tr>\n",
       "    <tr>\n",
       "      <th>4</th>\n",
       "      <td>10/2/2022</td>\n",
       "      <td>MX</td>\n",
       "      <td>Guadalajara</td>\n",
       "      <td>so2</td>\n",
       "      <td>72</td>\n",
       "    </tr>\n",
       "    <tr>\n",
       "      <th>5</th>\n",
       "      <td>10/2/2022</td>\n",
       "      <td>MX</td>\n",
       "      <td>Guadalajara</td>\n",
       "      <td>pm25</td>\n",
       "      <td>21</td>\n",
       "    </tr>\n",
       "    <tr>\n",
       "      <th>6</th>\n",
       "      <td>10/2/2022</td>\n",
       "      <td>MX</td>\n",
       "      <td>Guadalajara</td>\n",
       "      <td>pressure</td>\n",
       "      <td>189</td>\n",
       "    </tr>\n",
       "    <tr>\n",
       "      <th>7</th>\n",
       "      <td>10/2/2022</td>\n",
       "      <td>MX</td>\n",
       "      <td>Guadalajara</td>\n",
       "      <td>temperature</td>\n",
       "      <td>189</td>\n",
       "    </tr>\n",
       "    <tr>\n",
       "      <th>8</th>\n",
       "      <td>10/2/2022</td>\n",
       "      <td>MX</td>\n",
       "      <td>Guadalajara</td>\n",
       "      <td>pm10</td>\n",
       "      <td>24</td>\n",
       "    </tr>\n",
       "    <tr>\n",
       "      <th>9</th>\n",
       "      <td>10/2/2022</td>\n",
       "      <td>MX</td>\n",
       "      <td>Guadalajara</td>\n",
       "      <td>humidity</td>\n",
       "      <td>145</td>\n",
       "    </tr>\n",
       "  </tbody>\n",
       "</table>\n",
       "</div>"
      ],
      "text/plain": [
       "        Date Country         City       Specie  count\n",
       "0  10/2/2022      MX  Guadalajara   wind-speed    107\n",
       "1  10/2/2022      MX  Guadalajara    wind-gust     78\n",
       "2  10/2/2022      MX  Guadalajara          dew     39\n",
       "3  10/2/2022      MX  Guadalajara           co     72\n",
       "4  10/2/2022      MX  Guadalajara          so2     72\n",
       "5  10/2/2022      MX  Guadalajara         pm25     21\n",
       "6  10/2/2022      MX  Guadalajara     pressure    189\n",
       "7  10/2/2022      MX  Guadalajara  temperature    189\n",
       "8  10/2/2022      MX  Guadalajara         pm10     24\n",
       "9  10/2/2022      MX  Guadalajara     humidity    145"
      ]
     },
     "execution_count": 38,
     "metadata": {},
     "output_type": "execute_result"
    }
   ],
   "source": [
    "# Loading the data\n",
    "raw_data_2022_Q3 = pd.read_csv(r\"/kaggle/input/data-for-combine/airqualitydata-2022Q3.csv\")\n",
    "\n",
    "# print the shape\n",
    "print(raw_data_2022_Q3.shape)\n",
    "\n",
    "#runs the first 5 rows\n",
    "raw_data_2022_Q3.head(10)"
   ]
  },
  {
   "cell_type": "code",
   "execution_count": 39,
   "id": "17194eb2",
   "metadata": {
    "execution": {
     "iopub.execute_input": "2024-12-30T03:22:32.037466Z",
     "iopub.status.busy": "2024-12-30T03:22:32.037097Z",
     "iopub.status.idle": "2024-12-30T03:22:32.104123Z",
     "shell.execute_reply": "2024-12-30T03:22:32.102977Z"
    },
    "id": "yAJNENbK6Vbi",
    "papermill": {
     "duration": 0.115654,
     "end_time": "2024-12-30T03:22:32.106074",
     "exception": false,
     "start_time": "2024-12-30T03:22:31.990420",
     "status": "completed"
    },
    "tags": []
   },
   "outputs": [],
   "source": [
    "# Convert 'Date' to datetime\n",
    "raw_data_2022_Q3['Date'] = pd.to_datetime(raw_data_2022_Q3['Date'])"
   ]
  },
  {
   "cell_type": "code",
   "execution_count": 40,
   "id": "3a9875b9",
   "metadata": {
    "execution": {
     "iopub.execute_input": "2024-12-30T03:22:32.193065Z",
     "iopub.status.busy": "2024-12-30T03:22:32.192688Z",
     "iopub.status.idle": "2024-12-30T03:22:32.198669Z",
     "shell.execute_reply": "2024-12-30T03:22:32.197641Z"
    },
    "executionInfo": {
     "elapsed": 8,
     "status": "ok",
     "timestamp": 1734445425824,
     "user": {
      "displayName": "Tahmida Majumder",
      "userId": "15415648085337204568"
     },
     "user_tz": -480
    },
    "id": "dDim3zDh6Vbi",
    "outputId": "11d63b59-b554-40b4-9752-62006ec0e248",
    "papermill": {
     "duration": 0.050865,
     "end_time": "2024-12-30T03:22:32.200168",
     "exception": false,
     "start_time": "2024-12-30T03:22:32.149303",
     "status": "completed"
    },
    "tags": []
   },
   "outputs": [
    {
     "data": {
      "text/plain": [
       "(570466, 5)"
      ]
     },
     "execution_count": 40,
     "metadata": {},
     "output_type": "execute_result"
    }
   ],
   "source": [
    "raw_data_2022_Q3.shape"
   ]
  },
  {
   "cell_type": "code",
   "execution_count": 41,
   "id": "4bb07804",
   "metadata": {
    "execution": {
     "iopub.execute_input": "2024-12-30T03:22:32.287224Z",
     "iopub.status.busy": "2024-12-30T03:22:32.286874Z",
     "iopub.status.idle": "2024-12-30T03:22:32.661441Z",
     "shell.execute_reply": "2024-12-30T03:22:32.660432Z"
    },
    "id": "g5o4tt6R6Vbj",
    "papermill": {
     "duration": 0.421105,
     "end_time": "2024-12-30T03:22:32.663321",
     "exception": false,
     "start_time": "2024-12-30T03:22:32.242216",
     "status": "completed"
    },
    "tags": []
   },
   "outputs": [],
   "source": [
    "# Pivot the data\n",
    "data_df_2022_Q3 = raw_data_2022_Q3.pivot_table(\n",
    "    index=['Date', 'Country', 'City'],  # Grouping columns\n",
    "    columns='Specie',                  # Unique values become columns\n",
    "    values='count',                   # Values to aggregate\n",
    "    aggfunc='mean'                     # Aggregation function\n",
    ").reset_index()\n"
   ]
  },
  {
   "cell_type": "code",
   "execution_count": 42,
   "id": "83e806fc",
   "metadata": {
    "execution": {
     "iopub.execute_input": "2024-12-30T03:22:32.749603Z",
     "iopub.status.busy": "2024-12-30T03:22:32.749216Z",
     "iopub.status.idle": "2024-12-30T03:22:32.775727Z",
     "shell.execute_reply": "2024-12-30T03:22:32.774762Z"
    },
    "executionInfo": {
     "elapsed": 11,
     "status": "ok",
     "timestamp": 1734445426240,
     "user": {
      "displayName": "Tahmida Majumder",
      "userId": "15415648085337204568"
     },
     "user_tz": -480
    },
    "id": "ukZIcdZa6Vbj",
    "outputId": "007240c0-154f-438a-de96-d5338d934cdf",
    "papermill": {
     "duration": 0.071835,
     "end_time": "2024-12-30T03:22:32.777405",
     "exception": false,
     "start_time": "2024-12-30T03:22:32.705570",
     "status": "completed"
    },
    "tags": []
   },
   "outputs": [
    {
     "name": "stdout",
     "output_type": "stream",
     "text": [
      "(56219, 22)\n"
     ]
    },
    {
     "data": {
      "text/html": [
       "<div>\n",
       "<style scoped>\n",
       "    .dataframe tbody tr th:only-of-type {\n",
       "        vertical-align: middle;\n",
       "    }\n",
       "\n",
       "    .dataframe tbody tr th {\n",
       "        vertical-align: top;\n",
       "    }\n",
       "\n",
       "    .dataframe thead th {\n",
       "        text-align: right;\n",
       "    }\n",
       "</style>\n",
       "<table border=\"1\" class=\"dataframe\">\n",
       "  <thead>\n",
       "    <tr style=\"text-align: right;\">\n",
       "      <th>Specie</th>\n",
       "      <th>Date</th>\n",
       "      <th>Country</th>\n",
       "      <th>City</th>\n",
       "      <th>aqi</th>\n",
       "      <th>co</th>\n",
       "      <th>dew</th>\n",
       "      <th>humidity</th>\n",
       "      <th>mepaqi</th>\n",
       "      <th>neph</th>\n",
       "      <th>no2</th>\n",
       "      <th>...</th>\n",
       "      <th>pm10</th>\n",
       "      <th>pm25</th>\n",
       "      <th>precipitation</th>\n",
       "      <th>pressure</th>\n",
       "      <th>so2</th>\n",
       "      <th>temperature</th>\n",
       "      <th>uvi</th>\n",
       "      <th>wd</th>\n",
       "      <th>wind-gust</th>\n",
       "      <th>wind-speed</th>\n",
       "    </tr>\n",
       "  </thead>\n",
       "  <tbody>\n",
       "    <tr>\n",
       "      <th>0</th>\n",
       "      <td>2022-06-27</td>\n",
       "      <td>AE</td>\n",
       "      <td>Abu Dhabi</td>\n",
       "      <td>NaN</td>\n",
       "      <td>24.0</td>\n",
       "      <td>132.0</td>\n",
       "      <td>192.0</td>\n",
       "      <td>NaN</td>\n",
       "      <td>NaN</td>\n",
       "      <td>120.0</td>\n",
       "      <td>...</td>\n",
       "      <td>120.0</td>\n",
       "      <td>24.0</td>\n",
       "      <td>NaN</td>\n",
       "      <td>192.0</td>\n",
       "      <td>120.0</td>\n",
       "      <td>192.0</td>\n",
       "      <td>NaN</td>\n",
       "      <td>NaN</td>\n",
       "      <td>44.0</td>\n",
       "      <td>176.0</td>\n",
       "    </tr>\n",
       "    <tr>\n",
       "      <th>1</th>\n",
       "      <td>2022-06-27</td>\n",
       "      <td>AE</td>\n",
       "      <td>Dubai</td>\n",
       "      <td>NaN</td>\n",
       "      <td>NaN</td>\n",
       "      <td>24.0</td>\n",
       "      <td>24.0</td>\n",
       "      <td>NaN</td>\n",
       "      <td>NaN</td>\n",
       "      <td>NaN</td>\n",
       "      <td>...</td>\n",
       "      <td>NaN</td>\n",
       "      <td>24.0</td>\n",
       "      <td>NaN</td>\n",
       "      <td>24.0</td>\n",
       "      <td>NaN</td>\n",
       "      <td>24.0</td>\n",
       "      <td>NaN</td>\n",
       "      <td>NaN</td>\n",
       "      <td>NaN</td>\n",
       "      <td>24.0</td>\n",
       "    </tr>\n",
       "    <tr>\n",
       "      <th>2</th>\n",
       "      <td>2022-06-27</td>\n",
       "      <td>AR</td>\n",
       "      <td>Buenos Aires</td>\n",
       "      <td>NaN</td>\n",
       "      <td>24.0</td>\n",
       "      <td>24.0</td>\n",
       "      <td>67.0</td>\n",
       "      <td>NaN</td>\n",
       "      <td>NaN</td>\n",
       "      <td>NaN</td>\n",
       "      <td>...</td>\n",
       "      <td>20.0</td>\n",
       "      <td>18.0</td>\n",
       "      <td>NaN</td>\n",
       "      <td>72.0</td>\n",
       "      <td>17.0</td>\n",
       "      <td>67.0</td>\n",
       "      <td>NaN</td>\n",
       "      <td>15.0</td>\n",
       "      <td>10.0</td>\n",
       "      <td>23.0</td>\n",
       "    </tr>\n",
       "    <tr>\n",
       "      <th>3</th>\n",
       "      <td>2022-06-27</td>\n",
       "      <td>AT</td>\n",
       "      <td>Graz</td>\n",
       "      <td>NaN</td>\n",
       "      <td>38.0</td>\n",
       "      <td>133.0</td>\n",
       "      <td>216.0</td>\n",
       "      <td>NaN</td>\n",
       "      <td>NaN</td>\n",
       "      <td>180.0</td>\n",
       "      <td>...</td>\n",
       "      <td>199.0</td>\n",
       "      <td>9.0</td>\n",
       "      <td>NaN</td>\n",
       "      <td>216.0</td>\n",
       "      <td>49.0</td>\n",
       "      <td>216.0</td>\n",
       "      <td>NaN</td>\n",
       "      <td>NaN</td>\n",
       "      <td>205.0</td>\n",
       "      <td>193.0</td>\n",
       "    </tr>\n",
       "    <tr>\n",
       "      <th>4</th>\n",
       "      <td>2022-06-27</td>\n",
       "      <td>AT</td>\n",
       "      <td>Innsbruck</td>\n",
       "      <td>NaN</td>\n",
       "      <td>14.0</td>\n",
       "      <td>62.0</td>\n",
       "      <td>72.0</td>\n",
       "      <td>NaN</td>\n",
       "      <td>NaN</td>\n",
       "      <td>70.0</td>\n",
       "      <td>...</td>\n",
       "      <td>70.0</td>\n",
       "      <td>NaN</td>\n",
       "      <td>NaN</td>\n",
       "      <td>72.0</td>\n",
       "      <td>6.0</td>\n",
       "      <td>72.0</td>\n",
       "      <td>NaN</td>\n",
       "      <td>NaN</td>\n",
       "      <td>36.0</td>\n",
       "      <td>72.0</td>\n",
       "    </tr>\n",
       "  </tbody>\n",
       "</table>\n",
       "<p>5 rows × 22 columns</p>\n",
       "</div>"
      ],
      "text/plain": [
       "Specie       Date Country          City  aqi    co    dew  humidity  mepaqi  \\\n",
       "0      2022-06-27      AE     Abu Dhabi  NaN  24.0  132.0     192.0     NaN   \n",
       "1      2022-06-27      AE         Dubai  NaN   NaN   24.0      24.0     NaN   \n",
       "2      2022-06-27      AR  Buenos Aires  NaN  24.0   24.0      67.0     NaN   \n",
       "3      2022-06-27      AT          Graz  NaN  38.0  133.0     216.0     NaN   \n",
       "4      2022-06-27      AT     Innsbruck  NaN  14.0   62.0      72.0     NaN   \n",
       "\n",
       "Specie  neph    no2  ...   pm10  pm25  precipitation  pressure    so2  \\\n",
       "0        NaN  120.0  ...  120.0  24.0            NaN     192.0  120.0   \n",
       "1        NaN    NaN  ...    NaN  24.0            NaN      24.0    NaN   \n",
       "2        NaN    NaN  ...   20.0  18.0            NaN      72.0   17.0   \n",
       "3        NaN  180.0  ...  199.0   9.0            NaN     216.0   49.0   \n",
       "4        NaN   70.0  ...   70.0   NaN            NaN      72.0    6.0   \n",
       "\n",
       "Specie  temperature  uvi    wd  wind-gust  wind-speed  \n",
       "0             192.0  NaN   NaN       44.0       176.0  \n",
       "1              24.0  NaN   NaN        NaN        24.0  \n",
       "2              67.0  NaN  15.0       10.0        23.0  \n",
       "3             216.0  NaN   NaN      205.0       193.0  \n",
       "4              72.0  NaN   NaN       36.0        72.0  \n",
       "\n",
       "[5 rows x 22 columns]"
      ]
     },
     "execution_count": 42,
     "metadata": {},
     "output_type": "execute_result"
    }
   ],
   "source": [
    "print(data_df_2022_Q3.shape)\n",
    "data_df_2022_Q3.head()"
   ]
  },
  {
   "cell_type": "code",
   "execution_count": 43,
   "id": "25804c96",
   "metadata": {
    "execution": {
     "iopub.execute_input": "2024-12-30T03:22:32.863174Z",
     "iopub.status.busy": "2024-12-30T03:22:32.862804Z",
     "iopub.status.idle": "2024-12-30T03:22:32.876804Z",
     "shell.execute_reply": "2024-12-30T03:22:32.875817Z"
    },
    "executionInfo": {
     "elapsed": 7,
     "status": "ok",
     "timestamp": 1734445426240,
     "user": {
      "displayName": "Tahmida Majumder",
      "userId": "15415648085337204568"
     },
     "user_tz": -480
    },
    "id": "MySkp3RM6Vbj",
    "outputId": "6a76951d-4879-41e5-a327-7b4cd882bef3",
    "papermill": {
     "duration": 0.058836,
     "end_time": "2024-12-30T03:22:32.878293",
     "exception": false,
     "start_time": "2024-12-30T03:22:32.819457",
     "status": "completed"
    },
    "tags": []
   },
   "outputs": [
    {
     "data": {
      "text/plain": [
       "Specie\n",
       "Date                 0\n",
       "Country              0\n",
       "City                 0\n",
       "aqi              54757\n",
       "co               20304\n",
       "dew              12264\n",
       "humidity            85\n",
       "mepaqi           56121\n",
       "neph             56023\n",
       "no2              10326\n",
       "o3               13608\n",
       "pm1              56023\n",
       "pm10              9727\n",
       "pm25              7383\n",
       "precipitation    48775\n",
       "pressure           337\n",
       "so2              18086\n",
       "temperature         45\n",
       "uvi              55241\n",
       "wd               52204\n",
       "wind-gust        25319\n",
       "wind-speed        1067\n",
       "dtype: int64"
      ]
     },
     "execution_count": 43,
     "metadata": {},
     "output_type": "execute_result"
    }
   ],
   "source": [
    "data_df_2022_Q3.isnull().sum()"
   ]
  },
  {
   "cell_type": "code",
   "execution_count": null,
   "id": "7f79d5ee",
   "metadata": {
    "id": "I4MMewJjpQYF",
    "papermill": {
     "duration": 0.04238,
     "end_time": "2024-12-30T03:22:33.019664",
     "exception": false,
     "start_time": "2024-12-30T03:22:32.977284",
     "status": "completed"
    },
    "tags": []
   },
   "outputs": [],
   "source": []
  },
  {
   "cell_type": "markdown",
   "id": "ee8a904d",
   "metadata": {
    "id": "zI8XTgoj6qcm",
    "papermill": {
     "duration": 0.044262,
     "end_time": "2024-12-30T03:22:33.107272",
     "exception": false,
     "start_time": "2024-12-30T03:22:33.063010",
     "status": "completed"
    },
    "tags": []
   },
   "source": [
    "# 2022_Q4"
   ]
  },
  {
   "cell_type": "code",
   "execution_count": 44,
   "id": "8a2f283a",
   "metadata": {
    "execution": {
     "iopub.execute_input": "2024-12-30T03:22:33.193897Z",
     "iopub.status.busy": "2024-12-30T03:22:33.193521Z",
     "iopub.status.idle": "2024-12-30T03:22:33.775809Z",
     "shell.execute_reply": "2024-12-30T03:22:33.774614Z"
    },
    "executionInfo": {
     "elapsed": 1222,
     "status": "ok",
     "timestamp": 1734445427456,
     "user": {
      "displayName": "Tahmida Majumder",
      "userId": "15415648085337204568"
     },
     "user_tz": -480
    },
    "id": "YNPmqfXx6qcm",
    "outputId": "3a06361b-d30d-46bf-d1b5-ff60ff1de083",
    "papermill": {
     "duration": 0.627343,
     "end_time": "2024-12-30T03:22:33.777584",
     "exception": false,
     "start_time": "2024-12-30T03:22:33.150241",
     "status": "completed"
    },
    "tags": []
   },
   "outputs": [
    {
     "name": "stdout",
     "output_type": "stream",
     "text": [
      "(551341, 5)\n"
     ]
    },
    {
     "data": {
      "text/html": [
       "<div>\n",
       "<style scoped>\n",
       "    .dataframe tbody tr th:only-of-type {\n",
       "        vertical-align: middle;\n",
       "    }\n",
       "\n",
       "    .dataframe tbody tr th {\n",
       "        vertical-align: top;\n",
       "    }\n",
       "\n",
       "    .dataframe thead th {\n",
       "        text-align: right;\n",
       "    }\n",
       "</style>\n",
       "<table border=\"1\" class=\"dataframe\">\n",
       "  <thead>\n",
       "    <tr style=\"text-align: right;\">\n",
       "      <th></th>\n",
       "      <th>Date</th>\n",
       "      <th>Country</th>\n",
       "      <th>City</th>\n",
       "      <th>Specie</th>\n",
       "      <th>count</th>\n",
       "    </tr>\n",
       "  </thead>\n",
       "  <tbody>\n",
       "    <tr>\n",
       "      <th>0</th>\n",
       "      <td>1/1/2023</td>\n",
       "      <td>GB</td>\n",
       "      <td>Edinburgh</td>\n",
       "      <td>humidity</td>\n",
       "      <td>288</td>\n",
       "    </tr>\n",
       "    <tr>\n",
       "      <th>1</th>\n",
       "      <td>1/1/2023</td>\n",
       "      <td>GB</td>\n",
       "      <td>Edinburgh</td>\n",
       "      <td>so2</td>\n",
       "      <td>25</td>\n",
       "    </tr>\n",
       "    <tr>\n",
       "      <th>2</th>\n",
       "      <td>1/1/2023</td>\n",
       "      <td>GB</td>\n",
       "      <td>Edinburgh</td>\n",
       "      <td>pm25</td>\n",
       "      <td>282</td>\n",
       "    </tr>\n",
       "    <tr>\n",
       "      <th>3</th>\n",
       "      <td>1/1/2023</td>\n",
       "      <td>GB</td>\n",
       "      <td>Edinburgh</td>\n",
       "      <td>no2</td>\n",
       "      <td>236</td>\n",
       "    </tr>\n",
       "    <tr>\n",
       "      <th>4</th>\n",
       "      <td>1/1/2023</td>\n",
       "      <td>GB</td>\n",
       "      <td>Edinburgh</td>\n",
       "      <td>wind-speed</td>\n",
       "      <td>162</td>\n",
       "    </tr>\n",
       "    <tr>\n",
       "      <th>5</th>\n",
       "      <td>1/1/2023</td>\n",
       "      <td>GB</td>\n",
       "      <td>Edinburgh</td>\n",
       "      <td>dew</td>\n",
       "      <td>88</td>\n",
       "    </tr>\n",
       "    <tr>\n",
       "      <th>6</th>\n",
       "      <td>1/1/2023</td>\n",
       "      <td>GB</td>\n",
       "      <td>Edinburgh</td>\n",
       "      <td>temperature</td>\n",
       "      <td>288</td>\n",
       "    </tr>\n",
       "    <tr>\n",
       "      <th>7</th>\n",
       "      <td>1/1/2023</td>\n",
       "      <td>GB</td>\n",
       "      <td>Edinburgh</td>\n",
       "      <td>pm10</td>\n",
       "      <td>285</td>\n",
       "    </tr>\n",
       "    <tr>\n",
       "      <th>8</th>\n",
       "      <td>1/1/2023</td>\n",
       "      <td>GB</td>\n",
       "      <td>Edinburgh</td>\n",
       "      <td>wind-gust</td>\n",
       "      <td>157</td>\n",
       "    </tr>\n",
       "    <tr>\n",
       "      <th>9</th>\n",
       "      <td>1/1/2023</td>\n",
       "      <td>GB</td>\n",
       "      <td>Edinburgh</td>\n",
       "      <td>co</td>\n",
       "      <td>42</td>\n",
       "    </tr>\n",
       "  </tbody>\n",
       "</table>\n",
       "</div>"
      ],
      "text/plain": [
       "       Date Country       City       Specie  count\n",
       "0  1/1/2023      GB  Edinburgh     humidity    288\n",
       "1  1/1/2023      GB  Edinburgh          so2     25\n",
       "2  1/1/2023      GB  Edinburgh         pm25    282\n",
       "3  1/1/2023      GB  Edinburgh          no2    236\n",
       "4  1/1/2023      GB  Edinburgh   wind-speed    162\n",
       "5  1/1/2023      GB  Edinburgh          dew     88\n",
       "6  1/1/2023      GB  Edinburgh  temperature    288\n",
       "7  1/1/2023      GB  Edinburgh         pm10    285\n",
       "8  1/1/2023      GB  Edinburgh    wind-gust    157\n",
       "9  1/1/2023      GB  Edinburgh           co     42"
      ]
     },
     "execution_count": 44,
     "metadata": {},
     "output_type": "execute_result"
    }
   ],
   "source": [
    "# Loading the data\n",
    "raw_data_2022_Q4 = pd.read_csv(r\"/kaggle/input/data-for-combine/airqualitydata-2022Q4.csv\")\n",
    "\n",
    "# print the shape\n",
    "print(raw_data_2022_Q4.shape)\n",
    "\n",
    "#runs the first 5 rows\n",
    "raw_data_2022_Q4.head(10)"
   ]
  },
  {
   "cell_type": "code",
   "execution_count": 45,
   "id": "a00a1983",
   "metadata": {
    "execution": {
     "iopub.execute_input": "2024-12-30T03:22:33.864035Z",
     "iopub.status.busy": "2024-12-30T03:22:33.863699Z",
     "iopub.status.idle": "2024-12-30T03:22:33.932221Z",
     "shell.execute_reply": "2024-12-30T03:22:33.931057Z"
    },
    "id": "8AsvhPlK6qcn",
    "papermill": {
     "duration": 0.113698,
     "end_time": "2024-12-30T03:22:33.934110",
     "exception": false,
     "start_time": "2024-12-30T03:22:33.820412",
     "status": "completed"
    },
    "tags": []
   },
   "outputs": [],
   "source": [
    "# Convert 'Date' to datetime\n",
    "raw_data_2022_Q4['Date'] = pd.to_datetime(raw_data_2022_Q4['Date'])"
   ]
  },
  {
   "cell_type": "code",
   "execution_count": 46,
   "id": "23792954",
   "metadata": {
    "execution": {
     "iopub.execute_input": "2024-12-30T03:22:34.021840Z",
     "iopub.status.busy": "2024-12-30T03:22:34.021435Z",
     "iopub.status.idle": "2024-12-30T03:22:34.026903Z",
     "shell.execute_reply": "2024-12-30T03:22:34.025902Z"
    },
    "executionInfo": {
     "elapsed": 9,
     "status": "ok",
     "timestamp": 1734445427456,
     "user": {
      "displayName": "Tahmida Majumder",
      "userId": "15415648085337204568"
     },
     "user_tz": -480
    },
    "id": "K3Tj8lJH6qcn",
    "outputId": "9bfdfb56-8669-469d-950d-42d4c41edc5d",
    "papermill": {
     "duration": 0.051468,
     "end_time": "2024-12-30T03:22:34.028703",
     "exception": false,
     "start_time": "2024-12-30T03:22:33.977235",
     "status": "completed"
    },
    "tags": []
   },
   "outputs": [
    {
     "data": {
      "text/plain": [
       "(551341, 5)"
      ]
     },
     "execution_count": 46,
     "metadata": {},
     "output_type": "execute_result"
    }
   ],
   "source": [
    "raw_data_2022_Q4.shape"
   ]
  },
  {
   "cell_type": "code",
   "execution_count": 47,
   "id": "92d09be3",
   "metadata": {
    "execution": {
     "iopub.execute_input": "2024-12-30T03:22:34.117763Z",
     "iopub.status.busy": "2024-12-30T03:22:34.117330Z",
     "iopub.status.idle": "2024-12-30T03:22:34.499127Z",
     "shell.execute_reply": "2024-12-30T03:22:34.498042Z"
    },
    "id": "IESMeOdC6qcn",
    "papermill": {
     "duration": 0.428656,
     "end_time": "2024-12-30T03:22:34.501098",
     "exception": false,
     "start_time": "2024-12-30T03:22:34.072442",
     "status": "completed"
    },
    "tags": []
   },
   "outputs": [],
   "source": [
    "# Pivot the data\n",
    "data_df_2022_Q4 = raw_data_2022_Q4.pivot_table(\n",
    "    index=['Date', 'Country', 'City'],  # Grouping columns\n",
    "    columns='Specie',                  # Unique values become columns\n",
    "    values='count',                   # Values to aggregate\n",
    "    aggfunc='mean'                     # Aggregation function\n",
    ").reset_index()\n"
   ]
  },
  {
   "cell_type": "code",
   "execution_count": 48,
   "id": "ba8fc592",
   "metadata": {
    "execution": {
     "iopub.execute_input": "2024-12-30T03:22:34.590696Z",
     "iopub.status.busy": "2024-12-30T03:22:34.590224Z",
     "iopub.status.idle": "2024-12-30T03:22:34.615539Z",
     "shell.execute_reply": "2024-12-30T03:22:34.614507Z"
    },
    "executionInfo": {
     "elapsed": 11,
     "status": "ok",
     "timestamp": 1734445428523,
     "user": {
      "displayName": "Tahmida Majumder",
      "userId": "15415648085337204568"
     },
     "user_tz": -480
    },
    "id": "3WEISQiN6qcn",
    "outputId": "f23c8ec4-39e3-4a08-f170-0b056271a9fc",
    "papermill": {
     "duration": 0.070704,
     "end_time": "2024-12-30T03:22:34.617169",
     "exception": false,
     "start_time": "2024-12-30T03:22:34.546465",
     "status": "completed"
    },
    "tags": []
   },
   "outputs": [
    {
     "name": "stdout",
     "output_type": "stream",
     "text": [
      "(54530, 22)\n"
     ]
    },
    {
     "data": {
      "text/html": [
       "<div>\n",
       "<style scoped>\n",
       "    .dataframe tbody tr th:only-of-type {\n",
       "        vertical-align: middle;\n",
       "    }\n",
       "\n",
       "    .dataframe tbody tr th {\n",
       "        vertical-align: top;\n",
       "    }\n",
       "\n",
       "    .dataframe thead th {\n",
       "        text-align: right;\n",
       "    }\n",
       "</style>\n",
       "<table border=\"1\" class=\"dataframe\">\n",
       "  <thead>\n",
       "    <tr style=\"text-align: right;\">\n",
       "      <th>Specie</th>\n",
       "      <th>Date</th>\n",
       "      <th>Country</th>\n",
       "      <th>City</th>\n",
       "      <th>aqi</th>\n",
       "      <th>co</th>\n",
       "      <th>dew</th>\n",
       "      <th>humidity</th>\n",
       "      <th>mepaqi</th>\n",
       "      <th>neph</th>\n",
       "      <th>no2</th>\n",
       "      <th>...</th>\n",
       "      <th>pm10</th>\n",
       "      <th>pm25</th>\n",
       "      <th>precipitation</th>\n",
       "      <th>pressure</th>\n",
       "      <th>so2</th>\n",
       "      <th>temperature</th>\n",
       "      <th>uvi</th>\n",
       "      <th>wd</th>\n",
       "      <th>wind-gust</th>\n",
       "      <th>wind-speed</th>\n",
       "    </tr>\n",
       "  </thead>\n",
       "  <tbody>\n",
       "    <tr>\n",
       "      <th>0</th>\n",
       "      <td>2022-09-26</td>\n",
       "      <td>AE</td>\n",
       "      <td>Abu Dhabi</td>\n",
       "      <td>NaN</td>\n",
       "      <td>20.0</td>\n",
       "      <td>86.0</td>\n",
       "      <td>188.0</td>\n",
       "      <td>NaN</td>\n",
       "      <td>NaN</td>\n",
       "      <td>113.0</td>\n",
       "      <td>...</td>\n",
       "      <td>119.0</td>\n",
       "      <td>NaN</td>\n",
       "      <td>NaN</td>\n",
       "      <td>188.0</td>\n",
       "      <td>111.0</td>\n",
       "      <td>188.0</td>\n",
       "      <td>NaN</td>\n",
       "      <td>NaN</td>\n",
       "      <td>22.0</td>\n",
       "      <td>160.0</td>\n",
       "    </tr>\n",
       "    <tr>\n",
       "      <th>1</th>\n",
       "      <td>2022-09-26</td>\n",
       "      <td>AE</td>\n",
       "      <td>Dubai</td>\n",
       "      <td>NaN</td>\n",
       "      <td>NaN</td>\n",
       "      <td>22.0</td>\n",
       "      <td>24.0</td>\n",
       "      <td>NaN</td>\n",
       "      <td>NaN</td>\n",
       "      <td>NaN</td>\n",
       "      <td>...</td>\n",
       "      <td>NaN</td>\n",
       "      <td>24.0</td>\n",
       "      <td>NaN</td>\n",
       "      <td>24.0</td>\n",
       "      <td>NaN</td>\n",
       "      <td>24.0</td>\n",
       "      <td>NaN</td>\n",
       "      <td>NaN</td>\n",
       "      <td>NaN</td>\n",
       "      <td>24.0</td>\n",
       "    </tr>\n",
       "    <tr>\n",
       "      <th>2</th>\n",
       "      <td>2022-09-26</td>\n",
       "      <td>AR</td>\n",
       "      <td>Buenos Aires</td>\n",
       "      <td>NaN</td>\n",
       "      <td>68.0</td>\n",
       "      <td>72.0</td>\n",
       "      <td>72.0</td>\n",
       "      <td>NaN</td>\n",
       "      <td>NaN</td>\n",
       "      <td>NaN</td>\n",
       "      <td>...</td>\n",
       "      <td>52.0</td>\n",
       "      <td>8.0</td>\n",
       "      <td>NaN</td>\n",
       "      <td>72.0</td>\n",
       "      <td>7.0</td>\n",
       "      <td>72.0</td>\n",
       "      <td>NaN</td>\n",
       "      <td>19.0</td>\n",
       "      <td>NaN</td>\n",
       "      <td>68.0</td>\n",
       "    </tr>\n",
       "    <tr>\n",
       "      <th>3</th>\n",
       "      <td>2022-09-26</td>\n",
       "      <td>AT</td>\n",
       "      <td>Graz</td>\n",
       "      <td>NaN</td>\n",
       "      <td>44.0</td>\n",
       "      <td>161.0</td>\n",
       "      <td>209.0</td>\n",
       "      <td>NaN</td>\n",
       "      <td>NaN</td>\n",
       "      <td>181.0</td>\n",
       "      <td>...</td>\n",
       "      <td>207.0</td>\n",
       "      <td>24.0</td>\n",
       "      <td>21.0</td>\n",
       "      <td>209.0</td>\n",
       "      <td>39.0</td>\n",
       "      <td>209.0</td>\n",
       "      <td>NaN</td>\n",
       "      <td>NaN</td>\n",
       "      <td>46.0</td>\n",
       "      <td>189.0</td>\n",
       "    </tr>\n",
       "    <tr>\n",
       "      <th>4</th>\n",
       "      <td>2022-09-26</td>\n",
       "      <td>AT</td>\n",
       "      <td>Innsbruck</td>\n",
       "      <td>NaN</td>\n",
       "      <td>11.0</td>\n",
       "      <td>66.0</td>\n",
       "      <td>69.0</td>\n",
       "      <td>NaN</td>\n",
       "      <td>NaN</td>\n",
       "      <td>69.0</td>\n",
       "      <td>...</td>\n",
       "      <td>61.0</td>\n",
       "      <td>NaN</td>\n",
       "      <td>9.0</td>\n",
       "      <td>69.0</td>\n",
       "      <td>5.0</td>\n",
       "      <td>69.0</td>\n",
       "      <td>NaN</td>\n",
       "      <td>NaN</td>\n",
       "      <td>3.0</td>\n",
       "      <td>66.0</td>\n",
       "    </tr>\n",
       "  </tbody>\n",
       "</table>\n",
       "<p>5 rows × 22 columns</p>\n",
       "</div>"
      ],
      "text/plain": [
       "Specie       Date Country          City  aqi    co    dew  humidity  mepaqi  \\\n",
       "0      2022-09-26      AE     Abu Dhabi  NaN  20.0   86.0     188.0     NaN   \n",
       "1      2022-09-26      AE         Dubai  NaN   NaN   22.0      24.0     NaN   \n",
       "2      2022-09-26      AR  Buenos Aires  NaN  68.0   72.0      72.0     NaN   \n",
       "3      2022-09-26      AT          Graz  NaN  44.0  161.0     209.0     NaN   \n",
       "4      2022-09-26      AT     Innsbruck  NaN  11.0   66.0      69.0     NaN   \n",
       "\n",
       "Specie  neph    no2  ...   pm10  pm25  precipitation  pressure    so2  \\\n",
       "0        NaN  113.0  ...  119.0   NaN            NaN     188.0  111.0   \n",
       "1        NaN    NaN  ...    NaN  24.0            NaN      24.0    NaN   \n",
       "2        NaN    NaN  ...   52.0   8.0            NaN      72.0    7.0   \n",
       "3        NaN  181.0  ...  207.0  24.0           21.0     209.0   39.0   \n",
       "4        NaN   69.0  ...   61.0   NaN            9.0      69.0    5.0   \n",
       "\n",
       "Specie  temperature  uvi    wd  wind-gust  wind-speed  \n",
       "0             188.0  NaN   NaN       22.0       160.0  \n",
       "1              24.0  NaN   NaN        NaN        24.0  \n",
       "2              72.0  NaN  19.0        NaN        68.0  \n",
       "3             209.0  NaN   NaN       46.0       189.0  \n",
       "4              69.0  NaN   NaN        3.0        66.0  \n",
       "\n",
       "[5 rows x 22 columns]"
      ]
     },
     "execution_count": 48,
     "metadata": {},
     "output_type": "execute_result"
    }
   ],
   "source": [
    "print(data_df_2022_Q4.shape)\n",
    "data_df_2022_Q4.head()"
   ]
  },
  {
   "cell_type": "code",
   "execution_count": 49,
   "id": "b61d0931",
   "metadata": {
    "execution": {
     "iopub.execute_input": "2024-12-30T03:22:34.705938Z",
     "iopub.status.busy": "2024-12-30T03:22:34.705559Z",
     "iopub.status.idle": "2024-12-30T03:22:34.720327Z",
     "shell.execute_reply": "2024-12-30T03:22:34.719257Z"
    },
    "executionInfo": {
     "elapsed": 7,
     "status": "ok",
     "timestamp": 1734445428523,
     "user": {
      "displayName": "Tahmida Majumder",
      "userId": "15415648085337204568"
     },
     "user_tz": -480
    },
    "id": "CfSd78vh6qcn",
    "outputId": "5b2b2a3a-18d4-4055-df17-f9e04a373c9a",
    "papermill": {
     "duration": 0.060711,
     "end_time": "2024-12-30T03:22:34.722063",
     "exception": false,
     "start_time": "2024-12-30T03:22:34.661352",
     "status": "completed"
    },
    "tags": []
   },
   "outputs": [
    {
     "data": {
      "text/plain": [
       "Specie\n",
       "Date                 0\n",
       "Country              0\n",
       "City                 0\n",
       "aqi              53624\n",
       "co               19997\n",
       "dew              10675\n",
       "humidity           203\n",
       "mepaqi           54432\n",
       "neph             54334\n",
       "no2               9605\n",
       "o3               12958\n",
       "pm1              54282\n",
       "pm10             10067\n",
       "pm25              6960\n",
       "precipitation    48184\n",
       "pressure           395\n",
       "so2              16571\n",
       "temperature        103\n",
       "uvi              53550\n",
       "wd               50877\n",
       "wind-gust        26553\n",
       "wind-speed        1359\n",
       "dtype: int64"
      ]
     },
     "execution_count": 49,
     "metadata": {},
     "output_type": "execute_result"
    }
   ],
   "source": [
    "data_df_2022_Q4.isnull().sum()"
   ]
  },
  {
   "cell_type": "code",
   "execution_count": null,
   "id": "bd8ab073",
   "metadata": {
    "id": "mR7YzXW3kmui",
    "papermill": {
     "duration": 0.043799,
     "end_time": "2024-12-30T03:22:34.811132",
     "exception": false,
     "start_time": "2024-12-30T03:22:34.767333",
     "status": "completed"
    },
    "tags": []
   },
   "outputs": [],
   "source": []
  },
  {
   "cell_type": "markdown",
   "id": "835d3ef3",
   "metadata": {
    "id": "7OJzdlsl6-ni",
    "papermill": {
     "duration": 0.044288,
     "end_time": "2024-12-30T03:22:34.899449",
     "exception": false,
     "start_time": "2024-12-30T03:22:34.855161",
     "status": "completed"
    },
    "tags": []
   },
   "source": [
    "# 2021_Q1"
   ]
  },
  {
   "cell_type": "code",
   "execution_count": 50,
   "id": "68effcd2",
   "metadata": {
    "execution": {
     "iopub.execute_input": "2024-12-30T03:22:34.990079Z",
     "iopub.status.busy": "2024-12-30T03:22:34.989716Z",
     "iopub.status.idle": "2024-12-30T03:22:35.573451Z",
     "shell.execute_reply": "2024-12-30T03:22:35.572339Z"
    },
    "executionInfo": {
     "elapsed": 801,
     "status": "ok",
     "timestamp": 1734445429318,
     "user": {
      "displayName": "Tahmida Majumder",
      "userId": "15415648085337204568"
     },
     "user_tz": -480
    },
    "id": "cabEtMG26-ni",
    "outputId": "9ab70de8-8853-43ee-a233-414b5ddc8e8a",
    "papermill": {
     "duration": 0.631416,
     "end_time": "2024-12-30T03:22:35.575210",
     "exception": false,
     "start_time": "2024-12-30T03:22:34.943794",
     "status": "completed"
    },
    "tags": []
   },
   "outputs": [
    {
     "name": "stdout",
     "output_type": "stream",
     "text": [
      "(590729, 5)\n"
     ]
    },
    {
     "data": {
      "text/html": [
       "<div>\n",
       "<style scoped>\n",
       "    .dataframe tbody tr th:only-of-type {\n",
       "        vertical-align: middle;\n",
       "    }\n",
       "\n",
       "    .dataframe tbody tr th {\n",
       "        vertical-align: top;\n",
       "    }\n",
       "\n",
       "    .dataframe thead th {\n",
       "        text-align: right;\n",
       "    }\n",
       "</style>\n",
       "<table border=\"1\" class=\"dataframe\">\n",
       "  <thead>\n",
       "    <tr style=\"text-align: right;\">\n",
       "      <th></th>\n",
       "      <th>Date</th>\n",
       "      <th>Country</th>\n",
       "      <th>City</th>\n",
       "      <th>Specie</th>\n",
       "      <th>count</th>\n",
       "    </tr>\n",
       "  </thead>\n",
       "  <tbody>\n",
       "    <tr>\n",
       "      <th>0</th>\n",
       "      <td>4/4/2021</td>\n",
       "      <td>CN</td>\n",
       "      <td>Beijing</td>\n",
       "      <td>pressure</td>\n",
       "      <td>288</td>\n",
       "    </tr>\n",
       "    <tr>\n",
       "      <th>1</th>\n",
       "      <td>4/4/2021</td>\n",
       "      <td>CN</td>\n",
       "      <td>Beijing</td>\n",
       "      <td>wind-speed</td>\n",
       "      <td>288</td>\n",
       "    </tr>\n",
       "    <tr>\n",
       "      <th>2</th>\n",
       "      <td>4/4/2021</td>\n",
       "      <td>CN</td>\n",
       "      <td>Beijing</td>\n",
       "      <td>dew</td>\n",
       "      <td>288</td>\n",
       "    </tr>\n",
       "    <tr>\n",
       "      <th>3</th>\n",
       "      <td>4/4/2021</td>\n",
       "      <td>CN</td>\n",
       "      <td>Beijing</td>\n",
       "      <td>co</td>\n",
       "      <td>137</td>\n",
       "    </tr>\n",
       "    <tr>\n",
       "      <th>4</th>\n",
       "      <td>4/4/2021</td>\n",
       "      <td>CN</td>\n",
       "      <td>Beijing</td>\n",
       "      <td>temperature</td>\n",
       "      <td>288</td>\n",
       "    </tr>\n",
       "    <tr>\n",
       "      <th>5</th>\n",
       "      <td>4/4/2021</td>\n",
       "      <td>CN</td>\n",
       "      <td>Beijing</td>\n",
       "      <td>pm25</td>\n",
       "      <td>266</td>\n",
       "    </tr>\n",
       "    <tr>\n",
       "      <th>6</th>\n",
       "      <td>4/4/2021</td>\n",
       "      <td>CN</td>\n",
       "      <td>Beijing</td>\n",
       "      <td>no2</td>\n",
       "      <td>285</td>\n",
       "    </tr>\n",
       "    <tr>\n",
       "      <th>7</th>\n",
       "      <td>4/4/2021</td>\n",
       "      <td>CN</td>\n",
       "      <td>Beijing</td>\n",
       "      <td>pm10</td>\n",
       "      <td>254</td>\n",
       "    </tr>\n",
       "    <tr>\n",
       "      <th>8</th>\n",
       "      <td>4/4/2021</td>\n",
       "      <td>CN</td>\n",
       "      <td>Beijing</td>\n",
       "      <td>humidity</td>\n",
       "      <td>288</td>\n",
       "    </tr>\n",
       "    <tr>\n",
       "      <th>9</th>\n",
       "      <td>4/4/2021</td>\n",
       "      <td>CN</td>\n",
       "      <td>Beijing</td>\n",
       "      <td>o3</td>\n",
       "      <td>284</td>\n",
       "    </tr>\n",
       "  </tbody>\n",
       "</table>\n",
       "</div>"
      ],
      "text/plain": [
       "       Date Country     City       Specie  count\n",
       "0  4/4/2021      CN  Beijing     pressure    288\n",
       "1  4/4/2021      CN  Beijing   wind-speed    288\n",
       "2  4/4/2021      CN  Beijing          dew    288\n",
       "3  4/4/2021      CN  Beijing           co    137\n",
       "4  4/4/2021      CN  Beijing  temperature    288\n",
       "5  4/4/2021      CN  Beijing         pm25    266\n",
       "6  4/4/2021      CN  Beijing          no2    285\n",
       "7  4/4/2021      CN  Beijing         pm10    254\n",
       "8  4/4/2021      CN  Beijing     humidity    288\n",
       "9  4/4/2021      CN  Beijing           o3    284"
      ]
     },
     "execution_count": 50,
     "metadata": {},
     "output_type": "execute_result"
    }
   ],
   "source": [
    "# Loading the data\n",
    "raw_data_2021_Q1 = pd.read_csv(r\"/kaggle/input/data-for-combine/airqualitydata-2021Q1.csv\")\n",
    "\n",
    "# print the shape\n",
    "print(raw_data_2021_Q1.shape)\n",
    "\n",
    "#runs the first 5 rows\n",
    "raw_data_2021_Q1.head(10)"
   ]
  },
  {
   "cell_type": "code",
   "execution_count": 51,
   "id": "38985e46",
   "metadata": {
    "execution": {
     "iopub.execute_input": "2024-12-30T03:22:35.663973Z",
     "iopub.status.busy": "2024-12-30T03:22:35.663588Z",
     "iopub.status.idle": "2024-12-30T03:22:35.729114Z",
     "shell.execute_reply": "2024-12-30T03:22:35.728108Z"
    },
    "id": "B-f0yfdB6-ni",
    "papermill": {
     "duration": 0.112029,
     "end_time": "2024-12-30T03:22:35.730973",
     "exception": false,
     "start_time": "2024-12-30T03:22:35.618944",
     "status": "completed"
    },
    "tags": []
   },
   "outputs": [],
   "source": [
    "# Convert 'Date' to datetime\n",
    "raw_data_2021_Q1['Date'] = pd.to_datetime(raw_data_2021_Q1['Date'])"
   ]
  },
  {
   "cell_type": "code",
   "execution_count": 52,
   "id": "8d7faae4",
   "metadata": {
    "execution": {
     "iopub.execute_input": "2024-12-30T03:22:35.820970Z",
     "iopub.status.busy": "2024-12-30T03:22:35.820607Z",
     "iopub.status.idle": "2024-12-30T03:22:35.826180Z",
     "shell.execute_reply": "2024-12-30T03:22:35.825165Z"
    },
    "executionInfo": {
     "elapsed": 6,
     "status": "ok",
     "timestamp": 1734445429318,
     "user": {
      "displayName": "Tahmida Majumder",
      "userId": "15415648085337204568"
     },
     "user_tz": -480
    },
    "id": "OMm8NtLO6-ni",
    "outputId": "b012fc16-71a5-417b-bf6e-6fe8588b8bca",
    "papermill": {
     "duration": 0.052226,
     "end_time": "2024-12-30T03:22:35.828152",
     "exception": false,
     "start_time": "2024-12-30T03:22:35.775926",
     "status": "completed"
    },
    "tags": []
   },
   "outputs": [
    {
     "data": {
      "text/plain": [
       "(590729, 5)"
      ]
     },
     "execution_count": 52,
     "metadata": {},
     "output_type": "execute_result"
    }
   ],
   "source": [
    "raw_data_2021_Q1.shape"
   ]
  },
  {
   "cell_type": "code",
   "execution_count": 53,
   "id": "a91fd761",
   "metadata": {
    "execution": {
     "iopub.execute_input": "2024-12-30T03:22:35.919310Z",
     "iopub.status.busy": "2024-12-30T03:22:35.918935Z",
     "iopub.status.idle": "2024-12-30T03:22:36.323177Z",
     "shell.execute_reply": "2024-12-30T03:22:36.321754Z"
    },
    "id": "mdLTyMD96-nj",
    "papermill": {
     "duration": 0.452088,
     "end_time": "2024-12-30T03:22:36.325096",
     "exception": false,
     "start_time": "2024-12-30T03:22:35.873008",
     "status": "completed"
    },
    "tags": []
   },
   "outputs": [],
   "source": [
    "# Pivot the data\n",
    "data_df_2021_Q1 = raw_data_2021_Q1.pivot_table(\n",
    "    index=['Date', 'Country', 'City'],  # Grouping columns\n",
    "    columns='Specie',                  # Unique values become columns\n",
    "    values='count',                   # Values to aggregate\n",
    "    aggfunc='mean'                     # Aggregation function\n",
    ").reset_index()\n"
   ]
  },
  {
   "cell_type": "code",
   "execution_count": 54,
   "id": "5ba444d0",
   "metadata": {
    "execution": {
     "iopub.execute_input": "2024-12-30T03:22:36.421105Z",
     "iopub.status.busy": "2024-12-30T03:22:36.420703Z",
     "iopub.status.idle": "2024-12-30T03:22:36.448711Z",
     "shell.execute_reply": "2024-12-30T03:22:36.447305Z"
    },
    "executionInfo": {
     "elapsed": 571,
     "status": "ok",
     "timestamp": 1734445430617,
     "user": {
      "displayName": "Tahmida Majumder",
      "userId": "15415648085337204568"
     },
     "user_tz": -480
    },
    "id": "-TKzBkVF6-nj",
    "outputId": "05fe4fae-db24-41e8-f983-8a20a15c8c25",
    "papermill": {
     "duration": 0.080069,
     "end_time": "2024-12-30T03:22:36.450815",
     "exception": false,
     "start_time": "2024-12-30T03:22:36.370746",
     "status": "completed"
    },
    "tags": []
   },
   "outputs": [
    {
     "name": "stdout",
     "output_type": "stream",
     "text": [
      "(58552, 22)\n"
     ]
    },
    {
     "data": {
      "text/html": [
       "<div>\n",
       "<style scoped>\n",
       "    .dataframe tbody tr th:only-of-type {\n",
       "        vertical-align: middle;\n",
       "    }\n",
       "\n",
       "    .dataframe tbody tr th {\n",
       "        vertical-align: top;\n",
       "    }\n",
       "\n",
       "    .dataframe thead th {\n",
       "        text-align: right;\n",
       "    }\n",
       "</style>\n",
       "<table border=\"1\" class=\"dataframe\">\n",
       "  <thead>\n",
       "    <tr style=\"text-align: right;\">\n",
       "      <th>Specie</th>\n",
       "      <th>Date</th>\n",
       "      <th>Country</th>\n",
       "      <th>City</th>\n",
       "      <th>aqi</th>\n",
       "      <th>co</th>\n",
       "      <th>dew</th>\n",
       "      <th>humidity</th>\n",
       "      <th>mepaqi</th>\n",
       "      <th>neph</th>\n",
       "      <th>no2</th>\n",
       "      <th>...</th>\n",
       "      <th>pm10</th>\n",
       "      <th>pm25</th>\n",
       "      <th>precipitation</th>\n",
       "      <th>pressure</th>\n",
       "      <th>so2</th>\n",
       "      <th>temperature</th>\n",
       "      <th>uvi</th>\n",
       "      <th>wd</th>\n",
       "      <th>wind-gust</th>\n",
       "      <th>wind-speed</th>\n",
       "    </tr>\n",
       "  </thead>\n",
       "  <tbody>\n",
       "    <tr>\n",
       "      <th>0</th>\n",
       "      <td>2020-12-28</td>\n",
       "      <td>AE</td>\n",
       "      <td>Abu Dhabi</td>\n",
       "      <td>NaN</td>\n",
       "      <td>6.0</td>\n",
       "      <td>122.0</td>\n",
       "      <td>192.0</td>\n",
       "      <td>NaN</td>\n",
       "      <td>NaN</td>\n",
       "      <td>114.0</td>\n",
       "      <td>...</td>\n",
       "      <td>120.0</td>\n",
       "      <td>24.0</td>\n",
       "      <td>NaN</td>\n",
       "      <td>192.0</td>\n",
       "      <td>116.0</td>\n",
       "      <td>192.0</td>\n",
       "      <td>NaN</td>\n",
       "      <td>NaN</td>\n",
       "      <td>NaN</td>\n",
       "      <td>192.0</td>\n",
       "    </tr>\n",
       "    <tr>\n",
       "      <th>1</th>\n",
       "      <td>2020-12-28</td>\n",
       "      <td>AE</td>\n",
       "      <td>Dubai</td>\n",
       "      <td>NaN</td>\n",
       "      <td>NaN</td>\n",
       "      <td>20.0</td>\n",
       "      <td>24.0</td>\n",
       "      <td>NaN</td>\n",
       "      <td>NaN</td>\n",
       "      <td>NaN</td>\n",
       "      <td>...</td>\n",
       "      <td>NaN</td>\n",
       "      <td>24.0</td>\n",
       "      <td>NaN</td>\n",
       "      <td>24.0</td>\n",
       "      <td>NaN</td>\n",
       "      <td>24.0</td>\n",
       "      <td>NaN</td>\n",
       "      <td>NaN</td>\n",
       "      <td>NaN</td>\n",
       "      <td>24.0</td>\n",
       "    </tr>\n",
       "    <tr>\n",
       "      <th>2</th>\n",
       "      <td>2020-12-28</td>\n",
       "      <td>AF</td>\n",
       "      <td>Kabul</td>\n",
       "      <td>NaN</td>\n",
       "      <td>NaN</td>\n",
       "      <td>21.0</td>\n",
       "      <td>24.0</td>\n",
       "      <td>NaN</td>\n",
       "      <td>NaN</td>\n",
       "      <td>NaN</td>\n",
       "      <td>...</td>\n",
       "      <td>NaN</td>\n",
       "      <td>24.0</td>\n",
       "      <td>NaN</td>\n",
       "      <td>24.0</td>\n",
       "      <td>NaN</td>\n",
       "      <td>24.0</td>\n",
       "      <td>NaN</td>\n",
       "      <td>NaN</td>\n",
       "      <td>NaN</td>\n",
       "      <td>24.0</td>\n",
       "    </tr>\n",
       "    <tr>\n",
       "      <th>3</th>\n",
       "      <td>2020-12-28</td>\n",
       "      <td>AR</td>\n",
       "      <td>Buenos Aires</td>\n",
       "      <td>NaN</td>\n",
       "      <td>70.0</td>\n",
       "      <td>48.0</td>\n",
       "      <td>96.0</td>\n",
       "      <td>NaN</td>\n",
       "      <td>NaN</td>\n",
       "      <td>46.0</td>\n",
       "      <td>...</td>\n",
       "      <td>77.0</td>\n",
       "      <td>23.0</td>\n",
       "      <td>NaN</td>\n",
       "      <td>96.0</td>\n",
       "      <td>NaN</td>\n",
       "      <td>96.0</td>\n",
       "      <td>NaN</td>\n",
       "      <td>18.0</td>\n",
       "      <td>60.0</td>\n",
       "      <td>96.0</td>\n",
       "    </tr>\n",
       "    <tr>\n",
       "      <th>4</th>\n",
       "      <td>2020-12-28</td>\n",
       "      <td>AT</td>\n",
       "      <td>Graz</td>\n",
       "      <td>NaN</td>\n",
       "      <td>42.0</td>\n",
       "      <td>133.0</td>\n",
       "      <td>216.0</td>\n",
       "      <td>NaN</td>\n",
       "      <td>NaN</td>\n",
       "      <td>191.0</td>\n",
       "      <td>...</td>\n",
       "      <td>215.0</td>\n",
       "      <td>NaN</td>\n",
       "      <td>21.0</td>\n",
       "      <td>216.0</td>\n",
       "      <td>29.0</td>\n",
       "      <td>216.0</td>\n",
       "      <td>NaN</td>\n",
       "      <td>NaN</td>\n",
       "      <td>202.0</td>\n",
       "      <td>208.0</td>\n",
       "    </tr>\n",
       "  </tbody>\n",
       "</table>\n",
       "<p>5 rows × 22 columns</p>\n",
       "</div>"
      ],
      "text/plain": [
       "Specie       Date Country          City  aqi    co    dew  humidity  mepaqi  \\\n",
       "0      2020-12-28      AE     Abu Dhabi  NaN   6.0  122.0     192.0     NaN   \n",
       "1      2020-12-28      AE         Dubai  NaN   NaN   20.0      24.0     NaN   \n",
       "2      2020-12-28      AF         Kabul  NaN   NaN   21.0      24.0     NaN   \n",
       "3      2020-12-28      AR  Buenos Aires  NaN  70.0   48.0      96.0     NaN   \n",
       "4      2020-12-28      AT          Graz  NaN  42.0  133.0     216.0     NaN   \n",
       "\n",
       "Specie  neph    no2  ...   pm10  pm25  precipitation  pressure    so2  \\\n",
       "0        NaN  114.0  ...  120.0  24.0            NaN     192.0  116.0   \n",
       "1        NaN    NaN  ...    NaN  24.0            NaN      24.0    NaN   \n",
       "2        NaN    NaN  ...    NaN  24.0            NaN      24.0    NaN   \n",
       "3        NaN   46.0  ...   77.0  23.0            NaN      96.0    NaN   \n",
       "4        NaN  191.0  ...  215.0   NaN           21.0     216.0   29.0   \n",
       "\n",
       "Specie  temperature  uvi    wd  wind-gust  wind-speed  \n",
       "0             192.0  NaN   NaN        NaN       192.0  \n",
       "1              24.0  NaN   NaN        NaN        24.0  \n",
       "2              24.0  NaN   NaN        NaN        24.0  \n",
       "3              96.0  NaN  18.0       60.0        96.0  \n",
       "4             216.0  NaN   NaN      202.0       208.0  \n",
       "\n",
       "[5 rows x 22 columns]"
      ]
     },
     "execution_count": 54,
     "metadata": {},
     "output_type": "execute_result"
    }
   ],
   "source": [
    "print(data_df_2021_Q1.shape)\n",
    "data_df_2021_Q1.head()"
   ]
  },
  {
   "cell_type": "code",
   "execution_count": 55,
   "id": "5ec87e44",
   "metadata": {
    "execution": {
     "iopub.execute_input": "2024-12-30T03:22:36.549908Z",
     "iopub.status.busy": "2024-12-30T03:22:36.549458Z",
     "iopub.status.idle": "2024-12-30T03:22:36.565821Z",
     "shell.execute_reply": "2024-12-30T03:22:36.564429Z"
    },
    "executionInfo": {
     "elapsed": 7,
     "status": "ok",
     "timestamp": 1734445430618,
     "user": {
      "displayName": "Tahmida Majumder",
      "userId": "15415648085337204568"
     },
     "user_tz": -480
    },
    "id": "amjDbX-q6-nj",
    "outputId": "a273a9cb-fadc-4978-9038-0cdc6f155924",
    "papermill": {
     "duration": 0.067187,
     "end_time": "2024-12-30T03:22:36.567963",
     "exception": false,
     "start_time": "2024-12-30T03:22:36.500776",
     "status": "completed"
    },
    "tags": []
   },
   "outputs": [
    {
     "data": {
      "text/plain": [
       "Specie\n",
       "Date                 0\n",
       "Country              0\n",
       "City                 0\n",
       "aqi              57095\n",
       "co               21064\n",
       "dew              12610\n",
       "humidity           203\n",
       "mepaqi           58454\n",
       "neph             58356\n",
       "no2              10946\n",
       "o3               15009\n",
       "pm1              58358\n",
       "pm10             10897\n",
       "pm25              8962\n",
       "precipitation    52036\n",
       "pressure           360\n",
       "so2              18363\n",
       "temperature        177\n",
       "uvi              57577\n",
       "wd               53821\n",
       "wind-gust        26579\n",
       "wind-speed         892\n",
       "dtype: int64"
      ]
     },
     "execution_count": 55,
     "metadata": {},
     "output_type": "execute_result"
    }
   ],
   "source": [
    "data_df_2021_Q1.isnull().sum()"
   ]
  },
  {
   "cell_type": "code",
   "execution_count": null,
   "id": "91d71bff",
   "metadata": {
    "id": "z7QPUFHekmxG",
    "papermill": {
     "duration": 0.067064,
     "end_time": "2024-12-30T03:22:36.683492",
     "exception": false,
     "start_time": "2024-12-30T03:22:36.616428",
     "status": "completed"
    },
    "tags": []
   },
   "outputs": [],
   "source": []
  },
  {
   "cell_type": "code",
   "execution_count": null,
   "id": "9bb1998d",
   "metadata": {
    "id": "C_JNMdE37dA1",
    "papermill": {
     "duration": 0.04567,
     "end_time": "2024-12-30T03:22:36.781078",
     "exception": false,
     "start_time": "2024-12-30T03:22:36.735408",
     "status": "completed"
    },
    "tags": []
   },
   "outputs": [],
   "source": []
  },
  {
   "cell_type": "markdown",
   "id": "1ceb7d8f",
   "metadata": {
    "id": "DK1N9LM97dA1",
    "papermill": {
     "duration": 0.045299,
     "end_time": "2024-12-30T03:22:36.870753",
     "exception": false,
     "start_time": "2024-12-30T03:22:36.825454",
     "status": "completed"
    },
    "tags": []
   },
   "source": [
    "# 2021_Q2"
   ]
  },
  {
   "cell_type": "code",
   "execution_count": 56,
   "id": "c77f1fcc",
   "metadata": {
    "execution": {
     "iopub.execute_input": "2024-12-30T03:22:36.963059Z",
     "iopub.status.busy": "2024-12-30T03:22:36.962709Z",
     "iopub.status.idle": "2024-12-30T03:22:37.560794Z",
     "shell.execute_reply": "2024-12-30T03:22:37.559835Z"
    },
    "executionInfo": {
     "elapsed": 957,
     "status": "ok",
     "timestamp": 1734445431570,
     "user": {
      "displayName": "Tahmida Majumder",
      "userId": "15415648085337204568"
     },
     "user_tz": -480
    },
    "id": "13HBc4s67dA2",
    "outputId": "abfacf20-9a88-4737-c6ba-2f5f852aa94d",
    "papermill": {
     "duration": 0.645294,
     "end_time": "2024-12-30T03:22:37.562614",
     "exception": false,
     "start_time": "2024-12-30T03:22:36.917320",
     "status": "completed"
    },
    "tags": []
   },
   "outputs": [
    {
     "name": "stdout",
     "output_type": "stream",
     "text": [
      "(587119, 5)\n"
     ]
    },
    {
     "data": {
      "text/html": [
       "<div>\n",
       "<style scoped>\n",
       "    .dataframe tbody tr th:only-of-type {\n",
       "        vertical-align: middle;\n",
       "    }\n",
       "\n",
       "    .dataframe tbody tr th {\n",
       "        vertical-align: top;\n",
       "    }\n",
       "\n",
       "    .dataframe thead th {\n",
       "        text-align: right;\n",
       "    }\n",
       "</style>\n",
       "<table border=\"1\" class=\"dataframe\">\n",
       "  <thead>\n",
       "    <tr style=\"text-align: right;\">\n",
       "      <th></th>\n",
       "      <th>Date</th>\n",
       "      <th>Country</th>\n",
       "      <th>City</th>\n",
       "      <th>Specie</th>\n",
       "      <th>count</th>\n",
       "    </tr>\n",
       "  </thead>\n",
       "  <tbody>\n",
       "    <tr>\n",
       "      <th>0</th>\n",
       "      <td>7/4/2021</td>\n",
       "      <td>IQ</td>\n",
       "      <td>Baghdad</td>\n",
       "      <td>dew</td>\n",
       "      <td>23</td>\n",
       "    </tr>\n",
       "    <tr>\n",
       "      <th>1</th>\n",
       "      <td>7/4/2021</td>\n",
       "      <td>IQ</td>\n",
       "      <td>Baghdad</td>\n",
       "      <td>temperature</td>\n",
       "      <td>23</td>\n",
       "    </tr>\n",
       "    <tr>\n",
       "      <th>2</th>\n",
       "      <td>7/4/2021</td>\n",
       "      <td>IQ</td>\n",
       "      <td>Baghdad</td>\n",
       "      <td>humidity</td>\n",
       "      <td>23</td>\n",
       "    </tr>\n",
       "    <tr>\n",
       "      <th>3</th>\n",
       "      <td>7/4/2021</td>\n",
       "      <td>IQ</td>\n",
       "      <td>Baghdad</td>\n",
       "      <td>pm25</td>\n",
       "      <td>24</td>\n",
       "    </tr>\n",
       "    <tr>\n",
       "      <th>4</th>\n",
       "      <td>7/4/2021</td>\n",
       "      <td>IQ</td>\n",
       "      <td>Baghdad</td>\n",
       "      <td>pressure</td>\n",
       "      <td>23</td>\n",
       "    </tr>\n",
       "    <tr>\n",
       "      <th>5</th>\n",
       "      <td>7/4/2021</td>\n",
       "      <td>IQ</td>\n",
       "      <td>Baghdad</td>\n",
       "      <td>wind-speed</td>\n",
       "      <td>23</td>\n",
       "    </tr>\n",
       "    <tr>\n",
       "      <th>6</th>\n",
       "      <td>7/4/2021</td>\n",
       "      <td>MK</td>\n",
       "      <td>Skopje</td>\n",
       "      <td>humidity</td>\n",
       "      <td>168</td>\n",
       "    </tr>\n",
       "    <tr>\n",
       "      <th>7</th>\n",
       "      <td>7/4/2021</td>\n",
       "      <td>MK</td>\n",
       "      <td>Skopje</td>\n",
       "      <td>pm25</td>\n",
       "      <td>144</td>\n",
       "    </tr>\n",
       "    <tr>\n",
       "      <th>8</th>\n",
       "      <td>7/4/2021</td>\n",
       "      <td>MK</td>\n",
       "      <td>Skopje</td>\n",
       "      <td>no2</td>\n",
       "      <td>163</td>\n",
       "    </tr>\n",
       "    <tr>\n",
       "      <th>9</th>\n",
       "      <td>7/4/2021</td>\n",
       "      <td>MK</td>\n",
       "      <td>Skopje</td>\n",
       "      <td>pressure</td>\n",
       "      <td>168</td>\n",
       "    </tr>\n",
       "  </tbody>\n",
       "</table>\n",
       "</div>"
      ],
      "text/plain": [
       "       Date Country     City       Specie  count\n",
       "0  7/4/2021      IQ  Baghdad          dew     23\n",
       "1  7/4/2021      IQ  Baghdad  temperature     23\n",
       "2  7/4/2021      IQ  Baghdad     humidity     23\n",
       "3  7/4/2021      IQ  Baghdad         pm25     24\n",
       "4  7/4/2021      IQ  Baghdad     pressure     23\n",
       "5  7/4/2021      IQ  Baghdad   wind-speed     23\n",
       "6  7/4/2021      MK   Skopje     humidity    168\n",
       "7  7/4/2021      MK   Skopje         pm25    144\n",
       "8  7/4/2021      MK   Skopje          no2    163\n",
       "9  7/4/2021      MK   Skopje     pressure    168"
      ]
     },
     "execution_count": 56,
     "metadata": {},
     "output_type": "execute_result"
    }
   ],
   "source": [
    "# Loading the data\n",
    "raw_data_2021_Q2 = pd.read_csv(r\"/kaggle/input/data-for-combine/airqualitydata-2021Q2.csv\")\n",
    "\n",
    "# print the shape\n",
    "print(raw_data_2021_Q2.shape)\n",
    "\n",
    "#runs the first 5 rows\n",
    "raw_data_2021_Q2.head(10)"
   ]
  },
  {
   "cell_type": "code",
   "execution_count": 57,
   "id": "ceede884",
   "metadata": {
    "execution": {
     "iopub.execute_input": "2024-12-30T03:22:37.653933Z",
     "iopub.status.busy": "2024-12-30T03:22:37.653530Z",
     "iopub.status.idle": "2024-12-30T03:22:37.724573Z",
     "shell.execute_reply": "2024-12-30T03:22:37.723390Z"
    },
    "id": "f97XI_7l7dA2",
    "papermill": {
     "duration": 0.118741,
     "end_time": "2024-12-30T03:22:37.726560",
     "exception": false,
     "start_time": "2024-12-30T03:22:37.607819",
     "status": "completed"
    },
    "tags": []
   },
   "outputs": [],
   "source": [
    "# Convert 'Date' to datetime\n",
    "raw_data_2021_Q2['Date'] = pd.to_datetime(raw_data_2021_Q2['Date'])"
   ]
  },
  {
   "cell_type": "code",
   "execution_count": 58,
   "id": "aba6a2b0",
   "metadata": {
    "execution": {
     "iopub.execute_input": "2024-12-30T03:22:37.817787Z",
     "iopub.status.busy": "2024-12-30T03:22:37.817384Z",
     "iopub.status.idle": "2024-12-30T03:22:37.823183Z",
     "shell.execute_reply": "2024-12-30T03:22:37.822296Z"
    },
    "executionInfo": {
     "elapsed": 8,
     "status": "ok",
     "timestamp": 1734445431571,
     "user": {
      "displayName": "Tahmida Majumder",
      "userId": "15415648085337204568"
     },
     "user_tz": -480
    },
    "id": "iZ02mbgV7dA2",
    "outputId": "e51e4e76-d24f-4c4f-a7d9-6f99c39c55c4",
    "papermill": {
     "duration": 0.052941,
     "end_time": "2024-12-30T03:22:37.824902",
     "exception": false,
     "start_time": "2024-12-30T03:22:37.771961",
     "status": "completed"
    },
    "tags": []
   },
   "outputs": [
    {
     "data": {
      "text/plain": [
       "(587119, 5)"
      ]
     },
     "execution_count": 58,
     "metadata": {},
     "output_type": "execute_result"
    }
   ],
   "source": [
    "raw_data_2021_Q2.shape"
   ]
  },
  {
   "cell_type": "code",
   "execution_count": 59,
   "id": "1ec2cb7e",
   "metadata": {
    "execution": {
     "iopub.execute_input": "2024-12-30T03:22:37.917203Z",
     "iopub.status.busy": "2024-12-30T03:22:37.916862Z",
     "iopub.status.idle": "2024-12-30T03:22:38.303258Z",
     "shell.execute_reply": "2024-12-30T03:22:38.302029Z"
    },
    "id": "Y2kR42f67dA2",
    "papermill": {
     "duration": 0.435469,
     "end_time": "2024-12-30T03:22:38.305597",
     "exception": false,
     "start_time": "2024-12-30T03:22:37.870128",
     "status": "completed"
    },
    "tags": []
   },
   "outputs": [],
   "source": [
    "# Pivot the data\n",
    "data_df_2021_Q2 = raw_data_2021_Q2.pivot_table(\n",
    "    index=['Date', 'Country', 'City'],  # Grouping columns\n",
    "    columns='Specie',                  # Unique values become columns\n",
    "    values='count',                   # Values to aggregate\n",
    "    aggfunc='mean'                     # Aggregation function\n",
    ").reset_index()\n"
   ]
  },
  {
   "cell_type": "code",
   "execution_count": 60,
   "id": "5a9a48d9",
   "metadata": {
    "execution": {
     "iopub.execute_input": "2024-12-30T03:22:38.396180Z",
     "iopub.status.busy": "2024-12-30T03:22:38.395841Z",
     "iopub.status.idle": "2024-12-30T03:22:38.421462Z",
     "shell.execute_reply": "2024-12-30T03:22:38.420399Z"
    },
    "executionInfo": {
     "elapsed": 8,
     "status": "ok",
     "timestamp": 1734445432481,
     "user": {
      "displayName": "Tahmida Majumder",
      "userId": "15415648085337204568"
     },
     "user_tz": -480
    },
    "id": "HzLh01FP7dA2",
    "outputId": "bf7486e9-db00-41b2-84dd-1ea467117bee",
    "papermill": {
     "duration": 0.072947,
     "end_time": "2024-12-30T03:22:38.423228",
     "exception": false,
     "start_time": "2024-12-30T03:22:38.350281",
     "status": "completed"
    },
    "tags": []
   },
   "outputs": [
    {
     "name": "stdout",
     "output_type": "stream",
     "text": [
      "(58359, 22)\n"
     ]
    },
    {
     "data": {
      "text/html": [
       "<div>\n",
       "<style scoped>\n",
       "    .dataframe tbody tr th:only-of-type {\n",
       "        vertical-align: middle;\n",
       "    }\n",
       "\n",
       "    .dataframe tbody tr th {\n",
       "        vertical-align: top;\n",
       "    }\n",
       "\n",
       "    .dataframe thead th {\n",
       "        text-align: right;\n",
       "    }\n",
       "</style>\n",
       "<table border=\"1\" class=\"dataframe\">\n",
       "  <thead>\n",
       "    <tr style=\"text-align: right;\">\n",
       "      <th>Specie</th>\n",
       "      <th>Date</th>\n",
       "      <th>Country</th>\n",
       "      <th>City</th>\n",
       "      <th>aqi</th>\n",
       "      <th>co</th>\n",
       "      <th>dew</th>\n",
       "      <th>humidity</th>\n",
       "      <th>mepaqi</th>\n",
       "      <th>neph</th>\n",
       "      <th>no2</th>\n",
       "      <th>...</th>\n",
       "      <th>pm10</th>\n",
       "      <th>pm25</th>\n",
       "      <th>precipitation</th>\n",
       "      <th>pressure</th>\n",
       "      <th>so2</th>\n",
       "      <th>temperature</th>\n",
       "      <th>uvi</th>\n",
       "      <th>wd</th>\n",
       "      <th>wind-gust</th>\n",
       "      <th>wind-speed</th>\n",
       "    </tr>\n",
       "  </thead>\n",
       "  <tbody>\n",
       "    <tr>\n",
       "      <th>0</th>\n",
       "      <td>2021-03-29</td>\n",
       "      <td>AE</td>\n",
       "      <td>Abu Dhabi</td>\n",
       "      <td>NaN</td>\n",
       "      <td>17.0</td>\n",
       "      <td>150.0</td>\n",
       "      <td>192.0</td>\n",
       "      <td>NaN</td>\n",
       "      <td>NaN</td>\n",
       "      <td>120.0</td>\n",
       "      <td>...</td>\n",
       "      <td>120.0</td>\n",
       "      <td>NaN</td>\n",
       "      <td>NaN</td>\n",
       "      <td>192.0</td>\n",
       "      <td>120.0</td>\n",
       "      <td>192.0</td>\n",
       "      <td>NaN</td>\n",
       "      <td>NaN</td>\n",
       "      <td>NaN</td>\n",
       "      <td>192.0</td>\n",
       "    </tr>\n",
       "    <tr>\n",
       "      <th>1</th>\n",
       "      <td>2021-03-29</td>\n",
       "      <td>AE</td>\n",
       "      <td>Dubai</td>\n",
       "      <td>NaN</td>\n",
       "      <td>NaN</td>\n",
       "      <td>20.0</td>\n",
       "      <td>24.0</td>\n",
       "      <td>NaN</td>\n",
       "      <td>NaN</td>\n",
       "      <td>NaN</td>\n",
       "      <td>...</td>\n",
       "      <td>NaN</td>\n",
       "      <td>24.0</td>\n",
       "      <td>NaN</td>\n",
       "      <td>24.0</td>\n",
       "      <td>NaN</td>\n",
       "      <td>24.0</td>\n",
       "      <td>NaN</td>\n",
       "      <td>NaN</td>\n",
       "      <td>NaN</td>\n",
       "      <td>24.0</td>\n",
       "    </tr>\n",
       "    <tr>\n",
       "      <th>2</th>\n",
       "      <td>2021-03-29</td>\n",
       "      <td>AF</td>\n",
       "      <td>Kabul</td>\n",
       "      <td>NaN</td>\n",
       "      <td>NaN</td>\n",
       "      <td>20.0</td>\n",
       "      <td>21.0</td>\n",
       "      <td>NaN</td>\n",
       "      <td>NaN</td>\n",
       "      <td>NaN</td>\n",
       "      <td>...</td>\n",
       "      <td>NaN</td>\n",
       "      <td>24.0</td>\n",
       "      <td>NaN</td>\n",
       "      <td>21.0</td>\n",
       "      <td>NaN</td>\n",
       "      <td>21.0</td>\n",
       "      <td>NaN</td>\n",
       "      <td>NaN</td>\n",
       "      <td>5.0</td>\n",
       "      <td>20.0</td>\n",
       "    </tr>\n",
       "    <tr>\n",
       "      <th>3</th>\n",
       "      <td>2021-03-29</td>\n",
       "      <td>AR</td>\n",
       "      <td>Buenos Aires</td>\n",
       "      <td>NaN</td>\n",
       "      <td>23.0</td>\n",
       "      <td>NaN</td>\n",
       "      <td>24.0</td>\n",
       "      <td>NaN</td>\n",
       "      <td>NaN</td>\n",
       "      <td>NaN</td>\n",
       "      <td>...</td>\n",
       "      <td>NaN</td>\n",
       "      <td>NaN</td>\n",
       "      <td>NaN</td>\n",
       "      <td>24.0</td>\n",
       "      <td>NaN</td>\n",
       "      <td>24.0</td>\n",
       "      <td>NaN</td>\n",
       "      <td>18.0</td>\n",
       "      <td>16.0</td>\n",
       "      <td>16.0</td>\n",
       "    </tr>\n",
       "    <tr>\n",
       "      <th>4</th>\n",
       "      <td>2021-03-29</td>\n",
       "      <td>AT</td>\n",
       "      <td>Graz</td>\n",
       "      <td>NaN</td>\n",
       "      <td>57.0</td>\n",
       "      <td>133.0</td>\n",
       "      <td>216.0</td>\n",
       "      <td>NaN</td>\n",
       "      <td>NaN</td>\n",
       "      <td>183.0</td>\n",
       "      <td>...</td>\n",
       "      <td>204.0</td>\n",
       "      <td>NaN</td>\n",
       "      <td>NaN</td>\n",
       "      <td>216.0</td>\n",
       "      <td>75.0</td>\n",
       "      <td>216.0</td>\n",
       "      <td>NaN</td>\n",
       "      <td>NaN</td>\n",
       "      <td>213.0</td>\n",
       "      <td>197.0</td>\n",
       "    </tr>\n",
       "  </tbody>\n",
       "</table>\n",
       "<p>5 rows × 22 columns</p>\n",
       "</div>"
      ],
      "text/plain": [
       "Specie       Date Country          City  aqi    co    dew  humidity  mepaqi  \\\n",
       "0      2021-03-29      AE     Abu Dhabi  NaN  17.0  150.0     192.0     NaN   \n",
       "1      2021-03-29      AE         Dubai  NaN   NaN   20.0      24.0     NaN   \n",
       "2      2021-03-29      AF         Kabul  NaN   NaN   20.0      21.0     NaN   \n",
       "3      2021-03-29      AR  Buenos Aires  NaN  23.0    NaN      24.0     NaN   \n",
       "4      2021-03-29      AT          Graz  NaN  57.0  133.0     216.0     NaN   \n",
       "\n",
       "Specie  neph    no2  ...   pm10  pm25  precipitation  pressure    so2  \\\n",
       "0        NaN  120.0  ...  120.0   NaN            NaN     192.0  120.0   \n",
       "1        NaN    NaN  ...    NaN  24.0            NaN      24.0    NaN   \n",
       "2        NaN    NaN  ...    NaN  24.0            NaN      21.0    NaN   \n",
       "3        NaN    NaN  ...    NaN   NaN            NaN      24.0    NaN   \n",
       "4        NaN  183.0  ...  204.0   NaN            NaN     216.0   75.0   \n",
       "\n",
       "Specie  temperature  uvi    wd  wind-gust  wind-speed  \n",
       "0             192.0  NaN   NaN        NaN       192.0  \n",
       "1              24.0  NaN   NaN        NaN        24.0  \n",
       "2              21.0  NaN   NaN        5.0        20.0  \n",
       "3              24.0  NaN  18.0       16.0        16.0  \n",
       "4             216.0  NaN   NaN      213.0       197.0  \n",
       "\n",
       "[5 rows x 22 columns]"
      ]
     },
     "execution_count": 60,
     "metadata": {},
     "output_type": "execute_result"
    }
   ],
   "source": [
    "print(data_df_2021_Q2.shape)\n",
    "data_df_2021_Q2.head()"
   ]
  },
  {
   "cell_type": "code",
   "execution_count": 61,
   "id": "1de5da7d",
   "metadata": {
    "execution": {
     "iopub.execute_input": "2024-12-30T03:22:38.516084Z",
     "iopub.status.busy": "2024-12-30T03:22:38.515737Z",
     "iopub.status.idle": "2024-12-30T03:22:38.531853Z",
     "shell.execute_reply": "2024-12-30T03:22:38.530830Z"
    },
    "executionInfo": {
     "elapsed": 7,
     "status": "ok",
     "timestamp": 1734445432481,
     "user": {
      "displayName": "Tahmida Majumder",
      "userId": "15415648085337204568"
     },
     "user_tz": -480
    },
    "id": "UJcxOBzk7dA2",
    "outputId": "18639109-5b27-4018-d064-58cabeffc075",
    "papermill": {
     "duration": 0.06357,
     "end_time": "2024-12-30T03:22:38.533393",
     "exception": false,
     "start_time": "2024-12-30T03:22:38.469823",
     "status": "completed"
    },
    "tags": []
   },
   "outputs": [
    {
     "data": {
      "text/plain": [
       "Specie\n",
       "Date                 0\n",
       "Country              0\n",
       "City                 0\n",
       "aqi              57041\n",
       "co               21327\n",
       "dew              13091\n",
       "humidity           798\n",
       "mepaqi           58261\n",
       "neph             58163\n",
       "no2              11014\n",
       "o3               14925\n",
       "pm1              57970\n",
       "pm10             10603\n",
       "pm25              8315\n",
       "precipitation    51439\n",
       "pressure           951\n",
       "so2              19006\n",
       "temperature        776\n",
       "uvi              57379\n",
       "wd               54281\n",
       "wind-gust        24945\n",
       "wind-speed        1417\n",
       "dtype: int64"
      ]
     },
     "execution_count": 61,
     "metadata": {},
     "output_type": "execute_result"
    }
   ],
   "source": [
    "data_df_2021_Q2.isnull().sum()"
   ]
  },
  {
   "cell_type": "code",
   "execution_count": null,
   "id": "71423282",
   "metadata": {
    "id": "uULCz6QPkmzq",
    "papermill": {
     "duration": 0.044871,
     "end_time": "2024-12-30T03:22:38.623641",
     "exception": false,
     "start_time": "2024-12-30T03:22:38.578770",
     "status": "completed"
    },
    "tags": []
   },
   "outputs": [],
   "source": []
  },
  {
   "cell_type": "markdown",
   "id": "60ba1ff6",
   "metadata": {
    "id": "YCjaAdZW77Fa",
    "papermill": {
     "duration": 0.04467,
     "end_time": "2024-12-30T03:22:38.714076",
     "exception": false,
     "start_time": "2024-12-30T03:22:38.669406",
     "status": "completed"
    },
    "tags": []
   },
   "source": [
    "# 2021_Q3"
   ]
  },
  {
   "cell_type": "code",
   "execution_count": 62,
   "id": "89b19721",
   "metadata": {
    "execution": {
     "iopub.execute_input": "2024-12-30T03:22:38.805622Z",
     "iopub.status.busy": "2024-12-30T03:22:38.805211Z",
     "iopub.status.idle": "2024-12-30T03:22:39.404526Z",
     "shell.execute_reply": "2024-12-30T03:22:39.403528Z"
    },
    "executionInfo": {
     "elapsed": 843,
     "status": "ok",
     "timestamp": 1734445433318,
     "user": {
      "displayName": "Tahmida Majumder",
      "userId": "15415648085337204568"
     },
     "user_tz": -480
    },
    "id": "wNrgtH5J77Fb",
    "outputId": "40b315ec-bab1-49f4-c35f-779212e63005",
    "papermill": {
     "duration": 0.647415,
     "end_time": "2024-12-30T03:22:39.406084",
     "exception": false,
     "start_time": "2024-12-30T03:22:38.758669",
     "status": "completed"
    },
    "tags": []
   },
   "outputs": [
    {
     "name": "stdout",
     "output_type": "stream",
     "text": [
      "(570079, 5)\n"
     ]
    },
    {
     "data": {
      "text/html": [
       "<div>\n",
       "<style scoped>\n",
       "    .dataframe tbody tr th:only-of-type {\n",
       "        vertical-align: middle;\n",
       "    }\n",
       "\n",
       "    .dataframe tbody tr th {\n",
       "        vertical-align: top;\n",
       "    }\n",
       "\n",
       "    .dataframe thead th {\n",
       "        text-align: right;\n",
       "    }\n",
       "</style>\n",
       "<table border=\"1\" class=\"dataframe\">\n",
       "  <thead>\n",
       "    <tr style=\"text-align: right;\">\n",
       "      <th></th>\n",
       "      <th>Date</th>\n",
       "      <th>Country</th>\n",
       "      <th>City</th>\n",
       "      <th>Specie</th>\n",
       "      <th>count</th>\n",
       "    </tr>\n",
       "  </thead>\n",
       "  <tbody>\n",
       "    <tr>\n",
       "      <th>0</th>\n",
       "      <td>10/3/2021</td>\n",
       "      <td>BR</td>\n",
       "      <td>São José dos Campos</td>\n",
       "      <td>no2</td>\n",
       "      <td>3</td>\n",
       "    </tr>\n",
       "    <tr>\n",
       "      <th>1</th>\n",
       "      <td>10/3/2021</td>\n",
       "      <td>BR</td>\n",
       "      <td>São José dos Campos</td>\n",
       "      <td>dew</td>\n",
       "      <td>12</td>\n",
       "    </tr>\n",
       "    <tr>\n",
       "      <th>2</th>\n",
       "      <td>10/3/2021</td>\n",
       "      <td>BR</td>\n",
       "      <td>São José dos Campos</td>\n",
       "      <td>co</td>\n",
       "      <td>5</td>\n",
       "    </tr>\n",
       "    <tr>\n",
       "      <th>3</th>\n",
       "      <td>10/3/2021</td>\n",
       "      <td>BR</td>\n",
       "      <td>São José dos Campos</td>\n",
       "      <td>humidity</td>\n",
       "      <td>15</td>\n",
       "    </tr>\n",
       "    <tr>\n",
       "      <th>4</th>\n",
       "      <td>10/3/2021</td>\n",
       "      <td>BR</td>\n",
       "      <td>São José dos Campos</td>\n",
       "      <td>o3</td>\n",
       "      <td>5</td>\n",
       "    </tr>\n",
       "    <tr>\n",
       "      <th>5</th>\n",
       "      <td>10/3/2021</td>\n",
       "      <td>BR</td>\n",
       "      <td>São José dos Campos</td>\n",
       "      <td>pressure</td>\n",
       "      <td>15</td>\n",
       "    </tr>\n",
       "    <tr>\n",
       "      <th>6</th>\n",
       "      <td>10/3/2021</td>\n",
       "      <td>BR</td>\n",
       "      <td>São José dos Campos</td>\n",
       "      <td>wind-speed</td>\n",
       "      <td>9</td>\n",
       "    </tr>\n",
       "    <tr>\n",
       "      <th>7</th>\n",
       "      <td>10/3/2021</td>\n",
       "      <td>BR</td>\n",
       "      <td>São José dos Campos</td>\n",
       "      <td>temperature</td>\n",
       "      <td>15</td>\n",
       "    </tr>\n",
       "    <tr>\n",
       "      <th>8</th>\n",
       "      <td>10/3/2021</td>\n",
       "      <td>BR</td>\n",
       "      <td>São José dos Campos</td>\n",
       "      <td>pm10</td>\n",
       "      <td>10</td>\n",
       "    </tr>\n",
       "    <tr>\n",
       "      <th>9</th>\n",
       "      <td>10/3/2021</td>\n",
       "      <td>BR</td>\n",
       "      <td>Vitória</td>\n",
       "      <td>o3</td>\n",
       "      <td>14</td>\n",
       "    </tr>\n",
       "  </tbody>\n",
       "</table>\n",
       "</div>"
      ],
      "text/plain": [
       "        Date Country                 City       Specie  count\n",
       "0  10/3/2021      BR  São José dos Campos          no2      3\n",
       "1  10/3/2021      BR  São José dos Campos          dew     12\n",
       "2  10/3/2021      BR  São José dos Campos           co      5\n",
       "3  10/3/2021      BR  São José dos Campos     humidity     15\n",
       "4  10/3/2021      BR  São José dos Campos           o3      5\n",
       "5  10/3/2021      BR  São José dos Campos     pressure     15\n",
       "6  10/3/2021      BR  São José dos Campos   wind-speed      9\n",
       "7  10/3/2021      BR  São José dos Campos  temperature     15\n",
       "8  10/3/2021      BR  São José dos Campos         pm10     10\n",
       "9  10/3/2021      BR              Vitória           o3     14"
      ]
     },
     "execution_count": 62,
     "metadata": {},
     "output_type": "execute_result"
    }
   ],
   "source": [
    "# Loading the data\n",
    "raw_data_2021_Q3 = pd.read_csv(r\"/kaggle/input/data-for-combine/airqualitydata-2021Q3.csv\")\n",
    "\n",
    "# print the shape\n",
    "print(raw_data_2021_Q3.shape)\n",
    "\n",
    "#runs the first 5 rows\n",
    "raw_data_2021_Q3.head(10)"
   ]
  },
  {
   "cell_type": "code",
   "execution_count": 63,
   "id": "8adffb81",
   "metadata": {
    "execution": {
     "iopub.execute_input": "2024-12-30T03:22:39.498239Z",
     "iopub.status.busy": "2024-12-30T03:22:39.497889Z",
     "iopub.status.idle": "2024-12-30T03:22:39.565740Z",
     "shell.execute_reply": "2024-12-30T03:22:39.564634Z"
    },
    "id": "JeJKKX7h77Fb",
    "papermill": {
     "duration": 0.116251,
     "end_time": "2024-12-30T03:22:39.567799",
     "exception": false,
     "start_time": "2024-12-30T03:22:39.451548",
     "status": "completed"
    },
    "tags": []
   },
   "outputs": [],
   "source": [
    "# Convert 'Date' to datetime\n",
    "raw_data_2021_Q3['Date'] = pd.to_datetime(raw_data_2021_Q3['Date'])"
   ]
  },
  {
   "cell_type": "code",
   "execution_count": 64,
   "id": "cfad6f55",
   "metadata": {
    "execution": {
     "iopub.execute_input": "2024-12-30T03:22:39.660526Z",
     "iopub.status.busy": "2024-12-30T03:22:39.660160Z",
     "iopub.status.idle": "2024-12-30T03:22:39.666301Z",
     "shell.execute_reply": "2024-12-30T03:22:39.665211Z"
    },
    "executionInfo": {
     "elapsed": 4,
     "status": "ok",
     "timestamp": 1734445433318,
     "user": {
      "displayName": "Tahmida Majumder",
      "userId": "15415648085337204568"
     },
     "user_tz": -480
    },
    "id": "-dawFSwX77Fb",
    "outputId": "be86aa29-f511-4143-f68e-6fd3bdf2d30a",
    "papermill": {
     "duration": 0.054756,
     "end_time": "2024-12-30T03:22:39.668270",
     "exception": false,
     "start_time": "2024-12-30T03:22:39.613514",
     "status": "completed"
    },
    "tags": []
   },
   "outputs": [
    {
     "data": {
      "text/plain": [
       "(570079, 5)"
      ]
     },
     "execution_count": 64,
     "metadata": {},
     "output_type": "execute_result"
    }
   ],
   "source": [
    "raw_data_2021_Q3.shape"
   ]
  },
  {
   "cell_type": "code",
   "execution_count": 65,
   "id": "ee02e0a1",
   "metadata": {
    "execution": {
     "iopub.execute_input": "2024-12-30T03:22:39.762355Z",
     "iopub.status.busy": "2024-12-30T03:22:39.762020Z",
     "iopub.status.idle": "2024-12-30T03:22:40.147116Z",
     "shell.execute_reply": "2024-12-30T03:22:40.146180Z"
    },
    "id": "26Jtc7WT77Fb",
    "papermill": {
     "duration": 0.433328,
     "end_time": "2024-12-30T03:22:40.149064",
     "exception": false,
     "start_time": "2024-12-30T03:22:39.715736",
     "status": "completed"
    },
    "tags": []
   },
   "outputs": [],
   "source": [
    "# Pivot the data\n",
    "data_df_2021_Q3 = raw_data_2021_Q3.pivot_table(\n",
    "    index=['Date', 'Country', 'City'],  # Grouping columns\n",
    "    columns='Specie',                  # Unique values become columns\n",
    "    values='count',                   # Values to aggregate\n",
    "    aggfunc='mean'                     # Aggregation function\n",
    ").reset_index()\n"
   ]
  },
  {
   "cell_type": "code",
   "execution_count": 66,
   "id": "9edc9bdb",
   "metadata": {
    "execution": {
     "iopub.execute_input": "2024-12-30T03:22:40.242564Z",
     "iopub.status.busy": "2024-12-30T03:22:40.242170Z",
     "iopub.status.idle": "2024-12-30T03:22:40.269330Z",
     "shell.execute_reply": "2024-12-30T03:22:40.268229Z"
    },
    "executionInfo": {
     "elapsed": 11,
     "status": "ok",
     "timestamp": 1734445433727,
     "user": {
      "displayName": "Tahmida Majumder",
      "userId": "15415648085337204568"
     },
     "user_tz": -480
    },
    "id": "6er8GPv877Fc",
    "outputId": "2b614acf-5bcd-4f5d-baf7-578b9cd1aa1d",
    "papermill": {
     "duration": 0.076321,
     "end_time": "2024-12-30T03:22:40.271333",
     "exception": false,
     "start_time": "2024-12-30T03:22:40.195012",
     "status": "completed"
    },
    "tags": []
   },
   "outputs": [
    {
     "name": "stdout",
     "output_type": "stream",
     "text": [
      "(57529, 22)\n"
     ]
    },
    {
     "data": {
      "text/html": [
       "<div>\n",
       "<style scoped>\n",
       "    .dataframe tbody tr th:only-of-type {\n",
       "        vertical-align: middle;\n",
       "    }\n",
       "\n",
       "    .dataframe tbody tr th {\n",
       "        vertical-align: top;\n",
       "    }\n",
       "\n",
       "    .dataframe thead th {\n",
       "        text-align: right;\n",
       "    }\n",
       "</style>\n",
       "<table border=\"1\" class=\"dataframe\">\n",
       "  <thead>\n",
       "    <tr style=\"text-align: right;\">\n",
       "      <th>Specie</th>\n",
       "      <th>Date</th>\n",
       "      <th>Country</th>\n",
       "      <th>City</th>\n",
       "      <th>aqi</th>\n",
       "      <th>co</th>\n",
       "      <th>dew</th>\n",
       "      <th>humidity</th>\n",
       "      <th>mepaqi</th>\n",
       "      <th>neph</th>\n",
       "      <th>no2</th>\n",
       "      <th>...</th>\n",
       "      <th>pm10</th>\n",
       "      <th>pm25</th>\n",
       "      <th>precipitation</th>\n",
       "      <th>pressure</th>\n",
       "      <th>so2</th>\n",
       "      <th>temperature</th>\n",
       "      <th>uvi</th>\n",
       "      <th>wd</th>\n",
       "      <th>wind-gust</th>\n",
       "      <th>wind-speed</th>\n",
       "    </tr>\n",
       "  </thead>\n",
       "  <tbody>\n",
       "    <tr>\n",
       "      <th>0</th>\n",
       "      <td>2021-06-28</td>\n",
       "      <td>AE</td>\n",
       "      <td>Abu Dhabi</td>\n",
       "      <td>NaN</td>\n",
       "      <td>24.0</td>\n",
       "      <td>190.0</td>\n",
       "      <td>192.0</td>\n",
       "      <td>NaN</td>\n",
       "      <td>NaN</td>\n",
       "      <td>120.0</td>\n",
       "      <td>...</td>\n",
       "      <td>120.0</td>\n",
       "      <td>23.0</td>\n",
       "      <td>NaN</td>\n",
       "      <td>192.0</td>\n",
       "      <td>120.0</td>\n",
       "      <td>192.0</td>\n",
       "      <td>NaN</td>\n",
       "      <td>NaN</td>\n",
       "      <td>NaN</td>\n",
       "      <td>192.0</td>\n",
       "    </tr>\n",
       "    <tr>\n",
       "      <th>1</th>\n",
       "      <td>2021-06-28</td>\n",
       "      <td>AE</td>\n",
       "      <td>Dubai</td>\n",
       "      <td>NaN</td>\n",
       "      <td>NaN</td>\n",
       "      <td>22.0</td>\n",
       "      <td>24.0</td>\n",
       "      <td>NaN</td>\n",
       "      <td>NaN</td>\n",
       "      <td>NaN</td>\n",
       "      <td>...</td>\n",
       "      <td>NaN</td>\n",
       "      <td>NaN</td>\n",
       "      <td>NaN</td>\n",
       "      <td>24.0</td>\n",
       "      <td>NaN</td>\n",
       "      <td>24.0</td>\n",
       "      <td>NaN</td>\n",
       "      <td>NaN</td>\n",
       "      <td>NaN</td>\n",
       "      <td>24.0</td>\n",
       "    </tr>\n",
       "    <tr>\n",
       "      <th>2</th>\n",
       "      <td>2021-06-28</td>\n",
       "      <td>AF</td>\n",
       "      <td>Kabul</td>\n",
       "      <td>NaN</td>\n",
       "      <td>NaN</td>\n",
       "      <td>19.0</td>\n",
       "      <td>24.0</td>\n",
       "      <td>NaN</td>\n",
       "      <td>NaN</td>\n",
       "      <td>NaN</td>\n",
       "      <td>...</td>\n",
       "      <td>NaN</td>\n",
       "      <td>23.0</td>\n",
       "      <td>NaN</td>\n",
       "      <td>24.0</td>\n",
       "      <td>NaN</td>\n",
       "      <td>24.0</td>\n",
       "      <td>NaN</td>\n",
       "      <td>NaN</td>\n",
       "      <td>2.0</td>\n",
       "      <td>24.0</td>\n",
       "    </tr>\n",
       "    <tr>\n",
       "      <th>3</th>\n",
       "      <td>2021-06-28</td>\n",
       "      <td>AR</td>\n",
       "      <td>Buenos Aires</td>\n",
       "      <td>NaN</td>\n",
       "      <td>47.0</td>\n",
       "      <td>48.0</td>\n",
       "      <td>116.0</td>\n",
       "      <td>NaN</td>\n",
       "      <td>NaN</td>\n",
       "      <td>23.0</td>\n",
       "      <td>...</td>\n",
       "      <td>54.0</td>\n",
       "      <td>13.0</td>\n",
       "      <td>2.0</td>\n",
       "      <td>96.0</td>\n",
       "      <td>19.0</td>\n",
       "      <td>116.0</td>\n",
       "      <td>NaN</td>\n",
       "      <td>10.0</td>\n",
       "      <td>74.0</td>\n",
       "      <td>112.0</td>\n",
       "    </tr>\n",
       "    <tr>\n",
       "      <th>4</th>\n",
       "      <td>2021-06-28</td>\n",
       "      <td>AT</td>\n",
       "      <td>Graz</td>\n",
       "      <td>NaN</td>\n",
       "      <td>26.0</td>\n",
       "      <td>154.0</td>\n",
       "      <td>216.0</td>\n",
       "      <td>NaN</td>\n",
       "      <td>NaN</td>\n",
       "      <td>166.0</td>\n",
       "      <td>...</td>\n",
       "      <td>215.0</td>\n",
       "      <td>NaN</td>\n",
       "      <td>7.0</td>\n",
       "      <td>216.0</td>\n",
       "      <td>63.0</td>\n",
       "      <td>216.0</td>\n",
       "      <td>NaN</td>\n",
       "      <td>NaN</td>\n",
       "      <td>200.0</td>\n",
       "      <td>215.0</td>\n",
       "    </tr>\n",
       "  </tbody>\n",
       "</table>\n",
       "<p>5 rows × 22 columns</p>\n",
       "</div>"
      ],
      "text/plain": [
       "Specie       Date Country          City  aqi    co    dew  humidity  mepaqi  \\\n",
       "0      2021-06-28      AE     Abu Dhabi  NaN  24.0  190.0     192.0     NaN   \n",
       "1      2021-06-28      AE         Dubai  NaN   NaN   22.0      24.0     NaN   \n",
       "2      2021-06-28      AF         Kabul  NaN   NaN   19.0      24.0     NaN   \n",
       "3      2021-06-28      AR  Buenos Aires  NaN  47.0   48.0     116.0     NaN   \n",
       "4      2021-06-28      AT          Graz  NaN  26.0  154.0     216.0     NaN   \n",
       "\n",
       "Specie  neph    no2  ...   pm10  pm25  precipitation  pressure    so2  \\\n",
       "0        NaN  120.0  ...  120.0  23.0            NaN     192.0  120.0   \n",
       "1        NaN    NaN  ...    NaN   NaN            NaN      24.0    NaN   \n",
       "2        NaN    NaN  ...    NaN  23.0            NaN      24.0    NaN   \n",
       "3        NaN   23.0  ...   54.0  13.0            2.0      96.0   19.0   \n",
       "4        NaN  166.0  ...  215.0   NaN            7.0     216.0   63.0   \n",
       "\n",
       "Specie  temperature  uvi    wd  wind-gust  wind-speed  \n",
       "0             192.0  NaN   NaN        NaN       192.0  \n",
       "1              24.0  NaN   NaN        NaN        24.0  \n",
       "2              24.0  NaN   NaN        2.0        24.0  \n",
       "3             116.0  NaN  10.0       74.0       112.0  \n",
       "4             216.0  NaN   NaN      200.0       215.0  \n",
       "\n",
       "[5 rows x 22 columns]"
      ]
     },
     "execution_count": 66,
     "metadata": {},
     "output_type": "execute_result"
    }
   ],
   "source": [
    "print(data_df_2021_Q3.shape)\n",
    "data_df_2021_Q3.head()"
   ]
  },
  {
   "cell_type": "code",
   "execution_count": 67,
   "id": "577f18c5",
   "metadata": {
    "execution": {
     "iopub.execute_input": "2024-12-30T03:22:40.365034Z",
     "iopub.status.busy": "2024-12-30T03:22:40.364668Z",
     "iopub.status.idle": "2024-12-30T03:22:40.379997Z",
     "shell.execute_reply": "2024-12-30T03:22:40.378757Z"
    },
    "executionInfo": {
     "elapsed": 9,
     "status": "ok",
     "timestamp": 1734445433728,
     "user": {
      "displayName": "Tahmida Majumder",
      "userId": "15415648085337204568"
     },
     "user_tz": -480
    },
    "id": "lIKlQuFQ77Fc",
    "outputId": "fbe44aec-422a-41a6-ce8e-d4a22500a18f",
    "papermill": {
     "duration": 0.064784,
     "end_time": "2024-12-30T03:22:40.382048",
     "exception": false,
     "start_time": "2024-12-30T03:22:40.317264",
     "status": "completed"
    },
    "tags": []
   },
   "outputs": [
    {
     "data": {
      "text/plain": [
       "Specie\n",
       "Date                 0\n",
       "Country              0\n",
       "City                 0\n",
       "aqi              56333\n",
       "co               21042\n",
       "dew              12891\n",
       "humidity          2237\n",
       "mepaqi           57432\n",
       "neph             57333\n",
       "no2              10657\n",
       "o3               14558\n",
       "pm1              57173\n",
       "pm10             10242\n",
       "pm25              8362\n",
       "precipitation    51411\n",
       "pressure          2320\n",
       "so2              18480\n",
       "temperature       2216\n",
       "uvi              56561\n",
       "wd               54784\n",
       "wind-gust        26014\n",
       "wind-speed        2926\n",
       "dtype: int64"
      ]
     },
     "execution_count": 67,
     "metadata": {},
     "output_type": "execute_result"
    }
   ],
   "source": [
    "data_df_2021_Q3.isnull().sum()"
   ]
  },
  {
   "cell_type": "code",
   "execution_count": null,
   "id": "ac6168c8",
   "metadata": {
    "id": "VEYeMekUkm1x",
    "papermill": {
     "duration": 0.046778,
     "end_time": "2024-12-30T03:22:40.476614",
     "exception": false,
     "start_time": "2024-12-30T03:22:40.429836",
     "status": "completed"
    },
    "tags": []
   },
   "outputs": [],
   "source": []
  },
  {
   "cell_type": "markdown",
   "id": "6f871fb5",
   "metadata": {
    "id": "hQImY60a8Q8k",
    "papermill": {
     "duration": 0.049281,
     "end_time": "2024-12-30T03:22:40.573804",
     "exception": false,
     "start_time": "2024-12-30T03:22:40.524523",
     "status": "completed"
    },
    "tags": []
   },
   "source": [
    "# 2021_Q4"
   ]
  },
  {
   "cell_type": "code",
   "execution_count": 68,
   "id": "66291c24",
   "metadata": {
    "execution": {
     "iopub.execute_input": "2024-12-30T03:22:40.668964Z",
     "iopub.status.busy": "2024-12-30T03:22:40.668599Z",
     "iopub.status.idle": "2024-12-30T03:22:41.229217Z",
     "shell.execute_reply": "2024-12-30T03:22:41.228370Z"
    },
    "executionInfo": {
     "elapsed": 1055,
     "status": "ok",
     "timestamp": 1734445434776,
     "user": {
      "displayName": "Tahmida Majumder",
      "userId": "15415648085337204568"
     },
     "user_tz": -480
    },
    "id": "bDDkw4C18Q8k",
    "outputId": "47dd3bc5-47a6-4ba2-97a5-f59b302dbc62",
    "papermill": {
     "duration": 0.610655,
     "end_time": "2024-12-30T03:22:41.230665",
     "exception": false,
     "start_time": "2024-12-30T03:22:40.620010",
     "status": "completed"
    },
    "tags": []
   },
   "outputs": [
    {
     "name": "stdout",
     "output_type": "stream",
     "text": [
      "(548423, 5)\n"
     ]
    },
    {
     "data": {
      "text/html": [
       "<div>\n",
       "<style scoped>\n",
       "    .dataframe tbody tr th:only-of-type {\n",
       "        vertical-align: middle;\n",
       "    }\n",
       "\n",
       "    .dataframe tbody tr th {\n",
       "        vertical-align: top;\n",
       "    }\n",
       "\n",
       "    .dataframe thead th {\n",
       "        text-align: right;\n",
       "    }\n",
       "</style>\n",
       "<table border=\"1\" class=\"dataframe\">\n",
       "  <thead>\n",
       "    <tr style=\"text-align: right;\">\n",
       "      <th></th>\n",
       "      <th>Date</th>\n",
       "      <th>Country</th>\n",
       "      <th>City</th>\n",
       "      <th>Specie</th>\n",
       "      <th>count</th>\n",
       "    </tr>\n",
       "  </thead>\n",
       "  <tbody>\n",
       "    <tr>\n",
       "      <th>0</th>\n",
       "      <td>1/2/2022</td>\n",
       "      <td>BH</td>\n",
       "      <td>Manama</td>\n",
       "      <td>pressure</td>\n",
       "      <td>24</td>\n",
       "    </tr>\n",
       "    <tr>\n",
       "      <th>1</th>\n",
       "      <td>1/2/2022</td>\n",
       "      <td>BH</td>\n",
       "      <td>Manama</td>\n",
       "      <td>wind-speed</td>\n",
       "      <td>5</td>\n",
       "    </tr>\n",
       "    <tr>\n",
       "      <th>2</th>\n",
       "      <td>1/2/2022</td>\n",
       "      <td>BH</td>\n",
       "      <td>Manama</td>\n",
       "      <td>wind-gust</td>\n",
       "      <td>11</td>\n",
       "    </tr>\n",
       "    <tr>\n",
       "      <th>3</th>\n",
       "      <td>1/2/2022</td>\n",
       "      <td>BH</td>\n",
       "      <td>Manama</td>\n",
       "      <td>temperature</td>\n",
       "      <td>24</td>\n",
       "    </tr>\n",
       "    <tr>\n",
       "      <th>4</th>\n",
       "      <td>1/2/2022</td>\n",
       "      <td>BH</td>\n",
       "      <td>Manama</td>\n",
       "      <td>humidity</td>\n",
       "      <td>24</td>\n",
       "    </tr>\n",
       "    <tr>\n",
       "      <th>5</th>\n",
       "      <td>1/2/2022</td>\n",
       "      <td>BH</td>\n",
       "      <td>Manama</td>\n",
       "      <td>pm25</td>\n",
       "      <td>24</td>\n",
       "    </tr>\n",
       "    <tr>\n",
       "      <th>6</th>\n",
       "      <td>1/2/2022</td>\n",
       "      <td>BR</td>\n",
       "      <td>São José dos Campos</td>\n",
       "      <td>pm10</td>\n",
       "      <td>23</td>\n",
       "    </tr>\n",
       "    <tr>\n",
       "      <th>7</th>\n",
       "      <td>1/2/2022</td>\n",
       "      <td>BR</td>\n",
       "      <td>São José dos Campos</td>\n",
       "      <td>o3</td>\n",
       "      <td>23</td>\n",
       "    </tr>\n",
       "    <tr>\n",
       "      <th>8</th>\n",
       "      <td>1/2/2022</td>\n",
       "      <td>BR</td>\n",
       "      <td>São José dos Campos</td>\n",
       "      <td>no2</td>\n",
       "      <td>23</td>\n",
       "    </tr>\n",
       "    <tr>\n",
       "      <th>9</th>\n",
       "      <td>1/2/2022</td>\n",
       "      <td>BR</td>\n",
       "      <td>São José dos Campos</td>\n",
       "      <td>temperature</td>\n",
       "      <td>90</td>\n",
       "    </tr>\n",
       "  </tbody>\n",
       "</table>\n",
       "</div>"
      ],
      "text/plain": [
       "       Date Country                 City       Specie  count\n",
       "0  1/2/2022      BH               Manama     pressure     24\n",
       "1  1/2/2022      BH               Manama   wind-speed      5\n",
       "2  1/2/2022      BH               Manama    wind-gust     11\n",
       "3  1/2/2022      BH               Manama  temperature     24\n",
       "4  1/2/2022      BH               Manama     humidity     24\n",
       "5  1/2/2022      BH               Manama         pm25     24\n",
       "6  1/2/2022      BR  São José dos Campos         pm10     23\n",
       "7  1/2/2022      BR  São José dos Campos           o3     23\n",
       "8  1/2/2022      BR  São José dos Campos          no2     23\n",
       "9  1/2/2022      BR  São José dos Campos  temperature     90"
      ]
     },
     "execution_count": 68,
     "metadata": {},
     "output_type": "execute_result"
    }
   ],
   "source": [
    "# Loading the data\n",
    "raw_data_2021_Q4 = pd.read_csv(r\"/kaggle/input/data-for-combine/airqualitydata-2021Q4.csv\")\n",
    "\n",
    "# print the shape\n",
    "print(raw_data_2021_Q4.shape)\n",
    "\n",
    "#runs the first 5 rows\n",
    "raw_data_2021_Q4.head(10)"
   ]
  },
  {
   "cell_type": "code",
   "execution_count": 69,
   "id": "e9dd6556",
   "metadata": {
    "execution": {
     "iopub.execute_input": "2024-12-30T03:22:41.324766Z",
     "iopub.status.busy": "2024-12-30T03:22:41.324377Z",
     "iopub.status.idle": "2024-12-30T03:22:41.389038Z",
     "shell.execute_reply": "2024-12-30T03:22:41.388113Z"
    },
    "id": "IINip_WP8Q8k",
    "papermill": {
     "duration": 0.114069,
     "end_time": "2024-12-30T03:22:41.390877",
     "exception": false,
     "start_time": "2024-12-30T03:22:41.276808",
     "status": "completed"
    },
    "tags": []
   },
   "outputs": [],
   "source": [
    "# Convert 'Date' to datetime\n",
    "raw_data_2021_Q4['Date'] = pd.to_datetime(raw_data_2021_Q4['Date'])"
   ]
  },
  {
   "cell_type": "code",
   "execution_count": 70,
   "id": "56134f27",
   "metadata": {
    "execution": {
     "iopub.execute_input": "2024-12-30T03:22:41.485469Z",
     "iopub.status.busy": "2024-12-30T03:22:41.485123Z",
     "iopub.status.idle": "2024-12-30T03:22:41.490720Z",
     "shell.execute_reply": "2024-12-30T03:22:41.489635Z"
    },
    "executionInfo": {
     "elapsed": 9,
     "status": "ok",
     "timestamp": 1734445434776,
     "user": {
      "displayName": "Tahmida Majumder",
      "userId": "15415648085337204568"
     },
     "user_tz": -480
    },
    "id": "aIKkewJJ8Q8l",
    "outputId": "28c2e81d-8f48-4aac-fa6f-6924da89dfe0",
    "papermill": {
     "duration": 0.054595,
     "end_time": "2024-12-30T03:22:41.492293",
     "exception": false,
     "start_time": "2024-12-30T03:22:41.437698",
     "status": "completed"
    },
    "tags": []
   },
   "outputs": [
    {
     "data": {
      "text/plain": [
       "(548423, 5)"
      ]
     },
     "execution_count": 70,
     "metadata": {},
     "output_type": "execute_result"
    }
   ],
   "source": [
    "raw_data_2021_Q4.shape"
   ]
  },
  {
   "cell_type": "code",
   "execution_count": 71,
   "id": "42e69f91",
   "metadata": {
    "execution": {
     "iopub.execute_input": "2024-12-30T03:22:41.588171Z",
     "iopub.status.busy": "2024-12-30T03:22:41.587831Z",
     "iopub.status.idle": "2024-12-30T03:22:41.962067Z",
     "shell.execute_reply": "2024-12-30T03:22:41.960930Z"
    },
    "id": "qh-GSPCC8Q8l",
    "papermill": {
     "duration": 0.424276,
     "end_time": "2024-12-30T03:22:41.964255",
     "exception": false,
     "start_time": "2024-12-30T03:22:41.539979",
     "status": "completed"
    },
    "tags": []
   },
   "outputs": [],
   "source": [
    "# Pivot the data\n",
    "data_df_2021_Q4 = raw_data_2021_Q4.pivot_table(\n",
    "    index=['Date', 'Country', 'City'],  # Grouping columns\n",
    "    columns='Specie',                  # Unique values become columns\n",
    "    values='count',                   # Values to aggregate\n",
    "    aggfunc='mean'                     # Aggregation function\n",
    ").reset_index()\n"
   ]
  },
  {
   "cell_type": "code",
   "execution_count": 72,
   "id": "c2d95539",
   "metadata": {
    "execution": {
     "iopub.execute_input": "2024-12-30T03:22:42.060312Z",
     "iopub.status.busy": "2024-12-30T03:22:42.059943Z",
     "iopub.status.idle": "2024-12-30T03:22:42.085510Z",
     "shell.execute_reply": "2024-12-30T03:22:42.084538Z"
    },
    "executionInfo": {
     "elapsed": 8,
     "status": "ok",
     "timestamp": 1734445435256,
     "user": {
      "displayName": "Tahmida Majumder",
      "userId": "15415648085337204568"
     },
     "user_tz": -480
    },
    "id": "7n4M9wEZ8Q8l",
    "outputId": "28fbdd4e-073d-40f6-9b20-a8ee54781fcb",
    "papermill": {
     "duration": 0.074666,
     "end_time": "2024-12-30T03:22:42.087121",
     "exception": false,
     "start_time": "2024-12-30T03:22:42.012455",
     "status": "completed"
    },
    "tags": []
   },
   "outputs": [
    {
     "name": "stdout",
     "output_type": "stream",
     "text": [
      "(57596, 22)\n"
     ]
    },
    {
     "data": {
      "text/html": [
       "<div>\n",
       "<style scoped>\n",
       "    .dataframe tbody tr th:only-of-type {\n",
       "        vertical-align: middle;\n",
       "    }\n",
       "\n",
       "    .dataframe tbody tr th {\n",
       "        vertical-align: top;\n",
       "    }\n",
       "\n",
       "    .dataframe thead th {\n",
       "        text-align: right;\n",
       "    }\n",
       "</style>\n",
       "<table border=\"1\" class=\"dataframe\">\n",
       "  <thead>\n",
       "    <tr style=\"text-align: right;\">\n",
       "      <th>Specie</th>\n",
       "      <th>Date</th>\n",
       "      <th>Country</th>\n",
       "      <th>City</th>\n",
       "      <th>aqi</th>\n",
       "      <th>co</th>\n",
       "      <th>dew</th>\n",
       "      <th>humidity</th>\n",
       "      <th>mepaqi</th>\n",
       "      <th>neph</th>\n",
       "      <th>no2</th>\n",
       "      <th>...</th>\n",
       "      <th>pm10</th>\n",
       "      <th>pm25</th>\n",
       "      <th>precipitation</th>\n",
       "      <th>pressure</th>\n",
       "      <th>so2</th>\n",
       "      <th>temperature</th>\n",
       "      <th>uvi</th>\n",
       "      <th>wd</th>\n",
       "      <th>wind-gust</th>\n",
       "      <th>wind-speed</th>\n",
       "    </tr>\n",
       "  </thead>\n",
       "  <tbody>\n",
       "    <tr>\n",
       "      <th>0</th>\n",
       "      <td>2021-09-27</td>\n",
       "      <td>AE</td>\n",
       "      <td>Abu Dhabi</td>\n",
       "      <td>NaN</td>\n",
       "      <td>24.0</td>\n",
       "      <td>174.0</td>\n",
       "      <td>192.0</td>\n",
       "      <td>NaN</td>\n",
       "      <td>NaN</td>\n",
       "      <td>120.0</td>\n",
       "      <td>...</td>\n",
       "      <td>120.0</td>\n",
       "      <td>24.0</td>\n",
       "      <td>NaN</td>\n",
       "      <td>192.0</td>\n",
       "      <td>120.0</td>\n",
       "      <td>192.0</td>\n",
       "      <td>NaN</td>\n",
       "      <td>NaN</td>\n",
       "      <td>NaN</td>\n",
       "      <td>192.0</td>\n",
       "    </tr>\n",
       "    <tr>\n",
       "      <th>1</th>\n",
       "      <td>2021-09-27</td>\n",
       "      <td>AE</td>\n",
       "      <td>Dubai</td>\n",
       "      <td>NaN</td>\n",
       "      <td>NaN</td>\n",
       "      <td>21.0</td>\n",
       "      <td>24.0</td>\n",
       "      <td>NaN</td>\n",
       "      <td>NaN</td>\n",
       "      <td>NaN</td>\n",
       "      <td>...</td>\n",
       "      <td>NaN</td>\n",
       "      <td>24.0</td>\n",
       "      <td>NaN</td>\n",
       "      <td>24.0</td>\n",
       "      <td>NaN</td>\n",
       "      <td>24.0</td>\n",
       "      <td>NaN</td>\n",
       "      <td>NaN</td>\n",
       "      <td>NaN</td>\n",
       "      <td>24.0</td>\n",
       "    </tr>\n",
       "    <tr>\n",
       "      <th>2</th>\n",
       "      <td>2021-09-27</td>\n",
       "      <td>AR</td>\n",
       "      <td>Buenos Aires</td>\n",
       "      <td>NaN</td>\n",
       "      <td>24.0</td>\n",
       "      <td>72.0</td>\n",
       "      <td>96.0</td>\n",
       "      <td>NaN</td>\n",
       "      <td>NaN</td>\n",
       "      <td>24.0</td>\n",
       "      <td>...</td>\n",
       "      <td>44.0</td>\n",
       "      <td>24.0</td>\n",
       "      <td>NaN</td>\n",
       "      <td>72.0</td>\n",
       "      <td>NaN</td>\n",
       "      <td>96.0</td>\n",
       "      <td>NaN</td>\n",
       "      <td>NaN</td>\n",
       "      <td>24.0</td>\n",
       "      <td>96.0</td>\n",
       "    </tr>\n",
       "    <tr>\n",
       "      <th>3</th>\n",
       "      <td>2021-09-27</td>\n",
       "      <td>AT</td>\n",
       "      <td>Graz</td>\n",
       "      <td>NaN</td>\n",
       "      <td>45.0</td>\n",
       "      <td>161.0</td>\n",
       "      <td>216.0</td>\n",
       "      <td>NaN</td>\n",
       "      <td>NaN</td>\n",
       "      <td>189.0</td>\n",
       "      <td>...</td>\n",
       "      <td>215.0</td>\n",
       "      <td>NaN</td>\n",
       "      <td>21.0</td>\n",
       "      <td>216.0</td>\n",
       "      <td>64.0</td>\n",
       "      <td>216.0</td>\n",
       "      <td>NaN</td>\n",
       "      <td>NaN</td>\n",
       "      <td>204.0</td>\n",
       "      <td>208.0</td>\n",
       "    </tr>\n",
       "    <tr>\n",
       "      <th>4</th>\n",
       "      <td>2021-09-27</td>\n",
       "      <td>AT</td>\n",
       "      <td>Innsbruck</td>\n",
       "      <td>NaN</td>\n",
       "      <td>13.0</td>\n",
       "      <td>91.0</td>\n",
       "      <td>96.0</td>\n",
       "      <td>NaN</td>\n",
       "      <td>NaN</td>\n",
       "      <td>92.0</td>\n",
       "      <td>...</td>\n",
       "      <td>88.0</td>\n",
       "      <td>NaN</td>\n",
       "      <td>7.0</td>\n",
       "      <td>96.0</td>\n",
       "      <td>13.0</td>\n",
       "      <td>96.0</td>\n",
       "      <td>NaN</td>\n",
       "      <td>NaN</td>\n",
       "      <td>20.0</td>\n",
       "      <td>91.0</td>\n",
       "    </tr>\n",
       "  </tbody>\n",
       "</table>\n",
       "<p>5 rows × 22 columns</p>\n",
       "</div>"
      ],
      "text/plain": [
       "Specie       Date Country          City  aqi    co    dew  humidity  mepaqi  \\\n",
       "0      2021-09-27      AE     Abu Dhabi  NaN  24.0  174.0     192.0     NaN   \n",
       "1      2021-09-27      AE         Dubai  NaN   NaN   21.0      24.0     NaN   \n",
       "2      2021-09-27      AR  Buenos Aires  NaN  24.0   72.0      96.0     NaN   \n",
       "3      2021-09-27      AT          Graz  NaN  45.0  161.0     216.0     NaN   \n",
       "4      2021-09-27      AT     Innsbruck  NaN  13.0   91.0      96.0     NaN   \n",
       "\n",
       "Specie  neph    no2  ...   pm10  pm25  precipitation  pressure    so2  \\\n",
       "0        NaN  120.0  ...  120.0  24.0            NaN     192.0  120.0   \n",
       "1        NaN    NaN  ...    NaN  24.0            NaN      24.0    NaN   \n",
       "2        NaN   24.0  ...   44.0  24.0            NaN      72.0    NaN   \n",
       "3        NaN  189.0  ...  215.0   NaN           21.0     216.0   64.0   \n",
       "4        NaN   92.0  ...   88.0   NaN            7.0      96.0   13.0   \n",
       "\n",
       "Specie  temperature  uvi  wd  wind-gust  wind-speed  \n",
       "0             192.0  NaN NaN        NaN       192.0  \n",
       "1              24.0  NaN NaN        NaN        24.0  \n",
       "2              96.0  NaN NaN       24.0        96.0  \n",
       "3             216.0  NaN NaN      204.0       208.0  \n",
       "4              96.0  NaN NaN       20.0        91.0  \n",
       "\n",
       "[5 rows x 22 columns]"
      ]
     },
     "execution_count": 72,
     "metadata": {},
     "output_type": "execute_result"
    }
   ],
   "source": [
    "print(data_df_2021_Q4.shape)\n",
    "data_df_2021_Q4.head()"
   ]
  },
  {
   "cell_type": "code",
   "execution_count": 73,
   "id": "fa153582",
   "metadata": {
    "execution": {
     "iopub.execute_input": "2024-12-30T03:22:42.184586Z",
     "iopub.status.busy": "2024-12-30T03:22:42.184184Z",
     "iopub.status.idle": "2024-12-30T03:22:42.198730Z",
     "shell.execute_reply": "2024-12-30T03:22:42.197715Z"
    },
    "executionInfo": {
     "elapsed": 7,
     "status": "ok",
     "timestamp": 1734445435256,
     "user": {
      "displayName": "Tahmida Majumder",
      "userId": "15415648085337204568"
     },
     "user_tz": -480
    },
    "id": "HLSD09398Q8l",
    "outputId": "cfd33c82-8964-49aa-b79e-337dc62a80ed",
    "papermill": {
     "duration": 0.06492,
     "end_time": "2024-12-30T03:22:42.200326",
     "exception": false,
     "start_time": "2024-12-30T03:22:42.135406",
     "status": "completed"
    },
    "tags": []
   },
   "outputs": [
    {
     "data": {
      "text/plain": [
       "Specie\n",
       "Date                 0\n",
       "Country              0\n",
       "City                 0\n",
       "aqi              56254\n",
       "co               21421\n",
       "dew              15917\n",
       "humidity          5137\n",
       "mepaqi           57498\n",
       "neph             57400\n",
       "no2              11193\n",
       "o3               15551\n",
       "pm1              57213\n",
       "pm10             10535\n",
       "pm25              9407\n",
       "precipitation    52472\n",
       "pressure          4971\n",
       "so2              19425\n",
       "temperature       4923\n",
       "uvi              56620\n",
       "wd               55617\n",
       "wind-gust        28316\n",
       "wind-speed        6031\n",
       "dtype: int64"
      ]
     },
     "execution_count": 73,
     "metadata": {},
     "output_type": "execute_result"
    }
   ],
   "source": [
    "data_df_2021_Q4.isnull().sum()"
   ]
  },
  {
   "cell_type": "code",
   "execution_count": null,
   "id": "e8131668",
   "metadata": {
    "id": "6mKdTCdQ-h6F",
    "papermill": {
     "duration": 0.046907,
     "end_time": "2024-12-30T03:22:42.294826",
     "exception": false,
     "start_time": "2024-12-30T03:22:42.247919",
     "status": "completed"
    },
    "tags": []
   },
   "outputs": [],
   "source": []
  },
  {
   "cell_type": "markdown",
   "id": "9467f946",
   "metadata": {
    "id": "bb0jSl23TLES",
    "papermill": {
     "duration": 0.046594,
     "end_time": "2024-12-30T03:22:42.388780",
     "exception": false,
     "start_time": "2024-12-30T03:22:42.342186",
     "status": "completed"
    },
    "tags": []
   },
   "source": [
    "# 2020_Q1"
   ]
  },
  {
   "cell_type": "code",
   "execution_count": 74,
   "id": "b47c638b",
   "metadata": {
    "execution": {
     "iopub.execute_input": "2024-12-30T03:22:42.484171Z",
     "iopub.status.busy": "2024-12-30T03:22:42.483816Z",
     "iopub.status.idle": "2024-12-30T03:22:43.043136Z",
     "shell.execute_reply": "2024-12-30T03:22:43.041532Z"
    },
    "executionInfo": {
     "elapsed": 1028,
     "status": "ok",
     "timestamp": 1734445436278,
     "user": {
      "displayName": "Tahmida Majumder",
      "userId": "15415648085337204568"
     },
     "user_tz": -480
    },
    "id": "olJx7kX2TLET",
    "outputId": "24b93e39-8a14-40ae-adbe-94b23904766d",
    "papermill": {
     "duration": 0.608992,
     "end_time": "2024-12-30T03:22:43.044909",
     "exception": false,
     "start_time": "2024-12-30T03:22:42.435917",
     "status": "completed"
    },
    "tags": []
   },
   "outputs": [
    {
     "name": "stdout",
     "output_type": "stream",
     "text": [
      "(539573, 5)\n"
     ]
    },
    {
     "data": {
      "text/html": [
       "<div>\n",
       "<style scoped>\n",
       "    .dataframe tbody tr th:only-of-type {\n",
       "        vertical-align: middle;\n",
       "    }\n",
       "\n",
       "    .dataframe tbody tr th {\n",
       "        vertical-align: top;\n",
       "    }\n",
       "\n",
       "    .dataframe thead th {\n",
       "        text-align: right;\n",
       "    }\n",
       "</style>\n",
       "<table border=\"1\" class=\"dataframe\">\n",
       "  <thead>\n",
       "    <tr style=\"text-align: right;\">\n",
       "      <th></th>\n",
       "      <th>Date</th>\n",
       "      <th>Country</th>\n",
       "      <th>City</th>\n",
       "      <th>Specie</th>\n",
       "      <th>count</th>\n",
       "    </tr>\n",
       "  </thead>\n",
       "  <tbody>\n",
       "    <tr>\n",
       "      <th>0</th>\n",
       "      <td>4/5/2020</td>\n",
       "      <td>CO</td>\n",
       "      <td>Bogotá</td>\n",
       "      <td>so2</td>\n",
       "      <td>272</td>\n",
       "    </tr>\n",
       "    <tr>\n",
       "      <th>1</th>\n",
       "      <td>4/5/2020</td>\n",
       "      <td>CO</td>\n",
       "      <td>Bogotá</td>\n",
       "      <td>wd</td>\n",
       "      <td>253</td>\n",
       "    </tr>\n",
       "    <tr>\n",
       "      <th>2</th>\n",
       "      <td>4/5/2020</td>\n",
       "      <td>CO</td>\n",
       "      <td>Bogotá</td>\n",
       "      <td>pm10</td>\n",
       "      <td>285</td>\n",
       "    </tr>\n",
       "    <tr>\n",
       "      <th>3</th>\n",
       "      <td>4/5/2020</td>\n",
       "      <td>CO</td>\n",
       "      <td>Bogotá</td>\n",
       "      <td>o3</td>\n",
       "      <td>311</td>\n",
       "    </tr>\n",
       "    <tr>\n",
       "      <th>4</th>\n",
       "      <td>4/5/2020</td>\n",
       "      <td>CO</td>\n",
       "      <td>Bogotá</td>\n",
       "      <td>pm25</td>\n",
       "      <td>283</td>\n",
       "    </tr>\n",
       "    <tr>\n",
       "      <th>5</th>\n",
       "      <td>4/5/2020</td>\n",
       "      <td>CO</td>\n",
       "      <td>Bogotá</td>\n",
       "      <td>humidity</td>\n",
       "      <td>312</td>\n",
       "    </tr>\n",
       "    <tr>\n",
       "      <th>6</th>\n",
       "      <td>4/5/2020</td>\n",
       "      <td>CO</td>\n",
       "      <td>Bogotá</td>\n",
       "      <td>pressure</td>\n",
       "      <td>330</td>\n",
       "    </tr>\n",
       "    <tr>\n",
       "      <th>7</th>\n",
       "      <td>4/5/2020</td>\n",
       "      <td>CO</td>\n",
       "      <td>Bogotá</td>\n",
       "      <td>dew</td>\n",
       "      <td>293</td>\n",
       "    </tr>\n",
       "    <tr>\n",
       "      <th>8</th>\n",
       "      <td>4/5/2020</td>\n",
       "      <td>CO</td>\n",
       "      <td>Bogotá</td>\n",
       "      <td>temperature</td>\n",
       "      <td>312</td>\n",
       "    </tr>\n",
       "    <tr>\n",
       "      <th>9</th>\n",
       "      <td>4/5/2020</td>\n",
       "      <td>CO</td>\n",
       "      <td>Bogotá</td>\n",
       "      <td>wind-speed</td>\n",
       "      <td>310</td>\n",
       "    </tr>\n",
       "  </tbody>\n",
       "</table>\n",
       "</div>"
      ],
      "text/plain": [
       "       Date Country    City       Specie  count\n",
       "0  4/5/2020      CO  Bogotá          so2    272\n",
       "1  4/5/2020      CO  Bogotá           wd    253\n",
       "2  4/5/2020      CO  Bogotá         pm10    285\n",
       "3  4/5/2020      CO  Bogotá           o3    311\n",
       "4  4/5/2020      CO  Bogotá         pm25    283\n",
       "5  4/5/2020      CO  Bogotá     humidity    312\n",
       "6  4/5/2020      CO  Bogotá     pressure    330\n",
       "7  4/5/2020      CO  Bogotá          dew    293\n",
       "8  4/5/2020      CO  Bogotá  temperature    312\n",
       "9  4/5/2020      CO  Bogotá   wind-speed    310"
      ]
     },
     "execution_count": 74,
     "metadata": {},
     "output_type": "execute_result"
    }
   ],
   "source": [
    "# Loading the data\n",
    "raw_data_2020_Q1 = pd.read_csv(r\"/kaggle/input/data-for-combine/airqualitydata-2020Q1.csv\")\n",
    "\n",
    "# print the shape\n",
    "print(raw_data_2020_Q1.shape)\n",
    "\n",
    "#runs the first 5 rows\n",
    "raw_data_2020_Q1.head(10)"
   ]
  },
  {
   "cell_type": "code",
   "execution_count": 75,
   "id": "f11fe675",
   "metadata": {
    "execution": {
     "iopub.execute_input": "2024-12-30T03:22:43.142980Z",
     "iopub.status.busy": "2024-12-30T03:22:43.142619Z",
     "iopub.status.idle": "2024-12-30T03:22:43.204746Z",
     "shell.execute_reply": "2024-12-30T03:22:43.203757Z"
    },
    "id": "RV3cx5rqTLET",
    "papermill": {
     "duration": 0.113257,
     "end_time": "2024-12-30T03:22:43.206665",
     "exception": false,
     "start_time": "2024-12-30T03:22:43.093408",
     "status": "completed"
    },
    "tags": []
   },
   "outputs": [],
   "source": [
    "# Convert 'Date' to datetime\n",
    "raw_data_2020_Q1['Date'] = pd.to_datetime(raw_data_2020_Q1['Date'])"
   ]
  },
  {
   "cell_type": "code",
   "execution_count": 76,
   "id": "fea812f7",
   "metadata": {
    "execution": {
     "iopub.execute_input": "2024-12-30T03:22:43.302126Z",
     "iopub.status.busy": "2024-12-30T03:22:43.301760Z",
     "iopub.status.idle": "2024-12-30T03:22:43.307451Z",
     "shell.execute_reply": "2024-12-30T03:22:43.306534Z"
    },
    "executionInfo": {
     "elapsed": 11,
     "status": "ok",
     "timestamp": 1734445436278,
     "user": {
      "displayName": "Tahmida Majumder",
      "userId": "15415648085337204568"
     },
     "user_tz": -480
    },
    "id": "CAq3ew-gTLET",
    "outputId": "d1f110fd-c5c1-42ec-f4c8-926fe2d8815f",
    "papermill": {
     "duration": 0.05524,
     "end_time": "2024-12-30T03:22:43.309060",
     "exception": false,
     "start_time": "2024-12-30T03:22:43.253820",
     "status": "completed"
    },
    "tags": []
   },
   "outputs": [
    {
     "data": {
      "text/plain": [
       "(539573, 5)"
      ]
     },
     "execution_count": 76,
     "metadata": {},
     "output_type": "execute_result"
    }
   ],
   "source": [
    "raw_data_2020_Q1.shape"
   ]
  },
  {
   "cell_type": "code",
   "execution_count": 77,
   "id": "2a9ffa2e",
   "metadata": {
    "execution": {
     "iopub.execute_input": "2024-12-30T03:22:43.404948Z",
     "iopub.status.busy": "2024-12-30T03:22:43.404593Z",
     "iopub.status.idle": "2024-12-30T03:22:43.780684Z",
     "shell.execute_reply": "2024-12-30T03:22:43.779755Z"
    },
    "id": "ApuQo9RUTLET",
    "papermill": {
     "duration": 0.426203,
     "end_time": "2024-12-30T03:22:43.782431",
     "exception": false,
     "start_time": "2024-12-30T03:22:43.356228",
     "status": "completed"
    },
    "tags": []
   },
   "outputs": [],
   "source": [
    "# Pivot the data\n",
    "data_df_2020_Q1 = raw_data_2020_Q1.pivot_table(\n",
    "    index=['Date', 'Country', 'City'],  # Grouping columns\n",
    "    columns='Specie',                  # Unique values become columns\n",
    "    values='count',                   # Values to aggregate\n",
    "    aggfunc='mean'                     # Aggregation function\n",
    ").reset_index()\n"
   ]
  },
  {
   "cell_type": "code",
   "execution_count": 78,
   "id": "ca795721",
   "metadata": {
    "execution": {
     "iopub.execute_input": "2024-12-30T03:22:43.880417Z",
     "iopub.status.busy": "2024-12-30T03:22:43.880032Z",
     "iopub.status.idle": "2024-12-30T03:22:43.904230Z",
     "shell.execute_reply": "2024-12-30T03:22:43.903077Z"
    },
    "executionInfo": {
     "elapsed": 400,
     "status": "ok",
     "timestamp": 1734445436669,
     "user": {
      "displayName": "Tahmida Majumder",
      "userId": "15415648085337204568"
     },
     "user_tz": -480
    },
    "id": "aYWh6ZKXTLET",
    "outputId": "a393338c-c3cf-422c-f237-a7bfa5b14e20",
    "papermill": {
     "duration": 0.07511,
     "end_time": "2024-12-30T03:22:43.905962",
     "exception": false,
     "start_time": "2024-12-30T03:22:43.830852",
     "status": "completed"
    },
    "tags": []
   },
   "outputs": [
    {
     "name": "stdout",
     "output_type": "stream",
     "text": [
      "(59069, 25)\n"
     ]
    },
    {
     "data": {
      "text/html": [
       "<div>\n",
       "<style scoped>\n",
       "    .dataframe tbody tr th:only-of-type {\n",
       "        vertical-align: middle;\n",
       "    }\n",
       "\n",
       "    .dataframe tbody tr th {\n",
       "        vertical-align: top;\n",
       "    }\n",
       "\n",
       "    .dataframe thead th {\n",
       "        text-align: right;\n",
       "    }\n",
       "</style>\n",
       "<table border=\"1\" class=\"dataframe\">\n",
       "  <thead>\n",
       "    <tr style=\"text-align: right;\">\n",
       "      <th>Specie</th>\n",
       "      <th>Date</th>\n",
       "      <th>Country</th>\n",
       "      <th>City</th>\n",
       "      <th>aqi</th>\n",
       "      <th>co</th>\n",
       "      <th>dew</th>\n",
       "      <th>humidity</th>\n",
       "      <th>mepaqi</th>\n",
       "      <th>neph</th>\n",
       "      <th>no2</th>\n",
       "      <th>...</th>\n",
       "      <th>precipitation</th>\n",
       "      <th>pressure</th>\n",
       "      <th>so2</th>\n",
       "      <th>temperature</th>\n",
       "      <th>uvi</th>\n",
       "      <th>wd</th>\n",
       "      <th>wind gust</th>\n",
       "      <th>wind speed</th>\n",
       "      <th>wind-gust</th>\n",
       "      <th>wind-speed</th>\n",
       "    </tr>\n",
       "  </thead>\n",
       "  <tbody>\n",
       "    <tr>\n",
       "      <th>0</th>\n",
       "      <td>2019-12-30</td>\n",
       "      <td>AE</td>\n",
       "      <td>Abu Dhabi</td>\n",
       "      <td>NaN</td>\n",
       "      <td>12.0</td>\n",
       "      <td>NaN</td>\n",
       "      <td>NaN</td>\n",
       "      <td>NaN</td>\n",
       "      <td>NaN</td>\n",
       "      <td>120.0</td>\n",
       "      <td>...</td>\n",
       "      <td>NaN</td>\n",
       "      <td>NaN</td>\n",
       "      <td>120.0</td>\n",
       "      <td>NaN</td>\n",
       "      <td>NaN</td>\n",
       "      <td>NaN</td>\n",
       "      <td>NaN</td>\n",
       "      <td>NaN</td>\n",
       "      <td>NaN</td>\n",
       "      <td>NaN</td>\n",
       "    </tr>\n",
       "    <tr>\n",
       "      <th>1</th>\n",
       "      <td>2019-12-30</td>\n",
       "      <td>AE</td>\n",
       "      <td>Dubai</td>\n",
       "      <td>NaN</td>\n",
       "      <td>NaN</td>\n",
       "      <td>NaN</td>\n",
       "      <td>NaN</td>\n",
       "      <td>NaN</td>\n",
       "      <td>NaN</td>\n",
       "      <td>NaN</td>\n",
       "      <td>...</td>\n",
       "      <td>NaN</td>\n",
       "      <td>NaN</td>\n",
       "      <td>NaN</td>\n",
       "      <td>NaN</td>\n",
       "      <td>NaN</td>\n",
       "      <td>NaN</td>\n",
       "      <td>NaN</td>\n",
       "      <td>NaN</td>\n",
       "      <td>NaN</td>\n",
       "      <td>NaN</td>\n",
       "    </tr>\n",
       "    <tr>\n",
       "      <th>2</th>\n",
       "      <td>2019-12-30</td>\n",
       "      <td>AF</td>\n",
       "      <td>Kabul</td>\n",
       "      <td>NaN</td>\n",
       "      <td>NaN</td>\n",
       "      <td>NaN</td>\n",
       "      <td>NaN</td>\n",
       "      <td>NaN</td>\n",
       "      <td>NaN</td>\n",
       "      <td>NaN</td>\n",
       "      <td>...</td>\n",
       "      <td>NaN</td>\n",
       "      <td>NaN</td>\n",
       "      <td>NaN</td>\n",
       "      <td>NaN</td>\n",
       "      <td>NaN</td>\n",
       "      <td>NaN</td>\n",
       "      <td>NaN</td>\n",
       "      <td>NaN</td>\n",
       "      <td>NaN</td>\n",
       "      <td>NaN</td>\n",
       "    </tr>\n",
       "    <tr>\n",
       "      <th>3</th>\n",
       "      <td>2019-12-30</td>\n",
       "      <td>AR</td>\n",
       "      <td>Buenos Aires</td>\n",
       "      <td>NaN</td>\n",
       "      <td>44.0</td>\n",
       "      <td>NaN</td>\n",
       "      <td>NaN</td>\n",
       "      <td>NaN</td>\n",
       "      <td>NaN</td>\n",
       "      <td>68.0</td>\n",
       "      <td>...</td>\n",
       "      <td>NaN</td>\n",
       "      <td>NaN</td>\n",
       "      <td>NaN</td>\n",
       "      <td>NaN</td>\n",
       "      <td>NaN</td>\n",
       "      <td>NaN</td>\n",
       "      <td>NaN</td>\n",
       "      <td>NaN</td>\n",
       "      <td>NaN</td>\n",
       "      <td>NaN</td>\n",
       "    </tr>\n",
       "    <tr>\n",
       "      <th>4</th>\n",
       "      <td>2019-12-30</td>\n",
       "      <td>AT</td>\n",
       "      <td>Graz</td>\n",
       "      <td>NaN</td>\n",
       "      <td>30.0</td>\n",
       "      <td>NaN</td>\n",
       "      <td>NaN</td>\n",
       "      <td>NaN</td>\n",
       "      <td>NaN</td>\n",
       "      <td>72.0</td>\n",
       "      <td>...</td>\n",
       "      <td>NaN</td>\n",
       "      <td>NaN</td>\n",
       "      <td>32.0</td>\n",
       "      <td>NaN</td>\n",
       "      <td>NaN</td>\n",
       "      <td>NaN</td>\n",
       "      <td>NaN</td>\n",
       "      <td>NaN</td>\n",
       "      <td>NaN</td>\n",
       "      <td>NaN</td>\n",
       "    </tr>\n",
       "  </tbody>\n",
       "</table>\n",
       "<p>5 rows × 25 columns</p>\n",
       "</div>"
      ],
      "text/plain": [
       "Specie       Date Country          City  aqi    co  dew  humidity  mepaqi  \\\n",
       "0      2019-12-30      AE     Abu Dhabi  NaN  12.0  NaN       NaN     NaN   \n",
       "1      2019-12-30      AE         Dubai  NaN   NaN  NaN       NaN     NaN   \n",
       "2      2019-12-30      AF         Kabul  NaN   NaN  NaN       NaN     NaN   \n",
       "3      2019-12-30      AR  Buenos Aires  NaN  44.0  NaN       NaN     NaN   \n",
       "4      2019-12-30      AT          Graz  NaN  30.0  NaN       NaN     NaN   \n",
       "\n",
       "Specie  neph    no2  ...  precipitation  pressure    so2  temperature  uvi  \\\n",
       "0        NaN  120.0  ...            NaN       NaN  120.0          NaN  NaN   \n",
       "1        NaN    NaN  ...            NaN       NaN    NaN          NaN  NaN   \n",
       "2        NaN    NaN  ...            NaN       NaN    NaN          NaN  NaN   \n",
       "3        NaN   68.0  ...            NaN       NaN    NaN          NaN  NaN   \n",
       "4        NaN   72.0  ...            NaN       NaN   32.0          NaN  NaN   \n",
       "\n",
       "Specie  wd  wind gust  wind speed  wind-gust  wind-speed  \n",
       "0      NaN        NaN         NaN        NaN         NaN  \n",
       "1      NaN        NaN         NaN        NaN         NaN  \n",
       "2      NaN        NaN         NaN        NaN         NaN  \n",
       "3      NaN        NaN         NaN        NaN         NaN  \n",
       "4      NaN        NaN         NaN        NaN         NaN  \n",
       "\n",
       "[5 rows x 25 columns]"
      ]
     },
     "execution_count": 78,
     "metadata": {},
     "output_type": "execute_result"
    }
   ],
   "source": [
    "print(data_df_2020_Q1.shape)\n",
    "data_df_2020_Q1.head()"
   ]
  },
  {
   "cell_type": "code",
   "execution_count": 79,
   "id": "7fd27067",
   "metadata": {
    "execution": {
     "iopub.execute_input": "2024-12-30T03:22:44.005294Z",
     "iopub.status.busy": "2024-12-30T03:22:44.004905Z",
     "iopub.status.idle": "2024-12-30T03:22:44.020204Z",
     "shell.execute_reply": "2024-12-30T03:22:44.019029Z"
    },
    "executionInfo": {
     "elapsed": 6,
     "status": "ok",
     "timestamp": 1734445436669,
     "user": {
      "displayName": "Tahmida Majumder",
      "userId": "15415648085337204568"
     },
     "user_tz": -480
    },
    "id": "EQUiUnjrTLET",
    "outputId": "e84122f3-e118-48f3-b958-abd1625bc15b",
    "papermill": {
     "duration": 0.068034,
     "end_time": "2024-12-30T03:22:44.022263",
     "exception": false,
     "start_time": "2024-12-30T03:22:43.954229",
     "status": "completed"
    },
    "tags": []
   },
   "outputs": [
    {
     "data": {
      "text/plain": [
       "Specie\n",
       "Date                 0\n",
       "Country              0\n",
       "City                 0\n",
       "aqi              57661\n",
       "co               22080\n",
       "dew              22910\n",
       "humidity         11489\n",
       "mepaqi           58971\n",
       "neph             58873\n",
       "no2              11017\n",
       "o3               14542\n",
       "pm1              58687\n",
       "pm10             10818\n",
       "pm25              9623\n",
       "pol              58354\n",
       "precipitation    55234\n",
       "pressure         11631\n",
       "so2              18847\n",
       "temperature      11481\n",
       "uvi              58086\n",
       "wd               55488\n",
       "wind gust        30802\n",
       "wind speed       14994\n",
       "wind-gust        55472\n",
       "wind-speed       52885\n",
       "dtype: int64"
      ]
     },
     "execution_count": 79,
     "metadata": {},
     "output_type": "execute_result"
    }
   ],
   "source": [
    "data_df_2020_Q1.isnull().sum()"
   ]
  },
  {
   "cell_type": "code",
   "execution_count": null,
   "id": "2d2fe0fe",
   "metadata": {
    "id": "fm1JPY2nBLi9",
    "papermill": {
     "duration": 0.049401,
     "end_time": "2024-12-30T03:22:44.121596",
     "exception": false,
     "start_time": "2024-12-30T03:22:44.072195",
     "status": "completed"
    },
    "tags": []
   },
   "outputs": [],
   "source": []
  },
  {
   "cell_type": "markdown",
   "id": "720e2f3c",
   "metadata": {
    "id": "LGYwkNVzToWU",
    "papermill": {
     "duration": 0.047158,
     "end_time": "2024-12-30T03:22:44.216653",
     "exception": false,
     "start_time": "2024-12-30T03:22:44.169495",
     "status": "completed"
    },
    "tags": []
   },
   "source": [
    "# 2020_Q2"
   ]
  },
  {
   "cell_type": "code",
   "execution_count": 80,
   "id": "b1d1447a",
   "metadata": {
    "execution": {
     "iopub.execute_input": "2024-12-30T03:22:44.314110Z",
     "iopub.status.busy": "2024-12-30T03:22:44.313692Z",
     "iopub.status.idle": "2024-12-30T03:22:44.950156Z",
     "shell.execute_reply": "2024-12-30T03:22:44.948937Z"
    },
    "executionInfo": {
     "elapsed": 1250,
     "status": "ok",
     "timestamp": 1734445437914,
     "user": {
      "displayName": "Tahmida Majumder",
      "userId": "15415648085337204568"
     },
     "user_tz": -480
    },
    "id": "xSyoEhVsToWV",
    "outputId": "02d3233d-6501-46f6-e68a-6322b0ea3acd",
    "papermill": {
     "duration": 0.687382,
     "end_time": "2024-12-30T03:22:44.952070",
     "exception": false,
     "start_time": "2024-12-30T03:22:44.264688",
     "status": "completed"
    },
    "tags": []
   },
   "outputs": [
    {
     "name": "stdout",
     "output_type": "stream",
     "text": [
      "(602520, 5)\n"
     ]
    },
    {
     "data": {
      "text/html": [
       "<div>\n",
       "<style scoped>\n",
       "    .dataframe tbody tr th:only-of-type {\n",
       "        vertical-align: middle;\n",
       "    }\n",
       "\n",
       "    .dataframe tbody tr th {\n",
       "        vertical-align: top;\n",
       "    }\n",
       "\n",
       "    .dataframe thead th {\n",
       "        text-align: right;\n",
       "    }\n",
       "</style>\n",
       "<table border=\"1\" class=\"dataframe\">\n",
       "  <thead>\n",
       "    <tr style=\"text-align: right;\">\n",
       "      <th></th>\n",
       "      <th>Date</th>\n",
       "      <th>Country</th>\n",
       "      <th>City</th>\n",
       "      <th>Specie</th>\n",
       "      <th>count</th>\n",
       "    </tr>\n",
       "  </thead>\n",
       "  <tbody>\n",
       "    <tr>\n",
       "      <th>0</th>\n",
       "      <td>7/5/2020</td>\n",
       "      <td>IN</td>\n",
       "      <td>Thrissur</td>\n",
       "      <td>o3</td>\n",
       "      <td>38</td>\n",
       "    </tr>\n",
       "    <tr>\n",
       "      <th>1</th>\n",
       "      <td>7/5/2020</td>\n",
       "      <td>IN</td>\n",
       "      <td>Thrissur</td>\n",
       "      <td>pm25</td>\n",
       "      <td>72</td>\n",
       "    </tr>\n",
       "    <tr>\n",
       "      <th>2</th>\n",
       "      <td>7/5/2020</td>\n",
       "      <td>IN</td>\n",
       "      <td>Thrissur</td>\n",
       "      <td>no2</td>\n",
       "      <td>48</td>\n",
       "    </tr>\n",
       "    <tr>\n",
       "      <th>3</th>\n",
       "      <td>7/5/2020</td>\n",
       "      <td>IN</td>\n",
       "      <td>Thrissur</td>\n",
       "      <td>pressure</td>\n",
       "      <td>72</td>\n",
       "    </tr>\n",
       "    <tr>\n",
       "      <th>4</th>\n",
       "      <td>7/5/2020</td>\n",
       "      <td>IN</td>\n",
       "      <td>Thrissur</td>\n",
       "      <td>wind-speed</td>\n",
       "      <td>63</td>\n",
       "    </tr>\n",
       "    <tr>\n",
       "      <th>5</th>\n",
       "      <td>7/5/2020</td>\n",
       "      <td>IN</td>\n",
       "      <td>Thrissur</td>\n",
       "      <td>dew</td>\n",
       "      <td>51</td>\n",
       "    </tr>\n",
       "    <tr>\n",
       "      <th>6</th>\n",
       "      <td>7/5/2020</td>\n",
       "      <td>IN</td>\n",
       "      <td>Thrissur</td>\n",
       "      <td>co</td>\n",
       "      <td>72</td>\n",
       "    </tr>\n",
       "    <tr>\n",
       "      <th>7</th>\n",
       "      <td>7/5/2020</td>\n",
       "      <td>IN</td>\n",
       "      <td>Thrissur</td>\n",
       "      <td>temperature</td>\n",
       "      <td>72</td>\n",
       "    </tr>\n",
       "    <tr>\n",
       "      <th>8</th>\n",
       "      <td>7/5/2020</td>\n",
       "      <td>IN</td>\n",
       "      <td>Thrissur</td>\n",
       "      <td>pm10</td>\n",
       "      <td>72</td>\n",
       "    </tr>\n",
       "    <tr>\n",
       "      <th>9</th>\n",
       "      <td>7/5/2020</td>\n",
       "      <td>IN</td>\n",
       "      <td>Thrissur</td>\n",
       "      <td>humidity</td>\n",
       "      <td>72</td>\n",
       "    </tr>\n",
       "  </tbody>\n",
       "</table>\n",
       "</div>"
      ],
      "text/plain": [
       "       Date Country      City       Specie  count\n",
       "0  7/5/2020      IN  Thrissur           o3     38\n",
       "1  7/5/2020      IN  Thrissur         pm25     72\n",
       "2  7/5/2020      IN  Thrissur          no2     48\n",
       "3  7/5/2020      IN  Thrissur     pressure     72\n",
       "4  7/5/2020      IN  Thrissur   wind-speed     63\n",
       "5  7/5/2020      IN  Thrissur          dew     51\n",
       "6  7/5/2020      IN  Thrissur           co     72\n",
       "7  7/5/2020      IN  Thrissur  temperature     72\n",
       "8  7/5/2020      IN  Thrissur         pm10     72\n",
       "9  7/5/2020      IN  Thrissur     humidity     72"
      ]
     },
     "execution_count": 80,
     "metadata": {},
     "output_type": "execute_result"
    }
   ],
   "source": [
    "# Loading the data\n",
    "raw_data_2020_Q2 = pd.read_csv(r\"/kaggle/input/data-for-combine/airqualitydata-2020Q2.csv\")\n",
    "\n",
    "# print the shape\n",
    "print(raw_data_2020_Q2.shape)\n",
    "\n",
    "#runs the first 5 rows\n",
    "raw_data_2020_Q2.head(10)"
   ]
  },
  {
   "cell_type": "code",
   "execution_count": 81,
   "id": "039bffdd",
   "metadata": {
    "execution": {
     "iopub.execute_input": "2024-12-30T03:22:45.051134Z",
     "iopub.status.busy": "2024-12-30T03:22:45.050758Z",
     "iopub.status.idle": "2024-12-30T03:22:45.118849Z",
     "shell.execute_reply": "2024-12-30T03:22:45.117698Z"
    },
    "id": "b0XbQ7rFToWV",
    "papermill": {
     "duration": 0.119348,
     "end_time": "2024-12-30T03:22:45.120703",
     "exception": false,
     "start_time": "2024-12-30T03:22:45.001355",
     "status": "completed"
    },
    "tags": []
   },
   "outputs": [],
   "source": [
    "# Convert 'Date' to datetime\n",
    "raw_data_2020_Q2['Date'] = pd.to_datetime(raw_data_2020_Q2['Date'])"
   ]
  },
  {
   "cell_type": "code",
   "execution_count": 82,
   "id": "8ded3a26",
   "metadata": {
    "execution": {
     "iopub.execute_input": "2024-12-30T03:22:45.219264Z",
     "iopub.status.busy": "2024-12-30T03:22:45.218932Z",
     "iopub.status.idle": "2024-12-30T03:22:45.224525Z",
     "shell.execute_reply": "2024-12-30T03:22:45.223609Z"
    },
    "executionInfo": {
     "elapsed": 10,
     "status": "ok",
     "timestamp": 1734445437915,
     "user": {
      "displayName": "Tahmida Majumder",
      "userId": "15415648085337204568"
     },
     "user_tz": -480
    },
    "id": "xKxi2CK8ToWV",
    "outputId": "440244db-2fa4-4e07-f3d8-0dbbe5edf054",
    "papermill": {
     "duration": 0.056696,
     "end_time": "2024-12-30T03:22:45.226357",
     "exception": false,
     "start_time": "2024-12-30T03:22:45.169661",
     "status": "completed"
    },
    "tags": []
   },
   "outputs": [
    {
     "data": {
      "text/plain": [
       "(602520, 5)"
      ]
     },
     "execution_count": 82,
     "metadata": {},
     "output_type": "execute_result"
    }
   ],
   "source": [
    "raw_data_2020_Q2.shape"
   ]
  },
  {
   "cell_type": "code",
   "execution_count": 83,
   "id": "b3300ba3",
   "metadata": {
    "execution": {
     "iopub.execute_input": "2024-12-30T03:22:45.323222Z",
     "iopub.status.busy": "2024-12-30T03:22:45.322898Z",
     "iopub.status.idle": "2024-12-30T03:22:45.731894Z",
     "shell.execute_reply": "2024-12-30T03:22:45.730795Z"
    },
    "id": "ZKV6xvpVToWV",
    "papermill": {
     "duration": 0.459437,
     "end_time": "2024-12-30T03:22:45.733796",
     "exception": false,
     "start_time": "2024-12-30T03:22:45.274359",
     "status": "completed"
    },
    "tags": []
   },
   "outputs": [],
   "source": [
    "# Pivot the data\n",
    "data_df_2020_Q2 = raw_data_2020_Q2.pivot_table(\n",
    "    index=['Date', 'Country', 'City'],  # Grouping columns\n",
    "    columns='Specie',                  # Unique values become columns\n",
    "    values='count',                   # Values to aggregate\n",
    "    aggfunc='mean'                     # Aggregation function\n",
    ").reset_index()\n"
   ]
  },
  {
   "cell_type": "code",
   "execution_count": 84,
   "id": "561f7dfb",
   "metadata": {
    "execution": {
     "iopub.execute_input": "2024-12-30T03:22:45.832901Z",
     "iopub.status.busy": "2024-12-30T03:22:45.832383Z",
     "iopub.status.idle": "2024-12-30T03:22:45.855015Z",
     "shell.execute_reply": "2024-12-30T03:22:45.854000Z"
    },
    "executionInfo": {
     "elapsed": 11,
     "status": "ok",
     "timestamp": 1734445438399,
     "user": {
      "displayName": "Tahmida Majumder",
      "userId": "15415648085337204568"
     },
     "user_tz": -480
    },
    "id": "_824_kVMToWV",
    "outputId": "7eaa3e0c-df23-4d87-8509-3ee748405b7b",
    "papermill": {
     "duration": 0.074053,
     "end_time": "2024-12-30T03:22:45.856684",
     "exception": false,
     "start_time": "2024-12-30T03:22:45.782631",
     "status": "completed"
    },
    "tags": []
   },
   "outputs": [
    {
     "name": "stdout",
     "output_type": "stream",
     "text": [
      "(59500, 24)\n"
     ]
    },
    {
     "data": {
      "text/html": [
       "<div>\n",
       "<style scoped>\n",
       "    .dataframe tbody tr th:only-of-type {\n",
       "        vertical-align: middle;\n",
       "    }\n",
       "\n",
       "    .dataframe tbody tr th {\n",
       "        vertical-align: top;\n",
       "    }\n",
       "\n",
       "    .dataframe thead th {\n",
       "        text-align: right;\n",
       "    }\n",
       "</style>\n",
       "<table border=\"1\" class=\"dataframe\">\n",
       "  <thead>\n",
       "    <tr style=\"text-align: right;\">\n",
       "      <th>Specie</th>\n",
       "      <th>Date</th>\n",
       "      <th>Country</th>\n",
       "      <th>City</th>\n",
       "      <th>aqi</th>\n",
       "      <th>co</th>\n",
       "      <th>dew</th>\n",
       "      <th>humidity</th>\n",
       "      <th>mepaqi</th>\n",
       "      <th>neph</th>\n",
       "      <th>no2</th>\n",
       "      <th>...</th>\n",
       "      <th>precipitation</th>\n",
       "      <th>pressure</th>\n",
       "      <th>so2</th>\n",
       "      <th>temperature</th>\n",
       "      <th>uvi</th>\n",
       "      <th>wd</th>\n",
       "      <th>wind gust</th>\n",
       "      <th>wind speed</th>\n",
       "      <th>wind-gust</th>\n",
       "      <th>wind-speed</th>\n",
       "    </tr>\n",
       "  </thead>\n",
       "  <tbody>\n",
       "    <tr>\n",
       "      <th>0</th>\n",
       "      <td>2019-12-30</td>\n",
       "      <td>AE</td>\n",
       "      <td>Abu Dhabi</td>\n",
       "      <td>NaN</td>\n",
       "      <td>12.0</td>\n",
       "      <td>NaN</td>\n",
       "      <td>NaN</td>\n",
       "      <td>NaN</td>\n",
       "      <td>NaN</td>\n",
       "      <td>120.0</td>\n",
       "      <td>...</td>\n",
       "      <td>NaN</td>\n",
       "      <td>NaN</td>\n",
       "      <td>120.0</td>\n",
       "      <td>NaN</td>\n",
       "      <td>NaN</td>\n",
       "      <td>NaN</td>\n",
       "      <td>NaN</td>\n",
       "      <td>NaN</td>\n",
       "      <td>NaN</td>\n",
       "      <td>NaN</td>\n",
       "    </tr>\n",
       "    <tr>\n",
       "      <th>1</th>\n",
       "      <td>2019-12-30</td>\n",
       "      <td>AE</td>\n",
       "      <td>Dubai</td>\n",
       "      <td>NaN</td>\n",
       "      <td>NaN</td>\n",
       "      <td>NaN</td>\n",
       "      <td>NaN</td>\n",
       "      <td>NaN</td>\n",
       "      <td>NaN</td>\n",
       "      <td>NaN</td>\n",
       "      <td>...</td>\n",
       "      <td>NaN</td>\n",
       "      <td>NaN</td>\n",
       "      <td>NaN</td>\n",
       "      <td>NaN</td>\n",
       "      <td>NaN</td>\n",
       "      <td>NaN</td>\n",
       "      <td>NaN</td>\n",
       "      <td>NaN</td>\n",
       "      <td>NaN</td>\n",
       "      <td>NaN</td>\n",
       "    </tr>\n",
       "    <tr>\n",
       "      <th>2</th>\n",
       "      <td>2019-12-30</td>\n",
       "      <td>AF</td>\n",
       "      <td>Kabul</td>\n",
       "      <td>NaN</td>\n",
       "      <td>NaN</td>\n",
       "      <td>NaN</td>\n",
       "      <td>NaN</td>\n",
       "      <td>NaN</td>\n",
       "      <td>NaN</td>\n",
       "      <td>NaN</td>\n",
       "      <td>...</td>\n",
       "      <td>NaN</td>\n",
       "      <td>NaN</td>\n",
       "      <td>NaN</td>\n",
       "      <td>NaN</td>\n",
       "      <td>NaN</td>\n",
       "      <td>NaN</td>\n",
       "      <td>NaN</td>\n",
       "      <td>NaN</td>\n",
       "      <td>NaN</td>\n",
       "      <td>NaN</td>\n",
       "    </tr>\n",
       "    <tr>\n",
       "      <th>3</th>\n",
       "      <td>2019-12-30</td>\n",
       "      <td>AR</td>\n",
       "      <td>Buenos Aires</td>\n",
       "      <td>NaN</td>\n",
       "      <td>44.0</td>\n",
       "      <td>NaN</td>\n",
       "      <td>NaN</td>\n",
       "      <td>NaN</td>\n",
       "      <td>NaN</td>\n",
       "      <td>68.0</td>\n",
       "      <td>...</td>\n",
       "      <td>NaN</td>\n",
       "      <td>NaN</td>\n",
       "      <td>NaN</td>\n",
       "      <td>NaN</td>\n",
       "      <td>NaN</td>\n",
       "      <td>NaN</td>\n",
       "      <td>NaN</td>\n",
       "      <td>NaN</td>\n",
       "      <td>NaN</td>\n",
       "      <td>NaN</td>\n",
       "    </tr>\n",
       "    <tr>\n",
       "      <th>4</th>\n",
       "      <td>2019-12-30</td>\n",
       "      <td>AT</td>\n",
       "      <td>Graz</td>\n",
       "      <td>NaN</td>\n",
       "      <td>30.0</td>\n",
       "      <td>NaN</td>\n",
       "      <td>NaN</td>\n",
       "      <td>NaN</td>\n",
       "      <td>NaN</td>\n",
       "      <td>72.0</td>\n",
       "      <td>...</td>\n",
       "      <td>NaN</td>\n",
       "      <td>NaN</td>\n",
       "      <td>32.0</td>\n",
       "      <td>NaN</td>\n",
       "      <td>NaN</td>\n",
       "      <td>NaN</td>\n",
       "      <td>NaN</td>\n",
       "      <td>NaN</td>\n",
       "      <td>NaN</td>\n",
       "      <td>NaN</td>\n",
       "    </tr>\n",
       "  </tbody>\n",
       "</table>\n",
       "<p>5 rows × 25 columns</p>\n",
       "</div>"
      ],
      "text/plain": [
       "Specie       Date Country          City  aqi    co  dew  humidity  mepaqi  \\\n",
       "0      2019-12-30      AE     Abu Dhabi  NaN  12.0  NaN       NaN     NaN   \n",
       "1      2019-12-30      AE         Dubai  NaN   NaN  NaN       NaN     NaN   \n",
       "2      2019-12-30      AF         Kabul  NaN   NaN  NaN       NaN     NaN   \n",
       "3      2019-12-30      AR  Buenos Aires  NaN  44.0  NaN       NaN     NaN   \n",
       "4      2019-12-30      AT          Graz  NaN  30.0  NaN       NaN     NaN   \n",
       "\n",
       "Specie  neph    no2  ...  precipitation  pressure    so2  temperature  uvi  \\\n",
       "0        NaN  120.0  ...            NaN       NaN  120.0          NaN  NaN   \n",
       "1        NaN    NaN  ...            NaN       NaN    NaN          NaN  NaN   \n",
       "2        NaN    NaN  ...            NaN       NaN    NaN          NaN  NaN   \n",
       "3        NaN   68.0  ...            NaN       NaN    NaN          NaN  NaN   \n",
       "4        NaN   72.0  ...            NaN       NaN   32.0          NaN  NaN   \n",
       "\n",
       "Specie  wd  wind gust  wind speed  wind-gust  wind-speed  \n",
       "0      NaN        NaN         NaN        NaN         NaN  \n",
       "1      NaN        NaN         NaN        NaN         NaN  \n",
       "2      NaN        NaN         NaN        NaN         NaN  \n",
       "3      NaN        NaN         NaN        NaN         NaN  \n",
       "4      NaN        NaN         NaN        NaN         NaN  \n",
       "\n",
       "[5 rows x 25 columns]"
      ]
     },
     "execution_count": 84,
     "metadata": {},
     "output_type": "execute_result"
    }
   ],
   "source": [
    "print(data_df_2020_Q2.shape)\n",
    "data_df_2020_Q1.head()"
   ]
  },
  {
   "cell_type": "code",
   "execution_count": 85,
   "id": "015c1ee8",
   "metadata": {
    "execution": {
     "iopub.execute_input": "2024-12-30T03:22:45.955427Z",
     "iopub.status.busy": "2024-12-30T03:22:45.955094Z",
     "iopub.status.idle": "2024-12-30T03:22:45.970325Z",
     "shell.execute_reply": "2024-12-30T03:22:45.969403Z"
    },
    "executionInfo": {
     "elapsed": 8,
     "status": "ok",
     "timestamp": 1734445438399,
     "user": {
      "displayName": "Tahmida Majumder",
      "userId": "15415648085337204568"
     },
     "user_tz": -480
    },
    "id": "WjsOL4tsToWW",
    "outputId": "1956ceed-9f66-434f-c4a7-5a3d99b391ff",
    "papermill": {
     "duration": 0.066527,
     "end_time": "2024-12-30T03:22:45.972151",
     "exception": false,
     "start_time": "2024-12-30T03:22:45.905624",
     "status": "completed"
    },
    "tags": []
   },
   "outputs": [
    {
     "data": {
      "text/plain": [
       "Specie\n",
       "Date                 0\n",
       "Country              0\n",
       "City                 0\n",
       "aqi              58118\n",
       "co               22434\n",
       "dew              12453\n",
       "humidity            84\n",
       "mepaqi           59402\n",
       "neph             59304\n",
       "no2              11349\n",
       "o3               14440\n",
       "pm1              59138\n",
       "pm10             11078\n",
       "pm25              9389\n",
       "precipitation    52038\n",
       "pressure           309\n",
       "so2              18997\n",
       "temperature         71\n",
       "uvi              58494\n",
       "wd               55060\n",
       "wind gust        58877\n",
       "wind speed       58341\n",
       "wind-gust        26841\n",
       "wind-speed         763\n",
       "dtype: int64"
      ]
     },
     "execution_count": 85,
     "metadata": {},
     "output_type": "execute_result"
    }
   ],
   "source": [
    "data_df_2020_Q2.isnull().sum()"
   ]
  },
  {
   "cell_type": "code",
   "execution_count": null,
   "id": "cc618c19",
   "metadata": {
    "id": "FWlYCoEQBLlt",
    "papermill": {
     "duration": 0.048816,
     "end_time": "2024-12-30T03:22:46.070107",
     "exception": false,
     "start_time": "2024-12-30T03:22:46.021291",
     "status": "completed"
    },
    "tags": []
   },
   "outputs": [],
   "source": []
  },
  {
   "cell_type": "markdown",
   "id": "4a6f27c3",
   "metadata": {
    "id": "Oe30n0_jT2xM",
    "papermill": {
     "duration": 0.048312,
     "end_time": "2024-12-30T03:22:46.167489",
     "exception": false,
     "start_time": "2024-12-30T03:22:46.119177",
     "status": "completed"
    },
    "tags": []
   },
   "source": [
    "# 2020_Q3"
   ]
  },
  {
   "cell_type": "code",
   "execution_count": 86,
   "id": "258f4eb0",
   "metadata": {
    "execution": {
     "iopub.execute_input": "2024-12-30T03:22:46.266917Z",
     "iopub.status.busy": "2024-12-30T03:22:46.266292Z",
     "iopub.status.idle": "2024-12-30T03:22:46.902379Z",
     "shell.execute_reply": "2024-12-30T03:22:46.901306Z"
    },
    "executionInfo": {
     "elapsed": 1322,
     "status": "ok",
     "timestamp": 1734445439714,
     "user": {
      "displayName": "Tahmida Majumder",
      "userId": "15415648085337204568"
     },
     "user_tz": -480
    },
    "id": "kR-yJOqKT2xN",
    "outputId": "c8db1d56-6259-467c-d00f-3f411621b605",
    "papermill": {
     "duration": 0.688437,
     "end_time": "2024-12-30T03:22:46.904123",
     "exception": false,
     "start_time": "2024-12-30T03:22:46.215686",
     "status": "completed"
    },
    "tags": []
   },
   "outputs": [
    {
     "name": "stdout",
     "output_type": "stream",
     "text": [
      "(598100, 5)\n"
     ]
    },
    {
     "data": {
      "text/html": [
       "<div>\n",
       "<style scoped>\n",
       "    .dataframe tbody tr th:only-of-type {\n",
       "        vertical-align: middle;\n",
       "    }\n",
       "\n",
       "    .dataframe tbody tr th {\n",
       "        vertical-align: top;\n",
       "    }\n",
       "\n",
       "    .dataframe thead th {\n",
       "        text-align: right;\n",
       "    }\n",
       "</style>\n",
       "<table border=\"1\" class=\"dataframe\">\n",
       "  <thead>\n",
       "    <tr style=\"text-align: right;\">\n",
       "      <th></th>\n",
       "      <th>Date</th>\n",
       "      <th>Country</th>\n",
       "      <th>City</th>\n",
       "      <th>Specie</th>\n",
       "      <th>count</th>\n",
       "    </tr>\n",
       "  </thead>\n",
       "  <tbody>\n",
       "    <tr>\n",
       "      <th>0</th>\n",
       "      <td>10/4/2020</td>\n",
       "      <td>UA</td>\n",
       "      <td>Odessa</td>\n",
       "      <td>humidity</td>\n",
       "      <td>24</td>\n",
       "    </tr>\n",
       "    <tr>\n",
       "      <th>1</th>\n",
       "      <td>10/4/2020</td>\n",
       "      <td>UA</td>\n",
       "      <td>Odessa</td>\n",
       "      <td>pressure</td>\n",
       "      <td>24</td>\n",
       "    </tr>\n",
       "    <tr>\n",
       "      <th>2</th>\n",
       "      <td>10/4/2020</td>\n",
       "      <td>UA</td>\n",
       "      <td>Odessa</td>\n",
       "      <td>wind-speed</td>\n",
       "      <td>24</td>\n",
       "    </tr>\n",
       "    <tr>\n",
       "      <th>3</th>\n",
       "      <td>10/4/2020</td>\n",
       "      <td>UA</td>\n",
       "      <td>Odessa</td>\n",
       "      <td>dew</td>\n",
       "      <td>19</td>\n",
       "    </tr>\n",
       "    <tr>\n",
       "      <th>4</th>\n",
       "      <td>10/4/2020</td>\n",
       "      <td>UA</td>\n",
       "      <td>Odessa</td>\n",
       "      <td>temperature</td>\n",
       "      <td>24</td>\n",
       "    </tr>\n",
       "    <tr>\n",
       "      <th>5</th>\n",
       "      <td>10/4/2020</td>\n",
       "      <td>UA</td>\n",
       "      <td>Ternopil</td>\n",
       "      <td>dew</td>\n",
       "      <td>14</td>\n",
       "    </tr>\n",
       "    <tr>\n",
       "      <th>6</th>\n",
       "      <td>10/4/2020</td>\n",
       "      <td>UA</td>\n",
       "      <td>Ternopil</td>\n",
       "      <td>pm25</td>\n",
       "      <td>24</td>\n",
       "    </tr>\n",
       "    <tr>\n",
       "      <th>7</th>\n",
       "      <td>10/4/2020</td>\n",
       "      <td>UA</td>\n",
       "      <td>Ternopil</td>\n",
       "      <td>wind-speed</td>\n",
       "      <td>12</td>\n",
       "    </tr>\n",
       "    <tr>\n",
       "      <th>8</th>\n",
       "      <td>10/4/2020</td>\n",
       "      <td>UA</td>\n",
       "      <td>Ternopil</td>\n",
       "      <td>temperature</td>\n",
       "      <td>14</td>\n",
       "    </tr>\n",
       "    <tr>\n",
       "      <th>9</th>\n",
       "      <td>10/4/2020</td>\n",
       "      <td>UA</td>\n",
       "      <td>Ternopil</td>\n",
       "      <td>pm10</td>\n",
       "      <td>24</td>\n",
       "    </tr>\n",
       "  </tbody>\n",
       "</table>\n",
       "</div>"
      ],
      "text/plain": [
       "        Date Country      City       Specie  count\n",
       "0  10/4/2020      UA    Odessa     humidity     24\n",
       "1  10/4/2020      UA    Odessa     pressure     24\n",
       "2  10/4/2020      UA    Odessa   wind-speed     24\n",
       "3  10/4/2020      UA    Odessa          dew     19\n",
       "4  10/4/2020      UA    Odessa  temperature     24\n",
       "5  10/4/2020      UA  Ternopil          dew     14\n",
       "6  10/4/2020      UA  Ternopil         pm25     24\n",
       "7  10/4/2020      UA  Ternopil   wind-speed     12\n",
       "8  10/4/2020      UA  Ternopil  temperature     14\n",
       "9  10/4/2020      UA  Ternopil         pm10     24"
      ]
     },
     "execution_count": 86,
     "metadata": {},
     "output_type": "execute_result"
    }
   ],
   "source": [
    "# Loading the data\n",
    "raw_data_2020_Q3 = pd.read_csv(r\"/kaggle/input/data-for-combine/airqualitydata-2020Q3.csv\")\n",
    "\n",
    "# print the shape\n",
    "print(raw_data_2020_Q3.shape)\n",
    "\n",
    "#runs the first 5 rows\n",
    "raw_data_2020_Q3.head(10)"
   ]
  },
  {
   "cell_type": "code",
   "execution_count": 87,
   "id": "51a42904",
   "metadata": {
    "execution": {
     "iopub.execute_input": "2024-12-30T03:22:47.003942Z",
     "iopub.status.busy": "2024-12-30T03:22:47.003542Z",
     "iopub.status.idle": "2024-12-30T03:22:47.075071Z",
     "shell.execute_reply": "2024-12-30T03:22:47.073826Z"
    },
    "id": "P1LXqvwgT2xN",
    "papermill": {
     "duration": 0.123912,
     "end_time": "2024-12-30T03:22:47.077078",
     "exception": false,
     "start_time": "2024-12-30T03:22:46.953166",
     "status": "completed"
    },
    "tags": []
   },
   "outputs": [],
   "source": [
    "# Convert 'Date' to datetime\n",
    "raw_data_2020_Q3['Date'] = pd.to_datetime(raw_data_2020_Q3['Date'])"
   ]
  },
  {
   "cell_type": "code",
   "execution_count": 88,
   "id": "ef84616e",
   "metadata": {
    "execution": {
     "iopub.execute_input": "2024-12-30T03:22:47.176898Z",
     "iopub.status.busy": "2024-12-30T03:22:47.176423Z",
     "iopub.status.idle": "2024-12-30T03:22:47.182173Z",
     "shell.execute_reply": "2024-12-30T03:22:47.181022Z"
    },
    "executionInfo": {
     "elapsed": 7,
     "status": "ok",
     "timestamp": 1734445439714,
     "user": {
      "displayName": "Tahmida Majumder",
      "userId": "15415648085337204568"
     },
     "user_tz": -480
    },
    "id": "1xuoEFgCT2xN",
    "outputId": "a8e84f99-c3c3-40a7-9abe-543b5e3ab17d",
    "papermill": {
     "duration": 0.057234,
     "end_time": "2024-12-30T03:22:47.183794",
     "exception": false,
     "start_time": "2024-12-30T03:22:47.126560",
     "status": "completed"
    },
    "tags": []
   },
   "outputs": [
    {
     "data": {
      "text/plain": [
       "(598100, 5)"
      ]
     },
     "execution_count": 88,
     "metadata": {},
     "output_type": "execute_result"
    }
   ],
   "source": [
    "raw_data_2020_Q3.shape"
   ]
  },
  {
   "cell_type": "code",
   "execution_count": 89,
   "id": "9de93beb",
   "metadata": {
    "execution": {
     "iopub.execute_input": "2024-12-30T03:22:47.283364Z",
     "iopub.status.busy": "2024-12-30T03:22:47.282971Z",
     "iopub.status.idle": "2024-12-30T03:22:47.688765Z",
     "shell.execute_reply": "2024-12-30T03:22:47.687269Z"
    },
    "id": "b3f4bsOuT2xO",
    "papermill": {
     "duration": 0.458028,
     "end_time": "2024-12-30T03:22:47.690938",
     "exception": false,
     "start_time": "2024-12-30T03:22:47.232910",
     "status": "completed"
    },
    "tags": []
   },
   "outputs": [],
   "source": [
    "# Pivot the data\n",
    "data_df_2020_Q3 = raw_data_2020_Q3.pivot_table(\n",
    "    index=['Date', 'Country', 'City'],  # Grouping columns\n",
    "    columns='Specie',                  # Unique values become columns\n",
    "    values='count',                   # Values to aggregate\n",
    "    aggfunc='mean'                     # Aggregation function\n",
    ").reset_index()\n"
   ]
  },
  {
   "cell_type": "code",
   "execution_count": 90,
   "id": "5d5625ec",
   "metadata": {
    "execution": {
     "iopub.execute_input": "2024-12-30T03:22:47.791959Z",
     "iopub.status.busy": "2024-12-30T03:22:47.791594Z",
     "iopub.status.idle": "2024-12-30T03:22:47.817586Z",
     "shell.execute_reply": "2024-12-30T03:22:47.816325Z"
    },
    "executionInfo": {
     "elapsed": 11,
     "status": "ok",
     "timestamp": 1734445440164,
     "user": {
      "displayName": "Tahmida Majumder",
      "userId": "15415648085337204568"
     },
     "user_tz": -480
    },
    "id": "s2sgLso6T2xO",
    "outputId": "89c37051-abc5-4b15-952a-9f50373cf363",
    "papermill": {
     "duration": 0.078202,
     "end_time": "2024-12-30T03:22:47.819399",
     "exception": false,
     "start_time": "2024-12-30T03:22:47.741197",
     "status": "completed"
    },
    "tags": []
   },
   "outputs": [
    {
     "name": "stdout",
     "output_type": "stream",
     "text": [
      "(59172, 22)\n"
     ]
    },
    {
     "data": {
      "text/html": [
       "<div>\n",
       "<style scoped>\n",
       "    .dataframe tbody tr th:only-of-type {\n",
       "        vertical-align: middle;\n",
       "    }\n",
       "\n",
       "    .dataframe tbody tr th {\n",
       "        vertical-align: top;\n",
       "    }\n",
       "\n",
       "    .dataframe thead th {\n",
       "        text-align: right;\n",
       "    }\n",
       "</style>\n",
       "<table border=\"1\" class=\"dataframe\">\n",
       "  <thead>\n",
       "    <tr style=\"text-align: right;\">\n",
       "      <th>Specie</th>\n",
       "      <th>Date</th>\n",
       "      <th>Country</th>\n",
       "      <th>City</th>\n",
       "      <th>aqi</th>\n",
       "      <th>co</th>\n",
       "      <th>dew</th>\n",
       "      <th>humidity</th>\n",
       "      <th>mepaqi</th>\n",
       "      <th>neph</th>\n",
       "      <th>no2</th>\n",
       "      <th>...</th>\n",
       "      <th>pm10</th>\n",
       "      <th>pm25</th>\n",
       "      <th>precipitation</th>\n",
       "      <th>pressure</th>\n",
       "      <th>so2</th>\n",
       "      <th>temperature</th>\n",
       "      <th>uvi</th>\n",
       "      <th>wd</th>\n",
       "      <th>wind-gust</th>\n",
       "      <th>wind-speed</th>\n",
       "    </tr>\n",
       "  </thead>\n",
       "  <tbody>\n",
       "    <tr>\n",
       "      <th>0</th>\n",
       "      <td>2020-06-29</td>\n",
       "      <td>AE</td>\n",
       "      <td>Abu Dhabi</td>\n",
       "      <td>NaN</td>\n",
       "      <td>17.0</td>\n",
       "      <td>180.0</td>\n",
       "      <td>192.0</td>\n",
       "      <td>NaN</td>\n",
       "      <td>NaN</td>\n",
       "      <td>120.0</td>\n",
       "      <td>...</td>\n",
       "      <td>120.0</td>\n",
       "      <td>24.0</td>\n",
       "      <td>NaN</td>\n",
       "      <td>192.0</td>\n",
       "      <td>120.0</td>\n",
       "      <td>192.0</td>\n",
       "      <td>NaN</td>\n",
       "      <td>NaN</td>\n",
       "      <td>NaN</td>\n",
       "      <td>192.0</td>\n",
       "    </tr>\n",
       "    <tr>\n",
       "      <th>1</th>\n",
       "      <td>2020-06-29</td>\n",
       "      <td>AE</td>\n",
       "      <td>Dubai</td>\n",
       "      <td>NaN</td>\n",
       "      <td>NaN</td>\n",
       "      <td>22.0</td>\n",
       "      <td>24.0</td>\n",
       "      <td>NaN</td>\n",
       "      <td>NaN</td>\n",
       "      <td>NaN</td>\n",
       "      <td>...</td>\n",
       "      <td>NaN</td>\n",
       "      <td>24.0</td>\n",
       "      <td>NaN</td>\n",
       "      <td>24.0</td>\n",
       "      <td>NaN</td>\n",
       "      <td>24.0</td>\n",
       "      <td>NaN</td>\n",
       "      <td>NaN</td>\n",
       "      <td>NaN</td>\n",
       "      <td>24.0</td>\n",
       "    </tr>\n",
       "    <tr>\n",
       "      <th>2</th>\n",
       "      <td>2020-06-29</td>\n",
       "      <td>AF</td>\n",
       "      <td>Kabul</td>\n",
       "      <td>NaN</td>\n",
       "      <td>NaN</td>\n",
       "      <td>24.0</td>\n",
       "      <td>24.0</td>\n",
       "      <td>NaN</td>\n",
       "      <td>NaN</td>\n",
       "      <td>NaN</td>\n",
       "      <td>...</td>\n",
       "      <td>NaN</td>\n",
       "      <td>24.0</td>\n",
       "      <td>NaN</td>\n",
       "      <td>24.0</td>\n",
       "      <td>NaN</td>\n",
       "      <td>24.0</td>\n",
       "      <td>NaN</td>\n",
       "      <td>NaN</td>\n",
       "      <td>8.0</td>\n",
       "      <td>23.0</td>\n",
       "    </tr>\n",
       "    <tr>\n",
       "      <th>3</th>\n",
       "      <td>2020-06-29</td>\n",
       "      <td>AR</td>\n",
       "      <td>Buenos Aires</td>\n",
       "      <td>NaN</td>\n",
       "      <td>60.0</td>\n",
       "      <td>22.0</td>\n",
       "      <td>70.0</td>\n",
       "      <td>NaN</td>\n",
       "      <td>NaN</td>\n",
       "      <td>48.0</td>\n",
       "      <td>...</td>\n",
       "      <td>61.0</td>\n",
       "      <td>21.0</td>\n",
       "      <td>NaN</td>\n",
       "      <td>46.0</td>\n",
       "      <td>3.0</td>\n",
       "      <td>70.0</td>\n",
       "      <td>NaN</td>\n",
       "      <td>16.0</td>\n",
       "      <td>48.0</td>\n",
       "      <td>70.0</td>\n",
       "    </tr>\n",
       "    <tr>\n",
       "      <th>4</th>\n",
       "      <td>2020-06-29</td>\n",
       "      <td>AT</td>\n",
       "      <td>Graz</td>\n",
       "      <td>NaN</td>\n",
       "      <td>50.0</td>\n",
       "      <td>154.0</td>\n",
       "      <td>216.0</td>\n",
       "      <td>NaN</td>\n",
       "      <td>NaN</td>\n",
       "      <td>192.0</td>\n",
       "      <td>...</td>\n",
       "      <td>210.0</td>\n",
       "      <td>NaN</td>\n",
       "      <td>28.0</td>\n",
       "      <td>216.0</td>\n",
       "      <td>45.0</td>\n",
       "      <td>216.0</td>\n",
       "      <td>NaN</td>\n",
       "      <td>NaN</td>\n",
       "      <td>208.0</td>\n",
       "      <td>216.0</td>\n",
       "    </tr>\n",
       "  </tbody>\n",
       "</table>\n",
       "<p>5 rows × 22 columns</p>\n",
       "</div>"
      ],
      "text/plain": [
       "Specie       Date Country          City  aqi    co    dew  humidity  mepaqi  \\\n",
       "0      2020-06-29      AE     Abu Dhabi  NaN  17.0  180.0     192.0     NaN   \n",
       "1      2020-06-29      AE         Dubai  NaN   NaN   22.0      24.0     NaN   \n",
       "2      2020-06-29      AF         Kabul  NaN   NaN   24.0      24.0     NaN   \n",
       "3      2020-06-29      AR  Buenos Aires  NaN  60.0   22.0      70.0     NaN   \n",
       "4      2020-06-29      AT          Graz  NaN  50.0  154.0     216.0     NaN   \n",
       "\n",
       "Specie  neph    no2  ...   pm10  pm25  precipitation  pressure    so2  \\\n",
       "0        NaN  120.0  ...  120.0  24.0            NaN     192.0  120.0   \n",
       "1        NaN    NaN  ...    NaN  24.0            NaN      24.0    NaN   \n",
       "2        NaN    NaN  ...    NaN  24.0            NaN      24.0    NaN   \n",
       "3        NaN   48.0  ...   61.0  21.0            NaN      46.0    3.0   \n",
       "4        NaN  192.0  ...  210.0   NaN           28.0     216.0   45.0   \n",
       "\n",
       "Specie  temperature  uvi    wd  wind-gust  wind-speed  \n",
       "0             192.0  NaN   NaN        NaN       192.0  \n",
       "1              24.0  NaN   NaN        NaN        24.0  \n",
       "2              24.0  NaN   NaN        8.0        23.0  \n",
       "3              70.0  NaN  16.0       48.0        70.0  \n",
       "4             216.0  NaN   NaN      208.0       216.0  \n",
       "\n",
       "[5 rows x 22 columns]"
      ]
     },
     "execution_count": 90,
     "metadata": {},
     "output_type": "execute_result"
    }
   ],
   "source": [
    "print(data_df_2020_Q3.shape)\n",
    "data_df_2020_Q3.head()"
   ]
  },
  {
   "cell_type": "code",
   "execution_count": 91,
   "id": "1395f8a0",
   "metadata": {
    "execution": {
     "iopub.execute_input": "2024-12-30T03:22:47.918017Z",
     "iopub.status.busy": "2024-12-30T03:22:47.917678Z",
     "iopub.status.idle": "2024-12-30T03:22:47.932758Z",
     "shell.execute_reply": "2024-12-30T03:22:47.931567Z"
    },
    "executionInfo": {
     "elapsed": 8,
     "status": "ok",
     "timestamp": 1734445440164,
     "user": {
      "displayName": "Tahmida Majumder",
      "userId": "15415648085337204568"
     },
     "user_tz": -480
    },
    "id": "nUdvyyH6T2xO",
    "outputId": "8ec35553-6095-4082-e566-d9f028326dc2",
    "papermill": {
     "duration": 0.066436,
     "end_time": "2024-12-30T03:22:47.934587",
     "exception": false,
     "start_time": "2024-12-30T03:22:47.868151",
     "status": "completed"
    },
    "tags": []
   },
   "outputs": [
    {
     "data": {
      "text/plain": [
       "Specie\n",
       "Date                 0\n",
       "Country              0\n",
       "City                 0\n",
       "aqi              57689\n",
       "co               22203\n",
       "dew              12016\n",
       "humidity            87\n",
       "mepaqi           59074\n",
       "neph             58976\n",
       "no2              11175\n",
       "o3               13982\n",
       "pm1              58848\n",
       "pm10             10889\n",
       "pm25              9314\n",
       "precipitation    51268\n",
       "pressure           426\n",
       "so2              18642\n",
       "temperature        106\n",
       "uvi              58291\n",
       "wd               54519\n",
       "wind-gust        27905\n",
       "wind-speed         758\n",
       "dtype: int64"
      ]
     },
     "execution_count": 91,
     "metadata": {},
     "output_type": "execute_result"
    }
   ],
   "source": [
    "data_df_2020_Q3.isnull().sum()"
   ]
  },
  {
   "cell_type": "code",
   "execution_count": null,
   "id": "6a4b5a69",
   "metadata": {
    "id": "AaRID5BRBLoJ",
    "papermill": {
     "duration": 0.05002,
     "end_time": "2024-12-30T03:22:48.035517",
     "exception": false,
     "start_time": "2024-12-30T03:22:47.985497",
     "status": "completed"
    },
    "tags": []
   },
   "outputs": [],
   "source": []
  },
  {
   "cell_type": "markdown",
   "id": "bb4981bf",
   "metadata": {
    "id": "p4Ouvbl1UGVk",
    "papermill": {
     "duration": 0.071202,
     "end_time": "2024-12-30T03:22:48.156312",
     "exception": false,
     "start_time": "2024-12-30T03:22:48.085110",
     "status": "completed"
    },
    "tags": []
   },
   "source": [
    "# 2020_Q4"
   ]
  },
  {
   "cell_type": "code",
   "execution_count": 92,
   "id": "2ed675e4",
   "metadata": {
    "execution": {
     "iopub.execute_input": "2024-12-30T03:22:48.256335Z",
     "iopub.status.busy": "2024-12-30T03:22:48.255979Z",
     "iopub.status.idle": "2024-12-30T03:22:48.860921Z",
     "shell.execute_reply": "2024-12-30T03:22:48.859702Z"
    },
    "executionInfo": {
     "elapsed": 422,
     "status": "ok",
     "timestamp": 1734445440580,
     "user": {
      "displayName": "Tahmida Majumder",
      "userId": "15415648085337204568"
     },
     "user_tz": -480
    },
    "id": "i4NjDJ1PUGVl",
    "outputId": "100b89a1-4150-4a15-82cb-928de516c328",
    "papermill": {
     "duration": 0.66044,
     "end_time": "2024-12-30T03:22:48.865823",
     "exception": false,
     "start_time": "2024-12-30T03:22:48.205383",
     "status": "completed"
    },
    "tags": []
   },
   "outputs": [
    {
     "name": "stdout",
     "output_type": "stream",
     "text": [
      "(586937, 5)\n"
     ]
    },
    {
     "data": {
      "text/html": [
       "<div>\n",
       "<style scoped>\n",
       "    .dataframe tbody tr th:only-of-type {\n",
       "        vertical-align: middle;\n",
       "    }\n",
       "\n",
       "    .dataframe tbody tr th {\n",
       "        vertical-align: top;\n",
       "    }\n",
       "\n",
       "    .dataframe thead th {\n",
       "        text-align: right;\n",
       "    }\n",
       "</style>\n",
       "<table border=\"1\" class=\"dataframe\">\n",
       "  <thead>\n",
       "    <tr style=\"text-align: right;\">\n",
       "      <th></th>\n",
       "      <th>Date</th>\n",
       "      <th>Country</th>\n",
       "      <th>City</th>\n",
       "      <th>Specie</th>\n",
       "      <th>count</th>\n",
       "    </tr>\n",
       "  </thead>\n",
       "  <tbody>\n",
       "    <tr>\n",
       "      <th>0</th>\n",
       "      <td>1/3/2021</td>\n",
       "      <td>ET</td>\n",
       "      <td>Addis Ababa</td>\n",
       "      <td>pm25</td>\n",
       "      <td>24</td>\n",
       "    </tr>\n",
       "    <tr>\n",
       "      <th>1</th>\n",
       "      <td>1/3/2021</td>\n",
       "      <td>ET</td>\n",
       "      <td>Addis Ababa</td>\n",
       "      <td>dew</td>\n",
       "      <td>7</td>\n",
       "    </tr>\n",
       "    <tr>\n",
       "      <th>2</th>\n",
       "      <td>1/3/2021</td>\n",
       "      <td>ET</td>\n",
       "      <td>Addis Ababa</td>\n",
       "      <td>temperature</td>\n",
       "      <td>7</td>\n",
       "    </tr>\n",
       "    <tr>\n",
       "      <th>3</th>\n",
       "      <td>1/3/2021</td>\n",
       "      <td>ET</td>\n",
       "      <td>Addis Ababa</td>\n",
       "      <td>humidity</td>\n",
       "      <td>7</td>\n",
       "    </tr>\n",
       "    <tr>\n",
       "      <th>4</th>\n",
       "      <td>1/3/2021</td>\n",
       "      <td>ET</td>\n",
       "      <td>Addis Ababa</td>\n",
       "      <td>pressure</td>\n",
       "      <td>7</td>\n",
       "    </tr>\n",
       "    <tr>\n",
       "      <th>5</th>\n",
       "      <td>1/3/2021</td>\n",
       "      <td>ET</td>\n",
       "      <td>Addis Ababa</td>\n",
       "      <td>wind-speed</td>\n",
       "      <td>7</td>\n",
       "    </tr>\n",
       "    <tr>\n",
       "      <th>6</th>\n",
       "      <td>1/3/2021</td>\n",
       "      <td>LA</td>\n",
       "      <td>Vientiane</td>\n",
       "      <td>dew</td>\n",
       "      <td>15</td>\n",
       "    </tr>\n",
       "    <tr>\n",
       "      <th>7</th>\n",
       "      <td>1/3/2021</td>\n",
       "      <td>LA</td>\n",
       "      <td>Vientiane</td>\n",
       "      <td>temperature</td>\n",
       "      <td>15</td>\n",
       "    </tr>\n",
       "    <tr>\n",
       "      <th>8</th>\n",
       "      <td>1/3/2021</td>\n",
       "      <td>LA</td>\n",
       "      <td>Vientiane</td>\n",
       "      <td>humidity</td>\n",
       "      <td>15</td>\n",
       "    </tr>\n",
       "    <tr>\n",
       "      <th>9</th>\n",
       "      <td>1/3/2021</td>\n",
       "      <td>LA</td>\n",
       "      <td>Vientiane</td>\n",
       "      <td>pm25</td>\n",
       "      <td>24</td>\n",
       "    </tr>\n",
       "  </tbody>\n",
       "</table>\n",
       "</div>"
      ],
      "text/plain": [
       "       Date Country         City       Specie  count\n",
       "0  1/3/2021      ET  Addis Ababa         pm25     24\n",
       "1  1/3/2021      ET  Addis Ababa          dew      7\n",
       "2  1/3/2021      ET  Addis Ababa  temperature      7\n",
       "3  1/3/2021      ET  Addis Ababa     humidity      7\n",
       "4  1/3/2021      ET  Addis Ababa     pressure      7\n",
       "5  1/3/2021      ET  Addis Ababa   wind-speed      7\n",
       "6  1/3/2021      LA    Vientiane          dew     15\n",
       "7  1/3/2021      LA    Vientiane  temperature     15\n",
       "8  1/3/2021      LA    Vientiane     humidity     15\n",
       "9  1/3/2021      LA    Vientiane         pm25     24"
      ]
     },
     "execution_count": 92,
     "metadata": {},
     "output_type": "execute_result"
    }
   ],
   "source": [
    "# Loading the data\n",
    "raw_data_2020_Q4 = pd.read_csv(r\"/kaggle/input/data-for-combine/airqualitydata-2020Q4.csv\")\n",
    "\n",
    "# print the shape\n",
    "print(raw_data_2020_Q4.shape)\n",
    "\n",
    "#runs the first 5 rows\n",
    "raw_data_2020_Q4.head(10)"
   ]
  },
  {
   "cell_type": "code",
   "execution_count": 93,
   "id": "f92ca58e",
   "metadata": {
    "execution": {
     "iopub.execute_input": "2024-12-30T03:22:48.967534Z",
     "iopub.status.busy": "2024-12-30T03:22:48.967126Z",
     "iopub.status.idle": "2024-12-30T03:22:49.035001Z",
     "shell.execute_reply": "2024-12-30T03:22:49.034019Z"
    },
    "id": "ZvXbzhK4UGVl",
    "papermill": {
     "duration": 0.120756,
     "end_time": "2024-12-30T03:22:49.036987",
     "exception": false,
     "start_time": "2024-12-30T03:22:48.916231",
     "status": "completed"
    },
    "tags": []
   },
   "outputs": [],
   "source": [
    "# Convert 'Date' to datetime\n",
    "raw_data_2020_Q4['Date'] = pd.to_datetime(raw_data_2020_Q4['Date'])"
   ]
  },
  {
   "cell_type": "code",
   "execution_count": 94,
   "id": "3ded2046",
   "metadata": {
    "execution": {
     "iopub.execute_input": "2024-12-30T03:22:49.137726Z",
     "iopub.status.busy": "2024-12-30T03:22:49.137353Z",
     "iopub.status.idle": "2024-12-30T03:22:49.143190Z",
     "shell.execute_reply": "2024-12-30T03:22:49.142259Z"
    },
    "executionInfo": {
     "elapsed": 7,
     "status": "ok",
     "timestamp": 1734445440580,
     "user": {
      "displayName": "Tahmida Majumder",
      "userId": "15415648085337204568"
     },
     "user_tz": -480
    },
    "id": "VqKup5l4UGVl",
    "outputId": "7240289d-f562-40ab-e873-525624b6674f",
    "papermill": {
     "duration": 0.058188,
     "end_time": "2024-12-30T03:22:49.144743",
     "exception": false,
     "start_time": "2024-12-30T03:22:49.086555",
     "status": "completed"
    },
    "tags": []
   },
   "outputs": [
    {
     "data": {
      "text/plain": [
       "(586937, 5)"
      ]
     },
     "execution_count": 94,
     "metadata": {},
     "output_type": "execute_result"
    }
   ],
   "source": [
    "raw_data_2020_Q4.shape"
   ]
  },
  {
   "cell_type": "code",
   "execution_count": 95,
   "id": "de601428",
   "metadata": {
    "execution": {
     "iopub.execute_input": "2024-12-30T03:22:49.246423Z",
     "iopub.status.busy": "2024-12-30T03:22:49.246093Z",
     "iopub.status.idle": "2024-12-30T03:22:49.638590Z",
     "shell.execute_reply": "2024-12-30T03:22:49.637715Z"
    },
    "id": "YJ_WLPDvUGVl",
    "papermill": {
     "duration": 0.446206,
     "end_time": "2024-12-30T03:22:49.640538",
     "exception": false,
     "start_time": "2024-12-30T03:22:49.194332",
     "status": "completed"
    },
    "tags": []
   },
   "outputs": [],
   "source": [
    "# Pivot the data\n",
    "data_df_2020_Q4 = raw_data_2020_Q4.pivot_table(\n",
    "    index=['Date', 'Country', 'City'],  # Grouping columns\n",
    "    columns='Specie',                  # Unique values become columns\n",
    "    values='count',                   # Values to aggregate\n",
    "    aggfunc='mean'                     # Aggregation function\n",
    ").reset_index()\n"
   ]
  },
  {
   "cell_type": "code",
   "execution_count": 96,
   "id": "3cd41598",
   "metadata": {
    "execution": {
     "iopub.execute_input": "2024-12-30T03:22:49.742131Z",
     "iopub.status.busy": "2024-12-30T03:22:49.741790Z",
     "iopub.status.idle": "2024-12-30T03:22:49.766909Z",
     "shell.execute_reply": "2024-12-30T03:22:49.765921Z"
    },
    "executionInfo": {
     "elapsed": 11,
     "status": "ok",
     "timestamp": 1734445441522,
     "user": {
      "displayName": "Tahmida Majumder",
      "userId": "15415648085337204568"
     },
     "user_tz": -480
    },
    "id": "X62TzyIFUGVl",
    "outputId": "3909d5ca-b968-4fdc-ffa1-659da2426908",
    "papermill": {
     "duration": 0.077898,
     "end_time": "2024-12-30T03:22:49.768465",
     "exception": false,
     "start_time": "2024-12-30T03:22:49.690567",
     "status": "completed"
    },
    "tags": []
   },
   "outputs": [
    {
     "name": "stdout",
     "output_type": "stream",
     "text": [
      "(58362, 22)\n"
     ]
    },
    {
     "data": {
      "text/html": [
       "<div>\n",
       "<style scoped>\n",
       "    .dataframe tbody tr th:only-of-type {\n",
       "        vertical-align: middle;\n",
       "    }\n",
       "\n",
       "    .dataframe tbody tr th {\n",
       "        vertical-align: top;\n",
       "    }\n",
       "\n",
       "    .dataframe thead th {\n",
       "        text-align: right;\n",
       "    }\n",
       "</style>\n",
       "<table border=\"1\" class=\"dataframe\">\n",
       "  <thead>\n",
       "    <tr style=\"text-align: right;\">\n",
       "      <th>Specie</th>\n",
       "      <th>Date</th>\n",
       "      <th>Country</th>\n",
       "      <th>City</th>\n",
       "      <th>aqi</th>\n",
       "      <th>co</th>\n",
       "      <th>dew</th>\n",
       "      <th>humidity</th>\n",
       "      <th>mepaqi</th>\n",
       "      <th>neph</th>\n",
       "      <th>no2</th>\n",
       "      <th>...</th>\n",
       "      <th>pm10</th>\n",
       "      <th>pm25</th>\n",
       "      <th>precipitation</th>\n",
       "      <th>pressure</th>\n",
       "      <th>so2</th>\n",
       "      <th>temperature</th>\n",
       "      <th>uvi</th>\n",
       "      <th>wd</th>\n",
       "      <th>wind-gust</th>\n",
       "      <th>wind-speed</th>\n",
       "    </tr>\n",
       "  </thead>\n",
       "  <tbody>\n",
       "    <tr>\n",
       "      <th>0</th>\n",
       "      <td>2020-09-28</td>\n",
       "      <td>AE</td>\n",
       "      <td>Abu Dhabi</td>\n",
       "      <td>NaN</td>\n",
       "      <td>17.0</td>\n",
       "      <td>174.0</td>\n",
       "      <td>192.0</td>\n",
       "      <td>NaN</td>\n",
       "      <td>NaN</td>\n",
       "      <td>117.0</td>\n",
       "      <td>...</td>\n",
       "      <td>120.0</td>\n",
       "      <td>24.0</td>\n",
       "      <td>NaN</td>\n",
       "      <td>192.0</td>\n",
       "      <td>116.0</td>\n",
       "      <td>192.0</td>\n",
       "      <td>NaN</td>\n",
       "      <td>NaN</td>\n",
       "      <td>NaN</td>\n",
       "      <td>190.0</td>\n",
       "    </tr>\n",
       "    <tr>\n",
       "      <th>1</th>\n",
       "      <td>2020-09-28</td>\n",
       "      <td>AE</td>\n",
       "      <td>Dubai</td>\n",
       "      <td>NaN</td>\n",
       "      <td>NaN</td>\n",
       "      <td>21.0</td>\n",
       "      <td>24.0</td>\n",
       "      <td>NaN</td>\n",
       "      <td>NaN</td>\n",
       "      <td>NaN</td>\n",
       "      <td>...</td>\n",
       "      <td>NaN</td>\n",
       "      <td>24.0</td>\n",
       "      <td>NaN</td>\n",
       "      <td>24.0</td>\n",
       "      <td>NaN</td>\n",
       "      <td>24.0</td>\n",
       "      <td>NaN</td>\n",
       "      <td>NaN</td>\n",
       "      <td>NaN</td>\n",
       "      <td>24.0</td>\n",
       "    </tr>\n",
       "    <tr>\n",
       "      <th>2</th>\n",
       "      <td>2020-09-28</td>\n",
       "      <td>AF</td>\n",
       "      <td>Kabul</td>\n",
       "      <td>NaN</td>\n",
       "      <td>NaN</td>\n",
       "      <td>24.0</td>\n",
       "      <td>24.0</td>\n",
       "      <td>NaN</td>\n",
       "      <td>NaN</td>\n",
       "      <td>NaN</td>\n",
       "      <td>...</td>\n",
       "      <td>NaN</td>\n",
       "      <td>24.0</td>\n",
       "      <td>NaN</td>\n",
       "      <td>24.0</td>\n",
       "      <td>NaN</td>\n",
       "      <td>24.0</td>\n",
       "      <td>NaN</td>\n",
       "      <td>NaN</td>\n",
       "      <td>NaN</td>\n",
       "      <td>23.0</td>\n",
       "    </tr>\n",
       "    <tr>\n",
       "      <th>3</th>\n",
       "      <td>2020-09-28</td>\n",
       "      <td>AR</td>\n",
       "      <td>Buenos Aires</td>\n",
       "      <td>NaN</td>\n",
       "      <td>52.0</td>\n",
       "      <td>23.0</td>\n",
       "      <td>93.0</td>\n",
       "      <td>NaN</td>\n",
       "      <td>NaN</td>\n",
       "      <td>71.0</td>\n",
       "      <td>...</td>\n",
       "      <td>65.0</td>\n",
       "      <td>24.0</td>\n",
       "      <td>NaN</td>\n",
       "      <td>71.0</td>\n",
       "      <td>5.0</td>\n",
       "      <td>93.0</td>\n",
       "      <td>NaN</td>\n",
       "      <td>14.0</td>\n",
       "      <td>58.0</td>\n",
       "      <td>81.0</td>\n",
       "    </tr>\n",
       "    <tr>\n",
       "      <th>4</th>\n",
       "      <td>2020-09-28</td>\n",
       "      <td>AT</td>\n",
       "      <td>Graz</td>\n",
       "      <td>NaN</td>\n",
       "      <td>49.0</td>\n",
       "      <td>140.0</td>\n",
       "      <td>216.0</td>\n",
       "      <td>NaN</td>\n",
       "      <td>NaN</td>\n",
       "      <td>192.0</td>\n",
       "      <td>...</td>\n",
       "      <td>208.0</td>\n",
       "      <td>NaN</td>\n",
       "      <td>21.0</td>\n",
       "      <td>216.0</td>\n",
       "      <td>14.0</td>\n",
       "      <td>216.0</td>\n",
       "      <td>NaN</td>\n",
       "      <td>NaN</td>\n",
       "      <td>214.0</td>\n",
       "      <td>211.0</td>\n",
       "    </tr>\n",
       "  </tbody>\n",
       "</table>\n",
       "<p>5 rows × 22 columns</p>\n",
       "</div>"
      ],
      "text/plain": [
       "Specie       Date Country          City  aqi    co    dew  humidity  mepaqi  \\\n",
       "0      2020-09-28      AE     Abu Dhabi  NaN  17.0  174.0     192.0     NaN   \n",
       "1      2020-09-28      AE         Dubai  NaN   NaN   21.0      24.0     NaN   \n",
       "2      2020-09-28      AF         Kabul  NaN   NaN   24.0      24.0     NaN   \n",
       "3      2020-09-28      AR  Buenos Aires  NaN  52.0   23.0      93.0     NaN   \n",
       "4      2020-09-28      AT          Graz  NaN  49.0  140.0     216.0     NaN   \n",
       "\n",
       "Specie  neph    no2  ...   pm10  pm25  precipitation  pressure    so2  \\\n",
       "0        NaN  117.0  ...  120.0  24.0            NaN     192.0  116.0   \n",
       "1        NaN    NaN  ...    NaN  24.0            NaN      24.0    NaN   \n",
       "2        NaN    NaN  ...    NaN  24.0            NaN      24.0    NaN   \n",
       "3        NaN   71.0  ...   65.0  24.0            NaN      71.0    5.0   \n",
       "4        NaN  192.0  ...  208.0   NaN           21.0     216.0   14.0   \n",
       "\n",
       "Specie  temperature  uvi    wd  wind-gust  wind-speed  \n",
       "0             192.0  NaN   NaN        NaN       190.0  \n",
       "1              24.0  NaN   NaN        NaN        24.0  \n",
       "2              24.0  NaN   NaN        NaN        23.0  \n",
       "3              93.0  NaN  14.0       58.0        81.0  \n",
       "4             216.0  NaN   NaN      214.0       211.0  \n",
       "\n",
       "[5 rows x 22 columns]"
      ]
     },
     "execution_count": 96,
     "metadata": {},
     "output_type": "execute_result"
    }
   ],
   "source": [
    "print(data_df_2020_Q4.shape)\n",
    "data_df_2020_Q4.head()"
   ]
  },
  {
   "cell_type": "code",
   "execution_count": 97,
   "id": "aa13eae8",
   "metadata": {
    "execution": {
     "iopub.execute_input": "2024-12-30T03:22:49.870306Z",
     "iopub.status.busy": "2024-12-30T03:22:49.869932Z",
     "iopub.status.idle": "2024-12-30T03:22:49.884687Z",
     "shell.execute_reply": "2024-12-30T03:22:49.883567Z"
    },
    "executionInfo": {
     "elapsed": 8,
     "status": "ok",
     "timestamp": 1734445441523,
     "user": {
      "displayName": "Tahmida Majumder",
      "userId": "15415648085337204568"
     },
     "user_tz": -480
    },
    "id": "tWnkp8BJUGVm",
    "outputId": "e1e12277-e930-4b0d-cb8c-0d105953be31",
    "papermill": {
     "duration": 0.067941,
     "end_time": "2024-12-30T03:22:49.886660",
     "exception": false,
     "start_time": "2024-12-30T03:22:49.818719",
     "status": "completed"
    },
    "tags": []
   },
   "outputs": [
    {
     "data": {
      "text/plain": [
       "Specie\n",
       "Date                 0\n",
       "Country              0\n",
       "City                 0\n",
       "aqi              56864\n",
       "co               21639\n",
       "dew              11928\n",
       "humidity           150\n",
       "mepaqi           58264\n",
       "neph             58166\n",
       "no2              10851\n",
       "o3               14731\n",
       "pm1              58017\n",
       "pm10             10882\n",
       "pm25              8929\n",
       "precipitation    52342\n",
       "pressure           356\n",
       "so2              18883\n",
       "temperature        113\n",
       "uvi              57392\n",
       "wd               53565\n",
       "wind-gust        27934\n",
       "wind-speed         935\n",
       "dtype: int64"
      ]
     },
     "execution_count": 97,
     "metadata": {},
     "output_type": "execute_result"
    }
   ],
   "source": [
    "data_df_2020_Q4.isnull().sum()"
   ]
  },
  {
   "cell_type": "code",
   "execution_count": null,
   "id": "5971a842",
   "metadata": {
    "id": "DWaMHJphBLrl",
    "papermill": {
     "duration": 0.049923,
     "end_time": "2024-12-30T03:22:49.986744",
     "exception": false,
     "start_time": "2024-12-30T03:22:49.936821",
     "status": "completed"
    },
    "tags": []
   },
   "outputs": [],
   "source": []
  },
  {
   "cell_type": "markdown",
   "id": "dab2a2f3",
   "metadata": {
    "id": "4vWuznNRUWPs",
    "papermill": {
     "duration": 0.050745,
     "end_time": "2024-12-30T03:22:50.087187",
     "exception": false,
     "start_time": "2024-12-30T03:22:50.036442",
     "status": "completed"
    },
    "tags": []
   },
   "source": [
    "# 2019_Q1"
   ]
  },
  {
   "cell_type": "code",
   "execution_count": 98,
   "id": "77242902",
   "metadata": {
    "execution": {
     "iopub.execute_input": "2024-12-30T03:22:50.190424Z",
     "iopub.status.busy": "2024-12-30T03:22:50.190096Z",
     "iopub.status.idle": "2024-12-30T03:22:50.670579Z",
     "shell.execute_reply": "2024-12-30T03:22:50.669443Z"
    },
    "executionInfo": {
     "elapsed": 653,
     "status": "ok",
     "timestamp": 1734445442169,
     "user": {
      "displayName": "Tahmida Majumder",
      "userId": "15415648085337204568"
     },
     "user_tz": -480
    },
    "id": "lvL5BAUIUWPs",
    "outputId": "69a3a43d-79c3-40f2-8231-d27a30519c31",
    "papermill": {
     "duration": 0.53402,
     "end_time": "2024-12-30T03:22:50.672211",
     "exception": false,
     "start_time": "2024-12-30T03:22:50.138191",
     "status": "completed"
    },
    "tags": []
   },
   "outputs": [
    {
     "name": "stdout",
     "output_type": "stream",
     "text": [
      "(491161, 5)\n"
     ]
    },
    {
     "data": {
      "text/html": [
       "<div>\n",
       "<style scoped>\n",
       "    .dataframe tbody tr th:only-of-type {\n",
       "        vertical-align: middle;\n",
       "    }\n",
       "\n",
       "    .dataframe tbody tr th {\n",
       "        vertical-align: top;\n",
       "    }\n",
       "\n",
       "    .dataframe thead th {\n",
       "        text-align: right;\n",
       "    }\n",
       "</style>\n",
       "<table border=\"1\" class=\"dataframe\">\n",
       "  <thead>\n",
       "    <tr style=\"text-align: right;\">\n",
       "      <th></th>\n",
       "      <th>Date</th>\n",
       "      <th>Country</th>\n",
       "      <th>City</th>\n",
       "      <th>Specie</th>\n",
       "      <th>count</th>\n",
       "    </tr>\n",
       "  </thead>\n",
       "  <tbody>\n",
       "    <tr>\n",
       "      <th>0</th>\n",
       "      <td>3/31/2019</td>\n",
       "      <td>AE</td>\n",
       "      <td>Abu Dhabi</td>\n",
       "      <td>humidity</td>\n",
       "      <td>23</td>\n",
       "    </tr>\n",
       "    <tr>\n",
       "      <th>1</th>\n",
       "      <td>3/31/2019</td>\n",
       "      <td>AE</td>\n",
       "      <td>Abu Dhabi</td>\n",
       "      <td>wind-speed</td>\n",
       "      <td>23</td>\n",
       "    </tr>\n",
       "    <tr>\n",
       "      <th>2</th>\n",
       "      <td>3/31/2019</td>\n",
       "      <td>AE</td>\n",
       "      <td>Abu Dhabi</td>\n",
       "      <td>dew</td>\n",
       "      <td>23</td>\n",
       "    </tr>\n",
       "    <tr>\n",
       "      <th>3</th>\n",
       "      <td>3/31/2019</td>\n",
       "      <td>AE</td>\n",
       "      <td>Abu Dhabi</td>\n",
       "      <td>pm25</td>\n",
       "      <td>23</td>\n",
       "    </tr>\n",
       "    <tr>\n",
       "      <th>4</th>\n",
       "      <td>3/31/2019</td>\n",
       "      <td>AE</td>\n",
       "      <td>Abu Dhabi</td>\n",
       "      <td>pressure</td>\n",
       "      <td>23</td>\n",
       "    </tr>\n",
       "    <tr>\n",
       "      <th>5</th>\n",
       "      <td>3/31/2019</td>\n",
       "      <td>AE</td>\n",
       "      <td>Abu Dhabi</td>\n",
       "      <td>temperature</td>\n",
       "      <td>23</td>\n",
       "    </tr>\n",
       "    <tr>\n",
       "      <th>6</th>\n",
       "      <td>3/31/2019</td>\n",
       "      <td>AE</td>\n",
       "      <td>Dubai</td>\n",
       "      <td>wind-speed</td>\n",
       "      <td>23</td>\n",
       "    </tr>\n",
       "    <tr>\n",
       "      <th>7</th>\n",
       "      <td>3/31/2019</td>\n",
       "      <td>AE</td>\n",
       "      <td>Dubai</td>\n",
       "      <td>o3</td>\n",
       "      <td>14</td>\n",
       "    </tr>\n",
       "    <tr>\n",
       "      <th>8</th>\n",
       "      <td>3/31/2019</td>\n",
       "      <td>AE</td>\n",
       "      <td>Dubai</td>\n",
       "      <td>pm25</td>\n",
       "      <td>23</td>\n",
       "    </tr>\n",
       "    <tr>\n",
       "      <th>9</th>\n",
       "      <td>3/31/2019</td>\n",
       "      <td>AE</td>\n",
       "      <td>Dubai</td>\n",
       "      <td>dew</td>\n",
       "      <td>23</td>\n",
       "    </tr>\n",
       "  </tbody>\n",
       "</table>\n",
       "</div>"
      ],
      "text/plain": [
       "        Date Country       City       Specie  count\n",
       "0  3/31/2019      AE  Abu Dhabi     humidity     23\n",
       "1  3/31/2019      AE  Abu Dhabi   wind-speed     23\n",
       "2  3/31/2019      AE  Abu Dhabi          dew     23\n",
       "3  3/31/2019      AE  Abu Dhabi         pm25     23\n",
       "4  3/31/2019      AE  Abu Dhabi     pressure     23\n",
       "5  3/31/2019      AE  Abu Dhabi  temperature     23\n",
       "6  3/31/2019      AE      Dubai   wind-speed     23\n",
       "7  3/31/2019      AE      Dubai           o3     14\n",
       "8  3/31/2019      AE      Dubai         pm25     23\n",
       "9  3/31/2019      AE      Dubai          dew     23"
      ]
     },
     "execution_count": 98,
     "metadata": {},
     "output_type": "execute_result"
    }
   ],
   "source": [
    "# Loading the data\n",
    "raw_data_2019_Q1 = pd.read_csv(r\"/kaggle/input/data-for-combine/airqualitydata-2019Q1.csv\")\n",
    "\n",
    "# print the shape\n",
    "print(raw_data_2019_Q1.shape)\n",
    "\n",
    "#runs the first 5 rows\n",
    "raw_data_2019_Q1.head(10)"
   ]
  },
  {
   "cell_type": "code",
   "execution_count": 99,
   "id": "ae5905dc",
   "metadata": {
    "execution": {
     "iopub.execute_input": "2024-12-30T03:22:50.776187Z",
     "iopub.status.busy": "2024-12-30T03:22:50.775841Z",
     "iopub.status.idle": "2024-12-30T03:22:50.830826Z",
     "shell.execute_reply": "2024-12-30T03:22:50.829780Z"
    },
    "id": "dGfJZYbrUWPs",
    "papermill": {
     "duration": 0.108101,
     "end_time": "2024-12-30T03:22:50.832634",
     "exception": false,
     "start_time": "2024-12-30T03:22:50.724533",
     "status": "completed"
    },
    "tags": []
   },
   "outputs": [],
   "source": [
    "# Convert 'Date' to datetime\n",
    "raw_data_2019_Q1['Date'] = pd.to_datetime(raw_data_2019_Q1['Date'])"
   ]
  },
  {
   "cell_type": "code",
   "execution_count": 100,
   "id": "1f01231d",
   "metadata": {
    "execution": {
     "iopub.execute_input": "2024-12-30T03:22:50.934613Z",
     "iopub.status.busy": "2024-12-30T03:22:50.934221Z",
     "iopub.status.idle": "2024-12-30T03:22:50.939966Z",
     "shell.execute_reply": "2024-12-30T03:22:50.939087Z"
    },
    "executionInfo": {
     "elapsed": 7,
     "status": "ok",
     "timestamp": 1734445442169,
     "user": {
      "displayName": "Tahmida Majumder",
      "userId": "15415648085337204568"
     },
     "user_tz": -480
    },
    "id": "5f1QMtHrUWPs",
    "outputId": "a5ac0f2b-6aa8-4c51-e9b0-4772808281c8",
    "papermill": {
     "duration": 0.05833,
     "end_time": "2024-12-30T03:22:50.941305",
     "exception": false,
     "start_time": "2024-12-30T03:22:50.882975",
     "status": "completed"
    },
    "tags": []
   },
   "outputs": [
    {
     "data": {
      "text/plain": [
       "(491161, 5)"
      ]
     },
     "execution_count": 100,
     "metadata": {},
     "output_type": "execute_result"
    }
   ],
   "source": [
    "raw_data_2019_Q1.shape"
   ]
  },
  {
   "cell_type": "code",
   "execution_count": 101,
   "id": "761bf4e1",
   "metadata": {
    "execution": {
     "iopub.execute_input": "2024-12-30T03:22:51.043876Z",
     "iopub.status.busy": "2024-12-30T03:22:51.043424Z",
     "iopub.status.idle": "2024-12-30T03:22:51.347413Z",
     "shell.execute_reply": "2024-12-30T03:22:51.346249Z"
    },
    "id": "cBV6g4USUWPs",
    "papermill": {
     "duration": 0.357391,
     "end_time": "2024-12-30T03:22:51.349445",
     "exception": false,
     "start_time": "2024-12-30T03:22:50.992054",
     "status": "completed"
    },
    "tags": []
   },
   "outputs": [],
   "source": [
    "# Pivot the data\n",
    "data_df_2019_Q1 = raw_data_2019_Q1.pivot_table(\n",
    "    index=['Date', 'Country', 'City'],  # Grouping columns\n",
    "    columns='Specie',                  # Unique values become columns\n",
    "    values='count',                   # Values to aggregate\n",
    "    aggfunc='mean'                     # Aggregation function\n",
    ").reset_index()\n"
   ]
  },
  {
   "cell_type": "code",
   "execution_count": 102,
   "id": "6f4d4479",
   "metadata": {
    "execution": {
     "iopub.execute_input": "2024-12-30T03:22:51.452306Z",
     "iopub.status.busy": "2024-12-30T03:22:51.451941Z",
     "iopub.status.idle": "2024-12-30T03:22:51.477588Z",
     "shell.execute_reply": "2024-12-30T03:22:51.476520Z"
    },
    "executionInfo": {
     "elapsed": 12,
     "status": "ok",
     "timestamp": 1734445442579,
     "user": {
      "displayName": "Tahmida Majumder",
      "userId": "15415648085337204568"
     },
     "user_tz": -480
    },
    "id": "g_kaIAN3UWPt",
    "outputId": "4dd78eaf-5e39-4ffc-c7a6-97139ca90ca7",
    "papermill": {
     "duration": 0.078684,
     "end_time": "2024-12-30T03:22:51.479210",
     "exception": false,
     "start_time": "2024-12-30T03:22:51.400526",
     "status": "completed"
    },
    "tags": []
   },
   "outputs": [
    {
     "name": "stdout",
     "output_type": "stream",
     "text": [
      "(49006, 22)\n"
     ]
    },
    {
     "data": {
      "text/html": [
       "<div>\n",
       "<style scoped>\n",
       "    .dataframe tbody tr th:only-of-type {\n",
       "        vertical-align: middle;\n",
       "    }\n",
       "\n",
       "    .dataframe tbody tr th {\n",
       "        vertical-align: top;\n",
       "    }\n",
       "\n",
       "    .dataframe thead th {\n",
       "        text-align: right;\n",
       "    }\n",
       "</style>\n",
       "<table border=\"1\" class=\"dataframe\">\n",
       "  <thead>\n",
       "    <tr style=\"text-align: right;\">\n",
       "      <th>Specie</th>\n",
       "      <th>Date</th>\n",
       "      <th>Country</th>\n",
       "      <th>City</th>\n",
       "      <th>aqi</th>\n",
       "      <th>co</th>\n",
       "      <th>dew</th>\n",
       "      <th>humidity</th>\n",
       "      <th>mepaqi</th>\n",
       "      <th>no2</th>\n",
       "      <th>o3</th>\n",
       "      <th>...</th>\n",
       "      <th>pm25</th>\n",
       "      <th>pol</th>\n",
       "      <th>precipitation</th>\n",
       "      <th>pressure</th>\n",
       "      <th>so2</th>\n",
       "      <th>temperature</th>\n",
       "      <th>uvi</th>\n",
       "      <th>wd</th>\n",
       "      <th>wind-gust</th>\n",
       "      <th>wind-speed</th>\n",
       "    </tr>\n",
       "  </thead>\n",
       "  <tbody>\n",
       "    <tr>\n",
       "      <th>0</th>\n",
       "      <td>2018-12-31</td>\n",
       "      <td>AE</td>\n",
       "      <td>Abu Dhabi</td>\n",
       "      <td>NaN</td>\n",
       "      <td>NaN</td>\n",
       "      <td>187.0</td>\n",
       "      <td>192.0</td>\n",
       "      <td>NaN</td>\n",
       "      <td>109.0</td>\n",
       "      <td>81.0</td>\n",
       "      <td>...</td>\n",
       "      <td>24.0</td>\n",
       "      <td>NaN</td>\n",
       "      <td>NaN</td>\n",
       "      <td>192.0</td>\n",
       "      <td>109.0</td>\n",
       "      <td>192.0</td>\n",
       "      <td>NaN</td>\n",
       "      <td>NaN</td>\n",
       "      <td>NaN</td>\n",
       "      <td>177.0</td>\n",
       "    </tr>\n",
       "    <tr>\n",
       "      <th>1</th>\n",
       "      <td>2018-12-31</td>\n",
       "      <td>AR</td>\n",
       "      <td>Buenos Aires</td>\n",
       "      <td>NaN</td>\n",
       "      <td>NaN</td>\n",
       "      <td>23.0</td>\n",
       "      <td>33.0</td>\n",
       "      <td>NaN</td>\n",
       "      <td>NaN</td>\n",
       "      <td>NaN</td>\n",
       "      <td>...</td>\n",
       "      <td>NaN</td>\n",
       "      <td>NaN</td>\n",
       "      <td>NaN</td>\n",
       "      <td>33.0</td>\n",
       "      <td>NaN</td>\n",
       "      <td>33.0</td>\n",
       "      <td>NaN</td>\n",
       "      <td>12.0</td>\n",
       "      <td>24.0</td>\n",
       "      <td>24.0</td>\n",
       "    </tr>\n",
       "    <tr>\n",
       "      <th>2</th>\n",
       "      <td>2018-12-31</td>\n",
       "      <td>AT</td>\n",
       "      <td>Graz</td>\n",
       "      <td>NaN</td>\n",
       "      <td>62.0</td>\n",
       "      <td>NaN</td>\n",
       "      <td>216.0</td>\n",
       "      <td>NaN</td>\n",
       "      <td>189.0</td>\n",
       "      <td>NaN</td>\n",
       "      <td>...</td>\n",
       "      <td>NaN</td>\n",
       "      <td>NaN</td>\n",
       "      <td>NaN</td>\n",
       "      <td>216.0</td>\n",
       "      <td>49.0</td>\n",
       "      <td>216.0</td>\n",
       "      <td>NaN</td>\n",
       "      <td>NaN</td>\n",
       "      <td>23.0</td>\n",
       "      <td>43.0</td>\n",
       "    </tr>\n",
       "    <tr>\n",
       "      <th>3</th>\n",
       "      <td>2018-12-31</td>\n",
       "      <td>AT</td>\n",
       "      <td>Innsbruck</td>\n",
       "      <td>NaN</td>\n",
       "      <td>19.0</td>\n",
       "      <td>4.0</td>\n",
       "      <td>96.0</td>\n",
       "      <td>NaN</td>\n",
       "      <td>84.0</td>\n",
       "      <td>NaN</td>\n",
       "      <td>...</td>\n",
       "      <td>NaN</td>\n",
       "      <td>NaN</td>\n",
       "      <td>NaN</td>\n",
       "      <td>96.0</td>\n",
       "      <td>17.0</td>\n",
       "      <td>96.0</td>\n",
       "      <td>NaN</td>\n",
       "      <td>NaN</td>\n",
       "      <td>96.0</td>\n",
       "      <td>92.0</td>\n",
       "    </tr>\n",
       "    <tr>\n",
       "      <th>4</th>\n",
       "      <td>2018-12-31</td>\n",
       "      <td>AT</td>\n",
       "      <td>Linz</td>\n",
       "      <td>NaN</td>\n",
       "      <td>54.0</td>\n",
       "      <td>19.0</td>\n",
       "      <td>168.0</td>\n",
       "      <td>NaN</td>\n",
       "      <td>160.0</td>\n",
       "      <td>NaN</td>\n",
       "      <td>...</td>\n",
       "      <td>135.0</td>\n",
       "      <td>NaN</td>\n",
       "      <td>NaN</td>\n",
       "      <td>168.0</td>\n",
       "      <td>33.0</td>\n",
       "      <td>168.0</td>\n",
       "      <td>NaN</td>\n",
       "      <td>NaN</td>\n",
       "      <td>168.0</td>\n",
       "      <td>168.0</td>\n",
       "    </tr>\n",
       "  </tbody>\n",
       "</table>\n",
       "<p>5 rows × 22 columns</p>\n",
       "</div>"
      ],
      "text/plain": [
       "Specie       Date Country          City  aqi    co    dew  humidity  mepaqi  \\\n",
       "0      2018-12-31      AE     Abu Dhabi  NaN   NaN  187.0     192.0     NaN   \n",
       "1      2018-12-31      AR  Buenos Aires  NaN   NaN   23.0      33.0     NaN   \n",
       "2      2018-12-31      AT          Graz  NaN  62.0    NaN     216.0     NaN   \n",
       "3      2018-12-31      AT     Innsbruck  NaN  19.0    4.0      96.0     NaN   \n",
       "4      2018-12-31      AT          Linz  NaN  54.0   19.0     168.0     NaN   \n",
       "\n",
       "Specie    no2    o3  ...   pm25  pol  precipitation  pressure    so2  \\\n",
       "0       109.0  81.0  ...   24.0  NaN            NaN     192.0  109.0   \n",
       "1         NaN   NaN  ...    NaN  NaN            NaN      33.0    NaN   \n",
       "2       189.0   NaN  ...    NaN  NaN            NaN     216.0   49.0   \n",
       "3        84.0   NaN  ...    NaN  NaN            NaN      96.0   17.0   \n",
       "4       160.0   NaN  ...  135.0  NaN            NaN     168.0   33.0   \n",
       "\n",
       "Specie  temperature  uvi    wd  wind-gust  wind-speed  \n",
       "0             192.0  NaN   NaN        NaN       177.0  \n",
       "1              33.0  NaN  12.0       24.0        24.0  \n",
       "2             216.0  NaN   NaN       23.0        43.0  \n",
       "3              96.0  NaN   NaN       96.0        92.0  \n",
       "4             168.0  NaN   NaN      168.0       168.0  \n",
       "\n",
       "[5 rows x 22 columns]"
      ]
     },
     "execution_count": 102,
     "metadata": {},
     "output_type": "execute_result"
    }
   ],
   "source": [
    "print(data_df_2019_Q1.shape)\n",
    "data_df_2019_Q1.head()"
   ]
  },
  {
   "cell_type": "code",
   "execution_count": 103,
   "id": "7e8812ea",
   "metadata": {
    "execution": {
     "iopub.execute_input": "2024-12-30T03:22:51.584467Z",
     "iopub.status.busy": "2024-12-30T03:22:51.584087Z",
     "iopub.status.idle": "2024-12-30T03:22:51.597724Z",
     "shell.execute_reply": "2024-12-30T03:22:51.596635Z"
    },
    "executionInfo": {
     "elapsed": 9,
     "status": "ok",
     "timestamp": 1734445442579,
     "user": {
      "displayName": "Tahmida Majumder",
      "userId": "15415648085337204568"
     },
     "user_tz": -480
    },
    "id": "XgyHV654UWPt",
    "outputId": "e107e617-5ebc-495b-ac82-59a851117406",
    "papermill": {
     "duration": 0.069174,
     "end_time": "2024-12-30T03:22:51.599686",
     "exception": false,
     "start_time": "2024-12-30T03:22:51.530512",
     "status": "completed"
    },
    "tags": []
   },
   "outputs": [
    {
     "data": {
      "text/plain": [
       "Specie\n",
       "Date                 0\n",
       "Country              0\n",
       "City                 0\n",
       "aqi              47701\n",
       "co               17145\n",
       "dew              21593\n",
       "humidity           293\n",
       "mepaqi           48915\n",
       "no2               7765\n",
       "o3                9237\n",
       "pm1              48915\n",
       "pm10              9686\n",
       "pm25              7771\n",
       "pol              48812\n",
       "precipitation    45579\n",
       "pressure           526\n",
       "so2              13818\n",
       "temperature        280\n",
       "uvi              48084\n",
       "wd               43626\n",
       "wind-gust        16846\n",
       "wind-speed        3361\n",
       "dtype: int64"
      ]
     },
     "execution_count": 103,
     "metadata": {},
     "output_type": "execute_result"
    }
   ],
   "source": [
    "data_df_2019_Q1.isnull().sum()"
   ]
  },
  {
   "cell_type": "code",
   "execution_count": null,
   "id": "3e6f7b62",
   "metadata": {
    "id": "LmE5EK_BBLtg",
    "papermill": {
     "duration": 0.051415,
     "end_time": "2024-12-30T03:22:51.701968",
     "exception": false,
     "start_time": "2024-12-30T03:22:51.650553",
     "status": "completed"
    },
    "tags": []
   },
   "outputs": [],
   "source": []
  },
  {
   "cell_type": "markdown",
   "id": "53c438a8",
   "metadata": {
    "id": "Fa0XA693UvmX",
    "papermill": {
     "duration": 0.050522,
     "end_time": "2024-12-30T03:22:51.803168",
     "exception": false,
     "start_time": "2024-12-30T03:22:51.752646",
     "status": "completed"
    },
    "tags": []
   },
   "source": [
    "# 2019_Q2"
   ]
  },
  {
   "cell_type": "code",
   "execution_count": 104,
   "id": "418edee1",
   "metadata": {
    "execution": {
     "iopub.execute_input": "2024-12-30T03:22:51.909420Z",
     "iopub.status.busy": "2024-12-30T03:22:51.909063Z",
     "iopub.status.idle": "2024-12-30T03:22:52.415724Z",
     "shell.execute_reply": "2024-12-30T03:22:52.414419Z"
    },
    "executionInfo": {
     "elapsed": 1504,
     "status": "ok",
     "timestamp": 1734445444075,
     "user": {
      "displayName": "Tahmida Majumder",
      "userId": "15415648085337204568"
     },
     "user_tz": -480
    },
    "id": "9_-gBvDPUvmX",
    "outputId": "321c62f3-8e0c-4b0c-bc66-54b1db61eca7",
    "papermill": {
     "duration": 0.561237,
     "end_time": "2024-12-30T03:22:52.417685",
     "exception": false,
     "start_time": "2024-12-30T03:22:51.856448",
     "status": "completed"
    },
    "tags": []
   },
   "outputs": [
    {
     "name": "stdout",
     "output_type": "stream",
     "text": [
      "(522904, 5)\n"
     ]
    },
    {
     "data": {
      "text/html": [
       "<div>\n",
       "<style scoped>\n",
       "    .dataframe tbody tr th:only-of-type {\n",
       "        vertical-align: middle;\n",
       "    }\n",
       "\n",
       "    .dataframe tbody tr th {\n",
       "        vertical-align: top;\n",
       "    }\n",
       "\n",
       "    .dataframe thead th {\n",
       "        text-align: right;\n",
       "    }\n",
       "</style>\n",
       "<table border=\"1\" class=\"dataframe\">\n",
       "  <thead>\n",
       "    <tr style=\"text-align: right;\">\n",
       "      <th></th>\n",
       "      <th>Date</th>\n",
       "      <th>Country</th>\n",
       "      <th>City</th>\n",
       "      <th>Specie</th>\n",
       "      <th>count</th>\n",
       "    </tr>\n",
       "  </thead>\n",
       "  <tbody>\n",
       "    <tr>\n",
       "      <th>0</th>\n",
       "      <td>6/30/2019</td>\n",
       "      <td>MO</td>\n",
       "      <td>Macau</td>\n",
       "      <td>o3</td>\n",
       "      <td>108</td>\n",
       "    </tr>\n",
       "    <tr>\n",
       "      <th>1</th>\n",
       "      <td>6/30/2019</td>\n",
       "      <td>MO</td>\n",
       "      <td>Macau</td>\n",
       "      <td>so2</td>\n",
       "      <td>20</td>\n",
       "    </tr>\n",
       "    <tr>\n",
       "      <th>2</th>\n",
       "      <td>6/30/2019</td>\n",
       "      <td>MO</td>\n",
       "      <td>Macau</td>\n",
       "      <td>pm25</td>\n",
       "      <td>132</td>\n",
       "    </tr>\n",
       "    <tr>\n",
       "      <th>3</th>\n",
       "      <td>6/30/2019</td>\n",
       "      <td>MO</td>\n",
       "      <td>Macau</td>\n",
       "      <td>no2</td>\n",
       "      <td>131</td>\n",
       "    </tr>\n",
       "    <tr>\n",
       "      <th>4</th>\n",
       "      <td>6/30/2019</td>\n",
       "      <td>MO</td>\n",
       "      <td>Macau</td>\n",
       "      <td>pressure</td>\n",
       "      <td>144</td>\n",
       "    </tr>\n",
       "    <tr>\n",
       "      <th>5</th>\n",
       "      <td>6/30/2019</td>\n",
       "      <td>MO</td>\n",
       "      <td>Macau</td>\n",
       "      <td>co</td>\n",
       "      <td>64</td>\n",
       "    </tr>\n",
       "    <tr>\n",
       "      <th>6</th>\n",
       "      <td>6/30/2019</td>\n",
       "      <td>MO</td>\n",
       "      <td>Macau</td>\n",
       "      <td>pm10</td>\n",
       "      <td>132</td>\n",
       "    </tr>\n",
       "    <tr>\n",
       "      <th>7</th>\n",
       "      <td>6/30/2019</td>\n",
       "      <td>MO</td>\n",
       "      <td>Macau</td>\n",
       "      <td>humidity</td>\n",
       "      <td>144</td>\n",
       "    </tr>\n",
       "    <tr>\n",
       "      <th>8</th>\n",
       "      <td>6/30/2019</td>\n",
       "      <td>MO</td>\n",
       "      <td>Macau</td>\n",
       "      <td>uvi</td>\n",
       "      <td>66</td>\n",
       "    </tr>\n",
       "    <tr>\n",
       "      <th>9</th>\n",
       "      <td>6/30/2019</td>\n",
       "      <td>MO</td>\n",
       "      <td>Macau</td>\n",
       "      <td>dew</td>\n",
       "      <td>144</td>\n",
       "    </tr>\n",
       "  </tbody>\n",
       "</table>\n",
       "</div>"
      ],
      "text/plain": [
       "        Date Country   City    Specie  count\n",
       "0  6/30/2019      MO  Macau        o3    108\n",
       "1  6/30/2019      MO  Macau       so2     20\n",
       "2  6/30/2019      MO  Macau      pm25    132\n",
       "3  6/30/2019      MO  Macau       no2    131\n",
       "4  6/30/2019      MO  Macau  pressure    144\n",
       "5  6/30/2019      MO  Macau        co     64\n",
       "6  6/30/2019      MO  Macau      pm10    132\n",
       "7  6/30/2019      MO  Macau  humidity    144\n",
       "8  6/30/2019      MO  Macau       uvi     66\n",
       "9  6/30/2019      MO  Macau       dew    144"
      ]
     },
     "execution_count": 104,
     "metadata": {},
     "output_type": "execute_result"
    }
   ],
   "source": [
    "# Loading the data\n",
    "raw_data_2019_Q2 = pd.read_csv(r\"/kaggle/input/data-for-combine/airqualitydata-2019Q2.csv\")\n",
    "\n",
    "# print the shape\n",
    "print(raw_data_2019_Q2.shape)\n",
    "\n",
    "#runs the first 5 rows\n",
    "raw_data_2019_Q2.head(10)"
   ]
  },
  {
   "cell_type": "code",
   "execution_count": 105,
   "id": "af73d824",
   "metadata": {
    "execution": {
     "iopub.execute_input": "2024-12-30T03:22:52.526313Z",
     "iopub.status.busy": "2024-12-30T03:22:52.525918Z",
     "iopub.status.idle": "2024-12-30T03:22:52.584346Z",
     "shell.execute_reply": "2024-12-30T03:22:52.583129Z"
    },
    "id": "ISYacVaHUvmY",
    "papermill": {
     "duration": 0.115254,
     "end_time": "2024-12-30T03:22:52.586344",
     "exception": false,
     "start_time": "2024-12-30T03:22:52.471090",
     "status": "completed"
    },
    "tags": []
   },
   "outputs": [],
   "source": [
    "# Convert 'Date' to datetime\n",
    "raw_data_2019_Q2['Date'] = pd.to_datetime(raw_data_2019_Q2['Date'])"
   ]
  },
  {
   "cell_type": "code",
   "execution_count": 106,
   "id": "67498300",
   "metadata": {
    "execution": {
     "iopub.execute_input": "2024-12-30T03:22:52.690533Z",
     "iopub.status.busy": "2024-12-30T03:22:52.690164Z",
     "iopub.status.idle": "2024-12-30T03:22:52.695812Z",
     "shell.execute_reply": "2024-12-30T03:22:52.694780Z"
    },
    "executionInfo": {
     "elapsed": 10,
     "status": "ok",
     "timestamp": 1734445444076,
     "user": {
      "displayName": "Tahmida Majumder",
      "userId": "15415648085337204568"
     },
     "user_tz": -480
    },
    "id": "F79iK7hQUvmY",
    "outputId": "f9d409e3-9207-42e3-e810-248341fb99f8",
    "papermill": {
     "duration": 0.059684,
     "end_time": "2024-12-30T03:22:52.697300",
     "exception": false,
     "start_time": "2024-12-30T03:22:52.637616",
     "status": "completed"
    },
    "tags": []
   },
   "outputs": [
    {
     "data": {
      "text/plain": [
       "(522904, 5)"
      ]
     },
     "execution_count": 106,
     "metadata": {},
     "output_type": "execute_result"
    }
   ],
   "source": [
    "raw_data_2019_Q2.shape"
   ]
  },
  {
   "cell_type": "code",
   "execution_count": 107,
   "id": "abc17b30",
   "metadata": {
    "execution": {
     "iopub.execute_input": "2024-12-30T03:22:52.801017Z",
     "iopub.status.busy": "2024-12-30T03:22:52.800646Z",
     "iopub.status.idle": "2024-12-30T03:22:53.133726Z",
     "shell.execute_reply": "2024-12-30T03:22:53.132597Z"
    },
    "id": "uZSqb0FoUvmY",
    "papermill": {
     "duration": 0.38688,
     "end_time": "2024-12-30T03:22:53.135701",
     "exception": false,
     "start_time": "2024-12-30T03:22:52.748821",
     "status": "completed"
    },
    "tags": []
   },
   "outputs": [],
   "source": [
    "# Pivot the data\n",
    "data_df_2019_Q2 = raw_data_2019_Q2.pivot_table(\n",
    "    index=['Date', 'Country', 'City'],  # Grouping columns\n",
    "    columns='Specie',                  # Unique values become columns\n",
    "    values='count',                   # Values to aggregate\n",
    "    aggfunc='mean'                     # Aggregation function\n",
    ").reset_index()\n"
   ]
  },
  {
   "cell_type": "code",
   "execution_count": 108,
   "id": "9aa38f3a",
   "metadata": {
    "execution": {
     "iopub.execute_input": "2024-12-30T03:22:53.240092Z",
     "iopub.status.busy": "2024-12-30T03:22:53.239740Z",
     "iopub.status.idle": "2024-12-30T03:22:53.265648Z",
     "shell.execute_reply": "2024-12-30T03:22:53.264767Z"
    },
    "executionInfo": {
     "elapsed": 11,
     "status": "ok",
     "timestamp": 1734445444552,
     "user": {
      "displayName": "Tahmida Majumder",
      "userId": "15415648085337204568"
     },
     "user_tz": -480
    },
    "id": "EKadAQLeUvmY",
    "outputId": "ab665ff2-72c9-4b7a-fa14-e3611219d034",
    "papermill": {
     "duration": 0.079415,
     "end_time": "2024-12-30T03:22:53.267198",
     "exception": false,
     "start_time": "2024-12-30T03:22:53.187783",
     "status": "completed"
    },
    "tags": []
   },
   "outputs": [
    {
     "name": "stdout",
     "output_type": "stream",
     "text": [
      "(51421, 22)\n"
     ]
    },
    {
     "data": {
      "text/html": [
       "<div>\n",
       "<style scoped>\n",
       "    .dataframe tbody tr th:only-of-type {\n",
       "        vertical-align: middle;\n",
       "    }\n",
       "\n",
       "    .dataframe tbody tr th {\n",
       "        vertical-align: top;\n",
       "    }\n",
       "\n",
       "    .dataframe thead th {\n",
       "        text-align: right;\n",
       "    }\n",
       "</style>\n",
       "<table border=\"1\" class=\"dataframe\">\n",
       "  <thead>\n",
       "    <tr style=\"text-align: right;\">\n",
       "      <th>Specie</th>\n",
       "      <th>Date</th>\n",
       "      <th>Country</th>\n",
       "      <th>City</th>\n",
       "      <th>aqi</th>\n",
       "      <th>co</th>\n",
       "      <th>dew</th>\n",
       "      <th>humidity</th>\n",
       "      <th>mepaqi</th>\n",
       "      <th>no2</th>\n",
       "      <th>o3</th>\n",
       "      <th>...</th>\n",
       "      <th>pm25</th>\n",
       "      <th>pol</th>\n",
       "      <th>precipitation</th>\n",
       "      <th>pressure</th>\n",
       "      <th>so2</th>\n",
       "      <th>temperature</th>\n",
       "      <th>uvi</th>\n",
       "      <th>wd</th>\n",
       "      <th>wind-gust</th>\n",
       "      <th>wind-speed</th>\n",
       "    </tr>\n",
       "  </thead>\n",
       "  <tbody>\n",
       "    <tr>\n",
       "      <th>0</th>\n",
       "      <td>2019-04-01</td>\n",
       "      <td>AE</td>\n",
       "      <td>Abu Dhabi</td>\n",
       "      <td>NaN</td>\n",
       "      <td>NaN</td>\n",
       "      <td>24.0</td>\n",
       "      <td>24.0</td>\n",
       "      <td>NaN</td>\n",
       "      <td>NaN</td>\n",
       "      <td>NaN</td>\n",
       "      <td>...</td>\n",
       "      <td>24.0</td>\n",
       "      <td>NaN</td>\n",
       "      <td>NaN</td>\n",
       "      <td>24.0</td>\n",
       "      <td>NaN</td>\n",
       "      <td>24.0</td>\n",
       "      <td>NaN</td>\n",
       "      <td>NaN</td>\n",
       "      <td>NaN</td>\n",
       "      <td>24.0</td>\n",
       "    </tr>\n",
       "    <tr>\n",
       "      <th>1</th>\n",
       "      <td>2019-04-01</td>\n",
       "      <td>AE</td>\n",
       "      <td>Dubai</td>\n",
       "      <td>NaN</td>\n",
       "      <td>NaN</td>\n",
       "      <td>24.0</td>\n",
       "      <td>24.0</td>\n",
       "      <td>NaN</td>\n",
       "      <td>NaN</td>\n",
       "      <td>24.0</td>\n",
       "      <td>...</td>\n",
       "      <td>24.0</td>\n",
       "      <td>NaN</td>\n",
       "      <td>NaN</td>\n",
       "      <td>24.0</td>\n",
       "      <td>NaN</td>\n",
       "      <td>24.0</td>\n",
       "      <td>NaN</td>\n",
       "      <td>NaN</td>\n",
       "      <td>NaN</td>\n",
       "      <td>24.0</td>\n",
       "    </tr>\n",
       "    <tr>\n",
       "      <th>2</th>\n",
       "      <td>2019-04-01</td>\n",
       "      <td>AR</td>\n",
       "      <td>Buenos Aires</td>\n",
       "      <td>NaN</td>\n",
       "      <td>NaN</td>\n",
       "      <td>52.0</td>\n",
       "      <td>120.0</td>\n",
       "      <td>NaN</td>\n",
       "      <td>NaN</td>\n",
       "      <td>24.0</td>\n",
       "      <td>...</td>\n",
       "      <td>48.0</td>\n",
       "      <td>NaN</td>\n",
       "      <td>NaN</td>\n",
       "      <td>120.0</td>\n",
       "      <td>19.0</td>\n",
       "      <td>120.0</td>\n",
       "      <td>NaN</td>\n",
       "      <td>18.0</td>\n",
       "      <td>120.0</td>\n",
       "      <td>120.0</td>\n",
       "    </tr>\n",
       "    <tr>\n",
       "      <th>3</th>\n",
       "      <td>2019-04-01</td>\n",
       "      <td>AT</td>\n",
       "      <td>Graz</td>\n",
       "      <td>NaN</td>\n",
       "      <td>56.0</td>\n",
       "      <td>NaN</td>\n",
       "      <td>216.0</td>\n",
       "      <td>NaN</td>\n",
       "      <td>191.0</td>\n",
       "      <td>NaN</td>\n",
       "      <td>...</td>\n",
       "      <td>NaN</td>\n",
       "      <td>NaN</td>\n",
       "      <td>NaN</td>\n",
       "      <td>216.0</td>\n",
       "      <td>86.0</td>\n",
       "      <td>216.0</td>\n",
       "      <td>NaN</td>\n",
       "      <td>NaN</td>\n",
       "      <td>135.0</td>\n",
       "      <td>118.0</td>\n",
       "    </tr>\n",
       "    <tr>\n",
       "      <th>4</th>\n",
       "      <td>2019-04-01</td>\n",
       "      <td>AT</td>\n",
       "      <td>Innsbruck</td>\n",
       "      <td>NaN</td>\n",
       "      <td>16.0</td>\n",
       "      <td>48.0</td>\n",
       "      <td>96.0</td>\n",
       "      <td>NaN</td>\n",
       "      <td>82.0</td>\n",
       "      <td>NaN</td>\n",
       "      <td>...</td>\n",
       "      <td>NaN</td>\n",
       "      <td>NaN</td>\n",
       "      <td>NaN</td>\n",
       "      <td>96.0</td>\n",
       "      <td>11.0</td>\n",
       "      <td>96.0</td>\n",
       "      <td>NaN</td>\n",
       "      <td>NaN</td>\n",
       "      <td>96.0</td>\n",
       "      <td>66.0</td>\n",
       "    </tr>\n",
       "  </tbody>\n",
       "</table>\n",
       "<p>5 rows × 22 columns</p>\n",
       "</div>"
      ],
      "text/plain": [
       "Specie       Date Country          City  aqi    co   dew  humidity  mepaqi  \\\n",
       "0      2019-04-01      AE     Abu Dhabi  NaN   NaN  24.0      24.0     NaN   \n",
       "1      2019-04-01      AE         Dubai  NaN   NaN  24.0      24.0     NaN   \n",
       "2      2019-04-01      AR  Buenos Aires  NaN   NaN  52.0     120.0     NaN   \n",
       "3      2019-04-01      AT          Graz  NaN  56.0   NaN     216.0     NaN   \n",
       "4      2019-04-01      AT     Innsbruck  NaN  16.0  48.0      96.0     NaN   \n",
       "\n",
       "Specie    no2    o3  ...  pm25  pol  precipitation  pressure   so2  \\\n",
       "0         NaN   NaN  ...  24.0  NaN            NaN      24.0   NaN   \n",
       "1         NaN  24.0  ...  24.0  NaN            NaN      24.0   NaN   \n",
       "2         NaN  24.0  ...  48.0  NaN            NaN     120.0  19.0   \n",
       "3       191.0   NaN  ...   NaN  NaN            NaN     216.0  86.0   \n",
       "4        82.0   NaN  ...   NaN  NaN            NaN      96.0  11.0   \n",
       "\n",
       "Specie  temperature  uvi    wd  wind-gust  wind-speed  \n",
       "0              24.0  NaN   NaN        NaN        24.0  \n",
       "1              24.0  NaN   NaN        NaN        24.0  \n",
       "2             120.0  NaN  18.0      120.0       120.0  \n",
       "3             216.0  NaN   NaN      135.0       118.0  \n",
       "4              96.0  NaN   NaN       96.0        66.0  \n",
       "\n",
       "[5 rows x 22 columns]"
      ]
     },
     "execution_count": 108,
     "metadata": {},
     "output_type": "execute_result"
    }
   ],
   "source": [
    "print(data_df_2019_Q2.shape)\n",
    "data_df_2019_Q2.head()"
   ]
  },
  {
   "cell_type": "code",
   "execution_count": 109,
   "id": "725b99c4",
   "metadata": {
    "execution": {
     "iopub.execute_input": "2024-12-30T03:22:53.371405Z",
     "iopub.status.busy": "2024-12-30T03:22:53.371070Z",
     "iopub.status.idle": "2024-12-30T03:22:53.385815Z",
     "shell.execute_reply": "2024-12-30T03:22:53.384518Z"
    },
    "executionInfo": {
     "elapsed": 8,
     "status": "ok",
     "timestamp": 1734445444552,
     "user": {
      "displayName": "Tahmida Majumder",
      "userId": "15415648085337204568"
     },
     "user_tz": -480
    },
    "id": "gNU4pm3aUvmY",
    "outputId": "a4696837-af6b-40ca-890d-12e16efa6a00",
    "papermill": {
     "duration": 0.068949,
     "end_time": "2024-12-30T03:22:53.387603",
     "exception": false,
     "start_time": "2024-12-30T03:22:53.318654",
     "status": "completed"
    },
    "tags": []
   },
   "outputs": [
    {
     "data": {
      "text/plain": [
       "Specie\n",
       "Date                 0\n",
       "Country              0\n",
       "City                 0\n",
       "aqi              50092\n",
       "co               18780\n",
       "dew              13355\n",
       "humidity           229\n",
       "mepaqi           51331\n",
       "no2               9320\n",
       "o3               10834\n",
       "pm1              51268\n",
       "pm10             10047\n",
       "pm25              8810\n",
       "pol              51067\n",
       "precipitation    47158\n",
       "pressure           501\n",
       "so2              15164\n",
       "temperature        207\n",
       "uvi              50526\n",
       "wd               47337\n",
       "wind-gust        16360\n",
       "wind-speed        1709\n",
       "dtype: int64"
      ]
     },
     "execution_count": 109,
     "metadata": {},
     "output_type": "execute_result"
    }
   ],
   "source": [
    "data_df_2019_Q2.isnull().sum()"
   ]
  },
  {
   "cell_type": "code",
   "execution_count": null,
   "id": "b06b6a32",
   "metadata": {
    "id": "MbM8_D2PBLwG",
    "papermill": {
     "duration": 0.050891,
     "end_time": "2024-12-30T03:22:53.490192",
     "exception": false,
     "start_time": "2024-12-30T03:22:53.439301",
     "status": "completed"
    },
    "tags": []
   },
   "outputs": [],
   "source": []
  },
  {
   "cell_type": "markdown",
   "id": "d0052973",
   "metadata": {
    "id": "Ie9ifpybU_N5",
    "papermill": {
     "duration": 0.054359,
     "end_time": "2024-12-30T03:22:53.595443",
     "exception": false,
     "start_time": "2024-12-30T03:22:53.541084",
     "status": "completed"
    },
    "tags": []
   },
   "source": [
    "# 2019_Q3"
   ]
  },
  {
   "cell_type": "code",
   "execution_count": 110,
   "id": "85e8c892",
   "metadata": {
    "execution": {
     "iopub.execute_input": "2024-12-30T03:22:53.701032Z",
     "iopub.status.busy": "2024-12-30T03:22:53.700686Z",
     "iopub.status.idle": "2024-12-30T03:22:54.255178Z",
     "shell.execute_reply": "2024-12-30T03:22:54.254029Z"
    },
    "executionInfo": {
     "elapsed": 1157,
     "status": "ok",
     "timestamp": 1734445445702,
     "user": {
      "displayName": "Tahmida Majumder",
      "userId": "15415648085337204568"
     },
     "user_tz": -480
    },
    "id": "faydXS6IU_N6",
    "outputId": "cc070e3a-3f74-45b4-ab9c-f1da56c17635",
    "papermill": {
     "duration": 0.609685,
     "end_time": "2024-12-30T03:22:54.257044",
     "exception": false,
     "start_time": "2024-12-30T03:22:53.647359",
     "status": "completed"
    },
    "tags": []
   },
   "outputs": [
    {
     "name": "stdout",
     "output_type": "stream",
     "text": [
      "(582606, 5)\n"
     ]
    },
    {
     "data": {
      "text/html": [
       "<div>\n",
       "<style scoped>\n",
       "    .dataframe tbody tr th:only-of-type {\n",
       "        vertical-align: middle;\n",
       "    }\n",
       "\n",
       "    .dataframe tbody tr th {\n",
       "        vertical-align: top;\n",
       "    }\n",
       "\n",
       "    .dataframe thead th {\n",
       "        text-align: right;\n",
       "    }\n",
       "</style>\n",
       "<table border=\"1\" class=\"dataframe\">\n",
       "  <thead>\n",
       "    <tr style=\"text-align: right;\">\n",
       "      <th></th>\n",
       "      <th>Date</th>\n",
       "      <th>Country</th>\n",
       "      <th>City</th>\n",
       "      <th>Specie</th>\n",
       "      <th>count</th>\n",
       "    </tr>\n",
       "  </thead>\n",
       "  <tbody>\n",
       "    <tr>\n",
       "      <th>0</th>\n",
       "      <td>10/6/2019</td>\n",
       "      <td>SK</td>\n",
       "      <td>Košice</td>\n",
       "      <td>dew</td>\n",
       "      <td>20</td>\n",
       "    </tr>\n",
       "    <tr>\n",
       "      <th>1</th>\n",
       "      <td>10/6/2019</td>\n",
       "      <td>SK</td>\n",
       "      <td>Košice</td>\n",
       "      <td>pressure</td>\n",
       "      <td>96</td>\n",
       "    </tr>\n",
       "    <tr>\n",
       "      <th>2</th>\n",
       "      <td>10/6/2019</td>\n",
       "      <td>SK</td>\n",
       "      <td>Košice</td>\n",
       "      <td>humidity</td>\n",
       "      <td>96</td>\n",
       "    </tr>\n",
       "    <tr>\n",
       "      <th>3</th>\n",
       "      <td>10/6/2019</td>\n",
       "      <td>SK</td>\n",
       "      <td>Košice</td>\n",
       "      <td>so2</td>\n",
       "      <td>80</td>\n",
       "    </tr>\n",
       "    <tr>\n",
       "      <th>4</th>\n",
       "      <td>10/6/2019</td>\n",
       "      <td>SK</td>\n",
       "      <td>Košice</td>\n",
       "      <td>pm25</td>\n",
       "      <td>81</td>\n",
       "    </tr>\n",
       "    <tr>\n",
       "      <th>5</th>\n",
       "      <td>10/6/2019</td>\n",
       "      <td>SK</td>\n",
       "      <td>Košice</td>\n",
       "      <td>no2</td>\n",
       "      <td>92</td>\n",
       "    </tr>\n",
       "    <tr>\n",
       "      <th>6</th>\n",
       "      <td>10/6/2019</td>\n",
       "      <td>SK</td>\n",
       "      <td>Košice</td>\n",
       "      <td>wind-speed</td>\n",
       "      <td>96</td>\n",
       "    </tr>\n",
       "    <tr>\n",
       "      <th>7</th>\n",
       "      <td>10/6/2019</td>\n",
       "      <td>SK</td>\n",
       "      <td>Košice</td>\n",
       "      <td>co</td>\n",
       "      <td>92</td>\n",
       "    </tr>\n",
       "    <tr>\n",
       "      <th>8</th>\n",
       "      <td>10/6/2019</td>\n",
       "      <td>SK</td>\n",
       "      <td>Košice</td>\n",
       "      <td>temperature</td>\n",
       "      <td>96</td>\n",
       "    </tr>\n",
       "    <tr>\n",
       "      <th>9</th>\n",
       "      <td>10/6/2019</td>\n",
       "      <td>SK</td>\n",
       "      <td>Košice</td>\n",
       "      <td>pm10</td>\n",
       "      <td>95</td>\n",
       "    </tr>\n",
       "  </tbody>\n",
       "</table>\n",
       "</div>"
      ],
      "text/plain": [
       "        Date Country    City       Specie  count\n",
       "0  10/6/2019      SK  Košice          dew     20\n",
       "1  10/6/2019      SK  Košice     pressure     96\n",
       "2  10/6/2019      SK  Košice     humidity     96\n",
       "3  10/6/2019      SK  Košice          so2     80\n",
       "4  10/6/2019      SK  Košice         pm25     81\n",
       "5  10/6/2019      SK  Košice          no2     92\n",
       "6  10/6/2019      SK  Košice   wind-speed     96\n",
       "7  10/6/2019      SK  Košice           co     92\n",
       "8  10/6/2019      SK  Košice  temperature     96\n",
       "9  10/6/2019      SK  Košice         pm10     95"
      ]
     },
     "execution_count": 110,
     "metadata": {},
     "output_type": "execute_result"
    }
   ],
   "source": [
    "# Loading the data\n",
    "raw_data_2019_Q3 = pd.read_csv(r\"/kaggle/input/data-for-combine/airqualitydata-2019Q3.csv\")\n",
    "\n",
    "# print the shape\n",
    "print(raw_data_2019_Q3.shape)\n",
    "\n",
    "#runs the first 5 rows\n",
    "raw_data_2019_Q3.head(10)"
   ]
  },
  {
   "cell_type": "code",
   "execution_count": 111,
   "id": "0c8ce029",
   "metadata": {
    "execution": {
     "iopub.execute_input": "2024-12-30T03:22:54.363450Z",
     "iopub.status.busy": "2024-12-30T03:22:54.363090Z",
     "iopub.status.idle": "2024-12-30T03:22:54.425604Z",
     "shell.execute_reply": "2024-12-30T03:22:54.424630Z"
    },
    "id": "QefLoWV3U_N6",
    "papermill": {
     "duration": 0.117794,
     "end_time": "2024-12-30T03:22:54.427518",
     "exception": false,
     "start_time": "2024-12-30T03:22:54.309724",
     "status": "completed"
    },
    "tags": []
   },
   "outputs": [],
   "source": [
    "# Convert 'Date' to datetime\n",
    "raw_data_2019_Q3['Date'] = pd.to_datetime(raw_data_2019_Q3['Date'])"
   ]
  },
  {
   "cell_type": "code",
   "execution_count": 112,
   "id": "335083ae",
   "metadata": {
    "execution": {
     "iopub.execute_input": "2024-12-30T03:22:54.534144Z",
     "iopub.status.busy": "2024-12-30T03:22:54.533807Z",
     "iopub.status.idle": "2024-12-30T03:22:54.539520Z",
     "shell.execute_reply": "2024-12-30T03:22:54.538466Z"
    },
    "executionInfo": {
     "elapsed": 10,
     "status": "ok",
     "timestamp": 1734445445703,
     "user": {
      "displayName": "Tahmida Majumder",
      "userId": "15415648085337204568"
     },
     "user_tz": -480
    },
    "id": "M5C6J40TU_N7",
    "outputId": "2edcde12-f403-4e99-b43e-5863fefbe88f",
    "papermill": {
     "duration": 0.061153,
     "end_time": "2024-12-30T03:22:54.541171",
     "exception": false,
     "start_time": "2024-12-30T03:22:54.480018",
     "status": "completed"
    },
    "tags": []
   },
   "outputs": [
    {
     "data": {
      "text/plain": [
       "(582606, 5)"
      ]
     },
     "execution_count": 112,
     "metadata": {},
     "output_type": "execute_result"
    }
   ],
   "source": [
    "raw_data_2019_Q3.shape"
   ]
  },
  {
   "cell_type": "code",
   "execution_count": 113,
   "id": "80b41f50",
   "metadata": {
    "execution": {
     "iopub.execute_input": "2024-12-30T03:22:54.649346Z",
     "iopub.status.busy": "2024-12-30T03:22:54.648960Z",
     "iopub.status.idle": "2024-12-30T03:22:55.039407Z",
     "shell.execute_reply": "2024-12-30T03:22:55.038138Z"
    },
    "id": "ex5MbtTWU_N7",
    "papermill": {
     "duration": 0.446402,
     "end_time": "2024-12-30T03:22:55.041727",
     "exception": false,
     "start_time": "2024-12-30T03:22:54.595325",
     "status": "completed"
    },
    "tags": []
   },
   "outputs": [],
   "source": [
    "# Pivot the data\n",
    "data_df_2019_Q3 = raw_data_2019_Q3.pivot_table(\n",
    "    index=['Date', 'Country', 'City'],  # Grouping columns\n",
    "    columns='Specie',                  # Unique values become columns\n",
    "    values='count',                   # Values to aggregate\n",
    "    aggfunc='mean'                     # Aggregation function\n",
    ").reset_index()\n"
   ]
  },
  {
   "cell_type": "code",
   "execution_count": 114,
   "id": "a9e48ecf",
   "metadata": {
    "execution": {
     "iopub.execute_input": "2024-12-30T03:22:55.149453Z",
     "iopub.status.busy": "2024-12-30T03:22:55.149091Z",
     "iopub.status.idle": "2024-12-30T03:22:55.174392Z",
     "shell.execute_reply": "2024-12-30T03:22:55.173269Z"
    },
    "executionInfo": {
     "elapsed": 10,
     "status": "ok",
     "timestamp": 1734445446314,
     "user": {
      "displayName": "Tahmida Majumder",
      "userId": "15415648085337204568"
     },
     "user_tz": -480
    },
    "id": "fOZF32TvU_N7",
    "outputId": "0e38b96e-d5b6-43eb-e5cc-9d842148aa1f",
    "papermill": {
     "duration": 0.081338,
     "end_time": "2024-12-30T03:22:55.176072",
     "exception": false,
     "start_time": "2024-12-30T03:22:55.094734",
     "status": "completed"
    },
    "tags": []
   },
   "outputs": [
    {
     "name": "stdout",
     "output_type": "stream",
     "text": [
      "(57230, 22)\n"
     ]
    },
    {
     "data": {
      "text/html": [
       "<div>\n",
       "<style scoped>\n",
       "    .dataframe tbody tr th:only-of-type {\n",
       "        vertical-align: middle;\n",
       "    }\n",
       "\n",
       "    .dataframe tbody tr th {\n",
       "        vertical-align: top;\n",
       "    }\n",
       "\n",
       "    .dataframe thead th {\n",
       "        text-align: right;\n",
       "    }\n",
       "</style>\n",
       "<table border=\"1\" class=\"dataframe\">\n",
       "  <thead>\n",
       "    <tr style=\"text-align: right;\">\n",
       "      <th>Specie</th>\n",
       "      <th>Date</th>\n",
       "      <th>Country</th>\n",
       "      <th>City</th>\n",
       "      <th>aqi</th>\n",
       "      <th>co</th>\n",
       "      <th>dew</th>\n",
       "      <th>humidity</th>\n",
       "      <th>mepaqi</th>\n",
       "      <th>no2</th>\n",
       "      <th>o3</th>\n",
       "      <th>...</th>\n",
       "      <th>pm25</th>\n",
       "      <th>pol</th>\n",
       "      <th>precipitation</th>\n",
       "      <th>pressure</th>\n",
       "      <th>so2</th>\n",
       "      <th>temperature</th>\n",
       "      <th>uvi</th>\n",
       "      <th>wd</th>\n",
       "      <th>wind-gust</th>\n",
       "      <th>wind-speed</th>\n",
       "    </tr>\n",
       "  </thead>\n",
       "  <tbody>\n",
       "    <tr>\n",
       "      <th>0</th>\n",
       "      <td>2019-07-01</td>\n",
       "      <td>AE</td>\n",
       "      <td>Abu Dhabi</td>\n",
       "      <td>NaN</td>\n",
       "      <td>NaN</td>\n",
       "      <td>24.0</td>\n",
       "      <td>24.0</td>\n",
       "      <td>NaN</td>\n",
       "      <td>NaN</td>\n",
       "      <td>24.0</td>\n",
       "      <td>...</td>\n",
       "      <td>24.0</td>\n",
       "      <td>NaN</td>\n",
       "      <td>NaN</td>\n",
       "      <td>23.0</td>\n",
       "      <td>NaN</td>\n",
       "      <td>23.0</td>\n",
       "      <td>NaN</td>\n",
       "      <td>NaN</td>\n",
       "      <td>NaN</td>\n",
       "      <td>24.0</td>\n",
       "    </tr>\n",
       "    <tr>\n",
       "      <th>1</th>\n",
       "      <td>2019-07-01</td>\n",
       "      <td>AE</td>\n",
       "      <td>Dubai</td>\n",
       "      <td>NaN</td>\n",
       "      <td>NaN</td>\n",
       "      <td>24.0</td>\n",
       "      <td>24.0</td>\n",
       "      <td>NaN</td>\n",
       "      <td>NaN</td>\n",
       "      <td>NaN</td>\n",
       "      <td>...</td>\n",
       "      <td>24.0</td>\n",
       "      <td>NaN</td>\n",
       "      <td>NaN</td>\n",
       "      <td>24.0</td>\n",
       "      <td>NaN</td>\n",
       "      <td>24.0</td>\n",
       "      <td>NaN</td>\n",
       "      <td>NaN</td>\n",
       "      <td>NaN</td>\n",
       "      <td>24.0</td>\n",
       "    </tr>\n",
       "    <tr>\n",
       "      <th>2</th>\n",
       "      <td>2019-07-01</td>\n",
       "      <td>AR</td>\n",
       "      <td>Buenos Aires</td>\n",
       "      <td>NaN</td>\n",
       "      <td>67.0</td>\n",
       "      <td>72.0</td>\n",
       "      <td>120.0</td>\n",
       "      <td>NaN</td>\n",
       "      <td>48.0</td>\n",
       "      <td>24.0</td>\n",
       "      <td>...</td>\n",
       "      <td>48.0</td>\n",
       "      <td>NaN</td>\n",
       "      <td>NaN</td>\n",
       "      <td>120.0</td>\n",
       "      <td>NaN</td>\n",
       "      <td>120.0</td>\n",
       "      <td>NaN</td>\n",
       "      <td>17.0</td>\n",
       "      <td>120.0</td>\n",
       "      <td>120.0</td>\n",
       "    </tr>\n",
       "    <tr>\n",
       "      <th>3</th>\n",
       "      <td>2019-07-01</td>\n",
       "      <td>AT</td>\n",
       "      <td>Graz</td>\n",
       "      <td>NaN</td>\n",
       "      <td>36.0</td>\n",
       "      <td>105.0</td>\n",
       "      <td>216.0</td>\n",
       "      <td>NaN</td>\n",
       "      <td>190.0</td>\n",
       "      <td>NaN</td>\n",
       "      <td>...</td>\n",
       "      <td>NaN</td>\n",
       "      <td>NaN</td>\n",
       "      <td>NaN</td>\n",
       "      <td>216.0</td>\n",
       "      <td>67.0</td>\n",
       "      <td>216.0</td>\n",
       "      <td>NaN</td>\n",
       "      <td>NaN</td>\n",
       "      <td>189.0</td>\n",
       "      <td>188.0</td>\n",
       "    </tr>\n",
       "    <tr>\n",
       "      <th>4</th>\n",
       "      <td>2019-07-01</td>\n",
       "      <td>AT</td>\n",
       "      <td>Innsbruck</td>\n",
       "      <td>NaN</td>\n",
       "      <td>16.0</td>\n",
       "      <td>48.0</td>\n",
       "      <td>96.0</td>\n",
       "      <td>NaN</td>\n",
       "      <td>90.0</td>\n",
       "      <td>NaN</td>\n",
       "      <td>...</td>\n",
       "      <td>NaN</td>\n",
       "      <td>NaN</td>\n",
       "      <td>NaN</td>\n",
       "      <td>96.0</td>\n",
       "      <td>7.0</td>\n",
       "      <td>96.0</td>\n",
       "      <td>NaN</td>\n",
       "      <td>NaN</td>\n",
       "      <td>96.0</td>\n",
       "      <td>96.0</td>\n",
       "    </tr>\n",
       "  </tbody>\n",
       "</table>\n",
       "<p>5 rows × 22 columns</p>\n",
       "</div>"
      ],
      "text/plain": [
       "Specie       Date Country          City  aqi    co    dew  humidity  mepaqi  \\\n",
       "0      2019-07-01      AE     Abu Dhabi  NaN   NaN   24.0      24.0     NaN   \n",
       "1      2019-07-01      AE         Dubai  NaN   NaN   24.0      24.0     NaN   \n",
       "2      2019-07-01      AR  Buenos Aires  NaN  67.0   72.0     120.0     NaN   \n",
       "3      2019-07-01      AT          Graz  NaN  36.0  105.0     216.0     NaN   \n",
       "4      2019-07-01      AT     Innsbruck  NaN  16.0   48.0      96.0     NaN   \n",
       "\n",
       "Specie    no2    o3  ...  pm25  pol  precipitation  pressure   so2  \\\n",
       "0         NaN  24.0  ...  24.0  NaN            NaN      23.0   NaN   \n",
       "1         NaN   NaN  ...  24.0  NaN            NaN      24.0   NaN   \n",
       "2        48.0  24.0  ...  48.0  NaN            NaN     120.0   NaN   \n",
       "3       190.0   NaN  ...   NaN  NaN            NaN     216.0  67.0   \n",
       "4        90.0   NaN  ...   NaN  NaN            NaN      96.0   7.0   \n",
       "\n",
       "Specie  temperature  uvi    wd  wind-gust  wind-speed  \n",
       "0              23.0  NaN   NaN        NaN        24.0  \n",
       "1              24.0  NaN   NaN        NaN        24.0  \n",
       "2             120.0  NaN  17.0      120.0       120.0  \n",
       "3             216.0  NaN   NaN      189.0       188.0  \n",
       "4              96.0  NaN   NaN       96.0        96.0  \n",
       "\n",
       "[5 rows x 22 columns]"
      ]
     },
     "execution_count": 114,
     "metadata": {},
     "output_type": "execute_result"
    }
   ],
   "source": [
    "print(data_df_2019_Q3.shape)\n",
    "data_df_2019_Q3.head()"
   ]
  },
  {
   "cell_type": "code",
   "execution_count": 115,
   "id": "96948633",
   "metadata": {
    "execution": {
     "iopub.execute_input": "2024-12-30T03:22:55.285270Z",
     "iopub.status.busy": "2024-12-30T03:22:55.284850Z",
     "iopub.status.idle": "2024-12-30T03:22:55.300032Z",
     "shell.execute_reply": "2024-12-30T03:22:55.298974Z"
    },
    "executionInfo": {
     "elapsed": 8,
     "status": "ok",
     "timestamp": 1734445446314,
     "user": {
      "displayName": "Tahmida Majumder",
      "userId": "15415648085337204568"
     },
     "user_tz": -480
    },
    "id": "hhIyzbkFU_N8",
    "outputId": "37419db7-4d05-4cdd-dfaa-99b8a622f2e0",
    "papermill": {
     "duration": 0.072106,
     "end_time": "2024-12-30T03:22:55.301990",
     "exception": false,
     "start_time": "2024-12-30T03:22:55.229884",
     "status": "completed"
    },
    "tags": []
   },
   "outputs": [
    {
     "data": {
      "text/plain": [
       "Specie\n",
       "Date                 0\n",
       "Country              0\n",
       "City                 0\n",
       "aqi              55734\n",
       "co               21758\n",
       "dew              14427\n",
       "humidity            74\n",
       "mepaqi           57132\n",
       "no2              10192\n",
       "o3               12979\n",
       "pm1              57100\n",
       "pm10             10728\n",
       "pm25              9627\n",
       "pol              56146\n",
       "precipitation    52356\n",
       "pressure           530\n",
       "so2              17234\n",
       "temperature         67\n",
       "uvi              56261\n",
       "wd               52620\n",
       "wind-gust        18819\n",
       "wind-speed         980\n",
       "dtype: int64"
      ]
     },
     "execution_count": 115,
     "metadata": {},
     "output_type": "execute_result"
    }
   ],
   "source": [
    "data_df_2019_Q3.isnull().sum()"
   ]
  },
  {
   "cell_type": "code",
   "execution_count": null,
   "id": "c5092926",
   "metadata": {
    "id": "2XtakEpkBL0Y",
    "papermill": {
     "duration": 0.055424,
     "end_time": "2024-12-30T03:22:55.413439",
     "exception": false,
     "start_time": "2024-12-30T03:22:55.358015",
     "status": "completed"
    },
    "tags": []
   },
   "outputs": [],
   "source": []
  },
  {
   "cell_type": "markdown",
   "id": "b64f64c0",
   "metadata": {
    "id": "TZS06jG3VqRZ",
    "papermill": {
     "duration": 0.053912,
     "end_time": "2024-12-30T03:22:55.521347",
     "exception": false,
     "start_time": "2024-12-30T03:22:55.467435",
     "status": "completed"
    },
    "tags": []
   },
   "source": [
    "# 2019_Q4"
   ]
  },
  {
   "cell_type": "code",
   "execution_count": 116,
   "id": "6abbd130",
   "metadata": {
    "execution": {
     "iopub.execute_input": "2024-12-30T03:22:55.634244Z",
     "iopub.status.busy": "2024-12-30T03:22:55.633856Z",
     "iopub.status.idle": "2024-12-30T03:22:56.211015Z",
     "shell.execute_reply": "2024-12-30T03:22:56.210071Z"
    },
    "executionInfo": {
     "elapsed": 1031,
     "status": "ok",
     "timestamp": 1734445447338,
     "user": {
      "displayName": "Tahmida Majumder",
      "userId": "15415648085337204568"
     },
     "user_tz": -480
    },
    "id": "ffHovsxPVqRZ",
    "outputId": "b8e1afa9-a07b-4be0-e104-d29b00781c0f",
    "papermill": {
     "duration": 0.634612,
     "end_time": "2024-12-30T03:22:56.212604",
     "exception": false,
     "start_time": "2024-12-30T03:22:55.577992",
     "status": "completed"
    },
    "tags": []
   },
   "outputs": [
    {
     "name": "stdout",
     "output_type": "stream",
     "text": [
      "(578226, 5)\n"
     ]
    },
    {
     "data": {
      "text/html": [
       "<div>\n",
       "<style scoped>\n",
       "    .dataframe tbody tr th:only-of-type {\n",
       "        vertical-align: middle;\n",
       "    }\n",
       "\n",
       "    .dataframe tbody tr th {\n",
       "        vertical-align: top;\n",
       "    }\n",
       "\n",
       "    .dataframe thead th {\n",
       "        text-align: right;\n",
       "    }\n",
       "</style>\n",
       "<table border=\"1\" class=\"dataframe\">\n",
       "  <thead>\n",
       "    <tr style=\"text-align: right;\">\n",
       "      <th></th>\n",
       "      <th>Date</th>\n",
       "      <th>Country</th>\n",
       "      <th>City</th>\n",
       "      <th>Specie</th>\n",
       "      <th>count</th>\n",
       "    </tr>\n",
       "  </thead>\n",
       "  <tbody>\n",
       "    <tr>\n",
       "      <th>0</th>\n",
       "      <td>1/5/2020</td>\n",
       "      <td>HU</td>\n",
       "      <td>Debrecen</td>\n",
       "      <td>o3</td>\n",
       "      <td>34</td>\n",
       "    </tr>\n",
       "    <tr>\n",
       "      <th>1</th>\n",
       "      <td>1/5/2020</td>\n",
       "      <td>HU</td>\n",
       "      <td>Debrecen</td>\n",
       "      <td>so2</td>\n",
       "      <td>34</td>\n",
       "    </tr>\n",
       "    <tr>\n",
       "      <th>2</th>\n",
       "      <td>1/5/2020</td>\n",
       "      <td>HU</td>\n",
       "      <td>Debrecen</td>\n",
       "      <td>pressure</td>\n",
       "      <td>72</td>\n",
       "    </tr>\n",
       "    <tr>\n",
       "      <th>3</th>\n",
       "      <td>1/5/2020</td>\n",
       "      <td>HU</td>\n",
       "      <td>Debrecen</td>\n",
       "      <td>temperature</td>\n",
       "      <td>72</td>\n",
       "    </tr>\n",
       "    <tr>\n",
       "      <th>4</th>\n",
       "      <td>1/5/2020</td>\n",
       "      <td>HU</td>\n",
       "      <td>Debrecen</td>\n",
       "      <td>humidity</td>\n",
       "      <td>72</td>\n",
       "    </tr>\n",
       "    <tr>\n",
       "      <th>5</th>\n",
       "      <td>1/5/2020</td>\n",
       "      <td>HU</td>\n",
       "      <td>Debrecen</td>\n",
       "      <td>no2</td>\n",
       "      <td>34</td>\n",
       "    </tr>\n",
       "    <tr>\n",
       "      <th>6</th>\n",
       "      <td>1/5/2020</td>\n",
       "      <td>HU</td>\n",
       "      <td>Debrecen</td>\n",
       "      <td>wind-speed</td>\n",
       "      <td>69</td>\n",
       "    </tr>\n",
       "    <tr>\n",
       "      <th>7</th>\n",
       "      <td>1/5/2020</td>\n",
       "      <td>HU</td>\n",
       "      <td>Debrecen</td>\n",
       "      <td>wind speed</td>\n",
       "      <td>69</td>\n",
       "    </tr>\n",
       "    <tr>\n",
       "      <th>8</th>\n",
       "      <td>1/5/2020</td>\n",
       "      <td>HU</td>\n",
       "      <td>Debrecen</td>\n",
       "      <td>wind gust</td>\n",
       "      <td>6</td>\n",
       "    </tr>\n",
       "    <tr>\n",
       "      <th>9</th>\n",
       "      <td>1/5/2020</td>\n",
       "      <td>HU</td>\n",
       "      <td>Debrecen</td>\n",
       "      <td>precipitation</td>\n",
       "      <td>6</td>\n",
       "    </tr>\n",
       "  </tbody>\n",
       "</table>\n",
       "</div>"
      ],
      "text/plain": [
       "       Date Country      City         Specie  count\n",
       "0  1/5/2020      HU  Debrecen             o3     34\n",
       "1  1/5/2020      HU  Debrecen            so2     34\n",
       "2  1/5/2020      HU  Debrecen       pressure     72\n",
       "3  1/5/2020      HU  Debrecen    temperature     72\n",
       "4  1/5/2020      HU  Debrecen       humidity     72\n",
       "5  1/5/2020      HU  Debrecen            no2     34\n",
       "6  1/5/2020      HU  Debrecen     wind-speed     69\n",
       "7  1/5/2020      HU  Debrecen     wind speed     69\n",
       "8  1/5/2020      HU  Debrecen      wind gust      6\n",
       "9  1/5/2020      HU  Debrecen  precipitation      6"
      ]
     },
     "execution_count": 116,
     "metadata": {},
     "output_type": "execute_result"
    }
   ],
   "source": [
    "# Loading the data\n",
    "raw_data_2019_Q4 = pd.read_csv(r\"/kaggle/input/data-for-combine/airqualitydata-2019Q4.csv\")\n",
    "\n",
    "# print the shape\n",
    "print(raw_data_2019_Q4.shape)\n",
    "\n",
    "#runs the first 5 rows\n",
    "raw_data_2019_Q4.head(10)"
   ]
  },
  {
   "cell_type": "code",
   "execution_count": 117,
   "id": "f4d810dd",
   "metadata": {
    "execution": {
     "iopub.execute_input": "2024-12-30T03:22:56.322863Z",
     "iopub.status.busy": "2024-12-30T03:22:56.322392Z",
     "iopub.status.idle": "2024-12-30T03:22:56.387748Z",
     "shell.execute_reply": "2024-12-30T03:22:56.386491Z"
    },
    "id": "kqSYvto8VqRZ",
    "papermill": {
     "duration": 0.122764,
     "end_time": "2024-12-30T03:22:56.389667",
     "exception": false,
     "start_time": "2024-12-30T03:22:56.266903",
     "status": "completed"
    },
    "tags": []
   },
   "outputs": [],
   "source": [
    "# Convert 'Date' to datetime\n",
    "raw_data_2019_Q4['Date'] = pd.to_datetime(raw_data_2019_Q4['Date'])"
   ]
  },
  {
   "cell_type": "code",
   "execution_count": 118,
   "id": "df79687b",
   "metadata": {
    "execution": {
     "iopub.execute_input": "2024-12-30T03:22:56.508371Z",
     "iopub.status.busy": "2024-12-30T03:22:56.508017Z",
     "iopub.status.idle": "2024-12-30T03:22:56.514206Z",
     "shell.execute_reply": "2024-12-30T03:22:56.512811Z"
    },
    "executionInfo": {
     "elapsed": 9,
     "status": "ok",
     "timestamp": 1734445447338,
     "user": {
      "displayName": "Tahmida Majumder",
      "userId": "15415648085337204568"
     },
     "user_tz": -480
    },
    "id": "b8hAqhbUVqRZ",
    "outputId": "384d481e-bb79-4ee6-f30b-1e2244f25960",
    "papermill": {
     "duration": 0.071778,
     "end_time": "2024-12-30T03:22:56.516148",
     "exception": false,
     "start_time": "2024-12-30T03:22:56.444370",
     "status": "completed"
    },
    "tags": []
   },
   "outputs": [
    {
     "data": {
      "text/plain": [
       "(578226, 5)"
      ]
     },
     "execution_count": 118,
     "metadata": {},
     "output_type": "execute_result"
    }
   ],
   "source": [
    "raw_data_2019_Q4.shape"
   ]
  },
  {
   "cell_type": "code",
   "execution_count": 119,
   "id": "ae42b350",
   "metadata": {
    "execution": {
     "iopub.execute_input": "2024-12-30T03:22:56.639323Z",
     "iopub.status.busy": "2024-12-30T03:22:56.638844Z",
     "iopub.status.idle": "2024-12-30T03:22:57.057873Z",
     "shell.execute_reply": "2024-12-30T03:22:57.056831Z"
    },
    "id": "hzPxkgpeVqRa",
    "papermill": {
     "duration": 0.487884,
     "end_time": "2024-12-30T03:22:57.059820",
     "exception": false,
     "start_time": "2024-12-30T03:22:56.571936",
     "status": "completed"
    },
    "tags": []
   },
   "outputs": [],
   "source": [
    "# Pivot the data\n",
    "data_df_2019_Q4 = raw_data_2019_Q4.pivot_table(\n",
    "    index=['Date', 'Country', 'City'],  # Grouping columns\n",
    "    columns='Specie',                  # Unique values become columns\n",
    "    values='count',                   # Values to aggregate\n",
    "    aggfunc='mean'                     # Aggregation function\n",
    ").reset_index()\n"
   ]
  },
  {
   "cell_type": "code",
   "execution_count": 120,
   "id": "7ea21f88",
   "metadata": {
    "execution": {
     "iopub.execute_input": "2024-12-30T03:22:57.173904Z",
     "iopub.status.busy": "2024-12-30T03:22:57.173454Z",
     "iopub.status.idle": "2024-12-30T03:22:57.200800Z",
     "shell.execute_reply": "2024-12-30T03:22:57.199129Z"
    },
    "executionInfo": {
     "elapsed": 12,
     "status": "ok",
     "timestamp": 1734445447744,
     "user": {
      "displayName": "Tahmida Majumder",
      "userId": "15415648085337204568"
     },
     "user_tz": -480
    },
    "id": "xn9BPhn1VqRa",
    "outputId": "c9730021-96bd-44a5-9fe8-866bdb9f88fd",
    "papermill": {
     "duration": 0.086871,
     "end_time": "2024-12-30T03:22:57.202758",
     "exception": false,
     "start_time": "2024-12-30T03:22:57.115887",
     "status": "completed"
    },
    "tags": []
   },
   "outputs": [
    {
     "name": "stdout",
     "output_type": "stream",
     "text": [
      "(57861, 25)\n"
     ]
    },
    {
     "data": {
      "text/html": [
       "<div>\n",
       "<style scoped>\n",
       "    .dataframe tbody tr th:only-of-type {\n",
       "        vertical-align: middle;\n",
       "    }\n",
       "\n",
       "    .dataframe tbody tr th {\n",
       "        vertical-align: top;\n",
       "    }\n",
       "\n",
       "    .dataframe thead th {\n",
       "        text-align: right;\n",
       "    }\n",
       "</style>\n",
       "<table border=\"1\" class=\"dataframe\">\n",
       "  <thead>\n",
       "    <tr style=\"text-align: right;\">\n",
       "      <th>Specie</th>\n",
       "      <th>Date</th>\n",
       "      <th>Country</th>\n",
       "      <th>City</th>\n",
       "      <th>aqi</th>\n",
       "      <th>co</th>\n",
       "      <th>dew</th>\n",
       "      <th>humidity</th>\n",
       "      <th>mepaqi</th>\n",
       "      <th>no2</th>\n",
       "      <th>o3</th>\n",
       "      <th>...</th>\n",
       "      <th>pm25</th>\n",
       "      <th>pol</th>\n",
       "      <th>precipitation</th>\n",
       "      <th>pressure</th>\n",
       "      <th>so2</th>\n",
       "      <th>temperature</th>\n",
       "      <th>uvi</th>\n",
       "      <th>wd</th>\n",
       "      <th>wind-gust</th>\n",
       "      <th>wind-speed</th>\n",
       "    </tr>\n",
       "  </thead>\n",
       "  <tbody>\n",
       "    <tr>\n",
       "      <th>0</th>\n",
       "      <td>2018-12-31</td>\n",
       "      <td>AE</td>\n",
       "      <td>Abu Dhabi</td>\n",
       "      <td>NaN</td>\n",
       "      <td>NaN</td>\n",
       "      <td>187.0</td>\n",
       "      <td>192.0</td>\n",
       "      <td>NaN</td>\n",
       "      <td>109.0</td>\n",
       "      <td>81.0</td>\n",
       "      <td>...</td>\n",
       "      <td>24.0</td>\n",
       "      <td>NaN</td>\n",
       "      <td>NaN</td>\n",
       "      <td>192.0</td>\n",
       "      <td>109.0</td>\n",
       "      <td>192.0</td>\n",
       "      <td>NaN</td>\n",
       "      <td>NaN</td>\n",
       "      <td>NaN</td>\n",
       "      <td>177.0</td>\n",
       "    </tr>\n",
       "    <tr>\n",
       "      <th>1</th>\n",
       "      <td>2018-12-31</td>\n",
       "      <td>AR</td>\n",
       "      <td>Buenos Aires</td>\n",
       "      <td>NaN</td>\n",
       "      <td>NaN</td>\n",
       "      <td>23.0</td>\n",
       "      <td>33.0</td>\n",
       "      <td>NaN</td>\n",
       "      <td>NaN</td>\n",
       "      <td>NaN</td>\n",
       "      <td>...</td>\n",
       "      <td>NaN</td>\n",
       "      <td>NaN</td>\n",
       "      <td>NaN</td>\n",
       "      <td>33.0</td>\n",
       "      <td>NaN</td>\n",
       "      <td>33.0</td>\n",
       "      <td>NaN</td>\n",
       "      <td>12.0</td>\n",
       "      <td>24.0</td>\n",
       "      <td>24.0</td>\n",
       "    </tr>\n",
       "    <tr>\n",
       "      <th>2</th>\n",
       "      <td>2018-12-31</td>\n",
       "      <td>AT</td>\n",
       "      <td>Graz</td>\n",
       "      <td>NaN</td>\n",
       "      <td>62.0</td>\n",
       "      <td>NaN</td>\n",
       "      <td>216.0</td>\n",
       "      <td>NaN</td>\n",
       "      <td>189.0</td>\n",
       "      <td>NaN</td>\n",
       "      <td>...</td>\n",
       "      <td>NaN</td>\n",
       "      <td>NaN</td>\n",
       "      <td>NaN</td>\n",
       "      <td>216.0</td>\n",
       "      <td>49.0</td>\n",
       "      <td>216.0</td>\n",
       "      <td>NaN</td>\n",
       "      <td>NaN</td>\n",
       "      <td>23.0</td>\n",
       "      <td>43.0</td>\n",
       "    </tr>\n",
       "    <tr>\n",
       "      <th>3</th>\n",
       "      <td>2018-12-31</td>\n",
       "      <td>AT</td>\n",
       "      <td>Innsbruck</td>\n",
       "      <td>NaN</td>\n",
       "      <td>19.0</td>\n",
       "      <td>4.0</td>\n",
       "      <td>96.0</td>\n",
       "      <td>NaN</td>\n",
       "      <td>84.0</td>\n",
       "      <td>NaN</td>\n",
       "      <td>...</td>\n",
       "      <td>NaN</td>\n",
       "      <td>NaN</td>\n",
       "      <td>NaN</td>\n",
       "      <td>96.0</td>\n",
       "      <td>17.0</td>\n",
       "      <td>96.0</td>\n",
       "      <td>NaN</td>\n",
       "      <td>NaN</td>\n",
       "      <td>96.0</td>\n",
       "      <td>92.0</td>\n",
       "    </tr>\n",
       "    <tr>\n",
       "      <th>4</th>\n",
       "      <td>2018-12-31</td>\n",
       "      <td>AT</td>\n",
       "      <td>Linz</td>\n",
       "      <td>NaN</td>\n",
       "      <td>54.0</td>\n",
       "      <td>19.0</td>\n",
       "      <td>168.0</td>\n",
       "      <td>NaN</td>\n",
       "      <td>160.0</td>\n",
       "      <td>NaN</td>\n",
       "      <td>...</td>\n",
       "      <td>135.0</td>\n",
       "      <td>NaN</td>\n",
       "      <td>NaN</td>\n",
       "      <td>168.0</td>\n",
       "      <td>33.0</td>\n",
       "      <td>168.0</td>\n",
       "      <td>NaN</td>\n",
       "      <td>NaN</td>\n",
       "      <td>168.0</td>\n",
       "      <td>168.0</td>\n",
       "    </tr>\n",
       "  </tbody>\n",
       "</table>\n",
       "<p>5 rows × 22 columns</p>\n",
       "</div>"
      ],
      "text/plain": [
       "Specie       Date Country          City  aqi    co    dew  humidity  mepaqi  \\\n",
       "0      2018-12-31      AE     Abu Dhabi  NaN   NaN  187.0     192.0     NaN   \n",
       "1      2018-12-31      AR  Buenos Aires  NaN   NaN   23.0      33.0     NaN   \n",
       "2      2018-12-31      AT          Graz  NaN  62.0    NaN     216.0     NaN   \n",
       "3      2018-12-31      AT     Innsbruck  NaN  19.0    4.0      96.0     NaN   \n",
       "4      2018-12-31      AT          Linz  NaN  54.0   19.0     168.0     NaN   \n",
       "\n",
       "Specie    no2    o3  ...   pm25  pol  precipitation  pressure    so2  \\\n",
       "0       109.0  81.0  ...   24.0  NaN            NaN     192.0  109.0   \n",
       "1         NaN   NaN  ...    NaN  NaN            NaN      33.0    NaN   \n",
       "2       189.0   NaN  ...    NaN  NaN            NaN     216.0   49.0   \n",
       "3        84.0   NaN  ...    NaN  NaN            NaN      96.0   17.0   \n",
       "4       160.0   NaN  ...  135.0  NaN            NaN     168.0   33.0   \n",
       "\n",
       "Specie  temperature  uvi    wd  wind-gust  wind-speed  \n",
       "0             192.0  NaN   NaN        NaN       177.0  \n",
       "1              33.0  NaN  12.0       24.0        24.0  \n",
       "2             216.0  NaN   NaN       23.0        43.0  \n",
       "3              96.0  NaN   NaN       96.0        92.0  \n",
       "4             168.0  NaN   NaN      168.0       168.0  \n",
       "\n",
       "[5 rows x 22 columns]"
      ]
     },
     "execution_count": 120,
     "metadata": {},
     "output_type": "execute_result"
    }
   ],
   "source": [
    "print(data_df_2019_Q4.shape)\n",
    "data_df_2019_Q1.head()"
   ]
  },
  {
   "cell_type": "code",
   "execution_count": 121,
   "id": "f4f76a05",
   "metadata": {
    "execution": {
     "iopub.execute_input": "2024-12-30T03:22:57.317152Z",
     "iopub.status.busy": "2024-12-30T03:22:57.316764Z",
     "iopub.status.idle": "2024-12-30T03:22:57.332030Z",
     "shell.execute_reply": "2024-12-30T03:22:57.331005Z"
    },
    "executionInfo": {
     "elapsed": 8,
     "status": "ok",
     "timestamp": 1734445447744,
     "user": {
      "displayName": "Tahmida Majumder",
      "userId": "15415648085337204568"
     },
     "user_tz": -480
    },
    "id": "xbfysSPtVqRa",
    "outputId": "88dbf73b-036e-4118-940b-084a557c7a45",
    "papermill": {
     "duration": 0.074784,
     "end_time": "2024-12-30T03:22:57.333732",
     "exception": false,
     "start_time": "2024-12-30T03:22:57.258948",
     "status": "completed"
    },
    "tags": []
   },
   "outputs": [
    {
     "data": {
      "text/plain": [
       "Specie\n",
       "Date                 0\n",
       "Country              0\n",
       "City                 0\n",
       "aqi              56388\n",
       "co               21943\n",
       "dew              16361\n",
       "humidity          2755\n",
       "mepaqi           57763\n",
       "neph             57795\n",
       "no2              10772\n",
       "o3               13984\n",
       "pm1              57569\n",
       "pm10             10930\n",
       "pm25              9774\n",
       "pol              56418\n",
       "precipitation    54213\n",
       "pressure          3069\n",
       "so2              17888\n",
       "temperature       2730\n",
       "uvi              56952\n",
       "wd               53664\n",
       "wind gust        54986\n",
       "wind speed       53344\n",
       "wind-gust        21844\n",
       "wind-speed        3574\n",
       "dtype: int64"
      ]
     },
     "execution_count": 121,
     "metadata": {},
     "output_type": "execute_result"
    }
   ],
   "source": [
    "data_df_2019_Q4.isnull().sum()"
   ]
  },
  {
   "cell_type": "code",
   "execution_count": null,
   "id": "fda593aa",
   "metadata": {
    "id": "6pYMJ_iMV4C5",
    "papermill": {
     "duration": 0.055341,
     "end_time": "2024-12-30T03:22:57.444778",
     "exception": false,
     "start_time": "2024-12-30T03:22:57.389437",
     "status": "completed"
    },
    "tags": []
   },
   "outputs": [],
   "source": []
  },
  {
   "cell_type": "markdown",
   "id": "8b20fffb",
   "metadata": {
    "id": "mKFAh6nXV5u6",
    "papermill": {
     "duration": 0.060568,
     "end_time": "2024-12-30T03:22:57.562414",
     "exception": false,
     "start_time": "2024-12-30T03:22:57.501846",
     "status": "completed"
    },
    "tags": []
   },
   "source": [
    "# 2018_H1"
   ]
  },
  {
   "cell_type": "code",
   "execution_count": 122,
   "id": "a8dbc728",
   "metadata": {
    "execution": {
     "iopub.execute_input": "2024-12-30T03:22:57.677232Z",
     "iopub.status.busy": "2024-12-30T03:22:57.676893Z",
     "iopub.status.idle": "2024-12-30T03:22:58.211285Z",
     "shell.execute_reply": "2024-12-30T03:22:58.210220Z"
    },
    "executionInfo": {
     "elapsed": 594,
     "status": "ok",
     "timestamp": 1734445448331,
     "user": {
      "displayName": "Tahmida Majumder",
      "userId": "15415648085337204568"
     },
     "user_tz": -480
    },
    "id": "QZSML_ewV5u6",
    "outputId": "5febc503-d96a-4ac5-811c-0a4acba0f690",
    "papermill": {
     "duration": 0.592849,
     "end_time": "2024-12-30T03:22:58.212903",
     "exception": false,
     "start_time": "2024-12-30T03:22:57.620054",
     "status": "completed"
    },
    "tags": []
   },
   "outputs": [
    {
     "name": "stdout",
     "output_type": "stream",
     "text": [
      "(552440, 5)\n"
     ]
    },
    {
     "data": {
      "text/html": [
       "<div>\n",
       "<style scoped>\n",
       "    .dataframe tbody tr th:only-of-type {\n",
       "        vertical-align: middle;\n",
       "    }\n",
       "\n",
       "    .dataframe tbody tr th {\n",
       "        vertical-align: top;\n",
       "    }\n",
       "\n",
       "    .dataframe thead th {\n",
       "        text-align: right;\n",
       "    }\n",
       "</style>\n",
       "<table border=\"1\" class=\"dataframe\">\n",
       "  <thead>\n",
       "    <tr style=\"text-align: right;\">\n",
       "      <th></th>\n",
       "      <th>Date</th>\n",
       "      <th>Country</th>\n",
       "      <th>City</th>\n",
       "      <th>Specie</th>\n",
       "      <th>count</th>\n",
       "    </tr>\n",
       "  </thead>\n",
       "  <tbody>\n",
       "    <tr>\n",
       "      <th>0</th>\n",
       "      <td>7/1/2018</td>\n",
       "      <td>HR</td>\n",
       "      <td>Zagreb</td>\n",
       "      <td>pm10</td>\n",
       "      <td>72</td>\n",
       "    </tr>\n",
       "    <tr>\n",
       "      <th>1</th>\n",
       "      <td>7/1/2018</td>\n",
       "      <td>HR</td>\n",
       "      <td>Zagreb</td>\n",
       "      <td>temperature</td>\n",
       "      <td>72</td>\n",
       "    </tr>\n",
       "    <tr>\n",
       "      <th>2</th>\n",
       "      <td>7/1/2018</td>\n",
       "      <td>HR</td>\n",
       "      <td>Zagreb</td>\n",
       "      <td>wind-speed</td>\n",
       "      <td>30</td>\n",
       "    </tr>\n",
       "    <tr>\n",
       "      <th>3</th>\n",
       "      <td>7/1/2018</td>\n",
       "      <td>HR</td>\n",
       "      <td>Zagreb</td>\n",
       "      <td>wind-gust</td>\n",
       "      <td>72</td>\n",
       "    </tr>\n",
       "    <tr>\n",
       "      <th>4</th>\n",
       "      <td>7/1/2018</td>\n",
       "      <td>HR</td>\n",
       "      <td>Zagreb</td>\n",
       "      <td>co</td>\n",
       "      <td>15</td>\n",
       "    </tr>\n",
       "    <tr>\n",
       "      <th>5</th>\n",
       "      <td>7/1/2018</td>\n",
       "      <td>HR</td>\n",
       "      <td>Zagreb</td>\n",
       "      <td>o3</td>\n",
       "      <td>23</td>\n",
       "    </tr>\n",
       "    <tr>\n",
       "      <th>6</th>\n",
       "      <td>7/1/2018</td>\n",
       "      <td>HR</td>\n",
       "      <td>Zagreb</td>\n",
       "      <td>so2</td>\n",
       "      <td>66</td>\n",
       "    </tr>\n",
       "    <tr>\n",
       "      <th>7</th>\n",
       "      <td>7/1/2018</td>\n",
       "      <td>HR</td>\n",
       "      <td>Zagreb</td>\n",
       "      <td>no2</td>\n",
       "      <td>67</td>\n",
       "    </tr>\n",
       "    <tr>\n",
       "      <th>8</th>\n",
       "      <td>7/1/2018</td>\n",
       "      <td>HR</td>\n",
       "      <td>Zagreb</td>\n",
       "      <td>humidity</td>\n",
       "      <td>72</td>\n",
       "    </tr>\n",
       "    <tr>\n",
       "      <th>9</th>\n",
       "      <td>7/1/2018</td>\n",
       "      <td>HR</td>\n",
       "      <td>Zagreb</td>\n",
       "      <td>pressure</td>\n",
       "      <td>72</td>\n",
       "    </tr>\n",
       "  </tbody>\n",
       "</table>\n",
       "</div>"
      ],
      "text/plain": [
       "       Date Country    City       Specie  count\n",
       "0  7/1/2018      HR  Zagreb         pm10     72\n",
       "1  7/1/2018      HR  Zagreb  temperature     72\n",
       "2  7/1/2018      HR  Zagreb   wind-speed     30\n",
       "3  7/1/2018      HR  Zagreb    wind-gust     72\n",
       "4  7/1/2018      HR  Zagreb           co     15\n",
       "5  7/1/2018      HR  Zagreb           o3     23\n",
       "6  7/1/2018      HR  Zagreb          so2     66\n",
       "7  7/1/2018      HR  Zagreb          no2     67\n",
       "8  7/1/2018      HR  Zagreb     humidity     72\n",
       "9  7/1/2018      HR  Zagreb     pressure     72"
      ]
     },
     "execution_count": 122,
     "metadata": {},
     "output_type": "execute_result"
    }
   ],
   "source": [
    "# Loading the data\n",
    "raw_data_2018_H1 = pd.read_csv(r\"/kaggle/input/data-for-combine/airqualitydata-2018H1.csv\")\n",
    "\n",
    "# print the shape\n",
    "print(raw_data_2018_H1.shape)\n",
    "\n",
    "#runs the first 5 rows\n",
    "raw_data_2018_H1.head(10)"
   ]
  },
  {
   "cell_type": "code",
   "execution_count": 123,
   "id": "cf131038",
   "metadata": {
    "execution": {
     "iopub.execute_input": "2024-12-30T03:22:58.324942Z",
     "iopub.status.busy": "2024-12-30T03:22:58.324597Z",
     "iopub.status.idle": "2024-12-30T03:22:58.387207Z",
     "shell.execute_reply": "2024-12-30T03:22:58.386193Z"
    },
    "id": "JPelQxICV5u7",
    "papermill": {
     "duration": 0.120597,
     "end_time": "2024-12-30T03:22:58.389231",
     "exception": false,
     "start_time": "2024-12-30T03:22:58.268634",
     "status": "completed"
    },
    "tags": []
   },
   "outputs": [],
   "source": [
    "# Convert 'Date' to datetime\n",
    "raw_data_2018_H1['Date'] = pd.to_datetime(raw_data_2018_H1['Date'])"
   ]
  },
  {
   "cell_type": "code",
   "execution_count": 124,
   "id": "5807f8e2",
   "metadata": {
    "execution": {
     "iopub.execute_input": "2024-12-30T03:22:58.501751Z",
     "iopub.status.busy": "2024-12-30T03:22:58.501364Z",
     "iopub.status.idle": "2024-12-30T03:22:58.507283Z",
     "shell.execute_reply": "2024-12-30T03:22:58.506134Z"
    },
    "executionInfo": {
     "elapsed": 5,
     "status": "ok",
     "timestamp": 1734445448690,
     "user": {
      "displayName": "Tahmida Majumder",
      "userId": "15415648085337204568"
     },
     "user_tz": -480
    },
    "id": "ZHkuZ82UV5u7",
    "outputId": "e5e8997a-e0d3-48cb-abcb-e898a59d20ca",
    "papermill": {
     "duration": 0.064207,
     "end_time": "2024-12-30T03:22:58.509067",
     "exception": false,
     "start_time": "2024-12-30T03:22:58.444860",
     "status": "completed"
    },
    "tags": []
   },
   "outputs": [
    {
     "data": {
      "text/plain": [
       "(552440, 5)"
      ]
     },
     "execution_count": 124,
     "metadata": {},
     "output_type": "execute_result"
    }
   ],
   "source": [
    "raw_data_2018_H1.shape"
   ]
  },
  {
   "cell_type": "code",
   "execution_count": 125,
   "id": "4495634f",
   "metadata": {
    "execution": {
     "iopub.execute_input": "2024-12-30T03:22:58.623693Z",
     "iopub.status.busy": "2024-12-30T03:22:58.623289Z",
     "iopub.status.idle": "2024-12-30T03:22:59.013210Z",
     "shell.execute_reply": "2024-12-30T03:22:59.011838Z"
    },
    "id": "V3SCxI-cV5u7",
    "papermill": {
     "duration": 0.450236,
     "end_time": "2024-12-30T03:22:59.015187",
     "exception": false,
     "start_time": "2024-12-30T03:22:58.564951",
     "status": "completed"
    },
    "tags": []
   },
   "outputs": [],
   "source": [
    "# Pivot the data\n",
    "data_df_2018_H1 = raw_data_2018_H1.pivot_table(\n",
    "    index=['Date', 'Country', 'City'],  # Grouping columns\n",
    "    columns='Specie',                  # Unique values become columns\n",
    "    values='count',                   # Values to aggregate\n",
    "    aggfunc='mean'                     # Aggregation function\n",
    ").reset_index()\n"
   ]
  },
  {
   "cell_type": "code",
   "execution_count": 126,
   "id": "556737a4",
   "metadata": {
    "execution": {
     "iopub.execute_input": "2024-12-30T03:22:59.130315Z",
     "iopub.status.busy": "2024-12-30T03:22:59.129918Z",
     "iopub.status.idle": "2024-12-30T03:22:59.153299Z",
     "shell.execute_reply": "2024-12-30T03:22:59.152360Z"
    },
    "executionInfo": {
     "elapsed": 13,
     "status": "ok",
     "timestamp": 1734445449140,
     "user": {
      "displayName": "Tahmida Majumder",
      "userId": "15415648085337204568"
     },
     "user_tz": -480
    },
    "id": "saMJRBpZV5u7",
    "outputId": "789956c9-ac5b-46f4-ddc0-d49b61d8df58",
    "papermill": {
     "duration": 0.081986,
     "end_time": "2024-12-30T03:22:59.154882",
     "exception": false,
     "start_time": "2024-12-30T03:22:59.072896",
     "status": "completed"
    },
    "tags": []
   },
   "outputs": [
    {
     "name": "stdout",
     "output_type": "stream",
     "text": [
      "(92410, 22)\n"
     ]
    },
    {
     "data": {
      "text/html": [
       "<div>\n",
       "<style scoped>\n",
       "    .dataframe tbody tr th:only-of-type {\n",
       "        vertical-align: middle;\n",
       "    }\n",
       "\n",
       "    .dataframe tbody tr th {\n",
       "        vertical-align: top;\n",
       "    }\n",
       "\n",
       "    .dataframe thead th {\n",
       "        text-align: right;\n",
       "    }\n",
       "</style>\n",
       "<table border=\"1\" class=\"dataframe\">\n",
       "  <thead>\n",
       "    <tr style=\"text-align: right;\">\n",
       "      <th>Specie</th>\n",
       "      <th>Date</th>\n",
       "      <th>Country</th>\n",
       "      <th>City</th>\n",
       "      <th>aqi</th>\n",
       "      <th>co</th>\n",
       "      <th>d</th>\n",
       "      <th>humidity</th>\n",
       "      <th>mepaqi</th>\n",
       "      <th>no2</th>\n",
       "      <th>o3</th>\n",
       "      <th>...</th>\n",
       "      <th>pm25</th>\n",
       "      <th>pol</th>\n",
       "      <th>precipitation</th>\n",
       "      <th>pressure</th>\n",
       "      <th>so2</th>\n",
       "      <th>temperature</th>\n",
       "      <th>uvi</th>\n",
       "      <th>wd</th>\n",
       "      <th>wind-gust</th>\n",
       "      <th>wind-speed</th>\n",
       "    </tr>\n",
       "  </thead>\n",
       "  <tbody>\n",
       "    <tr>\n",
       "      <th>0</th>\n",
       "      <td>2018-01-01</td>\n",
       "      <td>AE</td>\n",
       "      <td>Abu Dhabi</td>\n",
       "      <td>NaN</td>\n",
       "      <td>NaN</td>\n",
       "      <td>NaN</td>\n",
       "      <td>NaN</td>\n",
       "      <td>NaN</td>\n",
       "      <td>NaN</td>\n",
       "      <td>NaN</td>\n",
       "      <td>...</td>\n",
       "      <td>21.0</td>\n",
       "      <td>NaN</td>\n",
       "      <td>NaN</td>\n",
       "      <td>NaN</td>\n",
       "      <td>NaN</td>\n",
       "      <td>NaN</td>\n",
       "      <td>NaN</td>\n",
       "      <td>NaN</td>\n",
       "      <td>NaN</td>\n",
       "      <td>NaN</td>\n",
       "    </tr>\n",
       "    <tr>\n",
       "      <th>1</th>\n",
       "      <td>2018-01-01</td>\n",
       "      <td>AR</td>\n",
       "      <td>Buenos Aires</td>\n",
       "      <td>NaN</td>\n",
       "      <td>81.0</td>\n",
       "      <td>NaN</td>\n",
       "      <td>NaN</td>\n",
       "      <td>NaN</td>\n",
       "      <td>72.0</td>\n",
       "      <td>24.0</td>\n",
       "      <td>...</td>\n",
       "      <td>23.0</td>\n",
       "      <td>NaN</td>\n",
       "      <td>NaN</td>\n",
       "      <td>NaN</td>\n",
       "      <td>13.0</td>\n",
       "      <td>NaN</td>\n",
       "      <td>NaN</td>\n",
       "      <td>NaN</td>\n",
       "      <td>NaN</td>\n",
       "      <td>NaN</td>\n",
       "    </tr>\n",
       "    <tr>\n",
       "      <th>2</th>\n",
       "      <td>2018-01-01</td>\n",
       "      <td>AT</td>\n",
       "      <td>Graz</td>\n",
       "      <td>NaN</td>\n",
       "      <td>66.0</td>\n",
       "      <td>NaN</td>\n",
       "      <td>NaN</td>\n",
       "      <td>NaN</td>\n",
       "      <td>204.0</td>\n",
       "      <td>NaN</td>\n",
       "      <td>...</td>\n",
       "      <td>NaN</td>\n",
       "      <td>NaN</td>\n",
       "      <td>NaN</td>\n",
       "      <td>NaN</td>\n",
       "      <td>101.0</td>\n",
       "      <td>NaN</td>\n",
       "      <td>NaN</td>\n",
       "      <td>NaN</td>\n",
       "      <td>NaN</td>\n",
       "      <td>NaN</td>\n",
       "    </tr>\n",
       "    <tr>\n",
       "      <th>3</th>\n",
       "      <td>2018-01-01</td>\n",
       "      <td>AT</td>\n",
       "      <td>Innsbruck</td>\n",
       "      <td>NaN</td>\n",
       "      <td>18.0</td>\n",
       "      <td>NaN</td>\n",
       "      <td>NaN</td>\n",
       "      <td>NaN</td>\n",
       "      <td>92.0</td>\n",
       "      <td>NaN</td>\n",
       "      <td>...</td>\n",
       "      <td>NaN</td>\n",
       "      <td>NaN</td>\n",
       "      <td>NaN</td>\n",
       "      <td>NaN</td>\n",
       "      <td>18.0</td>\n",
       "      <td>NaN</td>\n",
       "      <td>NaN</td>\n",
       "      <td>NaN</td>\n",
       "      <td>NaN</td>\n",
       "      <td>NaN</td>\n",
       "    </tr>\n",
       "    <tr>\n",
       "      <th>4</th>\n",
       "      <td>2018-01-01</td>\n",
       "      <td>AT</td>\n",
       "      <td>Linz</td>\n",
       "      <td>NaN</td>\n",
       "      <td>111.0</td>\n",
       "      <td>NaN</td>\n",
       "      <td>NaN</td>\n",
       "      <td>NaN</td>\n",
       "      <td>158.0</td>\n",
       "      <td>NaN</td>\n",
       "      <td>...</td>\n",
       "      <td>140.0</td>\n",
       "      <td>NaN</td>\n",
       "      <td>NaN</td>\n",
       "      <td>NaN</td>\n",
       "      <td>56.0</td>\n",
       "      <td>NaN</td>\n",
       "      <td>NaN</td>\n",
       "      <td>NaN</td>\n",
       "      <td>NaN</td>\n",
       "      <td>NaN</td>\n",
       "    </tr>\n",
       "  </tbody>\n",
       "</table>\n",
       "<p>5 rows × 22 columns</p>\n",
       "</div>"
      ],
      "text/plain": [
       "Specie       Date Country          City  aqi     co   d  humidity  mepaqi  \\\n",
       "0      2018-01-01      AE     Abu Dhabi  NaN    NaN NaN       NaN     NaN   \n",
       "1      2018-01-01      AR  Buenos Aires  NaN   81.0 NaN       NaN     NaN   \n",
       "2      2018-01-01      AT          Graz  NaN   66.0 NaN       NaN     NaN   \n",
       "3      2018-01-01      AT     Innsbruck  NaN   18.0 NaN       NaN     NaN   \n",
       "4      2018-01-01      AT          Linz  NaN  111.0 NaN       NaN     NaN   \n",
       "\n",
       "Specie    no2    o3  ...   pm25  pol  precipitation  pressure    so2  \\\n",
       "0         NaN   NaN  ...   21.0  NaN            NaN       NaN    NaN   \n",
       "1        72.0  24.0  ...   23.0  NaN            NaN       NaN   13.0   \n",
       "2       204.0   NaN  ...    NaN  NaN            NaN       NaN  101.0   \n",
       "3        92.0   NaN  ...    NaN  NaN            NaN       NaN   18.0   \n",
       "4       158.0   NaN  ...  140.0  NaN            NaN       NaN   56.0   \n",
       "\n",
       "Specie  temperature  uvi  wd  wind-gust  wind-speed  \n",
       "0               NaN  NaN NaN        NaN         NaN  \n",
       "1               NaN  NaN NaN        NaN         NaN  \n",
       "2               NaN  NaN NaN        NaN         NaN  \n",
       "3               NaN  NaN NaN        NaN         NaN  \n",
       "4               NaN  NaN NaN        NaN         NaN  \n",
       "\n",
       "[5 rows x 22 columns]"
      ]
     },
     "execution_count": 126,
     "metadata": {},
     "output_type": "execute_result"
    }
   ],
   "source": [
    "print(data_df_2018_H1.shape)\n",
    "data_df_2018_H1.head()"
   ]
  },
  {
   "cell_type": "code",
   "execution_count": 127,
   "id": "67334a47",
   "metadata": {
    "execution": {
     "iopub.execute_input": "2024-12-30T03:22:59.268846Z",
     "iopub.status.busy": "2024-12-30T03:22:59.268433Z",
     "iopub.status.idle": "2024-12-30T03:22:59.287613Z",
     "shell.execute_reply": "2024-12-30T03:22:59.286623Z"
    },
    "executionInfo": {
     "elapsed": 10,
     "status": "ok",
     "timestamp": 1734445449140,
     "user": {
      "displayName": "Tahmida Majumder",
      "userId": "15415648085337204568"
     },
     "user_tz": -480
    },
    "id": "HXEnb-q1V5u7",
    "outputId": "aa296fa0-488a-4c6b-ea0f-3db7fc1837e9",
    "papermill": {
     "duration": 0.07775,
     "end_time": "2024-12-30T03:22:59.289357",
     "exception": false,
     "start_time": "2024-12-30T03:22:59.211607",
     "status": "completed"
    },
    "tags": []
   },
   "outputs": [
    {
     "data": {
      "text/plain": [
       "Specie\n",
       "Date                 0\n",
       "Country              0\n",
       "City                 0\n",
       "aqi              89157\n",
       "co               32652\n",
       "d                90397\n",
       "humidity         68770\n",
       "mepaqi           92232\n",
       "no2              12867\n",
       "o3               16072\n",
       "pm1              92249\n",
       "pm10             16901\n",
       "pm25             16184\n",
       "pol              91979\n",
       "precipitation    90576\n",
       "pressure         69101\n",
       "so2              27288\n",
       "temperature      68764\n",
       "uvi              90294\n",
       "wd               88246\n",
       "wind-gust        77551\n",
       "wind-speed       72070\n",
       "dtype: int64"
      ]
     },
     "execution_count": 127,
     "metadata": {},
     "output_type": "execute_result"
    }
   ],
   "source": [
    "data_df_2018_H1.isnull().sum()"
   ]
  },
  {
   "cell_type": "code",
   "execution_count": null,
   "id": "b7f05cfb",
   "metadata": {
    "id": "LrH9cHRcV4GW",
    "papermill": {
     "duration": 0.055977,
     "end_time": "2024-12-30T03:22:59.402105",
     "exception": false,
     "start_time": "2024-12-30T03:22:59.346128",
     "status": "completed"
    },
    "tags": []
   },
   "outputs": [],
   "source": []
  },
  {
   "cell_type": "markdown",
   "id": "890949a3",
   "metadata": {
    "id": "MMOZkreeWbiJ",
    "papermill": {
     "duration": 0.055767,
     "end_time": "2024-12-30T03:22:59.513825",
     "exception": false,
     "start_time": "2024-12-30T03:22:59.458058",
     "status": "completed"
    },
    "tags": []
   },
   "source": [
    "# 2017_H1"
   ]
  },
  {
   "cell_type": "code",
   "execution_count": 128,
   "id": "5a9eadb8",
   "metadata": {
    "execution": {
     "iopub.execute_input": "2024-12-30T03:22:59.630729Z",
     "iopub.status.busy": "2024-12-30T03:22:59.630343Z",
     "iopub.status.idle": "2024-12-30T03:23:00.040383Z",
     "shell.execute_reply": "2024-12-30T03:23:00.039368Z"
    },
    "executionInfo": {
     "elapsed": 1232,
     "status": "ok",
     "timestamp": 1734445450364,
     "user": {
      "displayName": "Tahmida Majumder",
      "userId": "15415648085337204568"
     },
     "user_tz": -480
    },
    "id": "gTFzIl_eWbiJ",
    "outputId": "99cf2c57-f316-46ef-9ac6-71f03c00eeec",
    "papermill": {
     "duration": 0.472121,
     "end_time": "2024-12-30T03:23:00.042079",
     "exception": false,
     "start_time": "2024-12-30T03:22:59.569958",
     "status": "completed"
    },
    "tags": []
   },
   "outputs": [
    {
     "name": "stdout",
     "output_type": "stream",
     "text": [
      "(427974, 5)\n"
     ]
    },
    {
     "data": {
      "text/html": [
       "<div>\n",
       "<style scoped>\n",
       "    .dataframe tbody tr th:only-of-type {\n",
       "        vertical-align: middle;\n",
       "    }\n",
       "\n",
       "    .dataframe tbody tr th {\n",
       "        vertical-align: top;\n",
       "    }\n",
       "\n",
       "    .dataframe thead th {\n",
       "        text-align: right;\n",
       "    }\n",
       "</style>\n",
       "<table border=\"1\" class=\"dataframe\">\n",
       "  <thead>\n",
       "    <tr style=\"text-align: right;\">\n",
       "      <th></th>\n",
       "      <th>Date</th>\n",
       "      <th>Country</th>\n",
       "      <th>City</th>\n",
       "      <th>Specie</th>\n",
       "      <th>count</th>\n",
       "    </tr>\n",
       "  </thead>\n",
       "  <tbody>\n",
       "    <tr>\n",
       "      <th>0</th>\n",
       "      <td>7/2/2017</td>\n",
       "      <td>CN</td>\n",
       "      <td>Beijing</td>\n",
       "      <td>co</td>\n",
       "      <td>412</td>\n",
       "    </tr>\n",
       "    <tr>\n",
       "      <th>1</th>\n",
       "      <td>7/2/2017</td>\n",
       "      <td>CN</td>\n",
       "      <td>Beijing</td>\n",
       "      <td>pm10</td>\n",
       "      <td>274</td>\n",
       "    </tr>\n",
       "    <tr>\n",
       "      <th>2</th>\n",
       "      <td>7/2/2017</td>\n",
       "      <td>CN</td>\n",
       "      <td>Beijing</td>\n",
       "      <td>o3</td>\n",
       "      <td>426</td>\n",
       "    </tr>\n",
       "    <tr>\n",
       "      <th>3</th>\n",
       "      <td>7/2/2017</td>\n",
       "      <td>CN</td>\n",
       "      <td>Beijing</td>\n",
       "      <td>so2</td>\n",
       "      <td>330</td>\n",
       "    </tr>\n",
       "    <tr>\n",
       "      <th>4</th>\n",
       "      <td>7/2/2017</td>\n",
       "      <td>CN</td>\n",
       "      <td>Beijing</td>\n",
       "      <td>pm25</td>\n",
       "      <td>405</td>\n",
       "    </tr>\n",
       "    <tr>\n",
       "      <th>5</th>\n",
       "      <td>7/2/2017</td>\n",
       "      <td>CN</td>\n",
       "      <td>Beijing</td>\n",
       "      <td>no2</td>\n",
       "      <td>405</td>\n",
       "    </tr>\n",
       "    <tr>\n",
       "      <th>6</th>\n",
       "      <td>7/2/2017</td>\n",
       "      <td>CN</td>\n",
       "      <td>Jieyang</td>\n",
       "      <td>pm25</td>\n",
       "      <td>142</td>\n",
       "    </tr>\n",
       "    <tr>\n",
       "      <th>7</th>\n",
       "      <td>7/2/2017</td>\n",
       "      <td>CN</td>\n",
       "      <td>Jieyang</td>\n",
       "      <td>no2</td>\n",
       "      <td>144</td>\n",
       "    </tr>\n",
       "    <tr>\n",
       "      <th>8</th>\n",
       "      <td>7/2/2017</td>\n",
       "      <td>CN</td>\n",
       "      <td>Jieyang</td>\n",
       "      <td>co</td>\n",
       "      <td>132</td>\n",
       "    </tr>\n",
       "    <tr>\n",
       "      <th>9</th>\n",
       "      <td>7/2/2017</td>\n",
       "      <td>CN</td>\n",
       "      <td>Jieyang</td>\n",
       "      <td>pm10</td>\n",
       "      <td>135</td>\n",
       "    </tr>\n",
       "  </tbody>\n",
       "</table>\n",
       "</div>"
      ],
      "text/plain": [
       "       Date Country     City Specie  count\n",
       "0  7/2/2017      CN  Beijing     co    412\n",
       "1  7/2/2017      CN  Beijing   pm10    274\n",
       "2  7/2/2017      CN  Beijing     o3    426\n",
       "3  7/2/2017      CN  Beijing    so2    330\n",
       "4  7/2/2017      CN  Beijing   pm25    405\n",
       "5  7/2/2017      CN  Beijing    no2    405\n",
       "6  7/2/2017      CN  Jieyang   pm25    142\n",
       "7  7/2/2017      CN  Jieyang    no2    144\n",
       "8  7/2/2017      CN  Jieyang     co    132\n",
       "9  7/2/2017      CN  Jieyang   pm10    135"
      ]
     },
     "execution_count": 128,
     "metadata": {},
     "output_type": "execute_result"
    }
   ],
   "source": [
    "# Loading the data\n",
    "raw_data_2017_H1 = pd.read_csv(r\"/kaggle/input/data-for-combine/airqualitydata-2017H1.csv\")\n",
    "\n",
    "# print the shape\n",
    "print(raw_data_2017_H1.shape)\n",
    "\n",
    "#runs the first 5 rows\n",
    "raw_data_2017_H1.head(10)"
   ]
  },
  {
   "cell_type": "code",
   "execution_count": 129,
   "id": "ff18d89e",
   "metadata": {
    "execution": {
     "iopub.execute_input": "2024-12-30T03:23:00.155314Z",
     "iopub.status.busy": "2024-12-30T03:23:00.154985Z",
     "iopub.status.idle": "2024-12-30T03:23:00.204283Z",
     "shell.execute_reply": "2024-12-30T03:23:00.203310Z"
    },
    "id": "Lnzv_vyuWbiJ",
    "papermill": {
     "duration": 0.108039,
     "end_time": "2024-12-30T03:23:00.206299",
     "exception": false,
     "start_time": "2024-12-30T03:23:00.098260",
     "status": "completed"
    },
    "tags": []
   },
   "outputs": [],
   "source": [
    "# Convert 'Date' to datetime\n",
    "raw_data_2017_H1['Date'] = pd.to_datetime(raw_data_2017_H1['Date'])"
   ]
  },
  {
   "cell_type": "code",
   "execution_count": 130,
   "id": "095a1130",
   "metadata": {
    "execution": {
     "iopub.execute_input": "2024-12-30T03:23:00.319925Z",
     "iopub.status.busy": "2024-12-30T03:23:00.319556Z",
     "iopub.status.idle": "2024-12-30T03:23:00.325030Z",
     "shell.execute_reply": "2024-12-30T03:23:00.324216Z"
    },
    "executionInfo": {
     "elapsed": 15,
     "status": "ok",
     "timestamp": 1734445450364,
     "user": {
      "displayName": "Tahmida Majumder",
      "userId": "15415648085337204568"
     },
     "user_tz": -480
    },
    "id": "sE_T9b0-WbiJ",
    "outputId": "04196de5-0cf9-4b4e-bcc7-a24814a8cbe2",
    "papermill": {
     "duration": 0.063685,
     "end_time": "2024-12-30T03:23:00.326397",
     "exception": false,
     "start_time": "2024-12-30T03:23:00.262712",
     "status": "completed"
    },
    "tags": []
   },
   "outputs": [
    {
     "data": {
      "text/plain": [
       "(427974, 5)"
      ]
     },
     "execution_count": 130,
     "metadata": {},
     "output_type": "execute_result"
    }
   ],
   "source": [
    "raw_data_2017_H1.shape"
   ]
  },
  {
   "cell_type": "code",
   "execution_count": 131,
   "id": "a1a1891e",
   "metadata": {
    "execution": {
     "iopub.execute_input": "2024-12-30T03:23:00.439460Z",
     "iopub.status.busy": "2024-12-30T03:23:00.439128Z",
     "iopub.status.idle": "2024-12-30T03:23:00.726112Z",
     "shell.execute_reply": "2024-12-30T03:23:00.725212Z"
    },
    "id": "B1LZaSuFWbiK",
    "papermill": {
     "duration": 0.34575,
     "end_time": "2024-12-30T03:23:00.728052",
     "exception": false,
     "start_time": "2024-12-30T03:23:00.382302",
     "status": "completed"
    },
    "tags": []
   },
   "outputs": [],
   "source": [
    "# Pivot the data\n",
    "data_df_2017_H1 = raw_data_2017_H1.pivot_table(\n",
    "    index=['Date', 'Country', 'City'],  # Grouping columns\n",
    "    columns='Specie',                  # Unique values become columns\n",
    "    values='count',                   # Values to aggregate\n",
    "    aggfunc='mean'                     # Aggregation function\n",
    ").reset_index()\n"
   ]
  },
  {
   "cell_type": "code",
   "execution_count": 132,
   "id": "88e9b0d1",
   "metadata": {
    "execution": {
     "iopub.execute_input": "2024-12-30T03:23:00.841228Z",
     "iopub.status.busy": "2024-12-30T03:23:00.840901Z",
     "iopub.status.idle": "2024-12-30T03:23:00.864218Z",
     "shell.execute_reply": "2024-12-30T03:23:00.863174Z"
    },
    "executionInfo": {
     "elapsed": 13,
     "status": "ok",
     "timestamp": 1734445450364,
     "user": {
      "displayName": "Tahmida Majumder",
      "userId": "15415648085337204568"
     },
     "user_tz": -480
    },
    "id": "ZUeeQdFoWbiK",
    "outputId": "8d1a07b8-68eb-40f6-8b94-4c0557aa1cd3",
    "papermill": {
     "duration": 0.081825,
     "end_time": "2024-12-30T03:23:00.865869",
     "exception": false,
     "start_time": "2024-12-30T03:23:00.784044",
     "status": "completed"
    },
    "tags": []
   },
   "outputs": [
    {
     "name": "stdout",
     "output_type": "stream",
     "text": [
      "(88640, 21)\n"
     ]
    },
    {
     "data": {
      "text/html": [
       "<div>\n",
       "<style scoped>\n",
       "    .dataframe tbody tr th:only-of-type {\n",
       "        vertical-align: middle;\n",
       "    }\n",
       "\n",
       "    .dataframe tbody tr th {\n",
       "        vertical-align: top;\n",
       "    }\n",
       "\n",
       "    .dataframe thead th {\n",
       "        text-align: right;\n",
       "    }\n",
       "</style>\n",
       "<table border=\"1\" class=\"dataframe\">\n",
       "  <thead>\n",
       "    <tr style=\"text-align: right;\">\n",
       "      <th>Specie</th>\n",
       "      <th>Date</th>\n",
       "      <th>Country</th>\n",
       "      <th>City</th>\n",
       "      <th>aqi</th>\n",
       "      <th>co</th>\n",
       "      <th>d</th>\n",
       "      <th>humidity</th>\n",
       "      <th>mepaqi</th>\n",
       "      <th>neph</th>\n",
       "      <th>no2</th>\n",
       "      <th>...</th>\n",
       "      <th>pm1</th>\n",
       "      <th>pm10</th>\n",
       "      <th>pm25</th>\n",
       "      <th>pol</th>\n",
       "      <th>pressure</th>\n",
       "      <th>so2</th>\n",
       "      <th>temperature</th>\n",
       "      <th>uvi</th>\n",
       "      <th>wd</th>\n",
       "      <th>wind-speed</th>\n",
       "    </tr>\n",
       "  </thead>\n",
       "  <tbody>\n",
       "    <tr>\n",
       "      <th>0</th>\n",
       "      <td>2016-12-26</td>\n",
       "      <td>AR</td>\n",
       "      <td>Buenos Aires</td>\n",
       "      <td>NaN</td>\n",
       "      <td>15.0</td>\n",
       "      <td>NaN</td>\n",
       "      <td>NaN</td>\n",
       "      <td>NaN</td>\n",
       "      <td>NaN</td>\n",
       "      <td>NaN</td>\n",
       "      <td>...</td>\n",
       "      <td>NaN</td>\n",
       "      <td>24.0</td>\n",
       "      <td>24.0</td>\n",
       "      <td>NaN</td>\n",
       "      <td>NaN</td>\n",
       "      <td>20.0</td>\n",
       "      <td>NaN</td>\n",
       "      <td>NaN</td>\n",
       "      <td>NaN</td>\n",
       "      <td>NaN</td>\n",
       "    </tr>\n",
       "    <tr>\n",
       "      <th>1</th>\n",
       "      <td>2016-12-26</td>\n",
       "      <td>AT</td>\n",
       "      <td>Graz</td>\n",
       "      <td>NaN</td>\n",
       "      <td>69.0</td>\n",
       "      <td>NaN</td>\n",
       "      <td>NaN</td>\n",
       "      <td>NaN</td>\n",
       "      <td>NaN</td>\n",
       "      <td>215.0</td>\n",
       "      <td>...</td>\n",
       "      <td>NaN</td>\n",
       "      <td>239.0</td>\n",
       "      <td>NaN</td>\n",
       "      <td>NaN</td>\n",
       "      <td>NaN</td>\n",
       "      <td>79.0</td>\n",
       "      <td>NaN</td>\n",
       "      <td>NaN</td>\n",
       "      <td>NaN</td>\n",
       "      <td>NaN</td>\n",
       "    </tr>\n",
       "    <tr>\n",
       "      <th>2</th>\n",
       "      <td>2016-12-26</td>\n",
       "      <td>AT</td>\n",
       "      <td>Innsbruck</td>\n",
       "      <td>NaN</td>\n",
       "      <td>21.0</td>\n",
       "      <td>NaN</td>\n",
       "      <td>NaN</td>\n",
       "      <td>NaN</td>\n",
       "      <td>NaN</td>\n",
       "      <td>84.0</td>\n",
       "      <td>...</td>\n",
       "      <td>NaN</td>\n",
       "      <td>82.0</td>\n",
       "      <td>NaN</td>\n",
       "      <td>NaN</td>\n",
       "      <td>NaN</td>\n",
       "      <td>20.0</td>\n",
       "      <td>NaN</td>\n",
       "      <td>NaN</td>\n",
       "      <td>NaN</td>\n",
       "      <td>NaN</td>\n",
       "    </tr>\n",
       "    <tr>\n",
       "      <th>3</th>\n",
       "      <td>2016-12-26</td>\n",
       "      <td>AT</td>\n",
       "      <td>Linz</td>\n",
       "      <td>NaN</td>\n",
       "      <td>50.0</td>\n",
       "      <td>NaN</td>\n",
       "      <td>NaN</td>\n",
       "      <td>NaN</td>\n",
       "      <td>NaN</td>\n",
       "      <td>159.0</td>\n",
       "      <td>...</td>\n",
       "      <td>NaN</td>\n",
       "      <td>160.0</td>\n",
       "      <td>146.0</td>\n",
       "      <td>NaN</td>\n",
       "      <td>NaN</td>\n",
       "      <td>34.0</td>\n",
       "      <td>NaN</td>\n",
       "      <td>NaN</td>\n",
       "      <td>NaN</td>\n",
       "      <td>NaN</td>\n",
       "    </tr>\n",
       "    <tr>\n",
       "      <th>4</th>\n",
       "      <td>2016-12-26</td>\n",
       "      <td>AT</td>\n",
       "      <td>Salzburg</td>\n",
       "      <td>NaN</td>\n",
       "      <td>66.0</td>\n",
       "      <td>NaN</td>\n",
       "      <td>NaN</td>\n",
       "      <td>NaN</td>\n",
       "      <td>NaN</td>\n",
       "      <td>88.0</td>\n",
       "      <td>...</td>\n",
       "      <td>NaN</td>\n",
       "      <td>71.0</td>\n",
       "      <td>NaN</td>\n",
       "      <td>NaN</td>\n",
       "      <td>NaN</td>\n",
       "      <td>16.0</td>\n",
       "      <td>NaN</td>\n",
       "      <td>NaN</td>\n",
       "      <td>NaN</td>\n",
       "      <td>NaN</td>\n",
       "    </tr>\n",
       "  </tbody>\n",
       "</table>\n",
       "<p>5 rows × 21 columns</p>\n",
       "</div>"
      ],
      "text/plain": [
       "Specie       Date Country          City  aqi    co   d  humidity  mepaqi  \\\n",
       "0      2016-12-26      AR  Buenos Aires  NaN  15.0 NaN       NaN     NaN   \n",
       "1      2016-12-26      AT          Graz  NaN  69.0 NaN       NaN     NaN   \n",
       "2      2016-12-26      AT     Innsbruck  NaN  21.0 NaN       NaN     NaN   \n",
       "3      2016-12-26      AT          Linz  NaN  50.0 NaN       NaN     NaN   \n",
       "4      2016-12-26      AT      Salzburg  NaN  66.0 NaN       NaN     NaN   \n",
       "\n",
       "Specie  neph    no2  ...  pm1   pm10   pm25  pol  pressure   so2  temperature  \\\n",
       "0        NaN    NaN  ...  NaN   24.0   24.0  NaN       NaN  20.0          NaN   \n",
       "1        NaN  215.0  ...  NaN  239.0    NaN  NaN       NaN  79.0          NaN   \n",
       "2        NaN   84.0  ...  NaN   82.0    NaN  NaN       NaN  20.0          NaN   \n",
       "3        NaN  159.0  ...  NaN  160.0  146.0  NaN       NaN  34.0          NaN   \n",
       "4        NaN   88.0  ...  NaN   71.0    NaN  NaN       NaN  16.0          NaN   \n",
       "\n",
       "Specie  uvi  wd  wind-speed  \n",
       "0       NaN NaN         NaN  \n",
       "1       NaN NaN         NaN  \n",
       "2       NaN NaN         NaN  \n",
       "3       NaN NaN         NaN  \n",
       "4       NaN NaN         NaN  \n",
       "\n",
       "[5 rows x 21 columns]"
      ]
     },
     "execution_count": 132,
     "metadata": {},
     "output_type": "execute_result"
    }
   ],
   "source": [
    "print(data_df_2017_H1.shape)\n",
    "data_df_2017_H1.head()"
   ]
  },
  {
   "cell_type": "code",
   "execution_count": 133,
   "id": "58d9fa0e",
   "metadata": {
    "execution": {
     "iopub.execute_input": "2024-12-30T03:23:00.981284Z",
     "iopub.status.busy": "2024-12-30T03:23:00.980943Z",
     "iopub.status.idle": "2024-12-30T03:23:00.999002Z",
     "shell.execute_reply": "2024-12-30T03:23:00.997982Z"
    },
    "executionInfo": {
     "elapsed": 11,
     "status": "ok",
     "timestamp": 1734445450365,
     "user": {
      "displayName": "Tahmida Majumder",
      "userId": "15415648085337204568"
     },
     "user_tz": -480
    },
    "id": "fayUPva7WbiK",
    "outputId": "930137a7-f030-4094-d89b-ae7c91fb0979",
    "papermill": {
     "duration": 0.07762,
     "end_time": "2024-12-30T03:23:01.000562",
     "exception": false,
     "start_time": "2024-12-30T03:23:00.922942",
     "status": "completed"
    },
    "tags": []
   },
   "outputs": [
    {
     "data": {
      "text/plain": [
       "Specie\n",
       "Date               0\n",
       "Country            0\n",
       "City               0\n",
       "aqi            86591\n",
       "co             30374\n",
       "d              88622\n",
       "humidity       88493\n",
       "mepaqi         88451\n",
       "neph           88100\n",
       "no2            10738\n",
       "o3             12809\n",
       "pm1            88425\n",
       "pm10           16164\n",
       "pm25           13666\n",
       "pol            88438\n",
       "pressure       88507\n",
       "so2            25932\n",
       "temperature    88493\n",
       "uvi            86525\n",
       "wd             88610\n",
       "wind-speed     88608\n",
       "dtype: int64"
      ]
     },
     "execution_count": 133,
     "metadata": {},
     "output_type": "execute_result"
    }
   ],
   "source": [
    "data_df_2017_H1.isnull().sum()"
   ]
  },
  {
   "cell_type": "code",
   "execution_count": null,
   "id": "1f1bb699",
   "metadata": {
    "id": "0UJPBKFuWa3t",
    "papermill": {
     "duration": 0.056532,
     "end_time": "2024-12-30T03:23:01.114248",
     "exception": false,
     "start_time": "2024-12-30T03:23:01.057716",
     "status": "completed"
    },
    "tags": []
   },
   "outputs": [],
   "source": []
  },
  {
   "cell_type": "markdown",
   "id": "8336975f",
   "metadata": {
    "id": "tyiqL55NW0Jb",
    "papermill": {
     "duration": 0.056824,
     "end_time": "2024-12-30T03:23:01.228215",
     "exception": false,
     "start_time": "2024-12-30T03:23:01.171391",
     "status": "completed"
    },
    "tags": []
   },
   "source": [
    "# 2016_H1"
   ]
  },
  {
   "cell_type": "code",
   "execution_count": 134,
   "id": "eeb38c95",
   "metadata": {
    "execution": {
     "iopub.execute_input": "2024-12-30T03:23:01.344306Z",
     "iopub.status.busy": "2024-12-30T03:23:01.343974Z",
     "iopub.status.idle": "2024-12-30T03:23:01.787291Z",
     "shell.execute_reply": "2024-12-30T03:23:01.786009Z"
    },
    "executionInfo": {
     "elapsed": 871,
     "status": "ok",
     "timestamp": 1734445451226,
     "user": {
      "displayName": "Tahmida Majumder",
      "userId": "15415648085337204568"
     },
     "user_tz": -480
    },
    "id": "A0oX3oOmW0Jc",
    "outputId": "b6d471b6-9709-4de1-9746-16490d2fee20",
    "papermill": {
     "duration": 0.503254,
     "end_time": "2024-12-30T03:23:01.789100",
     "exception": false,
     "start_time": "2024-12-30T03:23:01.285846",
     "status": "completed"
    },
    "tags": []
   },
   "outputs": [
    {
     "name": "stdout",
     "output_type": "stream",
     "text": [
      "(413840, 5)\n"
     ]
    },
    {
     "data": {
      "text/html": [
       "<div>\n",
       "<style scoped>\n",
       "    .dataframe tbody tr th:only-of-type {\n",
       "        vertical-align: middle;\n",
       "    }\n",
       "\n",
       "    .dataframe tbody tr th {\n",
       "        vertical-align: top;\n",
       "    }\n",
       "\n",
       "    .dataframe thead th {\n",
       "        text-align: right;\n",
       "    }\n",
       "</style>\n",
       "<table border=\"1\" class=\"dataframe\">\n",
       "  <thead>\n",
       "    <tr style=\"text-align: right;\">\n",
       "      <th></th>\n",
       "      <th>Date</th>\n",
       "      <th>Country</th>\n",
       "      <th>City</th>\n",
       "      <th>Specie</th>\n",
       "      <th>count</th>\n",
       "    </tr>\n",
       "  </thead>\n",
       "  <tbody>\n",
       "    <tr>\n",
       "      <th>0</th>\n",
       "      <td>7/3/2016</td>\n",
       "      <td>SE</td>\n",
       "      <td>Stockholm</td>\n",
       "      <td>o3</td>\n",
       "      <td>24</td>\n",
       "    </tr>\n",
       "    <tr>\n",
       "      <th>1</th>\n",
       "      <td>7/3/2016</td>\n",
       "      <td>SE</td>\n",
       "      <td>Stockholm</td>\n",
       "      <td>pm25</td>\n",
       "      <td>48</td>\n",
       "    </tr>\n",
       "    <tr>\n",
       "      <th>2</th>\n",
       "      <td>7/3/2016</td>\n",
       "      <td>SE</td>\n",
       "      <td>Stockholm</td>\n",
       "      <td>no2</td>\n",
       "      <td>120</td>\n",
       "    </tr>\n",
       "    <tr>\n",
       "      <th>3</th>\n",
       "      <td>7/3/2016</td>\n",
       "      <td>SE</td>\n",
       "      <td>Stockholm</td>\n",
       "      <td>pm10</td>\n",
       "      <td>119</td>\n",
       "    </tr>\n",
       "    <tr>\n",
       "      <th>4</th>\n",
       "      <td>7/3/2016</td>\n",
       "      <td>SE</td>\n",
       "      <td>Malmö</td>\n",
       "      <td>pm10</td>\n",
       "      <td>24</td>\n",
       "    </tr>\n",
       "    <tr>\n",
       "      <th>5</th>\n",
       "      <td>7/3/2016</td>\n",
       "      <td>SE</td>\n",
       "      <td>Malmö</td>\n",
       "      <td>o3</td>\n",
       "      <td>24</td>\n",
       "    </tr>\n",
       "    <tr>\n",
       "      <th>6</th>\n",
       "      <td>7/3/2016</td>\n",
       "      <td>SE</td>\n",
       "      <td>Malmö</td>\n",
       "      <td>pm25</td>\n",
       "      <td>24</td>\n",
       "    </tr>\n",
       "    <tr>\n",
       "      <th>7</th>\n",
       "      <td>7/3/2016</td>\n",
       "      <td>SE</td>\n",
       "      <td>Malmö</td>\n",
       "      <td>no2</td>\n",
       "      <td>24</td>\n",
       "    </tr>\n",
       "    <tr>\n",
       "      <th>8</th>\n",
       "      <td>7/3/2016</td>\n",
       "      <td>SE</td>\n",
       "      <td>Uppsala</td>\n",
       "      <td>pm10</td>\n",
       "      <td>48</td>\n",
       "    </tr>\n",
       "    <tr>\n",
       "      <th>9</th>\n",
       "      <td>7/3/2016</td>\n",
       "      <td>SE</td>\n",
       "      <td>Uppsala</td>\n",
       "      <td>no2</td>\n",
       "      <td>48</td>\n",
       "    </tr>\n",
       "  </tbody>\n",
       "</table>\n",
       "</div>"
      ],
      "text/plain": [
       "       Date Country       City Specie  count\n",
       "0  7/3/2016      SE  Stockholm     o3     24\n",
       "1  7/3/2016      SE  Stockholm   pm25     48\n",
       "2  7/3/2016      SE  Stockholm    no2    120\n",
       "3  7/3/2016      SE  Stockholm   pm10    119\n",
       "4  7/3/2016      SE      Malmö   pm10     24\n",
       "5  7/3/2016      SE      Malmö     o3     24\n",
       "6  7/3/2016      SE      Malmö   pm25     24\n",
       "7  7/3/2016      SE      Malmö    no2     24\n",
       "8  7/3/2016      SE    Uppsala   pm10     48\n",
       "9  7/3/2016      SE    Uppsala    no2     48"
      ]
     },
     "execution_count": 134,
     "metadata": {},
     "output_type": "execute_result"
    }
   ],
   "source": [
    "# Loading the data\n",
    "raw_data_2016_H1 = pd.read_csv(r\"/kaggle/input/data-for-combine/airqualitydata-2016H1.csv\")\n",
    "\n",
    "# print the shape\n",
    "print(raw_data_2016_H1.shape)\n",
    "\n",
    "#runs the first 5 rows\n",
    "raw_data_2016_H1.head(10)"
   ]
  },
  {
   "cell_type": "code",
   "execution_count": 135,
   "id": "d6eabef7",
   "metadata": {
    "execution": {
     "iopub.execute_input": "2024-12-30T03:23:01.921028Z",
     "iopub.status.busy": "2024-12-30T03:23:01.920638Z",
     "iopub.status.idle": "2024-12-30T03:23:01.974522Z",
     "shell.execute_reply": "2024-12-30T03:23:01.973102Z"
    },
    "id": "pQoiKds5W0Jc",
    "papermill": {
     "duration": 0.127663,
     "end_time": "2024-12-30T03:23:01.977855",
     "exception": false,
     "start_time": "2024-12-30T03:23:01.850192",
     "status": "completed"
    },
    "tags": []
   },
   "outputs": [],
   "source": [
    "# Convert 'Date' to datetime\n",
    "raw_data_2016_H1['Date'] = pd.to_datetime(raw_data_2016_H1['Date'])"
   ]
  },
  {
   "cell_type": "code",
   "execution_count": 136,
   "id": "e431e2ba",
   "metadata": {
    "execution": {
     "iopub.execute_input": "2024-12-30T03:23:02.111368Z",
     "iopub.status.busy": "2024-12-30T03:23:02.110879Z",
     "iopub.status.idle": "2024-12-30T03:23:02.117749Z",
     "shell.execute_reply": "2024-12-30T03:23:02.116489Z"
    },
    "executionInfo": {
     "elapsed": 9,
     "status": "ok",
     "timestamp": 1734445451226,
     "user": {
      "displayName": "Tahmida Majumder",
      "userId": "15415648085337204568"
     },
     "user_tz": -480
    },
    "id": "i7ywTKmBW0Jc",
    "outputId": "6ac79b3d-acac-4d2b-f332-edb1a90399ed",
    "papermill": {
     "duration": 0.069563,
     "end_time": "2024-12-30T03:23:02.119636",
     "exception": false,
     "start_time": "2024-12-30T03:23:02.050073",
     "status": "completed"
    },
    "tags": []
   },
   "outputs": [
    {
     "data": {
      "text/plain": [
       "(413840, 5)"
      ]
     },
     "execution_count": 136,
     "metadata": {},
     "output_type": "execute_result"
    }
   ],
   "source": [
    "raw_data_2016_H1.shape"
   ]
  },
  {
   "cell_type": "code",
   "execution_count": 137,
   "id": "ed12826d",
   "metadata": {
    "execution": {
     "iopub.execute_input": "2024-12-30T03:23:02.238907Z",
     "iopub.status.busy": "2024-12-30T03:23:02.238517Z",
     "iopub.status.idle": "2024-12-30T03:23:02.517233Z",
     "shell.execute_reply": "2024-12-30T03:23:02.515985Z"
    },
    "id": "5Yu3LLm9W0Jc",
    "papermill": {
     "duration": 0.340768,
     "end_time": "2024-12-30T03:23:02.519760",
     "exception": false,
     "start_time": "2024-12-30T03:23:02.178992",
     "status": "completed"
    },
    "tags": []
   },
   "outputs": [],
   "source": [
    "# Pivot the data\n",
    "data_df_2016_H1 = raw_data_2016_H1.pivot_table(\n",
    "    index=['Date', 'Country', 'City'],  # Grouping columns\n",
    "    columns='Specie',                  # Unique values become columns\n",
    "    values='count',                   # Values to aggregate\n",
    "    aggfunc='mean'                     # Aggregation function\n",
    ").reset_index()\n"
   ]
  },
  {
   "cell_type": "code",
   "execution_count": 138,
   "id": "f48cf54a",
   "metadata": {
    "execution": {
     "iopub.execute_input": "2024-12-30T03:23:02.649908Z",
     "iopub.status.busy": "2024-12-30T03:23:02.649515Z",
     "iopub.status.idle": "2024-12-30T03:23:02.668736Z",
     "shell.execute_reply": "2024-12-30T03:23:02.667581Z"
    },
    "executionInfo": {
     "elapsed": 407,
     "status": "ok",
     "timestamp": 1734445451627,
     "user": {
      "displayName": "Tahmida Majumder",
      "userId": "15415648085337204568"
     },
     "user_tz": -480
    },
    "id": "NOMXGHXbW0Jc",
    "outputId": "c875047d-b804-4179-ecb4-ab92a18deccb",
    "papermill": {
     "duration": 0.085837,
     "end_time": "2024-12-30T03:23:02.670126",
     "exception": false,
     "start_time": "2024-12-30T03:23:02.584289",
     "status": "completed"
    },
    "tags": []
   },
   "outputs": [
    {
     "name": "stdout",
     "output_type": "stream",
     "text": [
      "(86762, 15)\n"
     ]
    },
    {
     "data": {
      "text/html": [
       "<div>\n",
       "<style scoped>\n",
       "    .dataframe tbody tr th:only-of-type {\n",
       "        vertical-align: middle;\n",
       "    }\n",
       "\n",
       "    .dataframe tbody tr th {\n",
       "        vertical-align: top;\n",
       "    }\n",
       "\n",
       "    .dataframe thead th {\n",
       "        text-align: right;\n",
       "    }\n",
       "</style>\n",
       "<table border=\"1\" class=\"dataframe\">\n",
       "  <thead>\n",
       "    <tr style=\"text-align: right;\">\n",
       "      <th>Specie</th>\n",
       "      <th>Date</th>\n",
       "      <th>Country</th>\n",
       "      <th>City</th>\n",
       "      <th>aqi</th>\n",
       "      <th>co</th>\n",
       "      <th>mepaqi</th>\n",
       "      <th>neph</th>\n",
       "      <th>no2</th>\n",
       "      <th>o3</th>\n",
       "      <th>pm10</th>\n",
       "      <th>pm25</th>\n",
       "      <th>pol</th>\n",
       "      <th>psi</th>\n",
       "      <th>so2</th>\n",
       "      <th>uvi</th>\n",
       "    </tr>\n",
       "  </thead>\n",
       "  <tbody>\n",
       "    <tr>\n",
       "      <th>0</th>\n",
       "      <td>2015-12-28</td>\n",
       "      <td>AE</td>\n",
       "      <td>Dubai</td>\n",
       "      <td>NaN</td>\n",
       "      <td>119.0</td>\n",
       "      <td>NaN</td>\n",
       "      <td>NaN</td>\n",
       "      <td>115.0</td>\n",
       "      <td>77.0</td>\n",
       "      <td>41.0</td>\n",
       "      <td>96.0</td>\n",
       "      <td>NaN</td>\n",
       "      <td>NaN</td>\n",
       "      <td>100.0</td>\n",
       "      <td>NaN</td>\n",
       "    </tr>\n",
       "    <tr>\n",
       "      <th>1</th>\n",
       "      <td>2015-12-28</td>\n",
       "      <td>AT</td>\n",
       "      <td>Graz</td>\n",
       "      <td>NaN</td>\n",
       "      <td>65.0</td>\n",
       "      <td>NaN</td>\n",
       "      <td>NaN</td>\n",
       "      <td>198.0</td>\n",
       "      <td>NaN</td>\n",
       "      <td>240.0</td>\n",
       "      <td>NaN</td>\n",
       "      <td>NaN</td>\n",
       "      <td>NaN</td>\n",
       "      <td>103.0</td>\n",
       "      <td>NaN</td>\n",
       "    </tr>\n",
       "    <tr>\n",
       "      <th>2</th>\n",
       "      <td>2015-12-28</td>\n",
       "      <td>AT</td>\n",
       "      <td>Innsbruck</td>\n",
       "      <td>NaN</td>\n",
       "      <td>22.0</td>\n",
       "      <td>NaN</td>\n",
       "      <td>NaN</td>\n",
       "      <td>90.0</td>\n",
       "      <td>NaN</td>\n",
       "      <td>85.0</td>\n",
       "      <td>NaN</td>\n",
       "      <td>NaN</td>\n",
       "      <td>NaN</td>\n",
       "      <td>22.0</td>\n",
       "      <td>NaN</td>\n",
       "    </tr>\n",
       "    <tr>\n",
       "      <th>3</th>\n",
       "      <td>2015-12-28</td>\n",
       "      <td>AT</td>\n",
       "      <td>Linz</td>\n",
       "      <td>NaN</td>\n",
       "      <td>145.0</td>\n",
       "      <td>NaN</td>\n",
       "      <td>NaN</td>\n",
       "      <td>186.0</td>\n",
       "      <td>NaN</td>\n",
       "      <td>179.0</td>\n",
       "      <td>151.0</td>\n",
       "      <td>NaN</td>\n",
       "      <td>NaN</td>\n",
       "      <td>69.0</td>\n",
       "      <td>NaN</td>\n",
       "    </tr>\n",
       "    <tr>\n",
       "      <th>4</th>\n",
       "      <td>2015-12-28</td>\n",
       "      <td>AT</td>\n",
       "      <td>Salzburg</td>\n",
       "      <td>NaN</td>\n",
       "      <td>71.0</td>\n",
       "      <td>NaN</td>\n",
       "      <td>NaN</td>\n",
       "      <td>90.0</td>\n",
       "      <td>NaN</td>\n",
       "      <td>90.0</td>\n",
       "      <td>NaN</td>\n",
       "      <td>NaN</td>\n",
       "      <td>NaN</td>\n",
       "      <td>44.0</td>\n",
       "      <td>NaN</td>\n",
       "    </tr>\n",
       "  </tbody>\n",
       "</table>\n",
       "</div>"
      ],
      "text/plain": [
       "Specie       Date Country       City  aqi     co  mepaqi  neph    no2    o3  \\\n",
       "0      2015-12-28      AE      Dubai  NaN  119.0     NaN   NaN  115.0  77.0   \n",
       "1      2015-12-28      AT       Graz  NaN   65.0     NaN   NaN  198.0   NaN   \n",
       "2      2015-12-28      AT  Innsbruck  NaN   22.0     NaN   NaN   90.0   NaN   \n",
       "3      2015-12-28      AT       Linz  NaN  145.0     NaN   NaN  186.0   NaN   \n",
       "4      2015-12-28      AT   Salzburg  NaN   71.0     NaN   NaN   90.0   NaN   \n",
       "\n",
       "Specie   pm10   pm25  pol  psi    so2  uvi  \n",
       "0        41.0   96.0  NaN  NaN  100.0  NaN  \n",
       "1       240.0    NaN  NaN  NaN  103.0  NaN  \n",
       "2        85.0    NaN  NaN  NaN   22.0  NaN  \n",
       "3       179.0  151.0  NaN  NaN   69.0  NaN  \n",
       "4        90.0    NaN  NaN  NaN   44.0  NaN  "
      ]
     },
     "execution_count": 138,
     "metadata": {},
     "output_type": "execute_result"
    }
   ],
   "source": [
    "print(data_df_2016_H1.shape)\n",
    "data_df_2016_H1.head()"
   ]
  },
  {
   "cell_type": "code",
   "execution_count": 139,
   "id": "d1e147df",
   "metadata": {
    "execution": {
     "iopub.execute_input": "2024-12-30T03:23:02.789711Z",
     "iopub.status.busy": "2024-12-30T03:23:02.789202Z",
     "iopub.status.idle": "2024-12-30T03:23:02.814172Z",
     "shell.execute_reply": "2024-12-30T03:23:02.813048Z"
    },
    "executionInfo": {
     "elapsed": 8,
     "status": "ok",
     "timestamp": 1734445451627,
     "user": {
      "displayName": "Tahmida Majumder",
      "userId": "15415648085337204568"
     },
     "user_tz": -480
    },
    "id": "5Rhi5yskW0Jd",
    "outputId": "27a7de6a-d82c-44e0-91cd-a8473d11f26f",
    "papermill": {
     "duration": 0.086572,
     "end_time": "2024-12-30T03:23:02.815982",
     "exception": false,
     "start_time": "2024-12-30T03:23:02.729410",
     "status": "completed"
    },
    "tags": []
   },
   "outputs": [
    {
     "data": {
      "text/plain": [
       "Specie\n",
       "Date           0\n",
       "Country        0\n",
       "City           0\n",
       "aqi        83470\n",
       "co         30320\n",
       "mepaqi     86575\n",
       "neph       86753\n",
       "no2        11241\n",
       "o3         12670\n",
       "pm10       15432\n",
       "pm25       17453\n",
       "pol        86227\n",
       "psi        86575\n",
       "so2        25835\n",
       "uvi        84753\n",
       "dtype: int64"
      ]
     },
     "execution_count": 139,
     "metadata": {},
     "output_type": "execute_result"
    }
   ],
   "source": [
    "data_df_2016_H1.isnull().sum()"
   ]
  },
  {
   "cell_type": "code",
   "execution_count": null,
   "id": "0f8455aa",
   "metadata": {
    "id": "S4jQH2d5Wa6V",
    "papermill": {
     "duration": 0.05799,
     "end_time": "2024-12-30T03:23:02.933589",
     "exception": false,
     "start_time": "2024-12-30T03:23:02.875599",
     "status": "completed"
    },
    "tags": []
   },
   "outputs": [],
   "source": []
  },
  {
   "cell_type": "markdown",
   "id": "ff0c0406",
   "metadata": {
    "id": "_XHNv7igXJZF",
    "papermill": {
     "duration": 0.056845,
     "end_time": "2024-12-30T03:23:03.050691",
     "exception": false,
     "start_time": "2024-12-30T03:23:02.993846",
     "status": "completed"
    },
    "tags": []
   },
   "source": [
    "# 2015_H1"
   ]
  },
  {
   "cell_type": "code",
   "execution_count": 140,
   "id": "4299aa75",
   "metadata": {
    "execution": {
     "iopub.execute_input": "2024-12-30T03:23:03.166384Z",
     "iopub.status.busy": "2024-12-30T03:23:03.166051Z",
     "iopub.status.idle": "2024-12-30T03:23:03.521377Z",
     "shell.execute_reply": "2024-12-30T03:23:03.520365Z"
    },
    "executionInfo": {
     "elapsed": 619,
     "status": "ok",
     "timestamp": 1734445452240,
     "user": {
      "displayName": "Tahmida Majumder",
      "userId": "15415648085337204568"
     },
     "user_tz": -480
    },
    "id": "X7VepbA2XJZF",
    "outputId": "1c20e3b3-b3c9-447b-fece-e3185546fe3c",
    "papermill": {
     "duration": 0.415527,
     "end_time": "2024-12-30T03:23:03.522990",
     "exception": false,
     "start_time": "2024-12-30T03:23:03.107463",
     "status": "completed"
    },
    "tags": []
   },
   "outputs": [
    {
     "name": "stdout",
     "output_type": "stream",
     "text": [
      "(388980, 5)\n"
     ]
    },
    {
     "data": {
      "text/html": [
       "<div>\n",
       "<style scoped>\n",
       "    .dataframe tbody tr th:only-of-type {\n",
       "        vertical-align: middle;\n",
       "    }\n",
       "\n",
       "    .dataframe tbody tr th {\n",
       "        vertical-align: top;\n",
       "    }\n",
       "\n",
       "    .dataframe thead th {\n",
       "        text-align: right;\n",
       "    }\n",
       "</style>\n",
       "<table border=\"1\" class=\"dataframe\">\n",
       "  <thead>\n",
       "    <tr style=\"text-align: right;\">\n",
       "      <th></th>\n",
       "      <th>Date</th>\n",
       "      <th>Country</th>\n",
       "      <th>City</th>\n",
       "      <th>Specie</th>\n",
       "      <th>count</th>\n",
       "    </tr>\n",
       "  </thead>\n",
       "  <tbody>\n",
       "    <tr>\n",
       "      <th>0</th>\n",
       "      <td>7/5/2015</td>\n",
       "      <td>KR</td>\n",
       "      <td>Jeonju</td>\n",
       "      <td>co</td>\n",
       "      <td>53</td>\n",
       "    </tr>\n",
       "    <tr>\n",
       "      <th>1</th>\n",
       "      <td>7/5/2015</td>\n",
       "      <td>KR</td>\n",
       "      <td>Jeonju</td>\n",
       "      <td>pm10</td>\n",
       "      <td>192</td>\n",
       "    </tr>\n",
       "    <tr>\n",
       "      <th>2</th>\n",
       "      <td>7/5/2015</td>\n",
       "      <td>KR</td>\n",
       "      <td>Jeonju</td>\n",
       "      <td>o3</td>\n",
       "      <td>167</td>\n",
       "    </tr>\n",
       "    <tr>\n",
       "      <th>3</th>\n",
       "      <td>7/5/2015</td>\n",
       "      <td>KR</td>\n",
       "      <td>Jeonju</td>\n",
       "      <td>so2</td>\n",
       "      <td>84</td>\n",
       "    </tr>\n",
       "    <tr>\n",
       "      <th>4</th>\n",
       "      <td>7/5/2015</td>\n",
       "      <td>KR</td>\n",
       "      <td>Jeonju</td>\n",
       "      <td>no2</td>\n",
       "      <td>180</td>\n",
       "    </tr>\n",
       "    <tr>\n",
       "      <th>5</th>\n",
       "      <td>7/5/2015</td>\n",
       "      <td>KR</td>\n",
       "      <td>Jeonju</td>\n",
       "      <td>pm25</td>\n",
       "      <td>48</td>\n",
       "    </tr>\n",
       "    <tr>\n",
       "      <th>6</th>\n",
       "      <td>7/5/2015</td>\n",
       "      <td>KR</td>\n",
       "      <td>Seoul</td>\n",
       "      <td>so2</td>\n",
       "      <td>1810</td>\n",
       "    </tr>\n",
       "    <tr>\n",
       "      <th>7</th>\n",
       "      <td>7/5/2015</td>\n",
       "      <td>KR</td>\n",
       "      <td>Seoul</td>\n",
       "      <td>pm25</td>\n",
       "      <td>1148</td>\n",
       "    </tr>\n",
       "    <tr>\n",
       "      <th>8</th>\n",
       "      <td>7/5/2015</td>\n",
       "      <td>KR</td>\n",
       "      <td>Seoul</td>\n",
       "      <td>no2</td>\n",
       "      <td>2064</td>\n",
       "    </tr>\n",
       "    <tr>\n",
       "      <th>9</th>\n",
       "      <td>7/5/2015</td>\n",
       "      <td>KR</td>\n",
       "      <td>Seoul</td>\n",
       "      <td>co</td>\n",
       "      <td>1475</td>\n",
       "    </tr>\n",
       "  </tbody>\n",
       "</table>\n",
       "</div>"
      ],
      "text/plain": [
       "       Date Country    City Specie  count\n",
       "0  7/5/2015      KR  Jeonju     co     53\n",
       "1  7/5/2015      KR  Jeonju   pm10    192\n",
       "2  7/5/2015      KR  Jeonju     o3    167\n",
       "3  7/5/2015      KR  Jeonju    so2     84\n",
       "4  7/5/2015      KR  Jeonju    no2    180\n",
       "5  7/5/2015      KR  Jeonju   pm25     48\n",
       "6  7/5/2015      KR   Seoul    so2   1810\n",
       "7  7/5/2015      KR   Seoul   pm25   1148\n",
       "8  7/5/2015      KR   Seoul    no2   2064\n",
       "9  7/5/2015      KR   Seoul     co   1475"
      ]
     },
     "execution_count": 140,
     "metadata": {},
     "output_type": "execute_result"
    }
   ],
   "source": [
    "# Loading the data\n",
    "raw_data_2015_H1 = pd.read_csv(r\"/kaggle/input/data-for-combine/airqualitydata-2015H1.csv\")\n",
    "\n",
    "# print the shape\n",
    "print(raw_data_2015_H1.shape)\n",
    "\n",
    "#runs the first 5 rows\n",
    "raw_data_2015_H1.head(10)"
   ]
  },
  {
   "cell_type": "code",
   "execution_count": 141,
   "id": "fc72136a",
   "metadata": {
    "execution": {
     "iopub.execute_input": "2024-12-30T03:23:03.639087Z",
     "iopub.status.busy": "2024-12-30T03:23:03.638749Z",
     "iopub.status.idle": "2024-12-30T03:23:03.684378Z",
     "shell.execute_reply": "2024-12-30T03:23:03.683330Z"
    },
    "id": "kPDM2cWjXJZF",
    "papermill": {
     "duration": 0.106657,
     "end_time": "2024-12-30T03:23:03.686311",
     "exception": false,
     "start_time": "2024-12-30T03:23:03.579654",
     "status": "completed"
    },
    "tags": []
   },
   "outputs": [],
   "source": [
    "# Convert 'Date' to datetime\n",
    "raw_data_2015_H1['Date'] = pd.to_datetime(raw_data_2015_H1['Date'])"
   ]
  },
  {
   "cell_type": "code",
   "execution_count": 142,
   "id": "18c3d0c0",
   "metadata": {
    "execution": {
     "iopub.execute_input": "2024-12-30T03:23:03.802102Z",
     "iopub.status.busy": "2024-12-30T03:23:03.801762Z",
     "iopub.status.idle": "2024-12-30T03:23:03.807363Z",
     "shell.execute_reply": "2024-12-30T03:23:03.806342Z"
    },
    "executionInfo": {
     "elapsed": 8,
     "status": "ok",
     "timestamp": 1734445452240,
     "user": {
      "displayName": "Tahmida Majumder",
      "userId": "15415648085337204568"
     },
     "user_tz": -480
    },
    "id": "Z3QTA-YXXJZF",
    "outputId": "ba2ac09d-6e6e-4991-927b-aa4345128eb9",
    "papermill": {
     "duration": 0.064986,
     "end_time": "2024-12-30T03:23:03.808956",
     "exception": false,
     "start_time": "2024-12-30T03:23:03.743970",
     "status": "completed"
    },
    "tags": []
   },
   "outputs": [
    {
     "data": {
      "text/plain": [
       "(388980, 5)"
      ]
     },
     "execution_count": 142,
     "metadata": {},
     "output_type": "execute_result"
    }
   ],
   "source": [
    "raw_data_2015_H1.shape"
   ]
  },
  {
   "cell_type": "code",
   "execution_count": 143,
   "id": "84602855",
   "metadata": {
    "execution": {
     "iopub.execute_input": "2024-12-30T03:23:03.925521Z",
     "iopub.status.busy": "2024-12-30T03:23:03.925160Z",
     "iopub.status.idle": "2024-12-30T03:23:04.171939Z",
     "shell.execute_reply": "2024-12-30T03:23:04.170922Z"
    },
    "id": "SB7P9HiuXJZG",
    "papermill": {
     "duration": 0.307679,
     "end_time": "2024-12-30T03:23:04.173833",
     "exception": false,
     "start_time": "2024-12-30T03:23:03.866154",
     "status": "completed"
    },
    "tags": []
   },
   "outputs": [],
   "source": [
    "# Pivot the data\n",
    "data_df_2015_H1 = raw_data_2015_H1.pivot_table(\n",
    "    index=['Date', 'Country', 'City'],  # Grouping columns\n",
    "    columns='Specie',                  # Unique values become columns\n",
    "    values='count',                   # Values to aggregate\n",
    "    aggfunc='mean'                     # Aggregation function\n",
    ").reset_index()\n"
   ]
  },
  {
   "cell_type": "code",
   "execution_count": 144,
   "id": "f9697fe8",
   "metadata": {
    "execution": {
     "iopub.execute_input": "2024-12-30T03:23:04.289309Z",
     "iopub.status.busy": "2024-12-30T03:23:04.288973Z",
     "iopub.status.idle": "2024-12-30T03:23:04.308193Z",
     "shell.execute_reply": "2024-12-30T03:23:04.307102Z"
    },
    "executionInfo": {
     "elapsed": 10,
     "status": "ok",
     "timestamp": 1734445452894,
     "user": {
      "displayName": "Tahmida Majumder",
      "userId": "15415648085337204568"
     },
     "user_tz": -480
    },
    "id": "7OXNbflxXJZG",
    "outputId": "7379c4e2-03de-4e8c-8769-416805c32492",
    "papermill": {
     "duration": 0.07874,
     "end_time": "2024-12-30T03:23:04.309894",
     "exception": false,
     "start_time": "2024-12-30T03:23:04.231154",
     "status": "completed"
    },
    "tags": []
   },
   "outputs": [
    {
     "name": "stdout",
     "output_type": "stream",
     "text": [
      "(83090, 14)\n"
     ]
    },
    {
     "data": {
      "text/html": [
       "<div>\n",
       "<style scoped>\n",
       "    .dataframe tbody tr th:only-of-type {\n",
       "        vertical-align: middle;\n",
       "    }\n",
       "\n",
       "    .dataframe tbody tr th {\n",
       "        vertical-align: top;\n",
       "    }\n",
       "\n",
       "    .dataframe thead th {\n",
       "        text-align: right;\n",
       "    }\n",
       "</style>\n",
       "<table border=\"1\" class=\"dataframe\">\n",
       "  <thead>\n",
       "    <tr style=\"text-align: right;\">\n",
       "      <th>Specie</th>\n",
       "      <th>Date</th>\n",
       "      <th>Country</th>\n",
       "      <th>City</th>\n",
       "      <th>aqi</th>\n",
       "      <th>co</th>\n",
       "      <th>mepaqi</th>\n",
       "      <th>neph</th>\n",
       "      <th>no2</th>\n",
       "      <th>o3</th>\n",
       "      <th>pm10</th>\n",
       "      <th>pm25</th>\n",
       "      <th>psi</th>\n",
       "      <th>so2</th>\n",
       "      <th>uvi</th>\n",
       "    </tr>\n",
       "  </thead>\n",
       "  <tbody>\n",
       "    <tr>\n",
       "      <th>0</th>\n",
       "      <td>2014-12-29</td>\n",
       "      <td>AT</td>\n",
       "      <td>Graz</td>\n",
       "      <td>NaN</td>\n",
       "      <td>51.0</td>\n",
       "      <td>NaN</td>\n",
       "      <td>NaN</td>\n",
       "      <td>204.0</td>\n",
       "      <td>NaN</td>\n",
       "      <td>226.0</td>\n",
       "      <td>NaN</td>\n",
       "      <td>NaN</td>\n",
       "      <td>60.0</td>\n",
       "      <td>NaN</td>\n",
       "    </tr>\n",
       "    <tr>\n",
       "      <th>1</th>\n",
       "      <td>2014-12-29</td>\n",
       "      <td>AT</td>\n",
       "      <td>Innsbruck</td>\n",
       "      <td>NaN</td>\n",
       "      <td>18.0</td>\n",
       "      <td>NaN</td>\n",
       "      <td>NaN</td>\n",
       "      <td>95.0</td>\n",
       "      <td>NaN</td>\n",
       "      <td>80.0</td>\n",
       "      <td>NaN</td>\n",
       "      <td>NaN</td>\n",
       "      <td>14.0</td>\n",
       "      <td>NaN</td>\n",
       "    </tr>\n",
       "    <tr>\n",
       "      <th>2</th>\n",
       "      <td>2014-12-29</td>\n",
       "      <td>AT</td>\n",
       "      <td>Linz</td>\n",
       "      <td>NaN</td>\n",
       "      <td>82.0</td>\n",
       "      <td>NaN</td>\n",
       "      <td>NaN</td>\n",
       "      <td>188.0</td>\n",
       "      <td>NaN</td>\n",
       "      <td>176.0</td>\n",
       "      <td>137.0</td>\n",
       "      <td>NaN</td>\n",
       "      <td>77.0</td>\n",
       "      <td>NaN</td>\n",
       "    </tr>\n",
       "    <tr>\n",
       "      <th>3</th>\n",
       "      <td>2014-12-29</td>\n",
       "      <td>AT</td>\n",
       "      <td>Salzburg</td>\n",
       "      <td>NaN</td>\n",
       "      <td>56.0</td>\n",
       "      <td>NaN</td>\n",
       "      <td>NaN</td>\n",
       "      <td>90.0</td>\n",
       "      <td>NaN</td>\n",
       "      <td>80.0</td>\n",
       "      <td>NaN</td>\n",
       "      <td>NaN</td>\n",
       "      <td>35.0</td>\n",
       "      <td>NaN</td>\n",
       "    </tr>\n",
       "    <tr>\n",
       "      <th>4</th>\n",
       "      <td>2014-12-29</td>\n",
       "      <td>AT</td>\n",
       "      <td>Vienna</td>\n",
       "      <td>NaN</td>\n",
       "      <td>40.0</td>\n",
       "      <td>NaN</td>\n",
       "      <td>NaN</td>\n",
       "      <td>387.0</td>\n",
       "      <td>NaN</td>\n",
       "      <td>357.0</td>\n",
       "      <td>124.0</td>\n",
       "      <td>NaN</td>\n",
       "      <td>83.0</td>\n",
       "      <td>NaN</td>\n",
       "    </tr>\n",
       "  </tbody>\n",
       "</table>\n",
       "</div>"
      ],
      "text/plain": [
       "Specie       Date Country       City  aqi    co  mepaqi  neph    no2  o3  \\\n",
       "0      2014-12-29      AT       Graz  NaN  51.0     NaN   NaN  204.0 NaN   \n",
       "1      2014-12-29      AT  Innsbruck  NaN  18.0     NaN   NaN   95.0 NaN   \n",
       "2      2014-12-29      AT       Linz  NaN  82.0     NaN   NaN  188.0 NaN   \n",
       "3      2014-12-29      AT   Salzburg  NaN  56.0     NaN   NaN   90.0 NaN   \n",
       "4      2014-12-29      AT     Vienna  NaN  40.0     NaN   NaN  387.0 NaN   \n",
       "\n",
       "Specie   pm10   pm25  psi   so2  uvi  \n",
       "0       226.0    NaN  NaN  60.0  NaN  \n",
       "1        80.0    NaN  NaN  14.0  NaN  \n",
       "2       176.0  137.0  NaN  77.0  NaN  \n",
       "3        80.0    NaN  NaN  35.0  NaN  \n",
       "4       357.0  124.0  NaN  83.0  NaN  "
      ]
     },
     "execution_count": 144,
     "metadata": {},
     "output_type": "execute_result"
    }
   ],
   "source": [
    "print(data_df_2015_H1.shape)\n",
    "data_df_2015_H1.head()"
   ]
  },
  {
   "cell_type": "code",
   "execution_count": 145,
   "id": "1eed84ec",
   "metadata": {
    "execution": {
     "iopub.execute_input": "2024-12-30T03:23:04.425837Z",
     "iopub.status.busy": "2024-12-30T03:23:04.425410Z",
     "iopub.status.idle": "2024-12-30T03:23:04.442586Z",
     "shell.execute_reply": "2024-12-30T03:23:04.441409Z"
    },
    "executionInfo": {
     "elapsed": 7,
     "status": "ok",
     "timestamp": 1734445452894,
     "user": {
      "displayName": "Tahmida Majumder",
      "userId": "15415648085337204568"
     },
     "user_tz": -480
    },
    "id": "SFCgjDgeXJZG",
    "outputId": "c7f73fa5-b55c-4f57-a58b-29f0509c3a05",
    "papermill": {
     "duration": 0.077212,
     "end_time": "2024-12-30T03:23:04.444265",
     "exception": false,
     "start_time": "2024-12-30T03:23:04.367053",
     "status": "completed"
    },
    "tags": []
   },
   "outputs": [
    {
     "data": {
      "text/plain": [
       "Specie\n",
       "Date           0\n",
       "Country        0\n",
       "City           0\n",
       "aqi        80383\n",
       "co         30736\n",
       "mepaqi     82901\n",
       "neph       82526\n",
       "no2        12888\n",
       "o3         14612\n",
       "pm10       14221\n",
       "pm25       18769\n",
       "psi        82914\n",
       "so2        24251\n",
       "uvi        80809\n",
       "dtype: int64"
      ]
     },
     "execution_count": 145,
     "metadata": {},
     "output_type": "execute_result"
    }
   ],
   "source": [
    "data_df_2015_H1.isnull().sum()"
   ]
  },
  {
   "cell_type": "markdown",
   "id": "fb88a43e",
   "metadata": {
    "id": "sj16G4xjbPmz",
    "papermill": {
     "duration": 0.116895,
     "end_time": "2024-12-30T03:23:04.618188",
     "exception": false,
     "start_time": "2024-12-30T03:23:04.501293",
     "status": "completed"
    },
    "tags": []
   },
   "source": [
    "# **Combine 2015-2024**"
   ]
  },
  {
   "cell_type": "code",
   "execution_count": 146,
   "id": "63aff8d5",
   "metadata": {
    "execution": {
     "iopub.execute_input": "2024-12-30T03:23:04.735215Z",
     "iopub.status.busy": "2024-12-30T03:23:04.734806Z",
     "iopub.status.idle": "2024-12-30T03:23:04.965267Z",
     "shell.execute_reply": "2024-12-30T03:23:04.964051Z"
    },
    "id": "aXOUsDcDkm5T",
    "papermill": {
     "duration": 0.29137,
     "end_time": "2024-12-30T03:23:04.967280",
     "exception": false,
     "start_time": "2024-12-30T03:23:04.675910",
     "status": "completed"
    },
    "tags": []
   },
   "outputs": [],
   "source": [
    "data_2015_2024 = pd.concat([data_df_2015_H1, data_df_2016_H1, data_df_2017_H1, data_df_2018_H1,\n",
    "                            data_df_2019_Q1, data_df_2019_Q2, data_df_2019_Q3, data_df_2019_Q4,\n",
    "                            data_df_2020_Q1, data_df_2020_Q2, data_df_2020_Q3, data_df_2020_Q4,\n",
    "                            data_df_2021_Q1, data_df_2021_Q2, data_df_2021_Q3, data_df_2021_Q4,\n",
    "                            data_df_2022_Q2, data_df_2022_Q3, data_df_2022_Q4,\n",
    "                            data_df_2023_Q1, data_df_2023_Q2, data_df_2023_Q3, data_df_2023_Q4,\n",
    "                            data_df_2024], ignore_index=True)"
   ]
  },
  {
   "cell_type": "code",
   "execution_count": 147,
   "id": "a18ee377",
   "metadata": {
    "execution": {
     "iopub.execute_input": "2024-12-30T03:23:05.083721Z",
     "iopub.status.busy": "2024-12-30T03:23:05.083334Z",
     "iopub.status.idle": "2024-12-30T03:23:05.089151Z",
     "shell.execute_reply": "2024-12-30T03:23:05.088080Z"
    },
    "executionInfo": {
     "elapsed": 416,
     "status": "ok",
     "timestamp": 1734445678440,
     "user": {
      "displayName": "Tahmida Majumder",
      "userId": "15415648085337204568"
     },
     "user_tz": -480
    },
    "id": "xMdnjpaqj1xp",
    "outputId": "c297388a-7bbc-46a4-f802-5c00edd37d28",
    "papermill": {
     "duration": 0.065138,
     "end_time": "2024-12-30T03:23:05.090581",
     "exception": false,
     "start_time": "2024-12-30T03:23:05.025443",
     "status": "completed"
    },
    "tags": []
   },
   "outputs": [
    {
     "data": {
      "text/plain": [
       "(1464318, 27)"
      ]
     },
     "execution_count": 147,
     "metadata": {},
     "output_type": "execute_result"
    }
   ],
   "source": [
    "data_2015_2024.shape"
   ]
  },
  {
   "cell_type": "code",
   "execution_count": 148,
   "id": "80158ff9",
   "metadata": {
    "execution": {
     "iopub.execute_input": "2024-12-30T03:23:05.208950Z",
     "iopub.status.busy": "2024-12-30T03:23:05.208437Z",
     "iopub.status.idle": "2024-12-30T03:23:05.423403Z",
     "shell.execute_reply": "2024-12-30T03:23:05.422349Z"
    },
    "executionInfo": {
     "elapsed": 371,
     "status": "ok",
     "timestamp": 1734445681461,
     "user": {
      "displayName": "Tahmida Majumder",
      "userId": "15415648085337204568"
     },
     "user_tz": -480
    },
    "id": "KXv8f-CUbzgh",
    "outputId": "841c597e-0a59-4318-c87e-59c9927581a3",
    "papermill": {
     "duration": 0.276135,
     "end_time": "2024-12-30T03:23:05.425313",
     "exception": false,
     "start_time": "2024-12-30T03:23:05.149178",
     "status": "completed"
    },
    "tags": []
   },
   "outputs": [
    {
     "data": {
      "text/plain": [
       "Specie\n",
       "Date                   0\n",
       "Country                0\n",
       "City                   0\n",
       "aqi              1428973\n",
       "co                544307\n",
       "mepaqi           1461729\n",
       "neph             1459692\n",
       "no2               246950\n",
       "o3                332142\n",
       "pm10              259576\n",
       "pm25              233347\n",
       "psi              1463955\n",
       "so2               451684\n",
       "uvi              1435490\n",
       "pol              1459360\n",
       "d                1462287\n",
       "humidity          351954\n",
       "pm1              1458306\n",
       "pressure          356926\n",
       "temperature       351340\n",
       "wd               1387248\n",
       "wind-speed        415429\n",
       "precipitation    1344509\n",
       "wind-gust         860945\n",
       "dew               613350\n",
       "wind gust        1432553\n",
       "wind speed       1414567\n",
       "dtype: int64"
      ]
     },
     "execution_count": 148,
     "metadata": {},
     "output_type": "execute_result"
    }
   ],
   "source": [
    "data_2015_2024.isnull().sum()"
   ]
  },
  {
   "cell_type": "code",
   "execution_count": 149,
   "id": "e733c228",
   "metadata": {
    "execution": {
     "iopub.execute_input": "2024-12-30T03:23:05.542700Z",
     "iopub.status.busy": "2024-12-30T03:23:05.542299Z",
     "iopub.status.idle": "2024-12-30T03:23:05.566116Z",
     "shell.execute_reply": "2024-12-30T03:23:05.565029Z"
    },
    "executionInfo": {
     "elapsed": 618,
     "status": "ok",
     "timestamp": 1734445685400,
     "user": {
      "displayName": "Tahmida Majumder",
      "userId": "15415648085337204568"
     },
     "user_tz": -480
    },
    "id": "mssZYD39j11H",
    "outputId": "c33709e0-d3d8-4bd1-e283-1a1b253f7681",
    "papermill": {
     "duration": 0.084557,
     "end_time": "2024-12-30T03:23:05.567851",
     "exception": false,
     "start_time": "2024-12-30T03:23:05.483294",
     "status": "completed"
    },
    "tags": []
   },
   "outputs": [
    {
     "data": {
      "text/html": [
       "<div>\n",
       "<style scoped>\n",
       "    .dataframe tbody tr th:only-of-type {\n",
       "        vertical-align: middle;\n",
       "    }\n",
       "\n",
       "    .dataframe tbody tr th {\n",
       "        vertical-align: top;\n",
       "    }\n",
       "\n",
       "    .dataframe thead th {\n",
       "        text-align: right;\n",
       "    }\n",
       "</style>\n",
       "<table border=\"1\" class=\"dataframe\">\n",
       "  <thead>\n",
       "    <tr style=\"text-align: right;\">\n",
       "      <th>Specie</th>\n",
       "      <th>Date</th>\n",
       "      <th>Country</th>\n",
       "      <th>City</th>\n",
       "      <th>aqi</th>\n",
       "      <th>co</th>\n",
       "      <th>mepaqi</th>\n",
       "      <th>neph</th>\n",
       "      <th>no2</th>\n",
       "      <th>o3</th>\n",
       "      <th>pm10</th>\n",
       "      <th>...</th>\n",
       "      <th>pm1</th>\n",
       "      <th>pressure</th>\n",
       "      <th>temperature</th>\n",
       "      <th>wd</th>\n",
       "      <th>wind-speed</th>\n",
       "      <th>precipitation</th>\n",
       "      <th>wind-gust</th>\n",
       "      <th>dew</th>\n",
       "      <th>wind gust</th>\n",
       "      <th>wind speed</th>\n",
       "    </tr>\n",
       "  </thead>\n",
       "  <tbody>\n",
       "    <tr>\n",
       "      <th>0</th>\n",
       "      <td>2014-12-29</td>\n",
       "      <td>AT</td>\n",
       "      <td>Graz</td>\n",
       "      <td>NaN</td>\n",
       "      <td>51.0</td>\n",
       "      <td>NaN</td>\n",
       "      <td>NaN</td>\n",
       "      <td>204.0</td>\n",
       "      <td>NaN</td>\n",
       "      <td>226.0</td>\n",
       "      <td>...</td>\n",
       "      <td>NaN</td>\n",
       "      <td>NaN</td>\n",
       "      <td>NaN</td>\n",
       "      <td>NaN</td>\n",
       "      <td>NaN</td>\n",
       "      <td>NaN</td>\n",
       "      <td>NaN</td>\n",
       "      <td>NaN</td>\n",
       "      <td>NaN</td>\n",
       "      <td>NaN</td>\n",
       "    </tr>\n",
       "    <tr>\n",
       "      <th>1</th>\n",
       "      <td>2014-12-29</td>\n",
       "      <td>AT</td>\n",
       "      <td>Innsbruck</td>\n",
       "      <td>NaN</td>\n",
       "      <td>18.0</td>\n",
       "      <td>NaN</td>\n",
       "      <td>NaN</td>\n",
       "      <td>95.0</td>\n",
       "      <td>NaN</td>\n",
       "      <td>80.0</td>\n",
       "      <td>...</td>\n",
       "      <td>NaN</td>\n",
       "      <td>NaN</td>\n",
       "      <td>NaN</td>\n",
       "      <td>NaN</td>\n",
       "      <td>NaN</td>\n",
       "      <td>NaN</td>\n",
       "      <td>NaN</td>\n",
       "      <td>NaN</td>\n",
       "      <td>NaN</td>\n",
       "      <td>NaN</td>\n",
       "    </tr>\n",
       "    <tr>\n",
       "      <th>2</th>\n",
       "      <td>2014-12-29</td>\n",
       "      <td>AT</td>\n",
       "      <td>Linz</td>\n",
       "      <td>NaN</td>\n",
       "      <td>82.0</td>\n",
       "      <td>NaN</td>\n",
       "      <td>NaN</td>\n",
       "      <td>188.0</td>\n",
       "      <td>NaN</td>\n",
       "      <td>176.0</td>\n",
       "      <td>...</td>\n",
       "      <td>NaN</td>\n",
       "      <td>NaN</td>\n",
       "      <td>NaN</td>\n",
       "      <td>NaN</td>\n",
       "      <td>NaN</td>\n",
       "      <td>NaN</td>\n",
       "      <td>NaN</td>\n",
       "      <td>NaN</td>\n",
       "      <td>NaN</td>\n",
       "      <td>NaN</td>\n",
       "    </tr>\n",
       "    <tr>\n",
       "      <th>3</th>\n",
       "      <td>2014-12-29</td>\n",
       "      <td>AT</td>\n",
       "      <td>Salzburg</td>\n",
       "      <td>NaN</td>\n",
       "      <td>56.0</td>\n",
       "      <td>NaN</td>\n",
       "      <td>NaN</td>\n",
       "      <td>90.0</td>\n",
       "      <td>NaN</td>\n",
       "      <td>80.0</td>\n",
       "      <td>...</td>\n",
       "      <td>NaN</td>\n",
       "      <td>NaN</td>\n",
       "      <td>NaN</td>\n",
       "      <td>NaN</td>\n",
       "      <td>NaN</td>\n",
       "      <td>NaN</td>\n",
       "      <td>NaN</td>\n",
       "      <td>NaN</td>\n",
       "      <td>NaN</td>\n",
       "      <td>NaN</td>\n",
       "    </tr>\n",
       "    <tr>\n",
       "      <th>4</th>\n",
       "      <td>2014-12-29</td>\n",
       "      <td>AT</td>\n",
       "      <td>Vienna</td>\n",
       "      <td>NaN</td>\n",
       "      <td>40.0</td>\n",
       "      <td>NaN</td>\n",
       "      <td>NaN</td>\n",
       "      <td>387.0</td>\n",
       "      <td>NaN</td>\n",
       "      <td>357.0</td>\n",
       "      <td>...</td>\n",
       "      <td>NaN</td>\n",
       "      <td>NaN</td>\n",
       "      <td>NaN</td>\n",
       "      <td>NaN</td>\n",
       "      <td>NaN</td>\n",
       "      <td>NaN</td>\n",
       "      <td>NaN</td>\n",
       "      <td>NaN</td>\n",
       "      <td>NaN</td>\n",
       "      <td>NaN</td>\n",
       "    </tr>\n",
       "  </tbody>\n",
       "</table>\n",
       "<p>5 rows × 27 columns</p>\n",
       "</div>"
      ],
      "text/plain": [
       "Specie       Date Country       City  aqi    co  mepaqi  neph    no2  o3  \\\n",
       "0      2014-12-29      AT       Graz  NaN  51.0     NaN   NaN  204.0 NaN   \n",
       "1      2014-12-29      AT  Innsbruck  NaN  18.0     NaN   NaN   95.0 NaN   \n",
       "2      2014-12-29      AT       Linz  NaN  82.0     NaN   NaN  188.0 NaN   \n",
       "3      2014-12-29      AT   Salzburg  NaN  56.0     NaN   NaN   90.0 NaN   \n",
       "4      2014-12-29      AT     Vienna  NaN  40.0     NaN   NaN  387.0 NaN   \n",
       "\n",
       "Specie   pm10  ...  pm1  pressure  temperature  wd  wind-speed  precipitation  \\\n",
       "0       226.0  ...  NaN       NaN          NaN NaN         NaN            NaN   \n",
       "1        80.0  ...  NaN       NaN          NaN NaN         NaN            NaN   \n",
       "2       176.0  ...  NaN       NaN          NaN NaN         NaN            NaN   \n",
       "3        80.0  ...  NaN       NaN          NaN NaN         NaN            NaN   \n",
       "4       357.0  ...  NaN       NaN          NaN NaN         NaN            NaN   \n",
       "\n",
       "Specie  wind-gust  dew  wind gust  wind speed  \n",
       "0             NaN  NaN        NaN         NaN  \n",
       "1             NaN  NaN        NaN         NaN  \n",
       "2             NaN  NaN        NaN         NaN  \n",
       "3             NaN  NaN        NaN         NaN  \n",
       "4             NaN  NaN        NaN         NaN  \n",
       "\n",
       "[5 rows x 27 columns]"
      ]
     },
     "execution_count": 149,
     "metadata": {},
     "output_type": "execute_result"
    }
   ],
   "source": [
    "data_2015_2024.head()"
   ]
  },
  {
   "cell_type": "code",
   "execution_count": 150,
   "id": "b05a6eb0",
   "metadata": {
    "execution": {
     "iopub.execute_input": "2024-12-30T03:23:05.689460Z",
     "iopub.status.busy": "2024-12-30T03:23:05.689122Z",
     "iopub.status.idle": "2024-12-30T03:23:05.703835Z",
     "shell.execute_reply": "2024-12-30T03:23:05.702665Z"
    },
    "executionInfo": {
     "elapsed": 468,
     "status": "ok",
     "timestamp": 1734445689653,
     "user": {
      "displayName": "Tahmida Majumder",
      "userId": "15415648085337204568"
     },
     "user_tz": -480
    },
    "id": "bZeT3eCFAnGw",
    "outputId": "ac3572b3-a2ef-40bc-f5ec-4d1351f35263",
    "papermill": {
     "duration": 0.077119,
     "end_time": "2024-12-30T03:23:05.705716",
     "exception": false,
     "start_time": "2024-12-30T03:23:05.628597",
     "status": "completed"
    },
    "tags": []
   },
   "outputs": [
    {
     "name": "stdout",
     "output_type": "stream",
     "text": [
      "Minimum date: 2014-12-29 00:00:00\n",
      "Maximum date: 2024-12-17 00:00:00\n"
     ]
    }
   ],
   "source": [
    "# Find the minimum and maximum dates\n",
    "min_date = data_2015_2024['Date'].min()\n",
    "max_date = data_2015_2024['Date'].max()\n",
    "\n",
    "print('Minimum date:', min_date)\n",
    "print('Maximum date:', max_date)"
   ]
  },
  {
   "cell_type": "code",
   "execution_count": 151,
   "id": "b743ff2e",
   "metadata": {
    "execution": {
     "iopub.execute_input": "2024-12-30T03:23:05.824258Z",
     "iopub.status.busy": "2024-12-30T03:23:05.823922Z",
     "iopub.status.idle": "2024-12-30T03:23:05.828051Z",
     "shell.execute_reply": "2024-12-30T03:23:05.827100Z"
    },
    "id": "QCR5xMN0_UkA",
    "papermill": {
     "duration": 0.065802,
     "end_time": "2024-12-30T03:23:05.829659",
     "exception": false,
     "start_time": "2024-12-30T03:23:05.763857",
     "status": "completed"
    },
    "tags": []
   },
   "outputs": [],
   "source": [
    "import os"
   ]
  },
  {
   "cell_type": "code",
   "execution_count": 152,
   "id": "f1c47a25",
   "metadata": {
    "execution": {
     "iopub.execute_input": "2024-12-30T03:23:05.953383Z",
     "iopub.status.busy": "2024-12-30T03:23:05.953019Z",
     "iopub.status.idle": "2024-12-30T03:23:23.883502Z",
     "shell.execute_reply": "2024-12-30T03:23:23.882331Z"
    },
    "id": "ysJ7Sc3w_lSR",
    "papermill": {
     "duration": 17.993693,
     "end_time": "2024-12-30T03:23:23.885569",
     "exception": false,
     "start_time": "2024-12-30T03:23:05.891876",
     "status": "completed"
    },
    "tags": []
   },
   "outputs": [],
   "source": [
    "os.makedirs('/kaggle/working/data-after-combine', exist_ok=True)\n",
    "data_2015_2024.to_csv('/kaggle/working/data-after-combine/data_2015_2024.csv')"
   ]
  },
  {
   "cell_type": "markdown",
   "id": "4f5c7efb",
   "metadata": {
    "id": "ji1dRy6wbZ_l",
    "papermill": {
     "duration": 0.05941,
     "end_time": "2024-12-30T03:23:24.005726",
     "exception": false,
     "start_time": "2024-12-30T03:23:23.946316",
     "status": "completed"
    },
    "tags": []
   },
   "source": [
    "**Combine 2021-2024**"
   ]
  },
  {
   "cell_type": "code",
   "execution_count": 153,
   "id": "c6e30acc",
   "metadata": {
    "execution": {
     "iopub.execute_input": "2024-12-30T03:23:24.128787Z",
     "iopub.status.busy": "2024-12-30T03:23:24.128368Z",
     "iopub.status.idle": "2024-12-30T03:23:24.194097Z",
     "shell.execute_reply": "2024-12-30T03:23:24.193196Z"
    },
    "id": "cIfjk149a_z0",
    "papermill": {
     "duration": 0.129459,
     "end_time": "2024-12-30T03:23:24.195970",
     "exception": false,
     "start_time": "2024-12-30T03:23:24.066511",
     "status": "completed"
    },
    "tags": []
   },
   "outputs": [],
   "source": [
    "data_2021_2024 = pd.concat([data_df_2021_Q1, data_df_2021_Q2, data_df_2021_Q3, data_df_2021_Q4,\n",
    "                            data_df_2022_Q2, data_df_2022_Q3, data_df_2022_Q4,\n",
    "                            data_df_2023_Q1, data_df_2023_Q2, data_df_2023_Q3, data_df_2023_Q4,\n",
    "                            data_df_2024], ignore_index=True)"
   ]
  },
  {
   "cell_type": "code",
   "execution_count": 154,
   "id": "5ea12745",
   "metadata": {
    "execution": {
     "iopub.execute_input": "2024-12-30T03:23:24.314150Z",
     "iopub.status.busy": "2024-12-30T03:23:24.313809Z",
     "iopub.status.idle": "2024-12-30T03:23:24.319659Z",
     "shell.execute_reply": "2024-12-30T03:23:24.318685Z"
    },
    "executionInfo": {
     "elapsed": 420,
     "status": "ok",
     "timestamp": 1734445728824,
     "user": {
      "displayName": "Tahmida Majumder",
      "userId": "15415648085337204568"
     },
     "user_tz": -480
    },
    "id": "AAYvH0U5a_z0",
    "outputId": "6f724cdf-a59a-4cf8-f36e-99e742456c17",
    "papermill": {
     "duration": 0.06645,
     "end_time": "2024-12-30T03:23:24.321221",
     "exception": false,
     "start_time": "2024-12-30T03:23:24.254771",
     "status": "completed"
    },
    "tags": []
   },
   "outputs": [
    {
     "data": {
      "text/plain": [
       "(661795, 22)"
      ]
     },
     "execution_count": 154,
     "metadata": {},
     "output_type": "execute_result"
    }
   ],
   "source": [
    "data_2021_2024.shape"
   ]
  },
  {
   "cell_type": "code",
   "execution_count": 155,
   "id": "641a1c05",
   "metadata": {
    "execution": {
     "iopub.execute_input": "2024-12-30T03:23:24.438387Z",
     "iopub.status.busy": "2024-12-30T03:23:24.438016Z",
     "iopub.status.idle": "2024-12-30T03:23:24.528133Z",
     "shell.execute_reply": "2024-12-30T03:23:24.527057Z"
    },
    "executionInfo": {
     "elapsed": 459,
     "status": "ok",
     "timestamp": 1734445732246,
     "user": {
      "displayName": "Tahmida Majumder",
      "userId": "15415648085337204568"
     },
     "user_tz": -480
    },
    "id": "RVMoHje7cDz6",
    "outputId": "2ea13b1d-5c84-426d-912c-629934cadd7c",
    "papermill": {
     "duration": 0.150365,
     "end_time": "2024-12-30T03:23:24.529994",
     "exception": false,
     "start_time": "2024-12-30T03:23:24.379629",
     "status": "completed"
    },
    "tags": []
   },
   "outputs": [
    {
     "data": {
      "text/plain": [
       "Specie\n",
       "Date                  0\n",
       "Country               0\n",
       "City                  0\n",
       "aqi              649125\n",
       "co               252243\n",
       "dew              137405\n",
       "humidity           9678\n",
       "mepaqi           660718\n",
       "neph             659132\n",
       "no2              116775\n",
       "o3               171250\n",
       "pm1              658238\n",
       "pm10             111800\n",
       "pm25              94038\n",
       "precipitation    585253\n",
       "pressure          12118\n",
       "so2              208905\n",
       "temperature        9176\n",
       "uvi              649023\n",
       "wd               624661\n",
       "wind-gust        312881\n",
       "wind-speed        19934\n",
       "dtype: int64"
      ]
     },
     "execution_count": 155,
     "metadata": {},
     "output_type": "execute_result"
    }
   ],
   "source": [
    "data_2021_2024.isnull().sum()"
   ]
  },
  {
   "cell_type": "code",
   "execution_count": 156,
   "id": "486655b9",
   "metadata": {
    "execution": {
     "iopub.execute_input": "2024-12-30T03:23:24.647629Z",
     "iopub.status.busy": "2024-12-30T03:23:24.647225Z",
     "iopub.status.idle": "2024-12-30T03:23:24.673665Z",
     "shell.execute_reply": "2024-12-30T03:23:24.672595Z"
    },
    "executionInfo": {
     "elapsed": 400,
     "status": "ok",
     "timestamp": 1734445735767,
     "user": {
      "displayName": "Tahmida Majumder",
      "userId": "15415648085337204568"
     },
     "user_tz": -480
    },
    "id": "F2MaY926a_z1",
    "outputId": "90b9f835-4046-4237-fc19-29c4745903fe",
    "papermill": {
     "duration": 0.087035,
     "end_time": "2024-12-30T03:23:24.675383",
     "exception": false,
     "start_time": "2024-12-30T03:23:24.588348",
     "status": "completed"
    },
    "tags": []
   },
   "outputs": [
    {
     "data": {
      "text/html": [
       "<div>\n",
       "<style scoped>\n",
       "    .dataframe tbody tr th:only-of-type {\n",
       "        vertical-align: middle;\n",
       "    }\n",
       "\n",
       "    .dataframe tbody tr th {\n",
       "        vertical-align: top;\n",
       "    }\n",
       "\n",
       "    .dataframe thead th {\n",
       "        text-align: right;\n",
       "    }\n",
       "</style>\n",
       "<table border=\"1\" class=\"dataframe\">\n",
       "  <thead>\n",
       "    <tr style=\"text-align: right;\">\n",
       "      <th>Specie</th>\n",
       "      <th>Date</th>\n",
       "      <th>Country</th>\n",
       "      <th>City</th>\n",
       "      <th>aqi</th>\n",
       "      <th>co</th>\n",
       "      <th>dew</th>\n",
       "      <th>humidity</th>\n",
       "      <th>mepaqi</th>\n",
       "      <th>neph</th>\n",
       "      <th>no2</th>\n",
       "      <th>...</th>\n",
       "      <th>pm10</th>\n",
       "      <th>pm25</th>\n",
       "      <th>precipitation</th>\n",
       "      <th>pressure</th>\n",
       "      <th>so2</th>\n",
       "      <th>temperature</th>\n",
       "      <th>uvi</th>\n",
       "      <th>wd</th>\n",
       "      <th>wind-gust</th>\n",
       "      <th>wind-speed</th>\n",
       "    </tr>\n",
       "  </thead>\n",
       "  <tbody>\n",
       "    <tr>\n",
       "      <th>0</th>\n",
       "      <td>2020-12-28</td>\n",
       "      <td>AE</td>\n",
       "      <td>Abu Dhabi</td>\n",
       "      <td>NaN</td>\n",
       "      <td>6.0</td>\n",
       "      <td>122.0</td>\n",
       "      <td>192.0</td>\n",
       "      <td>NaN</td>\n",
       "      <td>NaN</td>\n",
       "      <td>114.0</td>\n",
       "      <td>...</td>\n",
       "      <td>120.0</td>\n",
       "      <td>24.0</td>\n",
       "      <td>NaN</td>\n",
       "      <td>192.0</td>\n",
       "      <td>116.0</td>\n",
       "      <td>192.0</td>\n",
       "      <td>NaN</td>\n",
       "      <td>NaN</td>\n",
       "      <td>NaN</td>\n",
       "      <td>192.0</td>\n",
       "    </tr>\n",
       "    <tr>\n",
       "      <th>1</th>\n",
       "      <td>2020-12-28</td>\n",
       "      <td>AE</td>\n",
       "      <td>Dubai</td>\n",
       "      <td>NaN</td>\n",
       "      <td>NaN</td>\n",
       "      <td>20.0</td>\n",
       "      <td>24.0</td>\n",
       "      <td>NaN</td>\n",
       "      <td>NaN</td>\n",
       "      <td>NaN</td>\n",
       "      <td>...</td>\n",
       "      <td>NaN</td>\n",
       "      <td>24.0</td>\n",
       "      <td>NaN</td>\n",
       "      <td>24.0</td>\n",
       "      <td>NaN</td>\n",
       "      <td>24.0</td>\n",
       "      <td>NaN</td>\n",
       "      <td>NaN</td>\n",
       "      <td>NaN</td>\n",
       "      <td>24.0</td>\n",
       "    </tr>\n",
       "    <tr>\n",
       "      <th>2</th>\n",
       "      <td>2020-12-28</td>\n",
       "      <td>AF</td>\n",
       "      <td>Kabul</td>\n",
       "      <td>NaN</td>\n",
       "      <td>NaN</td>\n",
       "      <td>21.0</td>\n",
       "      <td>24.0</td>\n",
       "      <td>NaN</td>\n",
       "      <td>NaN</td>\n",
       "      <td>NaN</td>\n",
       "      <td>...</td>\n",
       "      <td>NaN</td>\n",
       "      <td>24.0</td>\n",
       "      <td>NaN</td>\n",
       "      <td>24.0</td>\n",
       "      <td>NaN</td>\n",
       "      <td>24.0</td>\n",
       "      <td>NaN</td>\n",
       "      <td>NaN</td>\n",
       "      <td>NaN</td>\n",
       "      <td>24.0</td>\n",
       "    </tr>\n",
       "    <tr>\n",
       "      <th>3</th>\n",
       "      <td>2020-12-28</td>\n",
       "      <td>AR</td>\n",
       "      <td>Buenos Aires</td>\n",
       "      <td>NaN</td>\n",
       "      <td>70.0</td>\n",
       "      <td>48.0</td>\n",
       "      <td>96.0</td>\n",
       "      <td>NaN</td>\n",
       "      <td>NaN</td>\n",
       "      <td>46.0</td>\n",
       "      <td>...</td>\n",
       "      <td>77.0</td>\n",
       "      <td>23.0</td>\n",
       "      <td>NaN</td>\n",
       "      <td>96.0</td>\n",
       "      <td>NaN</td>\n",
       "      <td>96.0</td>\n",
       "      <td>NaN</td>\n",
       "      <td>18.0</td>\n",
       "      <td>60.0</td>\n",
       "      <td>96.0</td>\n",
       "    </tr>\n",
       "    <tr>\n",
       "      <th>4</th>\n",
       "      <td>2020-12-28</td>\n",
       "      <td>AT</td>\n",
       "      <td>Graz</td>\n",
       "      <td>NaN</td>\n",
       "      <td>42.0</td>\n",
       "      <td>133.0</td>\n",
       "      <td>216.0</td>\n",
       "      <td>NaN</td>\n",
       "      <td>NaN</td>\n",
       "      <td>191.0</td>\n",
       "      <td>...</td>\n",
       "      <td>215.0</td>\n",
       "      <td>NaN</td>\n",
       "      <td>21.0</td>\n",
       "      <td>216.0</td>\n",
       "      <td>29.0</td>\n",
       "      <td>216.0</td>\n",
       "      <td>NaN</td>\n",
       "      <td>NaN</td>\n",
       "      <td>202.0</td>\n",
       "      <td>208.0</td>\n",
       "    </tr>\n",
       "  </tbody>\n",
       "</table>\n",
       "<p>5 rows × 22 columns</p>\n",
       "</div>"
      ],
      "text/plain": [
       "Specie       Date Country          City  aqi    co    dew  humidity  mepaqi  \\\n",
       "0      2020-12-28      AE     Abu Dhabi  NaN   6.0  122.0     192.0     NaN   \n",
       "1      2020-12-28      AE         Dubai  NaN   NaN   20.0      24.0     NaN   \n",
       "2      2020-12-28      AF         Kabul  NaN   NaN   21.0      24.0     NaN   \n",
       "3      2020-12-28      AR  Buenos Aires  NaN  70.0   48.0      96.0     NaN   \n",
       "4      2020-12-28      AT          Graz  NaN  42.0  133.0     216.0     NaN   \n",
       "\n",
       "Specie  neph    no2  ...   pm10  pm25  precipitation  pressure    so2  \\\n",
       "0        NaN  114.0  ...  120.0  24.0            NaN     192.0  116.0   \n",
       "1        NaN    NaN  ...    NaN  24.0            NaN      24.0    NaN   \n",
       "2        NaN    NaN  ...    NaN  24.0            NaN      24.0    NaN   \n",
       "3        NaN   46.0  ...   77.0  23.0            NaN      96.0    NaN   \n",
       "4        NaN  191.0  ...  215.0   NaN           21.0     216.0   29.0   \n",
       "\n",
       "Specie  temperature  uvi    wd  wind-gust  wind-speed  \n",
       "0             192.0  NaN   NaN        NaN       192.0  \n",
       "1              24.0  NaN   NaN        NaN        24.0  \n",
       "2              24.0  NaN   NaN        NaN        24.0  \n",
       "3              96.0  NaN  18.0       60.0        96.0  \n",
       "4             216.0  NaN   NaN      202.0       208.0  \n",
       "\n",
       "[5 rows x 22 columns]"
      ]
     },
     "execution_count": 156,
     "metadata": {},
     "output_type": "execute_result"
    }
   ],
   "source": [
    "data_2021_2024.head()"
   ]
  },
  {
   "cell_type": "code",
   "execution_count": 157,
   "id": "e3f42c6b",
   "metadata": {
    "execution": {
     "iopub.execute_input": "2024-12-30T03:23:24.796293Z",
     "iopub.status.busy": "2024-12-30T03:23:24.795932Z",
     "iopub.status.idle": "2024-12-30T03:23:24.805510Z",
     "shell.execute_reply": "2024-12-30T03:23:24.804390Z"
    },
    "executionInfo": {
     "elapsed": 475,
     "status": "ok",
     "timestamp": 1734445791046,
     "user": {
      "displayName": "Tahmida Majumder",
      "userId": "15415648085337204568"
     },
     "user_tz": -480
    },
    "id": "POgiBz6uBiju",
    "outputId": "e4a4681b-9b73-4d04-a6db-18d3bc160025",
    "papermill": {
     "duration": 0.070688,
     "end_time": "2024-12-30T03:23:24.807261",
     "exception": false,
     "start_time": "2024-12-30T03:23:24.736573",
     "status": "completed"
    },
    "tags": []
   },
   "outputs": [
    {
     "name": "stdout",
     "output_type": "stream",
     "text": [
      "Minimum date: 2020-12-28 00:00:00\n",
      "Maximum date: 2024-12-17 00:00:00\n"
     ]
    }
   ],
   "source": [
    "# Find the minimum and maximum dates\n",
    "min_date = data_2021_2024['Date'].min()\n",
    "max_date = data_2021_2024['Date'].max()\n",
    "\n",
    "print('Minimum date:', min_date)\n",
    "print('Maximum date:', max_date)"
   ]
  },
  {
   "cell_type": "code",
   "execution_count": 158,
   "id": "66cf1131",
   "metadata": {
    "execution": {
     "iopub.execute_input": "2024-12-30T03:23:24.926081Z",
     "iopub.status.busy": "2024-12-30T03:23:24.925716Z",
     "iopub.status.idle": "2024-12-30T03:23:32.660908Z",
     "shell.execute_reply": "2024-12-30T03:23:32.659909Z"
    },
    "id": "Uk9ON_gba_z1",
    "papermill": {
     "duration": 7.797014,
     "end_time": "2024-12-30T03:23:32.662767",
     "exception": false,
     "start_time": "2024-12-30T03:23:24.865753",
     "status": "completed"
    },
    "tags": []
   },
   "outputs": [],
   "source": [
    "os.makedirs('/kaggle/working/data-after-combine', exist_ok=True)\n",
    "data_2021_2024.to_csv('/kaggle/working/data-after-combine/data_2021_2024.csv')"
   ]
  }
 ],
 "metadata": {
  "colab": {
   "authorship_tag": "ABX9TyM2h2pBYoWj/rl0Kxoyfj8H",
   "provenance": []
  },
  "kaggle": {
   "accelerator": "none",
   "dataSources": [
    {
     "datasetId": 6339201,
     "sourceId": 10249119,
     "sourceType": "datasetVersion"
    }
   ],
   "dockerImageVersionId": 30822,
   "isGpuEnabled": false,
   "isInternetEnabled": false,
   "language": "python",
   "sourceType": "notebook"
  },
  "kernelspec": {
   "display_name": "Python 3",
   "language": "python",
   "name": "python3"
  },
  "language_info": {
   "codemirror_mode": {
    "name": "ipython",
    "version": 3
   },
   "file_extension": ".py",
   "mimetype": "text/x-python",
   "name": "python",
   "nbconvert_exporter": "python",
   "pygments_lexer": "ipython3",
   "version": "3.10.12"
  },
  "papermill": {
   "default_parameters": {},
   "duration": 75.483055,
   "end_time": "2024-12-30T03:23:33.548127",
   "environment_variables": {},
   "exception": null,
   "input_path": "__notebook__.ipynb",
   "output_path": "__notebook__.ipynb",
   "parameters": {},
   "start_time": "2024-12-30T03:22:18.065072",
   "version": "2.6.0"
  }
 },
 "nbformat": 4,
 "nbformat_minor": 5
}
