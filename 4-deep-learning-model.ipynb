{
 "cells": [
  {
   "cell_type": "code",
   "execution_count": 1,
   "id": "9271012a",
   "metadata": {
    "execution": {
     "iopub.execute_input": "2024-12-30T03:01:23.047323Z",
     "iopub.status.busy": "2024-12-30T03:01:23.046872Z",
     "iopub.status.idle": "2024-12-30T03:01:32.807945Z",
     "shell.execute_reply": "2024-12-30T03:01:32.806734Z"
    },
    "papermill": {
     "duration": 9.773459,
     "end_time": "2024-12-30T03:01:32.810108",
     "exception": false,
     "start_time": "2024-12-30T03:01:23.036649",
     "status": "completed"
    },
    "tags": []
   },
   "outputs": [],
   "source": [
    "# import essential libraries\n",
    "import tensorflow as tf\n",
    "import os\n",
    "import pandas as pd\n",
    "import numpy as np"
   ]
  },
  {
   "cell_type": "code",
   "execution_count": 2,
   "id": "61479ed0",
   "metadata": {
    "execution": {
     "iopub.execute_input": "2024-12-30T03:01:32.828958Z",
     "iopub.status.busy": "2024-12-30T03:01:32.828348Z",
     "iopub.status.idle": "2024-12-30T03:01:32.890134Z",
     "shell.execute_reply": "2024-12-30T03:01:32.888962Z"
    },
    "papermill": {
     "duration": 0.072781,
     "end_time": "2024-12-30T03:01:32.892045",
     "exception": false,
     "start_time": "2024-12-30T03:01:32.819264",
     "status": "completed"
    },
    "tags": []
   },
   "outputs": [
    {
     "name": "stdout",
     "output_type": "stream",
     "text": [
      "(2477, 20)\n"
     ]
    },
    {
     "data": {
      "text/html": [
       "<div>\n",
       "<style scoped>\n",
       "    .dataframe tbody tr th:only-of-type {\n",
       "        vertical-align: middle;\n",
       "    }\n",
       "\n",
       "    .dataframe tbody tr th {\n",
       "        vertical-align: top;\n",
       "    }\n",
       "\n",
       "    .dataframe thead th {\n",
       "        text-align: right;\n",
       "    }\n",
       "</style>\n",
       "<table border=\"1\" class=\"dataframe\">\n",
       "  <thead>\n",
       "    <tr style=\"text-align: right;\">\n",
       "      <th></th>\n",
       "      <th>Date</th>\n",
       "      <th>co</th>\n",
       "      <th>no2</th>\n",
       "      <th>o3</th>\n",
       "      <th>pm10</th>\n",
       "      <th>pm25</th>\n",
       "      <th>so2</th>\n",
       "      <th>humidity</th>\n",
       "      <th>pressure</th>\n",
       "      <th>temperature</th>\n",
       "      <th>CO_SubIndex</th>\n",
       "      <th>NO2_SubIndex</th>\n",
       "      <th>O3_SubIndex</th>\n",
       "      <th>PM10_SubIndex</th>\n",
       "      <th>PM2.5_SubIndex</th>\n",
       "      <th>SO2_SubIndex</th>\n",
       "      <th>Checks</th>\n",
       "      <th>AQI</th>\n",
       "      <th>AQI_bucket</th>\n",
       "      <th>Country_City</th>\n",
       "    </tr>\n",
       "  </thead>\n",
       "  <tbody>\n",
       "    <tr>\n",
       "      <th>0</th>\n",
       "      <td>2015-04-27</td>\n",
       "      <td>3.0</td>\n",
       "      <td>2.0</td>\n",
       "      <td>NaN</td>\n",
       "      <td>3.0</td>\n",
       "      <td>NaN</td>\n",
       "      <td>NaN</td>\n",
       "      <td>NaN</td>\n",
       "      <td>NaN</td>\n",
       "      <td>NaN</td>\n",
       "      <td>34.090909</td>\n",
       "      <td>1.886792</td>\n",
       "      <td>0</td>\n",
       "      <td>2.777778</td>\n",
       "      <td>0.0</td>\n",
       "      <td>0.0</td>\n",
       "      <td>3</td>\n",
       "      <td>34.0</td>\n",
       "      <td>Good</td>\n",
       "      <td>Argentina_Buenos Aires</td>\n",
       "    </tr>\n",
       "    <tr>\n",
       "      <th>1</th>\n",
       "      <td>2015-04-28</td>\n",
       "      <td>61.0</td>\n",
       "      <td>45.0</td>\n",
       "      <td>NaN</td>\n",
       "      <td>65.0</td>\n",
       "      <td>NaN</td>\n",
       "      <td>NaN</td>\n",
       "      <td>NaN</td>\n",
       "      <td>NaN</td>\n",
       "      <td>NaN</td>\n",
       "      <td>500.052421</td>\n",
       "      <td>42.452830</td>\n",
       "      <td>0</td>\n",
       "      <td>55.050505</td>\n",
       "      <td>0.0</td>\n",
       "      <td>0.0</td>\n",
       "      <td>3</td>\n",
       "      <td>500.0</td>\n",
       "      <td>Hazardous</td>\n",
       "      <td>Argentina_Buenos Aires</td>\n",
       "    </tr>\n",
       "    <tr>\n",
       "      <th>2</th>\n",
       "      <td>2015-04-29</td>\n",
       "      <td>70.0</td>\n",
       "      <td>48.0</td>\n",
       "      <td>NaN</td>\n",
       "      <td>51.0</td>\n",
       "      <td>NaN</td>\n",
       "      <td>NaN</td>\n",
       "      <td>NaN</td>\n",
       "      <td>NaN</td>\n",
       "      <td>NaN</td>\n",
       "      <td>500.097354</td>\n",
       "      <td>45.283019</td>\n",
       "      <td>0</td>\n",
       "      <td>47.222222</td>\n",
       "      <td>0.0</td>\n",
       "      <td>0.0</td>\n",
       "      <td>3</td>\n",
       "      <td>500.0</td>\n",
       "      <td>Hazardous</td>\n",
       "      <td>Argentina_Buenos Aires</td>\n",
       "    </tr>\n",
       "    <tr>\n",
       "      <th>3</th>\n",
       "      <td>2015-05-03</td>\n",
       "      <td>68.0</td>\n",
       "      <td>45.0</td>\n",
       "      <td>NaN</td>\n",
       "      <td>56.0</td>\n",
       "      <td>NaN</td>\n",
       "      <td>NaN</td>\n",
       "      <td>NaN</td>\n",
       "      <td>NaN</td>\n",
       "      <td>NaN</td>\n",
       "      <td>500.087369</td>\n",
       "      <td>42.452830</td>\n",
       "      <td>0</td>\n",
       "      <td>50.505051</td>\n",
       "      <td>0.0</td>\n",
       "      <td>0.0</td>\n",
       "      <td>3</td>\n",
       "      <td>500.0</td>\n",
       "      <td>Hazardous</td>\n",
       "      <td>Argentina_Buenos Aires</td>\n",
       "    </tr>\n",
       "    <tr>\n",
       "      <th>4</th>\n",
       "      <td>2015-05-04</td>\n",
       "      <td>72.0</td>\n",
       "      <td>46.0</td>\n",
       "      <td>NaN</td>\n",
       "      <td>11.0</td>\n",
       "      <td>NaN</td>\n",
       "      <td>NaN</td>\n",
       "      <td>NaN</td>\n",
       "      <td>NaN</td>\n",
       "      <td>NaN</td>\n",
       "      <td>500.107339</td>\n",
       "      <td>43.396226</td>\n",
       "      <td>0</td>\n",
       "      <td>10.185185</td>\n",
       "      <td>0.0</td>\n",
       "      <td>0.0</td>\n",
       "      <td>3</td>\n",
       "      <td>500.0</td>\n",
       "      <td>Hazardous</td>\n",
       "      <td>Argentina_Buenos Aires</td>\n",
       "    </tr>\n",
       "  </tbody>\n",
       "</table>\n",
       "</div>"
      ],
      "text/plain": [
       "         Date    co   no2  o3  pm10  pm25  so2  humidity  pressure  \\\n",
       "0  2015-04-27   3.0   2.0 NaN   3.0   NaN  NaN       NaN       NaN   \n",
       "1  2015-04-28  61.0  45.0 NaN  65.0   NaN  NaN       NaN       NaN   \n",
       "2  2015-04-29  70.0  48.0 NaN  51.0   NaN  NaN       NaN       NaN   \n",
       "3  2015-05-03  68.0  45.0 NaN  56.0   NaN  NaN       NaN       NaN   \n",
       "4  2015-05-04  72.0  46.0 NaN  11.0   NaN  NaN       NaN       NaN   \n",
       "\n",
       "   temperature  CO_SubIndex  NO2_SubIndex  O3_SubIndex  PM10_SubIndex  \\\n",
       "0          NaN    34.090909      1.886792            0       2.777778   \n",
       "1          NaN   500.052421     42.452830            0      55.050505   \n",
       "2          NaN   500.097354     45.283019            0      47.222222   \n",
       "3          NaN   500.087369     42.452830            0      50.505051   \n",
       "4          NaN   500.107339     43.396226            0      10.185185   \n",
       "\n",
       "   PM2.5_SubIndex  SO2_SubIndex  Checks    AQI AQI_bucket  \\\n",
       "0             0.0           0.0       3   34.0       Good   \n",
       "1             0.0           0.0       3  500.0  Hazardous   \n",
       "2             0.0           0.0       3  500.0  Hazardous   \n",
       "3             0.0           0.0       3  500.0  Hazardous   \n",
       "4             0.0           0.0       3  500.0  Hazardous   \n",
       "\n",
       "             Country_City  \n",
       "0  Argentina_Buenos Aires  \n",
       "1  Argentina_Buenos Aires  \n",
       "2  Argentina_Buenos Aires  \n",
       "3  Argentina_Buenos Aires  \n",
       "4  Argentina_Buenos Aires  "
      ]
     },
     "execution_count": 2,
     "metadata": {},
     "output_type": "execute_result"
    }
   ],
   "source": [
    "# Loading the data\n",
    "new_data = pd.read_csv(\"/kaggle/input/location-separated-data/Argentina_Buenos Aires.csv\")\n",
    "\n",
    "# print the shape\n",
    "print(new_data.shape)\n",
    "\n",
    "#runs the first 5 rows\n",
    "new_data.head()"
   ]
  },
  {
   "cell_type": "code",
   "execution_count": 3,
   "id": "96243518",
   "metadata": {
    "execution": {
     "iopub.execute_input": "2024-12-30T03:01:32.911454Z",
     "iopub.status.busy": "2024-12-30T03:01:32.911123Z",
     "iopub.status.idle": "2024-12-30T03:01:32.940208Z",
     "shell.execute_reply": "2024-12-30T03:01:32.939263Z"
    },
    "papermill": {
     "duration": 0.040478,
     "end_time": "2024-12-30T03:01:32.941801",
     "exception": false,
     "start_time": "2024-12-30T03:01:32.901323",
     "status": "completed"
    },
    "tags": []
   },
   "outputs": [
    {
     "data": {
      "text/html": [
       "<div>\n",
       "<style scoped>\n",
       "    .dataframe tbody tr th:only-of-type {\n",
       "        vertical-align: middle;\n",
       "    }\n",
       "\n",
       "    .dataframe tbody tr th {\n",
       "        vertical-align: top;\n",
       "    }\n",
       "\n",
       "    .dataframe thead th {\n",
       "        text-align: right;\n",
       "    }\n",
       "</style>\n",
       "<table border=\"1\" class=\"dataframe\">\n",
       "  <thead>\n",
       "    <tr style=\"text-align: right;\">\n",
       "      <th></th>\n",
       "      <th>co</th>\n",
       "      <th>no2</th>\n",
       "      <th>o3</th>\n",
       "      <th>pm10</th>\n",
       "      <th>pm25</th>\n",
       "      <th>so2</th>\n",
       "      <th>humidity</th>\n",
       "      <th>pressure</th>\n",
       "      <th>temperature</th>\n",
       "      <th>CO_SubIndex</th>\n",
       "      <th>NO2_SubIndex</th>\n",
       "      <th>O3_SubIndex</th>\n",
       "      <th>PM10_SubIndex</th>\n",
       "      <th>PM2.5_SubIndex</th>\n",
       "      <th>SO2_SubIndex</th>\n",
       "      <th>Checks</th>\n",
       "      <th>AQI</th>\n",
       "      <th>AQI_bucket</th>\n",
       "      <th>Country_City</th>\n",
       "    </tr>\n",
       "    <tr>\n",
       "      <th>Date</th>\n",
       "      <th></th>\n",
       "      <th></th>\n",
       "      <th></th>\n",
       "      <th></th>\n",
       "      <th></th>\n",
       "      <th></th>\n",
       "      <th></th>\n",
       "      <th></th>\n",
       "      <th></th>\n",
       "      <th></th>\n",
       "      <th></th>\n",
       "      <th></th>\n",
       "      <th></th>\n",
       "      <th></th>\n",
       "      <th></th>\n",
       "      <th></th>\n",
       "      <th></th>\n",
       "      <th></th>\n",
       "      <th></th>\n",
       "    </tr>\n",
       "  </thead>\n",
       "  <tbody>\n",
       "    <tr>\n",
       "      <th>2015-04-27</th>\n",
       "      <td>3.0</td>\n",
       "      <td>2.0</td>\n",
       "      <td>NaN</td>\n",
       "      <td>3.0</td>\n",
       "      <td>NaN</td>\n",
       "      <td>NaN</td>\n",
       "      <td>NaN</td>\n",
       "      <td>NaN</td>\n",
       "      <td>NaN</td>\n",
       "      <td>34.090909</td>\n",
       "      <td>1.886792</td>\n",
       "      <td>0</td>\n",
       "      <td>2.777778</td>\n",
       "      <td>0.0</td>\n",
       "      <td>0.0</td>\n",
       "      <td>3</td>\n",
       "      <td>34.0</td>\n",
       "      <td>Good</td>\n",
       "      <td>Argentina_Buenos Aires</td>\n",
       "    </tr>\n",
       "    <tr>\n",
       "      <th>2015-04-28</th>\n",
       "      <td>61.0</td>\n",
       "      <td>45.0</td>\n",
       "      <td>NaN</td>\n",
       "      <td>65.0</td>\n",
       "      <td>NaN</td>\n",
       "      <td>NaN</td>\n",
       "      <td>NaN</td>\n",
       "      <td>NaN</td>\n",
       "      <td>NaN</td>\n",
       "      <td>500.052421</td>\n",
       "      <td>42.452830</td>\n",
       "      <td>0</td>\n",
       "      <td>55.050505</td>\n",
       "      <td>0.0</td>\n",
       "      <td>0.0</td>\n",
       "      <td>3</td>\n",
       "      <td>500.0</td>\n",
       "      <td>Hazardous</td>\n",
       "      <td>Argentina_Buenos Aires</td>\n",
       "    </tr>\n",
       "    <tr>\n",
       "      <th>2015-04-29</th>\n",
       "      <td>70.0</td>\n",
       "      <td>48.0</td>\n",
       "      <td>NaN</td>\n",
       "      <td>51.0</td>\n",
       "      <td>NaN</td>\n",
       "      <td>NaN</td>\n",
       "      <td>NaN</td>\n",
       "      <td>NaN</td>\n",
       "      <td>NaN</td>\n",
       "      <td>500.097354</td>\n",
       "      <td>45.283019</td>\n",
       "      <td>0</td>\n",
       "      <td>47.222222</td>\n",
       "      <td>0.0</td>\n",
       "      <td>0.0</td>\n",
       "      <td>3</td>\n",
       "      <td>500.0</td>\n",
       "      <td>Hazardous</td>\n",
       "      <td>Argentina_Buenos Aires</td>\n",
       "    </tr>\n",
       "    <tr>\n",
       "      <th>2015-05-03</th>\n",
       "      <td>68.0</td>\n",
       "      <td>45.0</td>\n",
       "      <td>NaN</td>\n",
       "      <td>56.0</td>\n",
       "      <td>NaN</td>\n",
       "      <td>NaN</td>\n",
       "      <td>NaN</td>\n",
       "      <td>NaN</td>\n",
       "      <td>NaN</td>\n",
       "      <td>500.087369</td>\n",
       "      <td>42.452830</td>\n",
       "      <td>0</td>\n",
       "      <td>50.505051</td>\n",
       "      <td>0.0</td>\n",
       "      <td>0.0</td>\n",
       "      <td>3</td>\n",
       "      <td>500.0</td>\n",
       "      <td>Hazardous</td>\n",
       "      <td>Argentina_Buenos Aires</td>\n",
       "    </tr>\n",
       "    <tr>\n",
       "      <th>2015-05-04</th>\n",
       "      <td>72.0</td>\n",
       "      <td>46.0</td>\n",
       "      <td>NaN</td>\n",
       "      <td>11.0</td>\n",
       "      <td>NaN</td>\n",
       "      <td>NaN</td>\n",
       "      <td>NaN</td>\n",
       "      <td>NaN</td>\n",
       "      <td>NaN</td>\n",
       "      <td>500.107339</td>\n",
       "      <td>43.396226</td>\n",
       "      <td>0</td>\n",
       "      <td>10.185185</td>\n",
       "      <td>0.0</td>\n",
       "      <td>0.0</td>\n",
       "      <td>3</td>\n",
       "      <td>500.0</td>\n",
       "      <td>Hazardous</td>\n",
       "      <td>Argentina_Buenos Aires</td>\n",
       "    </tr>\n",
       "  </tbody>\n",
       "</table>\n",
       "</div>"
      ],
      "text/plain": [
       "              co   no2  o3  pm10  pm25  so2  humidity  pressure  temperature  \\\n",
       "Date                                                                           \n",
       "2015-04-27   3.0   2.0 NaN   3.0   NaN  NaN       NaN       NaN          NaN   \n",
       "2015-04-28  61.0  45.0 NaN  65.0   NaN  NaN       NaN       NaN          NaN   \n",
       "2015-04-29  70.0  48.0 NaN  51.0   NaN  NaN       NaN       NaN          NaN   \n",
       "2015-05-03  68.0  45.0 NaN  56.0   NaN  NaN       NaN       NaN          NaN   \n",
       "2015-05-04  72.0  46.0 NaN  11.0   NaN  NaN       NaN       NaN          NaN   \n",
       "\n",
       "            CO_SubIndex  NO2_SubIndex  O3_SubIndex  PM10_SubIndex  \\\n",
       "Date                                                                \n",
       "2015-04-27    34.090909      1.886792            0       2.777778   \n",
       "2015-04-28   500.052421     42.452830            0      55.050505   \n",
       "2015-04-29   500.097354     45.283019            0      47.222222   \n",
       "2015-05-03   500.087369     42.452830            0      50.505051   \n",
       "2015-05-04   500.107339     43.396226            0      10.185185   \n",
       "\n",
       "            PM2.5_SubIndex  SO2_SubIndex  Checks    AQI AQI_bucket  \\\n",
       "Date                                                                 \n",
       "2015-04-27             0.0           0.0       3   34.0       Good   \n",
       "2015-04-28             0.0           0.0       3  500.0  Hazardous   \n",
       "2015-04-29             0.0           0.0       3  500.0  Hazardous   \n",
       "2015-05-03             0.0           0.0       3  500.0  Hazardous   \n",
       "2015-05-04             0.0           0.0       3  500.0  Hazardous   \n",
       "\n",
       "                      Country_City  \n",
       "Date                                \n",
       "2015-04-27  Argentina_Buenos Aires  \n",
       "2015-04-28  Argentina_Buenos Aires  \n",
       "2015-04-29  Argentina_Buenos Aires  \n",
       "2015-05-03  Argentina_Buenos Aires  \n",
       "2015-05-04  Argentina_Buenos Aires  "
      ]
     },
     "execution_count": 3,
     "metadata": {},
     "output_type": "execute_result"
    }
   ],
   "source": [
    "# Convert Date column to datetime\n",
    "new_data['Date'] = pd.to_datetime(new_data['Date'])\n",
    "\n",
    "# Set Date as the index\n",
    "new_data.set_index('Date', inplace=True)\n",
    "\n",
    "new_data.head()"
   ]
  },
  {
   "cell_type": "code",
   "execution_count": null,
   "id": "ca9abfdb",
   "metadata": {
    "papermill": {
     "duration": 0.008625,
     "end_time": "2024-12-30T03:01:32.959548",
     "exception": false,
     "start_time": "2024-12-30T03:01:32.950923",
     "status": "completed"
    },
    "tags": []
   },
   "outputs": [],
   "source": []
  },
  {
   "cell_type": "markdown",
   "id": "7e0d01aa",
   "metadata": {
    "papermill": {
     "duration": 0.008406,
     "end_time": "2024-12-30T03:01:32.976769",
     "exception": false,
     "start_time": "2024-12-30T03:01:32.968363",
     "status": "completed"
    },
    "tags": []
   },
   "source": [
    "# Basic LSTM \n",
    "- Using only AQI as feature\n",
    "- Taking 6 previous data as input and 7th as output or level(window_size or kernal size = 6)"
   ]
  },
  {
   "cell_type": "code",
   "execution_count": 4,
   "id": "4a1e2831",
   "metadata": {
    "execution": {
     "iopub.execute_input": "2024-12-30T03:01:32.996029Z",
     "iopub.status.busy": "2024-12-30T03:01:32.995637Z",
     "iopub.status.idle": "2024-12-30T03:01:33.395592Z",
     "shell.execute_reply": "2024-12-30T03:01:33.394366Z"
    },
    "papermill": {
     "duration": 0.411644,
     "end_time": "2024-12-30T03:01:33.397522",
     "exception": false,
     "start_time": "2024-12-30T03:01:32.985878",
     "status": "completed"
    },
    "tags": []
   },
   "outputs": [
    {
     "data": {
      "text/plain": [
       "<Axes: xlabel='Date'>"
      ]
     },
     "execution_count": 4,
     "metadata": {},
     "output_type": "execute_result"
    },
    {
     "data": {
      "image/png": "[encoded data removed]",
      "text/plain": [
       "<Figure size 640x480 with 1 Axes>"
      ]
     },
     "metadata": {},
     "output_type": "display_data"
    }
   ],
   "source": [
    "aqi = new_data['AQI']\n",
    "aqi.plot()"
   ]
  },
  {
   "cell_type": "code",
   "execution_count": 5,
   "id": "4d442851",
   "metadata": {
    "execution": {
     "iopub.execute_input": "2024-12-30T03:01:33.418388Z",
     "iopub.status.busy": "2024-12-30T03:01:33.417929Z",
     "iopub.status.idle": "2024-12-30T03:01:33.423971Z",
     "shell.execute_reply": "2024-12-30T03:01:33.422857Z"
    },
    "papermill": {
     "duration": 0.01836,
     "end_time": "2024-12-30T03:01:33.425773",
     "exception": false,
     "start_time": "2024-12-30T03:01:33.407413",
     "status": "completed"
    },
    "tags": []
   },
   "outputs": [],
   "source": [
    "# function to define window_size, converting data into numpy array, \n",
    "# two types of array X-feature and y-label\n",
    "\n",
    "def new_data_to_X_y(new_data, window_size=6):\n",
    "  new_data_as_np = new_data.to_numpy()\n",
    "  X = []\n",
    "  y = []\n",
    "  for i in range(len(new_data_as_np)-window_size):\n",
    "    row = [[a] for a in new_data_as_np[i:i+window_size]]\n",
    "    X.append(row)\n",
    "    label = new_data_as_np[i+window_size]\n",
    "    y.append(label)\n",
    "  return np.array(X), np.array(y)"
   ]
  },
  {
   "cell_type": "code",
   "execution_count": 6,
   "id": "83934914",
   "metadata": {
    "execution": {
     "iopub.execute_input": "2024-12-30T03:01:33.447257Z",
     "iopub.status.busy": "2024-12-30T03:01:33.446852Z",
     "iopub.status.idle": "2024-12-30T03:01:33.469211Z",
     "shell.execute_reply": "2024-12-30T03:01:33.468065Z"
    },
    "papermill": {
     "duration": 0.03448,
     "end_time": "2024-12-30T03:01:33.470804",
     "exception": false,
     "start_time": "2024-12-30T03:01:33.436324",
     "status": "completed"
    },
    "tags": []
   },
   "outputs": [
    {
     "data": {
      "text/plain": [
       "((2471, 6, 1), (2471,))"
      ]
     },
     "execution_count": 6,
     "metadata": {},
     "output_type": "execute_result"
    }
   ],
   "source": [
    "#passing data to function\n",
    "\n",
    "WINDOW_SIZE = 6\n",
    "X1, y1 = new_data_to_X_y(aqi, WINDOW_SIZE)\n",
    "X1.shape, y1.shape"
   ]
  },
  {
   "cell_type": "code",
   "execution_count": 7,
   "id": "a88fd12b",
   "metadata": {
    "execution": {
     "iopub.execute_input": "2024-12-30T03:01:33.491767Z",
     "iopub.status.busy": "2024-12-30T03:01:33.491399Z",
     "iopub.status.idle": "2024-12-30T03:01:34.412239Z",
     "shell.execute_reply": "2024-12-30T03:01:34.411293Z"
    },
    "papermill": {
     "duration": 0.933404,
     "end_time": "2024-12-30T03:01:34.414207",
     "exception": false,
     "start_time": "2024-12-30T03:01:33.480803",
     "status": "completed"
    },
    "tags": []
   },
   "outputs": [],
   "source": [
    "from sklearn.preprocessing import StandardScaler\n",
    "scaler = StandardScaler()\n",
    "X1 = scaler.fit_transform(X1.reshape(-1, 6)).reshape(-1, 6, 1)"
   ]
  },
  {
   "cell_type": "code",
   "execution_count": 8,
   "id": "123c7325",
   "metadata": {
    "execution": {
     "iopub.execute_input": "2024-12-30T03:01:34.436645Z",
     "iopub.status.busy": "2024-12-30T03:01:34.435807Z",
     "iopub.status.idle": "2024-12-30T03:01:34.443933Z",
     "shell.execute_reply": "2024-12-30T03:01:34.442891Z"
    },
    "papermill": {
     "duration": 0.020818,
     "end_time": "2024-12-30T03:01:34.445700",
     "exception": false,
     "start_time": "2024-12-30T03:01:34.424882",
     "status": "completed"
    },
    "tags": []
   },
   "outputs": [
    {
     "data": {
      "text/plain": [
       "((1200, 6, 1), (1200,), (800, 6, 1), (800,), (471, 6, 1), (471,))"
      ]
     },
     "execution_count": 8,
     "metadata": {},
     "output_type": "execute_result"
    }
   ],
   "source": [
    "# train,validation, and test split\n",
    "\n",
    "X_train1, y_train1 = X1[:1200], y1[:1200]\n",
    "X_val1, y_val1 = X1[1200:2000], y1[1200:2000]\n",
    "X_test1, y_test1 = X1[2000:], y1[2000:]\n",
    "X_train1.shape, y_train1.shape, X_val1.shape, y_val1.shape, X_test1.shape, y_test1.shape"
   ]
  },
  {
   "cell_type": "code",
   "execution_count": 9,
   "id": "fcf87f74",
   "metadata": {
    "execution": {
     "iopub.execute_input": "2024-12-30T03:01:34.467641Z",
     "iopub.status.busy": "2024-12-30T03:01:34.467261Z",
     "iopub.status.idle": "2024-12-30T03:01:34.515481Z",
     "shell.execute_reply": "2024-12-30T03:01:34.514455Z"
    },
    "papermill": {
     "duration": 0.061191,
     "end_time": "2024-12-30T03:01:34.517465",
     "exception": false,
     "start_time": "2024-12-30T03:01:34.456274",
     "status": "completed"
    },
    "tags": []
   },
   "outputs": [],
   "source": [
    "# libraries for building model and testing\n",
    "from tensorflow.keras.models import Sequential\n",
    "from tensorflow.keras.layers import *\n",
    "from tensorflow.keras.callbacks import ModelCheckpoint\n",
    "from tensorflow.keras.losses import MeanSquaredError\n",
    "from tensorflow.keras.metrics import RootMeanSquaredError\n",
    "from tensorflow.keras.optimizers import Adam\n",
    "from keras.regularizers import l2"
   ]
  },
  {
   "cell_type": "code",
   "execution_count": 10,
   "id": "7126e43c",
   "metadata": {
    "execution": {
     "iopub.execute_input": "2024-12-30T03:01:34.538677Z",
     "iopub.status.busy": "2024-12-30T03:01:34.538330Z",
     "iopub.status.idle": "2024-12-30T03:01:34.682040Z",
     "shell.execute_reply": "2024-12-30T03:01:34.680752Z"
    },
    "papermill": {
     "duration": 0.156641,
     "end_time": "2024-12-30T03:01:34.684191",
     "exception": false,
     "start_time": "2024-12-30T03:01:34.527550",
     "status": "completed"
    },
    "tags": []
   },
   "outputs": [
    {
     "data": {
      "text/html": [
       "<pre style=\"white-space:pre;overflow-x:auto;line-height:normal;font-family:Menlo,'DejaVu Sans Mono',consolas,'Courier New',monospace\"><span style=\"font-weight: bold\">Model: \"sequential\"</span>\n",
       "</pre>\n"
      ],
      "text/plain": [
       "\u001b[1mModel: \"sequential\"\u001b[0m\n"
      ]
     },
     "metadata": {},
     "output_type": "display_data"
    },
    {
     "data": {
      "text/html": [
       "<pre style=\"white-space:pre;overflow-x:auto;line-height:normal;font-family:Menlo,'DejaVu Sans Mono',consolas,'Courier New',monospace\">┏━━━━━━━━━━━━━━━━━━━━━━━━━━━━━━━━━━━━━━┳━━━━━━━━━━━━━━━━━━━━━━━━━━━━━┳━━━━━━━━━━━━━━━━━┓\n",
       "┃<span style=\"font-weight: bold\"> Layer (type)                         </span>┃<span style=\"font-weight: bold\"> Output Shape                </span>┃<span style=\"font-weight: bold\">         Param # </span>┃\n",
       "┡━━━━━━━━━━━━━━━━━━━━━━━━━━━━━━━━━━━━━━╇━━━━━━━━━━━━━━━━━━━━━━━━━━━━━╇━━━━━━━━━━━━━━━━━┩\n",
       "│ lstm (<span style=\"color: #0087ff; text-decoration-color: #0087ff\">LSTM</span>)                          │ (<span style=\"color: #00d7ff; text-decoration-color: #00d7ff\">None</span>, <span style=\"color: #00af00; text-decoration-color: #00af00\">32</span>)                  │           <span style=\"color: #00af00; text-decoration-color: #00af00\">4,352</span> │\n",
       "├──────────────────────────────────────┼─────────────────────────────┼─────────────────┤\n",
       "│ dense (<span style=\"color: #0087ff; text-decoration-color: #0087ff\">Dense</span>)                        │ (<span style=\"color: #00d7ff; text-decoration-color: #00d7ff\">None</span>, <span style=\"color: #00af00; text-decoration-color: #00af00\">8</span>)                   │             <span style=\"color: #00af00; text-decoration-color: #00af00\">264</span> │\n",
       "├──────────────────────────────────────┼─────────────────────────────┼─────────────────┤\n",
       "│ dense_1 (<span style=\"color: #0087ff; text-decoration-color: #0087ff\">Dense</span>)                      │ (<span style=\"color: #00d7ff; text-decoration-color: #00d7ff\">None</span>, <span style=\"color: #00af00; text-decoration-color: #00af00\">1</span>)                   │               <span style=\"color: #00af00; text-decoration-color: #00af00\">9</span> │\n",
       "└──────────────────────────────────────┴─────────────────────────────┴─────────────────┘\n",
       "</pre>\n"
      ],
      "text/plain": [
       "┏━━━━━━━━━━━━━━━━━━━━━━━━━━━━━━━━━━━━━━┳━━━━━━━━━━━━━━━━━━━━━━━━━━━━━┳━━━━━━━━━━━━━━━━━┓\n",
       "┃\u001b[1m \u001b[0m\u001b[1mLayer (type)                        \u001b[0m\u001b[1m \u001b[0m┃\u001b[1m \u001b[0m\u001b[1mOutput Shape               \u001b[0m\u001b[1m \u001b[0m┃\u001b[1m \u001b[0m\u001b[1m        Param #\u001b[0m\u001b[1m \u001b[0m┃\n",
       "┡━━━━━━━━━━━━━━━━━━━━━━━━━━━━━━━━━━━━━━╇━━━━━━━━━━━━━━━━━━━━━━━━━━━━━╇━━━━━━━━━━━━━━━━━┩\n",
       "│ lstm (\u001b[38;5;33mLSTM\u001b[0m)                          │ (\u001b[38;5;45mNone\u001b[0m, \u001b[38;5;34m32\u001b[0m)                  │           \u001b[38;5;34m4,352\u001b[0m │\n",
       "├──────────────────────────────────────┼─────────────────────────────┼─────────────────┤\n",
       "│ dense (\u001b[38;5;33mDense\u001b[0m)                        │ (\u001b[38;5;45mNone\u001b[0m, \u001b[38;5;34m8\u001b[0m)                   │             \u001b[38;5;34m264\u001b[0m │\n",
       "├──────────────────────────────────────┼─────────────────────────────┼─────────────────┤\n",
       "│ dense_1 (\u001b[38;5;33mDense\u001b[0m)                      │ (\u001b[38;5;45mNone\u001b[0m, \u001b[38;5;34m1\u001b[0m)                   │               \u001b[38;5;34m9\u001b[0m │\n",
       "└──────────────────────────────────────┴─────────────────────────────┴─────────────────┘\n"
      ]
     },
     "metadata": {},
     "output_type": "display_data"
    },
    {
     "data": {
      "text/html": [
       "<pre style=\"white-space:pre;overflow-x:auto;line-height:normal;font-family:Menlo,'DejaVu Sans Mono',consolas,'Courier New',monospace\"><span style=\"font-weight: bold\"> Total params: </span><span style=\"color: #00af00; text-decoration-color: #00af00\">4,625</span> (18.07 KB)\n",
       "</pre>\n"
      ],
      "text/plain": [
       "\u001b[1m Total params: \u001b[0m\u001b[38;5;34m4,625\u001b[0m (18.07 KB)\n"
      ]
     },
     "metadata": {},
     "output_type": "display_data"
    },
    {
     "data": {
      "text/html": [
       "<pre style=\"white-space:pre;overflow-x:auto;line-height:normal;font-family:Menlo,'DejaVu Sans Mono',consolas,'Courier New',monospace\"><span style=\"font-weight: bold\"> Trainable params: </span><span style=\"color: #00af00; text-decoration-color: #00af00\">4,625</span> (18.07 KB)\n",
       "</pre>\n"
      ],
      "text/plain": [
       "\u001b[1m Trainable params: \u001b[0m\u001b[38;5;34m4,625\u001b[0m (18.07 KB)\n"
      ]
     },
     "metadata": {},
     "output_type": "display_data"
    },
    {
     "data": {
      "text/html": [
       "<pre style=\"white-space:pre;overflow-x:auto;line-height:normal;font-family:Menlo,'DejaVu Sans Mono',consolas,'Courier New',monospace\"><span style=\"font-weight: bold\"> Non-trainable params: </span><span style=\"color: #00af00; text-decoration-color: #00af00\">0</span> (0.00 B)\n",
       "</pre>\n"
      ],
      "text/plain": [
       "\u001b[1m Non-trainable params: \u001b[0m\u001b[38;5;34m0\u001b[0m (0.00 B)\n"
      ]
     },
     "metadata": {},
     "output_type": "display_data"
    }
   ],
   "source": [
    "model1 = Sequential()\n",
    "model1.add(InputLayer((6, 1))) # 6 timestamp , 1 feature\n",
    "model1.add(LSTM(32)) # LSTM layer with 16 units\n",
    "model1.add(Dense(8, activation='relu', kernel_regularizer=l2(0.001))) # activation function- ReLU with 8 dense layer\n",
    "model1.add(Dense(1, 'linear')) # output - linear and data- 1\n",
    "\n",
    "model1.summary()"
   ]
  },
  {
   "cell_type": "markdown",
   "id": "41e4b7a1",
   "metadata": {
    "papermill": {
     "duration": 0.011924,
     "end_time": "2024-12-30T03:01:34.708443",
     "exception": false,
     "start_time": "2024-12-30T03:01:34.696519",
     "status": "completed"
    },
    "tags": []
   },
   "source": [
    "**saving best performing model**\n",
    "\n",
    "**configuring the model:** \n",
    "Loss: To measure how far the predictions are from actual values.\n",
    "Optimizer: To adjust model weights and minimize the loss.\n",
    "Metrics: To monitor performance during training."
   ]
  },
  {
   "cell_type": "code",
   "execution_count": 11,
   "id": "384b410a",
   "metadata": {
    "execution": {
     "iopub.execute_input": "2024-12-30T03:01:34.733082Z",
     "iopub.status.busy": "2024-12-30T03:01:34.732627Z",
     "iopub.status.idle": "2024-12-30T03:01:34.751234Z",
     "shell.execute_reply": "2024-12-30T03:01:34.749960Z"
    },
    "papermill": {
     "duration": 0.033088,
     "end_time": "2024-12-30T03:01:34.753650",
     "exception": false,
     "start_time": "2024-12-30T03:01:34.720562",
     "status": "completed"
    },
    "tags": []
   },
   "outputs": [],
   "source": [
    "cp1 = ModelCheckpoint('/kaggle/working/model1.keras', save_best_only=True)\n",
    "\n",
    "model1.compile(loss=MeanSquaredError(), optimizer=Adam(learning_rate=0.01), \n",
    "               metrics=[RootMeanSquaredError()])"
   ]
  },
  {
   "cell_type": "code",
   "execution_count": 12,
   "id": "16c95f18",
   "metadata": {
    "_kg_hide-input": true,
    "_kg_hide-output": true,
    "execution": {
     "iopub.execute_input": "2024-12-30T03:01:34.776395Z",
     "iopub.status.busy": "2024-12-30T03:01:34.776040Z",
     "iopub.status.idle": "2024-12-30T03:02:00.275103Z",
     "shell.execute_reply": "2024-12-30T03:02:00.274109Z"
    },
    "papermill": {
     "duration": 25.512183,
     "end_time": "2024-12-30T03:02:00.276670",
     "exception": false,
     "start_time": "2024-12-30T03:01:34.764487",
     "status": "completed"
    },
    "tags": []
   },
   "outputs": [
    {
     "name": "stdout",
     "output_type": "stream",
     "text": [
      "Epoch 1/100\n",
      "\u001b[1m38/38\u001b[0m \u001b[32m━━━━━━━━━━━━━━━━━━━━\u001b[0m\u001b[37m\u001b[0m \u001b[1m3s\u001b[0m 19ms/step - loss: 156914.5156 - root_mean_squared_error: 396.1157 - val_loss: 153088.5469 - val_root_mean_squared_error: 391.2653\n",
      "Epoch 2/100\n",
      "\u001b[1m38/38\u001b[0m \u001b[32m━━━━━━━━━━━━━━━━━━━━\u001b[0m\u001b[37m\u001b[0m \u001b[1m0s\u001b[0m 6ms/step - loss: 136061.9844 - root_mean_squared_error: 368.7586 - val_loss: 111685.5625 - val_root_mean_squared_error: 334.1938\n",
      "Epoch 3/100\n",
      "\u001b[1m38/38\u001b[0m \u001b[32m━━━━━━━━━━━━━━━━━━━━\u001b[0m\u001b[37m\u001b[0m \u001b[1m0s\u001b[0m 6ms/step - loss: 90364.7188 - root_mean_squared_error: 300.5533 - val_loss: 63821.6836 - val_root_mean_squared_error: 252.6292\n",
      "Epoch 4/100\n",
      "\u001b[1m38/38\u001b[0m \u001b[32m━━━━━━━━━━━━━━━━━━━━\u001b[0m\u001b[37m\u001b[0m \u001b[1m0s\u001b[0m 6ms/step - loss: 51904.0625 - root_mean_squared_error: 227.6650 - val_loss: 30720.5977 - val_root_mean_squared_error: 175.2722\n",
      "Epoch 5/100\n",
      "\u001b[1m38/38\u001b[0m \u001b[32m━━━━━━━━━━━━━━━━━━━━\u001b[0m\u001b[37m\u001b[0m \u001b[1m0s\u001b[0m 6ms/step - loss: 30529.3867 - root_mean_squared_error: 174.6731 - val_loss: 20306.4629 - val_root_mean_squared_error: 142.4997\n",
      "Epoch 6/100\n",
      "\u001b[1m38/38\u001b[0m \u001b[32m━━━━━━━━━━━━━━━━━━━━\u001b[0m\u001b[37m\u001b[0m \u001b[1m0s\u001b[0m 6ms/step - loss: 24469.1738 - root_mean_squared_error: 156.3759 - val_loss: 18560.6074 - val_root_mean_squared_error: 136.2361\n",
      "Epoch 7/100\n",
      "\u001b[1m38/38\u001b[0m \u001b[32m━━━━━━━━━━━━━━━━━━━━\u001b[0m\u001b[37m\u001b[0m \u001b[1m0s\u001b[0m 6ms/step - loss: 26112.0820 - root_mean_squared_error: 161.4484 - val_loss: 12252.0400 - val_root_mean_squared_error: 110.6874\n",
      "Epoch 8/100\n",
      "\u001b[1m38/38\u001b[0m \u001b[32m━━━━━━━━━━━━━━━━━━━━\u001b[0m\u001b[37m\u001b[0m \u001b[1m0s\u001b[0m 6ms/step - loss: 13133.3672 - root_mean_squared_error: 114.5114 - val_loss: 7651.1782 - val_root_mean_squared_error: 87.4688\n",
      "Epoch 9/100\n",
      "\u001b[1m38/38\u001b[0m \u001b[32m━━━━━━━━━━━━━━━━━━━━\u001b[0m\u001b[37m\u001b[0m \u001b[1m0s\u001b[0m 7ms/step - loss: 9262.8301 - root_mean_squared_error: 96.2196 - val_loss: 6567.8198 - val_root_mean_squared_error: 81.0395\n",
      "Epoch 10/100\n",
      "\u001b[1m38/38\u001b[0m \u001b[32m━━━━━━━━━━━━━━━━━━━━\u001b[0m\u001b[37m\u001b[0m \u001b[1m0s\u001b[0m 6ms/step - loss: 6791.8594 - root_mean_squared_error: 82.2821 - val_loss: 6036.7998 - val_root_mean_squared_error: 77.6941\n",
      "Epoch 11/100\n",
      "\u001b[1m38/38\u001b[0m \u001b[32m━━━━━━━━━━━━━━━━━━━━\u001b[0m\u001b[37m\u001b[0m \u001b[1m0s\u001b[0m 5ms/step - loss: 6466.7490 - root_mean_squared_error: 80.2870 - val_loss: 6040.6533 - val_root_mean_squared_error: 77.7188\n",
      "Epoch 12/100\n",
      "\u001b[1m38/38\u001b[0m \u001b[32m━━━━━━━━━━━━━━━━━━━━\u001b[0m\u001b[37m\u001b[0m \u001b[1m0s\u001b[0m 6ms/step - loss: 6324.5522 - root_mean_squared_error: 79.4717 - val_loss: 6103.6152 - val_root_mean_squared_error: 78.1228\n",
      "Epoch 13/100\n",
      "\u001b[1m38/38\u001b[0m \u001b[32m━━━━━━━━━━━━━━━━━━━━\u001b[0m\u001b[37m\u001b[0m \u001b[1m0s\u001b[0m 6ms/step - loss: 7105.8496 - root_mean_squared_error: 84.0327 - val_loss: 5898.4292 - val_root_mean_squared_error: 76.7984\n",
      "Epoch 14/100\n",
      "\u001b[1m38/38\u001b[0m \u001b[32m━━━━━━━━━━━━━━━━━━━━\u001b[0m\u001b[37m\u001b[0m \u001b[1m0s\u001b[0m 5ms/step - loss: 6345.5874 - root_mean_squared_error: 79.5969 - val_loss: 5933.8198 - val_root_mean_squared_error: 77.0284\n",
      "Epoch 15/100\n",
      "\u001b[1m38/38\u001b[0m \u001b[32m━━━━━━━━━━━━━━━━━━━━\u001b[0m\u001b[37m\u001b[0m \u001b[1m0s\u001b[0m 5ms/step - loss: 6102.5498 - root_mean_squared_error: 78.0725 - val_loss: 5964.6011 - val_root_mean_squared_error: 77.2280\n",
      "Epoch 16/100\n",
      "\u001b[1m38/38\u001b[0m \u001b[32m━━━━━━━━━━━━━━━━━━━━\u001b[0m\u001b[37m\u001b[0m \u001b[1m0s\u001b[0m 5ms/step - loss: 7042.6528 - root_mean_squared_error: 83.7835 - val_loss: 5988.7788 - val_root_mean_squared_error: 77.3843\n",
      "Epoch 17/100\n",
      "\u001b[1m38/38\u001b[0m \u001b[32m━━━━━━━━━━━━━━━━━━━━\u001b[0m\u001b[37m\u001b[0m \u001b[1m0s\u001b[0m 5ms/step - loss: 6376.4121 - root_mean_squared_error: 79.5839 - val_loss: 6115.5420 - val_root_mean_squared_error: 78.1991\n",
      "Epoch 18/100\n",
      "\u001b[1m38/38\u001b[0m \u001b[32m━━━━━━━━━━━━━━━━━━━━\u001b[0m\u001b[37m\u001b[0m \u001b[1m0s\u001b[0m 5ms/step - loss: 6713.2222 - root_mean_squared_error: 81.8507 - val_loss: 5926.9458 - val_root_mean_squared_error: 76.9838\n",
      "Epoch 19/100\n",
      "\u001b[1m38/38\u001b[0m \u001b[32m━━━━━━━━━━━━━━━━━━━━\u001b[0m\u001b[37m\u001b[0m \u001b[1m0s\u001b[0m 5ms/step - loss: 7138.6318 - root_mean_squared_error: 84.3897 - val_loss: 5928.4888 - val_root_mean_squared_error: 76.9938\n",
      "Epoch 20/100\n",
      "\u001b[1m38/38\u001b[0m \u001b[32m━━━━━━━━━━━━━━━━━━━━\u001b[0m\u001b[37m\u001b[0m \u001b[1m0s\u001b[0m 5ms/step - loss: 6115.7075 - root_mean_squared_error: 78.0462 - val_loss: 5944.0249 - val_root_mean_squared_error: 77.0946\n",
      "Epoch 21/100\n",
      "\u001b[1m38/38\u001b[0m \u001b[32m━━━━━━━━━━━━━━━━━━━━\u001b[0m\u001b[37m\u001b[0m \u001b[1m0s\u001b[0m 5ms/step - loss: 6048.6924 - root_mean_squared_error: 77.6203 - val_loss: 5966.6006 - val_root_mean_squared_error: 77.2409\n",
      "Epoch 22/100\n",
      "\u001b[1m38/38\u001b[0m \u001b[32m━━━━━━━━━━━━━━━━━━━━\u001b[0m\u001b[37m\u001b[0m \u001b[1m0s\u001b[0m 5ms/step - loss: 6413.0732 - root_mean_squared_error: 79.6367 - val_loss: 5919.9395 - val_root_mean_squared_error: 76.9382\n",
      "Epoch 23/100\n",
      "\u001b[1m38/38\u001b[0m \u001b[32m━━━━━━━━━━━━━━━━━━━━\u001b[0m\u001b[37m\u001b[0m \u001b[1m0s\u001b[0m 5ms/step - loss: 5163.7637 - root_mean_squared_error: 71.4457 - val_loss: 5937.3145 - val_root_mean_squared_error: 77.0511\n",
      "Epoch 24/100\n",
      "\u001b[1m38/38\u001b[0m \u001b[32m━━━━━━━━━━━━━━━━━━━━\u001b[0m\u001b[37m\u001b[0m \u001b[1m0s\u001b[0m 5ms/step - loss: 6203.0835 - root_mean_squared_error: 78.6481 - val_loss: 6001.1445 - val_root_mean_squared_error: 77.4642\n",
      "Epoch 25/100\n",
      "\u001b[1m38/38\u001b[0m \u001b[32m━━━━━━━━━━━━━━━━━━━━\u001b[0m\u001b[37m\u001b[0m \u001b[1m0s\u001b[0m 5ms/step - loss: 6645.4424 - root_mean_squared_error: 81.4777 - val_loss: 6081.1890 - val_root_mean_squared_error: 77.9791\n",
      "Epoch 26/100\n",
      "\u001b[1m38/38\u001b[0m \u001b[32m━━━━━━━━━━━━━━━━━━━━\u001b[0m\u001b[37m\u001b[0m \u001b[1m0s\u001b[0m 5ms/step - loss: 6646.6548 - root_mean_squared_error: 81.3634 - val_loss: 5928.3130 - val_root_mean_squared_error: 76.9926\n",
      "Epoch 27/100\n",
      "\u001b[1m38/38\u001b[0m \u001b[32m━━━━━━━━━━━━━━━━━━━━\u001b[0m\u001b[37m\u001b[0m \u001b[1m0s\u001b[0m 5ms/step - loss: 6300.5342 - root_mean_squared_error: 79.3156 - val_loss: 6081.3652 - val_root_mean_squared_error: 77.9802\n",
      "Epoch 28/100\n",
      "\u001b[1m38/38\u001b[0m \u001b[32m━━━━━━━━━━━━━━━━━━━━\u001b[0m\u001b[37m\u001b[0m \u001b[1m0s\u001b[0m 5ms/step - loss: 5407.6006 - root_mean_squared_error: 73.4083 - val_loss: 6047.7969 - val_root_mean_squared_error: 77.7647\n",
      "Epoch 29/100\n",
      "\u001b[1m38/38\u001b[0m \u001b[32m━━━━━━━━━━━━━━━━━━━━\u001b[0m\u001b[37m\u001b[0m \u001b[1m0s\u001b[0m 5ms/step - loss: 6577.7856 - root_mean_squared_error: 80.8768 - val_loss: 5931.9194 - val_root_mean_squared_error: 77.0160\n",
      "Epoch 30/100\n",
      "\u001b[1m38/38\u001b[0m \u001b[32m━━━━━━━━━━━━━━━━━━━━\u001b[0m\u001b[37m\u001b[0m \u001b[1m0s\u001b[0m 5ms/step - loss: 6061.3657 - root_mean_squared_error: 77.4282 - val_loss: 6187.1079 - val_root_mean_squared_error: 78.6553\n",
      "Epoch 31/100\n",
      "\u001b[1m38/38\u001b[0m \u001b[32m━━━━━━━━━━━━━━━━━━━━\u001b[0m\u001b[37m\u001b[0m \u001b[1m0s\u001b[0m 6ms/step - loss: 5563.1743 - root_mean_squared_error: 74.4107 - val_loss: 5919.4082 - val_root_mean_squared_error: 76.9347\n",
      "Epoch 32/100\n",
      "\u001b[1m38/38\u001b[0m \u001b[32m━━━━━━━━━━━━━━━━━━━━\u001b[0m\u001b[37m\u001b[0m \u001b[1m0s\u001b[0m 5ms/step - loss: 5672.2783 - root_mean_squared_error: 75.1971 - val_loss: 6005.9111 - val_root_mean_squared_error: 77.4949\n",
      "Epoch 33/100\n",
      "\u001b[1m38/38\u001b[0m \u001b[32m━━━━━━━━━━━━━━━━━━━━\u001b[0m\u001b[37m\u001b[0m \u001b[1m0s\u001b[0m 5ms/step - loss: 5981.8120 - root_mean_squared_error: 77.2718 - val_loss: 5976.5576 - val_root_mean_squared_error: 77.3052\n",
      "Epoch 34/100\n",
      "\u001b[1m38/38\u001b[0m \u001b[32m━━━━━━━━━━━━━━━━━━━━\u001b[0m\u001b[37m\u001b[0m \u001b[1m0s\u001b[0m 5ms/step - loss: 6486.1602 - root_mean_squared_error: 80.2874 - val_loss: 6147.1045 - val_root_mean_squared_error: 78.4006\n",
      "Epoch 35/100\n",
      "\u001b[1m38/38\u001b[0m \u001b[32m━━━━━━━━━━━━━━━━━━━━\u001b[0m\u001b[37m\u001b[0m \u001b[1m0s\u001b[0m 6ms/step - loss: 5481.8164 - root_mean_squared_error: 73.8947 - val_loss: 5878.2407 - val_root_mean_squared_error: 76.6667\n",
      "Epoch 36/100\n",
      "\u001b[1m38/38\u001b[0m \u001b[32m━━━━━━━━━━━━━━━━━━━━\u001b[0m\u001b[37m\u001b[0m \u001b[1m0s\u001b[0m 5ms/step - loss: 6319.4111 - root_mean_squared_error: 79.3586 - val_loss: 6080.4487 - val_root_mean_squared_error: 77.9743\n",
      "Epoch 37/100\n",
      "\u001b[1m38/38\u001b[0m \u001b[32m━━━━━━━━━━━━━━━━━━━━\u001b[0m\u001b[37m\u001b[0m \u001b[1m0s\u001b[0m 5ms/step - loss: 5643.1392 - root_mean_squared_error: 74.9794 - val_loss: 5925.9395 - val_root_mean_squared_error: 76.9772\n",
      "Epoch 38/100\n",
      "\u001b[1m38/38\u001b[0m \u001b[32m━━━━━━━━━━━━━━━━━━━━\u001b[0m\u001b[37m\u001b[0m \u001b[1m0s\u001b[0m 5ms/step - loss: 5956.5078 - root_mean_squared_error: 77.0536 - val_loss: 6164.8174 - val_root_mean_squared_error: 78.5134\n",
      "Epoch 39/100\n",
      "\u001b[1m38/38\u001b[0m \u001b[32m━━━━━━━━━━━━━━━━━━━━\u001b[0m\u001b[37m\u001b[0m \u001b[1m0s\u001b[0m 6ms/step - loss: 5903.7461 - root_mean_squared_error: 76.4534 - val_loss: 5872.6792 - val_root_mean_squared_error: 76.6304\n",
      "Epoch 40/100\n",
      "\u001b[1m38/38\u001b[0m \u001b[32m━━━━━━━━━━━━━━━━━━━━\u001b[0m\u001b[37m\u001b[0m \u001b[1m0s\u001b[0m 6ms/step - loss: 5719.7402 - root_mean_squared_error: 75.4972 - val_loss: 5870.4160 - val_root_mean_squared_error: 76.6156\n",
      "Epoch 41/100\n",
      "\u001b[1m38/38\u001b[0m \u001b[32m━━━━━━━━━━━━━━━━━━━━\u001b[0m\u001b[37m\u001b[0m \u001b[1m0s\u001b[0m 5ms/step - loss: 7001.0874 - root_mean_squared_error: 83.2879 - val_loss: 5938.7729 - val_root_mean_squared_error: 77.0604\n",
      "Epoch 42/100\n",
      "\u001b[1m38/38\u001b[0m \u001b[32m━━━━━━━━━━━━━━━━━━━━\u001b[0m\u001b[37m\u001b[0m \u001b[1m0s\u001b[0m 5ms/step - loss: 6886.9863 - root_mean_squared_error: 82.8720 - val_loss: 5916.4629 - val_root_mean_squared_error: 76.9155\n",
      "Epoch 43/100\n",
      "\u001b[1m38/38\u001b[0m \u001b[32m━━━━━━━━━━━━━━━━━━━━\u001b[0m\u001b[37m\u001b[0m \u001b[1m0s\u001b[0m 5ms/step - loss: 6775.2471 - root_mean_squared_error: 82.0112 - val_loss: 5914.7090 - val_root_mean_squared_error: 76.9041\n",
      "Epoch 44/100\n",
      "\u001b[1m38/38\u001b[0m \u001b[32m━━━━━━━━━━━━━━━━━━━━\u001b[0m\u001b[37m\u001b[0m \u001b[1m0s\u001b[0m 5ms/step - loss: 5339.0425 - root_mean_squared_error: 72.9439 - val_loss: 5925.5112 - val_root_mean_squared_error: 76.9743\n",
      "Epoch 45/100\n",
      "\u001b[1m38/38\u001b[0m \u001b[32m━━━━━━━━━━━━━━━━━━━━\u001b[0m\u001b[37m\u001b[0m \u001b[1m0s\u001b[0m 5ms/step - loss: 5324.6450 - root_mean_squared_error: 72.3659 - val_loss: 5935.9595 - val_root_mean_squared_error: 77.0422\n",
      "Epoch 46/100\n",
      "\u001b[1m38/38\u001b[0m \u001b[32m━━━━━━━━━━━━━━━━━━━━\u001b[0m\u001b[37m\u001b[0m \u001b[1m0s\u001b[0m 5ms/step - loss: 6296.5879 - root_mean_squared_error: 79.3121 - val_loss: 6088.5195 - val_root_mean_squared_error: 78.0260\n",
      "Epoch 47/100\n",
      "\u001b[1m38/38\u001b[0m \u001b[32m━━━━━━━━━━━━━━━━━━━━\u001b[0m\u001b[37m\u001b[0m \u001b[1m0s\u001b[0m 5ms/step - loss: 6063.5273 - root_mean_squared_error: 77.7212 - val_loss: 5905.6816 - val_root_mean_squared_error: 76.8454\n",
      "Epoch 48/100\n",
      "\u001b[1m38/38\u001b[0m \u001b[32m━━━━━━━━━━━━━━━━━━━━\u001b[0m\u001b[37m\u001b[0m \u001b[1m0s\u001b[0m 5ms/step - loss: 6553.0020 - root_mean_squared_error: 80.9111 - val_loss: 5943.8921 - val_root_mean_squared_error: 77.0936\n",
      "Epoch 49/100\n",
      "\u001b[1m38/38\u001b[0m \u001b[32m━━━━━━━━━━━━━━━━━━━━\u001b[0m\u001b[37m\u001b[0m \u001b[1m0s\u001b[0m 5ms/step - loss: 6573.3955 - root_mean_squared_error: 80.7953 - val_loss: 5977.6118 - val_root_mean_squared_error: 77.3120\n",
      "Epoch 50/100\n",
      "\u001b[1m38/38\u001b[0m \u001b[32m━━━━━━━━━━━━━━━━━━━━\u001b[0m\u001b[37m\u001b[0m \u001b[1m0s\u001b[0m 5ms/step - loss: 6083.8828 - root_mean_squared_error: 77.9112 - val_loss: 5923.1650 - val_root_mean_squared_error: 76.9591\n",
      "Epoch 51/100\n",
      "\u001b[1m38/38\u001b[0m \u001b[32m━━━━━━━━━━━━━━━━━━━━\u001b[0m\u001b[37m\u001b[0m \u001b[1m0s\u001b[0m 5ms/step - loss: 5946.9443 - root_mean_squared_error: 76.9042 - val_loss: 6111.3511 - val_root_mean_squared_error: 78.1722\n",
      "Epoch 52/100\n",
      "\u001b[1m38/38\u001b[0m \u001b[32m━━━━━━━━━━━━━━━━━━━━\u001b[0m\u001b[37m\u001b[0m \u001b[1m0s\u001b[0m 5ms/step - loss: 6453.3750 - root_mean_squared_error: 80.2110 - val_loss: 5986.4277 - val_root_mean_squared_error: 77.3690\n",
      "Epoch 53/100\n",
      "\u001b[1m38/38\u001b[0m \u001b[32m━━━━━━━━━━━━━━━━━━━━\u001b[0m\u001b[37m\u001b[0m \u001b[1m0s\u001b[0m 6ms/step - loss: 6050.3589 - root_mean_squared_error: 77.5578 - val_loss: 5998.7568 - val_root_mean_squared_error: 77.4486\n",
      "Epoch 54/100\n",
      "\u001b[1m38/38\u001b[0m \u001b[32m━━━━━━━━━━━━━━━━━━━━\u001b[0m\u001b[37m\u001b[0m \u001b[1m0s\u001b[0m 5ms/step - loss: 5833.5176 - root_mean_squared_error: 76.3470 - val_loss: 5893.8857 - val_root_mean_squared_error: 76.7686\n",
      "Epoch 55/100\n",
      "\u001b[1m38/38\u001b[0m \u001b[32m━━━━━━━━━━━━━━━━━━━━\u001b[0m\u001b[37m\u001b[0m \u001b[1m0s\u001b[0m 5ms/step - loss: 6938.0166 - root_mean_squared_error: 82.8585 - val_loss: 6028.7227 - val_root_mean_squared_error: 77.6418\n",
      "Epoch 56/100\n",
      "\u001b[1m38/38\u001b[0m \u001b[32m━━━━━━━━━━━━━━━━━━━━\u001b[0m\u001b[37m\u001b[0m \u001b[1m0s\u001b[0m 5ms/step - loss: 5798.2549 - root_mean_squared_error: 76.0522 - val_loss: 5968.6743 - val_root_mean_squared_error: 77.2542\n",
      "Epoch 57/100\n",
      "\u001b[1m38/38\u001b[0m \u001b[32m━━━━━━━━━━━━━━━━━━━━\u001b[0m\u001b[37m\u001b[0m \u001b[1m0s\u001b[0m 5ms/step - loss: 6653.8403 - root_mean_squared_error: 81.4379 - val_loss: 6134.9043 - val_root_mean_squared_error: 78.3226\n",
      "Epoch 58/100\n",
      "\u001b[1m38/38\u001b[0m \u001b[32m━━━━━━━━━━━━━━━━━━━━\u001b[0m\u001b[37m\u001b[0m \u001b[1m0s\u001b[0m 5ms/step - loss: 5759.9238 - root_mean_squared_error: 75.7332 - val_loss: 6074.7158 - val_root_mean_squared_error: 77.9375\n",
      "Epoch 59/100\n",
      "\u001b[1m38/38\u001b[0m \u001b[32m━━━━━━━━━━━━━━━━━━━━\u001b[0m\u001b[37m\u001b[0m \u001b[1m0s\u001b[0m 6ms/step - loss: 6926.3691 - root_mean_squared_error: 82.8516 - val_loss: 6126.9624 - val_root_mean_squared_error: 78.2719\n",
      "Epoch 60/100\n",
      "\u001b[1m38/38\u001b[0m \u001b[32m━━━━━━━━━━━━━━━━━━━━\u001b[0m\u001b[37m\u001b[0m \u001b[1m0s\u001b[0m 5ms/step - loss: 5863.4282 - root_mean_squared_error: 76.5011 - val_loss: 5943.2598 - val_root_mean_squared_error: 77.0895\n",
      "Epoch 61/100\n",
      "\u001b[1m38/38\u001b[0m \u001b[32m━━━━━━━━━━━━━━━━━━━━\u001b[0m\u001b[37m\u001b[0m \u001b[1m0s\u001b[0m 5ms/step - loss: 6081.4976 - root_mean_squared_error: 77.9437 - val_loss: 6056.1162 - val_root_mean_squared_error: 77.8180\n",
      "Epoch 62/100\n",
      "\u001b[1m38/38\u001b[0m \u001b[32m━━━━━━━━━━━━━━━━━━━━\u001b[0m\u001b[37m\u001b[0m \u001b[1m0s\u001b[0m 5ms/step - loss: 5214.0957 - root_mean_squared_error: 71.8800 - val_loss: 6085.5781 - val_root_mean_squared_error: 78.0071\n",
      "Epoch 63/100\n",
      "\u001b[1m38/38\u001b[0m \u001b[32m━━━━━━━━━━━━━━━━━━━━\u001b[0m\u001b[37m\u001b[0m \u001b[1m0s\u001b[0m 5ms/step - loss: 6762.4697 - root_mean_squared_error: 81.7094 - val_loss: 6117.4707 - val_root_mean_squared_error: 78.2112\n",
      "Epoch 64/100\n",
      "\u001b[1m38/38\u001b[0m \u001b[32m━━━━━━━━━━━━━━━━━━━━\u001b[0m\u001b[37m\u001b[0m \u001b[1m0s\u001b[0m 5ms/step - loss: 6056.7925 - root_mean_squared_error: 77.6518 - val_loss: 6022.1870 - val_root_mean_squared_error: 77.5997\n",
      "Epoch 65/100\n",
      "\u001b[1m38/38\u001b[0m \u001b[32m━━━━━━━━━━━━━━━━━━━━\u001b[0m\u001b[37m\u001b[0m \u001b[1m0s\u001b[0m 5ms/step - loss: 4919.8706 - root_mean_squared_error: 69.8607 - val_loss: 5941.7974 - val_root_mean_squared_error: 77.0800\n",
      "Epoch 66/100\n",
      "\u001b[1m38/38\u001b[0m \u001b[32m━━━━━━━━━━━━━━━━━━━━\u001b[0m\u001b[37m\u001b[0m \u001b[1m0s\u001b[0m 5ms/step - loss: 5360.0420 - root_mean_squared_error: 72.7014 - val_loss: 6133.5112 - val_root_mean_squared_error: 78.3137\n",
      "Epoch 67/100\n",
      "\u001b[1m38/38\u001b[0m \u001b[32m━━━━━━━━━━━━━━━━━━━━\u001b[0m\u001b[37m\u001b[0m \u001b[1m0s\u001b[0m 5ms/step - loss: 6033.8271 - root_mean_squared_error: 77.5243 - val_loss: 6169.9194 - val_root_mean_squared_error: 78.5458\n",
      "Epoch 68/100\n",
      "\u001b[1m38/38\u001b[0m \u001b[32m━━━━━━━━━━━━━━━━━━━━\u001b[0m\u001b[37m\u001b[0m \u001b[1m0s\u001b[0m 5ms/step - loss: 6614.6597 - root_mean_squared_error: 81.1836 - val_loss: 6214.2168 - val_root_mean_squared_error: 78.8273\n",
      "Epoch 69/100\n",
      "\u001b[1m38/38\u001b[0m \u001b[32m━━━━━━━━━━━━━━━━━━━━\u001b[0m\u001b[37m\u001b[0m \u001b[1m0s\u001b[0m 5ms/step - loss: 6209.1392 - root_mean_squared_error: 78.6290 - val_loss: 6260.9092 - val_root_mean_squared_error: 79.1229\n",
      "Epoch 70/100\n",
      "\u001b[1m38/38\u001b[0m \u001b[32m━━━━━━━━━━━━━━━━━━━━\u001b[0m\u001b[37m\u001b[0m \u001b[1m0s\u001b[0m 5ms/step - loss: 5420.1729 - root_mean_squared_error: 73.2028 - val_loss: 6044.0244 - val_root_mean_squared_error: 77.7403\n",
      "Epoch 71/100\n",
      "\u001b[1m38/38\u001b[0m \u001b[32m━━━━━━━━━━━━━━━━━━━━\u001b[0m\u001b[37m\u001b[0m \u001b[1m0s\u001b[0m 5ms/step - loss: 5978.0864 - root_mean_squared_error: 77.1681 - val_loss: 6096.5713 - val_root_mean_squared_error: 78.0775\n",
      "Epoch 72/100\n",
      "\u001b[1m38/38\u001b[0m \u001b[32m━━━━━━━━━━━━━━━━━━━━\u001b[0m\u001b[37m\u001b[0m \u001b[1m0s\u001b[0m 5ms/step - loss: 6356.5557 - root_mean_squared_error: 79.3450 - val_loss: 6178.8521 - val_root_mean_squared_error: 78.6026\n",
      "Epoch 73/100\n",
      "\u001b[1m38/38\u001b[0m \u001b[32m━━━━━━━━━━━━━━━━━━━━\u001b[0m\u001b[37m\u001b[0m \u001b[1m0s\u001b[0m 5ms/step - loss: 5786.4922 - root_mean_squared_error: 75.9998 - val_loss: 6146.3223 - val_root_mean_squared_error: 78.3954\n",
      "Epoch 74/100\n",
      "\u001b[1m38/38\u001b[0m \u001b[32m━━━━━━━━━━━━━━━━━━━━\u001b[0m\u001b[37m\u001b[0m \u001b[1m0s\u001b[0m 5ms/step - loss: 5248.9233 - root_mean_squared_error: 72.0512 - val_loss: 6102.8086 - val_root_mean_squared_error: 78.1174\n",
      "Epoch 75/100\n",
      "\u001b[1m38/38\u001b[0m \u001b[32m━━━━━━━━━━━━━━━━━━━━\u001b[0m\u001b[37m\u001b[0m \u001b[1m0s\u001b[0m 5ms/step - loss: 5994.6221 - root_mean_squared_error: 77.1435 - val_loss: 6338.5312 - val_root_mean_squared_error: 79.6118\n",
      "Epoch 76/100\n",
      "\u001b[1m38/38\u001b[0m \u001b[32m━━━━━━━━━━━━━━━━━━━━\u001b[0m\u001b[37m\u001b[0m \u001b[1m0s\u001b[0m 5ms/step - loss: 4959.0303 - root_mean_squared_error: 70.1155 - val_loss: 6148.3350 - val_root_mean_squared_error: 78.4082\n",
      "Epoch 77/100\n",
      "\u001b[1m38/38\u001b[0m \u001b[32m━━━━━━━━━━━━━━━━━━━━\u001b[0m\u001b[37m\u001b[0m \u001b[1m0s\u001b[0m 5ms/step - loss: 6315.2188 - root_mean_squared_error: 79.2837 - val_loss: 6209.5713 - val_root_mean_squared_error: 78.7977\n",
      "Epoch 78/100\n",
      "\u001b[1m38/38\u001b[0m \u001b[32m━━━━━━━━━━━━━━━━━━━━\u001b[0m\u001b[37m\u001b[0m \u001b[1m0s\u001b[0m 5ms/step - loss: 5203.0464 - root_mean_squared_error: 71.9933 - val_loss: 6108.2568 - val_root_mean_squared_error: 78.1523\n",
      "Epoch 79/100\n",
      "\u001b[1m38/38\u001b[0m \u001b[32m━━━━━━━━━━━━━━━━━━━━\u001b[0m\u001b[37m\u001b[0m \u001b[1m0s\u001b[0m 5ms/step - loss: 5523.9155 - root_mean_squared_error: 74.2462 - val_loss: 6073.3325 - val_root_mean_squared_error: 77.9285\n",
      "Epoch 80/100\n",
      "\u001b[1m38/38\u001b[0m \u001b[32m━━━━━━━━━━━━━━━━━━━━\u001b[0m\u001b[37m\u001b[0m \u001b[1m0s\u001b[0m 5ms/step - loss: 6224.8457 - root_mean_squared_error: 78.8113 - val_loss: 6221.5894 - val_root_mean_squared_error: 78.8740\n",
      "Epoch 81/100\n",
      "\u001b[1m38/38\u001b[0m \u001b[32m━━━━━━━━━━━━━━━━━━━━\u001b[0m\u001b[37m\u001b[0m \u001b[1m0s\u001b[0m 5ms/step - loss: 6459.2295 - root_mean_squared_error: 80.2555 - val_loss: 6142.3467 - val_root_mean_squared_error: 78.3700\n",
      "Epoch 82/100\n",
      "\u001b[1m38/38\u001b[0m \u001b[32m━━━━━━━━━━━━━━━━━━━━\u001b[0m\u001b[37m\u001b[0m \u001b[1m0s\u001b[0m 5ms/step - loss: 5679.0645 - root_mean_squared_error: 75.3093 - val_loss: 6234.0474 - val_root_mean_squared_error: 78.9529\n",
      "Epoch 83/100\n",
      "\u001b[1m38/38\u001b[0m \u001b[32m━━━━━━━━━━━━━━━━━━━━\u001b[0m\u001b[37m\u001b[0m \u001b[1m0s\u001b[0m 5ms/step - loss: 5601.3545 - root_mean_squared_error: 74.5690 - val_loss: 6208.9858 - val_root_mean_squared_error: 78.7940\n",
      "Epoch 84/100\n",
      "\u001b[1m38/38\u001b[0m \u001b[32m━━━━━━━━━━━━━━━━━━━━\u001b[0m\u001b[37m\u001b[0m \u001b[1m0s\u001b[0m 5ms/step - loss: 5577.9521 - root_mean_squared_error: 74.4702 - val_loss: 6214.1318 - val_root_mean_squared_error: 78.8266\n",
      "Epoch 85/100\n",
      "\u001b[1m38/38\u001b[0m \u001b[32m━━━━━━━━━━━━━━━━━━━━\u001b[0m\u001b[37m\u001b[0m \u001b[1m0s\u001b[0m 5ms/step - loss: 5657.7544 - root_mean_squared_error: 74.9161 - val_loss: 6260.4561 - val_root_mean_squared_error: 79.1199\n",
      "Epoch 86/100\n",
      "\u001b[1m38/38\u001b[0m \u001b[32m━━━━━━━━━━━━━━━━━━━━\u001b[0m\u001b[37m\u001b[0m \u001b[1m0s\u001b[0m 5ms/step - loss: 5837.9180 - root_mean_squared_error: 76.3798 - val_loss: 6219.1763 - val_root_mean_squared_error: 78.8586\n",
      "Epoch 87/100\n",
      "\u001b[1m38/38\u001b[0m \u001b[32m━━━━━━━━━━━━━━━━━━━━\u001b[0m\u001b[37m\u001b[0m \u001b[1m0s\u001b[0m 5ms/step - loss: 5629.4062 - root_mean_squared_error: 74.9566 - val_loss: 6240.3994 - val_root_mean_squared_error: 78.9931\n",
      "Epoch 88/100\n",
      "\u001b[1m38/38\u001b[0m \u001b[32m━━━━━━━━━━━━━━━━━━━━\u001b[0m\u001b[37m\u001b[0m \u001b[1m0s\u001b[0m 5ms/step - loss: 4544.6689 - root_mean_squared_error: 67.1219 - val_loss: 6135.1323 - val_root_mean_squared_error: 78.3240\n",
      "Epoch 89/100\n",
      "\u001b[1m38/38\u001b[0m \u001b[32m━━━━━━━━━━━━━━━━━━━━\u001b[0m\u001b[37m\u001b[0m \u001b[1m0s\u001b[0m 5ms/step - loss: 5326.2866 - root_mean_squared_error: 72.8683 - val_loss: 6274.0996 - val_root_mean_squared_error: 79.2061\n",
      "Epoch 90/100\n",
      "\u001b[1m38/38\u001b[0m \u001b[32m━━━━━━━━━━━━━━━━━━━━\u001b[0m\u001b[37m\u001b[0m \u001b[1m0s\u001b[0m 5ms/step - loss: 5210.9146 - root_mean_squared_error: 72.0414 - val_loss: 6192.1279 - val_root_mean_squared_error: 78.6870\n",
      "Epoch 91/100\n",
      "\u001b[1m38/38\u001b[0m \u001b[32m━━━━━━━━━━━━━━━━━━━━\u001b[0m\u001b[37m\u001b[0m \u001b[1m0s\u001b[0m 5ms/step - loss: 5709.2256 - root_mean_squared_error: 75.4988 - val_loss: 6217.8926 - val_root_mean_squared_error: 78.8505\n",
      "Epoch 92/100\n",
      "\u001b[1m38/38\u001b[0m \u001b[32m━━━━━━━━━━━━━━━━━━━━\u001b[0m\u001b[37m\u001b[0m \u001b[1m0s\u001b[0m 5ms/step - loss: 6027.9556 - root_mean_squared_error: 77.3573 - val_loss: 6347.9058 - val_root_mean_squared_error: 79.6706\n",
      "Epoch 93/100\n",
      "\u001b[1m38/38\u001b[0m \u001b[32m━━━━━━━━━━━━━━━━━━━━\u001b[0m\u001b[37m\u001b[0m \u001b[1m0s\u001b[0m 5ms/step - loss: 5842.4741 - root_mean_squared_error: 76.1735 - val_loss: 6220.8257 - val_root_mean_squared_error: 78.8691\n",
      "Epoch 94/100\n",
      "\u001b[1m38/38\u001b[0m \u001b[32m━━━━━━━━━━━━━━━━━━━━\u001b[0m\u001b[37m\u001b[0m \u001b[1m0s\u001b[0m 5ms/step - loss: 5256.6968 - root_mean_squared_error: 72.2912 - val_loss: 6227.6294 - val_root_mean_squared_error: 78.9122\n",
      "Epoch 95/100\n",
      "\u001b[1m38/38\u001b[0m \u001b[32m━━━━━━━━━━━━━━━━━━━━\u001b[0m\u001b[37m\u001b[0m \u001b[1m0s\u001b[0m 5ms/step - loss: 5208.8418 - root_mean_squared_error: 72.0074 - val_loss: 6262.7529 - val_root_mean_squared_error: 79.1344\n",
      "Epoch 96/100\n",
      "\u001b[1m38/38\u001b[0m \u001b[32m━━━━━━━━━━━━━━━━━━━━\u001b[0m\u001b[37m\u001b[0m \u001b[1m0s\u001b[0m 5ms/step - loss: 5491.3438 - root_mean_squared_error: 74.0015 - val_loss: 6349.2217 - val_root_mean_squared_error: 79.6789\n",
      "Epoch 97/100\n",
      "\u001b[1m38/38\u001b[0m \u001b[32m━━━━━━━━━━━━━━━━━━━━\u001b[0m\u001b[37m\u001b[0m \u001b[1m0s\u001b[0m 6ms/step - loss: 4932.4102 - root_mean_squared_error: 69.9366 - val_loss: 6246.4756 - val_root_mean_squared_error: 79.0315\n",
      "Epoch 98/100\n",
      "\u001b[1m38/38\u001b[0m \u001b[32m━━━━━━━━━━━━━━━━━━━━\u001b[0m\u001b[37m\u001b[0m \u001b[1m0s\u001b[0m 5ms/step - loss: 5685.3110 - root_mean_squared_error: 75.1925 - val_loss: 6331.3345 - val_root_mean_squared_error: 79.5666\n",
      "Epoch 99/100\n",
      "\u001b[1m38/38\u001b[0m \u001b[32m━━━━━━━━━━━━━━━━━━━━\u001b[0m\u001b[37m\u001b[0m \u001b[1m0s\u001b[0m 5ms/step - loss: 5881.2280 - root_mean_squared_error: 76.4127 - val_loss: 6454.5439 - val_root_mean_squared_error: 80.3370\n",
      "Epoch 100/100\n",
      "\u001b[1m38/38\u001b[0m \u001b[32m━━━━━━━━━━━━━━━━━━━━\u001b[0m\u001b[37m\u001b[0m \u001b[1m0s\u001b[0m 5ms/step - loss: 4944.7407 - root_mean_squared_error: 70.2287 - val_loss: 6235.0952 - val_root_mean_squared_error: 78.9595\n"
     ]
    },
    {
     "data": {
      "text/plain": [
       "<keras.src.callbacks.history.History at 0x7f3cd4457ac0>"
      ]
     },
     "execution_count": 12,
     "metadata": {},
     "output_type": "execute_result"
    }
   ],
   "source": [
    "model1.fit(X_train1, y_train1, validation_data=(X_val1, y_val1), epochs=100, \n",
    "           callbacks=[cp1])"
   ]
  },
  {
   "cell_type": "markdown",
   "id": "e24c8243",
   "metadata": {
    "papermill": {
     "duration": 0.037719,
     "end_time": "2024-12-30T03:02:00.353908",
     "exception": false,
     "start_time": "2024-12-30T03:02:00.316189",
     "status": "completed"
    },
    "tags": []
   },
   "source": [
    "A massive underfitting even changing parameters has no impact on it"
   ]
  },
  {
   "cell_type": "code",
   "execution_count": 13,
   "id": "72fa7ac4",
   "metadata": {
    "execution": {
     "iopub.execute_input": "2024-12-30T03:02:00.429333Z",
     "iopub.status.busy": "2024-12-30T03:02:00.428927Z",
     "iopub.status.idle": "2024-12-30T03:02:00.529181Z",
     "shell.execute_reply": "2024-12-30T03:02:00.528242Z"
    },
    "papermill": {
     "duration": 0.139988,
     "end_time": "2024-12-30T03:02:00.531113",
     "exception": false,
     "start_time": "2024-12-30T03:02:00.391125",
     "status": "completed"
    },
    "tags": []
   },
   "outputs": [],
   "source": [
    "from tensorflow.keras.models import load_model\n",
    "model1 = load_model('/kaggle/working/model1.keras')"
   ]
  },
  {
   "cell_type": "code",
   "execution_count": 14,
   "id": "aec71c40",
   "metadata": {
    "execution": {
     "iopub.execute_input": "2024-12-30T03:02:00.610402Z",
     "iopub.status.busy": "2024-12-30T03:02:00.609996Z",
     "iopub.status.idle": "2024-12-30T03:02:01.066320Z",
     "shell.execute_reply": "2024-12-30T03:02:01.065107Z"
    },
    "papermill": {
     "duration": 0.497241,
     "end_time": "2024-12-30T03:02:01.068222",
     "exception": false,
     "start_time": "2024-12-30T03:02:00.570981",
     "status": "completed"
    },
    "tags": []
   },
   "outputs": [
    {
     "name": "stdout",
     "output_type": "stream",
     "text": [
      "\u001b[1m38/38\u001b[0m \u001b[32m━━━━━━━━━━━━━━━━━━━━\u001b[0m\u001b[37m\u001b[0m \u001b[1m0s\u001b[0m 6ms/step\n"
     ]
    },
    {
     "data": {
      "text/html": [
       "<div>\n",
       "<style scoped>\n",
       "    .dataframe tbody tr th:only-of-type {\n",
       "        vertical-align: middle;\n",
       "    }\n",
       "\n",
       "    .dataframe tbody tr th {\n",
       "        vertical-align: top;\n",
       "    }\n",
       "\n",
       "    .dataframe thead th {\n",
       "        text-align: right;\n",
       "    }\n",
       "</style>\n",
       "<table border=\"1\" class=\"dataframe\">\n",
       "  <thead>\n",
       "    <tr style=\"text-align: right;\">\n",
       "      <th></th>\n",
       "      <th>Train Predictions</th>\n",
       "      <th>Actuals</th>\n",
       "    </tr>\n",
       "  </thead>\n",
       "  <tbody>\n",
       "    <tr>\n",
       "      <th>0</th>\n",
       "      <td>465.270386</td>\n",
       "      <td>500.0</td>\n",
       "    </tr>\n",
       "    <tr>\n",
       "      <th>1</th>\n",
       "      <td>486.995209</td>\n",
       "      <td>500.0</td>\n",
       "    </tr>\n",
       "    <tr>\n",
       "      <th>2</th>\n",
       "      <td>486.995209</td>\n",
       "      <td>500.0</td>\n",
       "    </tr>\n",
       "    <tr>\n",
       "      <th>3</th>\n",
       "      <td>486.995209</td>\n",
       "      <td>500.0</td>\n",
       "    </tr>\n",
       "    <tr>\n",
       "      <th>4</th>\n",
       "      <td>486.995209</td>\n",
       "      <td>34.0</td>\n",
       "    </tr>\n",
       "    <tr>\n",
       "      <th>...</th>\n",
       "      <td>...</td>\n",
       "      <td>...</td>\n",
       "    </tr>\n",
       "    <tr>\n",
       "      <th>1195</th>\n",
       "      <td>486.091736</td>\n",
       "      <td>500.0</td>\n",
       "    </tr>\n",
       "    <tr>\n",
       "      <th>1196</th>\n",
       "      <td>486.062927</td>\n",
       "      <td>500.0</td>\n",
       "    </tr>\n",
       "    <tr>\n",
       "      <th>1197</th>\n",
       "      <td>486.995209</td>\n",
       "      <td>476.0</td>\n",
       "    </tr>\n",
       "    <tr>\n",
       "      <th>1198</th>\n",
       "      <td>479.080261</td>\n",
       "      <td>500.0</td>\n",
       "    </tr>\n",
       "    <tr>\n",
       "      <th>1199</th>\n",
       "      <td>487.395599</td>\n",
       "      <td>476.0</td>\n",
       "    </tr>\n",
       "  </tbody>\n",
       "</table>\n",
       "<p>1200 rows × 2 columns</p>\n",
       "</div>"
      ],
      "text/plain": [
       "      Train Predictions  Actuals\n",
       "0            465.270386    500.0\n",
       "1            486.995209    500.0\n",
       "2            486.995209    500.0\n",
       "3            486.995209    500.0\n",
       "4            486.995209     34.0\n",
       "...                 ...      ...\n",
       "1195         486.091736    500.0\n",
       "1196         486.062927    500.0\n",
       "1197         486.995209    476.0\n",
       "1198         479.080261    500.0\n",
       "1199         487.395599    476.0\n",
       "\n",
       "[1200 rows x 2 columns]"
      ]
     },
     "execution_count": 14,
     "metadata": {},
     "output_type": "execute_result"
    }
   ],
   "source": [
    "train_predictions = model1.predict(X_train1).flatten()\n",
    "train_results = pd.DataFrame(data={'Train Predictions':train_predictions, 'Actuals':y_train1})\n",
    "train_results"
   ]
  },
  {
   "cell_type": "code",
   "execution_count": 15,
   "id": "bda746d7",
   "metadata": {
    "execution": {
     "iopub.execute_input": "2024-12-30T03:02:01.145599Z",
     "iopub.status.busy": "2024-12-30T03:02:01.145252Z",
     "iopub.status.idle": "2024-12-30T03:02:01.318184Z",
     "shell.execute_reply": "2024-12-30T03:02:01.317118Z"
    },
    "papermill": {
     "duration": 0.213827,
     "end_time": "2024-12-30T03:02:01.320171",
     "exception": false,
     "start_time": "2024-12-30T03:02:01.106344",
     "status": "completed"
    },
    "tags": []
   },
   "outputs": [
    {
     "data": {
      "text/plain": [
       "[<matplotlib.lines.Line2D at 0x7f3ccc6679d0>]"
      ]
     },
     "execution_count": 15,
     "metadata": {},
     "output_type": "execute_result"
    },
    {
     "data": {
      "image/png": "[encoded data removed]",
      "text/plain": [
       "<Figure size 640x480 with 1 Axes>"
      ]
     },
     "metadata": {},
     "output_type": "display_data"
    }
   ],
   "source": [
    "import matplotlib.pyplot as plt\n",
    "plt.plot(train_results['Train Predictions'][50:100])\n",
    "plt.plot(train_results['Actuals'][50:100])"
   ]
  },
  {
   "cell_type": "code",
   "execution_count": 16,
   "id": "3b5c06c6",
   "metadata": {
    "execution": {
     "iopub.execute_input": "2024-12-30T03:02:01.400098Z",
     "iopub.status.busy": "2024-12-30T03:02:01.399647Z",
     "iopub.status.idle": "2024-12-30T03:02:01.529423Z",
     "shell.execute_reply": "2024-12-30T03:02:01.528344Z"
    },
    "papermill": {
     "duration": 0.171814,
     "end_time": "2024-12-30T03:02:01.531034",
     "exception": false,
     "start_time": "2024-12-30T03:02:01.359220",
     "status": "completed"
    },
    "tags": []
   },
   "outputs": [
    {
     "name": "stdout",
     "output_type": "stream",
     "text": [
      "\u001b[1m25/25\u001b[0m \u001b[32m━━━━━━━━━━━━━━━━━━━━\u001b[0m\u001b[37m\u001b[0m \u001b[1m0s\u001b[0m 2ms/step \n"
     ]
    },
    {
     "data": {
      "text/html": [
       "<div>\n",
       "<style scoped>\n",
       "    .dataframe tbody tr th:only-of-type {\n",
       "        vertical-align: middle;\n",
       "    }\n",
       "\n",
       "    .dataframe tbody tr th {\n",
       "        vertical-align: top;\n",
       "    }\n",
       "\n",
       "    .dataframe thead th {\n",
       "        text-align: right;\n",
       "    }\n",
       "</style>\n",
       "<table border=\"1\" class=\"dataframe\">\n",
       "  <thead>\n",
       "    <tr style=\"text-align: right;\">\n",
       "      <th></th>\n",
       "      <th>Val Predictions</th>\n",
       "      <th>Actuals</th>\n",
       "    </tr>\n",
       "  </thead>\n",
       "  <tbody>\n",
       "    <tr>\n",
       "      <th>0</th>\n",
       "      <td>478.564819</td>\n",
       "      <td>500.0</td>\n",
       "    </tr>\n",
       "    <tr>\n",
       "      <th>1</th>\n",
       "      <td>487.172913</td>\n",
       "      <td>476.0</td>\n",
       "    </tr>\n",
       "    <tr>\n",
       "      <th>2</th>\n",
       "      <td>478.167542</td>\n",
       "      <td>426.0</td>\n",
       "    </tr>\n",
       "    <tr>\n",
       "      <th>3</th>\n",
       "      <td>453.556213</td>\n",
       "      <td>500.0</td>\n",
       "    </tr>\n",
       "    <tr>\n",
       "      <th>4</th>\n",
       "      <td>487.346680</td>\n",
       "      <td>486.0</td>\n",
       "    </tr>\n",
       "    <tr>\n",
       "      <th>...</th>\n",
       "      <td>...</td>\n",
       "      <td>...</td>\n",
       "    </tr>\n",
       "    <tr>\n",
       "      <th>795</th>\n",
       "      <td>486.995209</td>\n",
       "      <td>500.0</td>\n",
       "    </tr>\n",
       "    <tr>\n",
       "      <th>796</th>\n",
       "      <td>486.995209</td>\n",
       "      <td>500.0</td>\n",
       "    </tr>\n",
       "    <tr>\n",
       "      <th>797</th>\n",
       "      <td>486.995209</td>\n",
       "      <td>257.0</td>\n",
       "    </tr>\n",
       "    <tr>\n",
       "      <th>798</th>\n",
       "      <td>346.916138</td>\n",
       "      <td>500.0</td>\n",
       "    </tr>\n",
       "    <tr>\n",
       "      <th>799</th>\n",
       "      <td>484.783020</td>\n",
       "      <td>500.0</td>\n",
       "    </tr>\n",
       "  </tbody>\n",
       "</table>\n",
       "<p>800 rows × 2 columns</p>\n",
       "</div>"
      ],
      "text/plain": [
       "     Val Predictions  Actuals\n",
       "0         478.564819    500.0\n",
       "1         487.172913    476.0\n",
       "2         478.167542    426.0\n",
       "3         453.556213    500.0\n",
       "4         487.346680    486.0\n",
       "..               ...      ...\n",
       "795       486.995209    500.0\n",
       "796       486.995209    500.0\n",
       "797       486.995209    257.0\n",
       "798       346.916138    500.0\n",
       "799       484.783020    500.0\n",
       "\n",
       "[800 rows x 2 columns]"
      ]
     },
     "execution_count": 16,
     "metadata": {},
     "output_type": "execute_result"
    }
   ],
   "source": [
    "val_predictions = model1.predict(X_val1).flatten()\n",
    "val_results = pd.DataFrame(data={'Val Predictions':val_predictions, 'Actuals':y_val1})\n",
    "val_results"
   ]
  },
  {
   "cell_type": "code",
   "execution_count": 17,
   "id": "455ecb28",
   "metadata": {
    "execution": {
     "iopub.execute_input": "2024-12-30T03:02:01.609699Z",
     "iopub.status.busy": "2024-12-30T03:02:01.609342Z",
     "iopub.status.idle": "2024-12-30T03:02:01.789949Z",
     "shell.execute_reply": "2024-12-30T03:02:01.788887Z"
    },
    "papermill": {
     "duration": 0.221824,
     "end_time": "2024-12-30T03:02:01.791706",
     "exception": false,
     "start_time": "2024-12-30T03:02:01.569882",
     "status": "completed"
    },
    "tags": []
   },
   "outputs": [
    {
     "data": {
      "text/plain": [
       "[<matplotlib.lines.Line2D at 0x7f3cac7e1600>]"
      ]
     },
     "execution_count": 17,
     "metadata": {},
     "output_type": "execute_result"
    },
    {
     "data": {
      "image/png": "[encoded data removed]",
      "text/plain": [
       "<Figure size 640x480 with 1 Axes>"
      ]
     },
     "metadata": {},
     "output_type": "display_data"
    }
   ],
   "source": [
    "plt.plot(val_results['Val Predictions'][:100])\n",
    "plt.plot(val_results['Actuals'][:100])"
   ]
  },
  {
   "cell_type": "code",
   "execution_count": 18,
   "id": "5e491434",
   "metadata": {
    "execution": {
     "iopub.execute_input": "2024-12-30T03:02:01.873936Z",
     "iopub.status.busy": "2024-12-30T03:02:01.873578Z",
     "iopub.status.idle": "2024-12-30T03:02:01.985173Z",
     "shell.execute_reply": "2024-12-30T03:02:01.984100Z"
    },
    "papermill": {
     "duration": 0.154075,
     "end_time": "2024-12-30T03:02:01.986796",
     "exception": false,
     "start_time": "2024-12-30T03:02:01.832721",
     "status": "completed"
    },
    "tags": []
   },
   "outputs": [
    {
     "name": "stdout",
     "output_type": "stream",
     "text": [
      "\u001b[1m15/15\u001b[0m \u001b[32m━━━━━━━━━━━━━━━━━━━━\u001b[0m\u001b[37m\u001b[0m \u001b[1m0s\u001b[0m 2ms/step \n"
     ]
    },
    {
     "data": {
      "text/html": [
       "<div>\n",
       "<style scoped>\n",
       "    .dataframe tbody tr th:only-of-type {\n",
       "        vertical-align: middle;\n",
       "    }\n",
       "\n",
       "    .dataframe tbody tr th {\n",
       "        vertical-align: top;\n",
       "    }\n",
       "\n",
       "    .dataframe thead th {\n",
       "        text-align: right;\n",
       "    }\n",
       "</style>\n",
       "<table border=\"1\" class=\"dataframe\">\n",
       "  <thead>\n",
       "    <tr style=\"text-align: right;\">\n",
       "      <th></th>\n",
       "      <th>Test Predictions</th>\n",
       "      <th>Actuals</th>\n",
       "    </tr>\n",
       "  </thead>\n",
       "  <tbody>\n",
       "    <tr>\n",
       "      <th>0</th>\n",
       "      <td>482.300354</td>\n",
       "      <td>500.0</td>\n",
       "    </tr>\n",
       "    <tr>\n",
       "      <th>1</th>\n",
       "      <td>485.888245</td>\n",
       "      <td>500.0</td>\n",
       "    </tr>\n",
       "    <tr>\n",
       "      <th>2</th>\n",
       "      <td>482.622498</td>\n",
       "      <td>500.0</td>\n",
       "    </tr>\n",
       "    <tr>\n",
       "      <th>3</th>\n",
       "      <td>467.556091</td>\n",
       "      <td>500.0</td>\n",
       "    </tr>\n",
       "    <tr>\n",
       "      <th>4</th>\n",
       "      <td>486.995209</td>\n",
       "      <td>500.0</td>\n",
       "    </tr>\n",
       "    <tr>\n",
       "      <th>...</th>\n",
       "      <td>...</td>\n",
       "      <td>...</td>\n",
       "    </tr>\n",
       "    <tr>\n",
       "      <th>466</th>\n",
       "      <td>286.975952</td>\n",
       "      <td>500.0</td>\n",
       "    </tr>\n",
       "    <tr>\n",
       "      <th>467</th>\n",
       "      <td>479.626617</td>\n",
       "      <td>500.0</td>\n",
       "    </tr>\n",
       "    <tr>\n",
       "      <th>468</th>\n",
       "      <td>470.824646</td>\n",
       "      <td>500.0</td>\n",
       "    </tr>\n",
       "    <tr>\n",
       "      <th>469</th>\n",
       "      <td>461.682220</td>\n",
       "      <td>456.0</td>\n",
       "    </tr>\n",
       "    <tr>\n",
       "      <th>470</th>\n",
       "      <td>439.406036</td>\n",
       "      <td>500.0</td>\n",
       "    </tr>\n",
       "  </tbody>\n",
       "</table>\n",
       "<p>471 rows × 2 columns</p>\n",
       "</div>"
      ],
      "text/plain": [
       "     Test Predictions  Actuals\n",
       "0          482.300354    500.0\n",
       "1          485.888245    500.0\n",
       "2          482.622498    500.0\n",
       "3          467.556091    500.0\n",
       "4          486.995209    500.0\n",
       "..                ...      ...\n",
       "466        286.975952    500.0\n",
       "467        479.626617    500.0\n",
       "468        470.824646    500.0\n",
       "469        461.682220    456.0\n",
       "470        439.406036    500.0\n",
       "\n",
       "[471 rows x 2 columns]"
      ]
     },
     "execution_count": 18,
     "metadata": {},
     "output_type": "execute_result"
    }
   ],
   "source": [
    "test_predictions = model1.predict(X_test1).flatten()\n",
    "test_results = pd.DataFrame(data={'Test Predictions':test_predictions, 'Actuals':y_test1})\n",
    "test_results"
   ]
  },
  {
   "cell_type": "code",
   "execution_count": 19,
   "id": "3362143d",
   "metadata": {
    "execution": {
     "iopub.execute_input": "2024-12-30T03:02:02.070731Z",
     "iopub.status.busy": "2024-12-30T03:02:02.070385Z",
     "iopub.status.idle": "2024-12-30T03:02:02.306227Z",
     "shell.execute_reply": "2024-12-30T03:02:02.305219Z"
    },
    "papermill": {
     "duration": 0.280157,
     "end_time": "2024-12-30T03:02:02.307794",
     "exception": false,
     "start_time": "2024-12-30T03:02:02.027637",
     "status": "completed"
    },
    "tags": []
   },
   "outputs": [
    {
     "data": {
      "text/plain": [
       "[<matplotlib.lines.Line2D at 0x7f3caff4aa10>]"
      ]
     },
     "execution_count": 19,
     "metadata": {},
     "output_type": "execute_result"
    },
    {
     "data": {
      "image/png": "[encoded data removed]",
      "text/plain": [
       "<Figure size 640x480 with 1 Axes>"
      ]
     },
     "metadata": {},
     "output_type": "display_data"
    }
   ],
   "source": [
    "plt.plot(test_results['Test Predictions'][:100])\n",
    "plt.plot(test_results['Actuals'][:100])"
   ]
  },
  {
   "cell_type": "markdown",
   "id": "b661ea14",
   "metadata": {
    "papermill": {
     "duration": 0.044646,
     "end_time": "2024-12-30T03:02:02.395159",
     "exception": false,
     "start_time": "2024-12-30T03:02:02.350513",
     "status": "completed"
    },
    "tags": []
   },
   "source": [
    "**CNN(1D)**"
   ]
  },
  {
   "cell_type": "code",
   "execution_count": 20,
   "id": "ebee478b",
   "metadata": {
    "execution": {
     "iopub.execute_input": "2024-12-30T03:02:02.485253Z",
     "iopub.status.busy": "2024-12-30T03:02:02.484883Z",
     "iopub.status.idle": "2024-12-30T03:02:02.537362Z",
     "shell.execute_reply": "2024-12-30T03:02:02.536438Z"
    },
    "papermill": {
     "duration": 0.100487,
     "end_time": "2024-12-30T03:02:02.538836",
     "exception": false,
     "start_time": "2024-12-30T03:02:02.438349",
     "status": "completed"
    },
    "tags": []
   },
   "outputs": [
    {
     "data": {
      "text/html": [
       "<pre style=\"white-space:pre;overflow-x:auto;line-height:normal;font-family:Menlo,'DejaVu Sans Mono',consolas,'Courier New',monospace\"><span style=\"font-weight: bold\">Model: \"sequential_1\"</span>\n",
       "</pre>\n"
      ],
      "text/plain": [
       "\u001b[1mModel: \"sequential_1\"\u001b[0m\n"
      ]
     },
     "metadata": {},
     "output_type": "display_data"
    },
    {
     "data": {
      "text/html": [
       "<pre style=\"white-space:pre;overflow-x:auto;line-height:normal;font-family:Menlo,'DejaVu Sans Mono',consolas,'Courier New',monospace\">┏━━━━━━━━━━━━━━━━━━━━━━━━━━━━━━━━━━━━━━┳━━━━━━━━━━━━━━━━━━━━━━━━━━━━━┳━━━━━━━━━━━━━━━━━┓\n",
       "┃<span style=\"font-weight: bold\"> Layer (type)                         </span>┃<span style=\"font-weight: bold\"> Output Shape                </span>┃<span style=\"font-weight: bold\">         Param # </span>┃\n",
       "┡━━━━━━━━━━━━━━━━━━━━━━━━━━━━━━━━━━━━━━╇━━━━━━━━━━━━━━━━━━━━━━━━━━━━━╇━━━━━━━━━━━━━━━━━┩\n",
       "│ conv1d (<span style=\"color: #0087ff; text-decoration-color: #0087ff\">Conv1D</span>)                      │ (<span style=\"color: #00d7ff; text-decoration-color: #00d7ff\">None</span>, <span style=\"color: #00af00; text-decoration-color: #00af00\">5</span>, <span style=\"color: #00af00; text-decoration-color: #00af00\">32</span>)               │              <span style=\"color: #00af00; text-decoration-color: #00af00\">96</span> │\n",
       "├──────────────────────────────────────┼─────────────────────────────┼─────────────────┤\n",
       "│ flatten (<span style=\"color: #0087ff; text-decoration-color: #0087ff\">Flatten</span>)                    │ (<span style=\"color: #00d7ff; text-decoration-color: #00d7ff\">None</span>, <span style=\"color: #00af00; text-decoration-color: #00af00\">160</span>)                 │               <span style=\"color: #00af00; text-decoration-color: #00af00\">0</span> │\n",
       "├──────────────────────────────────────┼─────────────────────────────┼─────────────────┤\n",
       "│ dense_2 (<span style=\"color: #0087ff; text-decoration-color: #0087ff\">Dense</span>)                      │ (<span style=\"color: #00d7ff; text-decoration-color: #00d7ff\">None</span>, <span style=\"color: #00af00; text-decoration-color: #00af00\">8</span>)                   │           <span style=\"color: #00af00; text-decoration-color: #00af00\">1,288</span> │\n",
       "├──────────────────────────────────────┼─────────────────────────────┼─────────────────┤\n",
       "│ dense_3 (<span style=\"color: #0087ff; text-decoration-color: #0087ff\">Dense</span>)                      │ (<span style=\"color: #00d7ff; text-decoration-color: #00d7ff\">None</span>, <span style=\"color: #00af00; text-decoration-color: #00af00\">1</span>)                   │               <span style=\"color: #00af00; text-decoration-color: #00af00\">9</span> │\n",
       "└──────────────────────────────────────┴─────────────────────────────┴─────────────────┘\n",
       "</pre>\n"
      ],
      "text/plain": [
       "┏━━━━━━━━━━━━━━━━━━━━━━━━━━━━━━━━━━━━━━┳━━━━━━━━━━━━━━━━━━━━━━━━━━━━━┳━━━━━━━━━━━━━━━━━┓\n",
       "┃\u001b[1m \u001b[0m\u001b[1mLayer (type)                        \u001b[0m\u001b[1m \u001b[0m┃\u001b[1m \u001b[0m\u001b[1mOutput Shape               \u001b[0m\u001b[1m \u001b[0m┃\u001b[1m \u001b[0m\u001b[1m        Param #\u001b[0m\u001b[1m \u001b[0m┃\n",
       "┡━━━━━━━━━━━━━━━━━━━━━━━━━━━━━━━━━━━━━━╇━━━━━━━━━━━━━━━━━━━━━━━━━━━━━╇━━━━━━━━━━━━━━━━━┩\n",
       "│ conv1d (\u001b[38;5;33mConv1D\u001b[0m)                      │ (\u001b[38;5;45mNone\u001b[0m, \u001b[38;5;34m5\u001b[0m, \u001b[38;5;34m32\u001b[0m)               │              \u001b[38;5;34m96\u001b[0m │\n",
       "├──────────────────────────────────────┼─────────────────────────────┼─────────────────┤\n",
       "│ flatten (\u001b[38;5;33mFlatten\u001b[0m)                    │ (\u001b[38;5;45mNone\u001b[0m, \u001b[38;5;34m160\u001b[0m)                 │               \u001b[38;5;34m0\u001b[0m │\n",
       "├──────────────────────────────────────┼─────────────────────────────┼─────────────────┤\n",
       "│ dense_2 (\u001b[38;5;33mDense\u001b[0m)                      │ (\u001b[38;5;45mNone\u001b[0m, \u001b[38;5;34m8\u001b[0m)                   │           \u001b[38;5;34m1,288\u001b[0m │\n",
       "├──────────────────────────────────────┼─────────────────────────────┼─────────────────┤\n",
       "│ dense_3 (\u001b[38;5;33mDense\u001b[0m)                      │ (\u001b[38;5;45mNone\u001b[0m, \u001b[38;5;34m1\u001b[0m)                   │               \u001b[38;5;34m9\u001b[0m │\n",
       "└──────────────────────────────────────┴─────────────────────────────┴─────────────────┘\n"
      ]
     },
     "metadata": {},
     "output_type": "display_data"
    },
    {
     "data": {
      "text/html": [
       "<pre style=\"white-space:pre;overflow-x:auto;line-height:normal;font-family:Menlo,'DejaVu Sans Mono',consolas,'Courier New',monospace\"><span style=\"font-weight: bold\"> Total params: </span><span style=\"color: #00af00; text-decoration-color: #00af00\">1,393</span> (5.44 KB)\n",
       "</pre>\n"
      ],
      "text/plain": [
       "\u001b[1m Total params: \u001b[0m\u001b[38;5;34m1,393\u001b[0m (5.44 KB)\n"
      ]
     },
     "metadata": {},
     "output_type": "display_data"
    },
    {
     "data": {
      "text/html": [
       "<pre style=\"white-space:pre;overflow-x:auto;line-height:normal;font-family:Menlo,'DejaVu Sans Mono',consolas,'Courier New',monospace\"><span style=\"font-weight: bold\"> Trainable params: </span><span style=\"color: #00af00; text-decoration-color: #00af00\">1,393</span> (5.44 KB)\n",
       "</pre>\n"
      ],
      "text/plain": [
       "\u001b[1m Trainable params: \u001b[0m\u001b[38;5;34m1,393\u001b[0m (5.44 KB)\n"
      ]
     },
     "metadata": {},
     "output_type": "display_data"
    },
    {
     "data": {
      "text/html": [
       "<pre style=\"white-space:pre;overflow-x:auto;line-height:normal;font-family:Menlo,'DejaVu Sans Mono',consolas,'Courier New',monospace\"><span style=\"font-weight: bold\"> Non-trainable params: </span><span style=\"color: #00af00; text-decoration-color: #00af00\">0</span> (0.00 B)\n",
       "</pre>\n"
      ],
      "text/plain": [
       "\u001b[1m Non-trainable params: \u001b[0m\u001b[38;5;34m0\u001b[0m (0.00 B)\n"
      ]
     },
     "metadata": {},
     "output_type": "display_data"
    }
   ],
   "source": [
    "model2 = Sequential()\n",
    "model2.add(InputLayer((6, 1)))\n",
    "model2.add(Conv1D(32, kernel_size=2))\n",
    "model2.add(Flatten())\n",
    "model2.add(Dense(8, 'relu'))\n",
    "model2.add(Dense(1, 'linear'))\n",
    "\n",
    "model2.summary()"
   ]
  },
  {
   "cell_type": "code",
   "execution_count": 21,
   "id": "4f8c7749",
   "metadata": {
    "execution": {
     "iopub.execute_input": "2024-12-30T03:02:02.683177Z",
     "iopub.status.busy": "2024-12-30T03:02:02.682742Z",
     "iopub.status.idle": "2024-12-30T03:02:02.693424Z",
     "shell.execute_reply": "2024-12-30T03:02:02.692265Z"
    },
    "papermill": {
     "duration": 0.112384,
     "end_time": "2024-12-30T03:02:02.695369",
     "exception": false,
     "start_time": "2024-12-30T03:02:02.582985",
     "status": "completed"
    },
    "tags": []
   },
   "outputs": [],
   "source": [
    "cp2 = ModelCheckpoint('/kaggle/working/model2.keras', save_best_only=True)\n",
    "model2.compile(loss=MeanSquaredError(), optimizer=Adam(learning_rate=0.01), metrics=[RootMeanSquaredError()])"
   ]
  },
  {
   "cell_type": "code",
   "execution_count": 22,
   "id": "4f5df4f4",
   "metadata": {
    "execution": {
     "iopub.execute_input": "2024-12-30T03:02:02.782911Z",
     "iopub.status.busy": "2024-12-30T03:02:02.782520Z",
     "iopub.status.idle": "2024-12-30T03:02:17.334261Z",
     "shell.execute_reply": "2024-12-30T03:02:17.333101Z"
    },
    "papermill": {
     "duration": 14.597762,
     "end_time": "2024-12-30T03:02:17.336176",
     "exception": false,
     "start_time": "2024-12-30T03:02:02.738414",
     "status": "completed"
    },
    "tags": []
   },
   "outputs": [
    {
     "name": "stdout",
     "output_type": "stream",
     "text": [
      "Epoch 1/100\n",
      "\u001b[1m38/38\u001b[0m \u001b[32m━━━━━━━━━━━━━━━━━━━━\u001b[0m\u001b[37m\u001b[0m \u001b[1m1s\u001b[0m 7ms/step - loss: 157835.5625 - root_mean_squared_error: 397.2183 - val_loss: 152867.7344 - val_root_mean_squared_error: 390.9830\n",
      "Epoch 2/100\n",
      "\u001b[1m38/38\u001b[0m \u001b[32m━━━━━━━━━━━━━━━━━━━━\u001b[0m\u001b[37m\u001b[0m \u001b[1m0s\u001b[0m 3ms/step - loss: 133355.7188 - root_mean_squared_error: 365.0388 - val_loss: 47674.2812 - val_root_mean_squared_error: 218.3444\n",
      "Epoch 3/100\n",
      "\u001b[1m38/38\u001b[0m \u001b[32m━━━━━━━━━━━━━━━━━━━━\u001b[0m\u001b[37m\u001b[0m \u001b[1m0s\u001b[0m 3ms/step - loss: 22693.2520 - root_mean_squared_error: 147.3911 - val_loss: 7777.6338 - val_root_mean_squared_error: 88.1909\n",
      "Epoch 4/100\n",
      "\u001b[1m38/38\u001b[0m \u001b[32m━━━━━━━━━━━━━━━━━━━━\u001b[0m\u001b[37m\u001b[0m \u001b[1m0s\u001b[0m 3ms/step - loss: 8213.7021 - root_mean_squared_error: 90.5399 - val_loss: 6942.1831 - val_root_mean_squared_error: 83.3198\n",
      "Epoch 5/100\n",
      "\u001b[1m38/38\u001b[0m \u001b[32m━━━━━━━━━━━━━━━━━━━━\u001b[0m\u001b[37m\u001b[0m \u001b[1m0s\u001b[0m 3ms/step - loss: 7435.1035 - root_mean_squared_error: 86.0706 - val_loss: 6724.8438 - val_root_mean_squared_error: 82.0051\n",
      "Epoch 6/100\n",
      "\u001b[1m38/38\u001b[0m \u001b[32m━━━━━━━━━━━━━━━━━━━━\u001b[0m\u001b[37m\u001b[0m \u001b[1m0s\u001b[0m 3ms/step - loss: 7263.3477 - root_mean_squared_error: 84.9154 - val_loss: 6533.2524 - val_root_mean_squared_error: 80.8285\n",
      "Epoch 7/100\n",
      "\u001b[1m38/38\u001b[0m \u001b[32m━━━━━━━━━━━━━━━━━━━━\u001b[0m\u001b[37m\u001b[0m \u001b[1m0s\u001b[0m 3ms/step - loss: 7122.6533 - root_mean_squared_error: 84.1961 - val_loss: 6353.8994 - val_root_mean_squared_error: 79.7113\n",
      "Epoch 8/100\n",
      "\u001b[1m38/38\u001b[0m \u001b[32m━━━━━━━━━━━━━━━━━━━━\u001b[0m\u001b[37m\u001b[0m \u001b[1m0s\u001b[0m 3ms/step - loss: 6989.9106 - root_mean_squared_error: 83.5540 - val_loss: 6203.5708 - val_root_mean_squared_error: 78.7627\n",
      "Epoch 9/100\n",
      "\u001b[1m38/38\u001b[0m \u001b[32m━━━━━━━━━━━━━━━━━━━━\u001b[0m\u001b[37m\u001b[0m \u001b[1m0s\u001b[0m 3ms/step - loss: 7393.3672 - root_mean_squared_error: 85.7829 - val_loss: 6395.6831 - val_root_mean_squared_error: 79.9730\n",
      "Epoch 10/100\n",
      "\u001b[1m38/38\u001b[0m \u001b[32m━━━━━━━━━━━━━━━━━━━━\u001b[0m\u001b[37m\u001b[0m \u001b[1m0s\u001b[0m 3ms/step - loss: 6865.1519 - root_mean_squared_error: 82.8030 - val_loss: 6123.1401 - val_root_mean_squared_error: 78.2505\n",
      "Epoch 11/100\n",
      "\u001b[1m38/38\u001b[0m \u001b[32m━━━━━━━━━━━━━━━━━━━━\u001b[0m\u001b[37m\u001b[0m \u001b[1m0s\u001b[0m 3ms/step - loss: 7227.0049 - root_mean_squared_error: 84.3873 - val_loss: 5980.5171 - val_root_mean_squared_error: 77.3338\n",
      "Epoch 12/100\n",
      "\u001b[1m38/38\u001b[0m \u001b[32m━━━━━━━━━━━━━━━━━━━━\u001b[0m\u001b[37m\u001b[0m \u001b[1m0s\u001b[0m 3ms/step - loss: 7126.7549 - root_mean_squared_error: 84.3508 - val_loss: 6066.7388 - val_root_mean_squared_error: 77.8893\n",
      "Epoch 13/100\n",
      "\u001b[1m38/38\u001b[0m \u001b[32m━━━━━━━━━━━━━━━━━━━━\u001b[0m\u001b[37m\u001b[0m \u001b[1m0s\u001b[0m 3ms/step - loss: 6369.4180 - root_mean_squared_error: 79.4264 - val_loss: 6048.7100 - val_root_mean_squared_error: 77.7735\n",
      "Epoch 14/100\n",
      "\u001b[1m38/38\u001b[0m \u001b[32m━━━━━━━━━━━━━━━━━━━━\u001b[0m\u001b[37m\u001b[0m \u001b[1m0s\u001b[0m 3ms/step - loss: 6166.3242 - root_mean_squared_error: 78.4511 - val_loss: 6130.7617 - val_root_mean_squared_error: 78.2992\n",
      "Epoch 15/100\n",
      "\u001b[1m38/38\u001b[0m \u001b[32m━━━━━━━━━━━━━━━━━━━━\u001b[0m\u001b[37m\u001b[0m \u001b[1m0s\u001b[0m 3ms/step - loss: 6338.4507 - root_mean_squared_error: 79.4091 - val_loss: 6203.6919 - val_root_mean_squared_error: 78.7635\n",
      "Epoch 16/100\n",
      "\u001b[1m38/38\u001b[0m \u001b[32m━━━━━━━━━━━━━━━━━━━━\u001b[0m\u001b[37m\u001b[0m \u001b[1m0s\u001b[0m 3ms/step - loss: 6155.4673 - root_mean_squared_error: 78.0495 - val_loss: 5979.1548 - val_root_mean_squared_error: 77.3250\n",
      "Epoch 17/100\n",
      "\u001b[1m38/38\u001b[0m \u001b[32m━━━━━━━━━━━━━━━━━━━━\u001b[0m\u001b[37m\u001b[0m \u001b[1m0s\u001b[0m 3ms/step - loss: 7515.7241 - root_mean_squared_error: 86.2869 - val_loss: 6010.5063 - val_root_mean_squared_error: 77.5275\n",
      "Epoch 18/100\n",
      "\u001b[1m38/38\u001b[0m \u001b[32m━━━━━━━━━━━━━━━━━━━━\u001b[0m\u001b[37m\u001b[0m \u001b[1m0s\u001b[0m 3ms/step - loss: 6547.7954 - root_mean_squared_error: 80.8022 - val_loss: 5973.7026 - val_root_mean_squared_error: 77.2897\n",
      "Epoch 19/100\n",
      "\u001b[1m38/38\u001b[0m \u001b[32m━━━━━━━━━━━━━━━━━━━━\u001b[0m\u001b[37m\u001b[0m \u001b[1m0s\u001b[0m 3ms/step - loss: 6993.2437 - root_mean_squared_error: 83.5981 - val_loss: 6106.0117 - val_root_mean_squared_error: 78.1410\n",
      "Epoch 20/100\n",
      "\u001b[1m38/38\u001b[0m \u001b[32m━━━━━━━━━━━━━━━━━━━━\u001b[0m\u001b[37m\u001b[0m \u001b[1m0s\u001b[0m 3ms/step - loss: 6390.2178 - root_mean_squared_error: 79.8352 - val_loss: 6009.8818 - val_root_mean_squared_error: 77.5234\n",
      "Epoch 21/100\n",
      "\u001b[1m38/38\u001b[0m \u001b[32m━━━━━━━━━━━━━━━━━━━━\u001b[0m\u001b[37m\u001b[0m \u001b[1m0s\u001b[0m 3ms/step - loss: 6713.6187 - root_mean_squared_error: 81.7522 - val_loss: 6008.8013 - val_root_mean_squared_error: 77.5165\n",
      "Epoch 22/100\n",
      "\u001b[1m38/38\u001b[0m \u001b[32m━━━━━━━━━━━━━━━━━━━━\u001b[0m\u001b[37m\u001b[0m \u001b[1m0s\u001b[0m 3ms/step - loss: 6892.2148 - root_mean_squared_error: 82.8690 - val_loss: 6089.8613 - val_root_mean_squared_error: 78.0376\n",
      "Epoch 23/100\n",
      "\u001b[1m38/38\u001b[0m \u001b[32m━━━━━━━━━━━━━━━━━━━━\u001b[0m\u001b[37m\u001b[0m \u001b[1m0s\u001b[0m 3ms/step - loss: 6838.6099 - root_mean_squared_error: 82.5520 - val_loss: 6286.3965 - val_root_mean_squared_error: 79.2868\n",
      "Epoch 24/100\n",
      "\u001b[1m38/38\u001b[0m \u001b[32m━━━━━━━━━━━━━━━━━━━━\u001b[0m\u001b[37m\u001b[0m \u001b[1m0s\u001b[0m 3ms/step - loss: 7417.0312 - root_mean_squared_error: 85.9340 - val_loss: 5979.3999 - val_root_mean_squared_error: 77.3266\n",
      "Epoch 25/100\n",
      "\u001b[1m38/38\u001b[0m \u001b[32m━━━━━━━━━━━━━━━━━━━━\u001b[0m\u001b[37m\u001b[0m \u001b[1m0s\u001b[0m 3ms/step - loss: 6205.5342 - root_mean_squared_error: 78.6388 - val_loss: 6001.5610 - val_root_mean_squared_error: 77.4697\n",
      "Epoch 26/100\n",
      "\u001b[1m38/38\u001b[0m \u001b[32m━━━━━━━━━━━━━━━━━━━━\u001b[0m\u001b[37m\u001b[0m \u001b[1m0s\u001b[0m 3ms/step - loss: 6846.4033 - root_mean_squared_error: 82.6881 - val_loss: 5987.6768 - val_root_mean_squared_error: 77.3801\n",
      "Epoch 27/100\n",
      "\u001b[1m38/38\u001b[0m \u001b[32m━━━━━━━━━━━━━━━━━━━━\u001b[0m\u001b[37m\u001b[0m \u001b[1m0s\u001b[0m 3ms/step - loss: 5412.5742 - root_mean_squared_error: 73.2172 - val_loss: 6187.6255 - val_root_mean_squared_error: 78.6615\n",
      "Epoch 28/100\n",
      "\u001b[1m38/38\u001b[0m \u001b[32m━━━━━━━━━━━━━━━━━━━━\u001b[0m\u001b[37m\u001b[0m \u001b[1m0s\u001b[0m 3ms/step - loss: 5953.9219 - root_mean_squared_error: 76.7318 - val_loss: 6060.6562 - val_root_mean_squared_error: 77.8502\n",
      "Epoch 29/100\n",
      "\u001b[1m38/38\u001b[0m \u001b[32m━━━━━━━━━━━━━━━━━━━━\u001b[0m\u001b[37m\u001b[0m \u001b[1m0s\u001b[0m 3ms/step - loss: 6108.4624 - root_mean_squared_error: 78.0137 - val_loss: 6186.7305 - val_root_mean_squared_error: 78.6558\n",
      "Epoch 30/100\n",
      "\u001b[1m38/38\u001b[0m \u001b[32m━━━━━━━━━━━━━━━━━━━━\u001b[0m\u001b[37m\u001b[0m \u001b[1m0s\u001b[0m 4ms/step - loss: 7341.9570 - root_mean_squared_error: 85.5214 - val_loss: 5966.1504 - val_root_mean_squared_error: 77.2409\n",
      "Epoch 31/100\n",
      "\u001b[1m38/38\u001b[0m \u001b[32m━━━━━━━━━━━━━━━━━━━━\u001b[0m\u001b[37m\u001b[0m \u001b[1m0s\u001b[0m 3ms/step - loss: 6559.8755 - root_mean_squared_error: 80.5357 - val_loss: 6095.2881 - val_root_mean_squared_error: 78.0723\n",
      "Epoch 32/100\n",
      "\u001b[1m38/38\u001b[0m \u001b[32m━━━━━━━━━━━━━━━━━━━━\u001b[0m\u001b[37m\u001b[0m \u001b[1m0s\u001b[0m 3ms/step - loss: 6968.1387 - root_mean_squared_error: 83.4018 - val_loss: 5988.0044 - val_root_mean_squared_error: 77.3822\n",
      "Epoch 33/100\n",
      "\u001b[1m38/38\u001b[0m \u001b[32m━━━━━━━━━━━━━━━━━━━━\u001b[0m\u001b[37m\u001b[0m \u001b[1m0s\u001b[0m 3ms/step - loss: 6767.9253 - root_mean_squared_error: 82.1352 - val_loss: 5966.5645 - val_root_mean_squared_error: 77.2435\n",
      "Epoch 34/100\n",
      "\u001b[1m38/38\u001b[0m \u001b[32m━━━━━━━━━━━━━━━━━━━━\u001b[0m\u001b[37m\u001b[0m \u001b[1m0s\u001b[0m 3ms/step - loss: 6821.9614 - root_mean_squared_error: 82.3743 - val_loss: 6112.1050 - val_root_mean_squared_error: 78.1800\n",
      "Epoch 35/100\n",
      "\u001b[1m38/38\u001b[0m \u001b[32m━━━━━━━━━━━━━━━━━━━━\u001b[0m\u001b[37m\u001b[0m \u001b[1m0s\u001b[0m 3ms/step - loss: 6424.8452 - root_mean_squared_error: 80.1030 - val_loss: 6279.9004 - val_root_mean_squared_error: 79.2458\n",
      "Epoch 36/100\n",
      "\u001b[1m38/38\u001b[0m \u001b[32m━━━━━━━━━━━━━━━━━━━━\u001b[0m\u001b[37m\u001b[0m \u001b[1m0s\u001b[0m 3ms/step - loss: 5581.5596 - root_mean_squared_error: 74.6149 - val_loss: 6070.9316 - val_root_mean_squared_error: 77.9162\n",
      "Epoch 37/100\n",
      "\u001b[1m38/38\u001b[0m \u001b[32m━━━━━━━━━━━━━━━━━━━━\u001b[0m\u001b[37m\u001b[0m \u001b[1m0s\u001b[0m 3ms/step - loss: 6175.2354 - root_mean_squared_error: 78.3152 - val_loss: 6140.3062 - val_root_mean_squared_error: 78.3601\n",
      "Epoch 38/100\n",
      "\u001b[1m38/38\u001b[0m \u001b[32m━━━━━━━━━━━━━━━━━━━━\u001b[0m\u001b[37m\u001b[0m \u001b[1m0s\u001b[0m 3ms/step - loss: 6651.0098 - root_mean_squared_error: 81.4145 - val_loss: 5978.8408 - val_root_mean_squared_error: 77.3230\n",
      "Epoch 39/100\n",
      "\u001b[1m38/38\u001b[0m \u001b[32m━━━━━━━━━━━━━━━━━━━━\u001b[0m\u001b[37m\u001b[0m \u001b[1m0s\u001b[0m 3ms/step - loss: 5354.9517 - root_mean_squared_error: 72.8590 - val_loss: 6264.1206 - val_root_mean_squared_error: 79.1462\n",
      "Epoch 40/100\n",
      "\u001b[1m38/38\u001b[0m \u001b[32m━━━━━━━━━━━━━━━━━━━━\u001b[0m\u001b[37m\u001b[0m \u001b[1m0s\u001b[0m 3ms/step - loss: 6851.2124 - root_mean_squared_error: 82.6578 - val_loss: 6110.1470 - val_root_mean_squared_error: 78.1674\n",
      "Epoch 41/100\n",
      "\u001b[1m38/38\u001b[0m \u001b[32m━━━━━━━━━━━━━━━━━━━━\u001b[0m\u001b[37m\u001b[0m \u001b[1m0s\u001b[0m 3ms/step - loss: 6826.6011 - root_mean_squared_error: 82.2420 - val_loss: 6318.5566 - val_root_mean_squared_error: 79.4893\n",
      "Epoch 42/100\n",
      "\u001b[1m38/38\u001b[0m \u001b[32m━━━━━━━━━━━━━━━━━━━━\u001b[0m\u001b[37m\u001b[0m \u001b[1m0s\u001b[0m 3ms/step - loss: 6079.5938 - root_mean_squared_error: 77.6890 - val_loss: 5999.3765 - val_root_mean_squared_error: 77.4556\n",
      "Epoch 43/100\n",
      "\u001b[1m38/38\u001b[0m \u001b[32m━━━━━━━━━━━━━━━━━━━━\u001b[0m\u001b[37m\u001b[0m \u001b[1m0s\u001b[0m 3ms/step - loss: 6444.9980 - root_mean_squared_error: 80.1616 - val_loss: 6073.6948 - val_root_mean_squared_error: 77.9339\n",
      "Epoch 44/100\n",
      "\u001b[1m38/38\u001b[0m \u001b[32m━━━━━━━━━━━━━━━━━━━━\u001b[0m\u001b[37m\u001b[0m \u001b[1m0s\u001b[0m 3ms/step - loss: 7117.9595 - root_mean_squared_error: 84.1640 - val_loss: 6066.4761 - val_root_mean_squared_error: 77.8876\n",
      "Epoch 45/100\n",
      "\u001b[1m38/38\u001b[0m \u001b[32m━━━━━━━━━━━━━━━━━━━━\u001b[0m\u001b[37m\u001b[0m \u001b[1m0s\u001b[0m 3ms/step - loss: 7207.6006 - root_mean_squared_error: 84.5465 - val_loss: 6035.8970 - val_root_mean_squared_error: 77.6910\n",
      "Epoch 46/100\n",
      "\u001b[1m38/38\u001b[0m \u001b[32m━━━━━━━━━━━━━━━━━━━━\u001b[0m\u001b[37m\u001b[0m \u001b[1m0s\u001b[0m 3ms/step - loss: 7094.3989 - root_mean_squared_error: 84.1665 - val_loss: 6326.7188 - val_root_mean_squared_error: 79.5407\n",
      "Epoch 47/100\n",
      "\u001b[1m38/38\u001b[0m \u001b[32m━━━━━━━━━━━━━━━━━━━━\u001b[0m\u001b[37m\u001b[0m \u001b[1m0s\u001b[0m 3ms/step - loss: 6608.9028 - root_mean_squared_error: 81.1679 - val_loss: 6361.0396 - val_root_mean_squared_error: 79.7561\n",
      "Epoch 48/100\n",
      "\u001b[1m38/38\u001b[0m \u001b[32m━━━━━━━━━━━━━━━━━━━━\u001b[0m\u001b[37m\u001b[0m \u001b[1m0s\u001b[0m 3ms/step - loss: 7299.1670 - root_mean_squared_error: 85.0284 - val_loss: 6475.2573 - val_root_mean_squared_error: 80.4690\n",
      "Epoch 49/100\n",
      "\u001b[1m38/38\u001b[0m \u001b[32m━━━━━━━━━━━━━━━━━━━━\u001b[0m\u001b[37m\u001b[0m \u001b[1m0s\u001b[0m 3ms/step - loss: 7089.9922 - root_mean_squared_error: 83.9633 - val_loss: 6103.5083 - val_root_mean_squared_error: 78.1250\n",
      "Epoch 50/100\n",
      "\u001b[1m38/38\u001b[0m \u001b[32m━━━━━━━━━━━━━━━━━━━━\u001b[0m\u001b[37m\u001b[0m \u001b[1m0s\u001b[0m 3ms/step - loss: 6984.9790 - root_mean_squared_error: 83.3664 - val_loss: 5970.5786 - val_root_mean_squared_error: 77.2695\n",
      "Epoch 51/100\n",
      "\u001b[1m38/38\u001b[0m \u001b[32m━━━━━━━━━━━━━━━━━━━━\u001b[0m\u001b[37m\u001b[0m \u001b[1m0s\u001b[0m 3ms/step - loss: 7058.7368 - root_mean_squared_error: 83.3722 - val_loss: 6210.3618 - val_root_mean_squared_error: 78.8058\n",
      "Epoch 52/100\n",
      "\u001b[1m38/38\u001b[0m \u001b[32m━━━━━━━━━━━━━━━━━━━━\u001b[0m\u001b[37m\u001b[0m \u001b[1m0s\u001b[0m 3ms/step - loss: 6543.6948 - root_mean_squared_error: 80.6402 - val_loss: 6334.6670 - val_root_mean_squared_error: 79.5906\n",
      "Epoch 53/100\n",
      "\u001b[1m38/38\u001b[0m \u001b[32m━━━━━━━━━━━━━━━━━━━━\u001b[0m\u001b[37m\u001b[0m \u001b[1m0s\u001b[0m 3ms/step - loss: 7213.2759 - root_mean_squared_error: 84.4740 - val_loss: 6051.9956 - val_root_mean_squared_error: 77.7946\n",
      "Epoch 54/100\n",
      "\u001b[1m38/38\u001b[0m \u001b[32m━━━━━━━━━━━━━━━━━━━━\u001b[0m\u001b[37m\u001b[0m \u001b[1m0s\u001b[0m 3ms/step - loss: 7233.9111 - root_mean_squared_error: 84.8334 - val_loss: 6280.6748 - val_root_mean_squared_error: 79.2507\n",
      "Epoch 55/100\n",
      "\u001b[1m38/38\u001b[0m \u001b[32m━━━━━━━━━━━━━━━━━━━━\u001b[0m\u001b[37m\u001b[0m \u001b[1m0s\u001b[0m 3ms/step - loss: 6933.0786 - root_mean_squared_error: 82.6432 - val_loss: 5968.5215 - val_root_mean_squared_error: 77.2562\n",
      "Epoch 56/100\n",
      "\u001b[1m38/38\u001b[0m \u001b[32m━━━━━━━━━━━━━━━━━━━━\u001b[0m\u001b[37m\u001b[0m \u001b[1m0s\u001b[0m 3ms/step - loss: 6652.8643 - root_mean_squared_error: 81.4987 - val_loss: 6163.7100 - val_root_mean_squared_error: 78.5093\n",
      "Epoch 57/100\n",
      "\u001b[1m38/38\u001b[0m \u001b[32m━━━━━━━━━━━━━━━━━━━━\u001b[0m\u001b[37m\u001b[0m \u001b[1m0s\u001b[0m 3ms/step - loss: 6706.0386 - root_mean_squared_error: 81.8180 - val_loss: 5978.4775 - val_root_mean_squared_error: 77.3206\n",
      "Epoch 58/100\n",
      "\u001b[1m38/38\u001b[0m \u001b[32m━━━━━━━━━━━━━━━━━━━━\u001b[0m\u001b[37m\u001b[0m \u001b[1m0s\u001b[0m 3ms/step - loss: 6289.0938 - root_mean_squared_error: 79.0787 - val_loss: 5982.2090 - val_root_mean_squared_error: 77.3447\n",
      "Epoch 59/100\n",
      "\u001b[1m38/38\u001b[0m \u001b[32m━━━━━━━━━━━━━━━━━━━━\u001b[0m\u001b[37m\u001b[0m \u001b[1m0s\u001b[0m 3ms/step - loss: 6635.4282 - root_mean_squared_error: 81.2720 - val_loss: 6058.4302 - val_root_mean_squared_error: 77.8359\n",
      "Epoch 60/100\n",
      "\u001b[1m38/38\u001b[0m \u001b[32m━━━━━━━━━━━━━━━━━━━━\u001b[0m\u001b[37m\u001b[0m \u001b[1m0s\u001b[0m 3ms/step - loss: 5965.6899 - root_mean_squared_error: 77.1371 - val_loss: 6094.1094 - val_root_mean_squared_error: 78.0648\n",
      "Epoch 61/100\n",
      "\u001b[1m38/38\u001b[0m \u001b[32m━━━━━━━━━━━━━━━━━━━━\u001b[0m\u001b[37m\u001b[0m \u001b[1m0s\u001b[0m 3ms/step - loss: 6071.5483 - root_mean_squared_error: 77.8889 - val_loss: 6053.2388 - val_root_mean_squared_error: 77.8026\n",
      "Epoch 62/100\n",
      "\u001b[1m38/38\u001b[0m \u001b[32m━━━━━━━━━━━━━━━━━━━━\u001b[0m\u001b[37m\u001b[0m \u001b[1m0s\u001b[0m 3ms/step - loss: 5389.4648 - root_mean_squared_error: 73.0638 - val_loss: 6154.3745 - val_root_mean_squared_error: 78.4498\n",
      "Epoch 63/100\n",
      "\u001b[1m38/38\u001b[0m \u001b[32m━━━━━━━━━━━━━━━━━━━━\u001b[0m\u001b[37m\u001b[0m \u001b[1m0s\u001b[0m 3ms/step - loss: 5443.0239 - root_mean_squared_error: 73.5642 - val_loss: 6706.5254 - val_root_mean_squared_error: 81.8934\n",
      "Epoch 64/100\n",
      "\u001b[1m38/38\u001b[0m \u001b[32m━━━━━━━━━━━━━━━━━━━━\u001b[0m\u001b[37m\u001b[0m \u001b[1m0s\u001b[0m 3ms/step - loss: 7057.4971 - root_mean_squared_error: 83.8602 - val_loss: 6060.6816 - val_root_mean_squared_error: 77.8504\n",
      "Epoch 65/100\n",
      "\u001b[1m38/38\u001b[0m \u001b[32m━━━━━━━━━━━━━━━━━━━━\u001b[0m\u001b[37m\u001b[0m \u001b[1m0s\u001b[0m 3ms/step - loss: 6374.9590 - root_mean_squared_error: 79.6084 - val_loss: 5971.4438 - val_root_mean_squared_error: 77.2751\n",
      "Epoch 66/100\n",
      "\u001b[1m38/38\u001b[0m \u001b[32m━━━━━━━━━━━━━━━━━━━━\u001b[0m\u001b[37m\u001b[0m \u001b[1m0s\u001b[0m 3ms/step - loss: 5942.8564 - root_mean_squared_error: 76.7489 - val_loss: 6007.8623 - val_root_mean_squared_error: 77.5104\n",
      "Epoch 67/100\n",
      "\u001b[1m38/38\u001b[0m \u001b[32m━━━━━━━━━━━━━━━━━━━━\u001b[0m\u001b[37m\u001b[0m \u001b[1m0s\u001b[0m 3ms/step - loss: 7007.7061 - root_mean_squared_error: 83.4658 - val_loss: 5996.1309 - val_root_mean_squared_error: 77.4347\n",
      "Epoch 68/100\n",
      "\u001b[1m38/38\u001b[0m \u001b[32m━━━━━━━━━━━━━━━━━━━━\u001b[0m\u001b[37m\u001b[0m \u001b[1m0s\u001b[0m 3ms/step - loss: 6468.0742 - root_mean_squared_error: 80.0821 - val_loss: 5972.6758 - val_root_mean_squared_error: 77.2831\n",
      "Epoch 69/100\n",
      "\u001b[1m38/38\u001b[0m \u001b[32m━━━━━━━━━━━━━━━━━━━━\u001b[0m\u001b[37m\u001b[0m \u001b[1m0s\u001b[0m 3ms/step - loss: 6468.2734 - root_mean_squared_error: 80.3214 - val_loss: 6063.0908 - val_root_mean_squared_error: 77.8659\n",
      "Epoch 70/100\n",
      "\u001b[1m38/38\u001b[0m \u001b[32m━━━━━━━━━━━━━━━━━━━━\u001b[0m\u001b[37m\u001b[0m \u001b[1m0s\u001b[0m 3ms/step - loss: 6683.2241 - root_mean_squared_error: 81.6960 - val_loss: 5975.1768 - val_root_mean_squared_error: 77.2993\n",
      "Epoch 71/100\n",
      "\u001b[1m38/38\u001b[0m \u001b[32m━━━━━━━━━━━━━━━━━━━━\u001b[0m\u001b[37m\u001b[0m \u001b[1m0s\u001b[0m 3ms/step - loss: 6503.9561 - root_mean_squared_error: 80.4916 - val_loss: 5960.4131 - val_root_mean_squared_error: 77.2037\n",
      "Epoch 72/100\n",
      "\u001b[1m38/38\u001b[0m \u001b[32m━━━━━━━━━━━━━━━━━━━━\u001b[0m\u001b[37m\u001b[0m \u001b[1m0s\u001b[0m 3ms/step - loss: 6030.4570 - root_mean_squared_error: 77.5032 - val_loss: 6017.8950 - val_root_mean_squared_error: 77.5751\n",
      "Epoch 73/100\n",
      "\u001b[1m38/38\u001b[0m \u001b[32m━━━━━━━━━━━━━━━━━━━━\u001b[0m\u001b[37m\u001b[0m \u001b[1m0s\u001b[0m 3ms/step - loss: 5755.9956 - root_mean_squared_error: 75.2559 - val_loss: 6090.1816 - val_root_mean_squared_error: 78.0396\n",
      "Epoch 74/100\n",
      "\u001b[1m38/38\u001b[0m \u001b[32m━━━━━━━━━━━━━━━━━━━━\u001b[0m\u001b[37m\u001b[0m \u001b[1m0s\u001b[0m 3ms/step - loss: 6418.8184 - root_mean_squared_error: 80.0426 - val_loss: 6062.1875 - val_root_mean_squared_error: 77.8601\n",
      "Epoch 75/100\n",
      "\u001b[1m38/38\u001b[0m \u001b[32m━━━━━━━━━━━━━━━━━━━━\u001b[0m\u001b[37m\u001b[0m \u001b[1m0s\u001b[0m 3ms/step - loss: 6426.1143 - root_mean_squared_error: 80.0800 - val_loss: 5968.4668 - val_root_mean_squared_error: 77.2559\n",
      "Epoch 76/100\n",
      "\u001b[1m38/38\u001b[0m \u001b[32m━━━━━━━━━━━━━━━━━━━━\u001b[0m\u001b[37m\u001b[0m \u001b[1m0s\u001b[0m 3ms/step - loss: 7013.6392 - root_mean_squared_error: 83.6348 - val_loss: 6077.9131 - val_root_mean_squared_error: 77.9610\n",
      "Epoch 77/100\n",
      "\u001b[1m38/38\u001b[0m \u001b[32m━━━━━━━━━━━━━━━━━━━━\u001b[0m\u001b[37m\u001b[0m \u001b[1m0s\u001b[0m 3ms/step - loss: 6501.6616 - root_mean_squared_error: 80.5876 - val_loss: 7016.9106 - val_root_mean_squared_error: 83.7670\n",
      "Epoch 78/100\n",
      "\u001b[1m38/38\u001b[0m \u001b[32m━━━━━━━━━━━━━━━━━━━━\u001b[0m\u001b[37m\u001b[0m \u001b[1m0s\u001b[0m 3ms/step - loss: 6506.8281 - root_mean_squared_error: 80.5780 - val_loss: 6040.7544 - val_root_mean_squared_error: 77.7223\n",
      "Epoch 79/100\n",
      "\u001b[1m38/38\u001b[0m \u001b[32m━━━━━━━━━━━━━━━━━━━━\u001b[0m\u001b[37m\u001b[0m \u001b[1m0s\u001b[0m 3ms/step - loss: 5855.2397 - root_mean_squared_error: 76.4254 - val_loss: 6007.0967 - val_root_mean_squared_error: 77.5055\n",
      "Epoch 80/100\n",
      "\u001b[1m38/38\u001b[0m \u001b[32m━━━━━━━━━━━━━━━━━━━━\u001b[0m\u001b[37m\u001b[0m \u001b[1m0s\u001b[0m 3ms/step - loss: 6314.4902 - root_mean_squared_error: 79.2805 - val_loss: 5982.3921 - val_root_mean_squared_error: 77.3459\n",
      "Epoch 81/100\n",
      "\u001b[1m38/38\u001b[0m \u001b[32m━━━━━━━━━━━━━━━━━━━━\u001b[0m\u001b[37m\u001b[0m \u001b[1m0s\u001b[0m 3ms/step - loss: 7133.8403 - root_mean_squared_error: 84.3390 - val_loss: 6072.2119 - val_root_mean_squared_error: 77.9244\n",
      "Epoch 82/100\n",
      "\u001b[1m38/38\u001b[0m \u001b[32m━━━━━━━━━━━━━━━━━━━━\u001b[0m\u001b[37m\u001b[0m \u001b[1m0s\u001b[0m 3ms/step - loss: 5846.7568 - root_mean_squared_error: 76.3382 - val_loss: 6038.9038 - val_root_mean_squared_error: 77.7104\n",
      "Epoch 83/100\n",
      "\u001b[1m38/38\u001b[0m \u001b[32m━━━━━━━━━━━━━━━━━━━━\u001b[0m\u001b[37m\u001b[0m \u001b[1m0s\u001b[0m 3ms/step - loss: 7137.5376 - root_mean_squared_error: 84.3818 - val_loss: 6092.2202 - val_root_mean_squared_error: 78.0527\n",
      "Epoch 84/100\n",
      "\u001b[1m38/38\u001b[0m \u001b[32m━━━━━━━━━━━━━━━━━━━━\u001b[0m\u001b[37m\u001b[0m \u001b[1m0s\u001b[0m 3ms/step - loss: 6581.4531 - root_mean_squared_error: 80.9002 - val_loss: 6029.9756 - val_root_mean_squared_error: 77.6529\n",
      "Epoch 85/100\n",
      "\u001b[1m38/38\u001b[0m \u001b[32m━━━━━━━━━━━━━━━━━━━━\u001b[0m\u001b[37m\u001b[0m \u001b[1m0s\u001b[0m 3ms/step - loss: 5871.6216 - root_mean_squared_error: 76.2894 - val_loss: 5976.3252 - val_root_mean_squared_error: 77.3067\n",
      "Epoch 86/100\n",
      "\u001b[1m38/38\u001b[0m \u001b[32m━━━━━━━━━━━━━━━━━━━━\u001b[0m\u001b[37m\u001b[0m \u001b[1m0s\u001b[0m 3ms/step - loss: 7343.0767 - root_mean_squared_error: 85.5925 - val_loss: 5952.2002 - val_root_mean_squared_error: 77.1505\n",
      "Epoch 87/100\n",
      "\u001b[1m38/38\u001b[0m \u001b[32m━━━━━━━━━━━━━━━━━━━━\u001b[0m\u001b[37m\u001b[0m \u001b[1m0s\u001b[0m 3ms/step - loss: 6805.0020 - root_mean_squared_error: 82.3359 - val_loss: 5982.1655 - val_root_mean_squared_error: 77.3445\n",
      "Epoch 88/100\n",
      "\u001b[1m38/38\u001b[0m \u001b[32m━━━━━━━━━━━━━━━━━━━━\u001b[0m\u001b[37m\u001b[0m \u001b[1m0s\u001b[0m 3ms/step - loss: 6060.0620 - root_mean_squared_error: 77.6155 - val_loss: 6072.9839 - val_root_mean_squared_error: 77.9294\n",
      "Epoch 89/100\n",
      "\u001b[1m38/38\u001b[0m \u001b[32m━━━━━━━━━━━━━━━━━━━━\u001b[0m\u001b[37m\u001b[0m \u001b[1m0s\u001b[0m 3ms/step - loss: 5916.3389 - root_mean_squared_error: 76.8062 - val_loss: 5969.4404 - val_root_mean_squared_error: 77.2622\n",
      "Epoch 90/100\n",
      "\u001b[1m38/38\u001b[0m \u001b[32m━━━━━━━━━━━━━━━━━━━━\u001b[0m\u001b[37m\u001b[0m \u001b[1m0s\u001b[0m 3ms/step - loss: 6522.3745 - root_mean_squared_error: 80.4740 - val_loss: 6089.4194 - val_root_mean_squared_error: 78.0347\n",
      "Epoch 91/100\n",
      "\u001b[1m38/38\u001b[0m \u001b[32m━━━━━━━━━━━━━━━━━━━━\u001b[0m\u001b[37m\u001b[0m \u001b[1m0s\u001b[0m 3ms/step - loss: 6271.4995 - root_mean_squared_error: 78.9277 - val_loss: 6183.5879 - val_root_mean_squared_error: 78.6358\n",
      "Epoch 92/100\n",
      "\u001b[1m38/38\u001b[0m \u001b[32m━━━━━━━━━━━━━━━━━━━━\u001b[0m\u001b[37m\u001b[0m \u001b[1m0s\u001b[0m 3ms/step - loss: 7006.0718 - root_mean_squared_error: 83.3247 - val_loss: 6059.9937 - val_root_mean_squared_error: 77.8460\n",
      "Epoch 93/100\n",
      "\u001b[1m38/38\u001b[0m \u001b[32m━━━━━━━━━━━━━━━━━━━━\u001b[0m\u001b[37m\u001b[0m \u001b[1m0s\u001b[0m 3ms/step - loss: 6149.3184 - root_mean_squared_error: 78.1077 - val_loss: 6342.6631 - val_root_mean_squared_error: 79.6408\n",
      "Epoch 94/100\n",
      "\u001b[1m38/38\u001b[0m \u001b[32m━━━━━━━━━━━━━━━━━━━━\u001b[0m\u001b[37m\u001b[0m \u001b[1m0s\u001b[0m 3ms/step - loss: 6485.8511 - root_mean_squared_error: 80.3310 - val_loss: 6032.0371 - val_root_mean_squared_error: 77.6662\n",
      "Epoch 95/100\n",
      "\u001b[1m38/38\u001b[0m \u001b[32m━━━━━━━━━━━━━━━━━━━━\u001b[0m\u001b[37m\u001b[0m \u001b[1m0s\u001b[0m 3ms/step - loss: 6702.3394 - root_mean_squared_error: 81.7720 - val_loss: 6147.5845 - val_root_mean_squared_error: 78.4065\n",
      "Epoch 96/100\n",
      "\u001b[1m38/38\u001b[0m \u001b[32m━━━━━━━━━━━━━━━━━━━━\u001b[0m\u001b[37m\u001b[0m \u001b[1m0s\u001b[0m 3ms/step - loss: 6274.4448 - root_mean_squared_error: 78.6884 - val_loss: 6538.8037 - val_root_mean_squared_error: 80.8629\n",
      "Epoch 97/100\n",
      "\u001b[1m38/38\u001b[0m \u001b[32m━━━━━━━━━━━━━━━━━━━━\u001b[0m\u001b[37m\u001b[0m \u001b[1m0s\u001b[0m 3ms/step - loss: 7050.6729 - root_mean_squared_error: 83.7714 - val_loss: 5974.8638 - val_root_mean_squared_error: 77.2972\n",
      "Epoch 98/100\n",
      "\u001b[1m38/38\u001b[0m \u001b[32m━━━━━━━━━━━━━━━━━━━━\u001b[0m\u001b[37m\u001b[0m \u001b[1m0s\u001b[0m 3ms/step - loss: 6133.5269 - root_mean_squared_error: 78.0232 - val_loss: 6098.4580 - val_root_mean_squared_error: 78.0926\n",
      "Epoch 99/100\n",
      "\u001b[1m38/38\u001b[0m \u001b[32m━━━━━━━━━━━━━━━━━━━━\u001b[0m\u001b[37m\u001b[0m \u001b[1m0s\u001b[0m 3ms/step - loss: 6956.4702 - root_mean_squared_error: 83.2999 - val_loss: 5983.7051 - val_root_mean_squared_error: 77.3544\n",
      "Epoch 100/100\n",
      "\u001b[1m38/38\u001b[0m \u001b[32m━━━━━━━━━━━━━━━━━━━━\u001b[0m\u001b[37m\u001b[0m \u001b[1m0s\u001b[0m 3ms/step - loss: 7066.7314 - root_mean_squared_error: 83.9719 - val_loss: 6009.5430 - val_root_mean_squared_error: 77.5212\n"
     ]
    },
    {
     "data": {
      "text/plain": [
       "<keras.src.callbacks.history.History at 0x7f3caffdbee0>"
      ]
     },
     "execution_count": 22,
     "metadata": {},
     "output_type": "execute_result"
    }
   ],
   "source": [
    "model2.fit(X_train1, y_train1, validation_data=(X_val1, y_val1), epochs=100, callbacks=[cp2])"
   ]
  },
  {
   "cell_type": "markdown",
   "id": "91cda893",
   "metadata": {
    "papermill": {
     "duration": 0.065893,
     "end_time": "2024-12-30T03:02:17.468293",
     "exception": false,
     "start_time": "2024-12-30T03:02:17.402400",
     "status": "completed"
    },
    "tags": []
   },
   "source": [
    "**GRU**"
   ]
  },
  {
   "cell_type": "code",
   "execution_count": 23,
   "id": "679ac42e",
   "metadata": {
    "execution": {
     "iopub.execute_input": "2024-12-30T03:02:17.602446Z",
     "iopub.status.busy": "2024-12-30T03:02:17.602055Z",
     "iopub.status.idle": "2024-12-30T03:02:17.655129Z",
     "shell.execute_reply": "2024-12-30T03:02:17.654075Z"
    },
    "papermill": {
     "duration": 0.120623,
     "end_time": "2024-12-30T03:02:17.656775",
     "exception": false,
     "start_time": "2024-12-30T03:02:17.536152",
     "status": "completed"
    },
    "tags": []
   },
   "outputs": [
    {
     "data": {
      "text/html": [
       "<pre style=\"white-space:pre;overflow-x:auto;line-height:normal;font-family:Menlo,'DejaVu Sans Mono',consolas,'Courier New',monospace\"><span style=\"font-weight: bold\">Model: \"sequential_2\"</span>\n",
       "</pre>\n"
      ],
      "text/plain": [
       "\u001b[1mModel: \"sequential_2\"\u001b[0m\n"
      ]
     },
     "metadata": {},
     "output_type": "display_data"
    },
    {
     "data": {
      "text/html": [
       "<pre style=\"white-space:pre;overflow-x:auto;line-height:normal;font-family:Menlo,'DejaVu Sans Mono',consolas,'Courier New',monospace\">┏━━━━━━━━━━━━━━━━━━━━━━━━━━━━━━━━━━━━━━┳━━━━━━━━━━━━━━━━━━━━━━━━━━━━━┳━━━━━━━━━━━━━━━━━┓\n",
       "┃<span style=\"font-weight: bold\"> Layer (type)                         </span>┃<span style=\"font-weight: bold\"> Output Shape                </span>┃<span style=\"font-weight: bold\">         Param # </span>┃\n",
       "┡━━━━━━━━━━━━━━━━━━━━━━━━━━━━━━━━━━━━━━╇━━━━━━━━━━━━━━━━━━━━━━━━━━━━━╇━━━━━━━━━━━━━━━━━┩\n",
       "│ gru (<span style=\"color: #0087ff; text-decoration-color: #0087ff\">GRU</span>)                            │ (<span style=\"color: #00d7ff; text-decoration-color: #00d7ff\">None</span>, <span style=\"color: #00af00; text-decoration-color: #00af00\">32</span>)                  │           <span style=\"color: #00af00; text-decoration-color: #00af00\">3,360</span> │\n",
       "├──────────────────────────────────────┼─────────────────────────────┼─────────────────┤\n",
       "│ dense_4 (<span style=\"color: #0087ff; text-decoration-color: #0087ff\">Dense</span>)                      │ (<span style=\"color: #00d7ff; text-decoration-color: #00d7ff\">None</span>, <span style=\"color: #00af00; text-decoration-color: #00af00\">8</span>)                   │             <span style=\"color: #00af00; text-decoration-color: #00af00\">264</span> │\n",
       "├──────────────────────────────────────┼─────────────────────────────┼─────────────────┤\n",
       "│ dense_5 (<span style=\"color: #0087ff; text-decoration-color: #0087ff\">Dense</span>)                      │ (<span style=\"color: #00d7ff; text-decoration-color: #00d7ff\">None</span>, <span style=\"color: #00af00; text-decoration-color: #00af00\">1</span>)                   │               <span style=\"color: #00af00; text-decoration-color: #00af00\">9</span> │\n",
       "└──────────────────────────────────────┴─────────────────────────────┴─────────────────┘\n",
       "</pre>\n"
      ],
      "text/plain": [
       "┏━━━━━━━━━━━━━━━━━━━━━━━━━━━━━━━━━━━━━━┳━━━━━━━━━━━━━━━━━━━━━━━━━━━━━┳━━━━━━━━━━━━━━━━━┓\n",
       "┃\u001b[1m \u001b[0m\u001b[1mLayer (type)                        \u001b[0m\u001b[1m \u001b[0m┃\u001b[1m \u001b[0m\u001b[1mOutput Shape               \u001b[0m\u001b[1m \u001b[0m┃\u001b[1m \u001b[0m\u001b[1m        Param #\u001b[0m\u001b[1m \u001b[0m┃\n",
       "┡━━━━━━━━━━━━━━━━━━━━━━━━━━━━━━━━━━━━━━╇━━━━━━━━━━━━━━━━━━━━━━━━━━━━━╇━━━━━━━━━━━━━━━━━┩\n",
       "│ gru (\u001b[38;5;33mGRU\u001b[0m)                            │ (\u001b[38;5;45mNone\u001b[0m, \u001b[38;5;34m32\u001b[0m)                  │           \u001b[38;5;34m3,360\u001b[0m │\n",
       "├──────────────────────────────────────┼─────────────────────────────┼─────────────────┤\n",
       "│ dense_4 (\u001b[38;5;33mDense\u001b[0m)                      │ (\u001b[38;5;45mNone\u001b[0m, \u001b[38;5;34m8\u001b[0m)                   │             \u001b[38;5;34m264\u001b[0m │\n",
       "├──────────────────────────────────────┼─────────────────────────────┼─────────────────┤\n",
       "│ dense_5 (\u001b[38;5;33mDense\u001b[0m)                      │ (\u001b[38;5;45mNone\u001b[0m, \u001b[38;5;34m1\u001b[0m)                   │               \u001b[38;5;34m9\u001b[0m │\n",
       "└──────────────────────────────────────┴─────────────────────────────┴─────────────────┘\n"
      ]
     },
     "metadata": {},
     "output_type": "display_data"
    },
    {
     "data": {
      "text/html": [
       "<pre style=\"white-space:pre;overflow-x:auto;line-height:normal;font-family:Menlo,'DejaVu Sans Mono',consolas,'Courier New',monospace\"><span style=\"font-weight: bold\"> Total params: </span><span style=\"color: #00af00; text-decoration-color: #00af00\">3,633</span> (14.19 KB)\n",
       "</pre>\n"
      ],
      "text/plain": [
       "\u001b[1m Total params: \u001b[0m\u001b[38;5;34m3,633\u001b[0m (14.19 KB)\n"
      ]
     },
     "metadata": {},
     "output_type": "display_data"
    },
    {
     "data": {
      "text/html": [
       "<pre style=\"white-space:pre;overflow-x:auto;line-height:normal;font-family:Menlo,'DejaVu Sans Mono',consolas,'Courier New',monospace\"><span style=\"font-weight: bold\"> Trainable params: </span><span style=\"color: #00af00; text-decoration-color: #00af00\">3,633</span> (14.19 KB)\n",
       "</pre>\n"
      ],
      "text/plain": [
       "\u001b[1m Trainable params: \u001b[0m\u001b[38;5;34m3,633\u001b[0m (14.19 KB)\n"
      ]
     },
     "metadata": {},
     "output_type": "display_data"
    },
    {
     "data": {
      "text/html": [
       "<pre style=\"white-space:pre;overflow-x:auto;line-height:normal;font-family:Menlo,'DejaVu Sans Mono',consolas,'Courier New',monospace\"><span style=\"font-weight: bold\"> Non-trainable params: </span><span style=\"color: #00af00; text-decoration-color: #00af00\">0</span> (0.00 B)\n",
       "</pre>\n"
      ],
      "text/plain": [
       "\u001b[1m Non-trainable params: \u001b[0m\u001b[38;5;34m0\u001b[0m (0.00 B)\n"
      ]
     },
     "metadata": {},
     "output_type": "display_data"
    }
   ],
   "source": [
    "model3 = Sequential()\n",
    "model3.add(InputLayer((6, 1)))\n",
    "model3.add(GRU(32))\n",
    "model3.add(Dense(8, 'relu'))\n",
    "model3.add(Dense(1, 'linear'))\n",
    "model3.summary()"
   ]
  },
  {
   "cell_type": "code",
   "execution_count": 24,
   "id": "79c45bd2",
   "metadata": {
    "execution": {
     "iopub.execute_input": "2024-12-30T03:02:17.789887Z",
     "iopub.status.busy": "2024-12-30T03:02:17.789527Z",
     "iopub.status.idle": "2024-12-30T03:02:17.800418Z",
     "shell.execute_reply": "2024-12-30T03:02:17.799427Z"
    },
    "papermill": {
     "duration": 0.07881,
     "end_time": "2024-12-30T03:02:17.802181",
     "exception": false,
     "start_time": "2024-12-30T03:02:17.723371",
     "status": "completed"
    },
    "tags": []
   },
   "outputs": [],
   "source": [
    "cp3 = ModelCheckpoint('/kaggle/working/model3.keras', save_best_only=True)\n",
    "model3.compile(loss=MeanSquaredError(), optimizer=Adam(learning_rate=0.01), metrics=[RootMeanSquaredError()])"
   ]
  },
  {
   "cell_type": "code",
   "execution_count": 25,
   "id": "16504da1",
   "metadata": {
    "execution": {
     "iopub.execute_input": "2024-12-30T03:02:17.934652Z",
     "iopub.status.busy": "2024-12-30T03:02:17.934313Z",
     "iopub.status.idle": "2024-12-30T03:02:44.167637Z",
     "shell.execute_reply": "2024-12-30T03:02:44.166618Z"
    },
    "papermill": {
     "duration": 26.302346,
     "end_time": "2024-12-30T03:02:44.169271",
     "exception": false,
     "start_time": "2024-12-30T03:02:17.866925",
     "status": "completed"
    },
    "tags": []
   },
   "outputs": [
    {
     "name": "stdout",
     "output_type": "stream",
     "text": [
      "Epoch 1/100\n",
      "\u001b[1m38/38\u001b[0m \u001b[32m━━━━━━━━━━━━━━━━━━━━\u001b[0m\u001b[37m\u001b[0m \u001b[1m3s\u001b[0m 13ms/step - loss: 156280.9062 - root_mean_squared_error: 395.3036 - val_loss: 142919.5625 - val_root_mean_squared_error: 378.0470\n",
      "Epoch 2/100\n",
      "\u001b[1m38/38\u001b[0m \u001b[32m━━━━━━━━━━━━━━━━━━━━\u001b[0m\u001b[37m\u001b[0m \u001b[1m0s\u001b[0m 6ms/step - loss: 123464.3359 - root_mean_squared_error: 351.1175 - val_loss: 88232.9922 - val_root_mean_squared_error: 297.0404\n",
      "Epoch 3/100\n",
      "\u001b[1m38/38\u001b[0m \u001b[32m━━━━━━━━━━━━━━━━━━━━\u001b[0m\u001b[37m\u001b[0m \u001b[1m0s\u001b[0m 6ms/step - loss: 70039.2109 - root_mean_squared_error: 264.3779 - val_loss: 37922.1367 - val_root_mean_squared_error: 194.7361\n",
      "Epoch 4/100\n",
      "\u001b[1m38/38\u001b[0m \u001b[32m━━━━━━━━━━━━━━━━━━━━\u001b[0m\u001b[37m\u001b[0m \u001b[1m0s\u001b[0m 6ms/step - loss: 34091.3398 - root_mean_squared_error: 184.4860 - val_loss: 20347.0781 - val_root_mean_squared_error: 142.6432\n",
      "Epoch 5/100\n",
      "\u001b[1m38/38\u001b[0m \u001b[32m━━━━━━━━━━━━━━━━━━━━\u001b[0m\u001b[37m\u001b[0m \u001b[1m0s\u001b[0m 6ms/step - loss: 24762.0000 - root_mean_squared_error: 157.3514 - val_loss: 18519.9688 - val_root_mean_squared_error: 136.0881\n",
      "Epoch 6/100\n",
      "\u001b[1m38/38\u001b[0m \u001b[32m━━━━━━━━━━━━━━━━━━━━\u001b[0m\u001b[37m\u001b[0m \u001b[1m0s\u001b[0m 6ms/step - loss: 26379.4043 - root_mean_squared_error: 162.3234 - val_loss: 18318.5254 - val_root_mean_squared_error: 135.3459\n",
      "Epoch 7/100\n",
      "\u001b[1m38/38\u001b[0m \u001b[32m━━━━━━━━━━━━━━━━━━━━\u001b[0m\u001b[37m\u001b[0m \u001b[1m0s\u001b[0m 5ms/step - loss: 25964.2344 - root_mean_squared_error: 161.0983 - val_loss: 18368.0195 - val_root_mean_squared_error: 135.5287\n",
      "Epoch 8/100\n",
      "\u001b[1m38/38\u001b[0m \u001b[32m━━━━━━━━━━━━━━━━━━━━\u001b[0m\u001b[37m\u001b[0m \u001b[1m0s\u001b[0m 6ms/step - loss: 24431.3184 - root_mean_squared_error: 156.2853 - val_loss: 18513.1016 - val_root_mean_squared_error: 136.0629\n",
      "Epoch 9/100\n",
      "\u001b[1m38/38\u001b[0m \u001b[32m━━━━━━━━━━━━━━━━━━━━\u001b[0m\u001b[37m\u001b[0m \u001b[1m0s\u001b[0m 6ms/step - loss: 24113.4453 - root_mean_squared_error: 155.2657 - val_loss: 18561.9297 - val_root_mean_squared_error: 136.2422\n",
      "Epoch 10/100\n",
      "\u001b[1m38/38\u001b[0m \u001b[32m━━━━━━━━━━━━━━━━━━━━\u001b[0m\u001b[37m\u001b[0m \u001b[1m0s\u001b[0m 5ms/step - loss: 24915.1289 - root_mean_squared_error: 157.8231 - val_loss: 18548.9805 - val_root_mean_squared_error: 136.1946\n",
      "Epoch 11/100\n",
      "\u001b[1m38/38\u001b[0m \u001b[32m━━━━━━━━━━━━━━━━━━━━\u001b[0m\u001b[37m\u001b[0m \u001b[1m0s\u001b[0m 5ms/step - loss: 25200.5312 - root_mean_squared_error: 158.7280 - val_loss: 18524.6934 - val_root_mean_squared_error: 136.1055\n",
      "Epoch 12/100\n",
      "\u001b[1m38/38\u001b[0m \u001b[32m━━━━━━━━━━━━━━━━━━━━\u001b[0m\u001b[37m\u001b[0m \u001b[1m0s\u001b[0m 5ms/step - loss: 25447.9023 - root_mean_squared_error: 159.5084 - val_loss: 18438.0273 - val_root_mean_squared_error: 135.7867\n",
      "Epoch 13/100\n",
      "\u001b[1m38/38\u001b[0m \u001b[32m━━━━━━━━━━━━━━━━━━━━\u001b[0m\u001b[37m\u001b[0m \u001b[1m0s\u001b[0m 5ms/step - loss: 25298.2676 - root_mean_squared_error: 159.0196 - val_loss: 18483.4453 - val_root_mean_squared_error: 135.9538\n",
      "Epoch 14/100\n",
      "\u001b[1m38/38\u001b[0m \u001b[32m━━━━━━━━━━━━━━━━━━━━\u001b[0m\u001b[37m\u001b[0m \u001b[1m0s\u001b[0m 6ms/step - loss: 25048.1406 - root_mean_squared_error: 158.2133 - val_loss: 16402.5566 - val_root_mean_squared_error: 128.0725\n",
      "Epoch 15/100\n",
      "\u001b[1m38/38\u001b[0m \u001b[32m━━━━━━━━━━━━━━━━━━━━\u001b[0m\u001b[37m\u001b[0m \u001b[1m0s\u001b[0m 6ms/step - loss: 21261.3848 - root_mean_squared_error: 145.7766 - val_loss: 13223.5322 - val_root_mean_squared_error: 114.9936\n",
      "Epoch 16/100\n",
      "\u001b[1m38/38\u001b[0m \u001b[32m━━━━━━━━━━━━━━━━━━━━\u001b[0m\u001b[37m\u001b[0m \u001b[1m0s\u001b[0m 6ms/step - loss: 16644.9844 - root_mean_squared_error: 128.9940 - val_loss: 10621.2051 - val_root_mean_squared_error: 103.0592\n",
      "Epoch 17/100\n",
      "\u001b[1m38/38\u001b[0m \u001b[32m━━━━━━━━━━━━━━━━━━━━\u001b[0m\u001b[37m\u001b[0m \u001b[1m0s\u001b[0m 6ms/step - loss: 12756.0820 - root_mean_squared_error: 112.9173 - val_loss: 8649.1289 - val_root_mean_squared_error: 93.0007\n",
      "Epoch 18/100\n",
      "\u001b[1m38/38\u001b[0m \u001b[32m━━━━━━━━━━━━━━━━━━━━\u001b[0m\u001b[37m\u001b[0m \u001b[1m0s\u001b[0m 6ms/step - loss: 9313.4814 - root_mean_squared_error: 96.4880 - val_loss: 7262.0977 - val_root_mean_squared_error: 85.2179\n",
      "Epoch 19/100\n",
      "\u001b[1m38/38\u001b[0m \u001b[32m━━━━━━━━━━━━━━━━━━━━\u001b[0m\u001b[37m\u001b[0m \u001b[1m0s\u001b[0m 6ms/step - loss: 7419.3550 - root_mean_squared_error: 85.8159 - val_loss: 6326.7524 - val_root_mean_squared_error: 79.5409\n",
      "Epoch 20/100\n",
      "\u001b[1m38/38\u001b[0m \u001b[32m━━━━━━━━━━━━━━━━━━━━\u001b[0m\u001b[37m\u001b[0m \u001b[1m0s\u001b[0m 5ms/step - loss: 7461.0020 - root_mean_squared_error: 86.1922 - val_loss: 6401.6567 - val_root_mean_squared_error: 80.0104\n",
      "Epoch 21/100\n",
      "\u001b[1m38/38\u001b[0m \u001b[32m━━━━━━━━━━━━━━━━━━━━\u001b[0m\u001b[37m\u001b[0m \u001b[1m0s\u001b[0m 6ms/step - loss: 6860.8525 - root_mean_squared_error: 82.7506 - val_loss: 5948.0273 - val_root_mean_squared_error: 77.1235\n",
      "Epoch 22/100\n",
      "\u001b[1m38/38\u001b[0m \u001b[32m━━━━━━━━━━━━━━━━━━━━\u001b[0m\u001b[37m\u001b[0m \u001b[1m0s\u001b[0m 6ms/step - loss: 6456.7881 - root_mean_squared_error: 80.2583 - val_loss: 6443.0757 - val_root_mean_squared_error: 80.2688\n",
      "Epoch 23/100\n",
      "\u001b[1m38/38\u001b[0m \u001b[32m━━━━━━━━━━━━━━━━━━━━\u001b[0m\u001b[37m\u001b[0m \u001b[1m0s\u001b[0m 5ms/step - loss: 6970.9336 - root_mean_squared_error: 83.4226 - val_loss: 6441.3311 - val_root_mean_squared_error: 80.2579\n",
      "Epoch 24/100\n",
      "\u001b[1m38/38\u001b[0m \u001b[32m━━━━━━━━━━━━━━━━━━━━\u001b[0m\u001b[37m\u001b[0m \u001b[1m0s\u001b[0m 5ms/step - loss: 5500.6836 - root_mean_squared_error: 73.9855 - val_loss: 5966.8174 - val_root_mean_squared_error: 77.2452\n",
      "Epoch 25/100\n",
      "\u001b[1m38/38\u001b[0m \u001b[32m━━━━━━━━━━━━━━━━━━━━\u001b[0m\u001b[37m\u001b[0m \u001b[1m0s\u001b[0m 6ms/step - loss: 6956.6479 - root_mean_squared_error: 83.2069 - val_loss: 6445.3691 - val_root_mean_squared_error: 80.2831\n",
      "Epoch 26/100\n",
      "\u001b[1m38/38\u001b[0m \u001b[32m━━━━━━━━━━━━━━━━━━━━\u001b[0m\u001b[37m\u001b[0m \u001b[1m0s\u001b[0m 6ms/step - loss: 6268.0366 - root_mean_squared_error: 79.1217 - val_loss: 6066.8994 - val_root_mean_squared_error: 77.8903\n",
      "Epoch 27/100\n",
      "\u001b[1m38/38\u001b[0m \u001b[32m━━━━━━━━━━━━━━━━━━━━\u001b[0m\u001b[37m\u001b[0m \u001b[1m0s\u001b[0m 6ms/step - loss: 6043.9575 - root_mean_squared_error: 77.1414 - val_loss: 6096.7480 - val_root_mean_squared_error: 78.0817\n",
      "Epoch 28/100\n",
      "\u001b[1m38/38\u001b[0m \u001b[32m━━━━━━━━━━━━━━━━━━━━\u001b[0m\u001b[37m\u001b[0m \u001b[1m0s\u001b[0m 5ms/step - loss: 5953.7124 - root_mean_squared_error: 77.0616 - val_loss: 6101.4194 - val_root_mean_squared_error: 78.1116\n",
      "Epoch 29/100\n",
      "\u001b[1m38/38\u001b[0m \u001b[32m━━━━━━━━━━━━━━━━━━━━\u001b[0m\u001b[37m\u001b[0m \u001b[1m0s\u001b[0m 6ms/step - loss: 5661.5649 - root_mean_squared_error: 74.8000 - val_loss: 5938.0654 - val_root_mean_squared_error: 77.0588\n",
      "Epoch 30/100\n",
      "\u001b[1m38/38\u001b[0m \u001b[32m━━━━━━━━━━━━━━━━━━━━\u001b[0m\u001b[37m\u001b[0m \u001b[1m0s\u001b[0m 5ms/step - loss: 6153.8271 - root_mean_squared_error: 77.7004 - val_loss: 6161.5879 - val_root_mean_squared_error: 78.4958\n",
      "Epoch 31/100\n",
      "\u001b[1m38/38\u001b[0m \u001b[32m━━━━━━━━━━━━━━━━━━━━\u001b[0m\u001b[37m\u001b[0m \u001b[1m0s\u001b[0m 6ms/step - loss: 5508.0410 - root_mean_squared_error: 73.4608 - val_loss: 5996.0532 - val_root_mean_squared_error: 77.4342\n",
      "Epoch 32/100\n",
      "\u001b[1m38/38\u001b[0m \u001b[32m━━━━━━━━━━━━━━━━━━━━\u001b[0m\u001b[37m\u001b[0m \u001b[1m0s\u001b[0m 5ms/step - loss: 6762.9185 - root_mean_squared_error: 82.0058 - val_loss: 6127.3398 - val_root_mean_squared_error: 78.2773\n",
      "Epoch 33/100\n",
      "\u001b[1m38/38\u001b[0m \u001b[32m━━━━━━━━━━━━━━━━━━━━\u001b[0m\u001b[37m\u001b[0m \u001b[1m0s\u001b[0m 5ms/step - loss: 5790.1064 - root_mean_squared_error: 75.8348 - val_loss: 6128.5630 - val_root_mean_squared_error: 78.2851\n",
      "Epoch 34/100\n",
      "\u001b[1m38/38\u001b[0m \u001b[32m━━━━━━━━━━━━━━━━━━━━\u001b[0m\u001b[37m\u001b[0m \u001b[1m0s\u001b[0m 5ms/step - loss: 6260.7808 - root_mean_squared_error: 79.0110 - val_loss: 5939.7881 - val_root_mean_squared_error: 77.0700\n",
      "Epoch 35/100\n",
      "\u001b[1m38/38\u001b[0m \u001b[32m━━━━━━━━━━━━━━━━━━━━\u001b[0m\u001b[37m\u001b[0m \u001b[1m0s\u001b[0m 6ms/step - loss: 7307.9858 - root_mean_squared_error: 85.0043 - val_loss: 6014.5498 - val_root_mean_squared_error: 77.5535\n",
      "Epoch 36/100\n",
      "\u001b[1m38/38\u001b[0m \u001b[32m━━━━━━━━━━━━━━━━━━━━\u001b[0m\u001b[37m\u001b[0m \u001b[1m0s\u001b[0m 6ms/step - loss: 5046.0244 - root_mean_squared_error: 70.6199 - val_loss: 5922.5308 - val_root_mean_squared_error: 76.9580\n",
      "Epoch 37/100\n",
      "\u001b[1m38/38\u001b[0m \u001b[32m━━━━━━━━━━━━━━━━━━━━\u001b[0m\u001b[37m\u001b[0m \u001b[1m0s\u001b[0m 5ms/step - loss: 6493.1802 - root_mean_squared_error: 80.5216 - val_loss: 5935.6201 - val_root_mean_squared_error: 77.0430\n",
      "Epoch 38/100\n",
      "\u001b[1m38/38\u001b[0m \u001b[32m━━━━━━━━━━━━━━━━━━━━\u001b[0m\u001b[37m\u001b[0m \u001b[1m0s\u001b[0m 6ms/step - loss: 7252.6597 - root_mean_squared_error: 84.9293 - val_loss: 6067.7476 - val_root_mean_squared_error: 77.8957\n",
      "Epoch 39/100\n",
      "\u001b[1m38/38\u001b[0m \u001b[32m━━━━━━━━━━━━━━━━━━━━\u001b[0m\u001b[37m\u001b[0m \u001b[1m0s\u001b[0m 6ms/step - loss: 6012.3838 - root_mean_squared_error: 77.3586 - val_loss: 6001.0493 - val_root_mean_squared_error: 77.4664\n",
      "Epoch 40/100\n",
      "\u001b[1m38/38\u001b[0m \u001b[32m━━━━━━━━━━━━━━━━━━━━\u001b[0m\u001b[37m\u001b[0m \u001b[1m0s\u001b[0m 5ms/step - loss: 6057.6655 - root_mean_squared_error: 77.6902 - val_loss: 5969.6465 - val_root_mean_squared_error: 77.2635\n",
      "Epoch 41/100\n",
      "\u001b[1m38/38\u001b[0m \u001b[32m━━━━━━━━━━━━━━━━━━━━\u001b[0m\u001b[37m\u001b[0m \u001b[1m0s\u001b[0m 5ms/step - loss: 6220.1553 - root_mean_squared_error: 78.8113 - val_loss: 5980.8438 - val_root_mean_squared_error: 77.3359\n",
      "Epoch 42/100\n",
      "\u001b[1m38/38\u001b[0m \u001b[32m━━━━━━━━━━━━━━━━━━━━\u001b[0m\u001b[37m\u001b[0m \u001b[1m0s\u001b[0m 6ms/step - loss: 6534.0903 - root_mean_squared_error: 80.5301 - val_loss: 6012.8955 - val_root_mean_squared_error: 77.5429\n",
      "Epoch 43/100\n",
      "\u001b[1m38/38\u001b[0m \u001b[32m━━━━━━━━━━━━━━━━━━━━\u001b[0m\u001b[37m\u001b[0m \u001b[1m0s\u001b[0m 5ms/step - loss: 6591.6963 - root_mean_squared_error: 81.1327 - val_loss: 6070.7192 - val_root_mean_squared_error: 77.9148\n",
      "Epoch 44/100\n",
      "\u001b[1m38/38\u001b[0m \u001b[32m━━━━━━━━━━━━━━━━━━━━\u001b[0m\u001b[37m\u001b[0m \u001b[1m0s\u001b[0m 6ms/step - loss: 5985.2021 - root_mean_squared_error: 77.2797 - val_loss: 6162.8691 - val_root_mean_squared_error: 78.5039\n",
      "Epoch 45/100\n",
      "\u001b[1m38/38\u001b[0m \u001b[32m━━━━━━━━━━━━━━━━━━━━\u001b[0m\u001b[37m\u001b[0m \u001b[1m0s\u001b[0m 5ms/step - loss: 6636.9209 - root_mean_squared_error: 81.2914 - val_loss: 6067.8765 - val_root_mean_squared_error: 77.8966\n",
      "Epoch 46/100\n",
      "\u001b[1m38/38\u001b[0m \u001b[32m━━━━━━━━━━━━━━━━━━━━\u001b[0m\u001b[37m\u001b[0m \u001b[1m0s\u001b[0m 6ms/step - loss: 5058.1494 - root_mean_squared_error: 70.7753 - val_loss: 5968.4136 - val_root_mean_squared_error: 77.2555\n",
      "Epoch 47/100\n",
      "\u001b[1m38/38\u001b[0m \u001b[32m━━━━━━━━━━━━━━━━━━━━\u001b[0m\u001b[37m\u001b[0m \u001b[1m0s\u001b[0m 5ms/step - loss: 6339.4326 - root_mean_squared_error: 79.3121 - val_loss: 6072.5566 - val_root_mean_squared_error: 77.9266\n",
      "Epoch 48/100\n",
      "\u001b[1m38/38\u001b[0m \u001b[32m━━━━━━━━━━━━━━━━━━━━\u001b[0m\u001b[37m\u001b[0m \u001b[1m0s\u001b[0m 5ms/step - loss: 7329.3076 - root_mean_squared_error: 85.3580 - val_loss: 6150.4683 - val_root_mean_squared_error: 78.4249\n",
      "Epoch 49/100\n",
      "\u001b[1m38/38\u001b[0m \u001b[32m━━━━━━━━━━━━━━━━━━━━\u001b[0m\u001b[37m\u001b[0m \u001b[1m0s\u001b[0m 5ms/step - loss: 5679.3657 - root_mean_squared_error: 75.1566 - val_loss: 6049.2676 - val_root_mean_squared_error: 77.7770\n",
      "Epoch 50/100\n",
      "\u001b[1m38/38\u001b[0m \u001b[32m━━━━━━━━━━━━━━━━━━━━\u001b[0m\u001b[37m\u001b[0m \u001b[1m0s\u001b[0m 5ms/step - loss: 6348.4814 - root_mean_squared_error: 79.6246 - val_loss: 6143.2754 - val_root_mean_squared_error: 78.3791\n",
      "Epoch 51/100\n",
      "\u001b[1m38/38\u001b[0m \u001b[32m━━━━━━━━━━━━━━━━━━━━\u001b[0m\u001b[37m\u001b[0m \u001b[1m0s\u001b[0m 5ms/step - loss: 7079.9233 - root_mean_squared_error: 84.0534 - val_loss: 6051.9702 - val_root_mean_squared_error: 77.7944\n",
      "Epoch 52/100\n",
      "\u001b[1m38/38\u001b[0m \u001b[32m━━━━━━━━━━━━━━━━━━━━\u001b[0m\u001b[37m\u001b[0m \u001b[1m0s\u001b[0m 5ms/step - loss: 6418.7598 - root_mean_squared_error: 80.0803 - val_loss: 6067.9624 - val_root_mean_squared_error: 77.8971\n",
      "Epoch 53/100\n",
      "\u001b[1m38/38\u001b[0m \u001b[32m━━━━━━━━━━━━━━━━━━━━\u001b[0m\u001b[37m\u001b[0m \u001b[1m0s\u001b[0m 6ms/step - loss: 5984.6997 - root_mean_squared_error: 77.1200 - val_loss: 6119.1279 - val_root_mean_squared_error: 78.2249\n",
      "Epoch 54/100\n",
      "\u001b[1m38/38\u001b[0m \u001b[32m━━━━━━━━━━━━━━━━━━━━\u001b[0m\u001b[37m\u001b[0m \u001b[1m0s\u001b[0m 5ms/step - loss: 5660.6206 - root_mean_squared_error: 75.1540 - val_loss: 6057.2754 - val_root_mean_squared_error: 77.8285\n",
      "Epoch 55/100\n",
      "\u001b[1m38/38\u001b[0m \u001b[32m━━━━━━━━━━━━━━━━━━━━\u001b[0m\u001b[37m\u001b[0m \u001b[1m0s\u001b[0m 5ms/step - loss: 7058.1382 - root_mean_squared_error: 83.8079 - val_loss: 5981.6025 - val_root_mean_squared_error: 77.3408\n",
      "Epoch 56/100\n",
      "\u001b[1m38/38\u001b[0m \u001b[32m━━━━━━━━━━━━━━━━━━━━\u001b[0m\u001b[37m\u001b[0m \u001b[1m0s\u001b[0m 6ms/step - loss: 6515.3105 - root_mean_squared_error: 80.6427 - val_loss: 6151.9507 - val_root_mean_squared_error: 78.4344\n",
      "Epoch 57/100\n",
      "\u001b[1m38/38\u001b[0m \u001b[32m━━━━━━━━━━━━━━━━━━━━\u001b[0m\u001b[37m\u001b[0m \u001b[1m0s\u001b[0m 6ms/step - loss: 5525.0161 - root_mean_squared_error: 74.0870 - val_loss: 6159.0825 - val_root_mean_squared_error: 78.4798\n",
      "Epoch 58/100\n",
      "\u001b[1m38/38\u001b[0m \u001b[32m━━━━━━━━━━━━━━━━━━━━\u001b[0m\u001b[37m\u001b[0m \u001b[1m0s\u001b[0m 5ms/step - loss: 5858.3911 - root_mean_squared_error: 76.3295 - val_loss: 6049.6812 - val_root_mean_squared_error: 77.7797\n",
      "Epoch 59/100\n",
      "\u001b[1m38/38\u001b[0m \u001b[32m━━━━━━━━━━━━━━━━━━━━\u001b[0m\u001b[37m\u001b[0m \u001b[1m0s\u001b[0m 5ms/step - loss: 6251.9097 - root_mean_squared_error: 78.8481 - val_loss: 6333.6768 - val_root_mean_squared_error: 79.5844\n",
      "Epoch 60/100\n",
      "\u001b[1m38/38\u001b[0m \u001b[32m━━━━━━━━━━━━━━━━━━━━\u001b[0m\u001b[37m\u001b[0m \u001b[1m0s\u001b[0m 5ms/step - loss: 5510.2266 - root_mean_squared_error: 74.0651 - val_loss: 6001.1167 - val_root_mean_squared_error: 77.4669\n",
      "Epoch 61/100\n",
      "\u001b[1m38/38\u001b[0m \u001b[32m━━━━━━━━━━━━━━━━━━━━\u001b[0m\u001b[37m\u001b[0m \u001b[1m0s\u001b[0m 5ms/step - loss: 5729.1133 - root_mean_squared_error: 75.6268 - val_loss: 6199.1313 - val_root_mean_squared_error: 78.7346\n",
      "Epoch 62/100\n",
      "\u001b[1m38/38\u001b[0m \u001b[32m━━━━━━━━━━━━━━━━━━━━\u001b[0m\u001b[37m\u001b[0m \u001b[1m0s\u001b[0m 5ms/step - loss: 6685.9922 - root_mean_squared_error: 81.6080 - val_loss: 6089.7949 - val_root_mean_squared_error: 78.0371\n",
      "Epoch 63/100\n",
      "\u001b[1m38/38\u001b[0m \u001b[32m━━━━━━━━━━━━━━━━━━━━\u001b[0m\u001b[37m\u001b[0m \u001b[1m0s\u001b[0m 6ms/step - loss: 6018.6431 - root_mean_squared_error: 77.4729 - val_loss: 6058.5542 - val_root_mean_squared_error: 77.8367\n",
      "Epoch 64/100\n",
      "\u001b[1m38/38\u001b[0m \u001b[32m━━━━━━━━━━━━━━━━━━━━\u001b[0m\u001b[37m\u001b[0m \u001b[1m0s\u001b[0m 5ms/step - loss: 5321.9761 - root_mean_squared_error: 72.8109 - val_loss: 6001.5376 - val_root_mean_squared_error: 77.4696\n",
      "Epoch 65/100\n",
      "\u001b[1m38/38\u001b[0m \u001b[32m━━━━━━━━━━━━━━━━━━━━\u001b[0m\u001b[37m\u001b[0m \u001b[1m0s\u001b[0m 5ms/step - loss: 5767.7427 - root_mean_squared_error: 75.8183 - val_loss: 6225.9976 - val_root_mean_squared_error: 78.9050\n",
      "Epoch 66/100\n",
      "\u001b[1m38/38\u001b[0m \u001b[32m━━━━━━━━━━━━━━━━━━━━\u001b[0m\u001b[37m\u001b[0m \u001b[1m0s\u001b[0m 5ms/step - loss: 6442.6567 - root_mean_squared_error: 79.9935 - val_loss: 6081.3296 - val_root_mean_squared_error: 77.9829\n",
      "Epoch 67/100\n",
      "\u001b[1m38/38\u001b[0m \u001b[32m━━━━━━━━━━━━━━━━━━━━\u001b[0m\u001b[37m\u001b[0m \u001b[1m0s\u001b[0m 5ms/step - loss: 5868.1714 - root_mean_squared_error: 76.4101 - val_loss: 6084.0874 - val_root_mean_squared_error: 78.0006\n",
      "Epoch 68/100\n",
      "\u001b[1m38/38\u001b[0m \u001b[32m━━━━━━━━━━━━━━━━━━━━\u001b[0m\u001b[37m\u001b[0m \u001b[1m0s\u001b[0m 5ms/step - loss: 5872.7334 - root_mean_squared_error: 76.2041 - val_loss: 5996.8301 - val_root_mean_squared_error: 77.4392\n",
      "Epoch 69/100\n",
      "\u001b[1m38/38\u001b[0m \u001b[32m━━━━━━━━━━━━━━━━━━━━\u001b[0m\u001b[37m\u001b[0m \u001b[1m0s\u001b[0m 5ms/step - loss: 5470.3335 - root_mean_squared_error: 73.7991 - val_loss: 6018.5601 - val_root_mean_squared_error: 77.5794\n",
      "Epoch 70/100\n",
      "\u001b[1m38/38\u001b[0m \u001b[32m━━━━━━━━━━━━━━━━━━━━\u001b[0m\u001b[37m\u001b[0m \u001b[1m0s\u001b[0m 6ms/step - loss: 5383.8486 - root_mean_squared_error: 73.2164 - val_loss: 6070.1279 - val_root_mean_squared_error: 77.9110\n",
      "Epoch 71/100\n",
      "\u001b[1m38/38\u001b[0m \u001b[32m━━━━━━━━━━━━━━━━━━━━\u001b[0m\u001b[37m\u001b[0m \u001b[1m0s\u001b[0m 6ms/step - loss: 6802.2759 - root_mean_squared_error: 82.3055 - val_loss: 6154.3618 - val_root_mean_squared_error: 78.4497\n",
      "Epoch 72/100\n",
      "\u001b[1m38/38\u001b[0m \u001b[32m━━━━━━━━━━━━━━━━━━━━\u001b[0m\u001b[37m\u001b[0m \u001b[1m0s\u001b[0m 5ms/step - loss: 6161.3315 - root_mean_squared_error: 78.3778 - val_loss: 6223.9683 - val_root_mean_squared_error: 78.8921\n",
      "Epoch 73/100\n",
      "\u001b[1m38/38\u001b[0m \u001b[32m━━━━━━━━━━━━━━━━━━━━\u001b[0m\u001b[37m\u001b[0m \u001b[1m0s\u001b[0m 5ms/step - loss: 7048.0049 - root_mean_squared_error: 83.5417 - val_loss: 6238.2485 - val_root_mean_squared_error: 78.9826\n",
      "Epoch 74/100\n",
      "\u001b[1m38/38\u001b[0m \u001b[32m━━━━━━━━━━━━━━━━━━━━\u001b[0m\u001b[37m\u001b[0m \u001b[1m0s\u001b[0m 6ms/step - loss: 6134.8887 - root_mean_squared_error: 78.2775 - val_loss: 6256.1318 - val_root_mean_squared_error: 79.0957\n",
      "Epoch 75/100\n",
      "\u001b[1m38/38\u001b[0m \u001b[32m━━━━━━━━━━━━━━━━━━━━\u001b[0m\u001b[37m\u001b[0m \u001b[1m0s\u001b[0m 5ms/step - loss: 5417.0552 - root_mean_squared_error: 73.5172 - val_loss: 6062.2236 - val_root_mean_squared_error: 77.8603\n",
      "Epoch 76/100\n",
      "\u001b[1m38/38\u001b[0m \u001b[32m━━━━━━━━━━━━━━━━━━━━\u001b[0m\u001b[37m\u001b[0m \u001b[1m0s\u001b[0m 6ms/step - loss: 5464.0874 - root_mean_squared_error: 73.8432 - val_loss: 6174.8623 - val_root_mean_squared_error: 78.5803\n",
      "Epoch 77/100\n",
      "\u001b[1m38/38\u001b[0m \u001b[32m━━━━━━━━━━━━━━━━━━━━\u001b[0m\u001b[37m\u001b[0m \u001b[1m0s\u001b[0m 5ms/step - loss: 7222.1646 - root_mean_squared_error: 84.6281 - val_loss: 6058.5000 - val_root_mean_squared_error: 77.8364\n",
      "Epoch 78/100\n",
      "\u001b[1m38/38\u001b[0m \u001b[32m━━━━━━━━━━━━━━━━━━━━\u001b[0m\u001b[37m\u001b[0m \u001b[1m0s\u001b[0m 5ms/step - loss: 6041.4004 - root_mean_squared_error: 77.6875 - val_loss: 6139.1069 - val_root_mean_squared_error: 78.3525\n",
      "Epoch 79/100\n",
      "\u001b[1m38/38\u001b[0m \u001b[32m━━━━━━━━━━━━━━━━━━━━\u001b[0m\u001b[37m\u001b[0m \u001b[1m0s\u001b[0m 6ms/step - loss: 6016.3398 - root_mean_squared_error: 77.4934 - val_loss: 6081.5537 - val_root_mean_squared_error: 77.9843\n",
      "Epoch 80/100\n",
      "\u001b[1m38/38\u001b[0m \u001b[32m━━━━━━━━━━━━━━━━━━━━\u001b[0m\u001b[37m\u001b[0m \u001b[1m0s\u001b[0m 6ms/step - loss: 5685.0923 - root_mean_squared_error: 75.1806 - val_loss: 6134.0093 - val_root_mean_squared_error: 78.3199\n",
      "Epoch 81/100\n",
      "\u001b[1m38/38\u001b[0m \u001b[32m━━━━━━━━━━━━━━━━━━━━\u001b[0m\u001b[37m\u001b[0m \u001b[1m0s\u001b[0m 7ms/step - loss: 5406.4570 - root_mean_squared_error: 73.0395 - val_loss: 6168.3555 - val_root_mean_squared_error: 78.5389\n",
      "Epoch 82/100\n",
      "\u001b[1m38/38\u001b[0m \u001b[32m━━━━━━━━━━━━━━━━━━━━\u001b[0m\u001b[37m\u001b[0m \u001b[1m0s\u001b[0m 7ms/step - loss: 5715.2998 - root_mean_squared_error: 75.3430 - val_loss: 6294.0654 - val_root_mean_squared_error: 79.3351\n",
      "Epoch 83/100\n",
      "\u001b[1m38/38\u001b[0m \u001b[32m━━━━━━━━━━━━━━━━━━━━\u001b[0m\u001b[37m\u001b[0m \u001b[1m0s\u001b[0m 6ms/step - loss: 5669.8877 - root_mean_squared_error: 75.0376 - val_loss: 6200.5474 - val_root_mean_squared_error: 78.7436\n",
      "Epoch 84/100\n",
      "\u001b[1m38/38\u001b[0m \u001b[32m━━━━━━━━━━━━━━━━━━━━\u001b[0m\u001b[37m\u001b[0m \u001b[1m0s\u001b[0m 6ms/step - loss: 5497.2783 - root_mean_squared_error: 73.9796 - val_loss: 6339.2793 - val_root_mean_squared_error: 79.6196\n",
      "Epoch 85/100\n",
      "\u001b[1m38/38\u001b[0m \u001b[32m━━━━━━━━━━━━━━━━━━━━\u001b[0m\u001b[37m\u001b[0m \u001b[1m0s\u001b[0m 6ms/step - loss: 6342.8037 - root_mean_squared_error: 79.5556 - val_loss: 6221.7617 - val_root_mean_squared_error: 78.8781\n",
      "Epoch 86/100\n",
      "\u001b[1m38/38\u001b[0m \u001b[32m━━━━━━━━━━━━━━━━━━━━\u001b[0m\u001b[37m\u001b[0m \u001b[1m0s\u001b[0m 6ms/step - loss: 5643.0103 - root_mean_squared_error: 75.0867 - val_loss: 6092.5830 - val_root_mean_squared_error: 78.0550\n",
      "Epoch 87/100\n",
      "\u001b[1m38/38\u001b[0m \u001b[32m━━━━━━━━━━━━━━━━━━━━\u001b[0m\u001b[37m\u001b[0m \u001b[1m0s\u001b[0m 6ms/step - loss: 6178.8818 - root_mean_squared_error: 78.5324 - val_loss: 6155.6123 - val_root_mean_squared_error: 78.4577\n",
      "Epoch 88/100\n",
      "\u001b[1m38/38\u001b[0m \u001b[32m━━━━━━━━━━━━━━━━━━━━\u001b[0m\u001b[37m\u001b[0m \u001b[1m0s\u001b[0m 6ms/step - loss: 5428.9712 - root_mean_squared_error: 73.5343 - val_loss: 6191.8374 - val_root_mean_squared_error: 78.6882\n",
      "Epoch 89/100\n",
      "\u001b[1m38/38\u001b[0m \u001b[32m━━━━━━━━━━━━━━━━━━━━\u001b[0m\u001b[37m\u001b[0m \u001b[1m0s\u001b[0m 6ms/step - loss: 5375.9077 - root_mean_squared_error: 73.2575 - val_loss: 6155.5581 - val_root_mean_squared_error: 78.4574\n",
      "Epoch 90/100\n",
      "\u001b[1m38/38\u001b[0m \u001b[32m━━━━━━━━━━━━━━━━━━━━\u001b[0m\u001b[37m\u001b[0m \u001b[1m0s\u001b[0m 5ms/step - loss: 6382.8057 - root_mean_squared_error: 79.6514 - val_loss: 6232.9771 - val_root_mean_squared_error: 78.9492\n",
      "Epoch 91/100\n",
      "\u001b[1m38/38\u001b[0m \u001b[32m━━━━━━━━━━━━━━━━━━━━\u001b[0m\u001b[37m\u001b[0m \u001b[1m0s\u001b[0m 5ms/step - loss: 5955.9517 - root_mean_squared_error: 76.7774 - val_loss: 6169.3652 - val_root_mean_squared_error: 78.5453\n",
      "Epoch 92/100\n",
      "\u001b[1m38/38\u001b[0m \u001b[32m━━━━━━━━━━━━━━━━━━━━\u001b[0m\u001b[37m\u001b[0m \u001b[1m0s\u001b[0m 5ms/step - loss: 5614.9966 - root_mean_squared_error: 74.7492 - val_loss: 6113.5820 - val_root_mean_squared_error: 78.1894\n",
      "Epoch 93/100\n",
      "\u001b[1m38/38\u001b[0m \u001b[32m━━━━━━━━━━━━━━━━━━━━\u001b[0m\u001b[37m\u001b[0m \u001b[1m0s\u001b[0m 5ms/step - loss: 5015.0020 - root_mean_squared_error: 70.7048 - val_loss: 6217.4155 - val_root_mean_squared_error: 78.8506\n",
      "Epoch 94/100\n",
      "\u001b[1m38/38\u001b[0m \u001b[32m━━━━━━━━━━━━━━━━━━━━\u001b[0m\u001b[37m\u001b[0m \u001b[1m0s\u001b[0m 5ms/step - loss: 6611.2920 - root_mean_squared_error: 80.9577 - val_loss: 6156.1426 - val_root_mean_squared_error: 78.4611\n",
      "Epoch 95/100\n",
      "\u001b[1m38/38\u001b[0m \u001b[32m━━━━━━━━━━━━━━━━━━━━\u001b[0m\u001b[37m\u001b[0m \u001b[1m0s\u001b[0m 5ms/step - loss: 5683.4224 - root_mean_squared_error: 75.3112 - val_loss: 6096.0283 - val_root_mean_squared_error: 78.0771\n",
      "Epoch 96/100\n",
      "\u001b[1m38/38\u001b[0m \u001b[32m━━━━━━━━━━━━━━━━━━━━\u001b[0m\u001b[37m\u001b[0m \u001b[1m0s\u001b[0m 5ms/step - loss: 5307.4609 - root_mean_squared_error: 72.6781 - val_loss: 6202.4355 - val_root_mean_squared_error: 78.7555\n",
      "Epoch 97/100\n",
      "\u001b[1m38/38\u001b[0m \u001b[32m━━━━━━━━━━━━━━━━━━━━\u001b[0m\u001b[37m\u001b[0m \u001b[1m0s\u001b[0m 5ms/step - loss: 5825.5063 - root_mean_squared_error: 76.2321 - val_loss: 6215.8076 - val_root_mean_squared_error: 78.8404\n",
      "Epoch 98/100\n",
      "\u001b[1m38/38\u001b[0m \u001b[32m━━━━━━━━━━━━━━━━━━━━\u001b[0m\u001b[37m\u001b[0m \u001b[1m0s\u001b[0m 5ms/step - loss: 5347.6484 - root_mean_squared_error: 72.9511 - val_loss: 6160.5742 - val_root_mean_squared_error: 78.4893\n",
      "Epoch 99/100\n",
      "\u001b[1m38/38\u001b[0m \u001b[32m━━━━━━━━━━━━━━━━━━━━\u001b[0m\u001b[37m\u001b[0m \u001b[1m0s\u001b[0m 5ms/step - loss: 6077.5264 - root_mean_squared_error: 77.8159 - val_loss: 6215.5142 - val_root_mean_squared_error: 78.8385\n",
      "Epoch 100/100\n",
      "\u001b[1m38/38\u001b[0m \u001b[32m━━━━━━━━━━━━━━━━━━━━\u001b[0m\u001b[37m\u001b[0m \u001b[1m0s\u001b[0m 5ms/step - loss: 5127.8892 - root_mean_squared_error: 71.4184 - val_loss: 6134.0000 - val_root_mean_squared_error: 78.3199\n"
     ]
    },
    {
     "data": {
      "text/plain": [
       "<keras.src.callbacks.history.History at 0x7f3cae46f7f0>"
      ]
     },
     "execution_count": 25,
     "metadata": {},
     "output_type": "execute_result"
    }
   ],
   "source": [
    "model3.fit(X_train1, y_train1, validation_data=(X_val1, y_val1), epochs=100, callbacks=[cp3])"
   ]
  },
  {
   "cell_type": "markdown",
   "id": "c8853113",
   "metadata": {
    "papermill": {
     "duration": 0.093066,
     "end_time": "2024-12-30T03:02:44.357415",
     "exception": false,
     "start_time": "2024-12-30T03:02:44.264349",
     "status": "completed"
    },
    "tags": []
   },
   "source": [
    "**RNN**"
   ]
  },
  {
   "cell_type": "code",
   "execution_count": 26,
   "id": "8c7c4caa",
   "metadata": {
    "execution": {
     "iopub.execute_input": "2024-12-30T03:02:44.545222Z",
     "iopub.status.busy": "2024-12-30T03:02:44.544787Z",
     "iopub.status.idle": "2024-12-30T03:02:44.598266Z",
     "shell.execute_reply": "2024-12-30T03:02:44.597096Z"
    },
    "papermill": {
     "duration": 0.149612,
     "end_time": "2024-12-30T03:02:44.599840",
     "exception": false,
     "start_time": "2024-12-30T03:02:44.450228",
     "status": "completed"
    },
    "tags": []
   },
   "outputs": [
    {
     "data": {
      "text/html": [
       "<pre style=\"white-space:pre;overflow-x:auto;line-height:normal;font-family:Menlo,'DejaVu Sans Mono',consolas,'Courier New',monospace\"><span style=\"font-weight: bold\">Model: \"sequential_3\"</span>\n",
       "</pre>\n"
      ],
      "text/plain": [
       "\u001b[1mModel: \"sequential_3\"\u001b[0m\n"
      ]
     },
     "metadata": {},
     "output_type": "display_data"
    },
    {
     "data": {
      "text/html": [
       "<pre style=\"white-space:pre;overflow-x:auto;line-height:normal;font-family:Menlo,'DejaVu Sans Mono',consolas,'Courier New',monospace\">┏━━━━━━━━━━━━━━━━━━━━━━━━━━━━━━━━━━━━━━┳━━━━━━━━━━━━━━━━━━━━━━━━━━━━━┳━━━━━━━━━━━━━━━━━┓\n",
       "┃<span style=\"font-weight: bold\"> Layer (type)                         </span>┃<span style=\"font-weight: bold\"> Output Shape                </span>┃<span style=\"font-weight: bold\">         Param # </span>┃\n",
       "┡━━━━━━━━━━━━━━━━━━━━━━━━━━━━━━━━━━━━━━╇━━━━━━━━━━━━━━━━━━━━━━━━━━━━━╇━━━━━━━━━━━━━━━━━┩\n",
       "│ simple_rnn (<span style=\"color: #0087ff; text-decoration-color: #0087ff\">SimpleRNN</span>)               │ (<span style=\"color: #00d7ff; text-decoration-color: #00d7ff\">None</span>, <span style=\"color: #00af00; text-decoration-color: #00af00\">32</span>)                  │           <span style=\"color: #00af00; text-decoration-color: #00af00\">1,088</span> │\n",
       "├──────────────────────────────────────┼─────────────────────────────┼─────────────────┤\n",
       "│ dense_6 (<span style=\"color: #0087ff; text-decoration-color: #0087ff\">Dense</span>)                      │ (<span style=\"color: #00d7ff; text-decoration-color: #00d7ff\">None</span>, <span style=\"color: #00af00; text-decoration-color: #00af00\">8</span>)                   │             <span style=\"color: #00af00; text-decoration-color: #00af00\">264</span> │\n",
       "├──────────────────────────────────────┼─────────────────────────────┼─────────────────┤\n",
       "│ dense_7 (<span style=\"color: #0087ff; text-decoration-color: #0087ff\">Dense</span>)                      │ (<span style=\"color: #00d7ff; text-decoration-color: #00d7ff\">None</span>, <span style=\"color: #00af00; text-decoration-color: #00af00\">1</span>)                   │               <span style=\"color: #00af00; text-decoration-color: #00af00\">9</span> │\n",
       "└──────────────────────────────────────┴─────────────────────────────┴─────────────────┘\n",
       "</pre>\n"
      ],
      "text/plain": [
       "┏━━━━━━━━━━━━━━━━━━━━━━━━━━━━━━━━━━━━━━┳━━━━━━━━━━━━━━━━━━━━━━━━━━━━━┳━━━━━━━━━━━━━━━━━┓\n",
       "┃\u001b[1m \u001b[0m\u001b[1mLayer (type)                        \u001b[0m\u001b[1m \u001b[0m┃\u001b[1m \u001b[0m\u001b[1mOutput Shape               \u001b[0m\u001b[1m \u001b[0m┃\u001b[1m \u001b[0m\u001b[1m        Param #\u001b[0m\u001b[1m \u001b[0m┃\n",
       "┡━━━━━━━━━━━━━━━━━━━━━━━━━━━━━━━━━━━━━━╇━━━━━━━━━━━━━━━━━━━━━━━━━━━━━╇━━━━━━━━━━━━━━━━━┩\n",
       "│ simple_rnn (\u001b[38;5;33mSimpleRNN\u001b[0m)               │ (\u001b[38;5;45mNone\u001b[0m, \u001b[38;5;34m32\u001b[0m)                  │           \u001b[38;5;34m1,088\u001b[0m │\n",
       "├──────────────────────────────────────┼─────────────────────────────┼─────────────────┤\n",
       "│ dense_6 (\u001b[38;5;33mDense\u001b[0m)                      │ (\u001b[38;5;45mNone\u001b[0m, \u001b[38;5;34m8\u001b[0m)                   │             \u001b[38;5;34m264\u001b[0m │\n",
       "├──────────────────────────────────────┼─────────────────────────────┼─────────────────┤\n",
       "│ dense_7 (\u001b[38;5;33mDense\u001b[0m)                      │ (\u001b[38;5;45mNone\u001b[0m, \u001b[38;5;34m1\u001b[0m)                   │               \u001b[38;5;34m9\u001b[0m │\n",
       "└──────────────────────────────────────┴─────────────────────────────┴─────────────────┘\n"
      ]
     },
     "metadata": {},
     "output_type": "display_data"
    },
    {
     "data": {
      "text/html": [
       "<pre style=\"white-space:pre;overflow-x:auto;line-height:normal;font-family:Menlo,'DejaVu Sans Mono',consolas,'Courier New',monospace\"><span style=\"font-weight: bold\"> Total params: </span><span style=\"color: #00af00; text-decoration-color: #00af00\">1,361</span> (5.32 KB)\n",
       "</pre>\n"
      ],
      "text/plain": [
       "\u001b[1m Total params: \u001b[0m\u001b[38;5;34m1,361\u001b[0m (5.32 KB)\n"
      ]
     },
     "metadata": {},
     "output_type": "display_data"
    },
    {
     "data": {
      "text/html": [
       "<pre style=\"white-space:pre;overflow-x:auto;line-height:normal;font-family:Menlo,'DejaVu Sans Mono',consolas,'Courier New',monospace\"><span style=\"font-weight: bold\"> Trainable params: </span><span style=\"color: #00af00; text-decoration-color: #00af00\">1,361</span> (5.32 KB)\n",
       "</pre>\n"
      ],
      "text/plain": [
       "\u001b[1m Trainable params: \u001b[0m\u001b[38;5;34m1,361\u001b[0m (5.32 KB)\n"
      ]
     },
     "metadata": {},
     "output_type": "display_data"
    },
    {
     "data": {
      "text/html": [
       "<pre style=\"white-space:pre;overflow-x:auto;line-height:normal;font-family:Menlo,'DejaVu Sans Mono',consolas,'Courier New',monospace\"><span style=\"font-weight: bold\"> Non-trainable params: </span><span style=\"color: #00af00; text-decoration-color: #00af00\">0</span> (0.00 B)\n",
       "</pre>\n"
      ],
      "text/plain": [
       "\u001b[1m Non-trainable params: \u001b[0m\u001b[38;5;34m0\u001b[0m (0.00 B)\n"
      ]
     },
     "metadata": {},
     "output_type": "display_data"
    }
   ],
   "source": [
    "model4 = Sequential()\n",
    "model4.add(InputLayer((6, 1)))\n",
    "model4.add(SimpleRNN(32))\n",
    "model4.add(Dense(8, 'relu'))\n",
    "model4.add(Dense(1, 'linear'))\n",
    "model4.summary()"
   ]
  },
  {
   "cell_type": "code",
   "execution_count": 27,
   "id": "6d51d16f",
   "metadata": {
    "execution": {
     "iopub.execute_input": "2024-12-30T03:02:44.786565Z",
     "iopub.status.busy": "2024-12-30T03:02:44.786206Z",
     "iopub.status.idle": "2024-12-30T03:02:44.796526Z",
     "shell.execute_reply": "2024-12-30T03:02:44.795418Z"
    },
    "papermill": {
     "duration": 0.106282,
     "end_time": "2024-12-30T03:02:44.798196",
     "exception": false,
     "start_time": "2024-12-30T03:02:44.691914",
     "status": "completed"
    },
    "tags": []
   },
   "outputs": [],
   "source": [
    "cp4 = ModelCheckpoint('/kaggle/working/model4.keras', save_best_only=True)\n",
    "model4.compile(loss=MeanSquaredError(), optimizer=Adam(learning_rate=0.01), metrics=[RootMeanSquaredError()])"
   ]
  },
  {
   "cell_type": "code",
   "execution_count": 28,
   "id": "5bb02f93",
   "metadata": {
    "execution": {
     "iopub.execute_input": "2024-12-30T03:02:44.984560Z",
     "iopub.status.busy": "2024-12-30T03:02:44.984206Z",
     "iopub.status.idle": "2024-12-30T03:03:04.180657Z",
     "shell.execute_reply": "2024-12-30T03:03:04.179711Z"
    },
    "papermill": {
     "duration": 19.291068,
     "end_time": "2024-12-30T03:03:04.182309",
     "exception": false,
     "start_time": "2024-12-30T03:02:44.891241",
     "status": "completed"
    },
    "tags": []
   },
   "outputs": [
    {
     "name": "stdout",
     "output_type": "stream",
     "text": [
      "Epoch 1/100\n",
      "\u001b[1m38/38\u001b[0m \u001b[32m━━━━━━━━━━━━━━━━━━━━\u001b[0m\u001b[37m\u001b[0m \u001b[1m2s\u001b[0m 10ms/step - loss: 157084.3594 - root_mean_squared_error: 396.3185 - val_loss: 150685.3438 - val_root_mean_squared_error: 388.1821\n",
      "Epoch 2/100\n",
      "\u001b[1m38/38\u001b[0m \u001b[32m━━━━━━━━━━━━━━━━━━━━\u001b[0m\u001b[37m\u001b[0m \u001b[1m0s\u001b[0m 4ms/step - loss: 137423.2500 - root_mean_squared_error: 370.6016 - val_loss: 131934.7031 - val_root_mean_squared_error: 363.2282\n",
      "Epoch 3/100\n",
      "\u001b[1m38/38\u001b[0m \u001b[32m━━━━━━━━━━━━━━━━━━━━\u001b[0m\u001b[37m\u001b[0m \u001b[1m0s\u001b[0m 4ms/step - loss: 118270.4844 - root_mean_squared_error: 343.7217 - val_loss: 95036.4297 - val_root_mean_squared_error: 308.2798\n",
      "Epoch 4/100\n",
      "\u001b[1m38/38\u001b[0m \u001b[32m━━━━━━━━━━━━━━━━━━━━\u001b[0m\u001b[37m\u001b[0m \u001b[1m0s\u001b[0m 4ms/step - loss: 79665.1172 - root_mean_squared_error: 282.0897 - val_loss: 60147.1289 - val_root_mean_squared_error: 245.2491\n",
      "Epoch 5/100\n",
      "\u001b[1m38/38\u001b[0m \u001b[32m━━━━━━━━━━━━━━━━━━━━\u001b[0m\u001b[37m\u001b[0m \u001b[1m0s\u001b[0m 4ms/step - loss: 51532.1406 - root_mean_squared_error: 226.8961 - val_loss: 35795.1016 - val_root_mean_squared_error: 189.1959\n",
      "Epoch 6/100\n",
      "\u001b[1m38/38\u001b[0m \u001b[32m━━━━━━━━━━━━━━━━━━━━\u001b[0m\u001b[37m\u001b[0m \u001b[1m0s\u001b[0m 4ms/step - loss: 35059.2734 - root_mean_squared_error: 187.1573 - val_loss: 23954.7266 - val_root_mean_squared_error: 154.7731\n",
      "Epoch 7/100\n",
      "\u001b[1m38/38\u001b[0m \u001b[32m━━━━━━━━━━━━━━━━━━━━\u001b[0m\u001b[37m\u001b[0m \u001b[1m0s\u001b[0m 4ms/step - loss: 26672.0898 - root_mean_squared_error: 163.3108 - val_loss: 19937.7578 - val_root_mean_squared_error: 141.2011\n",
      "Epoch 8/100\n",
      "\u001b[1m38/38\u001b[0m \u001b[32m━━━━━━━━━━━━━━━━━━━━\u001b[0m\u001b[37m\u001b[0m \u001b[1m0s\u001b[0m 4ms/step - loss: 25190.5195 - root_mean_squared_error: 158.7069 - val_loss: 18717.0703 - val_root_mean_squared_error: 136.8103\n",
      "Epoch 9/100\n",
      "\u001b[1m38/38\u001b[0m \u001b[32m━━━━━━━━━━━━━━━━━━━━\u001b[0m\u001b[37m\u001b[0m \u001b[1m0s\u001b[0m 4ms/step - loss: 24996.2617 - root_mean_squared_error: 158.0981 - val_loss: 18459.5332 - val_root_mean_squared_error: 135.8659\n",
      "Epoch 10/100\n",
      "\u001b[1m38/38\u001b[0m \u001b[32m━━━━━━━━━━━━━━━━━━━━\u001b[0m\u001b[37m\u001b[0m \u001b[1m0s\u001b[0m 4ms/step - loss: 24497.5586 - root_mean_squared_error: 156.4709 - val_loss: 16641.6523 - val_root_mean_squared_error: 129.0025\n",
      "Epoch 11/100\n",
      "\u001b[1m38/38\u001b[0m \u001b[32m━━━━━━━━━━━━━━━━━━━━\u001b[0m\u001b[37m\u001b[0m \u001b[1m0s\u001b[0m 4ms/step - loss: 22975.0117 - root_mean_squared_error: 151.5415 - val_loss: 15021.3340 - val_root_mean_squared_error: 122.5616\n",
      "Epoch 12/100\n",
      "\u001b[1m38/38\u001b[0m \u001b[32m━━━━━━━━━━━━━━━━━━━━\u001b[0m\u001b[37m\u001b[0m \u001b[1m0s\u001b[0m 4ms/step - loss: 17988.3145 - root_mean_squared_error: 133.9937 - val_loss: 10985.6338 - val_root_mean_squared_error: 104.8124\n",
      "Epoch 13/100\n",
      "\u001b[1m38/38\u001b[0m \u001b[32m━━━━━━━━━━━━━━━━━━━━\u001b[0m\u001b[37m\u001b[0m \u001b[1m0s\u001b[0m 4ms/step - loss: 11884.3379 - root_mean_squared_error: 108.9274 - val_loss: 8421.5615 - val_root_mean_squared_error: 91.7691\n",
      "Epoch 14/100\n",
      "\u001b[1m38/38\u001b[0m \u001b[32m━━━━━━━━━━━━━━━━━━━━\u001b[0m\u001b[37m\u001b[0m \u001b[1m0s\u001b[0m 5ms/step - loss: 9337.6924 - root_mean_squared_error: 96.5808 - val_loss: 7155.9438 - val_root_mean_squared_error: 84.5928\n",
      "Epoch 15/100\n",
      "\u001b[1m38/38\u001b[0m \u001b[32m━━━━━━━━━━━━━━━━━━━━\u001b[0m\u001b[37m\u001b[0m \u001b[1m0s\u001b[0m 5ms/step - loss: 7069.7563 - root_mean_squared_error: 83.7634 - val_loss: 7229.5933 - val_root_mean_squared_error: 85.0270\n",
      "Epoch 16/100\n",
      "\u001b[1m38/38\u001b[0m \u001b[32m━━━━━━━━━━━━━━━━━━━━\u001b[0m\u001b[37m\u001b[0m \u001b[1m0s\u001b[0m 4ms/step - loss: 6802.3105 - root_mean_squared_error: 82.3194 - val_loss: 6186.1362 - val_root_mean_squared_error: 78.6520\n",
      "Epoch 17/100\n",
      "\u001b[1m38/38\u001b[0m \u001b[32m━━━━━━━━━━━━━━━━━━━━\u001b[0m\u001b[37m\u001b[0m \u001b[1m0s\u001b[0m 4ms/step - loss: 7490.9863 - root_mean_squared_error: 86.3735 - val_loss: 6889.9248 - val_root_mean_squared_error: 83.0056\n",
      "Epoch 18/100\n",
      "\u001b[1m38/38\u001b[0m \u001b[32m━━━━━━━━━━━━━━━━━━━━\u001b[0m\u001b[37m\u001b[0m \u001b[1m0s\u001b[0m 4ms/step - loss: 7814.5488 - root_mean_squared_error: 88.1323 - val_loss: 6158.2183 - val_root_mean_squared_error: 78.4743\n",
      "Epoch 19/100\n",
      "\u001b[1m38/38\u001b[0m \u001b[32m━━━━━━━━━━━━━━━━━━━━\u001b[0m\u001b[37m\u001b[0m \u001b[1m0s\u001b[0m 4ms/step - loss: 5648.0913 - root_mean_squared_error: 75.0041 - val_loss: 6265.0674 - val_root_mean_squared_error: 79.1522\n",
      "Epoch 20/100\n",
      "\u001b[1m38/38\u001b[0m \u001b[32m━━━━━━━━━━━━━━━━━━━━\u001b[0m\u001b[37m\u001b[0m \u001b[1m0s\u001b[0m 4ms/step - loss: 6066.7891 - root_mean_squared_error: 77.8379 - val_loss: 6435.5981 - val_root_mean_squared_error: 80.2222\n",
      "Epoch 21/100\n",
      "\u001b[1m38/38\u001b[0m \u001b[32m━━━━━━━━━━━━━━━━━━━━\u001b[0m\u001b[37m\u001b[0m \u001b[1m0s\u001b[0m 4ms/step - loss: 6524.2407 - root_mean_squared_error: 80.6976 - val_loss: 6411.6079 - val_root_mean_squared_error: 80.0725\n",
      "Epoch 22/100\n",
      "\u001b[1m38/38\u001b[0m \u001b[32m━━━━━━━━━━━━━━━━━━━━\u001b[0m\u001b[37m\u001b[0m \u001b[1m0s\u001b[0m 4ms/step - loss: 6476.0161 - root_mean_squared_error: 80.2563 - val_loss: 6111.9863 - val_root_mean_squared_error: 78.1792\n",
      "Epoch 23/100\n",
      "\u001b[1m38/38\u001b[0m \u001b[32m━━━━━━━━━━━━━━━━━━━━\u001b[0m\u001b[37m\u001b[0m \u001b[1m0s\u001b[0m 4ms/step - loss: 6668.1118 - root_mean_squared_error: 81.2055 - val_loss: 6411.7368 - val_root_mean_squared_error: 80.0733\n",
      "Epoch 24/100\n",
      "\u001b[1m38/38\u001b[0m \u001b[32m━━━━━━━━━━━━━━━━━━━━\u001b[0m\u001b[37m\u001b[0m \u001b[1m0s\u001b[0m 4ms/step - loss: 6745.8975 - root_mean_squared_error: 82.0088 - val_loss: 6002.1763 - val_root_mean_squared_error: 77.4737\n",
      "Epoch 25/100\n",
      "\u001b[1m38/38\u001b[0m \u001b[32m━━━━━━━━━━━━━━━━━━━━\u001b[0m\u001b[37m\u001b[0m \u001b[1m0s\u001b[0m 4ms/step - loss: 6010.2368 - root_mean_squared_error: 77.4478 - val_loss: 6047.5508 - val_root_mean_squared_error: 77.7660\n",
      "Epoch 26/100\n",
      "\u001b[1m38/38\u001b[0m \u001b[32m━━━━━━━━━━━━━━━━━━━━\u001b[0m\u001b[37m\u001b[0m \u001b[1m0s\u001b[0m 4ms/step - loss: 6265.0830 - root_mean_squared_error: 79.0613 - val_loss: 6117.8062 - val_root_mean_squared_error: 78.2164\n",
      "Epoch 27/100\n",
      "\u001b[1m38/38\u001b[0m \u001b[32m━━━━━━━━━━━━━━━━━━━━\u001b[0m\u001b[37m\u001b[0m \u001b[1m0s\u001b[0m 4ms/step - loss: 5671.2051 - root_mean_squared_error: 75.0023 - val_loss: 6260.0806 - val_root_mean_squared_error: 79.1207\n",
      "Epoch 28/100\n",
      "\u001b[1m38/38\u001b[0m \u001b[32m━━━━━━━━━━━━━━━━━━━━\u001b[0m\u001b[37m\u001b[0m \u001b[1m0s\u001b[0m 4ms/step - loss: 6264.5488 - root_mean_squared_error: 78.8236 - val_loss: 6137.5718 - val_root_mean_squared_error: 78.3427\n",
      "Epoch 29/100\n",
      "\u001b[1m38/38\u001b[0m \u001b[32m━━━━━━━━━━━━━━━━━━━━\u001b[0m\u001b[37m\u001b[0m \u001b[1m0s\u001b[0m 4ms/step - loss: 6248.9019 - root_mean_squared_error: 78.9460 - val_loss: 6134.3735 - val_root_mean_squared_error: 78.3222\n",
      "Epoch 30/100\n",
      "\u001b[1m38/38\u001b[0m \u001b[32m━━━━━━━━━━━━━━━━━━━━\u001b[0m\u001b[37m\u001b[0m \u001b[1m0s\u001b[0m 4ms/step - loss: 6032.7227 - root_mean_squared_error: 77.3959 - val_loss: 6093.0732 - val_root_mean_squared_error: 78.0581\n",
      "Epoch 31/100\n",
      "\u001b[1m38/38\u001b[0m \u001b[32m━━━━━━━━━━━━━━━━━━━━\u001b[0m\u001b[37m\u001b[0m \u001b[1m0s\u001b[0m 4ms/step - loss: 6132.9541 - root_mean_squared_error: 78.1650 - val_loss: 6138.2075 - val_root_mean_squared_error: 78.3467\n",
      "Epoch 32/100\n",
      "\u001b[1m38/38\u001b[0m \u001b[32m━━━━━━━━━━━━━━━━━━━━\u001b[0m\u001b[37m\u001b[0m \u001b[1m0s\u001b[0m 4ms/step - loss: 5804.8403 - root_mean_squared_error: 76.0994 - val_loss: 5973.7358 - val_root_mean_squared_error: 77.2899\n",
      "Epoch 33/100\n",
      "\u001b[1m38/38\u001b[0m \u001b[32m━━━━━━━━━━━━━━━━━━━━\u001b[0m\u001b[37m\u001b[0m \u001b[1m0s\u001b[0m 4ms/step - loss: 5878.7544 - root_mean_squared_error: 76.5501 - val_loss: 6299.6748 - val_root_mean_squared_error: 79.3705\n",
      "Epoch 34/100\n",
      "\u001b[1m38/38\u001b[0m \u001b[32m━━━━━━━━━━━━━━━━━━━━\u001b[0m\u001b[37m\u001b[0m \u001b[1m0s\u001b[0m 4ms/step - loss: 6867.4844 - root_mean_squared_error: 82.7445 - val_loss: 6293.9907 - val_root_mean_squared_error: 79.3347\n",
      "Epoch 35/100\n",
      "\u001b[1m38/38\u001b[0m \u001b[32m━━━━━━━━━━━━━━━━━━━━\u001b[0m\u001b[37m\u001b[0m \u001b[1m0s\u001b[0m 4ms/step - loss: 5805.6147 - root_mean_squared_error: 75.9516 - val_loss: 6368.6274 - val_root_mean_squared_error: 79.8037\n",
      "Epoch 36/100\n",
      "\u001b[1m38/38\u001b[0m \u001b[32m━━━━━━━━━━━━━━━━━━━━\u001b[0m\u001b[37m\u001b[0m \u001b[1m0s\u001b[0m 4ms/step - loss: 6180.2388 - root_mean_squared_error: 78.0273 - val_loss: 6029.2261 - val_root_mean_squared_error: 77.6481\n",
      "Epoch 37/100\n",
      "\u001b[1m38/38\u001b[0m \u001b[32m━━━━━━━━━━━━━━━━━━━━\u001b[0m\u001b[37m\u001b[0m \u001b[1m0s\u001b[0m 4ms/step - loss: 6693.6646 - root_mean_squared_error: 81.6441 - val_loss: 6297.0269 - val_root_mean_squared_error: 79.3538\n",
      "Epoch 38/100\n",
      "\u001b[1m38/38\u001b[0m \u001b[32m━━━━━━━━━━━━━━━━━━━━\u001b[0m\u001b[37m\u001b[0m \u001b[1m0s\u001b[0m 4ms/step - loss: 6100.1865 - root_mean_squared_error: 77.9518 - val_loss: 6161.8184 - val_root_mean_squared_error: 78.4973\n",
      "Epoch 39/100\n",
      "\u001b[1m38/38\u001b[0m \u001b[32m━━━━━━━━━━━━━━━━━━━━\u001b[0m\u001b[37m\u001b[0m \u001b[1m0s\u001b[0m 4ms/step - loss: 5872.7305 - root_mean_squared_error: 76.4755 - val_loss: 6192.0015 - val_root_mean_squared_error: 78.6893\n",
      "Epoch 40/100\n",
      "\u001b[1m38/38\u001b[0m \u001b[32m━━━━━━━━━━━━━━━━━━━━\u001b[0m\u001b[37m\u001b[0m \u001b[1m0s\u001b[0m 4ms/step - loss: 6185.0830 - root_mean_squared_error: 78.5300 - val_loss: 6070.4131 - val_root_mean_squared_error: 77.9129\n",
      "Epoch 41/100\n",
      "\u001b[1m38/38\u001b[0m \u001b[32m━━━━━━━━━━━━━━━━━━━━\u001b[0m\u001b[37m\u001b[0m \u001b[1m0s\u001b[0m 4ms/step - loss: 6793.0601 - root_mean_squared_error: 82.2673 - val_loss: 6150.1230 - val_root_mean_squared_error: 78.4227\n",
      "Epoch 42/100\n",
      "\u001b[1m38/38\u001b[0m \u001b[32m━━━━━━━━━━━━━━━━━━━━\u001b[0m\u001b[37m\u001b[0m \u001b[1m0s\u001b[0m 4ms/step - loss: 5635.1631 - root_mean_squared_error: 74.9392 - val_loss: 6332.1719 - val_root_mean_squared_error: 79.5749\n",
      "Epoch 43/100\n",
      "\u001b[1m38/38\u001b[0m \u001b[32m━━━━━━━━━━━━━━━━━━━━\u001b[0m\u001b[37m\u001b[0m \u001b[1m0s\u001b[0m 4ms/step - loss: 6100.6304 - root_mean_squared_error: 77.8753 - val_loss: 5933.1182 - val_root_mean_squared_error: 77.0267\n",
      "Epoch 44/100\n",
      "\u001b[1m38/38\u001b[0m \u001b[32m━━━━━━━━━━━━━━━━━━━━\u001b[0m\u001b[37m\u001b[0m \u001b[1m0s\u001b[0m 4ms/step - loss: 6477.8687 - root_mean_squared_error: 80.0070 - val_loss: 6290.6514 - val_root_mean_squared_error: 79.3136\n",
      "Epoch 45/100\n",
      "\u001b[1m38/38\u001b[0m \u001b[32m━━━━━━━━━━━━━━━━━━━━\u001b[0m\u001b[37m\u001b[0m \u001b[1m0s\u001b[0m 4ms/step - loss: 6396.6323 - root_mean_squared_error: 79.7657 - val_loss: 6308.3477 - val_root_mean_squared_error: 79.4251\n",
      "Epoch 46/100\n",
      "\u001b[1m38/38\u001b[0m \u001b[32m━━━━━━━━━━━━━━━━━━━━\u001b[0m\u001b[37m\u001b[0m \u001b[1m0s\u001b[0m 4ms/step - loss: 5804.0420 - root_mean_squared_error: 76.1361 - val_loss: 6062.8320 - val_root_mean_squared_error: 77.8642\n",
      "Epoch 47/100\n",
      "\u001b[1m38/38\u001b[0m \u001b[32m━━━━━━━━━━━━━━━━━━━━\u001b[0m\u001b[37m\u001b[0m \u001b[1m0s\u001b[0m 4ms/step - loss: 7206.9438 - root_mean_squared_error: 84.6090 - val_loss: 6227.7217 - val_root_mean_squared_error: 78.9159\n",
      "Epoch 48/100\n",
      "\u001b[1m38/38\u001b[0m \u001b[32m━━━━━━━━━━━━━━━━━━━━\u001b[0m\u001b[37m\u001b[0m \u001b[1m0s\u001b[0m 4ms/step - loss: 5950.2339 - root_mean_squared_error: 76.9865 - val_loss: 6352.0220 - val_root_mean_squared_error: 79.6996\n",
      "Epoch 49/100\n",
      "\u001b[1m38/38\u001b[0m \u001b[32m━━━━━━━━━━━━━━━━━━━━\u001b[0m\u001b[37m\u001b[0m \u001b[1m0s\u001b[0m 4ms/step - loss: 5732.4067 - root_mean_squared_error: 75.5097 - val_loss: 6279.3237 - val_root_mean_squared_error: 79.2422\n",
      "Epoch 50/100\n",
      "\u001b[1m38/38\u001b[0m \u001b[32m━━━━━━━━━━━━━━━━━━━━\u001b[0m\u001b[37m\u001b[0m \u001b[1m0s\u001b[0m 4ms/step - loss: 6645.6553 - root_mean_squared_error: 81.3046 - val_loss: 6341.3564 - val_root_mean_squared_error: 79.6326\n",
      "Epoch 51/100\n",
      "\u001b[1m38/38\u001b[0m \u001b[32m━━━━━━━━━━━━━━━━━━━━\u001b[0m\u001b[37m\u001b[0m \u001b[1m0s\u001b[0m 4ms/step - loss: 5314.2656 - root_mean_squared_error: 72.7781 - val_loss: 6282.6895 - val_root_mean_squared_error: 79.2634\n",
      "Epoch 52/100\n",
      "\u001b[1m38/38\u001b[0m \u001b[32m━━━━━━━━━━━━━━━━━━━━\u001b[0m\u001b[37m\u001b[0m \u001b[1m0s\u001b[0m 4ms/step - loss: 4530.3921 - root_mean_squared_error: 66.8092 - val_loss: 6091.3462 - val_root_mean_squared_error: 78.0471\n",
      "Epoch 53/100\n",
      "\u001b[1m38/38\u001b[0m \u001b[32m━━━━━━━━━━━━━━━━━━━━\u001b[0m\u001b[37m\u001b[0m \u001b[1m0s\u001b[0m 4ms/step - loss: 6877.3672 - root_mean_squared_error: 82.7930 - val_loss: 6351.1421 - val_root_mean_squared_error: 79.6941\n",
      "Epoch 54/100\n",
      "\u001b[1m38/38\u001b[0m \u001b[32m━━━━━━━━━━━━━━━━━━━━\u001b[0m\u001b[37m\u001b[0m \u001b[1m0s\u001b[0m 4ms/step - loss: 5619.0796 - root_mean_squared_error: 74.5442 - val_loss: 6227.5874 - val_root_mean_squared_error: 78.9151\n",
      "Epoch 55/100\n",
      "\u001b[1m38/38\u001b[0m \u001b[32m━━━━━━━━━━━━━━━━━━━━\u001b[0m\u001b[37m\u001b[0m \u001b[1m0s\u001b[0m 4ms/step - loss: 6051.6465 - root_mean_squared_error: 77.6521 - val_loss: 6112.0376 - val_root_mean_squared_error: 78.1795\n",
      "Epoch 56/100\n",
      "\u001b[1m38/38\u001b[0m \u001b[32m━━━━━━━━━━━━━━━━━━━━\u001b[0m\u001b[37m\u001b[0m \u001b[1m0s\u001b[0m 4ms/step - loss: 6787.5938 - root_mean_squared_error: 82.1046 - val_loss: 6256.9761 - val_root_mean_squared_error: 79.1011\n",
      "Epoch 57/100\n",
      "\u001b[1m38/38\u001b[0m \u001b[32m━━━━━━━━━━━━━━━━━━━━\u001b[0m\u001b[37m\u001b[0m \u001b[1m0s\u001b[0m 4ms/step - loss: 5878.8892 - root_mean_squared_error: 76.5826 - val_loss: 6153.4180 - val_root_mean_squared_error: 78.4437\n",
      "Epoch 58/100\n",
      "\u001b[1m38/38\u001b[0m \u001b[32m━━━━━━━━━━━━━━━━━━━━\u001b[0m\u001b[37m\u001b[0m \u001b[1m0s\u001b[0m 4ms/step - loss: 4783.7974 - root_mean_squared_error: 68.2983 - val_loss: 5961.3286 - val_root_mean_squared_error: 77.2096\n",
      "Epoch 59/100\n",
      "\u001b[1m38/38\u001b[0m \u001b[32m━━━━━━━━━━━━━━━━━━━━\u001b[0m\u001b[37m\u001b[0m \u001b[1m0s\u001b[0m 4ms/step - loss: 5889.0825 - root_mean_squared_error: 76.6033 - val_loss: 6239.9233 - val_root_mean_squared_error: 78.9932\n",
      "Epoch 60/100\n",
      "\u001b[1m38/38\u001b[0m \u001b[32m━━━━━━━━━━━━━━━━━━━━\u001b[0m\u001b[37m\u001b[0m \u001b[1m0s\u001b[0m 4ms/step - loss: 5255.4429 - root_mean_squared_error: 72.3662 - val_loss: 6218.7861 - val_root_mean_squared_error: 78.8593\n",
      "Epoch 61/100\n",
      "\u001b[1m38/38\u001b[0m \u001b[32m━━━━━━━━━━━━━━━━━━━━\u001b[0m\u001b[37m\u001b[0m \u001b[1m0s\u001b[0m 4ms/step - loss: 5457.6226 - root_mean_squared_error: 73.6706 - val_loss: 6105.7524 - val_root_mean_squared_error: 78.1393\n",
      "Epoch 62/100\n",
      "\u001b[1m38/38\u001b[0m \u001b[32m━━━━━━━━━━━━━━━━━━━━\u001b[0m\u001b[37m\u001b[0m \u001b[1m0s\u001b[0m 4ms/step - loss: 5393.8169 - root_mean_squared_error: 72.9814 - val_loss: 6092.8281 - val_root_mean_squared_error: 78.0566\n",
      "Epoch 63/100\n",
      "\u001b[1m38/38\u001b[0m \u001b[32m━━━━━━━━━━━━━━━━━━━━\u001b[0m\u001b[37m\u001b[0m \u001b[1m0s\u001b[0m 4ms/step - loss: 5556.3135 - root_mean_squared_error: 74.1028 - val_loss: 6191.6333 - val_root_mean_squared_error: 78.6869\n",
      "Epoch 64/100\n",
      "\u001b[1m38/38\u001b[0m \u001b[32m━━━━━━━━━━━━━━━━━━━━\u001b[0m\u001b[37m\u001b[0m \u001b[1m0s\u001b[0m 4ms/step - loss: 5422.3379 - root_mean_squared_error: 73.4785 - val_loss: 6079.3096 - val_root_mean_squared_error: 77.9699\n",
      "Epoch 65/100\n",
      "\u001b[1m38/38\u001b[0m \u001b[32m━━━━━━━━━━━━━━━━━━━━\u001b[0m\u001b[37m\u001b[0m \u001b[1m0s\u001b[0m 4ms/step - loss: 6740.8770 - root_mean_squared_error: 81.7743 - val_loss: 6145.0557 - val_root_mean_squared_error: 78.3904\n",
      "Epoch 66/100\n",
      "\u001b[1m38/38\u001b[0m \u001b[32m━━━━━━━━━━━━━━━━━━━━\u001b[0m\u001b[37m\u001b[0m \u001b[1m0s\u001b[0m 4ms/step - loss: 5356.2520 - root_mean_squared_error: 72.8566 - val_loss: 6069.5063 - val_root_mean_squared_error: 77.9070\n",
      "Epoch 67/100\n",
      "\u001b[1m38/38\u001b[0m \u001b[32m━━━━━━━━━━━━━━━━━━━━\u001b[0m\u001b[37m\u001b[0m \u001b[1m0s\u001b[0m 4ms/step - loss: 5593.1484 - root_mean_squared_error: 74.6869 - val_loss: 6383.0107 - val_root_mean_squared_error: 79.8937\n",
      "Epoch 68/100\n",
      "\u001b[1m38/38\u001b[0m \u001b[32m━━━━━━━━━━━━━━━━━━━━\u001b[0m\u001b[37m\u001b[0m \u001b[1m0s\u001b[0m 4ms/step - loss: 6692.8682 - root_mean_squared_error: 81.5569 - val_loss: 6558.3232 - val_root_mean_squared_error: 80.9835\n",
      "Epoch 69/100\n",
      "\u001b[1m38/38\u001b[0m \u001b[32m━━━━━━━━━━━━━━━━━━━━\u001b[0m\u001b[37m\u001b[0m \u001b[1m0s\u001b[0m 4ms/step - loss: 5204.5874 - root_mean_squared_error: 71.7864 - val_loss: 6147.8701 - val_root_mean_squared_error: 78.4084\n",
      "Epoch 70/100\n",
      "\u001b[1m38/38\u001b[0m \u001b[32m━━━━━━━━━━━━━━━━━━━━\u001b[0m\u001b[37m\u001b[0m \u001b[1m0s\u001b[0m 4ms/step - loss: 4954.7100 - root_mean_squared_error: 70.0787 - val_loss: 6134.2451 - val_root_mean_squared_error: 78.3214\n",
      "Epoch 71/100\n",
      "\u001b[1m38/38\u001b[0m \u001b[32m━━━━━━━━━━━━━━━━━━━━\u001b[0m\u001b[37m\u001b[0m \u001b[1m0s\u001b[0m 4ms/step - loss: 5414.6763 - root_mean_squared_error: 73.2769 - val_loss: 6253.3589 - val_root_mean_squared_error: 79.0782\n",
      "Epoch 72/100\n",
      "\u001b[1m38/38\u001b[0m \u001b[32m━━━━━━━━━━━━━━━━━━━━\u001b[0m\u001b[37m\u001b[0m \u001b[1m0s\u001b[0m 4ms/step - loss: 5492.1641 - root_mean_squared_error: 73.9275 - val_loss: 6266.7148 - val_root_mean_squared_error: 79.1626\n",
      "Epoch 73/100\n",
      "\u001b[1m38/38\u001b[0m \u001b[32m━━━━━━━━━━━━━━━━━━━━\u001b[0m\u001b[37m\u001b[0m \u001b[1m0s\u001b[0m 5ms/step - loss: 5913.0786 - root_mean_squared_error: 76.8357 - val_loss: 6078.7407 - val_root_mean_squared_error: 77.9663\n",
      "Epoch 74/100\n",
      "\u001b[1m38/38\u001b[0m \u001b[32m━━━━━━━━━━━━━━━━━━━━\u001b[0m\u001b[37m\u001b[0m \u001b[1m0s\u001b[0m 4ms/step - loss: 6424.6211 - root_mean_squared_error: 80.0554 - val_loss: 6161.8042 - val_root_mean_squared_error: 78.4972\n",
      "Epoch 75/100\n",
      "\u001b[1m38/38\u001b[0m \u001b[32m━━━━━━━━━━━━━━━━━━━━\u001b[0m\u001b[37m\u001b[0m \u001b[1m0s\u001b[0m 4ms/step - loss: 5626.9180 - root_mean_squared_error: 74.8445 - val_loss: 6278.3394 - val_root_mean_squared_error: 79.2360\n",
      "Epoch 76/100\n",
      "\u001b[1m38/38\u001b[0m \u001b[32m━━━━━━━━━━━━━━━━━━━━\u001b[0m\u001b[37m\u001b[0m \u001b[1m0s\u001b[0m 4ms/step - loss: 7114.1807 - root_mean_squared_error: 83.9175 - val_loss: 6248.9771 - val_root_mean_squared_error: 79.0505\n",
      "Epoch 77/100\n",
      "\u001b[1m38/38\u001b[0m \u001b[32m━━━━━━━━━━━━━━━━━━━━\u001b[0m\u001b[37m\u001b[0m \u001b[1m0s\u001b[0m 4ms/step - loss: 6418.6763 - root_mean_squared_error: 79.9678 - val_loss: 6134.6763 - val_root_mean_squared_error: 78.3242\n",
      "Epoch 78/100\n",
      "\u001b[1m38/38\u001b[0m \u001b[32m━━━━━━━━━━━━━━━━━━━━\u001b[0m\u001b[37m\u001b[0m \u001b[1m0s\u001b[0m 4ms/step - loss: 5096.5693 - root_mean_squared_error: 71.0805 - val_loss: 6218.5957 - val_root_mean_squared_error: 78.8581\n",
      "Epoch 79/100\n",
      "\u001b[1m38/38\u001b[0m \u001b[32m━━━━━━━━━━━━━━━━━━━━\u001b[0m\u001b[37m\u001b[0m \u001b[1m0s\u001b[0m 4ms/step - loss: 6074.2866 - root_mean_squared_error: 77.6495 - val_loss: 6347.1343 - val_root_mean_squared_error: 79.6689\n",
      "Epoch 80/100\n",
      "\u001b[1m38/38\u001b[0m \u001b[32m━━━━━━━━━━━━━━━━━━━━\u001b[0m\u001b[37m\u001b[0m \u001b[1m0s\u001b[0m 4ms/step - loss: 6283.3110 - root_mean_squared_error: 78.6469 - val_loss: 6498.6025 - val_root_mean_squared_error: 80.6139\n",
      "Epoch 81/100\n",
      "\u001b[1m38/38\u001b[0m \u001b[32m━━━━━━━━━━━━━━━━━━━━\u001b[0m\u001b[37m\u001b[0m \u001b[1m0s\u001b[0m 4ms/step - loss: 6503.7085 - root_mean_squared_error: 80.2694 - val_loss: 6227.9976 - val_root_mean_squared_error: 78.9177\n",
      "Epoch 82/100\n",
      "\u001b[1m38/38\u001b[0m \u001b[32m━━━━━━━━━━━━━━━━━━━━\u001b[0m\u001b[37m\u001b[0m \u001b[1m0s\u001b[0m 4ms/step - loss: 5838.5327 - root_mean_squared_error: 76.0318 - val_loss: 6418.0786 - val_root_mean_squared_error: 80.1129\n",
      "Epoch 83/100\n",
      "\u001b[1m38/38\u001b[0m \u001b[32m━━━━━━━━━━━━━━━━━━━━\u001b[0m\u001b[37m\u001b[0m \u001b[1m0s\u001b[0m 4ms/step - loss: 5255.2217 - root_mean_squared_error: 72.2669 - val_loss: 6179.9155 - val_root_mean_squared_error: 78.6124\n",
      "Epoch 84/100\n",
      "\u001b[1m38/38\u001b[0m \u001b[32m━━━━━━━━━━━━━━━━━━━━\u001b[0m\u001b[37m\u001b[0m \u001b[1m0s\u001b[0m 4ms/step - loss: 6165.0859 - root_mean_squared_error: 78.4168 - val_loss: 6211.1562 - val_root_mean_squared_error: 78.8109\n",
      "Epoch 85/100\n",
      "\u001b[1m38/38\u001b[0m \u001b[32m━━━━━━━━━━━━━━━━━━━━\u001b[0m\u001b[37m\u001b[0m \u001b[1m0s\u001b[0m 4ms/step - loss: 5659.7617 - root_mean_squared_error: 75.1749 - val_loss: 6101.9736 - val_root_mean_squared_error: 78.1151\n",
      "Epoch 86/100\n",
      "\u001b[1m38/38\u001b[0m \u001b[32m━━━━━━━━━━━━━━━━━━━━\u001b[0m\u001b[37m\u001b[0m \u001b[1m0s\u001b[0m 4ms/step - loss: 5488.2144 - root_mean_squared_error: 73.8912 - val_loss: 6349.0225 - val_root_mean_squared_error: 79.6808\n",
      "Epoch 87/100\n",
      "\u001b[1m38/38\u001b[0m \u001b[32m━━━━━━━━━━━━━━━━━━━━\u001b[0m\u001b[37m\u001b[0m \u001b[1m0s\u001b[0m 4ms/step - loss: 5134.3530 - root_mean_squared_error: 71.2980 - val_loss: 6183.6099 - val_root_mean_squared_error: 78.6359\n",
      "Epoch 88/100\n",
      "\u001b[1m38/38\u001b[0m \u001b[32m━━━━━━━━━━━━━━━━━━━━\u001b[0m\u001b[37m\u001b[0m \u001b[1m0s\u001b[0m 4ms/step - loss: 5392.5381 - root_mean_squared_error: 73.3209 - val_loss: 6089.2681 - val_root_mean_squared_error: 78.0338\n",
      "Epoch 89/100\n",
      "\u001b[1m38/38\u001b[0m \u001b[32m━━━━━━━━━━━━━━━━━━━━\u001b[0m\u001b[37m\u001b[0m \u001b[1m0s\u001b[0m 4ms/step - loss: 5802.5054 - root_mean_squared_error: 75.7633 - val_loss: 6199.0449 - val_root_mean_squared_error: 78.7340\n",
      "Epoch 90/100\n",
      "\u001b[1m38/38\u001b[0m \u001b[32m━━━━━━━━━━━━━━━━━━━━\u001b[0m\u001b[37m\u001b[0m \u001b[1m0s\u001b[0m 4ms/step - loss: 5731.4541 - root_mean_squared_error: 75.3394 - val_loss: 6326.8550 - val_root_mean_squared_error: 79.5415\n",
      "Epoch 91/100\n",
      "\u001b[1m38/38\u001b[0m \u001b[32m━━━━━━━━━━━━━━━━━━━━\u001b[0m\u001b[37m\u001b[0m \u001b[1m0s\u001b[0m 4ms/step - loss: 5340.4766 - root_mean_squared_error: 72.8506 - val_loss: 6216.5864 - val_root_mean_squared_error: 78.8453\n",
      "Epoch 92/100\n",
      "\u001b[1m38/38\u001b[0m \u001b[32m━━━━━━━━━━━━━━━━━━━━\u001b[0m\u001b[37m\u001b[0m \u001b[1m0s\u001b[0m 4ms/step - loss: 5559.7310 - root_mean_squared_error: 74.4567 - val_loss: 6223.1255 - val_root_mean_squared_error: 78.8868\n",
      "Epoch 93/100\n",
      "\u001b[1m38/38\u001b[0m \u001b[32m━━━━━━━━━━━━━━━━━━━━\u001b[0m\u001b[37m\u001b[0m \u001b[1m0s\u001b[0m 4ms/step - loss: 6147.6743 - root_mean_squared_error: 78.3624 - val_loss: 6182.1948 - val_root_mean_squared_error: 78.6269\n",
      "Epoch 94/100\n",
      "\u001b[1m38/38\u001b[0m \u001b[32m━━━━━━━━━━━━━━━━━━━━\u001b[0m\u001b[37m\u001b[0m \u001b[1m0s\u001b[0m 4ms/step - loss: 6618.1074 - root_mean_squared_error: 81.2115 - val_loss: 6270.3794 - val_root_mean_squared_error: 79.1857\n",
      "Epoch 95/100\n",
      "\u001b[1m38/38\u001b[0m \u001b[32m━━━━━━━━━━━━━━━━━━━━\u001b[0m\u001b[37m\u001b[0m \u001b[1m0s\u001b[0m 4ms/step - loss: 6096.1255 - root_mean_squared_error: 77.9439 - val_loss: 6069.9595 - val_root_mean_squared_error: 77.9099\n",
      "Epoch 96/100\n",
      "\u001b[1m38/38\u001b[0m \u001b[32m━━━━━━━━━━━━━━━━━━━━\u001b[0m\u001b[37m\u001b[0m \u001b[1m0s\u001b[0m 4ms/step - loss: 6539.4375 - root_mean_squared_error: 80.7242 - val_loss: 6150.4937 - val_root_mean_squared_error: 78.4251\n",
      "Epoch 97/100\n",
      "\u001b[1m38/38\u001b[0m \u001b[32m━━━━━━━━━━━━━━━━━━━━\u001b[0m\u001b[37m\u001b[0m \u001b[1m0s\u001b[0m 4ms/step - loss: 5613.9404 - root_mean_squared_error: 74.3348 - val_loss: 6332.9351 - val_root_mean_squared_error: 79.5797\n",
      "Epoch 98/100\n",
      "\u001b[1m38/38\u001b[0m \u001b[32m━━━━━━━━━━━━━━━━━━━━\u001b[0m\u001b[37m\u001b[0m \u001b[1m0s\u001b[0m 4ms/step - loss: 5893.4902 - root_mean_squared_error: 76.6467 - val_loss: 6126.9795 - val_root_mean_squared_error: 78.2750\n",
      "Epoch 99/100\n",
      "\u001b[1m38/38\u001b[0m \u001b[32m━━━━━━━━━━━━━━━━━━━━\u001b[0m\u001b[37m\u001b[0m \u001b[1m0s\u001b[0m 4ms/step - loss: 5228.5000 - root_mean_squared_error: 71.9040 - val_loss: 6040.4688 - val_root_mean_squared_error: 77.7205\n",
      "Epoch 100/100\n",
      "\u001b[1m38/38\u001b[0m \u001b[32m━━━━━━━━━━━━━━━━━━━━\u001b[0m\u001b[37m\u001b[0m \u001b[1m0s\u001b[0m 4ms/step - loss: 6458.2827 - root_mean_squared_error: 80.2379 - val_loss: 6029.3623 - val_root_mean_squared_error: 77.6490\n"
     ]
    },
    {
     "data": {
      "text/plain": [
       "<keras.src.callbacks.history.History at 0x7f3caea462f0>"
      ]
     },
     "execution_count": 28,
     "metadata": {},
     "output_type": "execute_result"
    }
   ],
   "source": [
    "model4.fit(X_train1, y_train1, validation_data=(X_val1, y_val1), epochs=100, callbacks=[cp4])"
   ]
  },
  {
   "cell_type": "markdown",
   "id": "fdaf6922",
   "metadata": {
    "papermill": {
     "duration": 0.114561,
     "end_time": "2024-12-30T03:03:04.413188",
     "exception": false,
     "start_time": "2024-12-30T03:03:04.298627",
     "status": "completed"
    },
    "tags": []
   },
   "source": [
    "Multiple Feature to Predict AQI"
   ]
  },
  {
   "cell_type": "code",
   "execution_count": 29,
   "id": "4748755d",
   "metadata": {
    "execution": {
     "iopub.execute_input": "2024-12-30T03:03:04.642381Z",
     "iopub.status.busy": "2024-12-30T03:03:04.641966Z",
     "iopub.status.idle": "2024-12-30T03:03:04.664778Z",
     "shell.execute_reply": "2024-12-30T03:03:04.663749Z"
    },
    "papermill": {
     "duration": 0.139,
     "end_time": "2024-12-30T03:03:04.666506",
     "exception": false,
     "start_time": "2024-12-30T03:03:04.527506",
     "status": "completed"
    },
    "tags": []
   },
   "outputs": [
    {
     "data": {
      "text/html": [
       "<div>\n",
       "<style scoped>\n",
       "    .dataframe tbody tr th:only-of-type {\n",
       "        vertical-align: middle;\n",
       "    }\n",
       "\n",
       "    .dataframe tbody tr th {\n",
       "        vertical-align: top;\n",
       "    }\n",
       "\n",
       "    .dataframe thead th {\n",
       "        text-align: right;\n",
       "    }\n",
       "</style>\n",
       "<table border=\"1\" class=\"dataframe\">\n",
       "  <thead>\n",
       "    <tr style=\"text-align: right;\">\n",
       "      <th></th>\n",
       "      <th>co</th>\n",
       "      <th>no2</th>\n",
       "      <th>o3</th>\n",
       "      <th>pm10</th>\n",
       "      <th>pm25</th>\n",
       "      <th>so2</th>\n",
       "      <th>humidity</th>\n",
       "      <th>pressure</th>\n",
       "      <th>temperature</th>\n",
       "      <th>CO_SubIndex</th>\n",
       "      <th>NO2_SubIndex</th>\n",
       "      <th>O3_SubIndex</th>\n",
       "      <th>PM10_SubIndex</th>\n",
       "      <th>PM2.5_SubIndex</th>\n",
       "      <th>SO2_SubIndex</th>\n",
       "      <th>Checks</th>\n",
       "      <th>AQI</th>\n",
       "      <th>AQI_bucket</th>\n",
       "      <th>Country_City</th>\n",
       "    </tr>\n",
       "    <tr>\n",
       "      <th>Date</th>\n",
       "      <th></th>\n",
       "      <th></th>\n",
       "      <th></th>\n",
       "      <th></th>\n",
       "      <th></th>\n",
       "      <th></th>\n",
       "      <th></th>\n",
       "      <th></th>\n",
       "      <th></th>\n",
       "      <th></th>\n",
       "      <th></th>\n",
       "      <th></th>\n",
       "      <th></th>\n",
       "      <th></th>\n",
       "      <th></th>\n",
       "      <th></th>\n",
       "      <th></th>\n",
       "      <th></th>\n",
       "      <th></th>\n",
       "    </tr>\n",
       "  </thead>\n",
       "  <tbody>\n",
       "    <tr>\n",
       "      <th>2015-04-27</th>\n",
       "      <td>3.0</td>\n",
       "      <td>2.0</td>\n",
       "      <td>NaN</td>\n",
       "      <td>3.0</td>\n",
       "      <td>NaN</td>\n",
       "      <td>NaN</td>\n",
       "      <td>NaN</td>\n",
       "      <td>NaN</td>\n",
       "      <td>NaN</td>\n",
       "      <td>34.090909</td>\n",
       "      <td>1.886792</td>\n",
       "      <td>0</td>\n",
       "      <td>2.777778</td>\n",
       "      <td>0.0</td>\n",
       "      <td>0.0</td>\n",
       "      <td>3</td>\n",
       "      <td>34.0</td>\n",
       "      <td>Good</td>\n",
       "      <td>Argentina_Buenos Aires</td>\n",
       "    </tr>\n",
       "    <tr>\n",
       "      <th>2015-04-28</th>\n",
       "      <td>61.0</td>\n",
       "      <td>45.0</td>\n",
       "      <td>NaN</td>\n",
       "      <td>65.0</td>\n",
       "      <td>NaN</td>\n",
       "      <td>NaN</td>\n",
       "      <td>NaN</td>\n",
       "      <td>NaN</td>\n",
       "      <td>NaN</td>\n",
       "      <td>500.052421</td>\n",
       "      <td>42.452830</td>\n",
       "      <td>0</td>\n",
       "      <td>55.050505</td>\n",
       "      <td>0.0</td>\n",
       "      <td>0.0</td>\n",
       "      <td>3</td>\n",
       "      <td>500.0</td>\n",
       "      <td>Hazardous</td>\n",
       "      <td>Argentina_Buenos Aires</td>\n",
       "    </tr>\n",
       "    <tr>\n",
       "      <th>2015-04-29</th>\n",
       "      <td>70.0</td>\n",
       "      <td>48.0</td>\n",
       "      <td>NaN</td>\n",
       "      <td>51.0</td>\n",
       "      <td>NaN</td>\n",
       "      <td>NaN</td>\n",
       "      <td>NaN</td>\n",
       "      <td>NaN</td>\n",
       "      <td>NaN</td>\n",
       "      <td>500.097354</td>\n",
       "      <td>45.283019</td>\n",
       "      <td>0</td>\n",
       "      <td>47.222222</td>\n",
       "      <td>0.0</td>\n",
       "      <td>0.0</td>\n",
       "      <td>3</td>\n",
       "      <td>500.0</td>\n",
       "      <td>Hazardous</td>\n",
       "      <td>Argentina_Buenos Aires</td>\n",
       "    </tr>\n",
       "    <tr>\n",
       "      <th>2015-05-03</th>\n",
       "      <td>68.0</td>\n",
       "      <td>45.0</td>\n",
       "      <td>NaN</td>\n",
       "      <td>56.0</td>\n",
       "      <td>NaN</td>\n",
       "      <td>NaN</td>\n",
       "      <td>NaN</td>\n",
       "      <td>NaN</td>\n",
       "      <td>NaN</td>\n",
       "      <td>500.087369</td>\n",
       "      <td>42.452830</td>\n",
       "      <td>0</td>\n",
       "      <td>50.505051</td>\n",
       "      <td>0.0</td>\n",
       "      <td>0.0</td>\n",
       "      <td>3</td>\n",
       "      <td>500.0</td>\n",
       "      <td>Hazardous</td>\n",
       "      <td>Argentina_Buenos Aires</td>\n",
       "    </tr>\n",
       "    <tr>\n",
       "      <th>2015-05-04</th>\n",
       "      <td>72.0</td>\n",
       "      <td>46.0</td>\n",
       "      <td>NaN</td>\n",
       "      <td>11.0</td>\n",
       "      <td>NaN</td>\n",
       "      <td>NaN</td>\n",
       "      <td>NaN</td>\n",
       "      <td>NaN</td>\n",
       "      <td>NaN</td>\n",
       "      <td>500.107339</td>\n",
       "      <td>43.396226</td>\n",
       "      <td>0</td>\n",
       "      <td>10.185185</td>\n",
       "      <td>0.0</td>\n",
       "      <td>0.0</td>\n",
       "      <td>3</td>\n",
       "      <td>500.0</td>\n",
       "      <td>Hazardous</td>\n",
       "      <td>Argentina_Buenos Aires</td>\n",
       "    </tr>\n",
       "  </tbody>\n",
       "</table>\n",
       "</div>"
      ],
      "text/plain": [
       "              co   no2  o3  pm10  pm25  so2  humidity  pressure  temperature  \\\n",
       "Date                                                                           \n",
       "2015-04-27   3.0   2.0 NaN   3.0   NaN  NaN       NaN       NaN          NaN   \n",
       "2015-04-28  61.0  45.0 NaN  65.0   NaN  NaN       NaN       NaN          NaN   \n",
       "2015-04-29  70.0  48.0 NaN  51.0   NaN  NaN       NaN       NaN          NaN   \n",
       "2015-05-03  68.0  45.0 NaN  56.0   NaN  NaN       NaN       NaN          NaN   \n",
       "2015-05-04  72.0  46.0 NaN  11.0   NaN  NaN       NaN       NaN          NaN   \n",
       "\n",
       "            CO_SubIndex  NO2_SubIndex  O3_SubIndex  PM10_SubIndex  \\\n",
       "Date                                                                \n",
       "2015-04-27    34.090909      1.886792            0       2.777778   \n",
       "2015-04-28   500.052421     42.452830            0      55.050505   \n",
       "2015-04-29   500.097354     45.283019            0      47.222222   \n",
       "2015-05-03   500.087369     42.452830            0      50.505051   \n",
       "2015-05-04   500.107339     43.396226            0      10.185185   \n",
       "\n",
       "            PM2.5_SubIndex  SO2_SubIndex  Checks    AQI AQI_bucket  \\\n",
       "Date                                                                 \n",
       "2015-04-27             0.0           0.0       3   34.0       Good   \n",
       "2015-04-28             0.0           0.0       3  500.0  Hazardous   \n",
       "2015-04-29             0.0           0.0       3  500.0  Hazardous   \n",
       "2015-05-03             0.0           0.0       3  500.0  Hazardous   \n",
       "2015-05-04             0.0           0.0       3  500.0  Hazardous   \n",
       "\n",
       "                      Country_City  \n",
       "Date                                \n",
       "2015-04-27  Argentina_Buenos Aires  \n",
       "2015-04-28  Argentina_Buenos Aires  \n",
       "2015-04-29  Argentina_Buenos Aires  \n",
       "2015-05-03  Argentina_Buenos Aires  \n",
       "2015-05-04  Argentina_Buenos Aires  "
      ]
     },
     "execution_count": 29,
     "metadata": {},
     "output_type": "execute_result"
    }
   ],
   "source": [
    "aqi2 = new_data.copy()\n",
    "aqi2.head()"
   ]
  },
  {
   "cell_type": "code",
   "execution_count": 30,
   "id": "77a78ac2",
   "metadata": {
    "execution": {
     "iopub.execute_input": "2024-12-30T03:03:04.897458Z",
     "iopub.status.busy": "2024-12-30T03:03:04.897103Z",
     "iopub.status.idle": "2024-12-30T03:03:04.904140Z",
     "shell.execute_reply": "2024-12-30T03:03:04.903227Z"
    },
    "papermill": {
     "duration": 0.124343,
     "end_time": "2024-12-30T03:03:04.905797",
     "exception": false,
     "start_time": "2024-12-30T03:03:04.781454",
     "status": "completed"
    },
    "tags": []
   },
   "outputs": [
    {
     "data": {
      "text/plain": [
       "Index(['co', 'no2', 'o3', 'pm10', 'pm25', 'so2', 'humidity', 'pressure',\n",
       "       'temperature', 'CO_SubIndex', 'NO2_SubIndex', 'O3_SubIndex',\n",
       "       'PM10_SubIndex', 'PM2.5_SubIndex', 'SO2_SubIndex', 'Checks', 'AQI',\n",
       "       'AQI_bucket', 'Country_City'],\n",
       "      dtype='object')"
      ]
     },
     "execution_count": 30,
     "metadata": {},
     "output_type": "execute_result"
    }
   ],
   "source": [
    "aqi2.columns"
   ]
  },
  {
   "cell_type": "code",
   "execution_count": 31,
   "id": "af78a9de",
   "metadata": {
    "execution": {
     "iopub.execute_input": "2024-12-30T03:03:05.137379Z",
     "iopub.status.busy": "2024-12-30T03:03:05.136999Z",
     "iopub.status.idle": "2024-12-30T03:03:05.143711Z",
     "shell.execute_reply": "2024-12-30T03:03:05.142807Z"
    },
    "papermill": {
     "duration": 0.124007,
     "end_time": "2024-12-30T03:03:05.145366",
     "exception": false,
     "start_time": "2024-12-30T03:03:05.021359",
     "status": "completed"
    },
    "tags": []
   },
   "outputs": [],
   "source": [
    "aqi2 = aqi2.drop(['co', 'no2', 'o3', 'pm10', 'pm25', 'so2', 'humidity', 'pressure',\n",
    "                  'temperature', 'Checks', 'AQI_bucket', 'Country_City'], axis=1)"
   ]
  },
  {
   "cell_type": "code",
   "execution_count": 32,
   "id": "b8e66060",
   "metadata": {
    "execution": {
     "iopub.execute_input": "2024-12-30T03:03:05.438557Z",
     "iopub.status.busy": "2024-12-30T03:03:05.438212Z",
     "iopub.status.idle": "2024-12-30T03:03:05.450710Z",
     "shell.execute_reply": "2024-12-30T03:03:05.449654Z"
    },
    "papermill": {
     "duration": 0.189412,
     "end_time": "2024-12-30T03:03:05.452509",
     "exception": false,
     "start_time": "2024-12-30T03:03:05.263097",
     "status": "completed"
    },
    "tags": []
   },
   "outputs": [
    {
     "data": {
      "text/html": [
       "<div>\n",
       "<style scoped>\n",
       "    .dataframe tbody tr th:only-of-type {\n",
       "        vertical-align: middle;\n",
       "    }\n",
       "\n",
       "    .dataframe tbody tr th {\n",
       "        vertical-align: top;\n",
       "    }\n",
       "\n",
       "    .dataframe thead th {\n",
       "        text-align: right;\n",
       "    }\n",
       "</style>\n",
       "<table border=\"1\" class=\"dataframe\">\n",
       "  <thead>\n",
       "    <tr style=\"text-align: right;\">\n",
       "      <th></th>\n",
       "      <th>CO_SubIndex</th>\n",
       "      <th>NO2_SubIndex</th>\n",
       "      <th>O3_SubIndex</th>\n",
       "      <th>PM10_SubIndex</th>\n",
       "      <th>PM2.5_SubIndex</th>\n",
       "      <th>SO2_SubIndex</th>\n",
       "      <th>AQI</th>\n",
       "    </tr>\n",
       "    <tr>\n",
       "      <th>Date</th>\n",
       "      <th></th>\n",
       "      <th></th>\n",
       "      <th></th>\n",
       "      <th></th>\n",
       "      <th></th>\n",
       "      <th></th>\n",
       "      <th></th>\n",
       "    </tr>\n",
       "  </thead>\n",
       "  <tbody>\n",
       "    <tr>\n",
       "      <th>2015-04-27</th>\n",
       "      <td>34.090909</td>\n",
       "      <td>1.886792</td>\n",
       "      <td>0</td>\n",
       "      <td>2.777778</td>\n",
       "      <td>0.0</td>\n",
       "      <td>0.0</td>\n",
       "      <td>34.0</td>\n",
       "    </tr>\n",
       "    <tr>\n",
       "      <th>2015-04-28</th>\n",
       "      <td>500.052421</td>\n",
       "      <td>42.452830</td>\n",
       "      <td>0</td>\n",
       "      <td>55.050505</td>\n",
       "      <td>0.0</td>\n",
       "      <td>0.0</td>\n",
       "      <td>500.0</td>\n",
       "    </tr>\n",
       "    <tr>\n",
       "      <th>2015-04-29</th>\n",
       "      <td>500.097354</td>\n",
       "      <td>45.283019</td>\n",
       "      <td>0</td>\n",
       "      <td>47.222222</td>\n",
       "      <td>0.0</td>\n",
       "      <td>0.0</td>\n",
       "      <td>500.0</td>\n",
       "    </tr>\n",
       "    <tr>\n",
       "      <th>2015-05-03</th>\n",
       "      <td>500.087369</td>\n",
       "      <td>42.452830</td>\n",
       "      <td>0</td>\n",
       "      <td>50.505051</td>\n",
       "      <td>0.0</td>\n",
       "      <td>0.0</td>\n",
       "      <td>500.0</td>\n",
       "    </tr>\n",
       "    <tr>\n",
       "      <th>2015-05-04</th>\n",
       "      <td>500.107339</td>\n",
       "      <td>43.396226</td>\n",
       "      <td>0</td>\n",
       "      <td>10.185185</td>\n",
       "      <td>0.0</td>\n",
       "      <td>0.0</td>\n",
       "      <td>500.0</td>\n",
       "    </tr>\n",
       "  </tbody>\n",
       "</table>\n",
       "</div>"
      ],
      "text/plain": [
       "            CO_SubIndex  NO2_SubIndex  O3_SubIndex  PM10_SubIndex  \\\n",
       "Date                                                                \n",
       "2015-04-27    34.090909      1.886792            0       2.777778   \n",
       "2015-04-28   500.052421     42.452830            0      55.050505   \n",
       "2015-04-29   500.097354     45.283019            0      47.222222   \n",
       "2015-05-03   500.087369     42.452830            0      50.505051   \n",
       "2015-05-04   500.107339     43.396226            0      10.185185   \n",
       "\n",
       "            PM2.5_SubIndex  SO2_SubIndex    AQI  \n",
       "Date                                             \n",
       "2015-04-27             0.0           0.0   34.0  \n",
       "2015-04-28             0.0           0.0  500.0  \n",
       "2015-04-29             0.0           0.0  500.0  \n",
       "2015-05-03             0.0           0.0  500.0  \n",
       "2015-05-04             0.0           0.0  500.0  "
      ]
     },
     "execution_count": 32,
     "metadata": {},
     "output_type": "execute_result"
    }
   ],
   "source": [
    "aqi2.head()"
   ]
  },
  {
   "cell_type": "code",
   "execution_count": 33,
   "id": "cc0701be",
   "metadata": {
    "execution": {
     "iopub.execute_input": "2024-12-30T03:03:05.693102Z",
     "iopub.status.busy": "2024-12-30T03:03:05.692686Z",
     "iopub.status.idle": "2024-12-30T03:03:05.702166Z",
     "shell.execute_reply": "2024-12-30T03:03:05.700899Z"
    },
    "papermill": {
     "duration": 0.133037,
     "end_time": "2024-12-30T03:03:05.703983",
     "exception": false,
     "start_time": "2024-12-30T03:03:05.570946",
     "status": "completed"
    },
    "tags": []
   },
   "outputs": [
    {
     "name": "stdout",
     "output_type": "stream",
     "text": [
      "The number of values for feature CO_SubIndex :96\n",
      "The number of values for feature NO2_SubIndex :63\n",
      "The number of values for feature O3_SubIndex :1 -- [0]\n",
      "The number of values for feature PM10_SubIndex :95\n",
      "The number of values for feature PM2.5_SubIndex :48\n",
      "The number of values for feature SO2_SubIndex :24\n",
      "The number of values for feature AQI :63\n"
     ]
    }
   ],
   "source": [
    "for column in aqi2:\n",
    "    unique_vals = np.unique(aqi2[column])  # numpy unique for numerical types\n",
    "\n",
    "    nr_values = len(unique_vals)\n",
    "    if nr_values < 14:\n",
    "        print('The number of values for feature {} :{} -- {}'.format(column, nr_values,unique_vals))\n",
    "    else:\n",
    "        print('The number of values for feature {} :{}'.format(column, nr_values))"
   ]
  },
  {
   "cell_type": "code",
   "execution_count": 34,
   "id": "66f0868f",
   "metadata": {
    "execution": {
     "iopub.execute_input": "2024-12-30T03:03:05.943150Z",
     "iopub.status.busy": "2024-12-30T03:03:05.942752Z",
     "iopub.status.idle": "2024-12-30T03:03:05.948056Z",
     "shell.execute_reply": "2024-12-30T03:03:05.947054Z"
    },
    "papermill": {
     "duration": 0.125501,
     "end_time": "2024-12-30T03:03:05.949571",
     "exception": false,
     "start_time": "2024-12-30T03:03:05.824070",
     "status": "completed"
    },
    "tags": []
   },
   "outputs": [],
   "source": [
    "# function to define window_size, converting data into numpy array, \n",
    "# two types of array X-feature and y-label\n",
    "\n",
    "def new_data_to_X_y_2(new_data, window_size=6):\n",
    "    new_data_as_np = new_data.to_numpy()\n",
    "    X = []\n",
    "    y = []\n",
    "    for i in range(len(new_data_as_np) - window_size):\n",
    "        row = new_data_as_np[i:i+window_size]  \n",
    "        X.append(row)\n",
    "        label = new_data_as_np[i+window_size, -1] \n",
    "        y.append(label)\n",
    "    return np.array(X), np.array(y)"
   ]
  },
  {
   "cell_type": "code",
   "execution_count": 35,
   "id": "ec80a939",
   "metadata": {
    "execution": {
     "iopub.execute_input": "2024-12-30T03:03:06.186383Z",
     "iopub.status.busy": "2024-12-30T03:03:06.185979Z",
     "iopub.status.idle": "2024-12-30T03:03:06.197525Z",
     "shell.execute_reply": "2024-12-30T03:03:06.196342Z"
    },
    "papermill": {
     "duration": 0.130028,
     "end_time": "2024-12-30T03:03:06.199176",
     "exception": false,
     "start_time": "2024-12-30T03:03:06.069148",
     "status": "completed"
    },
    "tags": []
   },
   "outputs": [
    {
     "data": {
      "text/plain": [
       "((2471, 6, 7), (2471,))"
      ]
     },
     "execution_count": 35,
     "metadata": {},
     "output_type": "execute_result"
    }
   ],
   "source": [
    "#passing data to function\n",
    "\n",
    "WINDOW_SIZE = 6\n",
    "X1, y1 = new_data_to_X_y_2(aqi2, WINDOW_SIZE)\n",
    "X1.shape, y1.shape"
   ]
  },
  {
   "cell_type": "code",
   "execution_count": 36,
   "id": "bcc85488",
   "metadata": {
    "execution": {
     "iopub.execute_input": "2024-12-30T03:03:06.432187Z",
     "iopub.status.busy": "2024-12-30T03:03:06.431797Z",
     "iopub.status.idle": "2024-12-30T03:03:06.438988Z",
     "shell.execute_reply": "2024-12-30T03:03:06.437862Z"
    },
    "papermill": {
     "duration": 0.125264,
     "end_time": "2024-12-30T03:03:06.440580",
     "exception": false,
     "start_time": "2024-12-30T03:03:06.315316",
     "status": "completed"
    },
    "tags": []
   },
   "outputs": [
    {
     "data": {
      "text/plain": [
       "((1200, 6, 7), (1200,), (800, 6, 7), (800,), (471, 6, 7), (471,))"
      ]
     },
     "execution_count": 36,
     "metadata": {},
     "output_type": "execute_result"
    }
   ],
   "source": [
    "# train,validation, and test split\n",
    "\n",
    "X_train1, y_train1 = X1[:1200], y1[:1200]\n",
    "X_val1, y_val1 = X1[1200:2000], y1[1200:2000]\n",
    "X_test1, y_test1 = X1[2000:], y1[2000:]\n",
    "X_train1.shape, y_train1.shape, X_val1.shape, y_val1.shape, X_test1.shape, y_test1.shape"
   ]
  },
  {
   "cell_type": "code",
   "execution_count": 37,
   "id": "5b90c842",
   "metadata": {
    "execution": {
     "iopub.execute_input": "2024-12-30T03:03:06.675495Z",
     "iopub.status.busy": "2024-12-30T03:03:06.675151Z",
     "iopub.status.idle": "2024-12-30T03:03:06.728364Z",
     "shell.execute_reply": "2024-12-30T03:03:06.727295Z"
    },
    "papermill": {
     "duration": 0.172615,
     "end_time": "2024-12-30T03:03:06.730036",
     "exception": false,
     "start_time": "2024-12-30T03:03:06.557421",
     "status": "completed"
    },
    "tags": []
   },
   "outputs": [
    {
     "data": {
      "text/html": [
       "<pre style=\"white-space:pre;overflow-x:auto;line-height:normal;font-family:Menlo,'DejaVu Sans Mono',consolas,'Courier New',monospace\"><span style=\"font-weight: bold\">Model: \"sequential_4\"</span>\n",
       "</pre>\n"
      ],
      "text/plain": [
       "\u001b[1mModel: \"sequential_4\"\u001b[0m\n"
      ]
     },
     "metadata": {},
     "output_type": "display_data"
    },
    {
     "data": {
      "text/html": [
       "<pre style=\"white-space:pre;overflow-x:auto;line-height:normal;font-family:Menlo,'DejaVu Sans Mono',consolas,'Courier New',monospace\">┏━━━━━━━━━━━━━━━━━━━━━━━━━━━━━━━━━━━━━━┳━━━━━━━━━━━━━━━━━━━━━━━━━━━━━┳━━━━━━━━━━━━━━━━━┓\n",
       "┃<span style=\"font-weight: bold\"> Layer (type)                         </span>┃<span style=\"font-weight: bold\"> Output Shape                </span>┃<span style=\"font-weight: bold\">         Param # </span>┃\n",
       "┡━━━━━━━━━━━━━━━━━━━━━━━━━━━━━━━━━━━━━━╇━━━━━━━━━━━━━━━━━━━━━━━━━━━━━╇━━━━━━━━━━━━━━━━━┩\n",
       "│ lstm_1 (<span style=\"color: #0087ff; text-decoration-color: #0087ff\">LSTM</span>)                        │ (<span style=\"color: #00d7ff; text-decoration-color: #00d7ff\">None</span>, <span style=\"color: #00af00; text-decoration-color: #00af00\">32</span>)                  │           <span style=\"color: #00af00; text-decoration-color: #00af00\">5,120</span> │\n",
       "├──────────────────────────────────────┼─────────────────────────────┼─────────────────┤\n",
       "│ dense_8 (<span style=\"color: #0087ff; text-decoration-color: #0087ff\">Dense</span>)                      │ (<span style=\"color: #00d7ff; text-decoration-color: #00d7ff\">None</span>, <span style=\"color: #00af00; text-decoration-color: #00af00\">8</span>)                   │             <span style=\"color: #00af00; text-decoration-color: #00af00\">264</span> │\n",
       "├──────────────────────────────────────┼─────────────────────────────┼─────────────────┤\n",
       "│ dense_9 (<span style=\"color: #0087ff; text-decoration-color: #0087ff\">Dense</span>)                      │ (<span style=\"color: #00d7ff; text-decoration-color: #00d7ff\">None</span>, <span style=\"color: #00af00; text-decoration-color: #00af00\">1</span>)                   │               <span style=\"color: #00af00; text-decoration-color: #00af00\">9</span> │\n",
       "└──────────────────────────────────────┴─────────────────────────────┴─────────────────┘\n",
       "</pre>\n"
      ],
      "text/plain": [
       "┏━━━━━━━━━━━━━━━━━━━━━━━━━━━━━━━━━━━━━━┳━━━━━━━━━━━━━━━━━━━━━━━━━━━━━┳━━━━━━━━━━━━━━━━━┓\n",
       "┃\u001b[1m \u001b[0m\u001b[1mLayer (type)                        \u001b[0m\u001b[1m \u001b[0m┃\u001b[1m \u001b[0m\u001b[1mOutput Shape               \u001b[0m\u001b[1m \u001b[0m┃\u001b[1m \u001b[0m\u001b[1m        Param #\u001b[0m\u001b[1m \u001b[0m┃\n",
       "┡━━━━━━━━━━━━━━━━━━━━━━━━━━━━━━━━━━━━━━╇━━━━━━━━━━━━━━━━━━━━━━━━━━━━━╇━━━━━━━━━━━━━━━━━┩\n",
       "│ lstm_1 (\u001b[38;5;33mLSTM\u001b[0m)                        │ (\u001b[38;5;45mNone\u001b[0m, \u001b[38;5;34m32\u001b[0m)                  │           \u001b[38;5;34m5,120\u001b[0m │\n",
       "├──────────────────────────────────────┼─────────────────────────────┼─────────────────┤\n",
       "│ dense_8 (\u001b[38;5;33mDense\u001b[0m)                      │ (\u001b[38;5;45mNone\u001b[0m, \u001b[38;5;34m8\u001b[0m)                   │             \u001b[38;5;34m264\u001b[0m │\n",
       "├──────────────────────────────────────┼─────────────────────────────┼─────────────────┤\n",
       "│ dense_9 (\u001b[38;5;33mDense\u001b[0m)                      │ (\u001b[38;5;45mNone\u001b[0m, \u001b[38;5;34m1\u001b[0m)                   │               \u001b[38;5;34m9\u001b[0m │\n",
       "└──────────────────────────────────────┴─────────────────────────────┴─────────────────┘\n"
      ]
     },
     "metadata": {},
     "output_type": "display_data"
    },
    {
     "data": {
      "text/html": [
       "<pre style=\"white-space:pre;overflow-x:auto;line-height:normal;font-family:Menlo,'DejaVu Sans Mono',consolas,'Courier New',monospace\"><span style=\"font-weight: bold\"> Total params: </span><span style=\"color: #00af00; text-decoration-color: #00af00\">5,393</span> (21.07 KB)\n",
       "</pre>\n"
      ],
      "text/plain": [
       "\u001b[1m Total params: \u001b[0m\u001b[38;5;34m5,393\u001b[0m (21.07 KB)\n"
      ]
     },
     "metadata": {},
     "output_type": "display_data"
    },
    {
     "data": {
      "text/html": [
       "<pre style=\"white-space:pre;overflow-x:auto;line-height:normal;font-family:Menlo,'DejaVu Sans Mono',consolas,'Courier New',monospace\"><span style=\"font-weight: bold\"> Trainable params: </span><span style=\"color: #00af00; text-decoration-color: #00af00\">5,393</span> (21.07 KB)\n",
       "</pre>\n"
      ],
      "text/plain": [
       "\u001b[1m Trainable params: \u001b[0m\u001b[38;5;34m5,393\u001b[0m (21.07 KB)\n"
      ]
     },
     "metadata": {},
     "output_type": "display_data"
    },
    {
     "data": {
      "text/html": [
       "<pre style=\"white-space:pre;overflow-x:auto;line-height:normal;font-family:Menlo,'DejaVu Sans Mono',consolas,'Courier New',monospace\"><span style=\"font-weight: bold\"> Non-trainable params: </span><span style=\"color: #00af00; text-decoration-color: #00af00\">0</span> (0.00 B)\n",
       "</pre>\n"
      ],
      "text/plain": [
       "\u001b[1m Non-trainable params: \u001b[0m\u001b[38;5;34m0\u001b[0m (0.00 B)\n"
      ]
     },
     "metadata": {},
     "output_type": "display_data"
    }
   ],
   "source": [
    "model5 = Sequential()\n",
    "model5.add(InputLayer((6, 7))) # 6 timestamp , 1 feature\n",
    "model5.add(LSTM(32)) # LSTM layer with 16 units\n",
    "model5.add(Dense(8, activation='relu', kernel_regularizer=l2(0.001))) # activation function- ReLU with 8 dense layer\n",
    "model5.add(Dense(1, 'linear')) # output - linear and data- 1\n",
    "\n",
    "model5.summary()"
   ]
  },
  {
   "cell_type": "code",
   "execution_count": 38,
   "id": "de2be2aa",
   "metadata": {
    "execution": {
     "iopub.execute_input": "2024-12-30T03:03:06.965600Z",
     "iopub.status.busy": "2024-12-30T03:03:06.965253Z",
     "iopub.status.idle": "2024-12-30T03:03:06.975172Z",
     "shell.execute_reply": "2024-12-30T03:03:06.974305Z"
    },
    "papermill": {
     "duration": 0.129985,
     "end_time": "2024-12-30T03:03:06.977134",
     "exception": false,
     "start_time": "2024-12-30T03:03:06.847149",
     "status": "completed"
    },
    "tags": []
   },
   "outputs": [],
   "source": [
    "cp5 = ModelCheckpoint('/kaggle/working/model5.keras', save_best_only=True)\n",
    "\n",
    "model5.compile(loss=MeanSquaredError(), optimizer=Adam(learning_rate=0.01), \n",
    "               metrics=[RootMeanSquaredError()])"
   ]
  },
  {
   "cell_type": "code",
   "execution_count": 39,
   "id": "8cc881ae",
   "metadata": {
    "execution": {
     "iopub.execute_input": "2024-12-30T03:03:07.212611Z",
     "iopub.status.busy": "2024-12-30T03:03:07.212170Z",
     "iopub.status.idle": "2024-12-30T03:03:31.597442Z",
     "shell.execute_reply": "2024-12-30T03:03:31.596333Z"
    },
    "papermill": {
     "duration": 24.50499,
     "end_time": "2024-12-30T03:03:31.599184",
     "exception": false,
     "start_time": "2024-12-30T03:03:07.094194",
     "status": "completed"
    },
    "tags": []
   },
   "outputs": [
    {
     "name": "stdout",
     "output_type": "stream",
     "text": [
      "Epoch 1/100\n",
      "\u001b[1m38/38\u001b[0m \u001b[32m━━━━━━━━━━━━━━━━━━━━\u001b[0m\u001b[37m\u001b[0m \u001b[1m2s\u001b[0m 13ms/step - loss: 160589.6562 - root_mean_squared_error: 400.5958 - val_loss: 147360.5312 - val_root_mean_squared_error: 383.8756\n",
      "Epoch 2/100\n",
      "\u001b[1m38/38\u001b[0m \u001b[32m━━━━━━━━━━━━━━━━━━━━\u001b[0m\u001b[37m\u001b[0m \u001b[1m0s\u001b[0m 6ms/step - loss: 124441.2031 - root_mean_squared_error: 352.5666 - val_loss: 82599.8281 - val_root_mean_squared_error: 287.4017\n",
      "Epoch 3/100\n",
      "\u001b[1m38/38\u001b[0m \u001b[32m━━━━━━━━━━━━━━━━━━━━\u001b[0m\u001b[37m\u001b[0m \u001b[1m0s\u001b[0m 5ms/step - loss: 60083.2266 - root_mean_squared_error: 244.9044 - val_loss: 29992.9043 - val_root_mean_squared_error: 173.1840\n",
      "Epoch 4/100\n",
      "\u001b[1m38/38\u001b[0m \u001b[32m━━━━━━━━━━━━━━━━━━━━\u001b[0m\u001b[37m\u001b[0m \u001b[1m0s\u001b[0m 6ms/step - loss: 29649.1133 - root_mean_squared_error: 172.0057 - val_loss: 18293.8711 - val_root_mean_squared_error: 135.2538\n",
      "Epoch 5/100\n",
      "\u001b[1m38/38\u001b[0m \u001b[32m━━━━━━━━━━━━━━━━━━━━\u001b[0m\u001b[37m\u001b[0m \u001b[1m0s\u001b[0m 6ms/step - loss: 22944.2012 - root_mean_squared_error: 151.4593 - val_loss: 16183.0264 - val_root_mean_squared_error: 127.2113\n",
      "Epoch 6/100\n",
      "\u001b[1m38/38\u001b[0m \u001b[32m━━━━━━━━━━━━━━━━━━━━\u001b[0m\u001b[37m\u001b[0m \u001b[1m0s\u001b[0m 6ms/step - loss: 20226.7520 - root_mean_squared_error: 142.0883 - val_loss: 14097.2959 - val_root_mean_squared_error: 118.7307\n",
      "Epoch 7/100\n",
      "\u001b[1m38/38\u001b[0m \u001b[32m━━━━━━━━━━━━━━━━━━━━\u001b[0m\u001b[37m\u001b[0m \u001b[1m0s\u001b[0m 6ms/step - loss: 16304.3291 - root_mean_squared_error: 127.6514 - val_loss: 11904.8467 - val_root_mean_squared_error: 109.1078\n",
      "Epoch 8/100\n",
      "\u001b[1m38/38\u001b[0m \u001b[32m━━━━━━━━━━━━━━━━━━━━\u001b[0m\u001b[37m\u001b[0m \u001b[1m0s\u001b[0m 5ms/step - loss: 13706.9678 - root_mean_squared_error: 116.9849 - val_loss: 12064.9902 - val_root_mean_squared_error: 109.8391\n",
      "Epoch 9/100\n",
      "\u001b[1m38/38\u001b[0m \u001b[32m━━━━━━━━━━━━━━━━━━━━\u001b[0m\u001b[37m\u001b[0m \u001b[1m0s\u001b[0m 6ms/step - loss: 12983.3926 - root_mean_squared_error: 113.9179 - val_loss: 11093.9941 - val_root_mean_squared_error: 105.3263\n",
      "Epoch 10/100\n",
      "\u001b[1m38/38\u001b[0m \u001b[32m━━━━━━━━━━━━━━━━━━━━\u001b[0m\u001b[37m\u001b[0m \u001b[1m0s\u001b[0m 7ms/step - loss: 10545.8047 - root_mean_squared_error: 102.6305 - val_loss: 10806.2910 - val_root_mean_squared_error: 103.9514\n",
      "Epoch 11/100\n",
      "\u001b[1m38/38\u001b[0m \u001b[32m━━━━━━━━━━━━━━━━━━━━\u001b[0m\u001b[37m\u001b[0m \u001b[1m0s\u001b[0m 6ms/step - loss: 10003.1787 - root_mean_squared_error: 99.8079 - val_loss: 11302.9717 - val_root_mean_squared_error: 106.3135\n",
      "Epoch 12/100\n",
      "\u001b[1m38/38\u001b[0m \u001b[32m━━━━━━━━━━━━━━━━━━━━\u001b[0m\u001b[37m\u001b[0m \u001b[1m0s\u001b[0m 6ms/step - loss: 9816.5830 - root_mean_squared_error: 98.8601 - val_loss: 10617.4414 - val_root_mean_squared_error: 103.0390\n",
      "Epoch 13/100\n",
      "\u001b[1m38/38\u001b[0m \u001b[32m━━━━━━━━━━━━━━━━━━━━\u001b[0m\u001b[37m\u001b[0m \u001b[1m0s\u001b[0m 6ms/step - loss: 7863.5122 - root_mean_squared_error: 88.5579 - val_loss: 11772.2549 - val_root_mean_squared_error: 108.4981\n",
      "Epoch 14/100\n",
      "\u001b[1m38/38\u001b[0m \u001b[32m━━━━━━━━━━━━━━━━━━━━\u001b[0m\u001b[37m\u001b[0m \u001b[1m0s\u001b[0m 6ms/step - loss: 8180.5522 - root_mean_squared_error: 90.1781 - val_loss: 10962.9863 - val_root_mean_squared_error: 104.7022\n",
      "Epoch 15/100\n",
      "\u001b[1m38/38\u001b[0m \u001b[32m━━━━━━━━━━━━━━━━━━━━\u001b[0m\u001b[37m\u001b[0m \u001b[1m0s\u001b[0m 6ms/step - loss: 7742.6211 - root_mean_squared_error: 87.9258 - val_loss: 10710.6035 - val_root_mean_squared_error: 103.4899\n",
      "Epoch 16/100\n",
      "\u001b[1m38/38\u001b[0m \u001b[32m━━━━━━━━━━━━━━━━━━━━\u001b[0m\u001b[37m\u001b[0m \u001b[1m0s\u001b[0m 6ms/step - loss: 7441.2817 - root_mean_squared_error: 86.2396 - val_loss: 11522.9258 - val_root_mean_squared_error: 107.3428\n",
      "Epoch 17/100\n",
      "\u001b[1m38/38\u001b[0m \u001b[32m━━━━━━━━━━━━━━━━━━━━\u001b[0m\u001b[37m\u001b[0m \u001b[1m0s\u001b[0m 5ms/step - loss: 7253.6904 - root_mean_squared_error: 85.1192 - val_loss: 10695.3086 - val_root_mean_squared_error: 103.4159\n",
      "Epoch 18/100\n",
      "\u001b[1m38/38\u001b[0m \u001b[32m━━━━━━━━━━━━━━━━━━━━\u001b[0m\u001b[37m\u001b[0m \u001b[1m0s\u001b[0m 5ms/step - loss: 6274.9370 - root_mean_squared_error: 78.7261 - val_loss: 10692.0049 - val_root_mean_squared_error: 103.3999\n",
      "Epoch 19/100\n",
      "\u001b[1m38/38\u001b[0m \u001b[32m━━━━━━━━━━━━━━━━━━━━\u001b[0m\u001b[37m\u001b[0m \u001b[1m0s\u001b[0m 5ms/step - loss: 6670.5669 - root_mean_squared_error: 81.6232 - val_loss: 12031.8701 - val_root_mean_squared_error: 109.6878\n",
      "Epoch 20/100\n",
      "\u001b[1m38/38\u001b[0m \u001b[32m━━━━━━━━━━━━━━━━━━━━\u001b[0m\u001b[37m\u001b[0m \u001b[1m0s\u001b[0m 5ms/step - loss: 7329.3076 - root_mean_squared_error: 85.3276 - val_loss: 11479.0361 - val_root_mean_squared_error: 107.1381\n",
      "Epoch 21/100\n",
      "\u001b[1m38/38\u001b[0m \u001b[32m━━━━━━━━━━━━━━━━━━━━\u001b[0m\u001b[37m\u001b[0m \u001b[1m0s\u001b[0m 5ms/step - loss: 8058.5986 - root_mean_squared_error: 89.5238 - val_loss: 11551.3496 - val_root_mean_squared_error: 107.4750\n",
      "Epoch 22/100\n",
      "\u001b[1m38/38\u001b[0m \u001b[32m━━━━━━━━━━━━━━━━━━━━\u001b[0m\u001b[37m\u001b[0m \u001b[1m0s\u001b[0m 5ms/step - loss: 7532.0337 - root_mean_squared_error: 86.7496 - val_loss: 12396.2412 - val_root_mean_squared_error: 111.3363\n",
      "Epoch 23/100\n",
      "\u001b[1m38/38\u001b[0m \u001b[32m━━━━━━━━━━━━━━━━━━━━\u001b[0m\u001b[37m\u001b[0m \u001b[1m0s\u001b[0m 5ms/step - loss: 7224.6328 - root_mean_squared_error: 84.8697 - val_loss: 10916.5566 - val_root_mean_squared_error: 104.4800\n",
      "Epoch 24/100\n",
      "\u001b[1m38/38\u001b[0m \u001b[32m━━━━━━━━━━━━━━━━━━━━\u001b[0m\u001b[37m\u001b[0m \u001b[1m0s\u001b[0m 5ms/step - loss: 6687.9971 - root_mean_squared_error: 81.6488 - val_loss: 11491.5146 - val_root_mean_squared_error: 107.1963\n",
      "Epoch 25/100\n",
      "\u001b[1m38/38\u001b[0m \u001b[32m━━━━━━━━━━━━━━━━━━━━\u001b[0m\u001b[37m\u001b[0m \u001b[1m0s\u001b[0m 5ms/step - loss: 6830.8286 - root_mean_squared_error: 82.4914 - val_loss: 11057.6904 - val_root_mean_squared_error: 105.1533\n",
      "Epoch 26/100\n",
      "\u001b[1m38/38\u001b[0m \u001b[32m━━━━━━━━━━━━━━━━━━━━\u001b[0m\u001b[37m\u001b[0m \u001b[1m0s\u001b[0m 6ms/step - loss: 6859.1113 - root_mean_squared_error: 82.3806 - val_loss: 10376.5498 - val_root_mean_squared_error: 101.8629\n",
      "Epoch 27/100\n",
      "\u001b[1m38/38\u001b[0m \u001b[32m━━━━━━━━━━━━━━━━━━━━\u001b[0m\u001b[37m\u001b[0m \u001b[1m0s\u001b[0m 5ms/step - loss: 7285.5625 - root_mean_squared_error: 85.3140 - val_loss: 11151.0547 - val_root_mean_squared_error: 105.5962\n",
      "Epoch 28/100\n",
      "\u001b[1m38/38\u001b[0m \u001b[32m━━━━━━━━━━━━━━━━━━━━\u001b[0m\u001b[37m\u001b[0m \u001b[1m0s\u001b[0m 5ms/step - loss: 7193.3135 - root_mean_squared_error: 84.6267 - val_loss: 11282.8125 - val_root_mean_squared_error: 106.2182\n",
      "Epoch 29/100\n",
      "\u001b[1m38/38\u001b[0m \u001b[32m━━━━━━━━━━━━━━━━━━━━\u001b[0m\u001b[37m\u001b[0m \u001b[1m0s\u001b[0m 5ms/step - loss: 6776.2075 - root_mean_squared_error: 82.0213 - val_loss: 11630.3164 - val_root_mean_squared_error: 107.8416\n",
      "Epoch 30/100\n",
      "\u001b[1m38/38\u001b[0m \u001b[32m━━━━━━━━━━━━━━━━━━━━\u001b[0m\u001b[37m\u001b[0m \u001b[1m0s\u001b[0m 5ms/step - loss: 6831.9731 - root_mean_squared_error: 82.3560 - val_loss: 10543.6396 - val_root_mean_squared_error: 102.6797\n",
      "Epoch 31/100\n",
      "\u001b[1m38/38\u001b[0m \u001b[32m━━━━━━━━━━━━━━━━━━━━\u001b[0m\u001b[37m\u001b[0m \u001b[1m0s\u001b[0m 5ms/step - loss: 7381.5371 - root_mean_squared_error: 85.8778 - val_loss: 10565.5811 - val_root_mean_squared_error: 102.7865\n",
      "Epoch 32/100\n",
      "\u001b[1m38/38\u001b[0m \u001b[32m━━━━━━━━━━━━━━━━━━━━\u001b[0m\u001b[37m\u001b[0m \u001b[1m0s\u001b[0m 5ms/step - loss: 6597.4653 - root_mean_squared_error: 80.8861 - val_loss: 10719.9473 - val_root_mean_squared_error: 103.5346\n",
      "Epoch 33/100\n",
      "\u001b[1m38/38\u001b[0m \u001b[32m━━━━━━━━━━━━━━━━━━━━\u001b[0m\u001b[37m\u001b[0m \u001b[1m0s\u001b[0m 5ms/step - loss: 7184.4863 - root_mean_squared_error: 84.5150 - val_loss: 10621.4639 - val_root_mean_squared_error: 103.0579\n",
      "Epoch 34/100\n",
      "\u001b[1m38/38\u001b[0m \u001b[32m━━━━━━━━━━━━━━━━━━━━\u001b[0m\u001b[37m\u001b[0m \u001b[1m0s\u001b[0m 5ms/step - loss: 7660.3467 - root_mean_squared_error: 87.4472 - val_loss: 10935.9590 - val_root_mean_squared_error: 104.5726\n",
      "Epoch 35/100\n",
      "\u001b[1m38/38\u001b[0m \u001b[32m━━━━━━━━━━━━━━━━━━━━\u001b[0m\u001b[37m\u001b[0m \u001b[1m0s\u001b[0m 5ms/step - loss: 6365.8452 - root_mean_squared_error: 79.4766 - val_loss: 10475.1270 - val_root_mean_squared_error: 102.3455\n",
      "Epoch 36/100\n",
      "\u001b[1m38/38\u001b[0m \u001b[32m━━━━━━━━━━━━━━━━━━━━\u001b[0m\u001b[37m\u001b[0m \u001b[1m0s\u001b[0m 5ms/step - loss: 6312.2471 - root_mean_squared_error: 79.2079 - val_loss: 11443.3828 - val_root_mean_squared_error: 106.9712\n",
      "Epoch 37/100\n",
      "\u001b[1m38/38\u001b[0m \u001b[32m━━━━━━━━━━━━━━━━━━━━\u001b[0m\u001b[37m\u001b[0m \u001b[1m0s\u001b[0m 5ms/step - loss: 7897.0044 - root_mean_squared_error: 88.6315 - val_loss: 10447.2930 - val_root_mean_squared_error: 102.2094\n",
      "Epoch 38/100\n",
      "\u001b[1m38/38\u001b[0m \u001b[32m━━━━━━━━━━━━━━━━━━━━\u001b[0m\u001b[37m\u001b[0m \u001b[1m0s\u001b[0m 5ms/step - loss: 7271.4722 - root_mean_squared_error: 85.1438 - val_loss: 11172.5117 - val_root_mean_squared_error: 105.6975\n",
      "Epoch 39/100\n",
      "\u001b[1m38/38\u001b[0m \u001b[32m━━━━━━━━━━━━━━━━━━━━\u001b[0m\u001b[37m\u001b[0m \u001b[1m0s\u001b[0m 5ms/step - loss: 7661.6748 - root_mean_squared_error: 87.3993 - val_loss: 10686.8916 - val_root_mean_squared_error: 103.3748\n",
      "Epoch 40/100\n",
      "\u001b[1m38/38\u001b[0m \u001b[32m━━━━━━━━━━━━━━━━━━━━\u001b[0m\u001b[37m\u001b[0m \u001b[1m0s\u001b[0m 5ms/step - loss: 6658.2417 - root_mean_squared_error: 81.4485 - val_loss: 10791.0352 - val_root_mean_squared_error: 103.8773\n",
      "Epoch 41/100\n",
      "\u001b[1m38/38\u001b[0m \u001b[32m━━━━━━━━━━━━━━━━━━━━\u001b[0m\u001b[37m\u001b[0m \u001b[1m0s\u001b[0m 5ms/step - loss: 6117.6357 - root_mean_squared_error: 77.9792 - val_loss: 12787.7471 - val_root_mean_squared_error: 113.0805\n",
      "Epoch 42/100\n",
      "\u001b[1m38/38\u001b[0m \u001b[32m━━━━━━━━━━━━━━━━━━━━\u001b[0m\u001b[37m\u001b[0m \u001b[1m0s\u001b[0m 5ms/step - loss: 7534.0410 - root_mean_squared_error: 86.7158 - val_loss: 12321.1836 - val_root_mean_squared_error: 110.9984\n",
      "Epoch 43/100\n",
      "\u001b[1m38/38\u001b[0m \u001b[32m━━━━━━━━━━━━━━━━━━━━\u001b[0m\u001b[37m\u001b[0m \u001b[1m0s\u001b[0m 5ms/step - loss: 7553.0068 - root_mean_squared_error: 86.5452 - val_loss: 11932.3252 - val_root_mean_squared_error: 109.2327\n",
      "Epoch 44/100\n",
      "\u001b[1m38/38\u001b[0m \u001b[32m━━━━━━━━━━━━━━━━━━━━\u001b[0m\u001b[37m\u001b[0m \u001b[1m0s\u001b[0m 5ms/step - loss: 7232.8032 - root_mean_squared_error: 84.9912 - val_loss: 11650.3848 - val_root_mean_squared_error: 107.9344\n",
      "Epoch 45/100\n",
      "\u001b[1m38/38\u001b[0m \u001b[32m━━━━━━━━━━━━━━━━━━━━\u001b[0m\u001b[37m\u001b[0m \u001b[1m0s\u001b[0m 6ms/step - loss: 6701.2427 - root_mean_squared_error: 81.7130 - val_loss: 12158.3838 - val_root_mean_squared_error: 110.2626\n",
      "Epoch 46/100\n",
      "\u001b[1m38/38\u001b[0m \u001b[32m━━━━━━━━━━━━━━━━━━━━\u001b[0m\u001b[37m\u001b[0m \u001b[1m0s\u001b[0m 5ms/step - loss: 7986.3140 - root_mean_squared_error: 89.0900 - val_loss: 12300.1709 - val_root_mean_squared_error: 110.9037\n",
      "Epoch 47/100\n",
      "\u001b[1m38/38\u001b[0m \u001b[32m━━━━━━━━━━━━━━━━━━━━\u001b[0m\u001b[37m\u001b[0m \u001b[1m0s\u001b[0m 5ms/step - loss: 5953.6387 - root_mean_squared_error: 76.9567 - val_loss: 12014.6348 - val_root_mean_squared_error: 109.6088\n",
      "Epoch 48/100\n",
      "\u001b[1m38/38\u001b[0m \u001b[32m━━━━━━━━━━━━━━━━━━━━\u001b[0m\u001b[37m\u001b[0m \u001b[1m0s\u001b[0m 5ms/step - loss: 6573.7612 - root_mean_squared_error: 80.8219 - val_loss: 11914.6504 - val_root_mean_squared_error: 109.1518\n",
      "Epoch 49/100\n",
      "\u001b[1m38/38\u001b[0m \u001b[32m━━━━━━━━━━━━━━━━━━━━\u001b[0m\u001b[37m\u001b[0m \u001b[1m0s\u001b[0m 5ms/step - loss: 7259.9019 - root_mean_squared_error: 85.1093 - val_loss: 12008.6035 - val_root_mean_squared_error: 109.5812\n",
      "Epoch 50/100\n",
      "\u001b[1m38/38\u001b[0m \u001b[32m━━━━━━━━━━━━━━━━━━━━\u001b[0m\u001b[37m\u001b[0m \u001b[1m0s\u001b[0m 5ms/step - loss: 7911.1777 - root_mean_squared_error: 88.8563 - val_loss: 12307.9365 - val_root_mean_squared_error: 110.9385\n",
      "Epoch 51/100\n",
      "\u001b[1m38/38\u001b[0m \u001b[32m━━━━━━━━━━━━━━━━━━━━\u001b[0m\u001b[37m\u001b[0m \u001b[1m0s\u001b[0m 5ms/step - loss: 7468.6738 - root_mean_squared_error: 86.3012 - val_loss: 12444.6299 - val_root_mean_squared_error: 111.5529\n",
      "Epoch 52/100\n",
      "\u001b[1m38/38\u001b[0m \u001b[32m━━━━━━━━━━━━━━━━━━━━\u001b[0m\u001b[37m\u001b[0m \u001b[1m0s\u001b[0m 5ms/step - loss: 7489.9282 - root_mean_squared_error: 86.0002 - val_loss: 12102.5684 - val_root_mean_squared_error: 110.0090\n",
      "Epoch 53/100\n",
      "\u001b[1m38/38\u001b[0m \u001b[32m━━━━━━━━━━━━━━━━━━━━\u001b[0m\u001b[37m\u001b[0m \u001b[1m0s\u001b[0m 5ms/step - loss: 6662.5562 - root_mean_squared_error: 81.2157 - val_loss: 12554.0059 - val_root_mean_squared_error: 112.0419\n",
      "Epoch 54/100\n",
      "\u001b[1m38/38\u001b[0m \u001b[32m━━━━━━━━━━━━━━━━━━━━\u001b[0m\u001b[37m\u001b[0m \u001b[1m0s\u001b[0m 5ms/step - loss: 7127.1421 - root_mean_squared_error: 83.9891 - val_loss: 13623.1777 - val_root_mean_squared_error: 116.7158\n",
      "Epoch 55/100\n",
      "\u001b[1m38/38\u001b[0m \u001b[32m━━━━━━━━━━━━━━━━━━━━\u001b[0m\u001b[37m\u001b[0m \u001b[1m0s\u001b[0m 5ms/step - loss: 7205.0132 - root_mean_squared_error: 84.8347 - val_loss: 13513.1963 - val_root_mean_squared_error: 116.2437\n",
      "Epoch 56/100\n",
      "\u001b[1m38/38\u001b[0m \u001b[32m━━━━━━━━━━━━━━━━━━━━\u001b[0m\u001b[37m\u001b[0m \u001b[1m0s\u001b[0m 5ms/step - loss: 6840.5479 - root_mean_squared_error: 82.2099 - val_loss: 12941.5400 - val_root_mean_squared_error: 113.7582\n",
      "Epoch 57/100\n",
      "\u001b[1m38/38\u001b[0m \u001b[32m━━━━━━━━━━━━━━━━━━━━\u001b[0m\u001b[37m\u001b[0m \u001b[1m0s\u001b[0m 5ms/step - loss: 7188.8013 - root_mean_squared_error: 84.6677 - val_loss: 12569.8896 - val_root_mean_squared_error: 112.1128\n",
      "Epoch 58/100\n",
      "\u001b[1m38/38\u001b[0m \u001b[32m━━━━━━━━━━━━━━━━━━━━\u001b[0m\u001b[37m\u001b[0m \u001b[1m0s\u001b[0m 5ms/step - loss: 6969.6367 - root_mean_squared_error: 83.2377 - val_loss: 11853.0312 - val_root_mean_squared_error: 108.8687\n",
      "Epoch 59/100\n",
      "\u001b[1m38/38\u001b[0m \u001b[32m━━━━━━━━━━━━━━━━━━━━\u001b[0m\u001b[37m\u001b[0m \u001b[1m0s\u001b[0m 5ms/step - loss: 7088.5708 - root_mean_squared_error: 84.0859 - val_loss: 13575.7090 - val_root_mean_squared_error: 116.5121\n",
      "Epoch 60/100\n",
      "\u001b[1m38/38\u001b[0m \u001b[32m━━━━━━━━━━━━━━━━━━━━\u001b[0m\u001b[37m\u001b[0m \u001b[1m0s\u001b[0m 5ms/step - loss: 6617.9053 - root_mean_squared_error: 81.1905 - val_loss: 12791.9248 - val_root_mean_squared_error: 113.0986\n",
      "Epoch 61/100\n",
      "\u001b[1m38/38\u001b[0m \u001b[32m━━━━━━━━━━━━━━━━━━━━\u001b[0m\u001b[37m\u001b[0m \u001b[1m0s\u001b[0m 5ms/step - loss: 7048.8926 - root_mean_squared_error: 83.7713 - val_loss: 12393.3350 - val_root_mean_squared_error: 111.3225\n",
      "Epoch 62/100\n",
      "\u001b[1m38/38\u001b[0m \u001b[32m━━━━━━━━━━━━━━━━━━━━\u001b[0m\u001b[37m\u001b[0m \u001b[1m0s\u001b[0m 5ms/step - loss: 8428.5107 - root_mean_squared_error: 91.5069 - val_loss: 13938.5059 - val_root_mean_squared_error: 118.0587\n",
      "Epoch 63/100\n",
      "\u001b[1m38/38\u001b[0m \u001b[32m━━━━━━━━━━━━━━━━━━━━\u001b[0m\u001b[37m\u001b[0m \u001b[1m0s\u001b[0m 5ms/step - loss: 6929.6353 - root_mean_squared_error: 82.8933 - val_loss: 13143.7510 - val_root_mean_squared_error: 114.6434\n",
      "Epoch 64/100\n",
      "\u001b[1m38/38\u001b[0m \u001b[32m━━━━━━━━━━━━━━━━━━━━\u001b[0m\u001b[37m\u001b[0m \u001b[1m0s\u001b[0m 5ms/step - loss: 6522.3335 - root_mean_squared_error: 80.4246 - val_loss: 12975.0938 - val_root_mean_squared_error: 113.9054\n",
      "Epoch 65/100\n",
      "\u001b[1m38/38\u001b[0m \u001b[32m━━━━━━━━━━━━━━━━━━━━\u001b[0m\u001b[37m\u001b[0m \u001b[1m0s\u001b[0m 5ms/step - loss: 7179.6221 - root_mean_squared_error: 84.5666 - val_loss: 13030.8174 - val_root_mean_squared_error: 114.1498\n",
      "Epoch 66/100\n",
      "\u001b[1m38/38\u001b[0m \u001b[32m━━━━━━━━━━━━━━━━━━━━\u001b[0m\u001b[37m\u001b[0m \u001b[1m0s\u001b[0m 5ms/step - loss: 6004.4878 - root_mean_squared_error: 77.1164 - val_loss: 12775.9834 - val_root_mean_squared_error: 113.0280\n",
      "Epoch 67/100\n",
      "\u001b[1m38/38\u001b[0m \u001b[32m━━━━━━━━━━━━━━━━━━━━\u001b[0m\u001b[37m\u001b[0m \u001b[1m0s\u001b[0m 5ms/step - loss: 7518.3296 - root_mean_squared_error: 86.5342 - val_loss: 12804.2314 - val_root_mean_squared_error: 113.1529\n",
      "Epoch 68/100\n",
      "\u001b[1m38/38\u001b[0m \u001b[32m━━━━━━━━━━━━━━━━━━━━\u001b[0m\u001b[37m\u001b[0m \u001b[1m0s\u001b[0m 5ms/step - loss: 6045.1973 - root_mean_squared_error: 76.9644 - val_loss: 12885.3301 - val_root_mean_squared_error: 113.5107\n",
      "Epoch 69/100\n",
      "\u001b[1m38/38\u001b[0m \u001b[32m━━━━━━━━━━━━━━━━━━━━\u001b[0m\u001b[37m\u001b[0m \u001b[1m0s\u001b[0m 5ms/step - loss: 7382.2104 - root_mean_squared_error: 85.8100 - val_loss: 12490.8750 - val_root_mean_squared_error: 111.7596\n",
      "Epoch 70/100\n",
      "\u001b[1m38/38\u001b[0m \u001b[32m━━━━━━━━━━━━━━━━━━━━\u001b[0m\u001b[37m\u001b[0m \u001b[1m0s\u001b[0m 5ms/step - loss: 8423.4375 - root_mean_squared_error: 91.5969 - val_loss: 13602.7197 - val_root_mean_squared_error: 116.6277\n",
      "Epoch 71/100\n",
      "\u001b[1m38/38\u001b[0m \u001b[32m━━━━━━━━━━━━━━━━━━━━\u001b[0m\u001b[37m\u001b[0m \u001b[1m0s\u001b[0m 5ms/step - loss: 7988.7231 - root_mean_squared_error: 89.2610 - val_loss: 13599.2051 - val_root_mean_squared_error: 116.6126\n",
      "Epoch 72/100\n",
      "\u001b[1m38/38\u001b[0m \u001b[32m━━━━━━━━━━━━━━━━━━━━\u001b[0m\u001b[37m\u001b[0m \u001b[1m0s\u001b[0m 5ms/step - loss: 7572.8389 - root_mean_squared_error: 86.6344 - val_loss: 13541.1025 - val_root_mean_squared_error: 116.3632\n",
      "Epoch 73/100\n",
      "\u001b[1m38/38\u001b[0m \u001b[32m━━━━━━━━━━━━━━━━━━━━\u001b[0m\u001b[37m\u001b[0m \u001b[1m0s\u001b[0m 5ms/step - loss: 6877.3799 - root_mean_squared_error: 82.7261 - val_loss: 13173.5215 - val_root_mean_squared_error: 114.7729\n",
      "Epoch 74/100\n",
      "\u001b[1m38/38\u001b[0m \u001b[32m━━━━━━━━━━━━━━━━━━━━\u001b[0m\u001b[37m\u001b[0m \u001b[1m0s\u001b[0m 5ms/step - loss: 7615.9727 - root_mean_squared_error: 87.1912 - val_loss: 13532.9004 - val_root_mean_squared_error: 116.3279\n",
      "Epoch 75/100\n",
      "\u001b[1m38/38\u001b[0m \u001b[32m━━━━━━━━━━━━━━━━━━━━\u001b[0m\u001b[37m\u001b[0m \u001b[1m0s\u001b[0m 5ms/step - loss: 7408.0103 - root_mean_squared_error: 85.9990 - val_loss: 13794.2734 - val_root_mean_squared_error: 117.4459\n",
      "Epoch 76/100\n",
      "\u001b[1m38/38\u001b[0m \u001b[32m━━━━━━━━━━━━━━━━━━━━\u001b[0m\u001b[37m\u001b[0m \u001b[1m0s\u001b[0m 5ms/step - loss: 7041.4546 - root_mean_squared_error: 83.8301 - val_loss: 13702.6533 - val_root_mean_squared_error: 117.0552\n",
      "Epoch 77/100\n",
      "\u001b[1m38/38\u001b[0m \u001b[32m━━━━━━━━━━━━━━━━━━━━\u001b[0m\u001b[37m\u001b[0m \u001b[1m0s\u001b[0m 5ms/step - loss: 7764.4556 - root_mean_squared_error: 87.8547 - val_loss: 13937.5361 - val_root_mean_squared_error: 118.0543\n",
      "Epoch 78/100\n",
      "\u001b[1m38/38\u001b[0m \u001b[32m━━━━━━━━━━━━━━━━━━━━\u001b[0m\u001b[37m\u001b[0m \u001b[1m0s\u001b[0m 5ms/step - loss: 7014.7773 - root_mean_squared_error: 83.5223 - val_loss: 14009.2734 - val_root_mean_squared_error: 118.3577\n",
      "Epoch 79/100\n",
      "\u001b[1m38/38\u001b[0m \u001b[32m━━━━━━━━━━━━━━━━━━━━\u001b[0m\u001b[37m\u001b[0m \u001b[1m0s\u001b[0m 5ms/step - loss: 7970.8647 - root_mean_squared_error: 88.9699 - val_loss: 13634.9639 - val_root_mean_squared_error: 116.7657\n",
      "Epoch 80/100\n",
      "\u001b[1m38/38\u001b[0m \u001b[32m━━━━━━━━━━━━━━━━━━━━\u001b[0m\u001b[37m\u001b[0m \u001b[1m0s\u001b[0m 5ms/step - loss: 7248.0044 - root_mean_squared_error: 84.9663 - val_loss: 13686.1592 - val_root_mean_squared_error: 116.9847\n",
      "Epoch 81/100\n",
      "\u001b[1m38/38\u001b[0m \u001b[32m━━━━━━━━━━━━━━━━━━━━\u001b[0m\u001b[37m\u001b[0m \u001b[1m0s\u001b[0m 5ms/step - loss: 7789.6064 - root_mean_squared_error: 88.2013 - val_loss: 13310.7617 - val_root_mean_squared_error: 115.3691\n",
      "Epoch 82/100\n",
      "\u001b[1m38/38\u001b[0m \u001b[32m━━━━━━━━━━━━━━━━━━━━\u001b[0m\u001b[37m\u001b[0m \u001b[1m0s\u001b[0m 5ms/step - loss: 7956.8887 - root_mean_squared_error: 89.0072 - val_loss: 13628.1055 - val_root_mean_squared_error: 116.7363\n",
      "Epoch 83/100\n",
      "\u001b[1m38/38\u001b[0m \u001b[32m━━━━━━━━━━━━━━━━━━━━\u001b[0m\u001b[37m\u001b[0m \u001b[1m0s\u001b[0m 5ms/step - loss: 7857.7031 - root_mean_squared_error: 88.3830 - val_loss: 13749.5498 - val_root_mean_squared_error: 117.2553\n",
      "Epoch 84/100\n",
      "\u001b[1m38/38\u001b[0m \u001b[32m━━━━━━━━━━━━━━━━━━━━\u001b[0m\u001b[37m\u001b[0m \u001b[1m0s\u001b[0m 5ms/step - loss: 7309.4702 - root_mean_squared_error: 85.4284 - val_loss: 12986.5186 - val_root_mean_squared_error: 113.9552\n",
      "Epoch 85/100\n",
      "\u001b[1m38/38\u001b[0m \u001b[32m━━━━━━━━━━━━━━━━━━━━\u001b[0m\u001b[37m\u001b[0m \u001b[1m0s\u001b[0m 5ms/step - loss: 6696.2754 - root_mean_squared_error: 81.4179 - val_loss: 12976.4473 - val_root_mean_squared_error: 113.9109\n",
      "Epoch 86/100\n",
      "\u001b[1m38/38\u001b[0m \u001b[32m━━━━━━━━━━━━━━━━━━━━\u001b[0m\u001b[37m\u001b[0m \u001b[1m0s\u001b[0m 5ms/step - loss: 7895.9688 - root_mean_squared_error: 88.5099 - val_loss: 13712.8135 - val_root_mean_squared_error: 117.0985\n",
      "Epoch 87/100\n",
      "\u001b[1m38/38\u001b[0m \u001b[32m━━━━━━━━━━━━━━━━━━━━\u001b[0m\u001b[37m\u001b[0m \u001b[1m0s\u001b[0m 5ms/step - loss: 6823.6177 - root_mean_squared_error: 82.4350 - val_loss: 13311.1592 - val_root_mean_squared_error: 115.3707\n",
      "Epoch 88/100\n",
      "\u001b[1m38/38\u001b[0m \u001b[32m━━━━━━━━━━━━━━━━━━━━\u001b[0m\u001b[37m\u001b[0m \u001b[1m0s\u001b[0m 5ms/step - loss: 7920.9756 - root_mean_squared_error: 88.8513 - val_loss: 13575.3662 - val_root_mean_squared_error: 116.5101\n",
      "Epoch 89/100\n",
      "\u001b[1m38/38\u001b[0m \u001b[32m━━━━━━━━━━━━━━━━━━━━\u001b[0m\u001b[37m\u001b[0m \u001b[1m0s\u001b[0m 5ms/step - loss: 7377.3462 - root_mean_squared_error: 85.7643 - val_loss: 13638.7861 - val_root_mean_squared_error: 116.7820\n",
      "Epoch 90/100\n",
      "\u001b[1m38/38\u001b[0m \u001b[32m━━━━━━━━━━━━━━━━━━━━\u001b[0m\u001b[37m\u001b[0m \u001b[1m0s\u001b[0m 5ms/step - loss: 7263.1426 - root_mean_squared_error: 85.1109 - val_loss: 14011.9736 - val_root_mean_squared_error: 118.3690\n",
      "Epoch 91/100\n",
      "\u001b[1m38/38\u001b[0m \u001b[32m━━━━━━━━━━━━━━━━━━━━\u001b[0m\u001b[37m\u001b[0m \u001b[1m0s\u001b[0m 6ms/step - loss: 7818.2178 - root_mean_squared_error: 88.2406 - val_loss: 13622.9912 - val_root_mean_squared_error: 116.7143\n",
      "Epoch 92/100\n",
      "\u001b[1m38/38\u001b[0m \u001b[32m━━━━━━━━━━━━━━━━━━━━\u001b[0m\u001b[37m\u001b[0m \u001b[1m0s\u001b[0m 5ms/step - loss: 6780.4487 - root_mean_squared_error: 81.8122 - val_loss: 14635.6035 - val_root_mean_squared_error: 120.9745\n",
      "Epoch 93/100\n",
      "\u001b[1m38/38\u001b[0m \u001b[32m━━━━━━━━━━━━━━━━━━━━\u001b[0m\u001b[37m\u001b[0m \u001b[1m0s\u001b[0m 5ms/step - loss: 7985.7051 - root_mean_squared_error: 89.1299 - val_loss: 13813.6611 - val_root_mean_squared_error: 117.5283\n",
      "Epoch 94/100\n",
      "\u001b[1m38/38\u001b[0m \u001b[32m━━━━━━━━━━━━━━━━━━━━\u001b[0m\u001b[37m\u001b[0m \u001b[1m0s\u001b[0m 5ms/step - loss: 7383.5645 - root_mean_squared_error: 85.7495 - val_loss: 13580.4873 - val_root_mean_squared_error: 116.5320\n",
      "Epoch 95/100\n",
      "\u001b[1m38/38\u001b[0m \u001b[32m━━━━━━━━━━━━━━━━━━━━\u001b[0m\u001b[37m\u001b[0m \u001b[1m0s\u001b[0m 5ms/step - loss: 8035.0391 - root_mean_squared_error: 89.0835 - val_loss: 13395.8613 - val_root_mean_squared_error: 115.7371\n",
      "Epoch 96/100\n",
      "\u001b[1m38/38\u001b[0m \u001b[32m━━━━━━━━━━━━━━━━━━━━\u001b[0m\u001b[37m\u001b[0m \u001b[1m0s\u001b[0m 5ms/step - loss: 6895.3701 - root_mean_squared_error: 82.9624 - val_loss: 12863.3125 - val_root_mean_squared_error: 113.4131\n",
      "Epoch 97/100\n",
      "\u001b[1m38/38\u001b[0m \u001b[32m━━━━━━━━━━━━━━━━━━━━\u001b[0m\u001b[37m\u001b[0m \u001b[1m0s\u001b[0m 5ms/step - loss: 7866.5244 - root_mean_squared_error: 88.4638 - val_loss: 13243.0439 - val_root_mean_squared_error: 115.0750\n",
      "Epoch 98/100\n",
      "\u001b[1m38/38\u001b[0m \u001b[32m━━━━━━━━━━━━━━━━━━━━\u001b[0m\u001b[37m\u001b[0m \u001b[1m0s\u001b[0m 5ms/step - loss: 6718.9985 - root_mean_squared_error: 81.5567 - val_loss: 13833.4111 - val_root_mean_squared_error: 117.6122\n",
      "Epoch 99/100\n",
      "\u001b[1m38/38\u001b[0m \u001b[32m━━━━━━━━━━━━━━━━━━━━\u001b[0m\u001b[37m\u001b[0m \u001b[1m0s\u001b[0m 5ms/step - loss: 7302.3159 - root_mean_squared_error: 85.3457 - val_loss: 13404.6279 - val_root_mean_squared_error: 115.7750\n",
      "Epoch 100/100\n",
      "\u001b[1m38/38\u001b[0m \u001b[32m━━━━━━━━━━━━━━━━━━━━\u001b[0m\u001b[37m\u001b[0m \u001b[1m0s\u001b[0m 5ms/step - loss: 7545.3813 - root_mean_squared_error: 86.8159 - val_loss: 13465.4873 - val_root_mean_squared_error: 116.0375\n"
     ]
    },
    {
     "data": {
      "text/plain": [
       "<keras.src.callbacks.history.History at 0x7f3caf218c40>"
      ]
     },
     "execution_count": 39,
     "metadata": {},
     "output_type": "execute_result"
    }
   ],
   "source": [
    "model5.fit(X_train1, y_train1, validation_data=(X_val1, y_val1), epochs=100, \n",
    "           callbacks=[cp5])"
   ]
  }
 ],
 "metadata": {
  "kaggle": {
   "accelerator": "none",
   "dataSources": [
    {
     "datasetId": 6367419,
     "sourceId": 10288721,
     "sourceType": "datasetVersion"
    }
   ],
   "dockerImageVersionId": 30822,
   "isGpuEnabled": false,
   "isInternetEnabled": false,
   "language": "python",
   "sourceType": "notebook"
  },
  "kernelspec": {
   "display_name": "Python 3",
   "language": "python",
   "name": "python3"
  },
  "language_info": {
   "codemirror_mode": {
    "name": "ipython",
    "version": 3
   },
   "file_extension": ".py",
   "mimetype": "text/x-python",
   "name": "python",
   "nbconvert_exporter": "python",
   "pygments_lexer": "ipython3",
   "version": "3.10.12"
  },
  "papermill": {
   "default_parameters": {},
   "duration": 133.688854,
   "end_time": "2024-12-30T03:03:34.560592",
   "environment_variables": {},
   "exception": null,
   "input_path": "__notebook__.ipynb",
   "output_path": "__notebook__.ipynb",
   "parameters": {},
   "start_time": "2024-12-30T03:01:20.871738",
   "version": "2.6.0"
  }
 },
 "nbformat": 4,
 "nbformat_minor": 5
}
