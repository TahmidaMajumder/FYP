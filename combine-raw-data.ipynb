{
 "cells": [
  {
   "cell_type": "markdown",
   "id": "b6a377a6",
   "metadata": {
    "id": "gkLCIjIYqlP_",
    "papermill": {
     "duration": 0.040095,
     "end_time": "2024-12-31T12:06:04.157012",
     "exception": false,
     "start_time": "2024-12-31T12:06:04.116917",
     "status": "completed"
    },
    "tags": []
   },
   "source": [
    "**About the dataset**\n",
    "\n",
    "WAQI project data-set is updated 3 times a day, and covering about 380 major cities in the world.\n",
    "\n",
    "The data for each major cities is based on the average (median) of several stations. The data set provides min, max, median and standard deviation for each of the air pollutant species (PM2.5,PM10, Ozone ...) as well as meteorological data (Wind, Temperature, ...).\n",
    "\n",
    "All air pollutant species are converted to the US EPA standard (i.e. no raw concentrations). All dates are UTC based.\n",
    "\n",
    "The count column is the number of samples used for calculating the median and standard deviation.\n",
    "\n",
    "The city-median value is computed per day using all AQI values for available stations.\n",
    "\n",
    "More Info: https://aqicn.org/data-platform/covid19/"
   ]
  },
  {
   "cell_type": "markdown",
   "id": "9b732ca3",
   "metadata": {
    "id": "ZAGE3N7_rCRw",
    "papermill": {
     "duration": 0.036692,
     "end_time": "2024-12-31T12:06:04.231658",
     "exception": false,
     "start_time": "2024-12-31T12:06:04.194966",
     "status": "completed"
    },
    "tags": []
   },
   "source": [
    "**WORKING STEPS OF THE WITH DATASET**\n",
    "\n",
    "\n",
    "1.   Group the content of the dataset based on date, country and city(4 dataset separately)\n",
    "\n",
    "*   Each unique specie will become new column\n",
    "*   Values of species if found duplicate max value all be assigned among the values\n",
    "\n",
    "\n",
    "2.   Combine 4 dataframe into one\n",
    "3.   Export the combine dataset\n",
    "\n",
    "***Additional Information***\n",
    "\n",
    "01/01/2024 - 31-12-2024\n",
    "\n",
    "\n",
    "Dataset 1 starting and end date(mm/dd/yyyy) : 12/26/2022-4/2/2023\n",
    "\n",
    "Dataset 2 starting and end date(mm/dd/yyyy) : 3/27/2023-7/2/2023\n",
    "\n",
    "Dataset 3 starting and end date(mm/dd/yyyy) : 6/26/2023-10/1/2023\n",
    "\n",
    "Dataset 4 starting and end date(mm/dd/yyyy) : 9/25/2023-12/31/2023\n",
    "\n",
    "\n",
    "2023:\n",
    "\n",
    "12/26/2022-4/2/2023\n",
    "\n",
    "3/27/2023-7/2/2023\n",
    "\n",
    "6/26/2023-10/1/2023\n",
    "\n",
    "9/25/2023-12/31/2023\n",
    "\n",
    "2022:\n",
    "\n",
    "3/28/2022-7/3/2022\n",
    "\n",
    "6/27/2022-10/2/2022\n",
    "\n",
    "9/26/2022-1/1/2023\n",
    "\n",
    "2021:\n",
    "\n",
    "12/28/2020-4/4/2021\n",
    "\n",
    "3/29/2021-7/4/2021\n",
    "\n",
    "6/28/2021-10/3/2021\n",
    "\n",
    "9/27/2021-1/2/2022\n",
    "\n",
    "2020:\n",
    "\n",
    "12/30/2019-4/5/2020\n",
    "\n",
    "3/30/2020-7/5/2020\n",
    "\n",
    "6/29/2020-10/4/2020\n",
    "\n",
    "9/28/2020-1/3/2021\n",
    "\n",
    "2019:\n",
    "\n",
    "12/31/2018-3/31/2019\n",
    "\n",
    "4/1/2019-6/30/2019\n",
    "\n",
    "7/1/2019-10/6/2019\n",
    "\n",
    "9/30/2019-1/5/2020\n",
    "\n",
    "2018:\n",
    "\n",
    "1/1/2018-7/1/2018\n",
    "\n",
    "2017:\n",
    "\n",
    "12/26/2016-7/2/2017\n",
    "\n",
    "2016:\n",
    "\n",
    "12/28/2015-7/3/2016\n",
    "\n",
    "2015:\n",
    "\n",
    "12/29/2014-7/5/2015\n",
    "\n"
   ]
  },
  {
   "cell_type": "code",
   "execution_count": 1,
   "id": "103733b7",
   "metadata": {
    "execution": {
     "iopub.execute_input": "2024-12-31T12:06:04.306024Z",
     "iopub.status.busy": "2024-12-31T12:06:04.305583Z",
     "iopub.status.idle": "2024-12-31T12:06:04.693091Z",
     "shell.execute_reply": "2024-12-31T12:06:04.692096Z"
    },
    "id": "avxZMh6YjPCn",
    "papermill": {
     "duration": 0.426847,
     "end_time": "2024-12-31T12:06:04.695098",
     "exception": false,
     "start_time": "2024-12-31T12:06:04.268251",
     "status": "completed"
    },
    "tags": []
   },
   "outputs": [],
   "source": [
    "import pandas as pd\n",
    "import numpy as np"
   ]
  },
  {
   "cell_type": "markdown",
   "id": "752d9fa3",
   "metadata": {
    "id": "l1bJgJpbVwf5",
    "papermill": {
     "duration": 0.036763,
     "end_time": "2024-12-31T12:06:04.769405",
     "exception": false,
     "start_time": "2024-12-31T12:06:04.732642",
     "status": "completed"
    },
    "tags": []
   },
   "source": [
    "# 2024"
   ]
  },
  {
   "cell_type": "code",
   "execution_count": 2,
   "id": "d388a5d7",
   "metadata": {
    "execution": {
     "iopub.execute_input": "2024-12-31T12:06:04.842959Z",
     "iopub.status.busy": "2024-12-31T12:06:04.842478Z",
     "iopub.status.idle": "2024-12-31T12:06:05.934842Z",
     "shell.execute_reply": "2024-12-31T12:06:05.933878Z"
    },
    "papermill": {
     "duration": 1.130647,
     "end_time": "2024-12-31T12:06:05.936245",
     "exception": false,
     "start_time": "2024-12-31T12:06:04.805598",
     "status": "completed"
    },
    "tags": []
   },
   "outputs": [
    {
     "name": "stdout",
     "output_type": "stream",
     "text": [
      "(1048571, 5)\n"
     ]
    },
    {
     "data": {
      "text/html": [
       "<div>\n",
       "<style scoped>\n",
       "    .dataframe tbody tr th:only-of-type {\n",
       "        vertical-align: middle;\n",
       "    }\n",
       "\n",
       "    .dataframe tbody tr th {\n",
       "        vertical-align: top;\n",
       "    }\n",
       "\n",
       "    .dataframe thead th {\n",
       "        text-align: right;\n",
       "    }\n",
       "</style>\n",
       "<table border=\"1\" class=\"dataframe\">\n",
       "  <thead>\n",
       "    <tr style=\"text-align: right;\">\n",
       "      <th></th>\n",
       "      <th>Date</th>\n",
       "      <th>Country</th>\n",
       "      <th>City</th>\n",
       "      <th>Specie</th>\n",
       "      <th>max</th>\n",
       "    </tr>\n",
       "  </thead>\n",
       "  <tbody>\n",
       "    <tr>\n",
       "      <th>0</th>\n",
       "      <td>4/15/2024</td>\n",
       "      <td>JP</td>\n",
       "      <td>Fukuoka</td>\n",
       "      <td>o3</td>\n",
       "      <td>46.5</td>\n",
       "    </tr>\n",
       "    <tr>\n",
       "      <th>1</th>\n",
       "      <td>4/20/2024</td>\n",
       "      <td>JP</td>\n",
       "      <td>Fukuoka</td>\n",
       "      <td>o3</td>\n",
       "      <td>45.6</td>\n",
       "    </tr>\n",
       "    <tr>\n",
       "      <th>2</th>\n",
       "      <td>1/31/2024</td>\n",
       "      <td>JP</td>\n",
       "      <td>Fukuoka</td>\n",
       "      <td>o3</td>\n",
       "      <td>36.8</td>\n",
       "    </tr>\n",
       "    <tr>\n",
       "      <th>3</th>\n",
       "      <td>2/25/2024</td>\n",
       "      <td>JP</td>\n",
       "      <td>Fukuoka</td>\n",
       "      <td>o3</td>\n",
       "      <td>37.6</td>\n",
       "    </tr>\n",
       "    <tr>\n",
       "      <th>4</th>\n",
       "      <td>8/9/2024</td>\n",
       "      <td>JP</td>\n",
       "      <td>Fukuoka</td>\n",
       "      <td>o3</td>\n",
       "      <td>101.5</td>\n",
       "    </tr>\n",
       "  </tbody>\n",
       "</table>\n",
       "</div>"
      ],
      "text/plain": [
       "        Date Country     City Specie    max\n",
       "0  4/15/2024      JP  Fukuoka     o3   46.5\n",
       "1  4/20/2024      JP  Fukuoka     o3   45.6\n",
       "2  1/31/2024      JP  Fukuoka     o3   36.8\n",
       "3  2/25/2024      JP  Fukuoka     o3   37.6\n",
       "4   8/9/2024      JP  Fukuoka     o3  101.5"
      ]
     },
     "execution_count": 2,
     "metadata": {},
     "output_type": "execute_result"
    }
   ],
   "source": [
    "# Load the dataset into a DataFrame\n",
    "raw_data_2024 = pd.read_csv(r'/kaggle/input/raw-data/airqualitydata-2024.csv')\n",
    "\n",
    "# print the shape\n",
    "print(raw_data_2024.shape)\n",
    "\n",
    "#runs the first 5 rows\n",
    "raw_data_2024.head()"
   ]
  },
  {
   "cell_type": "code",
   "execution_count": 3,
   "id": "22ef71e1",
   "metadata": {
    "execution": {
     "iopub.execute_input": "2024-12-31T12:06:06.012534Z",
     "iopub.status.busy": "2024-12-31T12:06:06.012145Z",
     "iopub.status.idle": "2024-12-31T12:06:08.564585Z",
     "shell.execute_reply": "2024-12-31T12:06:08.563477Z"
    },
    "id": "O6AgwvutU_wH",
    "papermill": {
     "duration": 2.593666,
     "end_time": "2024-12-31T12:06:08.566574",
     "exception": false,
     "start_time": "2024-12-31T12:06:05.972908",
     "status": "completed"
    },
    "tags": []
   },
   "outputs": [],
   "source": [
    "# Convert 'Date' to datetime\n",
    "raw_data_2024['Date'] = pd.to_datetime(raw_data_2024['Date'])"
   ]
  },
  {
   "cell_type": "code",
   "execution_count": 4,
   "id": "7e188773",
   "metadata": {
    "execution": {
     "iopub.execute_input": "2024-12-31T12:06:08.645280Z",
     "iopub.status.busy": "2024-12-31T12:06:08.644915Z",
     "iopub.status.idle": "2024-12-31T12:06:08.650820Z",
     "shell.execute_reply": "2024-12-31T12:06:08.649778Z"
    },
    "executionInfo": {
     "elapsed": 14,
     "status": "ok",
     "timestamp": 1734445417435,
     "user": {
      "displayName": "Tahmida Majumder",
      "userId": "15415648085337204568"
     },
     "user_tz": -480
    },
    "id": "BYUTr5WOU_wH",
    "outputId": "f7341c48-836b-4c19-cd26-b07d7752136b",
    "papermill": {
     "duration": 0.046886,
     "end_time": "2024-12-31T12:06:08.652417",
     "exception": false,
     "start_time": "2024-12-31T12:06:08.605531",
     "status": "completed"
    },
    "tags": []
   },
   "outputs": [
    {
     "data": {
      "text/plain": [
       "(1048571, 5)"
      ]
     },
     "execution_count": 4,
     "metadata": {},
     "output_type": "execute_result"
    }
   ],
   "source": [
    "raw_data_2024.shape"
   ]
  },
  {
   "cell_type": "code",
   "execution_count": 5,
   "id": "b3da2a4b",
   "metadata": {
    "execution": {
     "iopub.execute_input": "2024-12-31T12:06:08.782010Z",
     "iopub.status.busy": "2024-12-31T12:06:08.781646Z",
     "iopub.status.idle": "2024-12-31T12:06:09.673579Z",
     "shell.execute_reply": "2024-12-31T12:06:09.672470Z"
    },
    "id": "vDVgKgQFU_wH",
    "papermill": {
     "duration": 0.985356,
     "end_time": "2024-12-31T12:06:09.675500",
     "exception": false,
     "start_time": "2024-12-31T12:06:08.690144",
     "status": "completed"
    },
    "tags": []
   },
   "outputs": [],
   "source": [
    "# Pivot the data\n",
    "data_df_2024 = raw_data_2024.pivot_table(\n",
    "    index=['Date', 'Country', 'City'],  # Grouping columns\n",
    "    columns='Specie',                  # Unique values become columns\n",
    "    values='max',                   # Values to aggregate\n",
    "    aggfunc='mean'                     # Aggregation function\n",
    ").reset_index()"
   ]
  },
  {
   "cell_type": "code",
   "execution_count": 6,
   "id": "81c9df67",
   "metadata": {
    "execution": {
     "iopub.execute_input": "2024-12-31T12:06:09.753575Z",
     "iopub.status.busy": "2024-12-31T12:06:09.753167Z",
     "iopub.status.idle": "2024-12-31T12:06:09.775633Z",
     "shell.execute_reply": "2024-12-31T12:06:09.774498Z"
    },
    "executionInfo": {
     "elapsed": 8,
     "status": "ok",
     "timestamp": 1734445418344,
     "user": {
      "displayName": "Tahmida Majumder",
      "userId": "15415648085337204568"
     },
     "user_tz": -480
    },
    "id": "eR6ZzK3RU_wH",
    "outputId": "493998b8-a5fc-46bc-b2b2-4230e483fddf",
    "papermill": {
     "duration": 0.062905,
     "end_time": "2024-12-31T12:06:09.777343",
     "exception": false,
     "start_time": "2024-12-31T12:06:09.714438",
     "status": "completed"
    },
    "tags": []
   },
   "outputs": [
    {
     "name": "stdout",
     "output_type": "stream",
     "text": [
      "(102587, 19)\n"
     ]
    },
    {
     "data": {
      "text/html": [
       "<div>\n",
       "<style scoped>\n",
       "    .dataframe tbody tr th:only-of-type {\n",
       "        vertical-align: middle;\n",
       "    }\n",
       "\n",
       "    .dataframe tbody tr th {\n",
       "        vertical-align: top;\n",
       "    }\n",
       "\n",
       "    .dataframe thead th {\n",
       "        text-align: right;\n",
       "    }\n",
       "</style>\n",
       "<table border=\"1\" class=\"dataframe\">\n",
       "  <thead>\n",
       "    <tr style=\"text-align: right;\">\n",
       "      <th>Specie</th>\n",
       "      <th>Date</th>\n",
       "      <th>Country</th>\n",
       "      <th>City</th>\n",
       "      <th>co</th>\n",
       "      <th>dew</th>\n",
       "      <th>humidity</th>\n",
       "      <th>neph</th>\n",
       "      <th>no2</th>\n",
       "      <th>o3</th>\n",
       "      <th>pm10</th>\n",
       "      <th>pm25</th>\n",
       "      <th>precipitation</th>\n",
       "      <th>pressure</th>\n",
       "      <th>so2</th>\n",
       "      <th>temperature</th>\n",
       "      <th>uvi</th>\n",
       "      <th>wd</th>\n",
       "      <th>wind-gust</th>\n",
       "      <th>wind-speed</th>\n",
       "    </tr>\n",
       "  </thead>\n",
       "  <tbody>\n",
       "    <tr>\n",
       "      <th>0</th>\n",
       "      <td>2024-01-01</td>\n",
       "      <td>AE</td>\n",
       "      <td>Abu Dhabi</td>\n",
       "      <td>0.1</td>\n",
       "      <td>20.0</td>\n",
       "      <td>88.0</td>\n",
       "      <td>NaN</td>\n",
       "      <td>31.3</td>\n",
       "      <td>39.9</td>\n",
       "      <td>57.0</td>\n",
       "      <td>87.0</td>\n",
       "      <td>NaN</td>\n",
       "      <td>1019.0</td>\n",
       "      <td>11.5</td>\n",
       "      <td>232.0</td>\n",
       "      <td>NaN</td>\n",
       "      <td>NaN</td>\n",
       "      <td>NaN</td>\n",
       "      <td>6.6</td>\n",
       "    </tr>\n",
       "    <tr>\n",
       "      <th>1</th>\n",
       "      <td>2024-01-01</td>\n",
       "      <td>AE</td>\n",
       "      <td>Dubai</td>\n",
       "      <td>18.5</td>\n",
       "      <td>20.0</td>\n",
       "      <td>88.0</td>\n",
       "      <td>NaN</td>\n",
       "      <td>25.2</td>\n",
       "      <td>39.9</td>\n",
       "      <td>77.0</td>\n",
       "      <td>151.0</td>\n",
       "      <td>NaN</td>\n",
       "      <td>1019.0</td>\n",
       "      <td>19.1</td>\n",
       "      <td>27.0</td>\n",
       "      <td>NaN</td>\n",
       "      <td>NaN</td>\n",
       "      <td>NaN</td>\n",
       "      <td>6.6</td>\n",
       "    </tr>\n",
       "    <tr>\n",
       "      <th>2</th>\n",
       "      <td>2024-01-01</td>\n",
       "      <td>AR</td>\n",
       "      <td>Buenos Aires</td>\n",
       "      <td>4.7</td>\n",
       "      <td>19.0</td>\n",
       "      <td>82.6</td>\n",
       "      <td>NaN</td>\n",
       "      <td>7.4</td>\n",
       "      <td>16.7</td>\n",
       "      <td>29.0</td>\n",
       "      <td>59.0</td>\n",
       "      <td>99.0</td>\n",
       "      <td>1014.6</td>\n",
       "      <td>6.6</td>\n",
       "      <td>28.7</td>\n",
       "      <td>NaN</td>\n",
       "      <td>157.5</td>\n",
       "      <td>17.0</td>\n",
       "      <td>9.8</td>\n",
       "    </tr>\n",
       "    <tr>\n",
       "      <th>3</th>\n",
       "      <td>2024-01-01</td>\n",
       "      <td>AU</td>\n",
       "      <td>Adelaide</td>\n",
       "      <td>2.6</td>\n",
       "      <td>16.9</td>\n",
       "      <td>82.3</td>\n",
       "      <td>NaN</td>\n",
       "      <td>10.6</td>\n",
       "      <td>13.0</td>\n",
       "      <td>27.0</td>\n",
       "      <td>72.0</td>\n",
       "      <td>NaN</td>\n",
       "      <td>1017.8</td>\n",
       "      <td>0.6</td>\n",
       "      <td>29.3</td>\n",
       "      <td>NaN</td>\n",
       "      <td>NaN</td>\n",
       "      <td>18.7</td>\n",
       "      <td>13.0</td>\n",
       "    </tr>\n",
       "    <tr>\n",
       "      <th>4</th>\n",
       "      <td>2024-01-01</td>\n",
       "      <td>AU</td>\n",
       "      <td>Brisbane</td>\n",
       "      <td>2.1</td>\n",
       "      <td>22.0</td>\n",
       "      <td>100.0</td>\n",
       "      <td>NaN</td>\n",
       "      <td>9.6</td>\n",
       "      <td>15.1</td>\n",
       "      <td>46.0</td>\n",
       "      <td>98.0</td>\n",
       "      <td>23.5</td>\n",
       "      <td>1019.2</td>\n",
       "      <td>0.6</td>\n",
       "      <td>25.3</td>\n",
       "      <td>NaN</td>\n",
       "      <td>265.0</td>\n",
       "      <td>16.7</td>\n",
       "      <td>6.7</td>\n",
       "    </tr>\n",
       "  </tbody>\n",
       "</table>\n",
       "</div>"
      ],
      "text/plain": [
       "Specie       Date Country          City    co   dew  humidity  neph   no2  \\\n",
       "0      2024-01-01      AE     Abu Dhabi   0.1  20.0      88.0   NaN  31.3   \n",
       "1      2024-01-01      AE         Dubai  18.5  20.0      88.0   NaN  25.2   \n",
       "2      2024-01-01      AR  Buenos Aires   4.7  19.0      82.6   NaN   7.4   \n",
       "3      2024-01-01      AU      Adelaide   2.6  16.9      82.3   NaN  10.6   \n",
       "4      2024-01-01      AU      Brisbane   2.1  22.0     100.0   NaN   9.6   \n",
       "\n",
       "Specie    o3  pm10   pm25  precipitation  pressure   so2  temperature  uvi  \\\n",
       "0       39.9  57.0   87.0            NaN    1019.0  11.5        232.0  NaN   \n",
       "1       39.9  77.0  151.0            NaN    1019.0  19.1         27.0  NaN   \n",
       "2       16.7  29.0   59.0           99.0    1014.6   6.6         28.7  NaN   \n",
       "3       13.0  27.0   72.0            NaN    1017.8   0.6         29.3  NaN   \n",
       "4       15.1  46.0   98.0           23.5    1019.2   0.6         25.3  NaN   \n",
       "\n",
       "Specie     wd  wind-gust  wind-speed  \n",
       "0         NaN        NaN         6.6  \n",
       "1         NaN        NaN         6.6  \n",
       "2       157.5       17.0         9.8  \n",
       "3         NaN       18.7        13.0  \n",
       "4       265.0       16.7         6.7  "
      ]
     },
     "execution_count": 6,
     "metadata": {},
     "output_type": "execute_result"
    }
   ],
   "source": [
    "print(data_df_2024.shape)\n",
    "data_df_2024.head()"
   ]
  },
  {
   "cell_type": "code",
   "execution_count": 7,
   "id": "81026c7e",
   "metadata": {
    "execution": {
     "iopub.execute_input": "2024-12-31T12:06:09.862209Z",
     "iopub.status.busy": "2024-12-31T12:06:09.861805Z",
     "iopub.status.idle": "2024-12-31T12:06:09.889321Z",
     "shell.execute_reply": "2024-12-31T12:06:09.887912Z"
    },
    "executionInfo": {
     "elapsed": 7,
     "status": "ok",
     "timestamp": 1734445418344,
     "user": {
      "displayName": "Tahmida Majumder",
      "userId": "15415648085337204568"
     },
     "user_tz": -480
    },
    "id": "KZi3vcfqU_wH",
    "outputId": "6c69afaa-9d12-40da-b88a-92ed834ee111",
    "papermill": {
     "duration": 0.077064,
     "end_time": "2024-12-31T12:06:09.891590",
     "exception": false,
     "start_time": "2024-12-31T12:06:09.814526",
     "status": "completed"
    },
    "tags": []
   },
   "outputs": [
    {
     "data": {
      "text/plain": [
       "Specie\n",
       "Date                  0\n",
       "Country               0\n",
       "City                  0\n",
       "co                38018\n",
       "dew               18857\n",
       "humidity           1629\n",
       "neph             101856\n",
       "no2               20465\n",
       "o3                21114\n",
       "pm10              17223\n",
       "pm25              10041\n",
       "precipitation     84216\n",
       "pressure           1325\n",
       "so2               33676\n",
       "temperature        1483\n",
       "uvi               98902\n",
       "wd                95138\n",
       "wind-gust         46109\n",
       "wind-speed         2769\n",
       "dtype: int64"
      ]
     },
     "execution_count": 7,
     "metadata": {},
     "output_type": "execute_result"
    }
   ],
   "source": [
    "data_df_2024.isnull().sum()"
   ]
  },
  {
   "cell_type": "markdown",
   "id": "abbbad34",
   "metadata": {
    "id": "TK5W8oRPV2sQ",
    "papermill": {
     "duration": 0.040043,
     "end_time": "2024-12-31T12:06:09.975354",
     "exception": false,
     "start_time": "2024-12-31T12:06:09.935311",
     "status": "completed"
    },
    "tags": []
   },
   "source": [
    "# 2023_Q1"
   ]
  },
  {
   "cell_type": "code",
   "execution_count": 8,
   "id": "d98301d7",
   "metadata": {
    "execution": {
     "iopub.execute_input": "2024-12-31T12:06:10.103823Z",
     "iopub.status.busy": "2024-12-31T12:06:10.103397Z",
     "iopub.status.idle": "2024-12-31T12:06:10.639966Z",
     "shell.execute_reply": "2024-12-31T12:06:10.638888Z"
    },
    "executionInfo": {
     "elapsed": 1444,
     "status": "ok",
     "timestamp": 1734445419782,
     "user": {
      "displayName": "Tahmida Majumder",
      "userId": "15415648085337204568"
     },
     "user_tz": -480
    },
    "id": "lJK9ahVCjTGd",
    "outputId": "38a9d229-7253-4f6e-ccaa-14e12d6cdfbd",
    "papermill": {
     "duration": 0.606373,
     "end_time": "2024-12-31T12:06:10.641595",
     "exception": false,
     "start_time": "2024-12-31T12:06:10.035222",
     "status": "completed"
    },
    "tags": []
   },
   "outputs": [
    {
     "name": "stdout",
     "output_type": "stream",
     "text": [
      "(553335, 5)\n"
     ]
    },
    {
     "data": {
      "text/html": [
       "<div>\n",
       "<style scoped>\n",
       "    .dataframe tbody tr th:only-of-type {\n",
       "        vertical-align: middle;\n",
       "    }\n",
       "\n",
       "    .dataframe tbody tr th {\n",
       "        vertical-align: top;\n",
       "    }\n",
       "\n",
       "    .dataframe thead th {\n",
       "        text-align: right;\n",
       "    }\n",
       "</style>\n",
       "<table border=\"1\" class=\"dataframe\">\n",
       "  <thead>\n",
       "    <tr style=\"text-align: right;\">\n",
       "      <th></th>\n",
       "      <th>Date</th>\n",
       "      <th>Country</th>\n",
       "      <th>City</th>\n",
       "      <th>Specie</th>\n",
       "      <th>max</th>\n",
       "    </tr>\n",
       "  </thead>\n",
       "  <tbody>\n",
       "    <tr>\n",
       "      <th>0</th>\n",
       "      <td>4/1/2023</td>\n",
       "      <td>BH</td>\n",
       "      <td>Manama</td>\n",
       "      <td>pressure</td>\n",
       "      <td>1016.2</td>\n",
       "    </tr>\n",
       "    <tr>\n",
       "      <th>1</th>\n",
       "      <td>4/2/2023</td>\n",
       "      <td>BH</td>\n",
       "      <td>Manama</td>\n",
       "      <td>pressure</td>\n",
       "      <td>1017.4</td>\n",
       "    </tr>\n",
       "    <tr>\n",
       "      <th>2</th>\n",
       "      <td>3/27/2023</td>\n",
       "      <td>BH</td>\n",
       "      <td>Manama</td>\n",
       "      <td>pressure</td>\n",
       "      <td>1012.1</td>\n",
       "    </tr>\n",
       "    <tr>\n",
       "      <th>3</th>\n",
       "      <td>3/28/2023</td>\n",
       "      <td>BH</td>\n",
       "      <td>Manama</td>\n",
       "      <td>pressure</td>\n",
       "      <td>1015.2</td>\n",
       "    </tr>\n",
       "    <tr>\n",
       "      <th>4</th>\n",
       "      <td>3/29/2023</td>\n",
       "      <td>BH</td>\n",
       "      <td>Manama</td>\n",
       "      <td>pressure</td>\n",
       "      <td>1016.1</td>\n",
       "    </tr>\n",
       "    <tr>\n",
       "      <th>5</th>\n",
       "      <td>3/30/2023</td>\n",
       "      <td>BH</td>\n",
       "      <td>Manama</td>\n",
       "      <td>pressure</td>\n",
       "      <td>1014.4</td>\n",
       "    </tr>\n",
       "    <tr>\n",
       "      <th>6</th>\n",
       "      <td>3/31/2023</td>\n",
       "      <td>BH</td>\n",
       "      <td>Manama</td>\n",
       "      <td>pressure</td>\n",
       "      <td>1010.5</td>\n",
       "    </tr>\n",
       "    <tr>\n",
       "      <th>7</th>\n",
       "      <td>4/2/2023</td>\n",
       "      <td>BH</td>\n",
       "      <td>Manama</td>\n",
       "      <td>pm25</td>\n",
       "      <td>38.0</td>\n",
       "    </tr>\n",
       "    <tr>\n",
       "      <th>8</th>\n",
       "      <td>3/27/2023</td>\n",
       "      <td>BH</td>\n",
       "      <td>Manama</td>\n",
       "      <td>temperature</td>\n",
       "      <td>25.8</td>\n",
       "    </tr>\n",
       "    <tr>\n",
       "      <th>9</th>\n",
       "      <td>3/28/2023</td>\n",
       "      <td>BH</td>\n",
       "      <td>Manama</td>\n",
       "      <td>temperature</td>\n",
       "      <td>26.6</td>\n",
       "    </tr>\n",
       "  </tbody>\n",
       "</table>\n",
       "</div>"
      ],
      "text/plain": [
       "        Date Country    City       Specie     max\n",
       "0   4/1/2023      BH  Manama     pressure  1016.2\n",
       "1   4/2/2023      BH  Manama     pressure  1017.4\n",
       "2  3/27/2023      BH  Manama     pressure  1012.1\n",
       "3  3/28/2023      BH  Manama     pressure  1015.2\n",
       "4  3/29/2023      BH  Manama     pressure  1016.1\n",
       "5  3/30/2023      BH  Manama     pressure  1014.4\n",
       "6  3/31/2023      BH  Manama     pressure  1010.5\n",
       "7   4/2/2023      BH  Manama         pm25    38.0\n",
       "8  3/27/2023      BH  Manama  temperature    25.8\n",
       "9  3/28/2023      BH  Manama  temperature    26.6"
      ]
     },
     "execution_count": 8,
     "metadata": {},
     "output_type": "execute_result"
    }
   ],
   "source": [
    "# Loading the data\n",
    "raw_data_2023_Q1 = pd.read_csv(r\"/kaggle/input/raw-data/airqualitydata-2023Q1.csv\")\n",
    "\n",
    "# print the shape\n",
    "print(raw_data_2023_Q1.shape)\n",
    "\n",
    "#runs the first 5 rows\n",
    "raw_data_2023_Q1.head(10)"
   ]
  },
  {
   "cell_type": "code",
   "execution_count": 9,
   "id": "e6b677e0",
   "metadata": {
    "execution": {
     "iopub.execute_input": "2024-12-31T12:06:10.719762Z",
     "iopub.status.busy": "2024-12-31T12:06:10.719368Z",
     "iopub.status.idle": "2024-12-31T12:06:10.798215Z",
     "shell.execute_reply": "2024-12-31T12:06:10.797320Z"
    },
    "id": "FQuE6s68jrTe",
    "papermill": {
     "duration": 0.120516,
     "end_time": "2024-12-31T12:06:10.800129",
     "exception": false,
     "start_time": "2024-12-31T12:06:10.679613",
     "status": "completed"
    },
    "tags": []
   },
   "outputs": [],
   "source": [
    "# Convert 'Date' to datetime\n",
    "raw_data_2023_Q1['Date'] = pd.to_datetime(raw_data_2023_Q1['Date'])"
   ]
  },
  {
   "cell_type": "code",
   "execution_count": 10,
   "id": "3d87ce2e",
   "metadata": {
    "execution": {
     "iopub.execute_input": "2024-12-31T12:06:10.880286Z",
     "iopub.status.busy": "2024-12-31T12:06:10.879968Z",
     "iopub.status.idle": "2024-12-31T12:06:10.885624Z",
     "shell.execute_reply": "2024-12-31T12:06:10.884589Z"
    },
    "executionInfo": {
     "elapsed": 9,
     "status": "ok",
     "timestamp": 1734445419782,
     "user": {
      "displayName": "Tahmida Majumder",
      "userId": "15415648085337204568"
     },
     "user_tz": -480
    },
    "id": "f8VkcrBkjy40",
    "outputId": "b8e6eee3-71f3-4705-d29f-b197dd8af8a3",
    "papermill": {
     "duration": 0.048846,
     "end_time": "2024-12-31T12:06:10.887131",
     "exception": false,
     "start_time": "2024-12-31T12:06:10.838285",
     "status": "completed"
    },
    "tags": []
   },
   "outputs": [
    {
     "data": {
      "text/plain": [
       "(553335, 5)"
      ]
     },
     "execution_count": 10,
     "metadata": {},
     "output_type": "execute_result"
    }
   ],
   "source": [
    "raw_data_2023_Q1.shape"
   ]
  },
  {
   "cell_type": "code",
   "execution_count": 11,
   "id": "7afb270a",
   "metadata": {
    "execution": {
     "iopub.execute_input": "2024-12-31T12:06:10.963730Z",
     "iopub.status.busy": "2024-12-31T12:06:10.963304Z",
     "iopub.status.idle": "2024-12-31T12:06:11.349706Z",
     "shell.execute_reply": "2024-12-31T12:06:11.348766Z"
    },
    "id": "FZcov_NSj1vM",
    "papermill": {
     "duration": 0.426722,
     "end_time": "2024-12-31T12:06:11.351681",
     "exception": false,
     "start_time": "2024-12-31T12:06:10.924959",
     "status": "completed"
    },
    "tags": []
   },
   "outputs": [],
   "source": [
    "# Pivot the data\n",
    "data_df_2023_Q1 = raw_data_2023_Q1.pivot_table(\n",
    "    index=['Date', 'Country', 'City'],  # Grouping columns\n",
    "    columns='Specie',                  # Unique values become columns\n",
    "    values='max',                   # Values to aggregate\n",
    "    aggfunc='mean'                     # Aggregation function\n",
    ").reset_index()"
   ]
  },
  {
   "cell_type": "code",
   "execution_count": 12,
   "id": "f9d18701",
   "metadata": {
    "cellView": "form",
    "execution": {
     "iopub.execute_input": "2024-12-31T12:06:11.430761Z",
     "iopub.status.busy": "2024-12-31T12:06:11.430414Z",
     "iopub.status.idle": "2024-12-31T12:06:11.456659Z",
     "shell.execute_reply": "2024-12-31T12:06:11.455530Z"
    },
    "executionInfo": {
     "elapsed": 11,
     "status": "ok",
     "timestamp": 1734445420200,
     "user": {
      "displayName": "Tahmida Majumder",
      "userId": "15415648085337204568"
     },
     "user_tz": -480
    },
    "id": "MIFdzoOGkBDe",
    "outputId": "fb1ae07d-9969-438b-97ad-4aaa91dde2c3",
    "papermill": {
     "duration": 0.067522,
     "end_time": "2024-12-31T12:06:11.458265",
     "exception": false,
     "start_time": "2024-12-31T12:06:11.390743",
     "status": "completed"
    },
    "tags": []
   },
   "outputs": [
    {
     "name": "stdout",
     "output_type": "stream",
     "text": [
      "(54535, 22)\n"
     ]
    },
    {
     "data": {
      "text/html": [
       "<div>\n",
       "<style scoped>\n",
       "    .dataframe tbody tr th:only-of-type {\n",
       "        vertical-align: middle;\n",
       "    }\n",
       "\n",
       "    .dataframe tbody tr th {\n",
       "        vertical-align: top;\n",
       "    }\n",
       "\n",
       "    .dataframe thead th {\n",
       "        text-align: right;\n",
       "    }\n",
       "</style>\n",
       "<table border=\"1\" class=\"dataframe\">\n",
       "  <thead>\n",
       "    <tr style=\"text-align: right;\">\n",
       "      <th>Specie</th>\n",
       "      <th>Date</th>\n",
       "      <th>Country</th>\n",
       "      <th>City</th>\n",
       "      <th>aqi</th>\n",
       "      <th>co</th>\n",
       "      <th>dew</th>\n",
       "      <th>humidity</th>\n",
       "      <th>mepaqi</th>\n",
       "      <th>neph</th>\n",
       "      <th>no2</th>\n",
       "      <th>...</th>\n",
       "      <th>pm10</th>\n",
       "      <th>pm25</th>\n",
       "      <th>precipitation</th>\n",
       "      <th>pressure</th>\n",
       "      <th>so2</th>\n",
       "      <th>temperature</th>\n",
       "      <th>uvi</th>\n",
       "      <th>wd</th>\n",
       "      <th>wind-gust</th>\n",
       "      <th>wind-speed</th>\n",
       "    </tr>\n",
       "  </thead>\n",
       "  <tbody>\n",
       "    <tr>\n",
       "      <th>0</th>\n",
       "      <td>2022-12-26</td>\n",
       "      <td>AE</td>\n",
       "      <td>Abu Dhabi</td>\n",
       "      <td>NaN</td>\n",
       "      <td>0.1</td>\n",
       "      <td>19.0</td>\n",
       "      <td>93.0</td>\n",
       "      <td>NaN</td>\n",
       "      <td>NaN</td>\n",
       "      <td>34.2</td>\n",
       "      <td>...</td>\n",
       "      <td>65.0</td>\n",
       "      <td>117.0</td>\n",
       "      <td>NaN</td>\n",
       "      <td>1019.0</td>\n",
       "      <td>14.2</td>\n",
       "      <td>24.2</td>\n",
       "      <td>NaN</td>\n",
       "      <td>NaN</td>\n",
       "      <td>5.0</td>\n",
       "      <td>7.2</td>\n",
       "    </tr>\n",
       "    <tr>\n",
       "      <th>1</th>\n",
       "      <td>2022-12-26</td>\n",
       "      <td>AE</td>\n",
       "      <td>Dubai</td>\n",
       "      <td>NaN</td>\n",
       "      <td>NaN</td>\n",
       "      <td>17.3</td>\n",
       "      <td>91.3</td>\n",
       "      <td>NaN</td>\n",
       "      <td>NaN</td>\n",
       "      <td>NaN</td>\n",
       "      <td>...</td>\n",
       "      <td>NaN</td>\n",
       "      <td>173.0</td>\n",
       "      <td>NaN</td>\n",
       "      <td>1019.0</td>\n",
       "      <td>NaN</td>\n",
       "      <td>24.0</td>\n",
       "      <td>NaN</td>\n",
       "      <td>NaN</td>\n",
       "      <td>NaN</td>\n",
       "      <td>5.1</td>\n",
       "    </tr>\n",
       "    <tr>\n",
       "      <th>2</th>\n",
       "      <td>2022-12-26</td>\n",
       "      <td>AR</td>\n",
       "      <td>Buenos Aires</td>\n",
       "      <td>NaN</td>\n",
       "      <td>8.9</td>\n",
       "      <td>14.8</td>\n",
       "      <td>97.4</td>\n",
       "      <td>NaN</td>\n",
       "      <td>NaN</td>\n",
       "      <td>8.3</td>\n",
       "      <td>...</td>\n",
       "      <td>47.0</td>\n",
       "      <td>NaN</td>\n",
       "      <td>NaN</td>\n",
       "      <td>1016.6</td>\n",
       "      <td>14.2</td>\n",
       "      <td>29.1</td>\n",
       "      <td>NaN</td>\n",
       "      <td>337.5</td>\n",
       "      <td>8.2</td>\n",
       "      <td>3.0</td>\n",
       "    </tr>\n",
       "    <tr>\n",
       "      <th>3</th>\n",
       "      <td>2022-12-26</td>\n",
       "      <td>AT</td>\n",
       "      <td>Graz</td>\n",
       "      <td>NaN</td>\n",
       "      <td>0.1</td>\n",
       "      <td>3.4</td>\n",
       "      <td>93.7</td>\n",
       "      <td>NaN</td>\n",
       "      <td>NaN</td>\n",
       "      <td>27.5</td>\n",
       "      <td>...</td>\n",
       "      <td>67.0</td>\n",
       "      <td>114.0</td>\n",
       "      <td>NaN</td>\n",
       "      <td>1020.8</td>\n",
       "      <td>7.6</td>\n",
       "      <td>10.8</td>\n",
       "      <td>NaN</td>\n",
       "      <td>NaN</td>\n",
       "      <td>NaN</td>\n",
       "      <td>3.0</td>\n",
       "    </tr>\n",
       "    <tr>\n",
       "      <th>4</th>\n",
       "      <td>2022-12-26</td>\n",
       "      <td>AT</td>\n",
       "      <td>Innsbruck</td>\n",
       "      <td>NaN</td>\n",
       "      <td>0.1</td>\n",
       "      <td>4.5</td>\n",
       "      <td>100.0</td>\n",
       "      <td>NaN</td>\n",
       "      <td>NaN</td>\n",
       "      <td>18.3</td>\n",
       "      <td>...</td>\n",
       "      <td>24.0</td>\n",
       "      <td>NaN</td>\n",
       "      <td>NaN</td>\n",
       "      <td>1022.0</td>\n",
       "      <td>0.6</td>\n",
       "      <td>10.0</td>\n",
       "      <td>NaN</td>\n",
       "      <td>NaN</td>\n",
       "      <td>14.0</td>\n",
       "      <td>13.0</td>\n",
       "    </tr>\n",
       "  </tbody>\n",
       "</table>\n",
       "<p>5 rows × 22 columns</p>\n",
       "</div>"
      ],
      "text/plain": [
       "Specie       Date Country          City  aqi   co   dew  humidity  mepaqi  \\\n",
       "0      2022-12-26      AE     Abu Dhabi  NaN  0.1  19.0      93.0     NaN   \n",
       "1      2022-12-26      AE         Dubai  NaN  NaN  17.3      91.3     NaN   \n",
       "2      2022-12-26      AR  Buenos Aires  NaN  8.9  14.8      97.4     NaN   \n",
       "3      2022-12-26      AT          Graz  NaN  0.1   3.4      93.7     NaN   \n",
       "4      2022-12-26      AT     Innsbruck  NaN  0.1   4.5     100.0     NaN   \n",
       "\n",
       "Specie  neph   no2  ...  pm10   pm25  precipitation  pressure   so2  \\\n",
       "0        NaN  34.2  ...  65.0  117.0            NaN    1019.0  14.2   \n",
       "1        NaN   NaN  ...   NaN  173.0            NaN    1019.0   NaN   \n",
       "2        NaN   8.3  ...  47.0    NaN            NaN    1016.6  14.2   \n",
       "3        NaN  27.5  ...  67.0  114.0            NaN    1020.8   7.6   \n",
       "4        NaN  18.3  ...  24.0    NaN            NaN    1022.0   0.6   \n",
       "\n",
       "Specie  temperature  uvi     wd  wind-gust  wind-speed  \n",
       "0              24.2  NaN    NaN        5.0         7.2  \n",
       "1              24.0  NaN    NaN        NaN         5.1  \n",
       "2              29.1  NaN  337.5        8.2         3.0  \n",
       "3              10.8  NaN    NaN        NaN         3.0  \n",
       "4              10.0  NaN    NaN       14.0        13.0  \n",
       "\n",
       "[5 rows x 22 columns]"
      ]
     },
     "execution_count": 12,
     "metadata": {},
     "output_type": "execute_result"
    }
   ],
   "source": [
    "print(data_df_2023_Q1.shape)\n",
    "data_df_2023_Q1.head()"
   ]
  },
  {
   "cell_type": "code",
   "execution_count": 13,
   "id": "f56c8a5f",
   "metadata": {
    "execution": {
     "iopub.execute_input": "2024-12-31T12:06:11.536787Z",
     "iopub.status.busy": "2024-12-31T12:06:11.536346Z",
     "iopub.status.idle": "2024-12-31T12:06:11.551101Z",
     "shell.execute_reply": "2024-12-31T12:06:11.549780Z"
    },
    "executionInfo": {
     "elapsed": 7,
     "status": "ok",
     "timestamp": 1734445420200,
     "user": {
      "displayName": "Tahmida Majumder",
      "userId": "15415648085337204568"
     },
     "user_tz": -480
    },
    "id": "STIfeqmakbsN",
    "outputId": "b5b5eec3-5a38-42e3-d176-9fd400390c6a",
    "papermill": {
     "duration": 0.055802,
     "end_time": "2024-12-31T12:06:11.552935",
     "exception": false,
     "start_time": "2024-12-31T12:06:11.497133",
     "status": "completed"
    },
    "tags": []
   },
   "outputs": [
    {
     "data": {
      "text/plain": [
       "Specie\n",
       "Date                 0\n",
       "Country              0\n",
       "City                 0\n",
       "aqi              53716\n",
       "co               20563\n",
       "dew              10232\n",
       "humidity           192\n",
       "mepaqi           54437\n",
       "neph             54339\n",
       "no2               9381\n",
       "o3               12986\n",
       "pm1              54255\n",
       "pm10              9970\n",
       "pm25              6880\n",
       "precipitation    48004\n",
       "pressure           324\n",
       "so2              16332\n",
       "temperature        106\n",
       "uvi              53557\n",
       "wd               50771\n",
       "wind-gust        25751\n",
       "wind-speed        1034\n",
       "dtype: int64"
      ]
     },
     "execution_count": 13,
     "metadata": {},
     "output_type": "execute_result"
    }
   ],
   "source": [
    "data_df_2023_Q1.isnull().sum()"
   ]
  },
  {
   "cell_type": "code",
   "execution_count": null,
   "id": "349e9b71",
   "metadata": {
    "id": "eGWahjkooqpz",
    "papermill": {
     "duration": 0.037564,
     "end_time": "2024-12-31T12:06:11.629415",
     "exception": false,
     "start_time": "2024-12-31T12:06:11.591851",
     "status": "completed"
    },
    "tags": []
   },
   "outputs": [],
   "source": []
  },
  {
   "cell_type": "markdown",
   "id": "4c87fd01",
   "metadata": {
    "id": "enZ5-ZNNWCau",
    "papermill": {
     "duration": 0.037764,
     "end_time": "2024-12-31T12:06:11.705664",
     "exception": false,
     "start_time": "2024-12-31T12:06:11.667900",
     "status": "completed"
    },
    "tags": []
   },
   "source": [
    "# 2023_Q2"
   ]
  },
  {
   "cell_type": "code",
   "execution_count": 14,
   "id": "62254707",
   "metadata": {
    "execution": {
     "iopub.execute_input": "2024-12-31T12:06:11.783433Z",
     "iopub.status.busy": "2024-12-31T12:06:11.783036Z",
     "iopub.status.idle": "2024-12-31T12:06:12.340428Z",
     "shell.execute_reply": "2024-12-31T12:06:12.339247Z"
    },
    "executionInfo": {
     "elapsed": 426,
     "status": "ok",
     "timestamp": 1734445420620,
     "user": {
      "displayName": "Tahmida Majumder",
      "userId": "15415648085337204568"
     },
     "user_tz": -480
    },
    "id": "5vEBWIVToq_X",
    "outputId": "dff81ce9-0c01-4222-d909-7b4731ba9f42",
    "papermill": {
     "duration": 0.5984,
     "end_time": "2024-12-31T12:06:12.342101",
     "exception": false,
     "start_time": "2024-12-31T12:06:11.743701",
     "status": "completed"
    },
    "tags": []
   },
   "outputs": [
    {
     "name": "stdout",
     "output_type": "stream",
     "text": [
      "(564703, 5)\n"
     ]
    },
    {
     "data": {
      "text/html": [
       "<div>\n",
       "<style scoped>\n",
       "    .dataframe tbody tr th:only-of-type {\n",
       "        vertical-align: middle;\n",
       "    }\n",
       "\n",
       "    .dataframe tbody tr th {\n",
       "        vertical-align: top;\n",
       "    }\n",
       "\n",
       "    .dataframe thead th {\n",
       "        text-align: right;\n",
       "    }\n",
       "</style>\n",
       "<table border=\"1\" class=\"dataframe\">\n",
       "  <thead>\n",
       "    <tr style=\"text-align: right;\">\n",
       "      <th></th>\n",
       "      <th>Date</th>\n",
       "      <th>Country</th>\n",
       "      <th>City</th>\n",
       "      <th>Specie</th>\n",
       "      <th>max</th>\n",
       "    </tr>\n",
       "  </thead>\n",
       "  <tbody>\n",
       "    <tr>\n",
       "      <th>0</th>\n",
       "      <td>4/4/2023</td>\n",
       "      <td>DZ</td>\n",
       "      <td>Algiers</td>\n",
       "      <td>pressure</td>\n",
       "      <td>1018.0</td>\n",
       "    </tr>\n",
       "    <tr>\n",
       "      <th>1</th>\n",
       "      <td>4/25/2023</td>\n",
       "      <td>DZ</td>\n",
       "      <td>Algiers</td>\n",
       "      <td>pressure</td>\n",
       "      <td>1017.0</td>\n",
       "    </tr>\n",
       "    <tr>\n",
       "      <th>2</th>\n",
       "      <td>5/25/2023</td>\n",
       "      <td>DZ</td>\n",
       "      <td>Algiers</td>\n",
       "      <td>pressure</td>\n",
       "      <td>1017.0</td>\n",
       "    </tr>\n",
       "    <tr>\n",
       "      <th>3</th>\n",
       "      <td>3/27/2023</td>\n",
       "      <td>DZ</td>\n",
       "      <td>Algiers</td>\n",
       "      <td>pressure</td>\n",
       "      <td>1023.0</td>\n",
       "    </tr>\n",
       "    <tr>\n",
       "      <th>4</th>\n",
       "      <td>3/31/2023</td>\n",
       "      <td>DZ</td>\n",
       "      <td>Algiers</td>\n",
       "      <td>pressure</td>\n",
       "      <td>1024.0</td>\n",
       "    </tr>\n",
       "    <tr>\n",
       "      <th>5</th>\n",
       "      <td>4/14/2023</td>\n",
       "      <td>DZ</td>\n",
       "      <td>Algiers</td>\n",
       "      <td>pressure</td>\n",
       "      <td>1019.0</td>\n",
       "    </tr>\n",
       "    <tr>\n",
       "      <th>6</th>\n",
       "      <td>4/30/2023</td>\n",
       "      <td>DZ</td>\n",
       "      <td>Algiers</td>\n",
       "      <td>pressure</td>\n",
       "      <td>1017.0</td>\n",
       "    </tr>\n",
       "    <tr>\n",
       "      <th>7</th>\n",
       "      <td>5/18/2023</td>\n",
       "      <td>DZ</td>\n",
       "      <td>Algiers</td>\n",
       "      <td>pressure</td>\n",
       "      <td>1016.0</td>\n",
       "    </tr>\n",
       "    <tr>\n",
       "      <th>8</th>\n",
       "      <td>6/11/2023</td>\n",
       "      <td>DZ</td>\n",
       "      <td>Algiers</td>\n",
       "      <td>pressure</td>\n",
       "      <td>1016.0</td>\n",
       "    </tr>\n",
       "    <tr>\n",
       "      <th>9</th>\n",
       "      <td>6/24/2023</td>\n",
       "      <td>DZ</td>\n",
       "      <td>Algiers</td>\n",
       "      <td>pressure</td>\n",
       "      <td>1019.0</td>\n",
       "    </tr>\n",
       "  </tbody>\n",
       "</table>\n",
       "</div>"
      ],
      "text/plain": [
       "        Date Country     City    Specie     max\n",
       "0   4/4/2023      DZ  Algiers  pressure  1018.0\n",
       "1  4/25/2023      DZ  Algiers  pressure  1017.0\n",
       "2  5/25/2023      DZ  Algiers  pressure  1017.0\n",
       "3  3/27/2023      DZ  Algiers  pressure  1023.0\n",
       "4  3/31/2023      DZ  Algiers  pressure  1024.0\n",
       "5  4/14/2023      DZ  Algiers  pressure  1019.0\n",
       "6  4/30/2023      DZ  Algiers  pressure  1017.0\n",
       "7  5/18/2023      DZ  Algiers  pressure  1016.0\n",
       "8  6/11/2023      DZ  Algiers  pressure  1016.0\n",
       "9  6/24/2023      DZ  Algiers  pressure  1019.0"
      ]
     },
     "execution_count": 14,
     "metadata": {},
     "output_type": "execute_result"
    }
   ],
   "source": [
    "# Loading the data\n",
    "raw_data_2023_Q2 = pd.read_csv(r\"/kaggle/input/raw-data/airqualitydata-2023Q2.csv\")\n",
    "\n",
    "# print the shape\n",
    "print(raw_data_2023_Q2.shape)\n",
    "\n",
    "#runs the first 5 rows\n",
    "raw_data_2023_Q2.head(10)"
   ]
  },
  {
   "cell_type": "code",
   "execution_count": 15,
   "id": "810f9516",
   "metadata": {
    "execution": {
     "iopub.execute_input": "2024-12-31T12:06:12.421212Z",
     "iopub.status.busy": "2024-12-31T12:06:12.420889Z",
     "iopub.status.idle": "2024-12-31T12:06:12.505434Z",
     "shell.execute_reply": "2024-12-31T12:06:12.504619Z"
    },
    "id": "e0NZtVbIpC0V",
    "papermill": {
     "duration": 0.126352,
     "end_time": "2024-12-31T12:06:12.507260",
     "exception": false,
     "start_time": "2024-12-31T12:06:12.380908",
     "status": "completed"
    },
    "tags": []
   },
   "outputs": [],
   "source": [
    "# Convert 'Date' to datetime\n",
    "raw_data_2023_Q2['Date'] = pd.to_datetime(raw_data_2023_Q2['Date'])"
   ]
  },
  {
   "cell_type": "code",
   "execution_count": 16,
   "id": "1b60f495",
   "metadata": {
    "execution": {
     "iopub.execute_input": "2024-12-31T12:06:12.586140Z",
     "iopub.status.busy": "2024-12-31T12:06:12.585818Z",
     "iopub.status.idle": "2024-12-31T12:06:12.591321Z",
     "shell.execute_reply": "2024-12-31T12:06:12.590459Z"
    },
    "executionInfo": {
     "elapsed": 7,
     "status": "ok",
     "timestamp": 1734445420621,
     "user": {
      "displayName": "Tahmida Majumder",
      "userId": "15415648085337204568"
     },
     "user_tz": -480
    },
    "id": "BUtlKAl2pYgH",
    "outputId": "645ffa67-69d8-401c-a95e-c36877b3448c",
    "papermill": {
     "duration": 0.046694,
     "end_time": "2024-12-31T12:06:12.592889",
     "exception": false,
     "start_time": "2024-12-31T12:06:12.546195",
     "status": "completed"
    },
    "tags": []
   },
   "outputs": [
    {
     "data": {
      "text/plain": [
       "(564703, 5)"
      ]
     },
     "execution_count": 16,
     "metadata": {},
     "output_type": "execute_result"
    }
   ],
   "source": [
    "raw_data_2023_Q2.shape"
   ]
  },
  {
   "cell_type": "code",
   "execution_count": 17,
   "id": "a3cf93b2",
   "metadata": {
    "execution": {
     "iopub.execute_input": "2024-12-31T12:06:12.671224Z",
     "iopub.status.busy": "2024-12-31T12:06:12.670896Z",
     "iopub.status.idle": "2024-12-31T12:06:13.084760Z",
     "shell.execute_reply": "2024-12-31T12:06:13.083800Z"
    },
    "id": "CPkWhbJQpgz2",
    "papermill": {
     "duration": 0.455392,
     "end_time": "2024-12-31T12:06:13.086660",
     "exception": false,
     "start_time": "2024-12-31T12:06:12.631268",
     "status": "completed"
    },
    "tags": []
   },
   "outputs": [],
   "source": [
    "# Pivot the data\n",
    "data_df_2023_Q2 = raw_data_2023_Q2.pivot_table(\n",
    "    index=['Date', 'Country', 'City'],  # Grouping columns\n",
    "    columns='Specie',                  # Unique values become columns\n",
    "    values='max',                   # Values to aggregate\n",
    "    aggfunc='mean'                     # Aggregation function\n",
    ").reset_index()\n"
   ]
  },
  {
   "cell_type": "code",
   "execution_count": 18,
   "id": "839ec9bf",
   "metadata": {
    "execution": {
     "iopub.execute_input": "2024-12-31T12:06:13.165680Z",
     "iopub.status.busy": "2024-12-31T12:06:13.165267Z",
     "iopub.status.idle": "2024-12-31T12:06:13.190009Z",
     "shell.execute_reply": "2024-12-31T12:06:13.188887Z"
    },
    "executionInfo": {
     "elapsed": 12,
     "status": "ok",
     "timestamp": 1734445421619,
     "user": {
      "displayName": "Tahmida Majumder",
      "userId": "15415648085337204568"
     },
     "user_tz": -480
    },
    "id": "BKi-RIYAptUD",
    "outputId": "965baf5c-5018-4367-cc8b-f10880025ed4",
    "papermill": {
     "duration": 0.065933,
     "end_time": "2024-12-31T12:06:13.191810",
     "exception": false,
     "start_time": "2024-12-31T12:06:13.125877",
     "status": "completed"
    },
    "tags": []
   },
   "outputs": [
    {
     "name": "stdout",
     "output_type": "stream",
     "text": [
      "(55730, 22)\n"
     ]
    },
    {
     "data": {
      "text/html": [
       "<div>\n",
       "<style scoped>\n",
       "    .dataframe tbody tr th:only-of-type {\n",
       "        vertical-align: middle;\n",
       "    }\n",
       "\n",
       "    .dataframe tbody tr th {\n",
       "        vertical-align: top;\n",
       "    }\n",
       "\n",
       "    .dataframe thead th {\n",
       "        text-align: right;\n",
       "    }\n",
       "</style>\n",
       "<table border=\"1\" class=\"dataframe\">\n",
       "  <thead>\n",
       "    <tr style=\"text-align: right;\">\n",
       "      <th>Specie</th>\n",
       "      <th>Date</th>\n",
       "      <th>Country</th>\n",
       "      <th>City</th>\n",
       "      <th>aqi</th>\n",
       "      <th>co</th>\n",
       "      <th>dew</th>\n",
       "      <th>humidity</th>\n",
       "      <th>mepaqi</th>\n",
       "      <th>neph</th>\n",
       "      <th>no2</th>\n",
       "      <th>...</th>\n",
       "      <th>pm10</th>\n",
       "      <th>pm25</th>\n",
       "      <th>precipitation</th>\n",
       "      <th>pressure</th>\n",
       "      <th>so2</th>\n",
       "      <th>temperature</th>\n",
       "      <th>uvi</th>\n",
       "      <th>wd</th>\n",
       "      <th>wind-gust</th>\n",
       "      <th>wind-speed</th>\n",
       "    </tr>\n",
       "  </thead>\n",
       "  <tbody>\n",
       "    <tr>\n",
       "      <th>0</th>\n",
       "      <td>2023-03-27</td>\n",
       "      <td>AE</td>\n",
       "      <td>Abu Dhabi</td>\n",
       "      <td>NaN</td>\n",
       "      <td>0.1</td>\n",
       "      <td>21.0</td>\n",
       "      <td>73.0</td>\n",
       "      <td>NaN</td>\n",
       "      <td>NaN</td>\n",
       "      <td>32.0</td>\n",
       "      <td>...</td>\n",
       "      <td>290.0</td>\n",
       "      <td>200.0</td>\n",
       "      <td>NaN</td>\n",
       "      <td>1013.4</td>\n",
       "      <td>14.3</td>\n",
       "      <td>33.0</td>\n",
       "      <td>NaN</td>\n",
       "      <td>NaN</td>\n",
       "      <td>13.8</td>\n",
       "      <td>10.2</td>\n",
       "    </tr>\n",
       "    <tr>\n",
       "      <th>1</th>\n",
       "      <td>2023-03-27</td>\n",
       "      <td>AE</td>\n",
       "      <td>Dubai</td>\n",
       "      <td>NaN</td>\n",
       "      <td>NaN</td>\n",
       "      <td>17.0</td>\n",
       "      <td>61.0</td>\n",
       "      <td>NaN</td>\n",
       "      <td>NaN</td>\n",
       "      <td>NaN</td>\n",
       "      <td>...</td>\n",
       "      <td>NaN</td>\n",
       "      <td>169.0</td>\n",
       "      <td>NaN</td>\n",
       "      <td>1011.0</td>\n",
       "      <td>NaN</td>\n",
       "      <td>33.0</td>\n",
       "      <td>NaN</td>\n",
       "      <td>NaN</td>\n",
       "      <td>NaN</td>\n",
       "      <td>6.6</td>\n",
       "    </tr>\n",
       "    <tr>\n",
       "      <th>2</th>\n",
       "      <td>2023-03-27</td>\n",
       "      <td>AR</td>\n",
       "      <td>Buenos Aires</td>\n",
       "      <td>NaN</td>\n",
       "      <td>5.6</td>\n",
       "      <td>14.3</td>\n",
       "      <td>100.0</td>\n",
       "      <td>NaN</td>\n",
       "      <td>NaN</td>\n",
       "      <td>21.1</td>\n",
       "      <td>...</td>\n",
       "      <td>30.0</td>\n",
       "      <td>NaN</td>\n",
       "      <td>NaN</td>\n",
       "      <td>1019.4</td>\n",
       "      <td>12.7</td>\n",
       "      <td>26.1</td>\n",
       "      <td>NaN</td>\n",
       "      <td>157.5</td>\n",
       "      <td>11.9</td>\n",
       "      <td>5.6</td>\n",
       "    </tr>\n",
       "    <tr>\n",
       "      <th>3</th>\n",
       "      <td>2023-03-27</td>\n",
       "      <td>AT</td>\n",
       "      <td>Graz</td>\n",
       "      <td>NaN</td>\n",
       "      <td>0.1</td>\n",
       "      <td>5.5</td>\n",
       "      <td>90.8</td>\n",
       "      <td>NaN</td>\n",
       "      <td>NaN</td>\n",
       "      <td>26.6</td>\n",
       "      <td>...</td>\n",
       "      <td>39.0</td>\n",
       "      <td>21.0</td>\n",
       "      <td>0.5</td>\n",
       "      <td>1014.0</td>\n",
       "      <td>2.6</td>\n",
       "      <td>12.3</td>\n",
       "      <td>NaN</td>\n",
       "      <td>NaN</td>\n",
       "      <td>NaN</td>\n",
       "      <td>8.0</td>\n",
       "    </tr>\n",
       "    <tr>\n",
       "      <th>4</th>\n",
       "      <td>2023-03-27</td>\n",
       "      <td>AT</td>\n",
       "      <td>Innsbruck</td>\n",
       "      <td>NaN</td>\n",
       "      <td>0.1</td>\n",
       "      <td>3.8</td>\n",
       "      <td>91.9</td>\n",
       "      <td>NaN</td>\n",
       "      <td>NaN</td>\n",
       "      <td>15.6</td>\n",
       "      <td>...</td>\n",
       "      <td>15.0</td>\n",
       "      <td>NaN</td>\n",
       "      <td>99.4</td>\n",
       "      <td>1014.9</td>\n",
       "      <td>1.6</td>\n",
       "      <td>5.3</td>\n",
       "      <td>NaN</td>\n",
       "      <td>NaN</td>\n",
       "      <td>18.4</td>\n",
       "      <td>11.0</td>\n",
       "    </tr>\n",
       "  </tbody>\n",
       "</table>\n",
       "<p>5 rows × 22 columns</p>\n",
       "</div>"
      ],
      "text/plain": [
       "Specie       Date Country          City  aqi   co   dew  humidity  mepaqi  \\\n",
       "0      2023-03-27      AE     Abu Dhabi  NaN  0.1  21.0      73.0     NaN   \n",
       "1      2023-03-27      AE         Dubai  NaN  NaN  17.0      61.0     NaN   \n",
       "2      2023-03-27      AR  Buenos Aires  NaN  5.6  14.3     100.0     NaN   \n",
       "3      2023-03-27      AT          Graz  NaN  0.1   5.5      90.8     NaN   \n",
       "4      2023-03-27      AT     Innsbruck  NaN  0.1   3.8      91.9     NaN   \n",
       "\n",
       "Specie  neph   no2  ...   pm10   pm25  precipitation  pressure   so2  \\\n",
       "0        NaN  32.0  ...  290.0  200.0            NaN    1013.4  14.3   \n",
       "1        NaN   NaN  ...    NaN  169.0            NaN    1011.0   NaN   \n",
       "2        NaN  21.1  ...   30.0    NaN            NaN    1019.4  12.7   \n",
       "3        NaN  26.6  ...   39.0   21.0            0.5    1014.0   2.6   \n",
       "4        NaN  15.6  ...   15.0    NaN           99.4    1014.9   1.6   \n",
       "\n",
       "Specie  temperature  uvi     wd  wind-gust  wind-speed  \n",
       "0              33.0  NaN    NaN       13.8        10.2  \n",
       "1              33.0  NaN    NaN        NaN         6.6  \n",
       "2              26.1  NaN  157.5       11.9         5.6  \n",
       "3              12.3  NaN    NaN        NaN         8.0  \n",
       "4               5.3  NaN    NaN       18.4        11.0  \n",
       "\n",
       "[5 rows x 22 columns]"
      ]
     },
     "execution_count": 18,
     "metadata": {},
     "output_type": "execute_result"
    }
   ],
   "source": [
    "print(data_df_2023_Q2.shape)\n",
    "data_df_2023_Q2.head()"
   ]
  },
  {
   "cell_type": "code",
   "execution_count": 19,
   "id": "f702fd53",
   "metadata": {
    "execution": {
     "iopub.execute_input": "2024-12-31T12:06:13.272033Z",
     "iopub.status.busy": "2024-12-31T12:06:13.271665Z",
     "iopub.status.idle": "2024-12-31T12:06:13.286871Z",
     "shell.execute_reply": "2024-12-31T12:06:13.285745Z"
    },
    "executionInfo": {
     "elapsed": 8,
     "status": "ok",
     "timestamp": 1734445421619,
     "user": {
      "displayName": "Tahmida Majumder",
      "userId": "15415648085337204568"
     },
     "user_tz": -480
    },
    "id": "ZB66ln4Lp3PI",
    "outputId": "1dbc8623-eb83-4a88-c64a-cfa883194649",
    "papermill": {
     "duration": 0.057029,
     "end_time": "2024-12-31T12:06:13.288555",
     "exception": false,
     "start_time": "2024-12-31T12:06:13.231526",
     "status": "completed"
    },
    "tags": []
   },
   "outputs": [
    {
     "data": {
      "text/plain": [
       "Specie\n",
       "Date                 0\n",
       "Country              0\n",
       "City                 0\n",
       "aqi              54358\n",
       "co               21724\n",
       "dew              11112\n",
       "humidity           206\n",
       "mepaqi           55632\n",
       "neph             55534\n",
       "no2               9257\n",
       "o3               12462\n",
       "pm1              55479\n",
       "pm10             10038\n",
       "pm25              7057\n",
       "precipitation    49911\n",
       "pressure           391\n",
       "so2              17226\n",
       "temperature        150\n",
       "uvi              54759\n",
       "wd               51871\n",
       "wind-gust        25758\n",
       "wind-speed        1242\n",
       "dtype: int64"
      ]
     },
     "execution_count": 19,
     "metadata": {},
     "output_type": "execute_result"
    }
   ],
   "source": [
    "data_df_2023_Q2.isnull().sum()"
   ]
  },
  {
   "cell_type": "markdown",
   "id": "b672bb35",
   "metadata": {
    "id": "NzGm9wFEWInj",
    "papermill": {
     "duration": 0.039034,
     "end_time": "2024-12-31T12:06:13.367315",
     "exception": false,
     "start_time": "2024-12-31T12:06:13.328281",
     "status": "completed"
    },
    "tags": []
   },
   "source": [
    "# 2023_Q3"
   ]
  },
  {
   "cell_type": "code",
   "execution_count": 20,
   "id": "7dbbdb6c",
   "metadata": {
    "execution": {
     "iopub.execute_input": "2024-12-31T12:06:13.447523Z",
     "iopub.status.busy": "2024-12-31T12:06:13.447084Z",
     "iopub.status.idle": "2024-12-31T12:06:13.720595Z",
     "shell.execute_reply": "2024-12-31T12:06:13.719313Z"
    },
    "executionInfo": {
     "elapsed": 394,
     "status": "ok",
     "timestamp": 1734445422006,
     "user": {
      "displayName": "Tahmida Majumder",
      "userId": "15415648085337204568"
     },
     "user_tz": -480
    },
    "id": "YPhZZpfTotON",
    "outputId": "72aecce4-09d7-4988-9826-c92f2869761e",
    "papermill": {
     "duration": 0.315884,
     "end_time": "2024-12-31T12:06:13.722444",
     "exception": false,
     "start_time": "2024-12-31T12:06:13.406560",
     "status": "completed"
    },
    "tags": []
   },
   "outputs": [
    {
     "name": "stdout",
     "output_type": "stream",
     "text": [
      "(255419, 5)\n"
     ]
    },
    {
     "data": {
      "text/html": [
       "<div>\n",
       "<style scoped>\n",
       "    .dataframe tbody tr th:only-of-type {\n",
       "        vertical-align: middle;\n",
       "    }\n",
       "\n",
       "    .dataframe tbody tr th {\n",
       "        vertical-align: top;\n",
       "    }\n",
       "\n",
       "    .dataframe thead th {\n",
       "        text-align: right;\n",
       "    }\n",
       "</style>\n",
       "<table border=\"1\" class=\"dataframe\">\n",
       "  <thead>\n",
       "    <tr style=\"text-align: right;\">\n",
       "      <th></th>\n",
       "      <th>Date</th>\n",
       "      <th>Country</th>\n",
       "      <th>City</th>\n",
       "      <th>Specie</th>\n",
       "      <th>max</th>\n",
       "    </tr>\n",
       "  </thead>\n",
       "  <tbody>\n",
       "    <tr>\n",
       "      <th>0</th>\n",
       "      <td>7/20/2023</td>\n",
       "      <td>JP</td>\n",
       "      <td>Kumamoto</td>\n",
       "      <td>so2</td>\n",
       "      <td>2.9</td>\n",
       "    </tr>\n",
       "    <tr>\n",
       "      <th>1</th>\n",
       "      <td>8/12/2023</td>\n",
       "      <td>JP</td>\n",
       "      <td>Kumamoto</td>\n",
       "      <td>so2</td>\n",
       "      <td>56.9</td>\n",
       "    </tr>\n",
       "    <tr>\n",
       "      <th>2</th>\n",
       "      <td>8/23/2023</td>\n",
       "      <td>JP</td>\n",
       "      <td>Kumamoto</td>\n",
       "      <td>so2</td>\n",
       "      <td>56.9</td>\n",
       "    </tr>\n",
       "    <tr>\n",
       "      <th>3</th>\n",
       "      <td>8/25/2023</td>\n",
       "      <td>JP</td>\n",
       "      <td>Kumamoto</td>\n",
       "      <td>so2</td>\n",
       "      <td>8.6</td>\n",
       "    </tr>\n",
       "    <tr>\n",
       "      <th>4</th>\n",
       "      <td>9/13/2023</td>\n",
       "      <td>JP</td>\n",
       "      <td>Kumamoto</td>\n",
       "      <td>so2</td>\n",
       "      <td>4.3</td>\n",
       "    </tr>\n",
       "    <tr>\n",
       "      <th>5</th>\n",
       "      <td>9/11/2023</td>\n",
       "      <td>JP</td>\n",
       "      <td>Kumamoto</td>\n",
       "      <td>so2</td>\n",
       "      <td>5.8</td>\n",
       "    </tr>\n",
       "    <tr>\n",
       "      <th>6</th>\n",
       "      <td>6/30/2023</td>\n",
       "      <td>JP</td>\n",
       "      <td>Kumamoto</td>\n",
       "      <td>so2</td>\n",
       "      <td>1.5</td>\n",
       "    </tr>\n",
       "    <tr>\n",
       "      <th>7</th>\n",
       "      <td>7/1/2023</td>\n",
       "      <td>JP</td>\n",
       "      <td>Kumamoto</td>\n",
       "      <td>so2</td>\n",
       "      <td>1.5</td>\n",
       "    </tr>\n",
       "    <tr>\n",
       "      <th>8</th>\n",
       "      <td>7/2/2023</td>\n",
       "      <td>JP</td>\n",
       "      <td>Kumamoto</td>\n",
       "      <td>so2</td>\n",
       "      <td>1.5</td>\n",
       "    </tr>\n",
       "    <tr>\n",
       "      <th>9</th>\n",
       "      <td>7/5/2023</td>\n",
       "      <td>JP</td>\n",
       "      <td>Kumamoto</td>\n",
       "      <td>so2</td>\n",
       "      <td>2.9</td>\n",
       "    </tr>\n",
       "  </tbody>\n",
       "</table>\n",
       "</div>"
      ],
      "text/plain": [
       "        Date Country      City Specie   max\n",
       "0  7/20/2023      JP  Kumamoto    so2   2.9\n",
       "1  8/12/2023      JP  Kumamoto    so2  56.9\n",
       "2  8/23/2023      JP  Kumamoto    so2  56.9\n",
       "3  8/25/2023      JP  Kumamoto    so2   8.6\n",
       "4  9/13/2023      JP  Kumamoto    so2   4.3\n",
       "5  9/11/2023      JP  Kumamoto    so2   5.8\n",
       "6  6/30/2023      JP  Kumamoto    so2   1.5\n",
       "7   7/1/2023      JP  Kumamoto    so2   1.5\n",
       "8   7/2/2023      JP  Kumamoto    so2   1.5\n",
       "9   7/5/2023      JP  Kumamoto    so2   2.9"
      ]
     },
     "execution_count": 20,
     "metadata": {},
     "output_type": "execute_result"
    }
   ],
   "source": [
    "# Loading the data\n",
    "raw_data_2023_Q3 = pd.read_csv(r\"/kaggle/input/raw-data/airqualitydata-2023Q3.csv\")\n",
    "\n",
    "# print the shape\n",
    "print(raw_data_2023_Q3.shape)\n",
    "\n",
    "#runs the first 5 rows\n",
    "raw_data_2023_Q3.head(10)"
   ]
  },
  {
   "cell_type": "code",
   "execution_count": 21,
   "id": "7f4f3a56",
   "metadata": {
    "execution": {
     "iopub.execute_input": "2024-12-31T12:06:13.803246Z",
     "iopub.status.busy": "2024-12-31T12:06:13.802924Z",
     "iopub.status.idle": "2024-12-31T12:06:13.839858Z",
     "shell.execute_reply": "2024-12-31T12:06:13.838852Z"
    },
    "id": "egnxcT2UpMuV",
    "papermill": {
     "duration": 0.079745,
     "end_time": "2024-12-31T12:06:13.841724",
     "exception": false,
     "start_time": "2024-12-31T12:06:13.761979",
     "status": "completed"
    },
    "tags": []
   },
   "outputs": [],
   "source": [
    "# Convert 'Date' to datetime\n",
    "raw_data_2023_Q3['Date'] = pd.to_datetime(raw_data_2023_Q3['Date'])"
   ]
  },
  {
   "cell_type": "code",
   "execution_count": 22,
   "id": "9c2d06b9",
   "metadata": {
    "execution": {
     "iopub.execute_input": "2024-12-31T12:06:13.924748Z",
     "iopub.status.busy": "2024-12-31T12:06:13.924309Z",
     "iopub.status.idle": "2024-12-31T12:06:13.929775Z",
     "shell.execute_reply": "2024-12-31T12:06:13.928923Z"
    },
    "executionInfo": {
     "elapsed": 8,
     "status": "ok",
     "timestamp": 1734445422007,
     "user": {
      "displayName": "Tahmida Majumder",
      "userId": "15415648085337204568"
     },
     "user_tz": -480
    },
    "id": "vOvM6fDlpaAi",
    "outputId": "41886017-a791-4866-ea2c-d82414ed3d88",
    "papermill": {
     "duration": 0.047744,
     "end_time": "2024-12-31T12:06:13.931202",
     "exception": false,
     "start_time": "2024-12-31T12:06:13.883458",
     "status": "completed"
    },
    "tags": []
   },
   "outputs": [
    {
     "data": {
      "text/plain": [
       "(255419, 5)"
      ]
     },
     "execution_count": 22,
     "metadata": {},
     "output_type": "execute_result"
    }
   ],
   "source": [
    "raw_data_2023_Q3.shape"
   ]
  },
  {
   "cell_type": "code",
   "execution_count": 23,
   "id": "a2a55f6c",
   "metadata": {
    "execution": {
     "iopub.execute_input": "2024-12-31T12:06:14.011206Z",
     "iopub.status.busy": "2024-12-31T12:06:14.010852Z",
     "iopub.status.idle": "2024-12-31T12:06:14.179652Z",
     "shell.execute_reply": "2024-12-31T12:06:14.178668Z"
    },
    "id": "4JO0oj4upiAU",
    "papermill": {
     "duration": 0.210976,
     "end_time": "2024-12-31T12:06:14.181544",
     "exception": false,
     "start_time": "2024-12-31T12:06:13.970568",
     "status": "completed"
    },
    "tags": []
   },
   "outputs": [],
   "source": [
    "# Pivot the data\n",
    "data_df_2023_Q3 = raw_data_2023_Q3.pivot_table(\n",
    "    index=['Date', 'Country', 'City'],  # Grouping columns\n",
    "    columns='Specie',                  # Unique values become columns\n",
    "    values='max',                   # Values to aggregate\n",
    "    aggfunc='mean'                     # Aggregation function\n",
    ").reset_index()"
   ]
  },
  {
   "cell_type": "code",
   "execution_count": 24,
   "id": "0ca48d7a",
   "metadata": {
    "execution": {
     "iopub.execute_input": "2024-12-31T12:06:14.262476Z",
     "iopub.status.busy": "2024-12-31T12:06:14.262065Z",
     "iopub.status.idle": "2024-12-31T12:06:14.288679Z",
     "shell.execute_reply": "2024-12-31T12:06:14.287510Z"
    },
    "executionInfo": {
     "elapsed": 416,
     "status": "ok",
     "timestamp": 1734445422417,
     "user": {
      "displayName": "Tahmida Majumder",
      "userId": "15415648085337204568"
     },
     "user_tz": -480
    },
    "id": "IOPN1iyrpuXD",
    "outputId": "04d7043f-dced-4ae7-9aef-524a2155aede",
    "papermill": {
     "duration": 0.06855,
     "end_time": "2024-12-31T12:06:14.290502",
     "exception": false,
     "start_time": "2024-12-31T12:06:14.221952",
     "status": "completed"
    },
    "tags": []
   },
   "outputs": [
    {
     "name": "stdout",
     "output_type": "stream",
     "text": [
      "(25197, 21)\n"
     ]
    },
    {
     "data": {
      "text/html": [
       "<div>\n",
       "<style scoped>\n",
       "    .dataframe tbody tr th:only-of-type {\n",
       "        vertical-align: middle;\n",
       "    }\n",
       "\n",
       "    .dataframe tbody tr th {\n",
       "        vertical-align: top;\n",
       "    }\n",
       "\n",
       "    .dataframe thead th {\n",
       "        text-align: right;\n",
       "    }\n",
       "</style>\n",
       "<table border=\"1\" class=\"dataframe\">\n",
       "  <thead>\n",
       "    <tr style=\"text-align: right;\">\n",
       "      <th>Specie</th>\n",
       "      <th>Date</th>\n",
       "      <th>Country</th>\n",
       "      <th>City</th>\n",
       "      <th>aqi</th>\n",
       "      <th>co</th>\n",
       "      <th>dew</th>\n",
       "      <th>humidity</th>\n",
       "      <th>mepaqi</th>\n",
       "      <th>neph</th>\n",
       "      <th>no2</th>\n",
       "      <th>...</th>\n",
       "      <th>pm1</th>\n",
       "      <th>pm10</th>\n",
       "      <th>pm25</th>\n",
       "      <th>precipitation</th>\n",
       "      <th>pressure</th>\n",
       "      <th>so2</th>\n",
       "      <th>temperature</th>\n",
       "      <th>wd</th>\n",
       "      <th>wind-gust</th>\n",
       "      <th>wind-speed</th>\n",
       "    </tr>\n",
       "  </thead>\n",
       "  <tbody>\n",
       "    <tr>\n",
       "      <th>0</th>\n",
       "      <td>2023-06-26</td>\n",
       "      <td>AE</td>\n",
       "      <td>Abu Dhabi</td>\n",
       "      <td>NaN</td>\n",
       "      <td>0.1</td>\n",
       "      <td>26.0</td>\n",
       "      <td>79.0</td>\n",
       "      <td>NaN</td>\n",
       "      <td>NaN</td>\n",
       "      <td>19.2</td>\n",
       "      <td>...</td>\n",
       "      <td>NaN</td>\n",
       "      <td>136.0</td>\n",
       "      <td>178.0</td>\n",
       "      <td>NaN</td>\n",
       "      <td>997.0</td>\n",
       "      <td>50.5</td>\n",
       "      <td>40.0</td>\n",
       "      <td>NaN</td>\n",
       "      <td>NaN</td>\n",
       "      <td>7.2</td>\n",
       "    </tr>\n",
       "    <tr>\n",
       "      <th>1</th>\n",
       "      <td>2023-06-26</td>\n",
       "      <td>AE</td>\n",
       "      <td>Dubai</td>\n",
       "      <td>NaN</td>\n",
       "      <td>NaN</td>\n",
       "      <td>29.0</td>\n",
       "      <td>79.0</td>\n",
       "      <td>NaN</td>\n",
       "      <td>NaN</td>\n",
       "      <td>NaN</td>\n",
       "      <td>...</td>\n",
       "      <td>NaN</td>\n",
       "      <td>NaN</td>\n",
       "      <td>132.0</td>\n",
       "      <td>NaN</td>\n",
       "      <td>997.0</td>\n",
       "      <td>NaN</td>\n",
       "      <td>39.5</td>\n",
       "      <td>NaN</td>\n",
       "      <td>NaN</td>\n",
       "      <td>6.6</td>\n",
       "    </tr>\n",
       "    <tr>\n",
       "      <th>2</th>\n",
       "      <td>2023-06-26</td>\n",
       "      <td>AR</td>\n",
       "      <td>Buenos Aires</td>\n",
       "      <td>NaN</td>\n",
       "      <td>12.2</td>\n",
       "      <td>14.3</td>\n",
       "      <td>100.0</td>\n",
       "      <td>NaN</td>\n",
       "      <td>NaN</td>\n",
       "      <td>17.0</td>\n",
       "      <td>...</td>\n",
       "      <td>NaN</td>\n",
       "      <td>59.0</td>\n",
       "      <td>144.0</td>\n",
       "      <td>NaN</td>\n",
       "      <td>1014.9</td>\n",
       "      <td>14.7</td>\n",
       "      <td>19.9</td>\n",
       "      <td>292.5</td>\n",
       "      <td>2.4</td>\n",
       "      <td>5.1</td>\n",
       "    </tr>\n",
       "    <tr>\n",
       "      <th>3</th>\n",
       "      <td>2023-06-26</td>\n",
       "      <td>AU</td>\n",
       "      <td>Adelaide</td>\n",
       "      <td>NaN</td>\n",
       "      <td>3.9</td>\n",
       "      <td>11.6</td>\n",
       "      <td>92.9</td>\n",
       "      <td>NaN</td>\n",
       "      <td>NaN</td>\n",
       "      <td>15.1</td>\n",
       "      <td>...</td>\n",
       "      <td>NaN</td>\n",
       "      <td>41.0</td>\n",
       "      <td>57.0</td>\n",
       "      <td>0.3</td>\n",
       "      <td>1020.3</td>\n",
       "      <td>NaN</td>\n",
       "      <td>16.5</td>\n",
       "      <td>NaN</td>\n",
       "      <td>13.1</td>\n",
       "      <td>7.2</td>\n",
       "    </tr>\n",
       "    <tr>\n",
       "      <th>4</th>\n",
       "      <td>2023-06-26</td>\n",
       "      <td>AU</td>\n",
       "      <td>Brisbane</td>\n",
       "      <td>NaN</td>\n",
       "      <td>3.1</td>\n",
       "      <td>8.7</td>\n",
       "      <td>83.6</td>\n",
       "      <td>NaN</td>\n",
       "      <td>NaN</td>\n",
       "      <td>16.5</td>\n",
       "      <td>...</td>\n",
       "      <td>NaN</td>\n",
       "      <td>90.0</td>\n",
       "      <td>71.0</td>\n",
       "      <td>NaN</td>\n",
       "      <td>1020.2</td>\n",
       "      <td>3.1</td>\n",
       "      <td>24.4</td>\n",
       "      <td>326.0</td>\n",
       "      <td>20.5</td>\n",
       "      <td>7.7</td>\n",
       "    </tr>\n",
       "  </tbody>\n",
       "</table>\n",
       "<p>5 rows × 21 columns</p>\n",
       "</div>"
      ],
      "text/plain": [
       "Specie       Date Country          City  aqi    co   dew  humidity  mepaqi  \\\n",
       "0      2023-06-26      AE     Abu Dhabi  NaN   0.1  26.0      79.0     NaN   \n",
       "1      2023-06-26      AE         Dubai  NaN   NaN  29.0      79.0     NaN   \n",
       "2      2023-06-26      AR  Buenos Aires  NaN  12.2  14.3     100.0     NaN   \n",
       "3      2023-06-26      AU      Adelaide  NaN   3.9  11.6      92.9     NaN   \n",
       "4      2023-06-26      AU      Brisbane  NaN   3.1   8.7      83.6     NaN   \n",
       "\n",
       "Specie  neph   no2  ...  pm1   pm10   pm25  precipitation  pressure   so2  \\\n",
       "0        NaN  19.2  ...  NaN  136.0  178.0            NaN     997.0  50.5   \n",
       "1        NaN   NaN  ...  NaN    NaN  132.0            NaN     997.0   NaN   \n",
       "2        NaN  17.0  ...  NaN   59.0  144.0            NaN    1014.9  14.7   \n",
       "3        NaN  15.1  ...  NaN   41.0   57.0            0.3    1020.3   NaN   \n",
       "4        NaN  16.5  ...  NaN   90.0   71.0            NaN    1020.2   3.1   \n",
       "\n",
       "Specie  temperature     wd  wind-gust  wind-speed  \n",
       "0              40.0    NaN        NaN         7.2  \n",
       "1              39.5    NaN        NaN         6.6  \n",
       "2              19.9  292.5        2.4         5.1  \n",
       "3              16.5    NaN       13.1         7.2  \n",
       "4              24.4  326.0       20.5         7.7  \n",
       "\n",
       "[5 rows x 21 columns]"
      ]
     },
     "execution_count": 24,
     "metadata": {},
     "output_type": "execute_result"
    }
   ],
   "source": [
    "print(data_df_2023_Q3.shape)\n",
    "data_df_2023_Q3.head()"
   ]
  },
  {
   "cell_type": "code",
   "execution_count": 25,
   "id": "ee926cbf",
   "metadata": {
    "execution": {
     "iopub.execute_input": "2024-12-31T12:06:14.371352Z",
     "iopub.status.busy": "2024-12-31T12:06:14.371025Z",
     "iopub.status.idle": "2024-12-31T12:06:14.381607Z",
     "shell.execute_reply": "2024-12-31T12:06:14.380658Z"
    },
    "executionInfo": {
     "elapsed": 7,
     "status": "ok",
     "timestamp": 1734445422417,
     "user": {
      "displayName": "Tahmida Majumder",
      "userId": "15415648085337204568"
     },
     "user_tz": -480
    },
    "id": "nmU29RmFp4aI",
    "outputId": "840ca7e9-e5b2-4ec1-b8b5-60f43e5204ef",
    "papermill": {
     "duration": 0.052351,
     "end_time": "2024-12-31T12:06:14.383170",
     "exception": false,
     "start_time": "2024-12-31T12:06:14.330819",
     "status": "completed"
    },
    "tags": []
   },
   "outputs": [
    {
     "data": {
      "text/plain": [
       "Specie\n",
       "Date                 0\n",
       "Country              0\n",
       "City                 0\n",
       "aqi              25102\n",
       "co               10340\n",
       "dew               5166\n",
       "humidity            23\n",
       "mepaqi           25099\n",
       "neph             25001\n",
       "no2               4438\n",
       "o3                3734\n",
       "pm1              25100\n",
       "pm10              5937\n",
       "pm25              2644\n",
       "precipitation    21924\n",
       "pressure           169\n",
       "so2               8920\n",
       "temperature          2\n",
       "wd               24217\n",
       "wind-gust         9754\n",
       "wind-speed         557\n",
       "dtype: int64"
      ]
     },
     "execution_count": 25,
     "metadata": {},
     "output_type": "execute_result"
    }
   ],
   "source": [
    "data_df_2023_Q3.isnull().sum()"
   ]
  },
  {
   "cell_type": "code",
   "execution_count": null,
   "id": "43aa5ebb",
   "metadata": {
    "id": "ZCn5R1Oqo4ES",
    "papermill": {
     "duration": 0.040362,
     "end_time": "2024-12-31T12:06:14.465112",
     "exception": false,
     "start_time": "2024-12-31T12:06:14.424750",
     "status": "completed"
    },
    "tags": []
   },
   "outputs": [],
   "source": []
  },
  {
   "cell_type": "markdown",
   "id": "9887c166",
   "metadata": {
    "id": "zx7OUYrpWORd",
    "papermill": {
     "duration": 0.040173,
     "end_time": "2024-12-31T12:06:14.545715",
     "exception": false,
     "start_time": "2024-12-31T12:06:14.505542",
     "status": "completed"
    },
    "tags": []
   },
   "source": [
    "# 2023_Q4"
   ]
  },
  {
   "cell_type": "code",
   "execution_count": 26,
   "id": "194c9486",
   "metadata": {
    "execution": {
     "iopub.execute_input": "2024-12-31T12:06:14.628927Z",
     "iopub.status.busy": "2024-12-31T12:06:14.628592Z",
     "iopub.status.idle": "2024-12-31T12:06:14.845654Z",
     "shell.execute_reply": "2024-12-31T12:06:14.844193Z"
    },
    "executionInfo": {
     "elapsed": 461,
     "status": "ok",
     "timestamp": 1734445422872,
     "user": {
      "displayName": "Tahmida Majumder",
      "userId": "15415648085337204568"
     },
     "user_tz": -480
    },
    "id": "pSl4NkPDot4g",
    "outputId": "6c541288-bf4c-4ab5-f571-68ecaa520f34",
    "papermill": {
     "duration": 0.262342,
     "end_time": "2024-12-31T12:06:14.847746",
     "exception": false,
     "start_time": "2024-12-31T12:06:14.585404",
     "status": "completed"
    },
    "tags": []
   },
   "outputs": [
    {
     "name": "stdout",
     "output_type": "stream",
     "text": [
      "(217731, 5)\n"
     ]
    },
    {
     "data": {
      "text/html": [
       "<div>\n",
       "<style scoped>\n",
       "    .dataframe tbody tr th:only-of-type {\n",
       "        vertical-align: middle;\n",
       "    }\n",
       "\n",
       "    .dataframe tbody tr th {\n",
       "        vertical-align: top;\n",
       "    }\n",
       "\n",
       "    .dataframe thead th {\n",
       "        text-align: right;\n",
       "    }\n",
       "</style>\n",
       "<table border=\"1\" class=\"dataframe\">\n",
       "  <thead>\n",
       "    <tr style=\"text-align: right;\">\n",
       "      <th></th>\n",
       "      <th>Date</th>\n",
       "      <th>Country</th>\n",
       "      <th>City</th>\n",
       "      <th>Specie</th>\n",
       "      <th>max</th>\n",
       "    </tr>\n",
       "  </thead>\n",
       "  <tbody>\n",
       "    <tr>\n",
       "      <th>0</th>\n",
       "      <td>10/30/2023</td>\n",
       "      <td>FI</td>\n",
       "      <td>Turku</td>\n",
       "      <td>pressure</td>\n",
       "      <td>1005.0</td>\n",
       "    </tr>\n",
       "    <tr>\n",
       "      <th>1</th>\n",
       "      <td>11/9/2023</td>\n",
       "      <td>FI</td>\n",
       "      <td>Turku</td>\n",
       "      <td>pressure</td>\n",
       "      <td>1005.0</td>\n",
       "    </tr>\n",
       "    <tr>\n",
       "      <th>2</th>\n",
       "      <td>11/26/2023</td>\n",
       "      <td>FI</td>\n",
       "      <td>Turku</td>\n",
       "      <td>pressure</td>\n",
       "      <td>1009.5</td>\n",
       "    </tr>\n",
       "    <tr>\n",
       "      <th>3</th>\n",
       "      <td>12/6/2023</td>\n",
       "      <td>FI</td>\n",
       "      <td>Turku</td>\n",
       "      <td>pressure</td>\n",
       "      <td>1027.0</td>\n",
       "    </tr>\n",
       "    <tr>\n",
       "      <th>4</th>\n",
       "      <td>12/12/2023</td>\n",
       "      <td>FI</td>\n",
       "      <td>Turku</td>\n",
       "      <td>pressure</td>\n",
       "      <td>1009.0</td>\n",
       "    </tr>\n",
       "    <tr>\n",
       "      <th>5</th>\n",
       "      <td>12/13/2023</td>\n",
       "      <td>FI</td>\n",
       "      <td>Turku</td>\n",
       "      <td>pressure</td>\n",
       "      <td>1010.0</td>\n",
       "    </tr>\n",
       "    <tr>\n",
       "      <th>6</th>\n",
       "      <td>12/30/2023</td>\n",
       "      <td>FI</td>\n",
       "      <td>Turku</td>\n",
       "      <td>pressure</td>\n",
       "      <td>1006.5</td>\n",
       "    </tr>\n",
       "    <tr>\n",
       "      <th>7</th>\n",
       "      <td>10/8/2023</td>\n",
       "      <td>FI</td>\n",
       "      <td>Turku</td>\n",
       "      <td>pressure</td>\n",
       "      <td>1013.0</td>\n",
       "    </tr>\n",
       "    <tr>\n",
       "      <th>8</th>\n",
       "      <td>11/10/2023</td>\n",
       "      <td>FI</td>\n",
       "      <td>Turku</td>\n",
       "      <td>pressure</td>\n",
       "      <td>1002.5</td>\n",
       "    </tr>\n",
       "    <tr>\n",
       "      <th>9</th>\n",
       "      <td>11/22/2023</td>\n",
       "      <td>FI</td>\n",
       "      <td>Turku</td>\n",
       "      <td>pressure</td>\n",
       "      <td>1027.5</td>\n",
       "    </tr>\n",
       "  </tbody>\n",
       "</table>\n",
       "</div>"
      ],
      "text/plain": [
       "         Date Country   City    Specie     max\n",
       "0  10/30/2023      FI  Turku  pressure  1005.0\n",
       "1   11/9/2023      FI  Turku  pressure  1005.0\n",
       "2  11/26/2023      FI  Turku  pressure  1009.5\n",
       "3   12/6/2023      FI  Turku  pressure  1027.0\n",
       "4  12/12/2023      FI  Turku  pressure  1009.0\n",
       "5  12/13/2023      FI  Turku  pressure  1010.0\n",
       "6  12/30/2023      FI  Turku  pressure  1006.5\n",
       "7   10/8/2023      FI  Turku  pressure  1013.0\n",
       "8  11/10/2023      FI  Turku  pressure  1002.5\n",
       "9  11/22/2023      FI  Turku  pressure  1027.5"
      ]
     },
     "execution_count": 26,
     "metadata": {},
     "output_type": "execute_result"
    }
   ],
   "source": [
    "# Loading the data\n",
    "raw_data_2023_Q4 = pd.read_csv(r\"/kaggle/input/raw-data/airqualitydata-2023Q4.csv\")\n",
    "\n",
    "# print the shape\n",
    "print(raw_data_2023_Q4.shape)\n",
    "\n",
    "#runs the first 5 rows\n",
    "raw_data_2023_Q4.head(10)"
   ]
  },
  {
   "cell_type": "code",
   "execution_count": 27,
   "id": "9df2cb62",
   "metadata": {
    "execution": {
     "iopub.execute_input": "2024-12-31T12:06:14.935499Z",
     "iopub.status.busy": "2024-12-31T12:06:14.935132Z",
     "iopub.status.idle": "2024-12-31T12:06:14.967889Z",
     "shell.execute_reply": "2024-12-31T12:06:14.966919Z"
    },
    "id": "svTbkVghpOnR",
    "papermill": {
     "duration": 0.078349,
     "end_time": "2024-12-31T12:06:14.969756",
     "exception": false,
     "start_time": "2024-12-31T12:06:14.891407",
     "status": "completed"
    },
    "tags": []
   },
   "outputs": [],
   "source": [
    "# Convert 'Date' to datetime\n",
    "raw_data_2023_Q4['Date'] = pd.to_datetime(raw_data_2023_Q4['Date'])"
   ]
  },
  {
   "cell_type": "code",
   "execution_count": 28,
   "id": "3a9e907d",
   "metadata": {
    "execution": {
     "iopub.execute_input": "2024-12-31T12:06:15.052736Z",
     "iopub.status.busy": "2024-12-31T12:06:15.052315Z",
     "iopub.status.idle": "2024-12-31T12:06:15.057964Z",
     "shell.execute_reply": "2024-12-31T12:06:15.056930Z"
    },
    "executionInfo": {
     "elapsed": 8,
     "status": "ok",
     "timestamp": 1734445422873,
     "user": {
      "displayName": "Tahmida Majumder",
      "userId": "15415648085337204568"
     },
     "user_tz": -480
    },
    "id": "D9JWIFFVpbUZ",
    "outputId": "80ebfeb3-e4e3-4c0c-c1f6-eaf4f678715e",
    "papermill": {
     "duration": 0.049008,
     "end_time": "2024-12-31T12:06:15.059641",
     "exception": false,
     "start_time": "2024-12-31T12:06:15.010633",
     "status": "completed"
    },
    "tags": []
   },
   "outputs": [
    {
     "data": {
      "text/plain": [
       "(217731, 5)"
      ]
     },
     "execution_count": 28,
     "metadata": {},
     "output_type": "execute_result"
    }
   ],
   "source": [
    "raw_data_2023_Q4.shape"
   ]
  },
  {
   "cell_type": "code",
   "execution_count": 29,
   "id": "97e96ac2",
   "metadata": {
    "execution": {
     "iopub.execute_input": "2024-12-31T12:06:15.141421Z",
     "iopub.status.busy": "2024-12-31T12:06:15.140998Z",
     "iopub.status.idle": "2024-12-31T12:06:15.283127Z",
     "shell.execute_reply": "2024-12-31T12:06:15.282052Z"
    },
    "id": "JEg6HZkRpjGB",
    "papermill": {
     "duration": 0.184881,
     "end_time": "2024-12-31T12:06:15.285173",
     "exception": false,
     "start_time": "2024-12-31T12:06:15.100292",
     "status": "completed"
    },
    "tags": []
   },
   "outputs": [],
   "source": [
    "# Pivot the data\n",
    "data_df_2023_Q4 = raw_data_2023_Q4.pivot_table(\n",
    "    index=['Date', 'Country', 'City'],  # Grouping columns\n",
    "    columns='Specie',                  # Unique values become columns\n",
    "    values='max',                   # Values to aggregate\n",
    "    aggfunc='mean'                     # Aggregation function\n",
    ").reset_index()"
   ]
  },
  {
   "cell_type": "code",
   "execution_count": 30,
   "id": "10675d00",
   "metadata": {
    "execution": {
     "iopub.execute_input": "2024-12-31T12:06:15.367249Z",
     "iopub.status.busy": "2024-12-31T12:06:15.366930Z",
     "iopub.status.idle": "2024-12-31T12:06:15.391730Z",
     "shell.execute_reply": "2024-12-31T12:06:15.390825Z"
    },
    "executionInfo": {
     "elapsed": 11,
     "status": "ok",
     "timestamp": 1734445423320,
     "user": {
      "displayName": "Tahmida Majumder",
      "userId": "15415648085337204568"
     },
     "user_tz": -480
    },
    "id": "TK9gogykpwCE",
    "outputId": "9d3dc0f3-f47a-4e33-a8eb-924bde7fa8c3",
    "papermill": {
     "duration": 0.067955,
     "end_time": "2024-12-31T12:06:15.393440",
     "exception": false,
     "start_time": "2024-12-31T12:06:15.325485",
     "status": "completed"
    },
    "tags": []
   },
   "outputs": [
    {
     "name": "stdout",
     "output_type": "stream",
     "text": [
      "(22632, 21)\n"
     ]
    },
    {
     "data": {
      "text/html": [
       "<div>\n",
       "<style scoped>\n",
       "    .dataframe tbody tr th:only-of-type {\n",
       "        vertical-align: middle;\n",
       "    }\n",
       "\n",
       "    .dataframe tbody tr th {\n",
       "        vertical-align: top;\n",
       "    }\n",
       "\n",
       "    .dataframe thead th {\n",
       "        text-align: right;\n",
       "    }\n",
       "</style>\n",
       "<table border=\"1\" class=\"dataframe\">\n",
       "  <thead>\n",
       "    <tr style=\"text-align: right;\">\n",
       "      <th>Specie</th>\n",
       "      <th>Date</th>\n",
       "      <th>Country</th>\n",
       "      <th>City</th>\n",
       "      <th>aqi</th>\n",
       "      <th>co</th>\n",
       "      <th>dew</th>\n",
       "      <th>humidity</th>\n",
       "      <th>mepaqi</th>\n",
       "      <th>no2</th>\n",
       "      <th>o3</th>\n",
       "      <th>...</th>\n",
       "      <th>pm10</th>\n",
       "      <th>pm25</th>\n",
       "      <th>precipitation</th>\n",
       "      <th>pressure</th>\n",
       "      <th>so2</th>\n",
       "      <th>temperature</th>\n",
       "      <th>uvi</th>\n",
       "      <th>wd</th>\n",
       "      <th>wind-gust</th>\n",
       "      <th>wind-speed</th>\n",
       "    </tr>\n",
       "  </thead>\n",
       "  <tbody>\n",
       "    <tr>\n",
       "      <th>0</th>\n",
       "      <td>2023-09-25</td>\n",
       "      <td>AT</td>\n",
       "      <td>Graz</td>\n",
       "      <td>NaN</td>\n",
       "      <td>0.1</td>\n",
       "      <td>14.0</td>\n",
       "      <td>100.0</td>\n",
       "      <td>NaN</td>\n",
       "      <td>18.8</td>\n",
       "      <td>NaN</td>\n",
       "      <td>...</td>\n",
       "      <td>37.0</td>\n",
       "      <td>55.0</td>\n",
       "      <td>NaN</td>\n",
       "      <td>1026.0</td>\n",
       "      <td>1.1</td>\n",
       "      <td>18.6</td>\n",
       "      <td>NaN</td>\n",
       "      <td>NaN</td>\n",
       "      <td>9.6</td>\n",
       "      <td>4.3</td>\n",
       "    </tr>\n",
       "    <tr>\n",
       "      <th>1</th>\n",
       "      <td>2023-09-25</td>\n",
       "      <td>AT</td>\n",
       "      <td>Innsbruck</td>\n",
       "      <td>NaN</td>\n",
       "      <td>0.1</td>\n",
       "      <td>NaN</td>\n",
       "      <td>58.0</td>\n",
       "      <td>NaN</td>\n",
       "      <td>20.6</td>\n",
       "      <td>NaN</td>\n",
       "      <td>...</td>\n",
       "      <td>29.0</td>\n",
       "      <td>NaN</td>\n",
       "      <td>NaN</td>\n",
       "      <td>1022.1</td>\n",
       "      <td>1.8</td>\n",
       "      <td>26.6</td>\n",
       "      <td>NaN</td>\n",
       "      <td>NaN</td>\n",
       "      <td>6.0</td>\n",
       "      <td>2.0</td>\n",
       "    </tr>\n",
       "    <tr>\n",
       "      <th>2</th>\n",
       "      <td>2023-09-25</td>\n",
       "      <td>AT</td>\n",
       "      <td>Linz</td>\n",
       "      <td>NaN</td>\n",
       "      <td>0.1</td>\n",
       "      <td>13.0</td>\n",
       "      <td>93.0</td>\n",
       "      <td>NaN</td>\n",
       "      <td>22.9</td>\n",
       "      <td>NaN</td>\n",
       "      <td>...</td>\n",
       "      <td>22.0</td>\n",
       "      <td>56.0</td>\n",
       "      <td>NaN</td>\n",
       "      <td>1027.0</td>\n",
       "      <td>3.1</td>\n",
       "      <td>22.8</td>\n",
       "      <td>NaN</td>\n",
       "      <td>NaN</td>\n",
       "      <td>8.0</td>\n",
       "      <td>6.1</td>\n",
       "    </tr>\n",
       "    <tr>\n",
       "      <th>3</th>\n",
       "      <td>2023-09-25</td>\n",
       "      <td>AT</td>\n",
       "      <td>Salzburg</td>\n",
       "      <td>NaN</td>\n",
       "      <td>0.1</td>\n",
       "      <td>13.0</td>\n",
       "      <td>100.0</td>\n",
       "      <td>NaN</td>\n",
       "      <td>28.4</td>\n",
       "      <td>NaN</td>\n",
       "      <td>...</td>\n",
       "      <td>17.0</td>\n",
       "      <td>38.0</td>\n",
       "      <td>NaN</td>\n",
       "      <td>1026.0</td>\n",
       "      <td>1.6</td>\n",
       "      <td>20.0</td>\n",
       "      <td>NaN</td>\n",
       "      <td>NaN</td>\n",
       "      <td>NaN</td>\n",
       "      <td>3.0</td>\n",
       "    </tr>\n",
       "    <tr>\n",
       "      <th>4</th>\n",
       "      <td>2023-09-25</td>\n",
       "      <td>AT</td>\n",
       "      <td>Vienna</td>\n",
       "      <td>NaN</td>\n",
       "      <td>0.1</td>\n",
       "      <td>14.0</td>\n",
       "      <td>89.1</td>\n",
       "      <td>NaN</td>\n",
       "      <td>33.9</td>\n",
       "      <td>NaN</td>\n",
       "      <td>...</td>\n",
       "      <td>50.0</td>\n",
       "      <td>59.0</td>\n",
       "      <td>NaN</td>\n",
       "      <td>1032.5</td>\n",
       "      <td>2.6</td>\n",
       "      <td>23.8</td>\n",
       "      <td>NaN</td>\n",
       "      <td>NaN</td>\n",
       "      <td>22.2</td>\n",
       "      <td>10.0</td>\n",
       "    </tr>\n",
       "  </tbody>\n",
       "</table>\n",
       "<p>5 rows × 21 columns</p>\n",
       "</div>"
      ],
      "text/plain": [
       "Specie       Date Country       City  aqi   co   dew  humidity  mepaqi   no2  \\\n",
       "0      2023-09-25      AT       Graz  NaN  0.1  14.0     100.0     NaN  18.8   \n",
       "1      2023-09-25      AT  Innsbruck  NaN  0.1   NaN      58.0     NaN  20.6   \n",
       "2      2023-09-25      AT       Linz  NaN  0.1  13.0      93.0     NaN  22.9   \n",
       "3      2023-09-25      AT   Salzburg  NaN  0.1  13.0     100.0     NaN  28.4   \n",
       "4      2023-09-25      AT     Vienna  NaN  0.1  14.0      89.1     NaN  33.9   \n",
       "\n",
       "Specie  o3  ...  pm10  pm25  precipitation  pressure  so2  temperature  uvi  \\\n",
       "0      NaN  ...  37.0  55.0            NaN    1026.0  1.1         18.6  NaN   \n",
       "1      NaN  ...  29.0   NaN            NaN    1022.1  1.8         26.6  NaN   \n",
       "2      NaN  ...  22.0  56.0            NaN    1027.0  3.1         22.8  NaN   \n",
       "3      NaN  ...  17.0  38.0            NaN    1026.0  1.6         20.0  NaN   \n",
       "4      NaN  ...  50.0  59.0            NaN    1032.5  2.6         23.8  NaN   \n",
       "\n",
       "Specie  wd  wind-gust  wind-speed  \n",
       "0      NaN        9.6         4.3  \n",
       "1      NaN        6.0         2.0  \n",
       "2      NaN        8.0         6.1  \n",
       "3      NaN        NaN         3.0  \n",
       "4      NaN       22.2        10.0  \n",
       "\n",
       "[5 rows x 21 columns]"
      ]
     },
     "execution_count": 30,
     "metadata": {},
     "output_type": "execute_result"
    }
   ],
   "source": [
    "print(data_df_2023_Q4.shape)\n",
    "data_df_2023_Q4.head()"
   ]
  },
  {
   "cell_type": "code",
   "execution_count": 31,
   "id": "81bccc18",
   "metadata": {
    "execution": {
     "iopub.execute_input": "2024-12-31T12:06:15.476897Z",
     "iopub.status.busy": "2024-12-31T12:06:15.476562Z",
     "iopub.status.idle": "2024-12-31T12:06:15.486650Z",
     "shell.execute_reply": "2024-12-31T12:06:15.485500Z"
    },
    "executionInfo": {
     "elapsed": 6,
     "status": "ok",
     "timestamp": 1734445423320,
     "user": {
      "displayName": "Tahmida Majumder",
      "userId": "15415648085337204568"
     },
     "user_tz": -480
    },
    "id": "tVHbYj0dp59i",
    "outputId": "f3cf929b-27ac-48c7-aeea-5604a0aca082",
    "papermill": {
     "duration": 0.055078,
     "end_time": "2024-12-31T12:06:15.488935",
     "exception": false,
     "start_time": "2024-12-31T12:06:15.433857",
     "status": "completed"
    },
    "tags": []
   },
   "outputs": [
    {
     "data": {
      "text/plain": [
       "Specie\n",
       "Date                 0\n",
       "Country              0\n",
       "City                 0\n",
       "aqi              21358\n",
       "co               11602\n",
       "dew               4359\n",
       "humidity            65\n",
       "mepaqi           22534\n",
       "no2               5375\n",
       "o3                7954\n",
       "pm1              22372\n",
       "pm10              5288\n",
       "pm25              5839\n",
       "precipitation    19716\n",
       "pressure           201\n",
       "so2               8084\n",
       "temperature         32\n",
       "uvi              21841\n",
       "wd               21683\n",
       "wind-gust        11027\n",
       "wind-speed         315\n",
       "dtype: int64"
      ]
     },
     "execution_count": 31,
     "metadata": {},
     "output_type": "execute_result"
    }
   ],
   "source": [
    "data_df_2023_Q4.isnull().sum()"
   ]
  },
  {
   "cell_type": "markdown",
   "id": "2edce085",
   "metadata": {
    "id": "QY0v8HWwWVbJ",
    "papermill": {
     "duration": 0.040506,
     "end_time": "2024-12-31T12:06:15.571554",
     "exception": false,
     "start_time": "2024-12-31T12:06:15.531048",
     "status": "completed"
    },
    "tags": []
   },
   "source": [
    "# 2022_Q2"
   ]
  },
  {
   "cell_type": "code",
   "execution_count": 32,
   "id": "7bdae8ea",
   "metadata": {
    "execution": {
     "iopub.execute_input": "2024-12-31T12:06:15.652916Z",
     "iopub.status.busy": "2024-12-31T12:06:15.652538Z",
     "iopub.status.idle": "2024-12-31T12:06:16.236140Z",
     "shell.execute_reply": "2024-12-31T12:06:16.235084Z"
    },
    "executionInfo": {
     "elapsed": 963,
     "status": "ok",
     "timestamp": 1734445424278,
     "user": {
      "displayName": "Tahmida Majumder",
      "userId": "15415648085337204568"
     },
     "user_tz": -480
    },
    "id": "58jUmENe5eqK",
    "outputId": "a45fd0b4-9269-43c8-ff9e-36269f11ba3b",
    "papermill": {
     "duration": 0.6262,
     "end_time": "2024-12-31T12:06:16.237865",
     "exception": false,
     "start_time": "2024-12-31T12:06:15.611665",
     "status": "completed"
    },
    "tags": []
   },
   "outputs": [
    {
     "name": "stdout",
     "output_type": "stream",
     "text": [
      "(573836, 5)\n"
     ]
    },
    {
     "data": {
      "text/html": [
       "<div>\n",
       "<style scoped>\n",
       "    .dataframe tbody tr th:only-of-type {\n",
       "        vertical-align: middle;\n",
       "    }\n",
       "\n",
       "    .dataframe tbody tr th {\n",
       "        vertical-align: top;\n",
       "    }\n",
       "\n",
       "    .dataframe thead th {\n",
       "        text-align: right;\n",
       "    }\n",
       "</style>\n",
       "<table border=\"1\" class=\"dataframe\">\n",
       "  <thead>\n",
       "    <tr style=\"text-align: right;\">\n",
       "      <th></th>\n",
       "      <th>Date</th>\n",
       "      <th>Country</th>\n",
       "      <th>City</th>\n",
       "      <th>Specie</th>\n",
       "      <th>max</th>\n",
       "    </tr>\n",
       "  </thead>\n",
       "  <tbody>\n",
       "    <tr>\n",
       "      <th>0</th>\n",
       "      <td>3/31/2022</td>\n",
       "      <td>GT</td>\n",
       "      <td>Guatemala City</td>\n",
       "      <td>pressure</td>\n",
       "      <td>1020.0</td>\n",
       "    </tr>\n",
       "    <tr>\n",
       "      <th>1</th>\n",
       "      <td>4/23/2022</td>\n",
       "      <td>GT</td>\n",
       "      <td>Guatemala City</td>\n",
       "      <td>pressure</td>\n",
       "      <td>1023.0</td>\n",
       "    </tr>\n",
       "    <tr>\n",
       "      <th>2</th>\n",
       "      <td>5/6/2022</td>\n",
       "      <td>GT</td>\n",
       "      <td>Guatemala City</td>\n",
       "      <td>pressure</td>\n",
       "      <td>1023.0</td>\n",
       "    </tr>\n",
       "    <tr>\n",
       "      <th>3</th>\n",
       "      <td>6/10/2022</td>\n",
       "      <td>GT</td>\n",
       "      <td>Guatemala City</td>\n",
       "      <td>pressure</td>\n",
       "      <td>1022.0</td>\n",
       "    </tr>\n",
       "    <tr>\n",
       "      <th>4</th>\n",
       "      <td>4/4/2022</td>\n",
       "      <td>GT</td>\n",
       "      <td>Guatemala City</td>\n",
       "      <td>pressure</td>\n",
       "      <td>1020.0</td>\n",
       "    </tr>\n",
       "    <tr>\n",
       "      <th>5</th>\n",
       "      <td>5/13/2022</td>\n",
       "      <td>GT</td>\n",
       "      <td>Guatemala City</td>\n",
       "      <td>pressure</td>\n",
       "      <td>1022.0</td>\n",
       "    </tr>\n",
       "    <tr>\n",
       "      <th>6</th>\n",
       "      <td>6/3/2022</td>\n",
       "      <td>GT</td>\n",
       "      <td>Guatemala City</td>\n",
       "      <td>pressure</td>\n",
       "      <td>1019.0</td>\n",
       "    </tr>\n",
       "    <tr>\n",
       "      <th>7</th>\n",
       "      <td>6/9/2022</td>\n",
       "      <td>GT</td>\n",
       "      <td>Guatemala City</td>\n",
       "      <td>pressure</td>\n",
       "      <td>1022.0</td>\n",
       "    </tr>\n",
       "    <tr>\n",
       "      <th>8</th>\n",
       "      <td>6/2/2022</td>\n",
       "      <td>GT</td>\n",
       "      <td>Guatemala City</td>\n",
       "      <td>pressure</td>\n",
       "      <td>1019.0</td>\n",
       "    </tr>\n",
       "    <tr>\n",
       "      <th>9</th>\n",
       "      <td>6/30/2022</td>\n",
       "      <td>GT</td>\n",
       "      <td>Guatemala City</td>\n",
       "      <td>pressure</td>\n",
       "      <td>1025.0</td>\n",
       "    </tr>\n",
       "  </tbody>\n",
       "</table>\n",
       "</div>"
      ],
      "text/plain": [
       "        Date Country            City    Specie     max\n",
       "0  3/31/2022      GT  Guatemala City  pressure  1020.0\n",
       "1  4/23/2022      GT  Guatemala City  pressure  1023.0\n",
       "2   5/6/2022      GT  Guatemala City  pressure  1023.0\n",
       "3  6/10/2022      GT  Guatemala City  pressure  1022.0\n",
       "4   4/4/2022      GT  Guatemala City  pressure  1020.0\n",
       "5  5/13/2022      GT  Guatemala City  pressure  1022.0\n",
       "6   6/3/2022      GT  Guatemala City  pressure  1019.0\n",
       "7   6/9/2022      GT  Guatemala City  pressure  1022.0\n",
       "8   6/2/2022      GT  Guatemala City  pressure  1019.0\n",
       "9  6/30/2022      GT  Guatemala City  pressure  1025.0"
      ]
     },
     "execution_count": 32,
     "metadata": {},
     "output_type": "execute_result"
    }
   ],
   "source": [
    "# Loading the data\n",
    "raw_data_2022_Q2 = pd.read_csv(r\"/kaggle/input/raw-data/airqualitydata-2022Q2.csv\")\n",
    "\n",
    "# print the shape\n",
    "print(raw_data_2022_Q2.shape)\n",
    "\n",
    "#runs the first 5 rows\n",
    "raw_data_2022_Q2.head(10)"
   ]
  },
  {
   "cell_type": "code",
   "execution_count": 33,
   "id": "c4239ccd",
   "metadata": {
    "execution": {
     "iopub.execute_input": "2024-12-31T12:06:16.320979Z",
     "iopub.status.busy": "2024-12-31T12:06:16.320644Z",
     "iopub.status.idle": "2024-12-31T12:06:16.401462Z",
     "shell.execute_reply": "2024-12-31T12:06:16.400503Z"
    },
    "id": "WRRaOcrK5eqK",
    "papermill": {
     "duration": 0.124434,
     "end_time": "2024-12-31T12:06:16.403318",
     "exception": false,
     "start_time": "2024-12-31T12:06:16.278884",
     "status": "completed"
    },
    "tags": []
   },
   "outputs": [],
   "source": [
    "# Convert 'Date' to datetime\n",
    "raw_data_2022_Q2['Date'] = pd.to_datetime(raw_data_2022_Q2['Date'])"
   ]
  },
  {
   "cell_type": "code",
   "execution_count": 34,
   "id": "e37d120c",
   "metadata": {
    "execution": {
     "iopub.execute_input": "2024-12-31T12:06:16.487036Z",
     "iopub.status.busy": "2024-12-31T12:06:16.486707Z",
     "iopub.status.idle": "2024-12-31T12:06:16.492459Z",
     "shell.execute_reply": "2024-12-31T12:06:16.491408Z"
    },
    "executionInfo": {
     "elapsed": 8,
     "status": "ok",
     "timestamp": 1734445424279,
     "user": {
      "displayName": "Tahmida Majumder",
      "userId": "15415648085337204568"
     },
     "user_tz": -480
    },
    "id": "EzyYRpJ25eqL",
    "outputId": "21656761-5883-4d1f-9437-70912960c206",
    "papermill": {
     "duration": 0.049888,
     "end_time": "2024-12-31T12:06:16.494209",
     "exception": false,
     "start_time": "2024-12-31T12:06:16.444321",
     "status": "completed"
    },
    "tags": []
   },
   "outputs": [
    {
     "data": {
      "text/plain": [
       "(573836, 5)"
      ]
     },
     "execution_count": 34,
     "metadata": {},
     "output_type": "execute_result"
    }
   ],
   "source": [
    "raw_data_2022_Q2.shape"
   ]
  },
  {
   "cell_type": "code",
   "execution_count": 35,
   "id": "6ba0bada",
   "metadata": {
    "execution": {
     "iopub.execute_input": "2024-12-31T12:06:16.578224Z",
     "iopub.status.busy": "2024-12-31T12:06:16.577903Z",
     "iopub.status.idle": "2024-12-31T12:06:16.972498Z",
     "shell.execute_reply": "2024-12-31T12:06:16.971487Z"
    },
    "id": "sa6wsiuz5eqL",
    "papermill": {
     "duration": 0.438934,
     "end_time": "2024-12-31T12:06:16.974364",
     "exception": false,
     "start_time": "2024-12-31T12:06:16.535430",
     "status": "completed"
    },
    "tags": []
   },
   "outputs": [],
   "source": [
    "# Pivot the data\n",
    "data_df_2022_Q2 = raw_data_2022_Q2.pivot_table(\n",
    "    index=['Date', 'Country', 'City'],  # Grouping columns\n",
    "    columns='Specie',                  # Unique values become columns\n",
    "    values='max',                   # Values to aggregate\n",
    "    aggfunc='mean'                     # Aggregation function\n",
    ").reset_index()"
   ]
  },
  {
   "cell_type": "code",
   "execution_count": 36,
   "id": "2e136a0b",
   "metadata": {
    "execution": {
     "iopub.execute_input": "2024-12-31T12:06:17.058775Z",
     "iopub.status.busy": "2024-12-31T12:06:17.058439Z",
     "iopub.status.idle": "2024-12-31T12:06:17.084388Z",
     "shell.execute_reply": "2024-12-31T12:06:17.083312Z"
    },
    "executionInfo": {
     "elapsed": 11,
     "status": "ok",
     "timestamp": 1734445424705,
     "user": {
      "displayName": "Tahmida Majumder",
      "userId": "15415648085337204568"
     },
     "user_tz": -480
    },
    "id": "ouR90SnN5eqL",
    "outputId": "30e9aa2c-b89e-4e26-c740-6544e30b9b38",
    "papermill": {
     "duration": 0.06953,
     "end_time": "2024-12-31T12:06:17.085898",
     "exception": false,
     "start_time": "2024-12-31T12:06:17.016368",
     "status": "completed"
    },
    "tags": []
   },
   "outputs": [
    {
     "name": "stdout",
     "output_type": "stream",
     "text": [
      "(56751, 22)\n"
     ]
    },
    {
     "data": {
      "text/html": [
       "<div>\n",
       "<style scoped>\n",
       "    .dataframe tbody tr th:only-of-type {\n",
       "        vertical-align: middle;\n",
       "    }\n",
       "\n",
       "    .dataframe tbody tr th {\n",
       "        vertical-align: top;\n",
       "    }\n",
       "\n",
       "    .dataframe thead th {\n",
       "        text-align: right;\n",
       "    }\n",
       "</style>\n",
       "<table border=\"1\" class=\"dataframe\">\n",
       "  <thead>\n",
       "    <tr style=\"text-align: right;\">\n",
       "      <th>Specie</th>\n",
       "      <th>Date</th>\n",
       "      <th>Country</th>\n",
       "      <th>City</th>\n",
       "      <th>aqi</th>\n",
       "      <th>co</th>\n",
       "      <th>dew</th>\n",
       "      <th>humidity</th>\n",
       "      <th>mepaqi</th>\n",
       "      <th>neph</th>\n",
       "      <th>no2</th>\n",
       "      <th>...</th>\n",
       "      <th>pm10</th>\n",
       "      <th>pm25</th>\n",
       "      <th>precipitation</th>\n",
       "      <th>pressure</th>\n",
       "      <th>so2</th>\n",
       "      <th>temperature</th>\n",
       "      <th>uvi</th>\n",
       "      <th>wd</th>\n",
       "      <th>wind-gust</th>\n",
       "      <th>wind-speed</th>\n",
       "    </tr>\n",
       "  </thead>\n",
       "  <tbody>\n",
       "    <tr>\n",
       "      <th>0</th>\n",
       "      <td>2022-03-28</td>\n",
       "      <td>AE</td>\n",
       "      <td>Abu Dhabi</td>\n",
       "      <td>NaN</td>\n",
       "      <td>0.1</td>\n",
       "      <td>16.0</td>\n",
       "      <td>73.3</td>\n",
       "      <td>NaN</td>\n",
       "      <td>NaN</td>\n",
       "      <td>10.9</td>\n",
       "      <td>...</td>\n",
       "      <td>93.0</td>\n",
       "      <td>61.0</td>\n",
       "      <td>NaN</td>\n",
       "      <td>1019.2</td>\n",
       "      <td>41.3</td>\n",
       "      <td>25.1</td>\n",
       "      <td>NaN</td>\n",
       "      <td>NaN</td>\n",
       "      <td>6.3</td>\n",
       "      <td>8.7</td>\n",
       "    </tr>\n",
       "    <tr>\n",
       "      <th>1</th>\n",
       "      <td>2022-03-28</td>\n",
       "      <td>AE</td>\n",
       "      <td>Dubai</td>\n",
       "      <td>NaN</td>\n",
       "      <td>NaN</td>\n",
       "      <td>17.0</td>\n",
       "      <td>68.0</td>\n",
       "      <td>NaN</td>\n",
       "      <td>NaN</td>\n",
       "      <td>NaN</td>\n",
       "      <td>...</td>\n",
       "      <td>NaN</td>\n",
       "      <td>80.0</td>\n",
       "      <td>NaN</td>\n",
       "      <td>1017.0</td>\n",
       "      <td>NaN</td>\n",
       "      <td>26.0</td>\n",
       "      <td>NaN</td>\n",
       "      <td>NaN</td>\n",
       "      <td>NaN</td>\n",
       "      <td>7.7</td>\n",
       "    </tr>\n",
       "    <tr>\n",
       "      <th>2</th>\n",
       "      <td>2022-03-28</td>\n",
       "      <td>AR</td>\n",
       "      <td>Buenos Aires</td>\n",
       "      <td>NaN</td>\n",
       "      <td>0.1</td>\n",
       "      <td>17.7</td>\n",
       "      <td>89.0</td>\n",
       "      <td>NaN</td>\n",
       "      <td>NaN</td>\n",
       "      <td>NaN</td>\n",
       "      <td>...</td>\n",
       "      <td>35.0</td>\n",
       "      <td>95.0</td>\n",
       "      <td>NaN</td>\n",
       "      <td>1024.7</td>\n",
       "      <td>64.8</td>\n",
       "      <td>27.3</td>\n",
       "      <td>NaN</td>\n",
       "      <td>337.5</td>\n",
       "      <td>13.4</td>\n",
       "      <td>5.1</td>\n",
       "    </tr>\n",
       "    <tr>\n",
       "      <th>3</th>\n",
       "      <td>2022-03-28</td>\n",
       "      <td>AT</td>\n",
       "      <td>Graz</td>\n",
       "      <td>NaN</td>\n",
       "      <td>0.1</td>\n",
       "      <td>3.9</td>\n",
       "      <td>80.8</td>\n",
       "      <td>NaN</td>\n",
       "      <td>NaN</td>\n",
       "      <td>48.0</td>\n",
       "      <td>...</td>\n",
       "      <td>137.0</td>\n",
       "      <td>NaN</td>\n",
       "      <td>NaN</td>\n",
       "      <td>1026.8</td>\n",
       "      <td>13.7</td>\n",
       "      <td>22.7</td>\n",
       "      <td>NaN</td>\n",
       "      <td>NaN</td>\n",
       "      <td>10.5</td>\n",
       "      <td>5.5</td>\n",
       "    </tr>\n",
       "    <tr>\n",
       "      <th>4</th>\n",
       "      <td>2022-03-28</td>\n",
       "      <td>AT</td>\n",
       "      <td>Innsbruck</td>\n",
       "      <td>NaN</td>\n",
       "      <td>0.1</td>\n",
       "      <td>-0.5</td>\n",
       "      <td>77.0</td>\n",
       "      <td>NaN</td>\n",
       "      <td>NaN</td>\n",
       "      <td>38.0</td>\n",
       "      <td>...</td>\n",
       "      <td>59.0</td>\n",
       "      <td>NaN</td>\n",
       "      <td>99.0</td>\n",
       "      <td>1027.0</td>\n",
       "      <td>1.1</td>\n",
       "      <td>22.0</td>\n",
       "      <td>NaN</td>\n",
       "      <td>NaN</td>\n",
       "      <td>9.5</td>\n",
       "      <td>8.0</td>\n",
       "    </tr>\n",
       "  </tbody>\n",
       "</table>\n",
       "<p>5 rows × 22 columns</p>\n",
       "</div>"
      ],
      "text/plain": [
       "Specie       Date Country          City  aqi   co   dew  humidity  mepaqi  \\\n",
       "0      2022-03-28      AE     Abu Dhabi  NaN  0.1  16.0      73.3     NaN   \n",
       "1      2022-03-28      AE         Dubai  NaN  NaN  17.0      68.0     NaN   \n",
       "2      2022-03-28      AR  Buenos Aires  NaN  0.1  17.7      89.0     NaN   \n",
       "3      2022-03-28      AT          Graz  NaN  0.1   3.9      80.8     NaN   \n",
       "4      2022-03-28      AT     Innsbruck  NaN  0.1  -0.5      77.0     NaN   \n",
       "\n",
       "Specie  neph   no2  ...   pm10  pm25  precipitation  pressure   so2  \\\n",
       "0        NaN  10.9  ...   93.0  61.0            NaN    1019.2  41.3   \n",
       "1        NaN   NaN  ...    NaN  80.0            NaN    1017.0   NaN   \n",
       "2        NaN   NaN  ...   35.0  95.0            NaN    1024.7  64.8   \n",
       "3        NaN  48.0  ...  137.0   NaN            NaN    1026.8  13.7   \n",
       "4        NaN  38.0  ...   59.0   NaN           99.0    1027.0   1.1   \n",
       "\n",
       "Specie  temperature  uvi     wd  wind-gust  wind-speed  \n",
       "0              25.1  NaN    NaN        6.3         8.7  \n",
       "1              26.0  NaN    NaN        NaN         7.7  \n",
       "2              27.3  NaN  337.5       13.4         5.1  \n",
       "3              22.7  NaN    NaN       10.5         5.5  \n",
       "4              22.0  NaN    NaN        9.5         8.0  \n",
       "\n",
       "[5 rows x 22 columns]"
      ]
     },
     "execution_count": 36,
     "metadata": {},
     "output_type": "execute_result"
    }
   ],
   "source": [
    "print(data_df_2022_Q2.shape)\n",
    "data_df_2022_Q2.head()"
   ]
  },
  {
   "cell_type": "code",
   "execution_count": 37,
   "id": "f469a83a",
   "metadata": {
    "execution": {
     "iopub.execute_input": "2024-12-31T12:06:17.169770Z",
     "iopub.status.busy": "2024-12-31T12:06:17.169358Z",
     "iopub.status.idle": "2024-12-31T12:06:17.183500Z",
     "shell.execute_reply": "2024-12-31T12:06:17.182610Z"
    },
    "executionInfo": {
     "elapsed": 8,
     "status": "ok",
     "timestamp": 1734445424705,
     "user": {
      "displayName": "Tahmida Majumder",
      "userId": "15415648085337204568"
     },
     "user_tz": -480
    },
    "id": "1Oex3eQC5eqL",
    "outputId": "1d3cf39e-1740-47e0-bd36-82b17d176256",
    "papermill": {
     "duration": 0.057487,
     "end_time": "2024-12-31T12:06:17.185049",
     "exception": false,
     "start_time": "2024-12-31T12:06:17.127562",
     "status": "completed"
    },
    "tags": []
   },
   "outputs": [
    {
     "data": {
      "text/plain": [
       "Specie\n",
       "Date                 0\n",
       "Country              0\n",
       "City                 0\n",
       "aqi              55322\n",
       "co               20880\n",
       "dew              12576\n",
       "humidity            86\n",
       "mepaqi           56653\n",
       "neph             56555\n",
       "no2              10984\n",
       "o3               14660\n",
       "pm1              56486\n",
       "pm10              9916\n",
       "pm25              7691\n",
       "precipitation    50204\n",
       "pressure           358\n",
       "so2              18493\n",
       "temperature         69\n",
       "uvi              55772\n",
       "wd               52418\n",
       "wind-gust        24603\n",
       "wind-speed         707\n",
       "dtype: int64"
      ]
     },
     "execution_count": 37,
     "metadata": {},
     "output_type": "execute_result"
    }
   ],
   "source": [
    "data_df_2022_Q2.isnull().sum()"
   ]
  },
  {
   "cell_type": "code",
   "execution_count": null,
   "id": "cfe425b3",
   "metadata": {
    "id": "eg2MYloopQVg",
    "papermill": {
     "duration": 0.040781,
     "end_time": "2024-12-31T12:06:17.267605",
     "exception": false,
     "start_time": "2024-12-31T12:06:17.226824",
     "status": "completed"
    },
    "tags": []
   },
   "outputs": [],
   "source": []
  },
  {
   "cell_type": "markdown",
   "id": "4361601d",
   "metadata": {
    "id": "SOVFr2FF6Vbg",
    "papermill": {
     "duration": 0.040448,
     "end_time": "2024-12-31T12:06:17.348948",
     "exception": false,
     "start_time": "2024-12-31T12:06:17.308500",
     "status": "completed"
    },
    "tags": []
   },
   "source": [
    "# 2022_Q3"
   ]
  },
  {
   "cell_type": "code",
   "execution_count": 38,
   "id": "2c8b14c3",
   "metadata": {
    "execution": {
     "iopub.execute_input": "2024-12-31T12:06:17.431660Z",
     "iopub.status.busy": "2024-12-31T12:06:17.431252Z",
     "iopub.status.idle": "2024-12-31T12:06:17.968699Z",
     "shell.execute_reply": "2024-12-31T12:06:17.967658Z"
    },
    "executionInfo": {
     "elapsed": 1126,
     "status": "ok",
     "timestamp": 1734445425824,
     "user": {
      "displayName": "Tahmida Majumder",
      "userId": "15415648085337204568"
     },
     "user_tz": -480
    },
    "id": "AgeZtu0d6Vbh",
    "outputId": "66b85b8c-f8b6-4ed4-98a7-a9b4035b976b",
    "papermill": {
     "duration": 0.580727,
     "end_time": "2024-12-31T12:06:17.970445",
     "exception": false,
     "start_time": "2024-12-31T12:06:17.389718",
     "status": "completed"
    },
    "tags": []
   },
   "outputs": [
    {
     "name": "stdout",
     "output_type": "stream",
     "text": [
      "(570466, 5)\n"
     ]
    },
    {
     "data": {
      "text/html": [
       "<div>\n",
       "<style scoped>\n",
       "    .dataframe tbody tr th:only-of-type {\n",
       "        vertical-align: middle;\n",
       "    }\n",
       "\n",
       "    .dataframe tbody tr th {\n",
       "        vertical-align: top;\n",
       "    }\n",
       "\n",
       "    .dataframe thead th {\n",
       "        text-align: right;\n",
       "    }\n",
       "</style>\n",
       "<table border=\"1\" class=\"dataframe\">\n",
       "  <thead>\n",
       "    <tr style=\"text-align: right;\">\n",
       "      <th></th>\n",
       "      <th>Date</th>\n",
       "      <th>Country</th>\n",
       "      <th>City</th>\n",
       "      <th>Specie</th>\n",
       "      <th>max</th>\n",
       "    </tr>\n",
       "  </thead>\n",
       "  <tbody>\n",
       "    <tr>\n",
       "      <th>0</th>\n",
       "      <td>7/14/2022</td>\n",
       "      <td>MX</td>\n",
       "      <td>Guadalajara</td>\n",
       "      <td>wind-speed</td>\n",
       "      <td>7.7</td>\n",
       "    </tr>\n",
       "    <tr>\n",
       "      <th>1</th>\n",
       "      <td>8/6/2022</td>\n",
       "      <td>MX</td>\n",
       "      <td>Guadalajara</td>\n",
       "      <td>wind-speed</td>\n",
       "      <td>6.0</td>\n",
       "    </tr>\n",
       "    <tr>\n",
       "      <th>2</th>\n",
       "      <td>8/25/2022</td>\n",
       "      <td>MX</td>\n",
       "      <td>Guadalajara</td>\n",
       "      <td>wind-speed</td>\n",
       "      <td>2.5</td>\n",
       "    </tr>\n",
       "    <tr>\n",
       "      <th>3</th>\n",
       "      <td>8/29/2022</td>\n",
       "      <td>MX</td>\n",
       "      <td>Guadalajara</td>\n",
       "      <td>wind-speed</td>\n",
       "      <td>3.0</td>\n",
       "    </tr>\n",
       "    <tr>\n",
       "      <th>4</th>\n",
       "      <td>8/31/2022</td>\n",
       "      <td>MX</td>\n",
       "      <td>Guadalajara</td>\n",
       "      <td>wind-speed</td>\n",
       "      <td>4.6</td>\n",
       "    </tr>\n",
       "    <tr>\n",
       "      <th>5</th>\n",
       "      <td>9/5/2022</td>\n",
       "      <td>MX</td>\n",
       "      <td>Guadalajara</td>\n",
       "      <td>wind-speed</td>\n",
       "      <td>5.6</td>\n",
       "    </tr>\n",
       "    <tr>\n",
       "      <th>6</th>\n",
       "      <td>6/30/2022</td>\n",
       "      <td>MX</td>\n",
       "      <td>Guadalajara</td>\n",
       "      <td>wind-speed</td>\n",
       "      <td>6.1</td>\n",
       "    </tr>\n",
       "    <tr>\n",
       "      <th>7</th>\n",
       "      <td>7/30/2022</td>\n",
       "      <td>MX</td>\n",
       "      <td>Guadalajara</td>\n",
       "      <td>wind-speed</td>\n",
       "      <td>7.8</td>\n",
       "    </tr>\n",
       "    <tr>\n",
       "      <th>8</th>\n",
       "      <td>8/9/2022</td>\n",
       "      <td>MX</td>\n",
       "      <td>Guadalajara</td>\n",
       "      <td>wind-speed</td>\n",
       "      <td>6.1</td>\n",
       "    </tr>\n",
       "    <tr>\n",
       "      <th>9</th>\n",
       "      <td>8/15/2022</td>\n",
       "      <td>MX</td>\n",
       "      <td>Guadalajara</td>\n",
       "      <td>wind-speed</td>\n",
       "      <td>6.6</td>\n",
       "    </tr>\n",
       "  </tbody>\n",
       "</table>\n",
       "</div>"
      ],
      "text/plain": [
       "        Date Country         City      Specie  max\n",
       "0  7/14/2022      MX  Guadalajara  wind-speed  7.7\n",
       "1   8/6/2022      MX  Guadalajara  wind-speed  6.0\n",
       "2  8/25/2022      MX  Guadalajara  wind-speed  2.5\n",
       "3  8/29/2022      MX  Guadalajara  wind-speed  3.0\n",
       "4  8/31/2022      MX  Guadalajara  wind-speed  4.6\n",
       "5   9/5/2022      MX  Guadalajara  wind-speed  5.6\n",
       "6  6/30/2022      MX  Guadalajara  wind-speed  6.1\n",
       "7  7/30/2022      MX  Guadalajara  wind-speed  7.8\n",
       "8   8/9/2022      MX  Guadalajara  wind-speed  6.1\n",
       "9  8/15/2022      MX  Guadalajara  wind-speed  6.6"
      ]
     },
     "execution_count": 38,
     "metadata": {},
     "output_type": "execute_result"
    }
   ],
   "source": [
    "# Loading the data\n",
    "raw_data_2022_Q3 = pd.read_csv(r\"/kaggle/input/raw-data/airqualitydata-2022Q3.csv\")\n",
    "\n",
    "# print the shape\n",
    "print(raw_data_2022_Q3.shape)\n",
    "\n",
    "#runs the first 5 rows\n",
    "raw_data_2022_Q3.head(10)"
   ]
  },
  {
   "cell_type": "code",
   "execution_count": 39,
   "id": "925c8d3b",
   "metadata": {
    "execution": {
     "iopub.execute_input": "2024-12-31T12:06:18.055878Z",
     "iopub.status.busy": "2024-12-31T12:06:18.055526Z",
     "iopub.status.idle": "2024-12-31T12:06:18.140625Z",
     "shell.execute_reply": "2024-12-31T12:06:18.139641Z"
    },
    "id": "yAJNENbK6Vbi",
    "papermill": {
     "duration": 0.130409,
     "end_time": "2024-12-31T12:06:18.142524",
     "exception": false,
     "start_time": "2024-12-31T12:06:18.012115",
     "status": "completed"
    },
    "tags": []
   },
   "outputs": [],
   "source": [
    "# Convert 'Date' to datetime\n",
    "raw_data_2022_Q3['Date'] = pd.to_datetime(raw_data_2022_Q3['Date'])"
   ]
  },
  {
   "cell_type": "code",
   "execution_count": 40,
   "id": "b458804f",
   "metadata": {
    "execution": {
     "iopub.execute_input": "2024-12-31T12:06:18.227438Z",
     "iopub.status.busy": "2024-12-31T12:06:18.227031Z",
     "iopub.status.idle": "2024-12-31T12:06:18.232298Z",
     "shell.execute_reply": "2024-12-31T12:06:18.231470Z"
    },
    "executionInfo": {
     "elapsed": 8,
     "status": "ok",
     "timestamp": 1734445425824,
     "user": {
      "displayName": "Tahmida Majumder",
      "userId": "15415648085337204568"
     },
     "user_tz": -480
    },
    "id": "dDim3zDh6Vbi",
    "outputId": "11d63b59-b554-40b4-9752-62006ec0e248",
    "papermill": {
     "duration": 0.049464,
     "end_time": "2024-12-31T12:06:18.233818",
     "exception": false,
     "start_time": "2024-12-31T12:06:18.184354",
     "status": "completed"
    },
    "tags": []
   },
   "outputs": [
    {
     "data": {
      "text/plain": [
       "(570466, 5)"
      ]
     },
     "execution_count": 40,
     "metadata": {},
     "output_type": "execute_result"
    }
   ],
   "source": [
    "raw_data_2022_Q3.shape"
   ]
  },
  {
   "cell_type": "code",
   "execution_count": 41,
   "id": "fac663fe",
   "metadata": {
    "execution": {
     "iopub.execute_input": "2024-12-31T12:06:18.320905Z",
     "iopub.status.busy": "2024-12-31T12:06:18.320568Z",
     "iopub.status.idle": "2024-12-31T12:06:18.743961Z",
     "shell.execute_reply": "2024-12-31T12:06:18.742727Z"
    },
    "id": "g5o4tt6R6Vbj",
    "papermill": {
     "duration": 0.470252,
     "end_time": "2024-12-31T12:06:18.745978",
     "exception": false,
     "start_time": "2024-12-31T12:06:18.275726",
     "status": "completed"
    },
    "tags": []
   },
   "outputs": [],
   "source": [
    "# Pivot the data\n",
    "data_df_2022_Q3 = raw_data_2022_Q3.pivot_table(\n",
    "    index=['Date', 'Country', 'City'],  # Grouping columns\n",
    "    columns='Specie',                  # Unique values become columns\n",
    "    values='max',                   # Values to aggregate\n",
    "    aggfunc='mean'                     # Aggregation function\n",
    ").reset_index()"
   ]
  },
  {
   "cell_type": "code",
   "execution_count": 42,
   "id": "d27e42d9",
   "metadata": {
    "execution": {
     "iopub.execute_input": "2024-12-31T12:06:18.831047Z",
     "iopub.status.busy": "2024-12-31T12:06:18.830685Z",
     "iopub.status.idle": "2024-12-31T12:06:18.856242Z",
     "shell.execute_reply": "2024-12-31T12:06:18.855423Z"
    },
    "executionInfo": {
     "elapsed": 11,
     "status": "ok",
     "timestamp": 1734445426240,
     "user": {
      "displayName": "Tahmida Majumder",
      "userId": "15415648085337204568"
     },
     "user_tz": -480
    },
    "id": "ukZIcdZa6Vbj",
    "outputId": "007240c0-154f-438a-de96-d5338d934cdf",
    "papermill": {
     "duration": 0.069889,
     "end_time": "2024-12-31T12:06:18.857915",
     "exception": false,
     "start_time": "2024-12-31T12:06:18.788026",
     "status": "completed"
    },
    "tags": []
   },
   "outputs": [
    {
     "name": "stdout",
     "output_type": "stream",
     "text": [
      "(56219, 22)\n"
     ]
    },
    {
     "data": {
      "text/html": [
       "<div>\n",
       "<style scoped>\n",
       "    .dataframe tbody tr th:only-of-type {\n",
       "        vertical-align: middle;\n",
       "    }\n",
       "\n",
       "    .dataframe tbody tr th {\n",
       "        vertical-align: top;\n",
       "    }\n",
       "\n",
       "    .dataframe thead th {\n",
       "        text-align: right;\n",
       "    }\n",
       "</style>\n",
       "<table border=\"1\" class=\"dataframe\">\n",
       "  <thead>\n",
       "    <tr style=\"text-align: right;\">\n",
       "      <th>Specie</th>\n",
       "      <th>Date</th>\n",
       "      <th>Country</th>\n",
       "      <th>City</th>\n",
       "      <th>aqi</th>\n",
       "      <th>co</th>\n",
       "      <th>dew</th>\n",
       "      <th>humidity</th>\n",
       "      <th>mepaqi</th>\n",
       "      <th>neph</th>\n",
       "      <th>no2</th>\n",
       "      <th>...</th>\n",
       "      <th>pm10</th>\n",
       "      <th>pm25</th>\n",
       "      <th>precipitation</th>\n",
       "      <th>pressure</th>\n",
       "      <th>so2</th>\n",
       "      <th>temperature</th>\n",
       "      <th>uvi</th>\n",
       "      <th>wd</th>\n",
       "      <th>wind-gust</th>\n",
       "      <th>wind-speed</th>\n",
       "    </tr>\n",
       "  </thead>\n",
       "  <tbody>\n",
       "    <tr>\n",
       "      <th>0</th>\n",
       "      <td>2022-06-27</td>\n",
       "      <td>AE</td>\n",
       "      <td>Abu Dhabi</td>\n",
       "      <td>NaN</td>\n",
       "      <td>0.1</td>\n",
       "      <td>29.0</td>\n",
       "      <td>84.0</td>\n",
       "      <td>NaN</td>\n",
       "      <td>NaN</td>\n",
       "      <td>35.4</td>\n",
       "      <td>...</td>\n",
       "      <td>197.0</td>\n",
       "      <td>287.0</td>\n",
       "      <td>NaN</td>\n",
       "      <td>998.6</td>\n",
       "      <td>9.5</td>\n",
       "      <td>38.5</td>\n",
       "      <td>NaN</td>\n",
       "      <td>NaN</td>\n",
       "      <td>2.8</td>\n",
       "      <td>8.7</td>\n",
       "    </tr>\n",
       "    <tr>\n",
       "      <th>1</th>\n",
       "      <td>2022-06-27</td>\n",
       "      <td>AE</td>\n",
       "      <td>Dubai</td>\n",
       "      <td>NaN</td>\n",
       "      <td>NaN</td>\n",
       "      <td>29.0</td>\n",
       "      <td>75.0</td>\n",
       "      <td>NaN</td>\n",
       "      <td>NaN</td>\n",
       "      <td>NaN</td>\n",
       "      <td>...</td>\n",
       "      <td>NaN</td>\n",
       "      <td>302.0</td>\n",
       "      <td>NaN</td>\n",
       "      <td>997.0</td>\n",
       "      <td>NaN</td>\n",
       "      <td>41.0</td>\n",
       "      <td>NaN</td>\n",
       "      <td>NaN</td>\n",
       "      <td>NaN</td>\n",
       "      <td>7.2</td>\n",
       "    </tr>\n",
       "    <tr>\n",
       "      <th>2</th>\n",
       "      <td>2022-06-27</td>\n",
       "      <td>AR</td>\n",
       "      <td>Buenos Aires</td>\n",
       "      <td>NaN</td>\n",
       "      <td>13.2</td>\n",
       "      <td>7.3</td>\n",
       "      <td>86.0</td>\n",
       "      <td>NaN</td>\n",
       "      <td>NaN</td>\n",
       "      <td>NaN</td>\n",
       "      <td>...</td>\n",
       "      <td>62.0</td>\n",
       "      <td>159.0</td>\n",
       "      <td>NaN</td>\n",
       "      <td>1029.7</td>\n",
       "      <td>12.7</td>\n",
       "      <td>12.5</td>\n",
       "      <td>NaN</td>\n",
       "      <td>337.5</td>\n",
       "      <td>6.9</td>\n",
       "      <td>3.6</td>\n",
       "    </tr>\n",
       "    <tr>\n",
       "      <th>3</th>\n",
       "      <td>2022-06-27</td>\n",
       "      <td>AT</td>\n",
       "      <td>Graz</td>\n",
       "      <td>NaN</td>\n",
       "      <td>0.1</td>\n",
       "      <td>20.3</td>\n",
       "      <td>85.8</td>\n",
       "      <td>NaN</td>\n",
       "      <td>NaN</td>\n",
       "      <td>54.1</td>\n",
       "      <td>...</td>\n",
       "      <td>132.0</td>\n",
       "      <td>50.0</td>\n",
       "      <td>NaN</td>\n",
       "      <td>1017.7</td>\n",
       "      <td>3.1</td>\n",
       "      <td>32.5</td>\n",
       "      <td>NaN</td>\n",
       "      <td>NaN</td>\n",
       "      <td>12.5</td>\n",
       "      <td>5.8</td>\n",
       "    </tr>\n",
       "    <tr>\n",
       "      <th>4</th>\n",
       "      <td>2022-06-27</td>\n",
       "      <td>AT</td>\n",
       "      <td>Innsbruck</td>\n",
       "      <td>NaN</td>\n",
       "      <td>0.1</td>\n",
       "      <td>18.0</td>\n",
       "      <td>77.0</td>\n",
       "      <td>NaN</td>\n",
       "      <td>NaN</td>\n",
       "      <td>26.6</td>\n",
       "      <td>...</td>\n",
       "      <td>65.0</td>\n",
       "      <td>NaN</td>\n",
       "      <td>NaN</td>\n",
       "      <td>1019.5</td>\n",
       "      <td>0.6</td>\n",
       "      <td>33.5</td>\n",
       "      <td>NaN</td>\n",
       "      <td>NaN</td>\n",
       "      <td>20.5</td>\n",
       "      <td>7.4</td>\n",
       "    </tr>\n",
       "  </tbody>\n",
       "</table>\n",
       "<p>5 rows × 22 columns</p>\n",
       "</div>"
      ],
      "text/plain": [
       "Specie       Date Country          City  aqi    co   dew  humidity  mepaqi  \\\n",
       "0      2022-06-27      AE     Abu Dhabi  NaN   0.1  29.0      84.0     NaN   \n",
       "1      2022-06-27      AE         Dubai  NaN   NaN  29.0      75.0     NaN   \n",
       "2      2022-06-27      AR  Buenos Aires  NaN  13.2   7.3      86.0     NaN   \n",
       "3      2022-06-27      AT          Graz  NaN   0.1  20.3      85.8     NaN   \n",
       "4      2022-06-27      AT     Innsbruck  NaN   0.1  18.0      77.0     NaN   \n",
       "\n",
       "Specie  neph   no2  ...   pm10   pm25  precipitation  pressure   so2  \\\n",
       "0        NaN  35.4  ...  197.0  287.0            NaN     998.6   9.5   \n",
       "1        NaN   NaN  ...    NaN  302.0            NaN     997.0   NaN   \n",
       "2        NaN   NaN  ...   62.0  159.0            NaN    1029.7  12.7   \n",
       "3        NaN  54.1  ...  132.0   50.0            NaN    1017.7   3.1   \n",
       "4        NaN  26.6  ...   65.0    NaN            NaN    1019.5   0.6   \n",
       "\n",
       "Specie  temperature  uvi     wd  wind-gust  wind-speed  \n",
       "0              38.5  NaN    NaN        2.8         8.7  \n",
       "1              41.0  NaN    NaN        NaN         7.2  \n",
       "2              12.5  NaN  337.5        6.9         3.6  \n",
       "3              32.5  NaN    NaN       12.5         5.8  \n",
       "4              33.5  NaN    NaN       20.5         7.4  \n",
       "\n",
       "[5 rows x 22 columns]"
      ]
     },
     "execution_count": 42,
     "metadata": {},
     "output_type": "execute_result"
    }
   ],
   "source": [
    "print(data_df_2022_Q3.shape)\n",
    "data_df_2022_Q3.head()"
   ]
  },
  {
   "cell_type": "code",
   "execution_count": 43,
   "id": "1453ae5b",
   "metadata": {
    "execution": {
     "iopub.execute_input": "2024-12-31T12:06:18.946792Z",
     "iopub.status.busy": "2024-12-31T12:06:18.946328Z",
     "iopub.status.idle": "2024-12-31T12:06:18.961695Z",
     "shell.execute_reply": "2024-12-31T12:06:18.960671Z"
    },
    "executionInfo": {
     "elapsed": 7,
     "status": "ok",
     "timestamp": 1734445426240,
     "user": {
      "displayName": "Tahmida Majumder",
      "userId": "15415648085337204568"
     },
     "user_tz": -480
    },
    "id": "MySkp3RM6Vbj",
    "outputId": "6a76951d-4879-41e5-a327-7b4cd882bef3",
    "papermill": {
     "duration": 0.061042,
     "end_time": "2024-12-31T12:06:18.963533",
     "exception": false,
     "start_time": "2024-12-31T12:06:18.902491",
     "status": "completed"
    },
    "tags": []
   },
   "outputs": [
    {
     "data": {
      "text/plain": [
       "Specie\n",
       "Date                 0\n",
       "Country              0\n",
       "City                 0\n",
       "aqi              54757\n",
       "co               20304\n",
       "dew              12264\n",
       "humidity            85\n",
       "mepaqi           56121\n",
       "neph             56023\n",
       "no2              10326\n",
       "o3               13608\n",
       "pm1              56023\n",
       "pm10              9727\n",
       "pm25              7383\n",
       "precipitation    48775\n",
       "pressure           337\n",
       "so2              18086\n",
       "temperature         45\n",
       "uvi              55241\n",
       "wd               52204\n",
       "wind-gust        25319\n",
       "wind-speed        1067\n",
       "dtype: int64"
      ]
     },
     "execution_count": 43,
     "metadata": {},
     "output_type": "execute_result"
    }
   ],
   "source": [
    "data_df_2022_Q3.isnull().sum()"
   ]
  },
  {
   "cell_type": "code",
   "execution_count": null,
   "id": "6f60c0d7",
   "metadata": {
    "id": "I4MMewJjpQYF",
    "papermill": {
     "duration": 0.042676,
     "end_time": "2024-12-31T12:06:19.104486",
     "exception": false,
     "start_time": "2024-12-31T12:06:19.061810",
     "status": "completed"
    },
    "tags": []
   },
   "outputs": [],
   "source": []
  },
  {
   "cell_type": "markdown",
   "id": "000e8f51",
   "metadata": {
    "id": "zI8XTgoj6qcm",
    "papermill": {
     "duration": 0.043992,
     "end_time": "2024-12-31T12:06:19.191544",
     "exception": false,
     "start_time": "2024-12-31T12:06:19.147552",
     "status": "completed"
    },
    "tags": []
   },
   "source": [
    "# 2022_Q4"
   ]
  },
  {
   "cell_type": "code",
   "execution_count": 44,
   "id": "49347a0b",
   "metadata": {
    "execution": {
     "iopub.execute_input": "2024-12-31T12:06:19.277572Z",
     "iopub.status.busy": "2024-12-31T12:06:19.277112Z",
     "iopub.status.idle": "2024-12-31T12:06:19.836026Z",
     "shell.execute_reply": "2024-12-31T12:06:19.834827Z"
    },
    "executionInfo": {
     "elapsed": 1222,
     "status": "ok",
     "timestamp": 1734445427456,
     "user": {
      "displayName": "Tahmida Majumder",
      "userId": "15415648085337204568"
     },
     "user_tz": -480
    },
    "id": "YNPmqfXx6qcm",
    "outputId": "3a06361b-d30d-46bf-d1b5-ff60ff1de083",
    "papermill": {
     "duration": 0.606895,
     "end_time": "2024-12-31T12:06:19.840871",
     "exception": false,
     "start_time": "2024-12-31T12:06:19.233976",
     "status": "completed"
    },
    "tags": []
   },
   "outputs": [
    {
     "name": "stdout",
     "output_type": "stream",
     "text": [
      "(551341, 5)\n"
     ]
    },
    {
     "data": {
      "text/html": [
       "<div>\n",
       "<style scoped>\n",
       "    .dataframe tbody tr th:only-of-type {\n",
       "        vertical-align: middle;\n",
       "    }\n",
       "\n",
       "    .dataframe tbody tr th {\n",
       "        vertical-align: top;\n",
       "    }\n",
       "\n",
       "    .dataframe thead th {\n",
       "        text-align: right;\n",
       "    }\n",
       "</style>\n",
       "<table border=\"1\" class=\"dataframe\">\n",
       "  <thead>\n",
       "    <tr style=\"text-align: right;\">\n",
       "      <th></th>\n",
       "      <th>Date</th>\n",
       "      <th>Country</th>\n",
       "      <th>City</th>\n",
       "      <th>Specie</th>\n",
       "      <th>max</th>\n",
       "    </tr>\n",
       "  </thead>\n",
       "  <tbody>\n",
       "    <tr>\n",
       "      <th>0</th>\n",
       "      <td>10/20/2022</td>\n",
       "      <td>GB</td>\n",
       "      <td>Edinburgh</td>\n",
       "      <td>humidity</td>\n",
       "      <td>100.0</td>\n",
       "    </tr>\n",
       "    <tr>\n",
       "      <th>1</th>\n",
       "      <td>11/2/2022</td>\n",
       "      <td>GB</td>\n",
       "      <td>Edinburgh</td>\n",
       "      <td>humidity</td>\n",
       "      <td>96.5</td>\n",
       "    </tr>\n",
       "    <tr>\n",
       "      <th>2</th>\n",
       "      <td>11/8/2022</td>\n",
       "      <td>GB</td>\n",
       "      <td>Edinburgh</td>\n",
       "      <td>humidity</td>\n",
       "      <td>90.8</td>\n",
       "    </tr>\n",
       "    <tr>\n",
       "      <th>3</th>\n",
       "      <td>11/13/2022</td>\n",
       "      <td>GB</td>\n",
       "      <td>Edinburgh</td>\n",
       "      <td>humidity</td>\n",
       "      <td>99.0</td>\n",
       "    </tr>\n",
       "    <tr>\n",
       "      <th>4</th>\n",
       "      <td>11/19/2022</td>\n",
       "      <td>GB</td>\n",
       "      <td>Edinburgh</td>\n",
       "      <td>humidity</td>\n",
       "      <td>100.0</td>\n",
       "    </tr>\n",
       "    <tr>\n",
       "      <th>5</th>\n",
       "      <td>11/20/2022</td>\n",
       "      <td>GB</td>\n",
       "      <td>Edinburgh</td>\n",
       "      <td>humidity</td>\n",
       "      <td>96.5</td>\n",
       "    </tr>\n",
       "    <tr>\n",
       "      <th>6</th>\n",
       "      <td>12/4/2022</td>\n",
       "      <td>GB</td>\n",
       "      <td>Edinburgh</td>\n",
       "      <td>humidity</td>\n",
       "      <td>100.0</td>\n",
       "    </tr>\n",
       "    <tr>\n",
       "      <th>7</th>\n",
       "      <td>12/6/2022</td>\n",
       "      <td>GB</td>\n",
       "      <td>Edinburgh</td>\n",
       "      <td>humidity</td>\n",
       "      <td>96.5</td>\n",
       "    </tr>\n",
       "    <tr>\n",
       "      <th>8</th>\n",
       "      <td>12/13/2022</td>\n",
       "      <td>GB</td>\n",
       "      <td>Edinburgh</td>\n",
       "      <td>humidity</td>\n",
       "      <td>96.0</td>\n",
       "    </tr>\n",
       "    <tr>\n",
       "      <th>9</th>\n",
       "      <td>12/15/2022</td>\n",
       "      <td>GB</td>\n",
       "      <td>Edinburgh</td>\n",
       "      <td>humidity</td>\n",
       "      <td>92.0</td>\n",
       "    </tr>\n",
       "  </tbody>\n",
       "</table>\n",
       "</div>"
      ],
      "text/plain": [
       "         Date Country       City    Specie    max\n",
       "0  10/20/2022      GB  Edinburgh  humidity  100.0\n",
       "1   11/2/2022      GB  Edinburgh  humidity   96.5\n",
       "2   11/8/2022      GB  Edinburgh  humidity   90.8\n",
       "3  11/13/2022      GB  Edinburgh  humidity   99.0\n",
       "4  11/19/2022      GB  Edinburgh  humidity  100.0\n",
       "5  11/20/2022      GB  Edinburgh  humidity   96.5\n",
       "6   12/4/2022      GB  Edinburgh  humidity  100.0\n",
       "7   12/6/2022      GB  Edinburgh  humidity   96.5\n",
       "8  12/13/2022      GB  Edinburgh  humidity   96.0\n",
       "9  12/15/2022      GB  Edinburgh  humidity   92.0"
      ]
     },
     "execution_count": 44,
     "metadata": {},
     "output_type": "execute_result"
    }
   ],
   "source": [
    "# Loading the data\n",
    "raw_data_2022_Q4 = pd.read_csv(r\"/kaggle/input/raw-data/airqualitydata-2022Q4.csv\")\n",
    "\n",
    "# print the shape\n",
    "print(raw_data_2022_Q4.shape)\n",
    "\n",
    "#runs the first 5 rows\n",
    "raw_data_2022_Q4.head(10)"
   ]
  },
  {
   "cell_type": "code",
   "execution_count": 45,
   "id": "922b0e81",
   "metadata": {
    "execution": {
     "iopub.execute_input": "2024-12-31T12:06:19.938318Z",
     "iopub.status.busy": "2024-12-31T12:06:19.937987Z",
     "iopub.status.idle": "2024-12-31T12:06:20.049187Z",
     "shell.execute_reply": "2024-12-31T12:06:20.047721Z"
    },
    "id": "8AsvhPlK6qcn",
    "papermill": {
     "duration": 0.164246,
     "end_time": "2024-12-31T12:06:20.052027",
     "exception": false,
     "start_time": "2024-12-31T12:06:19.887781",
     "status": "completed"
    },
    "tags": []
   },
   "outputs": [],
   "source": [
    "# Convert 'Date' to datetime\n",
    "raw_data_2022_Q4['Date'] = pd.to_datetime(raw_data_2022_Q4['Date'])"
   ]
  },
  {
   "cell_type": "code",
   "execution_count": 46,
   "id": "6fc7f595",
   "metadata": {
    "execution": {
     "iopub.execute_input": "2024-12-31T12:06:20.154967Z",
     "iopub.status.busy": "2024-12-31T12:06:20.154629Z",
     "iopub.status.idle": "2024-12-31T12:06:20.160302Z",
     "shell.execute_reply": "2024-12-31T12:06:20.159238Z"
    },
    "executionInfo": {
     "elapsed": 9,
     "status": "ok",
     "timestamp": 1734445427456,
     "user": {
      "displayName": "Tahmida Majumder",
      "userId": "15415648085337204568"
     },
     "user_tz": -480
    },
    "id": "K3Tj8lJH6qcn",
    "outputId": "9bfdfb56-8669-469d-950d-42d4c41edc5d",
    "papermill": {
     "duration": 0.052324,
     "end_time": "2024-12-31T12:06:20.162080",
     "exception": false,
     "start_time": "2024-12-31T12:06:20.109756",
     "status": "completed"
    },
    "tags": []
   },
   "outputs": [
    {
     "data": {
      "text/plain": [
       "(551341, 5)"
      ]
     },
     "execution_count": 46,
     "metadata": {},
     "output_type": "execute_result"
    }
   ],
   "source": [
    "raw_data_2022_Q4.shape"
   ]
  },
  {
   "cell_type": "code",
   "execution_count": 47,
   "id": "621e6a68",
   "metadata": {
    "execution": {
     "iopub.execute_input": "2024-12-31T12:06:20.252411Z",
     "iopub.status.busy": "2024-12-31T12:06:20.252032Z",
     "iopub.status.idle": "2024-12-31T12:06:20.669387Z",
     "shell.execute_reply": "2024-12-31T12:06:20.668200Z"
    },
    "id": "IESMeOdC6qcn",
    "papermill": {
     "duration": 0.464722,
     "end_time": "2024-12-31T12:06:20.671357",
     "exception": false,
     "start_time": "2024-12-31T12:06:20.206635",
     "status": "completed"
    },
    "tags": []
   },
   "outputs": [],
   "source": [
    "# Pivot the data\n",
    "data_df_2022_Q4 = raw_data_2022_Q4.pivot_table(\n",
    "    index=['Date', 'Country', 'City'],  # Grouping columns\n",
    "    columns='Specie',                  # Unique values become columns\n",
    "    values='max',                   # Values to aggregate\n",
    "    aggfunc='mean'                     # Aggregation function\n",
    ").reset_index()"
   ]
  },
  {
   "cell_type": "code",
   "execution_count": 48,
   "id": "b9a4d0fc",
   "metadata": {
    "execution": {
     "iopub.execute_input": "2024-12-31T12:06:20.763485Z",
     "iopub.status.busy": "2024-12-31T12:06:20.763069Z",
     "iopub.status.idle": "2024-12-31T12:06:20.791471Z",
     "shell.execute_reply": "2024-12-31T12:06:20.790317Z"
    },
    "executionInfo": {
     "elapsed": 11,
     "status": "ok",
     "timestamp": 1734445428523,
     "user": {
      "displayName": "Tahmida Majumder",
      "userId": "15415648085337204568"
     },
     "user_tz": -480
    },
    "id": "3WEISQiN6qcn",
    "outputId": "f23c8ec4-39e3-4a08-f170-0b056271a9fc",
    "papermill": {
     "duration": 0.078443,
     "end_time": "2024-12-31T12:06:20.793243",
     "exception": false,
     "start_time": "2024-12-31T12:06:20.714800",
     "status": "completed"
    },
    "tags": []
   },
   "outputs": [
    {
     "name": "stdout",
     "output_type": "stream",
     "text": [
      "(54530, 22)\n"
     ]
    },
    {
     "data": {
      "text/html": [
       "<div>\n",
       "<style scoped>\n",
       "    .dataframe tbody tr th:only-of-type {\n",
       "        vertical-align: middle;\n",
       "    }\n",
       "\n",
       "    .dataframe tbody tr th {\n",
       "        vertical-align: top;\n",
       "    }\n",
       "\n",
       "    .dataframe thead th {\n",
       "        text-align: right;\n",
       "    }\n",
       "</style>\n",
       "<table border=\"1\" class=\"dataframe\">\n",
       "  <thead>\n",
       "    <tr style=\"text-align: right;\">\n",
       "      <th>Specie</th>\n",
       "      <th>Date</th>\n",
       "      <th>Country</th>\n",
       "      <th>City</th>\n",
       "      <th>aqi</th>\n",
       "      <th>co</th>\n",
       "      <th>dew</th>\n",
       "      <th>humidity</th>\n",
       "      <th>mepaqi</th>\n",
       "      <th>neph</th>\n",
       "      <th>no2</th>\n",
       "      <th>...</th>\n",
       "      <th>pm10</th>\n",
       "      <th>pm25</th>\n",
       "      <th>precipitation</th>\n",
       "      <th>pressure</th>\n",
       "      <th>so2</th>\n",
       "      <th>temperature</th>\n",
       "      <th>uvi</th>\n",
       "      <th>wd</th>\n",
       "      <th>wind-gust</th>\n",
       "      <th>wind-speed</th>\n",
       "    </tr>\n",
       "  </thead>\n",
       "  <tbody>\n",
       "    <tr>\n",
       "      <th>0</th>\n",
       "      <td>2022-09-26</td>\n",
       "      <td>AE</td>\n",
       "      <td>Abu Dhabi</td>\n",
       "      <td>NaN</td>\n",
       "      <td>0.1</td>\n",
       "      <td>28.0</td>\n",
       "      <td>91.0</td>\n",
       "      <td>NaN</td>\n",
       "      <td>NaN</td>\n",
       "      <td>18.4</td>\n",
       "      <td>...</td>\n",
       "      <td>145.0</td>\n",
       "      <td>NaN</td>\n",
       "      <td>NaN</td>\n",
       "      <td>1007.1</td>\n",
       "      <td>31.6</td>\n",
       "      <td>40.0</td>\n",
       "      <td>NaN</td>\n",
       "      <td>NaN</td>\n",
       "      <td>5.7</td>\n",
       "      <td>6.1</td>\n",
       "    </tr>\n",
       "    <tr>\n",
       "      <th>1</th>\n",
       "      <td>2022-09-26</td>\n",
       "      <td>AE</td>\n",
       "      <td>Dubai</td>\n",
       "      <td>NaN</td>\n",
       "      <td>NaN</td>\n",
       "      <td>28.0</td>\n",
       "      <td>84.0</td>\n",
       "      <td>NaN</td>\n",
       "      <td>NaN</td>\n",
       "      <td>NaN</td>\n",
       "      <td>...</td>\n",
       "      <td>NaN</td>\n",
       "      <td>198.0</td>\n",
       "      <td>NaN</td>\n",
       "      <td>1006.0</td>\n",
       "      <td>NaN</td>\n",
       "      <td>39.0</td>\n",
       "      <td>NaN</td>\n",
       "      <td>NaN</td>\n",
       "      <td>NaN</td>\n",
       "      <td>6.1</td>\n",
       "    </tr>\n",
       "    <tr>\n",
       "      <th>2</th>\n",
       "      <td>2022-09-26</td>\n",
       "      <td>AR</td>\n",
       "      <td>Buenos Aires</td>\n",
       "      <td>NaN</td>\n",
       "      <td>11.7</td>\n",
       "      <td>15.8</td>\n",
       "      <td>95.0</td>\n",
       "      <td>NaN</td>\n",
       "      <td>NaN</td>\n",
       "      <td>NaN</td>\n",
       "      <td>...</td>\n",
       "      <td>49.0</td>\n",
       "      <td>21.0</td>\n",
       "      <td>NaN</td>\n",
       "      <td>1015.2</td>\n",
       "      <td>11.2</td>\n",
       "      <td>24.1</td>\n",
       "      <td>NaN</td>\n",
       "      <td>157.5</td>\n",
       "      <td>NaN</td>\n",
       "      <td>4.6</td>\n",
       "    </tr>\n",
       "    <tr>\n",
       "      <th>3</th>\n",
       "      <td>2022-09-26</td>\n",
       "      <td>AT</td>\n",
       "      <td>Graz</td>\n",
       "      <td>NaN</td>\n",
       "      <td>0.1</td>\n",
       "      <td>11.8</td>\n",
       "      <td>97.4</td>\n",
       "      <td>NaN</td>\n",
       "      <td>NaN</td>\n",
       "      <td>26.6</td>\n",
       "      <td>...</td>\n",
       "      <td>31.0</td>\n",
       "      <td>53.0</td>\n",
       "      <td>99.3</td>\n",
       "      <td>1009.0</td>\n",
       "      <td>3.1</td>\n",
       "      <td>17.6</td>\n",
       "      <td>NaN</td>\n",
       "      <td>NaN</td>\n",
       "      <td>4.8</td>\n",
       "      <td>2.2</td>\n",
       "    </tr>\n",
       "    <tr>\n",
       "      <th>4</th>\n",
       "      <td>2022-09-26</td>\n",
       "      <td>AT</td>\n",
       "      <td>Innsbruck</td>\n",
       "      <td>NaN</td>\n",
       "      <td>0.1</td>\n",
       "      <td>11.1</td>\n",
       "      <td>100.0</td>\n",
       "      <td>NaN</td>\n",
       "      <td>NaN</td>\n",
       "      <td>17.4</td>\n",
       "      <td>...</td>\n",
       "      <td>17.0</td>\n",
       "      <td>NaN</td>\n",
       "      <td>99.1</td>\n",
       "      <td>1010.0</td>\n",
       "      <td>0.6</td>\n",
       "      <td>16.5</td>\n",
       "      <td>NaN</td>\n",
       "      <td>NaN</td>\n",
       "      <td>2.0</td>\n",
       "      <td>6.0</td>\n",
       "    </tr>\n",
       "  </tbody>\n",
       "</table>\n",
       "<p>5 rows × 22 columns</p>\n",
       "</div>"
      ],
      "text/plain": [
       "Specie       Date Country          City  aqi    co   dew  humidity  mepaqi  \\\n",
       "0      2022-09-26      AE     Abu Dhabi  NaN   0.1  28.0      91.0     NaN   \n",
       "1      2022-09-26      AE         Dubai  NaN   NaN  28.0      84.0     NaN   \n",
       "2      2022-09-26      AR  Buenos Aires  NaN  11.7  15.8      95.0     NaN   \n",
       "3      2022-09-26      AT          Graz  NaN   0.1  11.8      97.4     NaN   \n",
       "4      2022-09-26      AT     Innsbruck  NaN   0.1  11.1     100.0     NaN   \n",
       "\n",
       "Specie  neph   no2  ...   pm10   pm25  precipitation  pressure   so2  \\\n",
       "0        NaN  18.4  ...  145.0    NaN            NaN    1007.1  31.6   \n",
       "1        NaN   NaN  ...    NaN  198.0            NaN    1006.0   NaN   \n",
       "2        NaN   NaN  ...   49.0   21.0            NaN    1015.2  11.2   \n",
       "3        NaN  26.6  ...   31.0   53.0           99.3    1009.0   3.1   \n",
       "4        NaN  17.4  ...   17.0    NaN           99.1    1010.0   0.6   \n",
       "\n",
       "Specie  temperature  uvi     wd  wind-gust  wind-speed  \n",
       "0              40.0  NaN    NaN        5.7         6.1  \n",
       "1              39.0  NaN    NaN        NaN         6.1  \n",
       "2              24.1  NaN  157.5        NaN         4.6  \n",
       "3              17.6  NaN    NaN        4.8         2.2  \n",
       "4              16.5  NaN    NaN        2.0         6.0  \n",
       "\n",
       "[5 rows x 22 columns]"
      ]
     },
     "execution_count": 48,
     "metadata": {},
     "output_type": "execute_result"
    }
   ],
   "source": [
    "print(data_df_2022_Q4.shape)\n",
    "data_df_2022_Q4.head()"
   ]
  },
  {
   "cell_type": "code",
   "execution_count": 49,
   "id": "03449a3f",
   "metadata": {
    "execution": {
     "iopub.execute_input": "2024-12-31T12:06:20.882808Z",
     "iopub.status.busy": "2024-12-31T12:06:20.882466Z",
     "iopub.status.idle": "2024-12-31T12:06:20.896846Z",
     "shell.execute_reply": "2024-12-31T12:06:20.895583Z"
    },
    "executionInfo": {
     "elapsed": 7,
     "status": "ok",
     "timestamp": 1734445428523,
     "user": {
      "displayName": "Tahmida Majumder",
      "userId": "15415648085337204568"
     },
     "user_tz": -480
    },
    "id": "CfSd78vh6qcn",
    "outputId": "5b2b2a3a-18d4-4055-df17-f9e04a373c9a",
    "papermill": {
     "duration": 0.062344,
     "end_time": "2024-12-31T12:06:20.899339",
     "exception": false,
     "start_time": "2024-12-31T12:06:20.836995",
     "status": "completed"
    },
    "tags": []
   },
   "outputs": [
    {
     "data": {
      "text/plain": [
       "Specie\n",
       "Date                 0\n",
       "Country              0\n",
       "City                 0\n",
       "aqi              53624\n",
       "co               19997\n",
       "dew              10675\n",
       "humidity           203\n",
       "mepaqi           54432\n",
       "neph             54334\n",
       "no2               9605\n",
       "o3               12958\n",
       "pm1              54282\n",
       "pm10             10067\n",
       "pm25              6960\n",
       "precipitation    48184\n",
       "pressure           395\n",
       "so2              16571\n",
       "temperature        103\n",
       "uvi              53550\n",
       "wd               50877\n",
       "wind-gust        26553\n",
       "wind-speed        1359\n",
       "dtype: int64"
      ]
     },
     "execution_count": 49,
     "metadata": {},
     "output_type": "execute_result"
    }
   ],
   "source": [
    "data_df_2022_Q4.isnull().sum()"
   ]
  },
  {
   "cell_type": "code",
   "execution_count": null,
   "id": "321cd781",
   "metadata": {
    "id": "mR7YzXW3kmui",
    "papermill": {
     "duration": 0.042845,
     "end_time": "2024-12-31T12:06:20.986089",
     "exception": false,
     "start_time": "2024-12-31T12:06:20.943244",
     "status": "completed"
    },
    "tags": []
   },
   "outputs": [],
   "source": []
  },
  {
   "cell_type": "markdown",
   "id": "de281c03",
   "metadata": {
    "id": "7OJzdlsl6-ni",
    "papermill": {
     "duration": 0.0458,
     "end_time": "2024-12-31T12:06:21.074953",
     "exception": false,
     "start_time": "2024-12-31T12:06:21.029153",
     "status": "completed"
    },
    "tags": []
   },
   "source": [
    "# 2021_Q1"
   ]
  },
  {
   "cell_type": "code",
   "execution_count": 50,
   "id": "c777f765",
   "metadata": {
    "execution": {
     "iopub.execute_input": "2024-12-31T12:06:21.165141Z",
     "iopub.status.busy": "2024-12-31T12:06:21.164764Z",
     "iopub.status.idle": "2024-12-31T12:06:21.749464Z",
     "shell.execute_reply": "2024-12-31T12:06:21.748419Z"
    },
    "executionInfo": {
     "elapsed": 801,
     "status": "ok",
     "timestamp": 1734445429318,
     "user": {
      "displayName": "Tahmida Majumder",
      "userId": "15415648085337204568"
     },
     "user_tz": -480
    },
    "id": "cabEtMG26-ni",
    "outputId": "9ab70de8-8853-43ee-a233-414b5ddc8e8a",
    "papermill": {
     "duration": 0.632609,
     "end_time": "2024-12-31T12:06:21.753058",
     "exception": false,
     "start_time": "2024-12-31T12:06:21.120449",
     "status": "completed"
    },
    "tags": []
   },
   "outputs": [
    {
     "name": "stdout",
     "output_type": "stream",
     "text": [
      "(590729, 5)\n"
     ]
    },
    {
     "data": {
      "text/html": [
       "<div>\n",
       "<style scoped>\n",
       "    .dataframe tbody tr th:only-of-type {\n",
       "        vertical-align: middle;\n",
       "    }\n",
       "\n",
       "    .dataframe tbody tr th {\n",
       "        vertical-align: top;\n",
       "    }\n",
       "\n",
       "    .dataframe thead th {\n",
       "        text-align: right;\n",
       "    }\n",
       "</style>\n",
       "<table border=\"1\" class=\"dataframe\">\n",
       "  <thead>\n",
       "    <tr style=\"text-align: right;\">\n",
       "      <th></th>\n",
       "      <th>Date</th>\n",
       "      <th>Country</th>\n",
       "      <th>City</th>\n",
       "      <th>Specie</th>\n",
       "      <th>max</th>\n",
       "    </tr>\n",
       "  </thead>\n",
       "  <tbody>\n",
       "    <tr>\n",
       "      <th>0</th>\n",
       "      <td>4/4/2021</td>\n",
       "      <td>CN</td>\n",
       "      <td>Beijing</td>\n",
       "      <td>pressure</td>\n",
       "      <td>1028.0</td>\n",
       "    </tr>\n",
       "    <tr>\n",
       "      <th>1</th>\n",
       "      <td>2/13/2021</td>\n",
       "      <td>CN</td>\n",
       "      <td>Beijing</td>\n",
       "      <td>pressure</td>\n",
       "      <td>1022.5</td>\n",
       "    </tr>\n",
       "    <tr>\n",
       "      <th>2</th>\n",
       "      <td>2/16/2021</td>\n",
       "      <td>CN</td>\n",
       "      <td>Beijing</td>\n",
       "      <td>pressure</td>\n",
       "      <td>1030.0</td>\n",
       "    </tr>\n",
       "    <tr>\n",
       "      <th>3</th>\n",
       "      <td>3/1/2021</td>\n",
       "      <td>CN</td>\n",
       "      <td>Beijing</td>\n",
       "      <td>pressure</td>\n",
       "      <td>1032.0</td>\n",
       "    </tr>\n",
       "    <tr>\n",
       "      <th>4</th>\n",
       "      <td>3/14/2021</td>\n",
       "      <td>CN</td>\n",
       "      <td>Beijing</td>\n",
       "      <td>pressure</td>\n",
       "      <td>1019.0</td>\n",
       "    </tr>\n",
       "    <tr>\n",
       "      <th>5</th>\n",
       "      <td>3/16/2021</td>\n",
       "      <td>CN</td>\n",
       "      <td>Beijing</td>\n",
       "      <td>pressure</td>\n",
       "      <td>1026.0</td>\n",
       "    </tr>\n",
       "    <tr>\n",
       "      <th>6</th>\n",
       "      <td>4/2/2021</td>\n",
       "      <td>CN</td>\n",
       "      <td>Beijing</td>\n",
       "      <td>pressure</td>\n",
       "      <td>1022.0</td>\n",
       "    </tr>\n",
       "    <tr>\n",
       "      <th>7</th>\n",
       "      <td>3/21/2021</td>\n",
       "      <td>CN</td>\n",
       "      <td>Beijing</td>\n",
       "      <td>pressure</td>\n",
       "      <td>1027.0</td>\n",
       "    </tr>\n",
       "    <tr>\n",
       "      <th>8</th>\n",
       "      <td>1/6/2021</td>\n",
       "      <td>CN</td>\n",
       "      <td>Beijing</td>\n",
       "      <td>pressure</td>\n",
       "      <td>1043.5</td>\n",
       "    </tr>\n",
       "    <tr>\n",
       "      <th>9</th>\n",
       "      <td>1/16/2021</td>\n",
       "      <td>CN</td>\n",
       "      <td>Beijing</td>\n",
       "      <td>pressure</td>\n",
       "      <td>1036.0</td>\n",
       "    </tr>\n",
       "  </tbody>\n",
       "</table>\n",
       "</div>"
      ],
      "text/plain": [
       "        Date Country     City    Specie     max\n",
       "0   4/4/2021      CN  Beijing  pressure  1028.0\n",
       "1  2/13/2021      CN  Beijing  pressure  1022.5\n",
       "2  2/16/2021      CN  Beijing  pressure  1030.0\n",
       "3   3/1/2021      CN  Beijing  pressure  1032.0\n",
       "4  3/14/2021      CN  Beijing  pressure  1019.0\n",
       "5  3/16/2021      CN  Beijing  pressure  1026.0\n",
       "6   4/2/2021      CN  Beijing  pressure  1022.0\n",
       "7  3/21/2021      CN  Beijing  pressure  1027.0\n",
       "8   1/6/2021      CN  Beijing  pressure  1043.5\n",
       "9  1/16/2021      CN  Beijing  pressure  1036.0"
      ]
     },
     "execution_count": 50,
     "metadata": {},
     "output_type": "execute_result"
    }
   ],
   "source": [
    "# Loading the data\n",
    "raw_data_2021_Q1 = pd.read_csv(r\"/kaggle/input/raw-data/airqualitydata-2021Q1.csv\")\n",
    "\n",
    "# print the shape\n",
    "print(raw_data_2021_Q1.shape)\n",
    "\n",
    "#runs the first 5 rows\n",
    "raw_data_2021_Q1.head(10)"
   ]
  },
  {
   "cell_type": "code",
   "execution_count": 51,
   "id": "efe9b728",
   "metadata": {
    "execution": {
     "iopub.execute_input": "2024-12-31T12:06:21.845565Z",
     "iopub.status.busy": "2024-12-31T12:06:21.845191Z",
     "iopub.status.idle": "2024-12-31T12:06:21.940320Z",
     "shell.execute_reply": "2024-12-31T12:06:21.939189Z"
    },
    "id": "B-f0yfdB6-ni",
    "papermill": {
     "duration": 0.145273,
     "end_time": "2024-12-31T12:06:21.942357",
     "exception": false,
     "start_time": "2024-12-31T12:06:21.797084",
     "status": "completed"
    },
    "tags": []
   },
   "outputs": [],
   "source": [
    "# Convert 'Date' to datetime\n",
    "raw_data_2021_Q1['Date'] = pd.to_datetime(raw_data_2021_Q1['Date'])"
   ]
  },
  {
   "cell_type": "code",
   "execution_count": 52,
   "id": "33815931",
   "metadata": {
    "execution": {
     "iopub.execute_input": "2024-12-31T12:06:22.032591Z",
     "iopub.status.busy": "2024-12-31T12:06:22.032170Z",
     "iopub.status.idle": "2024-12-31T12:06:22.038200Z",
     "shell.execute_reply": "2024-12-31T12:06:22.037094Z"
    },
    "executionInfo": {
     "elapsed": 6,
     "status": "ok",
     "timestamp": 1734445429318,
     "user": {
      "displayName": "Tahmida Majumder",
      "userId": "15415648085337204568"
     },
     "user_tz": -480
    },
    "id": "OMm8NtLO6-ni",
    "outputId": "b012fc16-71a5-417b-bf6e-6fe8588b8bca",
    "papermill": {
     "duration": 0.053246,
     "end_time": "2024-12-31T12:06:22.039914",
     "exception": false,
     "start_time": "2024-12-31T12:06:21.986668",
     "status": "completed"
    },
    "tags": []
   },
   "outputs": [
    {
     "data": {
      "text/plain": [
       "(590729, 5)"
      ]
     },
     "execution_count": 52,
     "metadata": {},
     "output_type": "execute_result"
    }
   ],
   "source": [
    "raw_data_2021_Q1.shape"
   ]
  },
  {
   "cell_type": "code",
   "execution_count": 53,
   "id": "020fc753",
   "metadata": {
    "execution": {
     "iopub.execute_input": "2024-12-31T12:06:22.130078Z",
     "iopub.status.busy": "2024-12-31T12:06:22.129759Z",
     "iopub.status.idle": "2024-12-31T12:06:22.562361Z",
     "shell.execute_reply": "2024-12-31T12:06:22.561507Z"
    },
    "id": "mdLTyMD96-nj",
    "papermill": {
     "duration": 0.479924,
     "end_time": "2024-12-31T12:06:22.564208",
     "exception": false,
     "start_time": "2024-12-31T12:06:22.084284",
     "status": "completed"
    },
    "tags": []
   },
   "outputs": [],
   "source": [
    "# Pivot the data\n",
    "data_df_2021_Q1 = raw_data_2021_Q1.pivot_table(\n",
    "    index=['Date', 'Country', 'City'],  # Grouping columns\n",
    "    columns='Specie',                  # Unique values become columns\n",
    "    values='max',                   # Values to aggregate\n",
    "    aggfunc='mean'                     # Aggregation function\n",
    ").reset_index()"
   ]
  },
  {
   "cell_type": "code",
   "execution_count": 54,
   "id": "09f19eea",
   "metadata": {
    "execution": {
     "iopub.execute_input": "2024-12-31T12:06:22.653947Z",
     "iopub.status.busy": "2024-12-31T12:06:22.653605Z",
     "iopub.status.idle": "2024-12-31T12:06:22.679126Z",
     "shell.execute_reply": "2024-12-31T12:06:22.678143Z"
    },
    "executionInfo": {
     "elapsed": 571,
     "status": "ok",
     "timestamp": 1734445430617,
     "user": {
      "displayName": "Tahmida Majumder",
      "userId": "15415648085337204568"
     },
     "user_tz": -480
    },
    "id": "-TKzBkVF6-nj",
    "outputId": "05fe4fae-db24-41e8-f983-8a20a15c8c25",
    "papermill": {
     "duration": 0.07269,
     "end_time": "2024-12-31T12:06:22.680841",
     "exception": false,
     "start_time": "2024-12-31T12:06:22.608151",
     "status": "completed"
    },
    "tags": []
   },
   "outputs": [
    {
     "name": "stdout",
     "output_type": "stream",
     "text": [
      "(58552, 22)\n"
     ]
    },
    {
     "data": {
      "text/html": [
       "<div>\n",
       "<style scoped>\n",
       "    .dataframe tbody tr th:only-of-type {\n",
       "        vertical-align: middle;\n",
       "    }\n",
       "\n",
       "    .dataframe tbody tr th {\n",
       "        vertical-align: top;\n",
       "    }\n",
       "\n",
       "    .dataframe thead th {\n",
       "        text-align: right;\n",
       "    }\n",
       "</style>\n",
       "<table border=\"1\" class=\"dataframe\">\n",
       "  <thead>\n",
       "    <tr style=\"text-align: right;\">\n",
       "      <th>Specie</th>\n",
       "      <th>Date</th>\n",
       "      <th>Country</th>\n",
       "      <th>City</th>\n",
       "      <th>aqi</th>\n",
       "      <th>co</th>\n",
       "      <th>dew</th>\n",
       "      <th>humidity</th>\n",
       "      <th>mepaqi</th>\n",
       "      <th>neph</th>\n",
       "      <th>no2</th>\n",
       "      <th>...</th>\n",
       "      <th>pm10</th>\n",
       "      <th>pm25</th>\n",
       "      <th>precipitation</th>\n",
       "      <th>pressure</th>\n",
       "      <th>so2</th>\n",
       "      <th>temperature</th>\n",
       "      <th>uvi</th>\n",
       "      <th>wd</th>\n",
       "      <th>wind-gust</th>\n",
       "      <th>wind-speed</th>\n",
       "    </tr>\n",
       "  </thead>\n",
       "  <tbody>\n",
       "    <tr>\n",
       "      <th>0</th>\n",
       "      <td>2020-12-28</td>\n",
       "      <td>AE</td>\n",
       "      <td>Abu Dhabi</td>\n",
       "      <td>NaN</td>\n",
       "      <td>0.1</td>\n",
       "      <td>16.0</td>\n",
       "      <td>73.0</td>\n",
       "      <td>NaN</td>\n",
       "      <td>NaN</td>\n",
       "      <td>38.9</td>\n",
       "      <td>...</td>\n",
       "      <td>113.0</td>\n",
       "      <td>65.0</td>\n",
       "      <td>NaN</td>\n",
       "      <td>1022.0</td>\n",
       "      <td>9.2</td>\n",
       "      <td>25.0</td>\n",
       "      <td>NaN</td>\n",
       "      <td>NaN</td>\n",
       "      <td>NaN</td>\n",
       "      <td>5.6</td>\n",
       "    </tr>\n",
       "    <tr>\n",
       "      <th>1</th>\n",
       "      <td>2020-12-28</td>\n",
       "      <td>AE</td>\n",
       "      <td>Dubai</td>\n",
       "      <td>NaN</td>\n",
       "      <td>NaN</td>\n",
       "      <td>11.0</td>\n",
       "      <td>52.0</td>\n",
       "      <td>NaN</td>\n",
       "      <td>NaN</td>\n",
       "      <td>NaN</td>\n",
       "      <td>...</td>\n",
       "      <td>NaN</td>\n",
       "      <td>72.0</td>\n",
       "      <td>NaN</td>\n",
       "      <td>1022.0</td>\n",
       "      <td>NaN</td>\n",
       "      <td>25.0</td>\n",
       "      <td>NaN</td>\n",
       "      <td>NaN</td>\n",
       "      <td>NaN</td>\n",
       "      <td>5.6</td>\n",
       "    </tr>\n",
       "    <tr>\n",
       "      <th>2</th>\n",
       "      <td>2020-12-28</td>\n",
       "      <td>AF</td>\n",
       "      <td>Kabul</td>\n",
       "      <td>NaN</td>\n",
       "      <td>NaN</td>\n",
       "      <td>-10.0</td>\n",
       "      <td>68.0</td>\n",
       "      <td>NaN</td>\n",
       "      <td>NaN</td>\n",
       "      <td>NaN</td>\n",
       "      <td>...</td>\n",
       "      <td>NaN</td>\n",
       "      <td>384.0</td>\n",
       "      <td>NaN</td>\n",
       "      <td>1022.0</td>\n",
       "      <td>NaN</td>\n",
       "      <td>7.0</td>\n",
       "      <td>NaN</td>\n",
       "      <td>NaN</td>\n",
       "      <td>NaN</td>\n",
       "      <td>7.2</td>\n",
       "    </tr>\n",
       "    <tr>\n",
       "      <th>3</th>\n",
       "      <td>2020-12-28</td>\n",
       "      <td>AR</td>\n",
       "      <td>Buenos Aires</td>\n",
       "      <td>NaN</td>\n",
       "      <td>5.5</td>\n",
       "      <td>22.5</td>\n",
       "      <td>87.0</td>\n",
       "      <td>NaN</td>\n",
       "      <td>NaN</td>\n",
       "      <td>17.9</td>\n",
       "      <td>...</td>\n",
       "      <td>35.0</td>\n",
       "      <td>104.0</td>\n",
       "      <td>NaN</td>\n",
       "      <td>1031.5</td>\n",
       "      <td>NaN</td>\n",
       "      <td>31.9</td>\n",
       "      <td>NaN</td>\n",
       "      <td>135.0</td>\n",
       "      <td>18.3</td>\n",
       "      <td>9.7</td>\n",
       "    </tr>\n",
       "    <tr>\n",
       "      <th>4</th>\n",
       "      <td>2020-12-28</td>\n",
       "      <td>AT</td>\n",
       "      <td>Graz</td>\n",
       "      <td>NaN</td>\n",
       "      <td>0.1</td>\n",
       "      <td>0.1</td>\n",
       "      <td>99.0</td>\n",
       "      <td>NaN</td>\n",
       "      <td>NaN</td>\n",
       "      <td>28.4</td>\n",
       "      <td>...</td>\n",
       "      <td>31.0</td>\n",
       "      <td>NaN</td>\n",
       "      <td>99.5</td>\n",
       "      <td>997.5</td>\n",
       "      <td>1.8</td>\n",
       "      <td>2.0</td>\n",
       "      <td>NaN</td>\n",
       "      <td>NaN</td>\n",
       "      <td>4.1</td>\n",
       "      <td>2.0</td>\n",
       "    </tr>\n",
       "  </tbody>\n",
       "</table>\n",
       "<p>5 rows × 22 columns</p>\n",
       "</div>"
      ],
      "text/plain": [
       "Specie       Date Country          City  aqi   co   dew  humidity  mepaqi  \\\n",
       "0      2020-12-28      AE     Abu Dhabi  NaN  0.1  16.0      73.0     NaN   \n",
       "1      2020-12-28      AE         Dubai  NaN  NaN  11.0      52.0     NaN   \n",
       "2      2020-12-28      AF         Kabul  NaN  NaN -10.0      68.0     NaN   \n",
       "3      2020-12-28      AR  Buenos Aires  NaN  5.5  22.5      87.0     NaN   \n",
       "4      2020-12-28      AT          Graz  NaN  0.1   0.1      99.0     NaN   \n",
       "\n",
       "Specie  neph   no2  ...   pm10   pm25  precipitation  pressure  so2  \\\n",
       "0        NaN  38.9  ...  113.0   65.0            NaN    1022.0  9.2   \n",
       "1        NaN   NaN  ...    NaN   72.0            NaN    1022.0  NaN   \n",
       "2        NaN   NaN  ...    NaN  384.0            NaN    1022.0  NaN   \n",
       "3        NaN  17.9  ...   35.0  104.0            NaN    1031.5  NaN   \n",
       "4        NaN  28.4  ...   31.0    NaN           99.5     997.5  1.8   \n",
       "\n",
       "Specie  temperature  uvi     wd  wind-gust  wind-speed  \n",
       "0              25.0  NaN    NaN        NaN         5.6  \n",
       "1              25.0  NaN    NaN        NaN         5.6  \n",
       "2               7.0  NaN    NaN        NaN         7.2  \n",
       "3              31.9  NaN  135.0       18.3         9.7  \n",
       "4               2.0  NaN    NaN        4.1         2.0  \n",
       "\n",
       "[5 rows x 22 columns]"
      ]
     },
     "execution_count": 54,
     "metadata": {},
     "output_type": "execute_result"
    }
   ],
   "source": [
    "print(data_df_2021_Q1.shape)\n",
    "data_df_2021_Q1.head()"
   ]
  },
  {
   "cell_type": "code",
   "execution_count": 55,
   "id": "6b5da8a7",
   "metadata": {
    "execution": {
     "iopub.execute_input": "2024-12-31T12:06:22.769975Z",
     "iopub.status.busy": "2024-12-31T12:06:22.769619Z",
     "iopub.status.idle": "2024-12-31T12:06:22.784509Z",
     "shell.execute_reply": "2024-12-31T12:06:22.783422Z"
    },
    "executionInfo": {
     "elapsed": 7,
     "status": "ok",
     "timestamp": 1734445430618,
     "user": {
      "displayName": "Tahmida Majumder",
      "userId": "15415648085337204568"
     },
     "user_tz": -480
    },
    "id": "amjDbX-q6-nj",
    "outputId": "a273a9cb-fadc-4978-9038-0cdc6f155924",
    "papermill": {
     "duration": 0.061958,
     "end_time": "2024-12-31T12:06:22.786531",
     "exception": false,
     "start_time": "2024-12-31T12:06:22.724573",
     "status": "completed"
    },
    "tags": []
   },
   "outputs": [
    {
     "data": {
      "text/plain": [
       "Specie\n",
       "Date                 0\n",
       "Country              0\n",
       "City                 0\n",
       "aqi              57095\n",
       "co               21064\n",
       "dew              12610\n",
       "humidity           203\n",
       "mepaqi           58454\n",
       "neph             58356\n",
       "no2              10946\n",
       "o3               15009\n",
       "pm1              58358\n",
       "pm10             10897\n",
       "pm25              8962\n",
       "precipitation    52036\n",
       "pressure           360\n",
       "so2              18363\n",
       "temperature        177\n",
       "uvi              57577\n",
       "wd               53821\n",
       "wind-gust        26579\n",
       "wind-speed         892\n",
       "dtype: int64"
      ]
     },
     "execution_count": 55,
     "metadata": {},
     "output_type": "execute_result"
    }
   ],
   "source": [
    "data_df_2021_Q1.isnull().sum()"
   ]
  },
  {
   "cell_type": "code",
   "execution_count": null,
   "id": "2780ea27",
   "metadata": {
    "id": "z7QPUFHekmxG",
    "papermill": {
     "duration": 0.044765,
     "end_time": "2024-12-31T12:06:22.875841",
     "exception": false,
     "start_time": "2024-12-31T12:06:22.831076",
     "status": "completed"
    },
    "tags": []
   },
   "outputs": [],
   "source": []
  },
  {
   "cell_type": "code",
   "execution_count": null,
   "id": "62734690",
   "metadata": {
    "id": "C_JNMdE37dA1",
    "papermill": {
     "duration": 0.044505,
     "end_time": "2024-12-31T12:06:22.967348",
     "exception": false,
     "start_time": "2024-12-31T12:06:22.922843",
     "status": "completed"
    },
    "tags": []
   },
   "outputs": [],
   "source": []
  },
  {
   "cell_type": "markdown",
   "id": "01d1a89c",
   "metadata": {
    "id": "DK1N9LM97dA1",
    "papermill": {
     "duration": 0.044328,
     "end_time": "2024-12-31T12:06:23.056857",
     "exception": false,
     "start_time": "2024-12-31T12:06:23.012529",
     "status": "completed"
    },
    "tags": []
   },
   "source": [
    "# 2021_Q2"
   ]
  },
  {
   "cell_type": "code",
   "execution_count": 56,
   "id": "754a9a95",
   "metadata": {
    "execution": {
     "iopub.execute_input": "2024-12-31T12:06:23.147822Z",
     "iopub.status.busy": "2024-12-31T12:06:23.147415Z",
     "iopub.status.idle": "2024-12-31T12:06:23.708167Z",
     "shell.execute_reply": "2024-12-31T12:06:23.707081Z"
    },
    "executionInfo": {
     "elapsed": 957,
     "status": "ok",
     "timestamp": 1734445431570,
     "user": {
      "displayName": "Tahmida Majumder",
      "userId": "15415648085337204568"
     },
     "user_tz": -480
    },
    "id": "13HBc4s67dA2",
    "outputId": "abfacf20-9a88-4737-c6ba-2f5f852aa94d",
    "papermill": {
     "duration": 0.612925,
     "end_time": "2024-12-31T12:06:23.714416",
     "exception": false,
     "start_time": "2024-12-31T12:06:23.101491",
     "status": "completed"
    },
    "tags": []
   },
   "outputs": [
    {
     "name": "stdout",
     "output_type": "stream",
     "text": [
      "(587119, 5)\n"
     ]
    },
    {
     "data": {
      "text/html": [
       "<div>\n",
       "<style scoped>\n",
       "    .dataframe tbody tr th:only-of-type {\n",
       "        vertical-align: middle;\n",
       "    }\n",
       "\n",
       "    .dataframe tbody tr th {\n",
       "        vertical-align: top;\n",
       "    }\n",
       "\n",
       "    .dataframe thead th {\n",
       "        text-align: right;\n",
       "    }\n",
       "</style>\n",
       "<table border=\"1\" class=\"dataframe\">\n",
       "  <thead>\n",
       "    <tr style=\"text-align: right;\">\n",
       "      <th></th>\n",
       "      <th>Date</th>\n",
       "      <th>Country</th>\n",
       "      <th>City</th>\n",
       "      <th>Specie</th>\n",
       "      <th>max</th>\n",
       "    </tr>\n",
       "  </thead>\n",
       "  <tbody>\n",
       "    <tr>\n",
       "      <th>0</th>\n",
       "      <td>4/8/2021</td>\n",
       "      <td>IQ</td>\n",
       "      <td>Baghdad</td>\n",
       "      <td>dew</td>\n",
       "      <td>8.5</td>\n",
       "    </tr>\n",
       "    <tr>\n",
       "      <th>1</th>\n",
       "      <td>7/1/2021</td>\n",
       "      <td>IQ</td>\n",
       "      <td>Baghdad</td>\n",
       "      <td>dew</td>\n",
       "      <td>14.0</td>\n",
       "    </tr>\n",
       "    <tr>\n",
       "      <th>2</th>\n",
       "      <td>4/6/2021</td>\n",
       "      <td>IQ</td>\n",
       "      <td>Baghdad</td>\n",
       "      <td>dew</td>\n",
       "      <td>7.0</td>\n",
       "    </tr>\n",
       "    <tr>\n",
       "      <th>3</th>\n",
       "      <td>4/14/2021</td>\n",
       "      <td>IQ</td>\n",
       "      <td>Baghdad</td>\n",
       "      <td>dew</td>\n",
       "      <td>4.0</td>\n",
       "    </tr>\n",
       "    <tr>\n",
       "      <th>4</th>\n",
       "      <td>4/19/2021</td>\n",
       "      <td>IQ</td>\n",
       "      <td>Baghdad</td>\n",
       "      <td>dew</td>\n",
       "      <td>10.0</td>\n",
       "    </tr>\n",
       "    <tr>\n",
       "      <th>5</th>\n",
       "      <td>5/8/2021</td>\n",
       "      <td>IQ</td>\n",
       "      <td>Baghdad</td>\n",
       "      <td>dew</td>\n",
       "      <td>13.0</td>\n",
       "    </tr>\n",
       "    <tr>\n",
       "      <th>6</th>\n",
       "      <td>5/17/2021</td>\n",
       "      <td>IQ</td>\n",
       "      <td>Baghdad</td>\n",
       "      <td>dew</td>\n",
       "      <td>12.0</td>\n",
       "    </tr>\n",
       "    <tr>\n",
       "      <th>7</th>\n",
       "      <td>5/21/2021</td>\n",
       "      <td>IQ</td>\n",
       "      <td>Baghdad</td>\n",
       "      <td>dew</td>\n",
       "      <td>11.0</td>\n",
       "    </tr>\n",
       "    <tr>\n",
       "      <th>8</th>\n",
       "      <td>5/22/2021</td>\n",
       "      <td>IQ</td>\n",
       "      <td>Baghdad</td>\n",
       "      <td>dew</td>\n",
       "      <td>13.0</td>\n",
       "    </tr>\n",
       "    <tr>\n",
       "      <th>9</th>\n",
       "      <td>6/3/2021</td>\n",
       "      <td>IQ</td>\n",
       "      <td>Baghdad</td>\n",
       "      <td>dew</td>\n",
       "      <td>10.0</td>\n",
       "    </tr>\n",
       "  </tbody>\n",
       "</table>\n",
       "</div>"
      ],
      "text/plain": [
       "        Date Country     City Specie   max\n",
       "0   4/8/2021      IQ  Baghdad    dew   8.5\n",
       "1   7/1/2021      IQ  Baghdad    dew  14.0\n",
       "2   4/6/2021      IQ  Baghdad    dew   7.0\n",
       "3  4/14/2021      IQ  Baghdad    dew   4.0\n",
       "4  4/19/2021      IQ  Baghdad    dew  10.0\n",
       "5   5/8/2021      IQ  Baghdad    dew  13.0\n",
       "6  5/17/2021      IQ  Baghdad    dew  12.0\n",
       "7  5/21/2021      IQ  Baghdad    dew  11.0\n",
       "8  5/22/2021      IQ  Baghdad    dew  13.0\n",
       "9   6/3/2021      IQ  Baghdad    dew  10.0"
      ]
     },
     "execution_count": 56,
     "metadata": {},
     "output_type": "execute_result"
    }
   ],
   "source": [
    "# Loading the data\n",
    "raw_data_2021_Q2 = pd.read_csv(r\"/kaggle/input/raw-data/airqualitydata-2021Q2.csv\")\n",
    "\n",
    "# print the shape\n",
    "print(raw_data_2021_Q2.shape)\n",
    "\n",
    "#runs the first 5 rows\n",
    "raw_data_2021_Q2.head(10)"
   ]
  },
  {
   "cell_type": "code",
   "execution_count": 57,
   "id": "3b4b6529",
   "metadata": {
    "execution": {
     "iopub.execute_input": "2024-12-31T12:06:23.808045Z",
     "iopub.status.busy": "2024-12-31T12:06:23.807661Z",
     "iopub.status.idle": "2024-12-31T12:06:23.899739Z",
     "shell.execute_reply": "2024-12-31T12:06:23.898640Z"
    },
    "id": "f97XI_7l7dA2",
    "papermill": {
     "duration": 0.140669,
     "end_time": "2024-12-31T12:06:23.901903",
     "exception": false,
     "start_time": "2024-12-31T12:06:23.761234",
     "status": "completed"
    },
    "tags": []
   },
   "outputs": [],
   "source": [
    "# Convert 'Date' to datetime\n",
    "raw_data_2021_Q2['Date'] = pd.to_datetime(raw_data_2021_Q2['Date'])"
   ]
  },
  {
   "cell_type": "code",
   "execution_count": 58,
   "id": "f33ed6e6",
   "metadata": {
    "execution": {
     "iopub.execute_input": "2024-12-31T12:06:23.996613Z",
     "iopub.status.busy": "2024-12-31T12:06:23.996089Z",
     "iopub.status.idle": "2024-12-31T12:06:24.002502Z",
     "shell.execute_reply": "2024-12-31T12:06:24.001360Z"
    },
    "executionInfo": {
     "elapsed": 8,
     "status": "ok",
     "timestamp": 1734445431571,
     "user": {
      "displayName": "Tahmida Majumder",
      "userId": "15415648085337204568"
     },
     "user_tz": -480
    },
    "id": "iZ02mbgV7dA2",
    "outputId": "e51e4e76-d24f-4c4f-a7d9-6f99c39c55c4",
    "papermill": {
     "duration": 0.054418,
     "end_time": "2024-12-31T12:06:24.004238",
     "exception": false,
     "start_time": "2024-12-31T12:06:23.949820",
     "status": "completed"
    },
    "tags": []
   },
   "outputs": [
    {
     "data": {
      "text/plain": [
       "(587119, 5)"
      ]
     },
     "execution_count": 58,
     "metadata": {},
     "output_type": "execute_result"
    }
   ],
   "source": [
    "raw_data_2021_Q2.shape"
   ]
  },
  {
   "cell_type": "code",
   "execution_count": 59,
   "id": "dd78fee8",
   "metadata": {
    "execution": {
     "iopub.execute_input": "2024-12-31T12:06:24.096527Z",
     "iopub.status.busy": "2024-12-31T12:06:24.096109Z",
     "iopub.status.idle": "2024-12-31T12:06:24.539183Z",
     "shell.execute_reply": "2024-12-31T12:06:24.538125Z"
    },
    "id": "Y2kR42f67dA2",
    "papermill": {
     "duration": 0.492864,
     "end_time": "2024-12-31T12:06:24.541514",
     "exception": false,
     "start_time": "2024-12-31T12:06:24.048650",
     "status": "completed"
    },
    "tags": []
   },
   "outputs": [],
   "source": [
    "# Pivot the data\n",
    "data_df_2021_Q2 = raw_data_2021_Q2.pivot_table(\n",
    "    index=['Date', 'Country', 'City'],  # Grouping columns\n",
    "    columns='Specie',                  # Unique values become columns\n",
    "    values='max',                   # Values to aggregate\n",
    "    aggfunc='mean'                     # Aggregation function\n",
    ").reset_index()"
   ]
  },
  {
   "cell_type": "code",
   "execution_count": 60,
   "id": "dfcac6fd",
   "metadata": {
    "execution": {
     "iopub.execute_input": "2024-12-31T12:06:24.637497Z",
     "iopub.status.busy": "2024-12-31T12:06:24.637098Z",
     "iopub.status.idle": "2024-12-31T12:06:24.662232Z",
     "shell.execute_reply": "2024-12-31T12:06:24.661333Z"
    },
    "executionInfo": {
     "elapsed": 8,
     "status": "ok",
     "timestamp": 1734445432481,
     "user": {
      "displayName": "Tahmida Majumder",
      "userId": "15415648085337204568"
     },
     "user_tz": -480
    },
    "id": "HzLh01FP7dA2",
    "outputId": "bf7486e9-db00-41b2-84dd-1ea467117bee",
    "papermill": {
     "duration": 0.074812,
     "end_time": "2024-12-31T12:06:24.663907",
     "exception": false,
     "start_time": "2024-12-31T12:06:24.589095",
     "status": "completed"
    },
    "tags": []
   },
   "outputs": [
    {
     "name": "stdout",
     "output_type": "stream",
     "text": [
      "(58359, 22)\n"
     ]
    },
    {
     "data": {
      "text/html": [
       "<div>\n",
       "<style scoped>\n",
       "    .dataframe tbody tr th:only-of-type {\n",
       "        vertical-align: middle;\n",
       "    }\n",
       "\n",
       "    .dataframe tbody tr th {\n",
       "        vertical-align: top;\n",
       "    }\n",
       "\n",
       "    .dataframe thead th {\n",
       "        text-align: right;\n",
       "    }\n",
       "</style>\n",
       "<table border=\"1\" class=\"dataframe\">\n",
       "  <thead>\n",
       "    <tr style=\"text-align: right;\">\n",
       "      <th>Specie</th>\n",
       "      <th>Date</th>\n",
       "      <th>Country</th>\n",
       "      <th>City</th>\n",
       "      <th>aqi</th>\n",
       "      <th>co</th>\n",
       "      <th>dew</th>\n",
       "      <th>humidity</th>\n",
       "      <th>mepaqi</th>\n",
       "      <th>neph</th>\n",
       "      <th>no2</th>\n",
       "      <th>...</th>\n",
       "      <th>pm10</th>\n",
       "      <th>pm25</th>\n",
       "      <th>precipitation</th>\n",
       "      <th>pressure</th>\n",
       "      <th>so2</th>\n",
       "      <th>temperature</th>\n",
       "      <th>uvi</th>\n",
       "      <th>wd</th>\n",
       "      <th>wind-gust</th>\n",
       "      <th>wind-speed</th>\n",
       "    </tr>\n",
       "  </thead>\n",
       "  <tbody>\n",
       "    <tr>\n",
       "      <th>0</th>\n",
       "      <td>2021-03-29</td>\n",
       "      <td>AE</td>\n",
       "      <td>Abu Dhabi</td>\n",
       "      <td>NaN</td>\n",
       "      <td>0.1</td>\n",
       "      <td>18.0</td>\n",
       "      <td>73.0</td>\n",
       "      <td>NaN</td>\n",
       "      <td>NaN</td>\n",
       "      <td>14.7</td>\n",
       "      <td>...</td>\n",
       "      <td>99.0</td>\n",
       "      <td>NaN</td>\n",
       "      <td>NaN</td>\n",
       "      <td>1014.0</td>\n",
       "      <td>15.8</td>\n",
       "      <td>28.0</td>\n",
       "      <td>NaN</td>\n",
       "      <td>NaN</td>\n",
       "      <td>NaN</td>\n",
       "      <td>8.2</td>\n",
       "    </tr>\n",
       "    <tr>\n",
       "      <th>1</th>\n",
       "      <td>2021-03-29</td>\n",
       "      <td>AE</td>\n",
       "      <td>Dubai</td>\n",
       "      <td>NaN</td>\n",
       "      <td>NaN</td>\n",
       "      <td>19.0</td>\n",
       "      <td>78.0</td>\n",
       "      <td>NaN</td>\n",
       "      <td>NaN</td>\n",
       "      <td>NaN</td>\n",
       "      <td>...</td>\n",
       "      <td>NaN</td>\n",
       "      <td>99.0</td>\n",
       "      <td>NaN</td>\n",
       "      <td>1013.0</td>\n",
       "      <td>NaN</td>\n",
       "      <td>29.0</td>\n",
       "      <td>NaN</td>\n",
       "      <td>NaN</td>\n",
       "      <td>NaN</td>\n",
       "      <td>5.6</td>\n",
       "    </tr>\n",
       "    <tr>\n",
       "      <th>2</th>\n",
       "      <td>2021-03-29</td>\n",
       "      <td>AF</td>\n",
       "      <td>Kabul</td>\n",
       "      <td>NaN</td>\n",
       "      <td>NaN</td>\n",
       "      <td>7.0</td>\n",
       "      <td>87.0</td>\n",
       "      <td>NaN</td>\n",
       "      <td>NaN</td>\n",
       "      <td>NaN</td>\n",
       "      <td>...</td>\n",
       "      <td>NaN</td>\n",
       "      <td>153.0</td>\n",
       "      <td>NaN</td>\n",
       "      <td>1019.0</td>\n",
       "      <td>NaN</td>\n",
       "      <td>18.0</td>\n",
       "      <td>NaN</td>\n",
       "      <td>NaN</td>\n",
       "      <td>12.8</td>\n",
       "      <td>8.2</td>\n",
       "    </tr>\n",
       "    <tr>\n",
       "      <th>3</th>\n",
       "      <td>2021-03-29</td>\n",
       "      <td>AR</td>\n",
       "      <td>Buenos Aires</td>\n",
       "      <td>NaN</td>\n",
       "      <td>0.1</td>\n",
       "      <td>NaN</td>\n",
       "      <td>94.0</td>\n",
       "      <td>NaN</td>\n",
       "      <td>NaN</td>\n",
       "      <td>NaN</td>\n",
       "      <td>...</td>\n",
       "      <td>NaN</td>\n",
       "      <td>NaN</td>\n",
       "      <td>NaN</td>\n",
       "      <td>1014.9</td>\n",
       "      <td>NaN</td>\n",
       "      <td>23.2</td>\n",
       "      <td>NaN</td>\n",
       "      <td>225.0</td>\n",
       "      <td>10.6</td>\n",
       "      <td>3.4</td>\n",
       "    </tr>\n",
       "    <tr>\n",
       "      <th>4</th>\n",
       "      <td>2021-03-29</td>\n",
       "      <td>AT</td>\n",
       "      <td>Graz</td>\n",
       "      <td>NaN</td>\n",
       "      <td>0.1</td>\n",
       "      <td>3.4</td>\n",
       "      <td>90.8</td>\n",
       "      <td>NaN</td>\n",
       "      <td>NaN</td>\n",
       "      <td>39.4</td>\n",
       "      <td>...</td>\n",
       "      <td>60.0</td>\n",
       "      <td>NaN</td>\n",
       "      <td>NaN</td>\n",
       "      <td>1033.1</td>\n",
       "      <td>12.2</td>\n",
       "      <td>20.7</td>\n",
       "      <td>NaN</td>\n",
       "      <td>NaN</td>\n",
       "      <td>10.3</td>\n",
       "      <td>5.7</td>\n",
       "    </tr>\n",
       "  </tbody>\n",
       "</table>\n",
       "<p>5 rows × 22 columns</p>\n",
       "</div>"
      ],
      "text/plain": [
       "Specie       Date Country          City  aqi   co   dew  humidity  mepaqi  \\\n",
       "0      2021-03-29      AE     Abu Dhabi  NaN  0.1  18.0      73.0     NaN   \n",
       "1      2021-03-29      AE         Dubai  NaN  NaN  19.0      78.0     NaN   \n",
       "2      2021-03-29      AF         Kabul  NaN  NaN   7.0      87.0     NaN   \n",
       "3      2021-03-29      AR  Buenos Aires  NaN  0.1   NaN      94.0     NaN   \n",
       "4      2021-03-29      AT          Graz  NaN  0.1   3.4      90.8     NaN   \n",
       "\n",
       "Specie  neph   no2  ...  pm10   pm25  precipitation  pressure   so2  \\\n",
       "0        NaN  14.7  ...  99.0    NaN            NaN    1014.0  15.8   \n",
       "1        NaN   NaN  ...   NaN   99.0            NaN    1013.0   NaN   \n",
       "2        NaN   NaN  ...   NaN  153.0            NaN    1019.0   NaN   \n",
       "3        NaN   NaN  ...   NaN    NaN            NaN    1014.9   NaN   \n",
       "4        NaN  39.4  ...  60.0    NaN            NaN    1033.1  12.2   \n",
       "\n",
       "Specie  temperature  uvi     wd  wind-gust  wind-speed  \n",
       "0              28.0  NaN    NaN        NaN         8.2  \n",
       "1              29.0  NaN    NaN        NaN         5.6  \n",
       "2              18.0  NaN    NaN       12.8         8.2  \n",
       "3              23.2  NaN  225.0       10.6         3.4  \n",
       "4              20.7  NaN    NaN       10.3         5.7  \n",
       "\n",
       "[5 rows x 22 columns]"
      ]
     },
     "execution_count": 60,
     "metadata": {},
     "output_type": "execute_result"
    }
   ],
   "source": [
    "print(data_df_2021_Q2.shape)\n",
    "data_df_2021_Q2.head()"
   ]
  },
  {
   "cell_type": "code",
   "execution_count": 61,
   "id": "1f393e7b",
   "metadata": {
    "execution": {
     "iopub.execute_input": "2024-12-31T12:06:24.756083Z",
     "iopub.status.busy": "2024-12-31T12:06:24.755755Z",
     "iopub.status.idle": "2024-12-31T12:06:24.770691Z",
     "shell.execute_reply": "2024-12-31T12:06:24.769657Z"
    },
    "executionInfo": {
     "elapsed": 7,
     "status": "ok",
     "timestamp": 1734445432481,
     "user": {
      "displayName": "Tahmida Majumder",
      "userId": "15415648085337204568"
     },
     "user_tz": -480
    },
    "id": "UJcxOBzk7dA2",
    "outputId": "18639109-5b27-4018-d064-58cabeffc075",
    "papermill": {
     "duration": 0.062899,
     "end_time": "2024-12-31T12:06:24.772223",
     "exception": false,
     "start_time": "2024-12-31T12:06:24.709324",
     "status": "completed"
    },
    "tags": []
   },
   "outputs": [
    {
     "data": {
      "text/plain": [
       "Specie\n",
       "Date                 0\n",
       "Country              0\n",
       "City                 0\n",
       "aqi              57041\n",
       "co               21327\n",
       "dew              13091\n",
       "humidity           798\n",
       "mepaqi           58261\n",
       "neph             58163\n",
       "no2              11014\n",
       "o3               14925\n",
       "pm1              57970\n",
       "pm10             10603\n",
       "pm25              8315\n",
       "precipitation    51439\n",
       "pressure           951\n",
       "so2              19006\n",
       "temperature        776\n",
       "uvi              57379\n",
       "wd               54281\n",
       "wind-gust        24945\n",
       "wind-speed        1417\n",
       "dtype: int64"
      ]
     },
     "execution_count": 61,
     "metadata": {},
     "output_type": "execute_result"
    }
   ],
   "source": [
    "data_df_2021_Q2.isnull().sum()"
   ]
  },
  {
   "cell_type": "code",
   "execution_count": null,
   "id": "16e87b62",
   "metadata": {
    "id": "uULCz6QPkmzq",
    "papermill": {
     "duration": 0.046062,
     "end_time": "2024-12-31T12:06:24.863307",
     "exception": false,
     "start_time": "2024-12-31T12:06:24.817245",
     "status": "completed"
    },
    "tags": []
   },
   "outputs": [],
   "source": []
  },
  {
   "cell_type": "markdown",
   "id": "6cc36441",
   "metadata": {
    "id": "YCjaAdZW77Fa",
    "papermill": {
     "duration": 0.047309,
     "end_time": "2024-12-31T12:06:24.955564",
     "exception": false,
     "start_time": "2024-12-31T12:06:24.908255",
     "status": "completed"
    },
    "tags": []
   },
   "source": [
    "# 2021_Q3"
   ]
  },
  {
   "cell_type": "code",
   "execution_count": 62,
   "id": "4e8c1204",
   "metadata": {
    "execution": {
     "iopub.execute_input": "2024-12-31T12:06:25.049054Z",
     "iopub.status.busy": "2024-12-31T12:06:25.048684Z",
     "iopub.status.idle": "2024-12-31T12:06:25.622151Z",
     "shell.execute_reply": "2024-12-31T12:06:25.621153Z"
    },
    "executionInfo": {
     "elapsed": 843,
     "status": "ok",
     "timestamp": 1734445433318,
     "user": {
      "displayName": "Tahmida Majumder",
      "userId": "15415648085337204568"
     },
     "user_tz": -480
    },
    "id": "wNrgtH5J77Fb",
    "outputId": "40b315ec-bab1-49f4-c35f-779212e63005",
    "papermill": {
     "duration": 0.622062,
     "end_time": "2024-12-31T12:06:25.623837",
     "exception": false,
     "start_time": "2024-12-31T12:06:25.001775",
     "status": "completed"
    },
    "tags": []
   },
   "outputs": [
    {
     "name": "stdout",
     "output_type": "stream",
     "text": [
      "(570079, 5)\n"
     ]
    },
    {
     "data": {
      "text/html": [
       "<div>\n",
       "<style scoped>\n",
       "    .dataframe tbody tr th:only-of-type {\n",
       "        vertical-align: middle;\n",
       "    }\n",
       "\n",
       "    .dataframe tbody tr th {\n",
       "        vertical-align: top;\n",
       "    }\n",
       "\n",
       "    .dataframe thead th {\n",
       "        text-align: right;\n",
       "    }\n",
       "</style>\n",
       "<table border=\"1\" class=\"dataframe\">\n",
       "  <thead>\n",
       "    <tr style=\"text-align: right;\">\n",
       "      <th></th>\n",
       "      <th>Date</th>\n",
       "      <th>Country</th>\n",
       "      <th>City</th>\n",
       "      <th>Specie</th>\n",
       "      <th>max</th>\n",
       "    </tr>\n",
       "  </thead>\n",
       "  <tbody>\n",
       "    <tr>\n",
       "      <th>0</th>\n",
       "      <td>7/5/2021</td>\n",
       "      <td>BR</td>\n",
       "      <td>São José dos Campos</td>\n",
       "      <td>no2</td>\n",
       "      <td>17.9</td>\n",
       "    </tr>\n",
       "    <tr>\n",
       "      <th>1</th>\n",
       "      <td>7/16/2021</td>\n",
       "      <td>BR</td>\n",
       "      <td>São José dos Campos</td>\n",
       "      <td>no2</td>\n",
       "      <td>33.9</td>\n",
       "    </tr>\n",
       "    <tr>\n",
       "      <th>2</th>\n",
       "      <td>7/27/2021</td>\n",
       "      <td>BR</td>\n",
       "      <td>São José dos Campos</td>\n",
       "      <td>no2</td>\n",
       "      <td>34.8</td>\n",
       "    </tr>\n",
       "    <tr>\n",
       "      <th>3</th>\n",
       "      <td>8/3/2021</td>\n",
       "      <td>BR</td>\n",
       "      <td>São José dos Campos</td>\n",
       "      <td>no2</td>\n",
       "      <td>25.6</td>\n",
       "    </tr>\n",
       "    <tr>\n",
       "      <th>4</th>\n",
       "      <td>8/29/2021</td>\n",
       "      <td>BR</td>\n",
       "      <td>São José dos Campos</td>\n",
       "      <td>no2</td>\n",
       "      <td>14.2</td>\n",
       "    </tr>\n",
       "    <tr>\n",
       "      <th>5</th>\n",
       "      <td>9/21/2021</td>\n",
       "      <td>BR</td>\n",
       "      <td>São José dos Campos</td>\n",
       "      <td>no2</td>\n",
       "      <td>25.6</td>\n",
       "    </tr>\n",
       "    <tr>\n",
       "      <th>6</th>\n",
       "      <td>8/22/2021</td>\n",
       "      <td>BR</td>\n",
       "      <td>São José dos Campos</td>\n",
       "      <td>no2</td>\n",
       "      <td>33.9</td>\n",
       "    </tr>\n",
       "    <tr>\n",
       "      <th>7</th>\n",
       "      <td>9/11/2021</td>\n",
       "      <td>BR</td>\n",
       "      <td>São José dos Campos</td>\n",
       "      <td>no2</td>\n",
       "      <td>24.7</td>\n",
       "    </tr>\n",
       "    <tr>\n",
       "      <th>8</th>\n",
       "      <td>7/2/2021</td>\n",
       "      <td>BR</td>\n",
       "      <td>São José dos Campos</td>\n",
       "      <td>no2</td>\n",
       "      <td>41.6</td>\n",
       "    </tr>\n",
       "    <tr>\n",
       "      <th>9</th>\n",
       "      <td>7/7/2021</td>\n",
       "      <td>BR</td>\n",
       "      <td>São José dos Campos</td>\n",
       "      <td>no2</td>\n",
       "      <td>25.6</td>\n",
       "    </tr>\n",
       "  </tbody>\n",
       "</table>\n",
       "</div>"
      ],
      "text/plain": [
       "        Date Country                 City Specie   max\n",
       "0   7/5/2021      BR  São José dos Campos    no2  17.9\n",
       "1  7/16/2021      BR  São José dos Campos    no2  33.9\n",
       "2  7/27/2021      BR  São José dos Campos    no2  34.8\n",
       "3   8/3/2021      BR  São José dos Campos    no2  25.6\n",
       "4  8/29/2021      BR  São José dos Campos    no2  14.2\n",
       "5  9/21/2021      BR  São José dos Campos    no2  25.6\n",
       "6  8/22/2021      BR  São José dos Campos    no2  33.9\n",
       "7  9/11/2021      BR  São José dos Campos    no2  24.7\n",
       "8   7/2/2021      BR  São José dos Campos    no2  41.6\n",
       "9   7/7/2021      BR  São José dos Campos    no2  25.6"
      ]
     },
     "execution_count": 62,
     "metadata": {},
     "output_type": "execute_result"
    }
   ],
   "source": [
    "# Loading the data\n",
    "raw_data_2021_Q3 = pd.read_csv(r\"/kaggle/input/raw-data/airqualitydata-2021Q3.csv\")\n",
    "\n",
    "# print the shape\n",
    "print(raw_data_2021_Q3.shape)\n",
    "\n",
    "#runs the first 5 rows\n",
    "raw_data_2021_Q3.head(10)"
   ]
  },
  {
   "cell_type": "code",
   "execution_count": 63,
   "id": "ce21d351",
   "metadata": {
    "execution": {
     "iopub.execute_input": "2024-12-31T12:06:25.717925Z",
     "iopub.status.busy": "2024-12-31T12:06:25.717575Z",
     "iopub.status.idle": "2024-12-31T12:06:25.808724Z",
     "shell.execute_reply": "2024-12-31T12:06:25.807655Z"
    },
    "id": "JeJKKX7h77Fb",
    "papermill": {
     "duration": 0.141207,
     "end_time": "2024-12-31T12:06:25.810931",
     "exception": false,
     "start_time": "2024-12-31T12:06:25.669724",
     "status": "completed"
    },
    "tags": []
   },
   "outputs": [],
   "source": [
    "# Convert 'Date' to datetime\n",
    "raw_data_2021_Q3['Date'] = pd.to_datetime(raw_data_2021_Q3['Date'])"
   ]
  },
  {
   "cell_type": "code",
   "execution_count": 64,
   "id": "1c59ab65",
   "metadata": {
    "execution": {
     "iopub.execute_input": "2024-12-31T12:06:25.906750Z",
     "iopub.status.busy": "2024-12-31T12:06:25.906333Z",
     "iopub.status.idle": "2024-12-31T12:06:25.912041Z",
     "shell.execute_reply": "2024-12-31T12:06:25.910968Z"
    },
    "executionInfo": {
     "elapsed": 4,
     "status": "ok",
     "timestamp": 1734445433318,
     "user": {
      "displayName": "Tahmida Majumder",
      "userId": "15415648085337204568"
     },
     "user_tz": -480
    },
    "id": "-dawFSwX77Fb",
    "outputId": "be86aa29-f511-4143-f68e-6fd3bdf2d30a",
    "papermill": {
     "duration": 0.055903,
     "end_time": "2024-12-31T12:06:25.914450",
     "exception": false,
     "start_time": "2024-12-31T12:06:25.858547",
     "status": "completed"
    },
    "tags": []
   },
   "outputs": [
    {
     "data": {
      "text/plain": [
       "(570079, 5)"
      ]
     },
     "execution_count": 64,
     "metadata": {},
     "output_type": "execute_result"
    }
   ],
   "source": [
    "raw_data_2021_Q3.shape"
   ]
  },
  {
   "cell_type": "code",
   "execution_count": 65,
   "id": "fa782258",
   "metadata": {
    "execution": {
     "iopub.execute_input": "2024-12-31T12:06:26.010446Z",
     "iopub.status.busy": "2024-12-31T12:06:26.010049Z",
     "iopub.status.idle": "2024-12-31T12:06:26.428338Z",
     "shell.execute_reply": "2024-12-31T12:06:26.427230Z"
    },
    "id": "26Jtc7WT77Fb",
    "papermill": {
     "duration": 0.468677,
     "end_time": "2024-12-31T12:06:26.430261",
     "exception": false,
     "start_time": "2024-12-31T12:06:25.961584",
     "status": "completed"
    },
    "tags": []
   },
   "outputs": [],
   "source": [
    "# Pivot the data\n",
    "data_df_2021_Q3 = raw_data_2021_Q3.pivot_table(\n",
    "    index=['Date', 'Country', 'City'],  # Grouping columns\n",
    "    columns='Specie',                  # Unique values become columns\n",
    "    values='max',                   # Values to aggregate\n",
    "    aggfunc='mean'                     # Aggregation function\n",
    ").reset_index()\n"
   ]
  },
  {
   "cell_type": "code",
   "execution_count": 66,
   "id": "4469b6da",
   "metadata": {
    "execution": {
     "iopub.execute_input": "2024-12-31T12:06:26.526237Z",
     "iopub.status.busy": "2024-12-31T12:06:26.525917Z",
     "iopub.status.idle": "2024-12-31T12:06:26.552132Z",
     "shell.execute_reply": "2024-12-31T12:06:26.550516Z"
    },
    "executionInfo": {
     "elapsed": 11,
     "status": "ok",
     "timestamp": 1734445433727,
     "user": {
      "displayName": "Tahmida Majumder",
      "userId": "15415648085337204568"
     },
     "user_tz": -480
    },
    "id": "6er8GPv877Fc",
    "outputId": "2b614acf-5bcd-4f5d-baf7-578b9cd1aa1d",
    "papermill": {
     "duration": 0.077204,
     "end_time": "2024-12-31T12:06:26.554162",
     "exception": false,
     "start_time": "2024-12-31T12:06:26.476958",
     "status": "completed"
    },
    "tags": []
   },
   "outputs": [
    {
     "name": "stdout",
     "output_type": "stream",
     "text": [
      "(57529, 22)\n"
     ]
    },
    {
     "data": {
      "text/html": [
       "<div>\n",
       "<style scoped>\n",
       "    .dataframe tbody tr th:only-of-type {\n",
       "        vertical-align: middle;\n",
       "    }\n",
       "\n",
       "    .dataframe tbody tr th {\n",
       "        vertical-align: top;\n",
       "    }\n",
       "\n",
       "    .dataframe thead th {\n",
       "        text-align: right;\n",
       "    }\n",
       "</style>\n",
       "<table border=\"1\" class=\"dataframe\">\n",
       "  <thead>\n",
       "    <tr style=\"text-align: right;\">\n",
       "      <th>Specie</th>\n",
       "      <th>Date</th>\n",
       "      <th>Country</th>\n",
       "      <th>City</th>\n",
       "      <th>aqi</th>\n",
       "      <th>co</th>\n",
       "      <th>dew</th>\n",
       "      <th>humidity</th>\n",
       "      <th>mepaqi</th>\n",
       "      <th>neph</th>\n",
       "      <th>no2</th>\n",
       "      <th>...</th>\n",
       "      <th>pm10</th>\n",
       "      <th>pm25</th>\n",
       "      <th>precipitation</th>\n",
       "      <th>pressure</th>\n",
       "      <th>so2</th>\n",
       "      <th>temperature</th>\n",
       "      <th>uvi</th>\n",
       "      <th>wd</th>\n",
       "      <th>wind-gust</th>\n",
       "      <th>wind-speed</th>\n",
       "    </tr>\n",
       "  </thead>\n",
       "  <tbody>\n",
       "    <tr>\n",
       "      <th>0</th>\n",
       "      <td>2021-06-28</td>\n",
       "      <td>AE</td>\n",
       "      <td>Abu Dhabi</td>\n",
       "      <td>NaN</td>\n",
       "      <td>0.1</td>\n",
       "      <td>27.0</td>\n",
       "      <td>63.0</td>\n",
       "      <td>NaN</td>\n",
       "      <td>NaN</td>\n",
       "      <td>36.2</td>\n",
       "      <td>...</td>\n",
       "      <td>374.0</td>\n",
       "      <td>336.0</td>\n",
       "      <td>NaN</td>\n",
       "      <td>1005.0</td>\n",
       "      <td>13.7</td>\n",
       "      <td>43.0</td>\n",
       "      <td>NaN</td>\n",
       "      <td>NaN</td>\n",
       "      <td>NaN</td>\n",
       "      <td>8.2</td>\n",
       "    </tr>\n",
       "    <tr>\n",
       "      <th>1</th>\n",
       "      <td>2021-06-28</td>\n",
       "      <td>AE</td>\n",
       "      <td>Dubai</td>\n",
       "      <td>NaN</td>\n",
       "      <td>NaN</td>\n",
       "      <td>24.0</td>\n",
       "      <td>56.0</td>\n",
       "      <td>NaN</td>\n",
       "      <td>NaN</td>\n",
       "      <td>NaN</td>\n",
       "      <td>...</td>\n",
       "      <td>NaN</td>\n",
       "      <td>NaN</td>\n",
       "      <td>NaN</td>\n",
       "      <td>1005.0</td>\n",
       "      <td>NaN</td>\n",
       "      <td>41.0</td>\n",
       "      <td>NaN</td>\n",
       "      <td>NaN</td>\n",
       "      <td>NaN</td>\n",
       "      <td>7.2</td>\n",
       "    </tr>\n",
       "    <tr>\n",
       "      <th>2</th>\n",
       "      <td>2021-06-28</td>\n",
       "      <td>AF</td>\n",
       "      <td>Kabul</td>\n",
       "      <td>NaN</td>\n",
       "      <td>NaN</td>\n",
       "      <td>8.0</td>\n",
       "      <td>62.0</td>\n",
       "      <td>NaN</td>\n",
       "      <td>NaN</td>\n",
       "      <td>NaN</td>\n",
       "      <td>...</td>\n",
       "      <td>NaN</td>\n",
       "      <td>427.0</td>\n",
       "      <td>NaN</td>\n",
       "      <td>1020.0</td>\n",
       "      <td>NaN</td>\n",
       "      <td>32.0</td>\n",
       "      <td>NaN</td>\n",
       "      <td>NaN</td>\n",
       "      <td>11.3</td>\n",
       "      <td>9.2</td>\n",
       "    </tr>\n",
       "    <tr>\n",
       "      <th>3</th>\n",
       "      <td>2021-06-28</td>\n",
       "      <td>AR</td>\n",
       "      <td>Buenos Aires</td>\n",
       "      <td>NaN</td>\n",
       "      <td>2.9</td>\n",
       "      <td>4.2</td>\n",
       "      <td>91.0</td>\n",
       "      <td>NaN</td>\n",
       "      <td>NaN</td>\n",
       "      <td>10.6</td>\n",
       "      <td>...</td>\n",
       "      <td>16.0</td>\n",
       "      <td>57.0</td>\n",
       "      <td>99.0</td>\n",
       "      <td>1040.3</td>\n",
       "      <td>2.6</td>\n",
       "      <td>9.2</td>\n",
       "      <td>NaN</td>\n",
       "      <td>270.0</td>\n",
       "      <td>16.3</td>\n",
       "      <td>6.4</td>\n",
       "    </tr>\n",
       "    <tr>\n",
       "      <th>4</th>\n",
       "      <td>2021-06-28</td>\n",
       "      <td>AT</td>\n",
       "      <td>Graz</td>\n",
       "      <td>NaN</td>\n",
       "      <td>0.1</td>\n",
       "      <td>16.6</td>\n",
       "      <td>84.0</td>\n",
       "      <td>NaN</td>\n",
       "      <td>NaN</td>\n",
       "      <td>34.8</td>\n",
       "      <td>...</td>\n",
       "      <td>90.0</td>\n",
       "      <td>NaN</td>\n",
       "      <td>99.0</td>\n",
       "      <td>1018.2</td>\n",
       "      <td>4.6</td>\n",
       "      <td>33.0</td>\n",
       "      <td>NaN</td>\n",
       "      <td>NaN</td>\n",
       "      <td>13.6</td>\n",
       "      <td>7.6</td>\n",
       "    </tr>\n",
       "  </tbody>\n",
       "</table>\n",
       "<p>5 rows × 22 columns</p>\n",
       "</div>"
      ],
      "text/plain": [
       "Specie       Date Country          City  aqi   co   dew  humidity  mepaqi  \\\n",
       "0      2021-06-28      AE     Abu Dhabi  NaN  0.1  27.0      63.0     NaN   \n",
       "1      2021-06-28      AE         Dubai  NaN  NaN  24.0      56.0     NaN   \n",
       "2      2021-06-28      AF         Kabul  NaN  NaN   8.0      62.0     NaN   \n",
       "3      2021-06-28      AR  Buenos Aires  NaN  2.9   4.2      91.0     NaN   \n",
       "4      2021-06-28      AT          Graz  NaN  0.1  16.6      84.0     NaN   \n",
       "\n",
       "Specie  neph   no2  ...   pm10   pm25  precipitation  pressure   so2  \\\n",
       "0        NaN  36.2  ...  374.0  336.0            NaN    1005.0  13.7   \n",
       "1        NaN   NaN  ...    NaN    NaN            NaN    1005.0   NaN   \n",
       "2        NaN   NaN  ...    NaN  427.0            NaN    1020.0   NaN   \n",
       "3        NaN  10.6  ...   16.0   57.0           99.0    1040.3   2.6   \n",
       "4        NaN  34.8  ...   90.0    NaN           99.0    1018.2   4.6   \n",
       "\n",
       "Specie  temperature  uvi     wd  wind-gust  wind-speed  \n",
       "0              43.0  NaN    NaN        NaN         8.2  \n",
       "1              41.0  NaN    NaN        NaN         7.2  \n",
       "2              32.0  NaN    NaN       11.3         9.2  \n",
       "3               9.2  NaN  270.0       16.3         6.4  \n",
       "4              33.0  NaN    NaN       13.6         7.6  \n",
       "\n",
       "[5 rows x 22 columns]"
      ]
     },
     "execution_count": 66,
     "metadata": {},
     "output_type": "execute_result"
    }
   ],
   "source": [
    "print(data_df_2021_Q3.shape)\n",
    "data_df_2021_Q3.head()"
   ]
  },
  {
   "cell_type": "code",
   "execution_count": 67,
   "id": "62634504",
   "metadata": {
    "execution": {
     "iopub.execute_input": "2024-12-31T12:06:26.649809Z",
     "iopub.status.busy": "2024-12-31T12:06:26.649449Z",
     "iopub.status.idle": "2024-12-31T12:06:26.663337Z",
     "shell.execute_reply": "2024-12-31T12:06:26.662420Z"
    },
    "executionInfo": {
     "elapsed": 9,
     "status": "ok",
     "timestamp": 1734445433728,
     "user": {
      "displayName": "Tahmida Majumder",
      "userId": "15415648085337204568"
     },
     "user_tz": -480
    },
    "id": "lIKlQuFQ77Fc",
    "outputId": "fbe44aec-422a-41a6-ce8e-d4a22500a18f",
    "papermill": {
     "duration": 0.063342,
     "end_time": "2024-12-31T12:06:26.664944",
     "exception": false,
     "start_time": "2024-12-31T12:06:26.601602",
     "status": "completed"
    },
    "tags": []
   },
   "outputs": [
    {
     "data": {
      "text/plain": [
       "Specie\n",
       "Date                 0\n",
       "Country              0\n",
       "City                 0\n",
       "aqi              56333\n",
       "co               21042\n",
       "dew              12891\n",
       "humidity          2237\n",
       "mepaqi           57432\n",
       "neph             57333\n",
       "no2              10657\n",
       "o3               14558\n",
       "pm1              57173\n",
       "pm10             10242\n",
       "pm25              8362\n",
       "precipitation    51411\n",
       "pressure          2320\n",
       "so2              18480\n",
       "temperature       2216\n",
       "uvi              56561\n",
       "wd               54784\n",
       "wind-gust        26014\n",
       "wind-speed        2926\n",
       "dtype: int64"
      ]
     },
     "execution_count": 67,
     "metadata": {},
     "output_type": "execute_result"
    }
   ],
   "source": [
    "data_df_2021_Q3.isnull().sum()"
   ]
  },
  {
   "cell_type": "code",
   "execution_count": null,
   "id": "cc32519e",
   "metadata": {
    "id": "VEYeMekUkm1x",
    "papermill": {
     "duration": 0.045427,
     "end_time": "2024-12-31T12:06:26.756648",
     "exception": false,
     "start_time": "2024-12-31T12:06:26.711221",
     "status": "completed"
    },
    "tags": []
   },
   "outputs": [],
   "source": []
  },
  {
   "cell_type": "markdown",
   "id": "ab124b1d",
   "metadata": {
    "id": "hQImY60a8Q8k",
    "papermill": {
     "duration": 0.0454,
     "end_time": "2024-12-31T12:06:26.849287",
     "exception": false,
     "start_time": "2024-12-31T12:06:26.803887",
     "status": "completed"
    },
    "tags": []
   },
   "source": [
    "# 2021_Q4"
   ]
  },
  {
   "cell_type": "code",
   "execution_count": 68,
   "id": "c12ada2c",
   "metadata": {
    "execution": {
     "iopub.execute_input": "2024-12-31T12:06:26.945581Z",
     "iopub.status.busy": "2024-12-31T12:06:26.945197Z",
     "iopub.status.idle": "2024-12-31T12:06:27.511888Z",
     "shell.execute_reply": "2024-12-31T12:06:27.510818Z"
    },
    "executionInfo": {
     "elapsed": 1055,
     "status": "ok",
     "timestamp": 1734445434776,
     "user": {
      "displayName": "Tahmida Majumder",
      "userId": "15415648085337204568"
     },
     "user_tz": -480
    },
    "id": "bDDkw4C18Q8k",
    "outputId": "47dd3bc5-47a6-4ba2-97a5-f59b302dbc62",
    "papermill": {
     "duration": 0.622457,
     "end_time": "2024-12-31T12:06:27.518083",
     "exception": false,
     "start_time": "2024-12-31T12:06:26.895626",
     "status": "completed"
    },
    "tags": []
   },
   "outputs": [
    {
     "name": "stdout",
     "output_type": "stream",
     "text": [
      "(548423, 5)\n"
     ]
    },
    {
     "data": {
      "text/html": [
       "<div>\n",
       "<style scoped>\n",
       "    .dataframe tbody tr th:only-of-type {\n",
       "        vertical-align: middle;\n",
       "    }\n",
       "\n",
       "    .dataframe tbody tr th {\n",
       "        vertical-align: top;\n",
       "    }\n",
       "\n",
       "    .dataframe thead th {\n",
       "        text-align: right;\n",
       "    }\n",
       "</style>\n",
       "<table border=\"1\" class=\"dataframe\">\n",
       "  <thead>\n",
       "    <tr style=\"text-align: right;\">\n",
       "      <th></th>\n",
       "      <th>Date</th>\n",
       "      <th>Country</th>\n",
       "      <th>City</th>\n",
       "      <th>Specie</th>\n",
       "      <th>max</th>\n",
       "    </tr>\n",
       "  </thead>\n",
       "  <tbody>\n",
       "    <tr>\n",
       "      <th>0</th>\n",
       "      <td>10/24/2021</td>\n",
       "      <td>BH</td>\n",
       "      <td>Manama</td>\n",
       "      <td>pressure</td>\n",
       "      <td>1013.0</td>\n",
       "    </tr>\n",
       "    <tr>\n",
       "      <th>1</th>\n",
       "      <td>11/12/2021</td>\n",
       "      <td>BH</td>\n",
       "      <td>Manama</td>\n",
       "      <td>pressure</td>\n",
       "      <td>1015.3</td>\n",
       "    </tr>\n",
       "    <tr>\n",
       "      <th>2</th>\n",
       "      <td>11/27/2021</td>\n",
       "      <td>BH</td>\n",
       "      <td>Manama</td>\n",
       "      <td>pressure</td>\n",
       "      <td>1017.3</td>\n",
       "    </tr>\n",
       "    <tr>\n",
       "      <th>3</th>\n",
       "      <td>12/10/2021</td>\n",
       "      <td>BH</td>\n",
       "      <td>Manama</td>\n",
       "      <td>pressure</td>\n",
       "      <td>1022.7</td>\n",
       "    </tr>\n",
       "    <tr>\n",
       "      <th>4</th>\n",
       "      <td>12/22/2021</td>\n",
       "      <td>BH</td>\n",
       "      <td>Manama</td>\n",
       "      <td>pressure</td>\n",
       "      <td>1020.1</td>\n",
       "    </tr>\n",
       "    <tr>\n",
       "      <th>5</th>\n",
       "      <td>12/26/2021</td>\n",
       "      <td>BH</td>\n",
       "      <td>Manama</td>\n",
       "      <td>pressure</td>\n",
       "      <td>1021.7</td>\n",
       "    </tr>\n",
       "    <tr>\n",
       "      <th>6</th>\n",
       "      <td>10/11/2021</td>\n",
       "      <td>BH</td>\n",
       "      <td>Manama</td>\n",
       "      <td>pressure</td>\n",
       "      <td>1008.7</td>\n",
       "    </tr>\n",
       "    <tr>\n",
       "      <th>7</th>\n",
       "      <td>10/18/2021</td>\n",
       "      <td>BH</td>\n",
       "      <td>Manama</td>\n",
       "      <td>pressure</td>\n",
       "      <td>1010.6</td>\n",
       "    </tr>\n",
       "    <tr>\n",
       "      <th>8</th>\n",
       "      <td>11/15/2021</td>\n",
       "      <td>BH</td>\n",
       "      <td>Manama</td>\n",
       "      <td>pressure</td>\n",
       "      <td>1016.1</td>\n",
       "    </tr>\n",
       "    <tr>\n",
       "      <th>9</th>\n",
       "      <td>11/16/2021</td>\n",
       "      <td>BH</td>\n",
       "      <td>Manama</td>\n",
       "      <td>pressure</td>\n",
       "      <td>1012.4</td>\n",
       "    </tr>\n",
       "  </tbody>\n",
       "</table>\n",
       "</div>"
      ],
      "text/plain": [
       "         Date Country    City    Specie     max\n",
       "0  10/24/2021      BH  Manama  pressure  1013.0\n",
       "1  11/12/2021      BH  Manama  pressure  1015.3\n",
       "2  11/27/2021      BH  Manama  pressure  1017.3\n",
       "3  12/10/2021      BH  Manama  pressure  1022.7\n",
       "4  12/22/2021      BH  Manama  pressure  1020.1\n",
       "5  12/26/2021      BH  Manama  pressure  1021.7\n",
       "6  10/11/2021      BH  Manama  pressure  1008.7\n",
       "7  10/18/2021      BH  Manama  pressure  1010.6\n",
       "8  11/15/2021      BH  Manama  pressure  1016.1\n",
       "9  11/16/2021      BH  Manama  pressure  1012.4"
      ]
     },
     "execution_count": 68,
     "metadata": {},
     "output_type": "execute_result"
    }
   ],
   "source": [
    "# Loading the data\n",
    "raw_data_2021_Q4 = pd.read_csv(r\"/kaggle/input/raw-data/airqualitydata-2021Q4.csv\")\n",
    "\n",
    "# print the shape\n",
    "print(raw_data_2021_Q4.shape)\n",
    "\n",
    "#runs the first 5 rows\n",
    "raw_data_2021_Q4.head(10)"
   ]
  },
  {
   "cell_type": "code",
   "execution_count": 69,
   "id": "47a8d682",
   "metadata": {
    "execution": {
     "iopub.execute_input": "2024-12-31T12:06:27.611844Z",
     "iopub.status.busy": "2024-12-31T12:06:27.611463Z",
     "iopub.status.idle": "2024-12-31T12:06:27.700854Z",
     "shell.execute_reply": "2024-12-31T12:06:27.699480Z"
    },
    "id": "IINip_WP8Q8k",
    "papermill": {
     "duration": 0.138472,
     "end_time": "2024-12-31T12:06:27.702971",
     "exception": false,
     "start_time": "2024-12-31T12:06:27.564499",
     "status": "completed"
    },
    "tags": []
   },
   "outputs": [],
   "source": [
    "# Convert 'Date' to datetime\n",
    "raw_data_2021_Q4['Date'] = pd.to_datetime(raw_data_2021_Q4['Date'])"
   ]
  },
  {
   "cell_type": "code",
   "execution_count": 70,
   "id": "80cc5ac7",
   "metadata": {
    "execution": {
     "iopub.execute_input": "2024-12-31T12:06:27.797162Z",
     "iopub.status.busy": "2024-12-31T12:06:27.796827Z",
     "iopub.status.idle": "2024-12-31T12:06:27.802756Z",
     "shell.execute_reply": "2024-12-31T12:06:27.801649Z"
    },
    "executionInfo": {
     "elapsed": 9,
     "status": "ok",
     "timestamp": 1734445434776,
     "user": {
      "displayName": "Tahmida Majumder",
      "userId": "15415648085337204568"
     },
     "user_tz": -480
    },
    "id": "aIKkewJJ8Q8l",
    "outputId": "28c2e81d-8f48-4aac-fa6f-6924da89dfe0",
    "papermill": {
     "duration": 0.05574,
     "end_time": "2024-12-31T12:06:27.804459",
     "exception": false,
     "start_time": "2024-12-31T12:06:27.748719",
     "status": "completed"
    },
    "tags": []
   },
   "outputs": [
    {
     "data": {
      "text/plain": [
       "(548423, 5)"
      ]
     },
     "execution_count": 70,
     "metadata": {},
     "output_type": "execute_result"
    }
   ],
   "source": [
    "raw_data_2021_Q4.shape"
   ]
  },
  {
   "cell_type": "code",
   "execution_count": 71,
   "id": "f4675ddb",
   "metadata": {
    "execution": {
     "iopub.execute_input": "2024-12-31T12:06:27.898938Z",
     "iopub.status.busy": "2024-12-31T12:06:27.898603Z",
     "iopub.status.idle": "2024-12-31T12:06:28.305064Z",
     "shell.execute_reply": "2024-12-31T12:06:28.303993Z"
    },
    "id": "qh-GSPCC8Q8l",
    "papermill": {
     "duration": 0.455766,
     "end_time": "2024-12-31T12:06:28.307203",
     "exception": false,
     "start_time": "2024-12-31T12:06:27.851437",
     "status": "completed"
    },
    "tags": []
   },
   "outputs": [],
   "source": [
    "# Pivot the data\n",
    "data_df_2021_Q4 = raw_data_2021_Q4.pivot_table(\n",
    "    index=['Date', 'Country', 'City'],  # Grouping columns\n",
    "    columns='Specie',                  # Unique values become columns\n",
    "    values='max',                   # Values to aggregate\n",
    "    aggfunc='mean'                     # Aggregation function\n",
    ").reset_index()\n"
   ]
  },
  {
   "cell_type": "code",
   "execution_count": 72,
   "id": "583edb3c",
   "metadata": {
    "execution": {
     "iopub.execute_input": "2024-12-31T12:06:28.399956Z",
     "iopub.status.busy": "2024-12-31T12:06:28.399601Z",
     "iopub.status.idle": "2024-12-31T12:06:28.424257Z",
     "shell.execute_reply": "2024-12-31T12:06:28.423188Z"
    },
    "executionInfo": {
     "elapsed": 8,
     "status": "ok",
     "timestamp": 1734445435256,
     "user": {
      "displayName": "Tahmida Majumder",
      "userId": "15415648085337204568"
     },
     "user_tz": -480
    },
    "id": "7n4M9wEZ8Q8l",
    "outputId": "28fbdd4e-073d-40f6-9b20-a8ee54781fcb",
    "papermill": {
     "duration": 0.072681,
     "end_time": "2024-12-31T12:06:28.425843",
     "exception": false,
     "start_time": "2024-12-31T12:06:28.353162",
     "status": "completed"
    },
    "tags": []
   },
   "outputs": [
    {
     "name": "stdout",
     "output_type": "stream",
     "text": [
      "(57596, 22)\n"
     ]
    },
    {
     "data": {
      "text/html": [
       "<div>\n",
       "<style scoped>\n",
       "    .dataframe tbody tr th:only-of-type {\n",
       "        vertical-align: middle;\n",
       "    }\n",
       "\n",
       "    .dataframe tbody tr th {\n",
       "        vertical-align: top;\n",
       "    }\n",
       "\n",
       "    .dataframe thead th {\n",
       "        text-align: right;\n",
       "    }\n",
       "</style>\n",
       "<table border=\"1\" class=\"dataframe\">\n",
       "  <thead>\n",
       "    <tr style=\"text-align: right;\">\n",
       "      <th>Specie</th>\n",
       "      <th>Date</th>\n",
       "      <th>Country</th>\n",
       "      <th>City</th>\n",
       "      <th>aqi</th>\n",
       "      <th>co</th>\n",
       "      <th>dew</th>\n",
       "      <th>humidity</th>\n",
       "      <th>mepaqi</th>\n",
       "      <th>neph</th>\n",
       "      <th>no2</th>\n",
       "      <th>...</th>\n",
       "      <th>pm10</th>\n",
       "      <th>pm25</th>\n",
       "      <th>precipitation</th>\n",
       "      <th>pressure</th>\n",
       "      <th>so2</th>\n",
       "      <th>temperature</th>\n",
       "      <th>uvi</th>\n",
       "      <th>wd</th>\n",
       "      <th>wind-gust</th>\n",
       "      <th>wind-speed</th>\n",
       "    </tr>\n",
       "  </thead>\n",
       "  <tbody>\n",
       "    <tr>\n",
       "      <th>0</th>\n",
       "      <td>2021-09-27</td>\n",
       "      <td>AE</td>\n",
       "      <td>Abu Dhabi</td>\n",
       "      <td>NaN</td>\n",
       "      <td>0.1</td>\n",
       "      <td>24.0</td>\n",
       "      <td>62.0</td>\n",
       "      <td>NaN</td>\n",
       "      <td>NaN</td>\n",
       "      <td>34.8</td>\n",
       "      <td>...</td>\n",
       "      <td>157.0</td>\n",
       "      <td>233.0</td>\n",
       "      <td>NaN</td>\n",
       "      <td>1005.0</td>\n",
       "      <td>9.7</td>\n",
       "      <td>36.0</td>\n",
       "      <td>NaN</td>\n",
       "      <td>NaN</td>\n",
       "      <td>NaN</td>\n",
       "      <td>6.6</td>\n",
       "    </tr>\n",
       "    <tr>\n",
       "      <th>1</th>\n",
       "      <td>2021-09-27</td>\n",
       "      <td>AE</td>\n",
       "      <td>Dubai</td>\n",
       "      <td>NaN</td>\n",
       "      <td>NaN</td>\n",
       "      <td>25.0</td>\n",
       "      <td>70.0</td>\n",
       "      <td>NaN</td>\n",
       "      <td>NaN</td>\n",
       "      <td>NaN</td>\n",
       "      <td>...</td>\n",
       "      <td>NaN</td>\n",
       "      <td>162.0</td>\n",
       "      <td>NaN</td>\n",
       "      <td>1005.0</td>\n",
       "      <td>NaN</td>\n",
       "      <td>37.0</td>\n",
       "      <td>NaN</td>\n",
       "      <td>NaN</td>\n",
       "      <td>NaN</td>\n",
       "      <td>6.6</td>\n",
       "    </tr>\n",
       "    <tr>\n",
       "      <th>2</th>\n",
       "      <td>2021-09-27</td>\n",
       "      <td>AR</td>\n",
       "      <td>Buenos Aires</td>\n",
       "      <td>NaN</td>\n",
       "      <td>7.5</td>\n",
       "      <td>13.9</td>\n",
       "      <td>95.8</td>\n",
       "      <td>NaN</td>\n",
       "      <td>NaN</td>\n",
       "      <td>10.6</td>\n",
       "      <td>...</td>\n",
       "      <td>28.0</td>\n",
       "      <td>68.0</td>\n",
       "      <td>NaN</td>\n",
       "      <td>1020.0</td>\n",
       "      <td>NaN</td>\n",
       "      <td>16.4</td>\n",
       "      <td>NaN</td>\n",
       "      <td>NaN</td>\n",
       "      <td>12.2</td>\n",
       "      <td>9.7</td>\n",
       "    </tr>\n",
       "    <tr>\n",
       "      <th>3</th>\n",
       "      <td>2021-09-27</td>\n",
       "      <td>AT</td>\n",
       "      <td>Graz</td>\n",
       "      <td>NaN</td>\n",
       "      <td>0.1</td>\n",
       "      <td>16.0</td>\n",
       "      <td>99.0</td>\n",
       "      <td>NaN</td>\n",
       "      <td>NaN</td>\n",
       "      <td>32.5</td>\n",
       "      <td>...</td>\n",
       "      <td>40.0</td>\n",
       "      <td>NaN</td>\n",
       "      <td>0.3</td>\n",
       "      <td>1018.3</td>\n",
       "      <td>2.6</td>\n",
       "      <td>21.2</td>\n",
       "      <td>NaN</td>\n",
       "      <td>NaN</td>\n",
       "      <td>7.5</td>\n",
       "      <td>3.7</td>\n",
       "    </tr>\n",
       "    <tr>\n",
       "      <th>4</th>\n",
       "      <td>2021-09-27</td>\n",
       "      <td>AT</td>\n",
       "      <td>Innsbruck</td>\n",
       "      <td>NaN</td>\n",
       "      <td>0.1</td>\n",
       "      <td>14.3</td>\n",
       "      <td>100.0</td>\n",
       "      <td>NaN</td>\n",
       "      <td>NaN</td>\n",
       "      <td>25.2</td>\n",
       "      <td>...</td>\n",
       "      <td>26.0</td>\n",
       "      <td>NaN</td>\n",
       "      <td>0.7</td>\n",
       "      <td>1021.0</td>\n",
       "      <td>1.1</td>\n",
       "      <td>21.7</td>\n",
       "      <td>NaN</td>\n",
       "      <td>NaN</td>\n",
       "      <td>11.7</td>\n",
       "      <td>8.0</td>\n",
       "    </tr>\n",
       "  </tbody>\n",
       "</table>\n",
       "<p>5 rows × 22 columns</p>\n",
       "</div>"
      ],
      "text/plain": [
       "Specie       Date Country          City  aqi   co   dew  humidity  mepaqi  \\\n",
       "0      2021-09-27      AE     Abu Dhabi  NaN  0.1  24.0      62.0     NaN   \n",
       "1      2021-09-27      AE         Dubai  NaN  NaN  25.0      70.0     NaN   \n",
       "2      2021-09-27      AR  Buenos Aires  NaN  7.5  13.9      95.8     NaN   \n",
       "3      2021-09-27      AT          Graz  NaN  0.1  16.0      99.0     NaN   \n",
       "4      2021-09-27      AT     Innsbruck  NaN  0.1  14.3     100.0     NaN   \n",
       "\n",
       "Specie  neph   no2  ...   pm10   pm25  precipitation  pressure  so2  \\\n",
       "0        NaN  34.8  ...  157.0  233.0            NaN    1005.0  9.7   \n",
       "1        NaN   NaN  ...    NaN  162.0            NaN    1005.0  NaN   \n",
       "2        NaN  10.6  ...   28.0   68.0            NaN    1020.0  NaN   \n",
       "3        NaN  32.5  ...   40.0    NaN            0.3    1018.3  2.6   \n",
       "4        NaN  25.2  ...   26.0    NaN            0.7    1021.0  1.1   \n",
       "\n",
       "Specie  temperature  uvi  wd  wind-gust  wind-speed  \n",
       "0              36.0  NaN NaN        NaN         6.6  \n",
       "1              37.0  NaN NaN        NaN         6.6  \n",
       "2              16.4  NaN NaN       12.2         9.7  \n",
       "3              21.2  NaN NaN        7.5         3.7  \n",
       "4              21.7  NaN NaN       11.7         8.0  \n",
       "\n",
       "[5 rows x 22 columns]"
      ]
     },
     "execution_count": 72,
     "metadata": {},
     "output_type": "execute_result"
    }
   ],
   "source": [
    "print(data_df_2021_Q4.shape)\n",
    "data_df_2021_Q4.head()"
   ]
  },
  {
   "cell_type": "code",
   "execution_count": 73,
   "id": "bd28368d",
   "metadata": {
    "execution": {
     "iopub.execute_input": "2024-12-31T12:06:28.521027Z",
     "iopub.status.busy": "2024-12-31T12:06:28.520657Z",
     "iopub.status.idle": "2024-12-31T12:06:28.536109Z",
     "shell.execute_reply": "2024-12-31T12:06:28.534978Z"
    },
    "executionInfo": {
     "elapsed": 7,
     "status": "ok",
     "timestamp": 1734445435256,
     "user": {
      "displayName": "Tahmida Majumder",
      "userId": "15415648085337204568"
     },
     "user_tz": -480
    },
    "id": "HLSD09398Q8l",
    "outputId": "cfd33c82-8964-49aa-b79e-337dc62a80ed",
    "papermill": {
     "duration": 0.06594,
     "end_time": "2024-12-31T12:06:28.537930",
     "exception": false,
     "start_time": "2024-12-31T12:06:28.471990",
     "status": "completed"
    },
    "tags": []
   },
   "outputs": [
    {
     "data": {
      "text/plain": [
       "Specie\n",
       "Date                 0\n",
       "Country              0\n",
       "City                 0\n",
       "aqi              56254\n",
       "co               21421\n",
       "dew              15917\n",
       "humidity          5137\n",
       "mepaqi           57498\n",
       "neph             57400\n",
       "no2              11193\n",
       "o3               15551\n",
       "pm1              57213\n",
       "pm10             10535\n",
       "pm25              9407\n",
       "precipitation    52472\n",
       "pressure          4971\n",
       "so2              19425\n",
       "temperature       4923\n",
       "uvi              56620\n",
       "wd               55617\n",
       "wind-gust        28316\n",
       "wind-speed        6031\n",
       "dtype: int64"
      ]
     },
     "execution_count": 73,
     "metadata": {},
     "output_type": "execute_result"
    }
   ],
   "source": [
    "data_df_2021_Q4.isnull().sum()"
   ]
  },
  {
   "cell_type": "code",
   "execution_count": null,
   "id": "5ab975e7",
   "metadata": {
    "id": "6mKdTCdQ-h6F",
    "papermill": {
     "duration": 0.04672,
     "end_time": "2024-12-31T12:06:28.632405",
     "exception": false,
     "start_time": "2024-12-31T12:06:28.585685",
     "status": "completed"
    },
    "tags": []
   },
   "outputs": [],
   "source": []
  },
  {
   "cell_type": "markdown",
   "id": "1b56d188",
   "metadata": {
    "id": "bb0jSl23TLES",
    "papermill": {
     "duration": 0.04628,
     "end_time": "2024-12-31T12:06:28.725289",
     "exception": false,
     "start_time": "2024-12-31T12:06:28.679009",
     "status": "completed"
    },
    "tags": []
   },
   "source": [
    "# 2020_Q1"
   ]
  },
  {
   "cell_type": "code",
   "execution_count": 74,
   "id": "3371d534",
   "metadata": {
    "execution": {
     "iopub.execute_input": "2024-12-31T12:06:28.819703Z",
     "iopub.status.busy": "2024-12-31T12:06:28.819295Z",
     "iopub.status.idle": "2024-12-31T12:06:29.338608Z",
     "shell.execute_reply": "2024-12-31T12:06:29.337496Z"
    },
    "executionInfo": {
     "elapsed": 1028,
     "status": "ok",
     "timestamp": 1734445436278,
     "user": {
      "displayName": "Tahmida Majumder",
      "userId": "15415648085337204568"
     },
     "user_tz": -480
    },
    "id": "olJx7kX2TLET",
    "outputId": "24b93e39-8a14-40ae-adbe-94b23904766d",
    "papermill": {
     "duration": 0.568201,
     "end_time": "2024-12-31T12:06:29.340517",
     "exception": false,
     "start_time": "2024-12-31T12:06:28.772316",
     "status": "completed"
    },
    "tags": []
   },
   "outputs": [
    {
     "name": "stdout",
     "output_type": "stream",
     "text": [
      "(539573, 5)\n"
     ]
    },
    {
     "data": {
      "text/html": [
       "<div>\n",
       "<style scoped>\n",
       "    .dataframe tbody tr th:only-of-type {\n",
       "        vertical-align: middle;\n",
       "    }\n",
       "\n",
       "    .dataframe tbody tr th {\n",
       "        vertical-align: top;\n",
       "    }\n",
       "\n",
       "    .dataframe thead th {\n",
       "        text-align: right;\n",
       "    }\n",
       "</style>\n",
       "<table border=\"1\" class=\"dataframe\">\n",
       "  <thead>\n",
       "    <tr style=\"text-align: right;\">\n",
       "      <th></th>\n",
       "      <th>Date</th>\n",
       "      <th>Country</th>\n",
       "      <th>City</th>\n",
       "      <th>Specie</th>\n",
       "      <th>max</th>\n",
       "    </tr>\n",
       "  </thead>\n",
       "  <tbody>\n",
       "    <tr>\n",
       "      <th>0</th>\n",
       "      <td>1/13/2020</td>\n",
       "      <td>CO</td>\n",
       "      <td>Bogotá</td>\n",
       "      <td>so2</td>\n",
       "      <td>2.8</td>\n",
       "    </tr>\n",
       "    <tr>\n",
       "      <th>1</th>\n",
       "      <td>2/25/2020</td>\n",
       "      <td>CO</td>\n",
       "      <td>Bogotá</td>\n",
       "      <td>so2</td>\n",
       "      <td>4.1</td>\n",
       "    </tr>\n",
       "    <tr>\n",
       "      <th>2</th>\n",
       "      <td>3/9/2020</td>\n",
       "      <td>CO</td>\n",
       "      <td>Bogotá</td>\n",
       "      <td>so2</td>\n",
       "      <td>5.4</td>\n",
       "    </tr>\n",
       "    <tr>\n",
       "      <th>3</th>\n",
       "      <td>3/13/2020</td>\n",
       "      <td>CO</td>\n",
       "      <td>Bogotá</td>\n",
       "      <td>so2</td>\n",
       "      <td>3.7</td>\n",
       "    </tr>\n",
       "    <tr>\n",
       "      <th>4</th>\n",
       "      <td>3/27/2020</td>\n",
       "      <td>CO</td>\n",
       "      <td>Bogotá</td>\n",
       "      <td>so2</td>\n",
       "      <td>13.8</td>\n",
       "    </tr>\n",
       "    <tr>\n",
       "      <th>5</th>\n",
       "      <td>4/5/2020</td>\n",
       "      <td>CO</td>\n",
       "      <td>Bogotá</td>\n",
       "      <td>so2</td>\n",
       "      <td>2.5</td>\n",
       "    </tr>\n",
       "    <tr>\n",
       "      <th>6</th>\n",
       "      <td>1/1/2020</td>\n",
       "      <td>CO</td>\n",
       "      <td>Bogotá</td>\n",
       "      <td>so2</td>\n",
       "      <td>2.5</td>\n",
       "    </tr>\n",
       "    <tr>\n",
       "      <th>7</th>\n",
       "      <td>1/10/2020</td>\n",
       "      <td>CO</td>\n",
       "      <td>Bogotá</td>\n",
       "      <td>so2</td>\n",
       "      <td>8.8</td>\n",
       "    </tr>\n",
       "    <tr>\n",
       "      <th>8</th>\n",
       "      <td>2/27/2020</td>\n",
       "      <td>CO</td>\n",
       "      <td>Bogotá</td>\n",
       "      <td>so2</td>\n",
       "      <td>3.4</td>\n",
       "    </tr>\n",
       "    <tr>\n",
       "      <th>9</th>\n",
       "      <td>3/8/2020</td>\n",
       "      <td>CO</td>\n",
       "      <td>Bogotá</td>\n",
       "      <td>so2</td>\n",
       "      <td>2.6</td>\n",
       "    </tr>\n",
       "  </tbody>\n",
       "</table>\n",
       "</div>"
      ],
      "text/plain": [
       "        Date Country    City Specie   max\n",
       "0  1/13/2020      CO  Bogotá    so2   2.8\n",
       "1  2/25/2020      CO  Bogotá    so2   4.1\n",
       "2   3/9/2020      CO  Bogotá    so2   5.4\n",
       "3  3/13/2020      CO  Bogotá    so2   3.7\n",
       "4  3/27/2020      CO  Bogotá    so2  13.8\n",
       "5   4/5/2020      CO  Bogotá    so2   2.5\n",
       "6   1/1/2020      CO  Bogotá    so2   2.5\n",
       "7  1/10/2020      CO  Bogotá    so2   8.8\n",
       "8  2/27/2020      CO  Bogotá    so2   3.4\n",
       "9   3/8/2020      CO  Bogotá    so2   2.6"
      ]
     },
     "execution_count": 74,
     "metadata": {},
     "output_type": "execute_result"
    }
   ],
   "source": [
    "# Loading the data\n",
    "raw_data_2020_Q1 = pd.read_csv(r\"/kaggle/input/raw-data/airqualitydata-2020Q1.csv\")\n",
    "\n",
    "# print the shape\n",
    "print(raw_data_2020_Q1.shape)\n",
    "\n",
    "#runs the first 5 rows\n",
    "raw_data_2020_Q1.head(10)"
   ]
  },
  {
   "cell_type": "code",
   "execution_count": 75,
   "id": "a96901ea",
   "metadata": {
    "execution": {
     "iopub.execute_input": "2024-12-31T12:06:29.436859Z",
     "iopub.status.busy": "2024-12-31T12:06:29.436513Z",
     "iopub.status.idle": "2024-12-31T12:06:29.521614Z",
     "shell.execute_reply": "2024-12-31T12:06:29.520672Z"
    },
    "id": "RV3cx5rqTLET",
    "papermill": {
     "duration": 0.13525,
     "end_time": "2024-12-31T12:06:29.523820",
     "exception": false,
     "start_time": "2024-12-31T12:06:29.388570",
     "status": "completed"
    },
    "tags": []
   },
   "outputs": [],
   "source": [
    "# Convert 'Date' to datetime\n",
    "raw_data_2020_Q1['Date'] = pd.to_datetime(raw_data_2020_Q1['Date'])"
   ]
  },
  {
   "cell_type": "code",
   "execution_count": 76,
   "id": "69499a2d",
   "metadata": {
    "execution": {
     "iopub.execute_input": "2024-12-31T12:06:29.619813Z",
     "iopub.status.busy": "2024-12-31T12:06:29.619478Z",
     "iopub.status.idle": "2024-12-31T12:06:29.625398Z",
     "shell.execute_reply": "2024-12-31T12:06:29.624094Z"
    },
    "executionInfo": {
     "elapsed": 11,
     "status": "ok",
     "timestamp": 1734445436278,
     "user": {
      "displayName": "Tahmida Majumder",
      "userId": "15415648085337204568"
     },
     "user_tz": -480
    },
    "id": "CAq3ew-gTLET",
    "outputId": "d1f110fd-c5c1-42ec-f4c8-926fe2d8815f",
    "papermill": {
     "duration": 0.0553,
     "end_time": "2024-12-31T12:06:29.627037",
     "exception": false,
     "start_time": "2024-12-31T12:06:29.571737",
     "status": "completed"
    },
    "tags": []
   },
   "outputs": [
    {
     "data": {
      "text/plain": [
       "(539573, 5)"
      ]
     },
     "execution_count": 76,
     "metadata": {},
     "output_type": "execute_result"
    }
   ],
   "source": [
    "raw_data_2020_Q1.shape"
   ]
  },
  {
   "cell_type": "code",
   "execution_count": 77,
   "id": "fdb10068",
   "metadata": {
    "execution": {
     "iopub.execute_input": "2024-12-31T12:06:29.724146Z",
     "iopub.status.busy": "2024-12-31T12:06:29.723776Z",
     "iopub.status.idle": "2024-12-31T12:06:30.142060Z",
     "shell.execute_reply": "2024-12-31T12:06:30.140919Z"
    },
    "id": "ApuQo9RUTLET",
    "papermill": {
     "duration": 0.468568,
     "end_time": "2024-12-31T12:06:30.143972",
     "exception": false,
     "start_time": "2024-12-31T12:06:29.675404",
     "status": "completed"
    },
    "tags": []
   },
   "outputs": [],
   "source": [
    "# Pivot the data\n",
    "data_df_2020_Q1 = raw_data_2020_Q1.pivot_table(\n",
    "    index=['Date', 'Country', 'City'],  # Grouping columns\n",
    "    columns='Specie',                  # Unique values become columns\n",
    "    values='max',                   # Values to aggregate\n",
    "    aggfunc='mean'                     # Aggregation function\n",
    ").reset_index()"
   ]
  },
  {
   "cell_type": "code",
   "execution_count": 78,
   "id": "5f3f5a07",
   "metadata": {
    "execution": {
     "iopub.execute_input": "2024-12-31T12:06:30.247822Z",
     "iopub.status.busy": "2024-12-31T12:06:30.247346Z",
     "iopub.status.idle": "2024-12-31T12:06:30.271668Z",
     "shell.execute_reply": "2024-12-31T12:06:30.270302Z"
    },
    "executionInfo": {
     "elapsed": 400,
     "status": "ok",
     "timestamp": 1734445436669,
     "user": {
      "displayName": "Tahmida Majumder",
      "userId": "15415648085337204568"
     },
     "user_tz": -480
    },
    "id": "aYWh6ZKXTLET",
    "outputId": "a393338c-c3cf-422c-f237-a7bfa5b14e20",
    "papermill": {
     "duration": 0.080814,
     "end_time": "2024-12-31T12:06:30.273694",
     "exception": false,
     "start_time": "2024-12-31T12:06:30.192880",
     "status": "completed"
    },
    "tags": []
   },
   "outputs": [
    {
     "name": "stdout",
     "output_type": "stream",
     "text": [
      "(59069, 25)\n"
     ]
    },
    {
     "data": {
      "text/html": [
       "<div>\n",
       "<style scoped>\n",
       "    .dataframe tbody tr th:only-of-type {\n",
       "        vertical-align: middle;\n",
       "    }\n",
       "\n",
       "    .dataframe tbody tr th {\n",
       "        vertical-align: top;\n",
       "    }\n",
       "\n",
       "    .dataframe thead th {\n",
       "        text-align: right;\n",
       "    }\n",
       "</style>\n",
       "<table border=\"1\" class=\"dataframe\">\n",
       "  <thead>\n",
       "    <tr style=\"text-align: right;\">\n",
       "      <th>Specie</th>\n",
       "      <th>Date</th>\n",
       "      <th>Country</th>\n",
       "      <th>City</th>\n",
       "      <th>aqi</th>\n",
       "      <th>co</th>\n",
       "      <th>dew</th>\n",
       "      <th>humidity</th>\n",
       "      <th>mepaqi</th>\n",
       "      <th>neph</th>\n",
       "      <th>no2</th>\n",
       "      <th>...</th>\n",
       "      <th>precipitation</th>\n",
       "      <th>pressure</th>\n",
       "      <th>so2</th>\n",
       "      <th>temperature</th>\n",
       "      <th>uvi</th>\n",
       "      <th>wd</th>\n",
       "      <th>wind gust</th>\n",
       "      <th>wind speed</th>\n",
       "      <th>wind-gust</th>\n",
       "      <th>wind-speed</th>\n",
       "    </tr>\n",
       "  </thead>\n",
       "  <tbody>\n",
       "    <tr>\n",
       "      <th>0</th>\n",
       "      <td>2019-12-30</td>\n",
       "      <td>AE</td>\n",
       "      <td>Abu Dhabi</td>\n",
       "      <td>NaN</td>\n",
       "      <td>0.1</td>\n",
       "      <td>NaN</td>\n",
       "      <td>NaN</td>\n",
       "      <td>NaN</td>\n",
       "      <td>NaN</td>\n",
       "      <td>50.4</td>\n",
       "      <td>...</td>\n",
       "      <td>NaN</td>\n",
       "      <td>NaN</td>\n",
       "      <td>14.7</td>\n",
       "      <td>NaN</td>\n",
       "      <td>NaN</td>\n",
       "      <td>NaN</td>\n",
       "      <td>NaN</td>\n",
       "      <td>NaN</td>\n",
       "      <td>NaN</td>\n",
       "      <td>NaN</td>\n",
       "    </tr>\n",
       "    <tr>\n",
       "      <th>1</th>\n",
       "      <td>2019-12-30</td>\n",
       "      <td>AE</td>\n",
       "      <td>Dubai</td>\n",
       "      <td>NaN</td>\n",
       "      <td>NaN</td>\n",
       "      <td>NaN</td>\n",
       "      <td>NaN</td>\n",
       "      <td>NaN</td>\n",
       "      <td>NaN</td>\n",
       "      <td>NaN</td>\n",
       "      <td>...</td>\n",
       "      <td>NaN</td>\n",
       "      <td>NaN</td>\n",
       "      <td>NaN</td>\n",
       "      <td>NaN</td>\n",
       "      <td>NaN</td>\n",
       "      <td>NaN</td>\n",
       "      <td>NaN</td>\n",
       "      <td>NaN</td>\n",
       "      <td>NaN</td>\n",
       "      <td>NaN</td>\n",
       "    </tr>\n",
       "    <tr>\n",
       "      <th>2</th>\n",
       "      <td>2019-12-30</td>\n",
       "      <td>AF</td>\n",
       "      <td>Kabul</td>\n",
       "      <td>NaN</td>\n",
       "      <td>NaN</td>\n",
       "      <td>NaN</td>\n",
       "      <td>NaN</td>\n",
       "      <td>NaN</td>\n",
       "      <td>NaN</td>\n",
       "      <td>NaN</td>\n",
       "      <td>...</td>\n",
       "      <td>NaN</td>\n",
       "      <td>NaN</td>\n",
       "      <td>NaN</td>\n",
       "      <td>NaN</td>\n",
       "      <td>NaN</td>\n",
       "      <td>NaN</td>\n",
       "      <td>NaN</td>\n",
       "      <td>NaN</td>\n",
       "      <td>NaN</td>\n",
       "      <td>NaN</td>\n",
       "    </tr>\n",
       "    <tr>\n",
       "      <th>3</th>\n",
       "      <td>2019-12-30</td>\n",
       "      <td>AR</td>\n",
       "      <td>Buenos Aires</td>\n",
       "      <td>NaN</td>\n",
       "      <td>11.0</td>\n",
       "      <td>NaN</td>\n",
       "      <td>NaN</td>\n",
       "      <td>NaN</td>\n",
       "      <td>NaN</td>\n",
       "      <td>17.9</td>\n",
       "      <td>...</td>\n",
       "      <td>NaN</td>\n",
       "      <td>NaN</td>\n",
       "      <td>NaN</td>\n",
       "      <td>NaN</td>\n",
       "      <td>NaN</td>\n",
       "      <td>NaN</td>\n",
       "      <td>NaN</td>\n",
       "      <td>NaN</td>\n",
       "      <td>NaN</td>\n",
       "      <td>NaN</td>\n",
       "    </tr>\n",
       "    <tr>\n",
       "      <th>4</th>\n",
       "      <td>2019-12-30</td>\n",
       "      <td>AT</td>\n",
       "      <td>Graz</td>\n",
       "      <td>NaN</td>\n",
       "      <td>0.1</td>\n",
       "      <td>NaN</td>\n",
       "      <td>NaN</td>\n",
       "      <td>NaN</td>\n",
       "      <td>NaN</td>\n",
       "      <td>32.0</td>\n",
       "      <td>...</td>\n",
       "      <td>NaN</td>\n",
       "      <td>NaN</td>\n",
       "      <td>3.1</td>\n",
       "      <td>NaN</td>\n",
       "      <td>NaN</td>\n",
       "      <td>NaN</td>\n",
       "      <td>NaN</td>\n",
       "      <td>NaN</td>\n",
       "      <td>NaN</td>\n",
       "      <td>NaN</td>\n",
       "    </tr>\n",
       "  </tbody>\n",
       "</table>\n",
       "<p>5 rows × 25 columns</p>\n",
       "</div>"
      ],
      "text/plain": [
       "Specie       Date Country          City  aqi    co  dew  humidity  mepaqi  \\\n",
       "0      2019-12-30      AE     Abu Dhabi  NaN   0.1  NaN       NaN     NaN   \n",
       "1      2019-12-30      AE         Dubai  NaN   NaN  NaN       NaN     NaN   \n",
       "2      2019-12-30      AF         Kabul  NaN   NaN  NaN       NaN     NaN   \n",
       "3      2019-12-30      AR  Buenos Aires  NaN  11.0  NaN       NaN     NaN   \n",
       "4      2019-12-30      AT          Graz  NaN   0.1  NaN       NaN     NaN   \n",
       "\n",
       "Specie  neph   no2  ...  precipitation  pressure   so2  temperature  uvi  wd  \\\n",
       "0        NaN  50.4  ...            NaN       NaN  14.7          NaN  NaN NaN   \n",
       "1        NaN   NaN  ...            NaN       NaN   NaN          NaN  NaN NaN   \n",
       "2        NaN   NaN  ...            NaN       NaN   NaN          NaN  NaN NaN   \n",
       "3        NaN  17.9  ...            NaN       NaN   NaN          NaN  NaN NaN   \n",
       "4        NaN  32.0  ...            NaN       NaN   3.1          NaN  NaN NaN   \n",
       "\n",
       "Specie  wind gust  wind speed  wind-gust  wind-speed  \n",
       "0             NaN         NaN        NaN         NaN  \n",
       "1             NaN         NaN        NaN         NaN  \n",
       "2             NaN         NaN        NaN         NaN  \n",
       "3             NaN         NaN        NaN         NaN  \n",
       "4             NaN         NaN        NaN         NaN  \n",
       "\n",
       "[5 rows x 25 columns]"
      ]
     },
     "execution_count": 78,
     "metadata": {},
     "output_type": "execute_result"
    }
   ],
   "source": [
    "print(data_df_2020_Q1.shape)\n",
    "data_df_2020_Q1.head()"
   ]
  },
  {
   "cell_type": "code",
   "execution_count": 79,
   "id": "affe4704",
   "metadata": {
    "execution": {
     "iopub.execute_input": "2024-12-31T12:06:30.370886Z",
     "iopub.status.busy": "2024-12-31T12:06:30.370477Z",
     "iopub.status.idle": "2024-12-31T12:06:30.386067Z",
     "shell.execute_reply": "2024-12-31T12:06:30.385004Z"
    },
    "executionInfo": {
     "elapsed": 6,
     "status": "ok",
     "timestamp": 1734445436669,
     "user": {
      "displayName": "Tahmida Majumder",
      "userId": "15415648085337204568"
     },
     "user_tz": -480
    },
    "id": "EQUiUnjrTLET",
    "outputId": "e84122f3-e118-48f3-b958-abd1625bc15b",
    "papermill": {
     "duration": 0.066127,
     "end_time": "2024-12-31T12:06:30.388128",
     "exception": false,
     "start_time": "2024-12-31T12:06:30.322001",
     "status": "completed"
    },
    "tags": []
   },
   "outputs": [
    {
     "data": {
      "text/plain": [
       "Specie\n",
       "Date                 0\n",
       "Country              0\n",
       "City                 0\n",
       "aqi              57661\n",
       "co               22080\n",
       "dew              22910\n",
       "humidity         11489\n",
       "mepaqi           58971\n",
       "neph             58873\n",
       "no2              11017\n",
       "o3               14542\n",
       "pm1              58687\n",
       "pm10             10818\n",
       "pm25              9623\n",
       "pol              58354\n",
       "precipitation    55234\n",
       "pressure         11631\n",
       "so2              18847\n",
       "temperature      11481\n",
       "uvi              58086\n",
       "wd               55488\n",
       "wind gust        30802\n",
       "wind speed       14994\n",
       "wind-gust        55472\n",
       "wind-speed       52885\n",
       "dtype: int64"
      ]
     },
     "execution_count": 79,
     "metadata": {},
     "output_type": "execute_result"
    }
   ],
   "source": [
    "data_df_2020_Q1.isnull().sum()"
   ]
  },
  {
   "cell_type": "code",
   "execution_count": null,
   "id": "1669b6f3",
   "metadata": {
    "id": "fm1JPY2nBLi9",
    "papermill": {
     "duration": 0.050095,
     "end_time": "2024-12-31T12:06:30.486780",
     "exception": false,
     "start_time": "2024-12-31T12:06:30.436685",
     "status": "completed"
    },
    "tags": []
   },
   "outputs": [],
   "source": []
  },
  {
   "cell_type": "markdown",
   "id": "08fa9bd4",
   "metadata": {
    "id": "LGYwkNVzToWU",
    "papermill": {
     "duration": 0.049192,
     "end_time": "2024-12-31T12:06:30.588147",
     "exception": false,
     "start_time": "2024-12-31T12:06:30.538955",
     "status": "completed"
    },
    "tags": []
   },
   "source": [
    "# 2020_Q2"
   ]
  },
  {
   "cell_type": "code",
   "execution_count": 80,
   "id": "8876e304",
   "metadata": {
    "execution": {
     "iopub.execute_input": "2024-12-31T12:06:30.687218Z",
     "iopub.status.busy": "2024-12-31T12:06:30.686888Z",
     "iopub.status.idle": "2024-12-31T12:06:31.308558Z",
     "shell.execute_reply": "2024-12-31T12:06:31.307480Z"
    },
    "executionInfo": {
     "elapsed": 1250,
     "status": "ok",
     "timestamp": 1734445437914,
     "user": {
      "displayName": "Tahmida Majumder",
      "userId": "15415648085337204568"
     },
     "user_tz": -480
    },
    "id": "xSyoEhVsToWV",
    "outputId": "02d3233d-6501-46f6-e68a-6322b0ea3acd",
    "papermill": {
     "duration": 0.673617,
     "end_time": "2024-12-31T12:06:31.310133",
     "exception": false,
     "start_time": "2024-12-31T12:06:30.636516",
     "status": "completed"
    },
    "tags": []
   },
   "outputs": [
    {
     "name": "stdout",
     "output_type": "stream",
     "text": [
      "(602520, 5)\n"
     ]
    },
    {
     "data": {
      "text/html": [
       "<div>\n",
       "<style scoped>\n",
       "    .dataframe tbody tr th:only-of-type {\n",
       "        vertical-align: middle;\n",
       "    }\n",
       "\n",
       "    .dataframe tbody tr th {\n",
       "        vertical-align: top;\n",
       "    }\n",
       "\n",
       "    .dataframe thead th {\n",
       "        text-align: right;\n",
       "    }\n",
       "</style>\n",
       "<table border=\"1\" class=\"dataframe\">\n",
       "  <thead>\n",
       "    <tr style=\"text-align: right;\">\n",
       "      <th></th>\n",
       "      <th>Date</th>\n",
       "      <th>Country</th>\n",
       "      <th>City</th>\n",
       "      <th>Specie</th>\n",
       "      <th>max</th>\n",
       "    </tr>\n",
       "  </thead>\n",
       "  <tbody>\n",
       "    <tr>\n",
       "      <th>0</th>\n",
       "      <td>4/15/2020</td>\n",
       "      <td>IN</td>\n",
       "      <td>Thrissur</td>\n",
       "      <td>wind-gust</td>\n",
       "      <td>10.2</td>\n",
       "    </tr>\n",
       "    <tr>\n",
       "      <th>1</th>\n",
       "      <td>4/26/2020</td>\n",
       "      <td>IN</td>\n",
       "      <td>Thrissur</td>\n",
       "      <td>wind-gust</td>\n",
       "      <td>12.8</td>\n",
       "    </tr>\n",
       "    <tr>\n",
       "      <th>2</th>\n",
       "      <td>5/2/2020</td>\n",
       "      <td>IN</td>\n",
       "      <td>Thrissur</td>\n",
       "      <td>wind-gust</td>\n",
       "      <td>8.7</td>\n",
       "    </tr>\n",
       "    <tr>\n",
       "      <th>3</th>\n",
       "      <td>5/11/2020</td>\n",
       "      <td>IN</td>\n",
       "      <td>Thrissur</td>\n",
       "      <td>wind-gust</td>\n",
       "      <td>11.3</td>\n",
       "    </tr>\n",
       "    <tr>\n",
       "      <th>4</th>\n",
       "      <td>6/21/2020</td>\n",
       "      <td>IN</td>\n",
       "      <td>Thrissur</td>\n",
       "      <td>wind-gust</td>\n",
       "      <td>10.2</td>\n",
       "    </tr>\n",
       "    <tr>\n",
       "      <th>5</th>\n",
       "      <td>7/2/2020</td>\n",
       "      <td>IN</td>\n",
       "      <td>Thrissur</td>\n",
       "      <td>wind-gust</td>\n",
       "      <td>11.8</td>\n",
       "    </tr>\n",
       "    <tr>\n",
       "      <th>6</th>\n",
       "      <td>3/30/2020</td>\n",
       "      <td>IN</td>\n",
       "      <td>Thrissur</td>\n",
       "      <td>wind speed</td>\n",
       "      <td>6.1</td>\n",
       "    </tr>\n",
       "    <tr>\n",
       "      <th>7</th>\n",
       "      <td>3/31/2020</td>\n",
       "      <td>IN</td>\n",
       "      <td>Thrissur</td>\n",
       "      <td>wind speed</td>\n",
       "      <td>6.1</td>\n",
       "    </tr>\n",
       "    <tr>\n",
       "      <th>8</th>\n",
       "      <td>5/31/2020</td>\n",
       "      <td>IN</td>\n",
       "      <td>Thrissur</td>\n",
       "      <td>o3</td>\n",
       "      <td>5.8</td>\n",
       "    </tr>\n",
       "    <tr>\n",
       "      <th>9</th>\n",
       "      <td>4/8/2020</td>\n",
       "      <td>IN</td>\n",
       "      <td>Thrissur</td>\n",
       "      <td>o3</td>\n",
       "      <td>17.1</td>\n",
       "    </tr>\n",
       "  </tbody>\n",
       "</table>\n",
       "</div>"
      ],
      "text/plain": [
       "        Date Country      City      Specie   max\n",
       "0  4/15/2020      IN  Thrissur   wind-gust  10.2\n",
       "1  4/26/2020      IN  Thrissur   wind-gust  12.8\n",
       "2   5/2/2020      IN  Thrissur   wind-gust   8.7\n",
       "3  5/11/2020      IN  Thrissur   wind-gust  11.3\n",
       "4  6/21/2020      IN  Thrissur   wind-gust  10.2\n",
       "5   7/2/2020      IN  Thrissur   wind-gust  11.8\n",
       "6  3/30/2020      IN  Thrissur  wind speed   6.1\n",
       "7  3/31/2020      IN  Thrissur  wind speed   6.1\n",
       "8  5/31/2020      IN  Thrissur          o3   5.8\n",
       "9   4/8/2020      IN  Thrissur          o3  17.1"
      ]
     },
     "execution_count": 80,
     "metadata": {},
     "output_type": "execute_result"
    }
   ],
   "source": [
    "# Loading the data\n",
    "raw_data_2020_Q2 = pd.read_csv(r\"/kaggle/input/raw-data/airqualitydata-2020Q2.csv\")\n",
    "\n",
    "# print the shape\n",
    "print(raw_data_2020_Q2.shape)\n",
    "\n",
    "#runs the first 5 rows\n",
    "raw_data_2020_Q2.head(10)"
   ]
  },
  {
   "cell_type": "code",
   "execution_count": 81,
   "id": "e052cd4f",
   "metadata": {
    "execution": {
     "iopub.execute_input": "2024-12-31T12:06:31.408626Z",
     "iopub.status.busy": "2024-12-31T12:06:31.408244Z",
     "iopub.status.idle": "2024-12-31T12:06:31.495894Z",
     "shell.execute_reply": "2024-12-31T12:06:31.494780Z"
    },
    "id": "b0XbQ7rFToWV",
    "papermill": {
     "duration": 0.139306,
     "end_time": "2024-12-31T12:06:31.497860",
     "exception": false,
     "start_time": "2024-12-31T12:06:31.358554",
     "status": "completed"
    },
    "tags": []
   },
   "outputs": [],
   "source": [
    "# Convert 'Date' to datetime\n",
    "raw_data_2020_Q2['Date'] = pd.to_datetime(raw_data_2020_Q2['Date'])"
   ]
  },
  {
   "cell_type": "code",
   "execution_count": 82,
   "id": "a404657d",
   "metadata": {
    "execution": {
     "iopub.execute_input": "2024-12-31T12:06:31.597824Z",
     "iopub.status.busy": "2024-12-31T12:06:31.597446Z",
     "iopub.status.idle": "2024-12-31T12:06:31.603191Z",
     "shell.execute_reply": "2024-12-31T12:06:31.602119Z"
    },
    "executionInfo": {
     "elapsed": 10,
     "status": "ok",
     "timestamp": 1734445437915,
     "user": {
      "displayName": "Tahmida Majumder",
      "userId": "15415648085337204568"
     },
     "user_tz": -480
    },
    "id": "xKxi2CK8ToWV",
    "outputId": "440244db-2fa4-4e07-f3d8-0dbbe5edf054",
    "papermill": {
     "duration": 0.057223,
     "end_time": "2024-12-31T12:06:31.604841",
     "exception": false,
     "start_time": "2024-12-31T12:06:31.547618",
     "status": "completed"
    },
    "tags": []
   },
   "outputs": [
    {
     "data": {
      "text/plain": [
       "(602520, 5)"
      ]
     },
     "execution_count": 82,
     "metadata": {},
     "output_type": "execute_result"
    }
   ],
   "source": [
    "raw_data_2020_Q2.shape"
   ]
  },
  {
   "cell_type": "code",
   "execution_count": 83,
   "id": "fd685e2d",
   "metadata": {
    "execution": {
     "iopub.execute_input": "2024-12-31T12:06:31.705975Z",
     "iopub.status.busy": "2024-12-31T12:06:31.705585Z",
     "iopub.status.idle": "2024-12-31T12:06:32.141209Z",
     "shell.execute_reply": "2024-12-31T12:06:32.139784Z"
    },
    "id": "ZKV6xvpVToWV",
    "papermill": {
     "duration": 0.487668,
     "end_time": "2024-12-31T12:06:32.143408",
     "exception": false,
     "start_time": "2024-12-31T12:06:31.655740",
     "status": "completed"
    },
    "tags": []
   },
   "outputs": [],
   "source": [
    "# Pivot the data\n",
    "data_df_2020_Q2 = raw_data_2020_Q2.pivot_table(\n",
    "    index=['Date', 'Country', 'City'],  # Grouping columns\n",
    "    columns='Specie',                  # Unique values become columns\n",
    "    values='max',                   # Values to aggregate\n",
    "    aggfunc='mean'                     # Aggregation function\n",
    ").reset_index()\n"
   ]
  },
  {
   "cell_type": "code",
   "execution_count": 84,
   "id": "86736955",
   "metadata": {
    "execution": {
     "iopub.execute_input": "2024-12-31T12:06:32.242236Z",
     "iopub.status.busy": "2024-12-31T12:06:32.241877Z",
     "iopub.status.idle": "2024-12-31T12:06:32.266905Z",
     "shell.execute_reply": "2024-12-31T12:06:32.265519Z"
    },
    "executionInfo": {
     "elapsed": 11,
     "status": "ok",
     "timestamp": 1734445438399,
     "user": {
      "displayName": "Tahmida Majumder",
      "userId": "15415648085337204568"
     },
     "user_tz": -480
    },
    "id": "_824_kVMToWV",
    "outputId": "7eaa3e0c-df23-4d87-8509-3ee748405b7b",
    "papermill": {
     "duration": 0.076728,
     "end_time": "2024-12-31T12:06:32.268614",
     "exception": false,
     "start_time": "2024-12-31T12:06:32.191886",
     "status": "completed"
    },
    "tags": []
   },
   "outputs": [
    {
     "name": "stdout",
     "output_type": "stream",
     "text": [
      "(59500, 24)\n"
     ]
    },
    {
     "data": {
      "text/html": [
       "<div>\n",
       "<style scoped>\n",
       "    .dataframe tbody tr th:only-of-type {\n",
       "        vertical-align: middle;\n",
       "    }\n",
       "\n",
       "    .dataframe tbody tr th {\n",
       "        vertical-align: top;\n",
       "    }\n",
       "\n",
       "    .dataframe thead th {\n",
       "        text-align: right;\n",
       "    }\n",
       "</style>\n",
       "<table border=\"1\" class=\"dataframe\">\n",
       "  <thead>\n",
       "    <tr style=\"text-align: right;\">\n",
       "      <th>Specie</th>\n",
       "      <th>Date</th>\n",
       "      <th>Country</th>\n",
       "      <th>City</th>\n",
       "      <th>aqi</th>\n",
       "      <th>co</th>\n",
       "      <th>dew</th>\n",
       "      <th>humidity</th>\n",
       "      <th>mepaqi</th>\n",
       "      <th>neph</th>\n",
       "      <th>no2</th>\n",
       "      <th>...</th>\n",
       "      <th>precipitation</th>\n",
       "      <th>pressure</th>\n",
       "      <th>so2</th>\n",
       "      <th>temperature</th>\n",
       "      <th>uvi</th>\n",
       "      <th>wd</th>\n",
       "      <th>wind gust</th>\n",
       "      <th>wind speed</th>\n",
       "      <th>wind-gust</th>\n",
       "      <th>wind-speed</th>\n",
       "    </tr>\n",
       "  </thead>\n",
       "  <tbody>\n",
       "    <tr>\n",
       "      <th>0</th>\n",
       "      <td>2019-12-30</td>\n",
       "      <td>AE</td>\n",
       "      <td>Abu Dhabi</td>\n",
       "      <td>NaN</td>\n",
       "      <td>0.1</td>\n",
       "      <td>NaN</td>\n",
       "      <td>NaN</td>\n",
       "      <td>NaN</td>\n",
       "      <td>NaN</td>\n",
       "      <td>50.4</td>\n",
       "      <td>...</td>\n",
       "      <td>NaN</td>\n",
       "      <td>NaN</td>\n",
       "      <td>14.7</td>\n",
       "      <td>NaN</td>\n",
       "      <td>NaN</td>\n",
       "      <td>NaN</td>\n",
       "      <td>NaN</td>\n",
       "      <td>NaN</td>\n",
       "      <td>NaN</td>\n",
       "      <td>NaN</td>\n",
       "    </tr>\n",
       "    <tr>\n",
       "      <th>1</th>\n",
       "      <td>2019-12-30</td>\n",
       "      <td>AE</td>\n",
       "      <td>Dubai</td>\n",
       "      <td>NaN</td>\n",
       "      <td>NaN</td>\n",
       "      <td>NaN</td>\n",
       "      <td>NaN</td>\n",
       "      <td>NaN</td>\n",
       "      <td>NaN</td>\n",
       "      <td>NaN</td>\n",
       "      <td>...</td>\n",
       "      <td>NaN</td>\n",
       "      <td>NaN</td>\n",
       "      <td>NaN</td>\n",
       "      <td>NaN</td>\n",
       "      <td>NaN</td>\n",
       "      <td>NaN</td>\n",
       "      <td>NaN</td>\n",
       "      <td>NaN</td>\n",
       "      <td>NaN</td>\n",
       "      <td>NaN</td>\n",
       "    </tr>\n",
       "    <tr>\n",
       "      <th>2</th>\n",
       "      <td>2019-12-30</td>\n",
       "      <td>AF</td>\n",
       "      <td>Kabul</td>\n",
       "      <td>NaN</td>\n",
       "      <td>NaN</td>\n",
       "      <td>NaN</td>\n",
       "      <td>NaN</td>\n",
       "      <td>NaN</td>\n",
       "      <td>NaN</td>\n",
       "      <td>NaN</td>\n",
       "      <td>...</td>\n",
       "      <td>NaN</td>\n",
       "      <td>NaN</td>\n",
       "      <td>NaN</td>\n",
       "      <td>NaN</td>\n",
       "      <td>NaN</td>\n",
       "      <td>NaN</td>\n",
       "      <td>NaN</td>\n",
       "      <td>NaN</td>\n",
       "      <td>NaN</td>\n",
       "      <td>NaN</td>\n",
       "    </tr>\n",
       "    <tr>\n",
       "      <th>3</th>\n",
       "      <td>2019-12-30</td>\n",
       "      <td>AR</td>\n",
       "      <td>Buenos Aires</td>\n",
       "      <td>NaN</td>\n",
       "      <td>11.0</td>\n",
       "      <td>NaN</td>\n",
       "      <td>NaN</td>\n",
       "      <td>NaN</td>\n",
       "      <td>NaN</td>\n",
       "      <td>17.9</td>\n",
       "      <td>...</td>\n",
       "      <td>NaN</td>\n",
       "      <td>NaN</td>\n",
       "      <td>NaN</td>\n",
       "      <td>NaN</td>\n",
       "      <td>NaN</td>\n",
       "      <td>NaN</td>\n",
       "      <td>NaN</td>\n",
       "      <td>NaN</td>\n",
       "      <td>NaN</td>\n",
       "      <td>NaN</td>\n",
       "    </tr>\n",
       "    <tr>\n",
       "      <th>4</th>\n",
       "      <td>2019-12-30</td>\n",
       "      <td>AT</td>\n",
       "      <td>Graz</td>\n",
       "      <td>NaN</td>\n",
       "      <td>0.1</td>\n",
       "      <td>NaN</td>\n",
       "      <td>NaN</td>\n",
       "      <td>NaN</td>\n",
       "      <td>NaN</td>\n",
       "      <td>32.0</td>\n",
       "      <td>...</td>\n",
       "      <td>NaN</td>\n",
       "      <td>NaN</td>\n",
       "      <td>3.1</td>\n",
       "      <td>NaN</td>\n",
       "      <td>NaN</td>\n",
       "      <td>NaN</td>\n",
       "      <td>NaN</td>\n",
       "      <td>NaN</td>\n",
       "      <td>NaN</td>\n",
       "      <td>NaN</td>\n",
       "    </tr>\n",
       "  </tbody>\n",
       "</table>\n",
       "<p>5 rows × 25 columns</p>\n",
       "</div>"
      ],
      "text/plain": [
       "Specie       Date Country          City  aqi    co  dew  humidity  mepaqi  \\\n",
       "0      2019-12-30      AE     Abu Dhabi  NaN   0.1  NaN       NaN     NaN   \n",
       "1      2019-12-30      AE         Dubai  NaN   NaN  NaN       NaN     NaN   \n",
       "2      2019-12-30      AF         Kabul  NaN   NaN  NaN       NaN     NaN   \n",
       "3      2019-12-30      AR  Buenos Aires  NaN  11.0  NaN       NaN     NaN   \n",
       "4      2019-12-30      AT          Graz  NaN   0.1  NaN       NaN     NaN   \n",
       "\n",
       "Specie  neph   no2  ...  precipitation  pressure   so2  temperature  uvi  wd  \\\n",
       "0        NaN  50.4  ...            NaN       NaN  14.7          NaN  NaN NaN   \n",
       "1        NaN   NaN  ...            NaN       NaN   NaN          NaN  NaN NaN   \n",
       "2        NaN   NaN  ...            NaN       NaN   NaN          NaN  NaN NaN   \n",
       "3        NaN  17.9  ...            NaN       NaN   NaN          NaN  NaN NaN   \n",
       "4        NaN  32.0  ...            NaN       NaN   3.1          NaN  NaN NaN   \n",
       "\n",
       "Specie  wind gust  wind speed  wind-gust  wind-speed  \n",
       "0             NaN         NaN        NaN         NaN  \n",
       "1             NaN         NaN        NaN         NaN  \n",
       "2             NaN         NaN        NaN         NaN  \n",
       "3             NaN         NaN        NaN         NaN  \n",
       "4             NaN         NaN        NaN         NaN  \n",
       "\n",
       "[5 rows x 25 columns]"
      ]
     },
     "execution_count": 84,
     "metadata": {},
     "output_type": "execute_result"
    }
   ],
   "source": [
    "print(data_df_2020_Q2.shape)\n",
    "data_df_2020_Q1.head()"
   ]
  },
  {
   "cell_type": "code",
   "execution_count": 85,
   "id": "f95d3fb5",
   "metadata": {
    "execution": {
     "iopub.execute_input": "2024-12-31T12:06:32.367563Z",
     "iopub.status.busy": "2024-12-31T12:06:32.367097Z",
     "iopub.status.idle": "2024-12-31T12:06:32.382352Z",
     "shell.execute_reply": "2024-12-31T12:06:32.381270Z"
    },
    "executionInfo": {
     "elapsed": 8,
     "status": "ok",
     "timestamp": 1734445438399,
     "user": {
      "displayName": "Tahmida Majumder",
      "userId": "15415648085337204568"
     },
     "user_tz": -480
    },
    "id": "WjsOL4tsToWW",
    "outputId": "1956ceed-9f66-434f-c4a7-5a3d99b391ff",
    "papermill": {
     "duration": 0.066371,
     "end_time": "2024-12-31T12:06:32.384077",
     "exception": false,
     "start_time": "2024-12-31T12:06:32.317706",
     "status": "completed"
    },
    "tags": []
   },
   "outputs": [
    {
     "data": {
      "text/plain": [
       "Specie\n",
       "Date                 0\n",
       "Country              0\n",
       "City                 0\n",
       "aqi              58118\n",
       "co               22434\n",
       "dew              12453\n",
       "humidity            84\n",
       "mepaqi           59402\n",
       "neph             59304\n",
       "no2              11349\n",
       "o3               14440\n",
       "pm1              59138\n",
       "pm10             11078\n",
       "pm25              9389\n",
       "precipitation    52038\n",
       "pressure           309\n",
       "so2              18997\n",
       "temperature         71\n",
       "uvi              58494\n",
       "wd               55060\n",
       "wind gust        58877\n",
       "wind speed       58341\n",
       "wind-gust        26841\n",
       "wind-speed         763\n",
       "dtype: int64"
      ]
     },
     "execution_count": 85,
     "metadata": {},
     "output_type": "execute_result"
    }
   ],
   "source": [
    "data_df_2020_Q2.isnull().sum()"
   ]
  },
  {
   "cell_type": "code",
   "execution_count": null,
   "id": "f1fad77f",
   "metadata": {
    "id": "FWlYCoEQBLlt",
    "papermill": {
     "duration": 0.048597,
     "end_time": "2024-12-31T12:06:32.480910",
     "exception": false,
     "start_time": "2024-12-31T12:06:32.432313",
     "status": "completed"
    },
    "tags": []
   },
   "outputs": [],
   "source": []
  },
  {
   "cell_type": "markdown",
   "id": "977c5594",
   "metadata": {
    "id": "Oe30n0_jT2xM",
    "papermill": {
     "duration": 0.049846,
     "end_time": "2024-12-31T12:06:32.578940",
     "exception": false,
     "start_time": "2024-12-31T12:06:32.529094",
     "status": "completed"
    },
    "tags": []
   },
   "source": [
    "# 2020_Q3"
   ]
  },
  {
   "cell_type": "code",
   "execution_count": 86,
   "id": "5cf9165f",
   "metadata": {
    "execution": {
     "iopub.execute_input": "2024-12-31T12:06:32.733998Z",
     "iopub.status.busy": "2024-12-31T12:06:32.733597Z",
     "iopub.status.idle": "2024-12-31T12:06:33.297621Z",
     "shell.execute_reply": "2024-12-31T12:06:33.296445Z"
    },
    "executionInfo": {
     "elapsed": 1322,
     "status": "ok",
     "timestamp": 1734445439714,
     "user": {
      "displayName": "Tahmida Majumder",
      "userId": "15415648085337204568"
     },
     "user_tz": -480
    },
    "id": "kR-yJOqKT2xN",
    "outputId": "c8db1d56-6259-467c-d00f-3f411621b605",
    "papermill": {
     "duration": 0.676581,
     "end_time": "2024-12-31T12:06:33.303601",
     "exception": false,
     "start_time": "2024-12-31T12:06:32.627020",
     "status": "completed"
    },
    "tags": []
   },
   "outputs": [
    {
     "name": "stdout",
     "output_type": "stream",
     "text": [
      "(598100, 5)\n"
     ]
    },
    {
     "data": {
      "text/html": [
       "<div>\n",
       "<style scoped>\n",
       "    .dataframe tbody tr th:only-of-type {\n",
       "        vertical-align: middle;\n",
       "    }\n",
       "\n",
       "    .dataframe tbody tr th {\n",
       "        vertical-align: top;\n",
       "    }\n",
       "\n",
       "    .dataframe thead th {\n",
       "        text-align: right;\n",
       "    }\n",
       "</style>\n",
       "<table border=\"1\" class=\"dataframe\">\n",
       "  <thead>\n",
       "    <tr style=\"text-align: right;\">\n",
       "      <th></th>\n",
       "      <th>Date</th>\n",
       "      <th>Country</th>\n",
       "      <th>City</th>\n",
       "      <th>Specie</th>\n",
       "      <th>max</th>\n",
       "    </tr>\n",
       "  </thead>\n",
       "  <tbody>\n",
       "    <tr>\n",
       "      <th>0</th>\n",
       "      <td>8/16/2020</td>\n",
       "      <td>UA</td>\n",
       "      <td>Odessa</td>\n",
       "      <td>pm10</td>\n",
       "      <td>13.0</td>\n",
       "    </tr>\n",
       "    <tr>\n",
       "      <th>1</th>\n",
       "      <td>8/18/2020</td>\n",
       "      <td>UA</td>\n",
       "      <td>Odessa</td>\n",
       "      <td>pm10</td>\n",
       "      <td>9.0</td>\n",
       "    </tr>\n",
       "    <tr>\n",
       "      <th>2</th>\n",
       "      <td>8/24/2020</td>\n",
       "      <td>UA</td>\n",
       "      <td>Odessa</td>\n",
       "      <td>pm10</td>\n",
       "      <td>8.0</td>\n",
       "    </tr>\n",
       "    <tr>\n",
       "      <th>3</th>\n",
       "      <td>8/25/2020</td>\n",
       "      <td>UA</td>\n",
       "      <td>Odessa</td>\n",
       "      <td>pm10</td>\n",
       "      <td>12.0</td>\n",
       "    </tr>\n",
       "    <tr>\n",
       "      <th>4</th>\n",
       "      <td>8/26/2020</td>\n",
       "      <td>UA</td>\n",
       "      <td>Odessa</td>\n",
       "      <td>pm10</td>\n",
       "      <td>7.0</td>\n",
       "    </tr>\n",
       "    <tr>\n",
       "      <th>5</th>\n",
       "      <td>8/28/2020</td>\n",
       "      <td>UA</td>\n",
       "      <td>Odessa</td>\n",
       "      <td>pm10</td>\n",
       "      <td>14.0</td>\n",
       "    </tr>\n",
       "    <tr>\n",
       "      <th>6</th>\n",
       "      <td>8/13/2020</td>\n",
       "      <td>UA</td>\n",
       "      <td>Odessa</td>\n",
       "      <td>pm10</td>\n",
       "      <td>12.0</td>\n",
       "    </tr>\n",
       "    <tr>\n",
       "      <th>7</th>\n",
       "      <td>8/14/2020</td>\n",
       "      <td>UA</td>\n",
       "      <td>Odessa</td>\n",
       "      <td>pm10</td>\n",
       "      <td>9.0</td>\n",
       "    </tr>\n",
       "    <tr>\n",
       "      <th>8</th>\n",
       "      <td>8/19/2020</td>\n",
       "      <td>UA</td>\n",
       "      <td>Odessa</td>\n",
       "      <td>pm10</td>\n",
       "      <td>12.0</td>\n",
       "    </tr>\n",
       "    <tr>\n",
       "      <th>9</th>\n",
       "      <td>8/27/2020</td>\n",
       "      <td>UA</td>\n",
       "      <td>Odessa</td>\n",
       "      <td>pm10</td>\n",
       "      <td>11.0</td>\n",
       "    </tr>\n",
       "  </tbody>\n",
       "</table>\n",
       "</div>"
      ],
      "text/plain": [
       "        Date Country    City Specie   max\n",
       "0  8/16/2020      UA  Odessa   pm10  13.0\n",
       "1  8/18/2020      UA  Odessa   pm10   9.0\n",
       "2  8/24/2020      UA  Odessa   pm10   8.0\n",
       "3  8/25/2020      UA  Odessa   pm10  12.0\n",
       "4  8/26/2020      UA  Odessa   pm10   7.0\n",
       "5  8/28/2020      UA  Odessa   pm10  14.0\n",
       "6  8/13/2020      UA  Odessa   pm10  12.0\n",
       "7  8/14/2020      UA  Odessa   pm10   9.0\n",
       "8  8/19/2020      UA  Odessa   pm10  12.0\n",
       "9  8/27/2020      UA  Odessa   pm10  11.0"
      ]
     },
     "execution_count": 86,
     "metadata": {},
     "output_type": "execute_result"
    }
   ],
   "source": [
    "# Loading the data\n",
    "raw_data_2020_Q3 = pd.read_csv(r\"/kaggle/input/raw-data/airqualitydata-2020Q3.csv\")\n",
    "\n",
    "# print the shape\n",
    "print(raw_data_2020_Q3.shape)\n",
    "\n",
    "#runs the first 5 rows\n",
    "raw_data_2020_Q3.head(10)"
   ]
  },
  {
   "cell_type": "code",
   "execution_count": 87,
   "id": "438e15e5",
   "metadata": {
    "execution": {
     "iopub.execute_input": "2024-12-31T12:06:33.401149Z",
     "iopub.status.busy": "2024-12-31T12:06:33.400775Z",
     "iopub.status.idle": "2024-12-31T12:06:33.500483Z",
     "shell.execute_reply": "2024-12-31T12:06:33.499297Z"
    },
    "id": "P1LXqvwgT2xN",
    "papermill": {
     "duration": 0.150631,
     "end_time": "2024-12-31T12:06:33.502473",
     "exception": false,
     "start_time": "2024-12-31T12:06:33.351842",
     "status": "completed"
    },
    "tags": []
   },
   "outputs": [],
   "source": [
    "# Convert 'Date' to datetime\n",
    "raw_data_2020_Q3['Date'] = pd.to_datetime(raw_data_2020_Q3['Date'])"
   ]
  },
  {
   "cell_type": "code",
   "execution_count": 88,
   "id": "92ee0544",
   "metadata": {
    "execution": {
     "iopub.execute_input": "2024-12-31T12:06:33.602717Z",
     "iopub.status.busy": "2024-12-31T12:06:33.602322Z",
     "iopub.status.idle": "2024-12-31T12:06:33.608114Z",
     "shell.execute_reply": "2024-12-31T12:06:33.607076Z"
    },
    "executionInfo": {
     "elapsed": 7,
     "status": "ok",
     "timestamp": 1734445439714,
     "user": {
      "displayName": "Tahmida Majumder",
      "userId": "15415648085337204568"
     },
     "user_tz": -480
    },
    "id": "1xuoEFgCT2xN",
    "outputId": "a8e84f99-c3c3-40a7-9abe-543b5e3ab17d",
    "papermill": {
     "duration": 0.058564,
     "end_time": "2024-12-31T12:06:33.609748",
     "exception": false,
     "start_time": "2024-12-31T12:06:33.551184",
     "status": "completed"
    },
    "tags": []
   },
   "outputs": [
    {
     "data": {
      "text/plain": [
       "(598100, 5)"
      ]
     },
     "execution_count": 88,
     "metadata": {},
     "output_type": "execute_result"
    }
   ],
   "source": [
    "raw_data_2020_Q3.shape"
   ]
  },
  {
   "cell_type": "code",
   "execution_count": 89,
   "id": "374580ff",
   "metadata": {
    "execution": {
     "iopub.execute_input": "2024-12-31T12:06:33.711021Z",
     "iopub.status.busy": "2024-12-31T12:06:33.710655Z",
     "iopub.status.idle": "2024-12-31T12:06:34.159729Z",
     "shell.execute_reply": "2024-12-31T12:06:34.158654Z"
    },
    "id": "b3f4bsOuT2xO",
    "papermill": {
     "duration": 0.501121,
     "end_time": "2024-12-31T12:06:34.161728",
     "exception": false,
     "start_time": "2024-12-31T12:06:33.660607",
     "status": "completed"
    },
    "tags": []
   },
   "outputs": [],
   "source": [
    "# Pivot the data\n",
    "data_df_2020_Q3 = raw_data_2020_Q3.pivot_table(\n",
    "    index=['Date', 'Country', 'City'],  # Grouping columns\n",
    "    columns='Specie',                  # Unique values become columns\n",
    "    values='max',                   # Values to aggregate\n",
    "    aggfunc='mean'                     # Aggregation function\n",
    ").reset_index()"
   ]
  },
  {
   "cell_type": "code",
   "execution_count": 90,
   "id": "c36b8b94",
   "metadata": {
    "execution": {
     "iopub.execute_input": "2024-12-31T12:06:34.260368Z",
     "iopub.status.busy": "2024-12-31T12:06:34.260002Z",
     "iopub.status.idle": "2024-12-31T12:06:34.285667Z",
     "shell.execute_reply": "2024-12-31T12:06:34.284607Z"
    },
    "executionInfo": {
     "elapsed": 11,
     "status": "ok",
     "timestamp": 1734445440164,
     "user": {
      "displayName": "Tahmida Majumder",
      "userId": "15415648085337204568"
     },
     "user_tz": -480
    },
    "id": "s2sgLso6T2xO",
    "outputId": "89c37051-abc5-4b15-952a-9f50373cf363",
    "papermill": {
     "duration": 0.076773,
     "end_time": "2024-12-31T12:06:34.287297",
     "exception": false,
     "start_time": "2024-12-31T12:06:34.210524",
     "status": "completed"
    },
    "tags": []
   },
   "outputs": [
    {
     "name": "stdout",
     "output_type": "stream",
     "text": [
      "(59172, 22)\n"
     ]
    },
    {
     "data": {
      "text/html": [
       "<div>\n",
       "<style scoped>\n",
       "    .dataframe tbody tr th:only-of-type {\n",
       "        vertical-align: middle;\n",
       "    }\n",
       "\n",
       "    .dataframe tbody tr th {\n",
       "        vertical-align: top;\n",
       "    }\n",
       "\n",
       "    .dataframe thead th {\n",
       "        text-align: right;\n",
       "    }\n",
       "</style>\n",
       "<table border=\"1\" class=\"dataframe\">\n",
       "  <thead>\n",
       "    <tr style=\"text-align: right;\">\n",
       "      <th>Specie</th>\n",
       "      <th>Date</th>\n",
       "      <th>Country</th>\n",
       "      <th>City</th>\n",
       "      <th>aqi</th>\n",
       "      <th>co</th>\n",
       "      <th>dew</th>\n",
       "      <th>humidity</th>\n",
       "      <th>mepaqi</th>\n",
       "      <th>neph</th>\n",
       "      <th>no2</th>\n",
       "      <th>...</th>\n",
       "      <th>pm10</th>\n",
       "      <th>pm25</th>\n",
       "      <th>precipitation</th>\n",
       "      <th>pressure</th>\n",
       "      <th>so2</th>\n",
       "      <th>temperature</th>\n",
       "      <th>uvi</th>\n",
       "      <th>wd</th>\n",
       "      <th>wind-gust</th>\n",
       "      <th>wind-speed</th>\n",
       "    </tr>\n",
       "  </thead>\n",
       "  <tbody>\n",
       "    <tr>\n",
       "      <th>0</th>\n",
       "      <td>2020-06-29</td>\n",
       "      <td>AE</td>\n",
       "      <td>Abu Dhabi</td>\n",
       "      <td>NaN</td>\n",
       "      <td>0.1</td>\n",
       "      <td>28.0</td>\n",
       "      <td>89.0</td>\n",
       "      <td>NaN</td>\n",
       "      <td>NaN</td>\n",
       "      <td>29.8</td>\n",
       "      <td>...</td>\n",
       "      <td>223.0</td>\n",
       "      <td>129.0</td>\n",
       "      <td>NaN</td>\n",
       "      <td>998.0</td>\n",
       "      <td>17.8</td>\n",
       "      <td>43.0</td>\n",
       "      <td>NaN</td>\n",
       "      <td>NaN</td>\n",
       "      <td>NaN</td>\n",
       "      <td>7.7</td>\n",
       "    </tr>\n",
       "    <tr>\n",
       "      <th>1</th>\n",
       "      <td>2020-06-29</td>\n",
       "      <td>AE</td>\n",
       "      <td>Dubai</td>\n",
       "      <td>NaN</td>\n",
       "      <td>NaN</td>\n",
       "      <td>28.0</td>\n",
       "      <td>75.0</td>\n",
       "      <td>NaN</td>\n",
       "      <td>NaN</td>\n",
       "      <td>NaN</td>\n",
       "      <td>...</td>\n",
       "      <td>NaN</td>\n",
       "      <td>165.0</td>\n",
       "      <td>NaN</td>\n",
       "      <td>998.0</td>\n",
       "      <td>NaN</td>\n",
       "      <td>41.0</td>\n",
       "      <td>NaN</td>\n",
       "      <td>NaN</td>\n",
       "      <td>NaN</td>\n",
       "      <td>7.2</td>\n",
       "    </tr>\n",
       "    <tr>\n",
       "      <th>2</th>\n",
       "      <td>2020-06-29</td>\n",
       "      <td>AF</td>\n",
       "      <td>Kabul</td>\n",
       "      <td>NaN</td>\n",
       "      <td>NaN</td>\n",
       "      <td>10.0</td>\n",
       "      <td>43.0</td>\n",
       "      <td>NaN</td>\n",
       "      <td>NaN</td>\n",
       "      <td>NaN</td>\n",
       "      <td>...</td>\n",
       "      <td>NaN</td>\n",
       "      <td>112.0</td>\n",
       "      <td>NaN</td>\n",
       "      <td>1015.0</td>\n",
       "      <td>NaN</td>\n",
       "      <td>31.0</td>\n",
       "      <td>NaN</td>\n",
       "      <td>NaN</td>\n",
       "      <td>13.8</td>\n",
       "      <td>8.7</td>\n",
       "    </tr>\n",
       "    <tr>\n",
       "      <th>3</th>\n",
       "      <td>2020-06-29</td>\n",
       "      <td>AR</td>\n",
       "      <td>Buenos Aires</td>\n",
       "      <td>NaN</td>\n",
       "      <td>10.0</td>\n",
       "      <td>10.8</td>\n",
       "      <td>98.7</td>\n",
       "      <td>NaN</td>\n",
       "      <td>NaN</td>\n",
       "      <td>31.6</td>\n",
       "      <td>...</td>\n",
       "      <td>17.0</td>\n",
       "      <td>30.0</td>\n",
       "      <td>NaN</td>\n",
       "      <td>1022.4</td>\n",
       "      <td>0.6</td>\n",
       "      <td>13.3</td>\n",
       "      <td>NaN</td>\n",
       "      <td>112.5</td>\n",
       "      <td>19.6</td>\n",
       "      <td>10.2</td>\n",
       "    </tr>\n",
       "    <tr>\n",
       "      <th>4</th>\n",
       "      <td>2020-06-29</td>\n",
       "      <td>AT</td>\n",
       "      <td>Graz</td>\n",
       "      <td>NaN</td>\n",
       "      <td>0.1</td>\n",
       "      <td>18.7</td>\n",
       "      <td>96.6</td>\n",
       "      <td>NaN</td>\n",
       "      <td>NaN</td>\n",
       "      <td>22.9</td>\n",
       "      <td>...</td>\n",
       "      <td>39.0</td>\n",
       "      <td>NaN</td>\n",
       "      <td>99.0</td>\n",
       "      <td>1015.0</td>\n",
       "      <td>5.6</td>\n",
       "      <td>26.8</td>\n",
       "      <td>NaN</td>\n",
       "      <td>NaN</td>\n",
       "      <td>21.0</td>\n",
       "      <td>6.2</td>\n",
       "    </tr>\n",
       "  </tbody>\n",
       "</table>\n",
       "<p>5 rows × 22 columns</p>\n",
       "</div>"
      ],
      "text/plain": [
       "Specie       Date Country          City  aqi    co   dew  humidity  mepaqi  \\\n",
       "0      2020-06-29      AE     Abu Dhabi  NaN   0.1  28.0      89.0     NaN   \n",
       "1      2020-06-29      AE         Dubai  NaN   NaN  28.0      75.0     NaN   \n",
       "2      2020-06-29      AF         Kabul  NaN   NaN  10.0      43.0     NaN   \n",
       "3      2020-06-29      AR  Buenos Aires  NaN  10.0  10.8      98.7     NaN   \n",
       "4      2020-06-29      AT          Graz  NaN   0.1  18.7      96.6     NaN   \n",
       "\n",
       "Specie  neph   no2  ...   pm10   pm25  precipitation  pressure   so2  \\\n",
       "0        NaN  29.8  ...  223.0  129.0            NaN     998.0  17.8   \n",
       "1        NaN   NaN  ...    NaN  165.0            NaN     998.0   NaN   \n",
       "2        NaN   NaN  ...    NaN  112.0            NaN    1015.0   NaN   \n",
       "3        NaN  31.6  ...   17.0   30.0            NaN    1022.4   0.6   \n",
       "4        NaN  22.9  ...   39.0    NaN           99.0    1015.0   5.6   \n",
       "\n",
       "Specie  temperature  uvi     wd  wind-gust  wind-speed  \n",
       "0              43.0  NaN    NaN        NaN         7.7  \n",
       "1              41.0  NaN    NaN        NaN         7.2  \n",
       "2              31.0  NaN    NaN       13.8         8.7  \n",
       "3              13.3  NaN  112.5       19.6        10.2  \n",
       "4              26.8  NaN    NaN       21.0         6.2  \n",
       "\n",
       "[5 rows x 22 columns]"
      ]
     },
     "execution_count": 90,
     "metadata": {},
     "output_type": "execute_result"
    }
   ],
   "source": [
    "print(data_df_2020_Q3.shape)\n",
    "data_df_2020_Q3.head()"
   ]
  },
  {
   "cell_type": "code",
   "execution_count": 91,
   "id": "21372316",
   "metadata": {
    "execution": {
     "iopub.execute_input": "2024-12-31T12:06:34.397404Z",
     "iopub.status.busy": "2024-12-31T12:06:34.396865Z",
     "iopub.status.idle": "2024-12-31T12:06:34.416300Z",
     "shell.execute_reply": "2024-12-31T12:06:34.415100Z"
    },
    "executionInfo": {
     "elapsed": 8,
     "status": "ok",
     "timestamp": 1734445440164,
     "user": {
      "displayName": "Tahmida Majumder",
      "userId": "15415648085337204568"
     },
     "user_tz": -480
    },
    "id": "nUdvyyH6T2xO",
    "outputId": "8ec35553-6095-4082-e566-d9f028326dc2",
    "papermill": {
     "duration": 0.081401,
     "end_time": "2024-12-31T12:06:34.418109",
     "exception": false,
     "start_time": "2024-12-31T12:06:34.336708",
     "status": "completed"
    },
    "tags": []
   },
   "outputs": [
    {
     "data": {
      "text/plain": [
       "Specie\n",
       "Date                 0\n",
       "Country              0\n",
       "City                 0\n",
       "aqi              57689\n",
       "co               22203\n",
       "dew              12016\n",
       "humidity            87\n",
       "mepaqi           59074\n",
       "neph             58976\n",
       "no2              11175\n",
       "o3               13982\n",
       "pm1              58848\n",
       "pm10             10889\n",
       "pm25              9314\n",
       "precipitation    51268\n",
       "pressure           426\n",
       "so2              18642\n",
       "temperature        106\n",
       "uvi              58291\n",
       "wd               54519\n",
       "wind-gust        27905\n",
       "wind-speed         758\n",
       "dtype: int64"
      ]
     },
     "execution_count": 91,
     "metadata": {},
     "output_type": "execute_result"
    }
   ],
   "source": [
    "data_df_2020_Q3.isnull().sum()"
   ]
  },
  {
   "cell_type": "code",
   "execution_count": null,
   "id": "6dc85b3d",
   "metadata": {
    "id": "AaRID5BRBLoJ",
    "papermill": {
     "duration": 0.050747,
     "end_time": "2024-12-31T12:06:34.537546",
     "exception": false,
     "start_time": "2024-12-31T12:06:34.486799",
     "status": "completed"
    },
    "tags": []
   },
   "outputs": [],
   "source": []
  },
  {
   "cell_type": "markdown",
   "id": "227d74ce",
   "metadata": {
    "id": "p4Ouvbl1UGVk",
    "papermill": {
     "duration": 0.050342,
     "end_time": "2024-12-31T12:06:34.651985",
     "exception": false,
     "start_time": "2024-12-31T12:06:34.601643",
     "status": "completed"
    },
    "tags": []
   },
   "source": [
    "# 2020_Q4"
   ]
  },
  {
   "cell_type": "code",
   "execution_count": 92,
   "id": "89593a8c",
   "metadata": {
    "execution": {
     "iopub.execute_input": "2024-12-31T12:06:34.767755Z",
     "iopub.status.busy": "2024-12-31T12:06:34.767395Z",
     "iopub.status.idle": "2024-12-31T12:06:35.327200Z",
     "shell.execute_reply": "2024-12-31T12:06:35.326182Z"
    },
    "executionInfo": {
     "elapsed": 422,
     "status": "ok",
     "timestamp": 1734445440580,
     "user": {
      "displayName": "Tahmida Majumder",
      "userId": "15415648085337204568"
     },
     "user_tz": -480
    },
    "id": "i4NjDJ1PUGVl",
    "outputId": "100b89a1-4150-4a15-82cb-928de516c328",
    "papermill": {
     "duration": 0.623074,
     "end_time": "2024-12-31T12:06:35.329152",
     "exception": false,
     "start_time": "2024-12-31T12:06:34.706078",
     "status": "completed"
    },
    "tags": []
   },
   "outputs": [
    {
     "name": "stdout",
     "output_type": "stream",
     "text": [
      "(586937, 5)\n"
     ]
    },
    {
     "data": {
      "text/html": [
       "<div>\n",
       "<style scoped>\n",
       "    .dataframe tbody tr th:only-of-type {\n",
       "        vertical-align: middle;\n",
       "    }\n",
       "\n",
       "    .dataframe tbody tr th {\n",
       "        vertical-align: top;\n",
       "    }\n",
       "\n",
       "    .dataframe thead th {\n",
       "        text-align: right;\n",
       "    }\n",
       "</style>\n",
       "<table border=\"1\" class=\"dataframe\">\n",
       "  <thead>\n",
       "    <tr style=\"text-align: right;\">\n",
       "      <th></th>\n",
       "      <th>Date</th>\n",
       "      <th>Country</th>\n",
       "      <th>City</th>\n",
       "      <th>Specie</th>\n",
       "      <th>max</th>\n",
       "    </tr>\n",
       "  </thead>\n",
       "  <tbody>\n",
       "    <tr>\n",
       "      <th>0</th>\n",
       "      <td>12/23/2020</td>\n",
       "      <td>ET</td>\n",
       "      <td>Addis Ababa</td>\n",
       "      <td>pm25</td>\n",
       "      <td>167.0</td>\n",
       "    </tr>\n",
       "    <tr>\n",
       "      <th>1</th>\n",
       "      <td>10/12/2020</td>\n",
       "      <td>ET</td>\n",
       "      <td>Addis Ababa</td>\n",
       "      <td>pm25</td>\n",
       "      <td>119.0</td>\n",
       "    </tr>\n",
       "    <tr>\n",
       "      <th>2</th>\n",
       "      <td>10/17/2020</td>\n",
       "      <td>ET</td>\n",
       "      <td>Addis Ababa</td>\n",
       "      <td>pm25</td>\n",
       "      <td>153.0</td>\n",
       "    </tr>\n",
       "    <tr>\n",
       "      <th>3</th>\n",
       "      <td>11/25/2020</td>\n",
       "      <td>ET</td>\n",
       "      <td>Addis Ababa</td>\n",
       "      <td>pm25</td>\n",
       "      <td>137.0</td>\n",
       "    </tr>\n",
       "    <tr>\n",
       "      <th>4</th>\n",
       "      <td>11/27/2020</td>\n",
       "      <td>ET</td>\n",
       "      <td>Addis Ababa</td>\n",
       "      <td>pm25</td>\n",
       "      <td>82.0</td>\n",
       "    </tr>\n",
       "    <tr>\n",
       "      <th>5</th>\n",
       "      <td>12/9/2020</td>\n",
       "      <td>ET</td>\n",
       "      <td>Addis Ababa</td>\n",
       "      <td>pm25</td>\n",
       "      <td>80.0</td>\n",
       "    </tr>\n",
       "    <tr>\n",
       "      <th>6</th>\n",
       "      <td>10/25/2020</td>\n",
       "      <td>ET</td>\n",
       "      <td>Addis Ababa</td>\n",
       "      <td>pm25</td>\n",
       "      <td>85.0</td>\n",
       "    </tr>\n",
       "    <tr>\n",
       "      <th>7</th>\n",
       "      <td>10/31/2020</td>\n",
       "      <td>ET</td>\n",
       "      <td>Addis Ababa</td>\n",
       "      <td>pm25</td>\n",
       "      <td>129.0</td>\n",
       "    </tr>\n",
       "    <tr>\n",
       "      <th>8</th>\n",
       "      <td>10/18/2020</td>\n",
       "      <td>ET</td>\n",
       "      <td>Addis Ababa</td>\n",
       "      <td>pm25</td>\n",
       "      <td>153.0</td>\n",
       "    </tr>\n",
       "    <tr>\n",
       "      <th>9</th>\n",
       "      <td>11/8/2020</td>\n",
       "      <td>ET</td>\n",
       "      <td>Addis Ababa</td>\n",
       "      <td>pm25</td>\n",
       "      <td>157.0</td>\n",
       "    </tr>\n",
       "  </tbody>\n",
       "</table>\n",
       "</div>"
      ],
      "text/plain": [
       "         Date Country         City Specie    max\n",
       "0  12/23/2020      ET  Addis Ababa   pm25  167.0\n",
       "1  10/12/2020      ET  Addis Ababa   pm25  119.0\n",
       "2  10/17/2020      ET  Addis Ababa   pm25  153.0\n",
       "3  11/25/2020      ET  Addis Ababa   pm25  137.0\n",
       "4  11/27/2020      ET  Addis Ababa   pm25   82.0\n",
       "5   12/9/2020      ET  Addis Ababa   pm25   80.0\n",
       "6  10/25/2020      ET  Addis Ababa   pm25   85.0\n",
       "7  10/31/2020      ET  Addis Ababa   pm25  129.0\n",
       "8  10/18/2020      ET  Addis Ababa   pm25  153.0\n",
       "9   11/8/2020      ET  Addis Ababa   pm25  157.0"
      ]
     },
     "execution_count": 92,
     "metadata": {},
     "output_type": "execute_result"
    }
   ],
   "source": [
    "# Loading the data\n",
    "raw_data_2020_Q4 = pd.read_csv(r\"/kaggle/input/raw-data/airqualitydata-2020Q4.csv\")\n",
    "\n",
    "# print the shape\n",
    "print(raw_data_2020_Q4.shape)\n",
    "\n",
    "#runs the first 5 rows\n",
    "raw_data_2020_Q4.head(10)"
   ]
  },
  {
   "cell_type": "code",
   "execution_count": 93,
   "id": "4a62de42",
   "metadata": {
    "execution": {
     "iopub.execute_input": "2024-12-31T12:06:35.442196Z",
     "iopub.status.busy": "2024-12-31T12:06:35.441849Z",
     "iopub.status.idle": "2024-12-31T12:06:35.527849Z",
     "shell.execute_reply": "2024-12-31T12:06:35.526677Z"
    },
    "id": "ZvXbzhK4UGVl",
    "papermill": {
     "duration": 0.139202,
     "end_time": "2024-12-31T12:06:35.530465",
     "exception": false,
     "start_time": "2024-12-31T12:06:35.391263",
     "status": "completed"
    },
    "tags": []
   },
   "outputs": [],
   "source": [
    "# Convert 'Date' to datetime\n",
    "raw_data_2020_Q4['Date'] = pd.to_datetime(raw_data_2020_Q4['Date'])"
   ]
  },
  {
   "cell_type": "code",
   "execution_count": 94,
   "id": "acff6b40",
   "metadata": {
    "execution": {
     "iopub.execute_input": "2024-12-31T12:06:35.645181Z",
     "iopub.status.busy": "2024-12-31T12:06:35.644837Z",
     "iopub.status.idle": "2024-12-31T12:06:35.650595Z",
     "shell.execute_reply": "2024-12-31T12:06:35.649585Z"
    },
    "executionInfo": {
     "elapsed": 7,
     "status": "ok",
     "timestamp": 1734445440580,
     "user": {
      "displayName": "Tahmida Majumder",
      "userId": "15415648085337204568"
     },
     "user_tz": -480
    },
    "id": "VqKup5l4UGVl",
    "outputId": "7240289d-f562-40ab-e873-525624b6674f",
    "papermill": {
     "duration": 0.06019,
     "end_time": "2024-12-31T12:06:35.652602",
     "exception": false,
     "start_time": "2024-12-31T12:06:35.592412",
     "status": "completed"
    },
    "tags": []
   },
   "outputs": [
    {
     "data": {
      "text/plain": [
       "(586937, 5)"
      ]
     },
     "execution_count": 94,
     "metadata": {},
     "output_type": "execute_result"
    }
   ],
   "source": [
    "raw_data_2020_Q4.shape"
   ]
  },
  {
   "cell_type": "code",
   "execution_count": 95,
   "id": "460a40ca",
   "metadata": {
    "execution": {
     "iopub.execute_input": "2024-12-31T12:06:35.761069Z",
     "iopub.status.busy": "2024-12-31T12:06:35.760607Z",
     "iopub.status.idle": "2024-12-31T12:06:36.210830Z",
     "shell.execute_reply": "2024-12-31T12:06:36.209705Z"
    },
    "id": "YJ_WLPDvUGVl",
    "papermill": {
     "duration": 0.504187,
     "end_time": "2024-12-31T12:06:36.212641",
     "exception": false,
     "start_time": "2024-12-31T12:06:35.708454",
     "status": "completed"
    },
    "tags": []
   },
   "outputs": [],
   "source": [
    "# Pivot the data\n",
    "data_df_2020_Q4 = raw_data_2020_Q4.pivot_table(\n",
    "    index=['Date', 'Country', 'City'],  # Grouping columns\n",
    "    columns='Specie',                  # Unique values become columns\n",
    "    values='max',                   # Values to aggregate\n",
    "    aggfunc='mean'                     # Aggregation function\n",
    ").reset_index()"
   ]
  },
  {
   "cell_type": "code",
   "execution_count": 96,
   "id": "23f92a19",
   "metadata": {
    "execution": {
     "iopub.execute_input": "2024-12-31T12:06:36.314626Z",
     "iopub.status.busy": "2024-12-31T12:06:36.314219Z",
     "iopub.status.idle": "2024-12-31T12:06:36.340332Z",
     "shell.execute_reply": "2024-12-31T12:06:36.338841Z"
    },
    "executionInfo": {
     "elapsed": 11,
     "status": "ok",
     "timestamp": 1734445441522,
     "user": {
      "displayName": "Tahmida Majumder",
      "userId": "15415648085337204568"
     },
     "user_tz": -480
    },
    "id": "X62TzyIFUGVl",
    "outputId": "3909d5ca-b968-4fdc-ffa1-659da2426908",
    "papermill": {
     "duration": 0.078469,
     "end_time": "2024-12-31T12:06:36.342180",
     "exception": false,
     "start_time": "2024-12-31T12:06:36.263711",
     "status": "completed"
    },
    "tags": []
   },
   "outputs": [
    {
     "name": "stdout",
     "output_type": "stream",
     "text": [
      "(58362, 22)\n"
     ]
    },
    {
     "data": {
      "text/html": [
       "<div>\n",
       "<style scoped>\n",
       "    .dataframe tbody tr th:only-of-type {\n",
       "        vertical-align: middle;\n",
       "    }\n",
       "\n",
       "    .dataframe tbody tr th {\n",
       "        vertical-align: top;\n",
       "    }\n",
       "\n",
       "    .dataframe thead th {\n",
       "        text-align: right;\n",
       "    }\n",
       "</style>\n",
       "<table border=\"1\" class=\"dataframe\">\n",
       "  <thead>\n",
       "    <tr style=\"text-align: right;\">\n",
       "      <th>Specie</th>\n",
       "      <th>Date</th>\n",
       "      <th>Country</th>\n",
       "      <th>City</th>\n",
       "      <th>aqi</th>\n",
       "      <th>co</th>\n",
       "      <th>dew</th>\n",
       "      <th>humidity</th>\n",
       "      <th>mepaqi</th>\n",
       "      <th>neph</th>\n",
       "      <th>no2</th>\n",
       "      <th>...</th>\n",
       "      <th>pm10</th>\n",
       "      <th>pm25</th>\n",
       "      <th>precipitation</th>\n",
       "      <th>pressure</th>\n",
       "      <th>so2</th>\n",
       "      <th>temperature</th>\n",
       "      <th>uvi</th>\n",
       "      <th>wd</th>\n",
       "      <th>wind-gust</th>\n",
       "      <th>wind-speed</th>\n",
       "    </tr>\n",
       "  </thead>\n",
       "  <tbody>\n",
       "    <tr>\n",
       "      <th>0</th>\n",
       "      <td>2020-09-28</td>\n",
       "      <td>AE</td>\n",
       "      <td>Abu Dhabi</td>\n",
       "      <td>NaN</td>\n",
       "      <td>0.1</td>\n",
       "      <td>28.0</td>\n",
       "      <td>89.0</td>\n",
       "      <td>NaN</td>\n",
       "      <td>NaN</td>\n",
       "      <td>29.3</td>\n",
       "      <td>...</td>\n",
       "      <td>76.0</td>\n",
       "      <td>95.0</td>\n",
       "      <td>NaN</td>\n",
       "      <td>1007.0</td>\n",
       "      <td>12.2</td>\n",
       "      <td>41.0</td>\n",
       "      <td>NaN</td>\n",
       "      <td>NaN</td>\n",
       "      <td>NaN</td>\n",
       "      <td>6.1</td>\n",
       "    </tr>\n",
       "    <tr>\n",
       "      <th>1</th>\n",
       "      <td>2020-09-28</td>\n",
       "      <td>AE</td>\n",
       "      <td>Dubai</td>\n",
       "      <td>NaN</td>\n",
       "      <td>NaN</td>\n",
       "      <td>27.0</td>\n",
       "      <td>83.0</td>\n",
       "      <td>NaN</td>\n",
       "      <td>NaN</td>\n",
       "      <td>NaN</td>\n",
       "      <td>...</td>\n",
       "      <td>NaN</td>\n",
       "      <td>117.0</td>\n",
       "      <td>NaN</td>\n",
       "      <td>1007.0</td>\n",
       "      <td>NaN</td>\n",
       "      <td>40.0</td>\n",
       "      <td>NaN</td>\n",
       "      <td>NaN</td>\n",
       "      <td>NaN</td>\n",
       "      <td>5.6</td>\n",
       "    </tr>\n",
       "    <tr>\n",
       "      <th>2</th>\n",
       "      <td>2020-09-28</td>\n",
       "      <td>AF</td>\n",
       "      <td>Kabul</td>\n",
       "      <td>NaN</td>\n",
       "      <td>NaN</td>\n",
       "      <td>8.0</td>\n",
       "      <td>66.0</td>\n",
       "      <td>NaN</td>\n",
       "      <td>NaN</td>\n",
       "      <td>NaN</td>\n",
       "      <td>...</td>\n",
       "      <td>NaN</td>\n",
       "      <td>147.0</td>\n",
       "      <td>NaN</td>\n",
       "      <td>1021.0</td>\n",
       "      <td>NaN</td>\n",
       "      <td>27.0</td>\n",
       "      <td>NaN</td>\n",
       "      <td>NaN</td>\n",
       "      <td>NaN</td>\n",
       "      <td>6.6</td>\n",
       "    </tr>\n",
       "    <tr>\n",
       "      <th>3</th>\n",
       "      <td>2020-09-28</td>\n",
       "      <td>AR</td>\n",
       "      <td>Buenos Aires</td>\n",
       "      <td>NaN</td>\n",
       "      <td>10.8</td>\n",
       "      <td>11.1</td>\n",
       "      <td>91.0</td>\n",
       "      <td>NaN</td>\n",
       "      <td>NaN</td>\n",
       "      <td>23.8</td>\n",
       "      <td>...</td>\n",
       "      <td>29.0</td>\n",
       "      <td>65.0</td>\n",
       "      <td>NaN</td>\n",
       "      <td>1029.7</td>\n",
       "      <td>1.6</td>\n",
       "      <td>22.8</td>\n",
       "      <td>NaN</td>\n",
       "      <td>337.5</td>\n",
       "      <td>11.7</td>\n",
       "      <td>4.8</td>\n",
       "    </tr>\n",
       "    <tr>\n",
       "      <th>4</th>\n",
       "      <td>2020-09-28</td>\n",
       "      <td>AT</td>\n",
       "      <td>Graz</td>\n",
       "      <td>NaN</td>\n",
       "      <td>0.1</td>\n",
       "      <td>9.8</td>\n",
       "      <td>99.0</td>\n",
       "      <td>NaN</td>\n",
       "      <td>NaN</td>\n",
       "      <td>27.5</td>\n",
       "      <td>...</td>\n",
       "      <td>22.0</td>\n",
       "      <td>NaN</td>\n",
       "      <td>1.4</td>\n",
       "      <td>1013.0</td>\n",
       "      <td>3.1</td>\n",
       "      <td>12.2</td>\n",
       "      <td>NaN</td>\n",
       "      <td>NaN</td>\n",
       "      <td>10.0</td>\n",
       "      <td>3.5</td>\n",
       "    </tr>\n",
       "  </tbody>\n",
       "</table>\n",
       "<p>5 rows × 22 columns</p>\n",
       "</div>"
      ],
      "text/plain": [
       "Specie       Date Country          City  aqi    co   dew  humidity  mepaqi  \\\n",
       "0      2020-09-28      AE     Abu Dhabi  NaN   0.1  28.0      89.0     NaN   \n",
       "1      2020-09-28      AE         Dubai  NaN   NaN  27.0      83.0     NaN   \n",
       "2      2020-09-28      AF         Kabul  NaN   NaN   8.0      66.0     NaN   \n",
       "3      2020-09-28      AR  Buenos Aires  NaN  10.8  11.1      91.0     NaN   \n",
       "4      2020-09-28      AT          Graz  NaN   0.1   9.8      99.0     NaN   \n",
       "\n",
       "Specie  neph   no2  ...  pm10   pm25  precipitation  pressure   so2  \\\n",
       "0        NaN  29.3  ...  76.0   95.0            NaN    1007.0  12.2   \n",
       "1        NaN   NaN  ...   NaN  117.0            NaN    1007.0   NaN   \n",
       "2        NaN   NaN  ...   NaN  147.0            NaN    1021.0   NaN   \n",
       "3        NaN  23.8  ...  29.0   65.0            NaN    1029.7   1.6   \n",
       "4        NaN  27.5  ...  22.0    NaN            1.4    1013.0   3.1   \n",
       "\n",
       "Specie  temperature  uvi     wd  wind-gust  wind-speed  \n",
       "0              41.0  NaN    NaN        NaN         6.1  \n",
       "1              40.0  NaN    NaN        NaN         5.6  \n",
       "2              27.0  NaN    NaN        NaN         6.6  \n",
       "3              22.8  NaN  337.5       11.7         4.8  \n",
       "4              12.2  NaN    NaN       10.0         3.5  \n",
       "\n",
       "[5 rows x 22 columns]"
      ]
     },
     "execution_count": 96,
     "metadata": {},
     "output_type": "execute_result"
    }
   ],
   "source": [
    "print(data_df_2020_Q4.shape)\n",
    "data_df_2020_Q4.head()"
   ]
  },
  {
   "cell_type": "code",
   "execution_count": 97,
   "id": "0b50f2fc",
   "metadata": {
    "execution": {
     "iopub.execute_input": "2024-12-31T12:06:36.445007Z",
     "iopub.status.busy": "2024-12-31T12:06:36.444625Z",
     "iopub.status.idle": "2024-12-31T12:06:36.459317Z",
     "shell.execute_reply": "2024-12-31T12:06:36.458127Z"
    },
    "executionInfo": {
     "elapsed": 8,
     "status": "ok",
     "timestamp": 1734445441523,
     "user": {
      "displayName": "Tahmida Majumder",
      "userId": "15415648085337204568"
     },
     "user_tz": -480
    },
    "id": "tWnkp8BJUGVm",
    "outputId": "e1e12277-e930-4b0d-cb8c-0d105953be31",
    "papermill": {
     "duration": 0.067337,
     "end_time": "2024-12-31T12:06:36.461164",
     "exception": false,
     "start_time": "2024-12-31T12:06:36.393827",
     "status": "completed"
    },
    "tags": []
   },
   "outputs": [
    {
     "data": {
      "text/plain": [
       "Specie\n",
       "Date                 0\n",
       "Country              0\n",
       "City                 0\n",
       "aqi              56864\n",
       "co               21639\n",
       "dew              11928\n",
       "humidity           150\n",
       "mepaqi           58264\n",
       "neph             58166\n",
       "no2              10851\n",
       "o3               14731\n",
       "pm1              58017\n",
       "pm10             10882\n",
       "pm25              8929\n",
       "precipitation    52342\n",
       "pressure           356\n",
       "so2              18883\n",
       "temperature        113\n",
       "uvi              57392\n",
       "wd               53565\n",
       "wind-gust        27934\n",
       "wind-speed         935\n",
       "dtype: int64"
      ]
     },
     "execution_count": 97,
     "metadata": {},
     "output_type": "execute_result"
    }
   ],
   "source": [
    "data_df_2020_Q4.isnull().sum()"
   ]
  },
  {
   "cell_type": "code",
   "execution_count": null,
   "id": "db5c25a1",
   "metadata": {
    "id": "DWaMHJphBLrl",
    "papermill": {
     "duration": 0.052427,
     "end_time": "2024-12-31T12:06:36.564445",
     "exception": false,
     "start_time": "2024-12-31T12:06:36.512018",
     "status": "completed"
    },
    "tags": []
   },
   "outputs": [],
   "source": []
  },
  {
   "cell_type": "markdown",
   "id": "b27d5f6a",
   "metadata": {
    "id": "4vWuznNRUWPs",
    "papermill": {
     "duration": 0.051909,
     "end_time": "2024-12-31T12:06:36.670536",
     "exception": false,
     "start_time": "2024-12-31T12:06:36.618627",
     "status": "completed"
    },
    "tags": []
   },
   "source": [
    "# 2019_Q1"
   ]
  },
  {
   "cell_type": "code",
   "execution_count": 98,
   "id": "b9965238",
   "metadata": {
    "execution": {
     "iopub.execute_input": "2024-12-31T12:06:36.773122Z",
     "iopub.status.busy": "2024-12-31T12:06:36.772784Z",
     "iopub.status.idle": "2024-12-31T12:06:37.282002Z",
     "shell.execute_reply": "2024-12-31T12:06:37.281034Z"
    },
    "executionInfo": {
     "elapsed": 653,
     "status": "ok",
     "timestamp": 1734445442169,
     "user": {
      "displayName": "Tahmida Majumder",
      "userId": "15415648085337204568"
     },
     "user_tz": -480
    },
    "id": "lvL5BAUIUWPs",
    "outputId": "69a3a43d-79c3-40f2-8231-d27a30519c31",
    "papermill": {
     "duration": 0.562311,
     "end_time": "2024-12-31T12:06:37.283904",
     "exception": false,
     "start_time": "2024-12-31T12:06:36.721593",
     "status": "completed"
    },
    "tags": []
   },
   "outputs": [
    {
     "name": "stdout",
     "output_type": "stream",
     "text": [
      "(491161, 5)\n"
     ]
    },
    {
     "data": {
      "text/html": [
       "<div>\n",
       "<style scoped>\n",
       "    .dataframe tbody tr th:only-of-type {\n",
       "        vertical-align: middle;\n",
       "    }\n",
       "\n",
       "    .dataframe tbody tr th {\n",
       "        vertical-align: top;\n",
       "    }\n",
       "\n",
       "    .dataframe thead th {\n",
       "        text-align: right;\n",
       "    }\n",
       "</style>\n",
       "<table border=\"1\" class=\"dataframe\">\n",
       "  <thead>\n",
       "    <tr style=\"text-align: right;\">\n",
       "      <th></th>\n",
       "      <th>Date</th>\n",
       "      <th>Country</th>\n",
       "      <th>City</th>\n",
       "      <th>Specie</th>\n",
       "      <th>max</th>\n",
       "    </tr>\n",
       "  </thead>\n",
       "  <tbody>\n",
       "    <tr>\n",
       "      <th>0</th>\n",
       "      <td>1/16/2019</td>\n",
       "      <td>AE</td>\n",
       "      <td>Abu Dhabi</td>\n",
       "      <td>pm10</td>\n",
       "      <td>99.0</td>\n",
       "    </tr>\n",
       "    <tr>\n",
       "      <th>1</th>\n",
       "      <td>1/22/2019</td>\n",
       "      <td>AE</td>\n",
       "      <td>Abu Dhabi</td>\n",
       "      <td>pm10</td>\n",
       "      <td>57.0</td>\n",
       "    </tr>\n",
       "    <tr>\n",
       "      <th>2</th>\n",
       "      <td>1/26/2019</td>\n",
       "      <td>AE</td>\n",
       "      <td>Abu Dhabi</td>\n",
       "      <td>pm10</td>\n",
       "      <td>173.0</td>\n",
       "    </tr>\n",
       "    <tr>\n",
       "      <th>3</th>\n",
       "      <td>1/7/2019</td>\n",
       "      <td>AE</td>\n",
       "      <td>Abu Dhabi</td>\n",
       "      <td>pm10</td>\n",
       "      <td>91.0</td>\n",
       "    </tr>\n",
       "    <tr>\n",
       "      <th>4</th>\n",
       "      <td>1/10/2019</td>\n",
       "      <td>AE</td>\n",
       "      <td>Abu Dhabi</td>\n",
       "      <td>pm10</td>\n",
       "      <td>93.0</td>\n",
       "    </tr>\n",
       "    <tr>\n",
       "      <th>5</th>\n",
       "      <td>1/14/2019</td>\n",
       "      <td>AE</td>\n",
       "      <td>Abu Dhabi</td>\n",
       "      <td>pm10</td>\n",
       "      <td>76.0</td>\n",
       "    </tr>\n",
       "    <tr>\n",
       "      <th>6</th>\n",
       "      <td>1/15/2019</td>\n",
       "      <td>AE</td>\n",
       "      <td>Abu Dhabi</td>\n",
       "      <td>pm10</td>\n",
       "      <td>97.0</td>\n",
       "    </tr>\n",
       "    <tr>\n",
       "      <th>7</th>\n",
       "      <td>1/21/2019</td>\n",
       "      <td>AE</td>\n",
       "      <td>Abu Dhabi</td>\n",
       "      <td>pm10</td>\n",
       "      <td>59.0</td>\n",
       "    </tr>\n",
       "    <tr>\n",
       "      <th>8</th>\n",
       "      <td>1/8/2019</td>\n",
       "      <td>AE</td>\n",
       "      <td>Abu Dhabi</td>\n",
       "      <td>pm10</td>\n",
       "      <td>98.0</td>\n",
       "    </tr>\n",
       "    <tr>\n",
       "      <th>9</th>\n",
       "      <td>1/17/2019</td>\n",
       "      <td>AE</td>\n",
       "      <td>Abu Dhabi</td>\n",
       "      <td>pm10</td>\n",
       "      <td>85.0</td>\n",
       "    </tr>\n",
       "  </tbody>\n",
       "</table>\n",
       "</div>"
      ],
      "text/plain": [
       "        Date Country       City Specie    max\n",
       "0  1/16/2019      AE  Abu Dhabi   pm10   99.0\n",
       "1  1/22/2019      AE  Abu Dhabi   pm10   57.0\n",
       "2  1/26/2019      AE  Abu Dhabi   pm10  173.0\n",
       "3   1/7/2019      AE  Abu Dhabi   pm10   91.0\n",
       "4  1/10/2019      AE  Abu Dhabi   pm10   93.0\n",
       "5  1/14/2019      AE  Abu Dhabi   pm10   76.0\n",
       "6  1/15/2019      AE  Abu Dhabi   pm10   97.0\n",
       "7  1/21/2019      AE  Abu Dhabi   pm10   59.0\n",
       "8   1/8/2019      AE  Abu Dhabi   pm10   98.0\n",
       "9  1/17/2019      AE  Abu Dhabi   pm10   85.0"
      ]
     },
     "execution_count": 98,
     "metadata": {},
     "output_type": "execute_result"
    }
   ],
   "source": [
    "# Loading the data\n",
    "raw_data_2019_Q1 = pd.read_csv(r\"/kaggle/input/raw-data/airqualitydata-2019Q1.csv\")\n",
    "\n",
    "# print the shape\n",
    "print(raw_data_2019_Q1.shape)\n",
    "\n",
    "#runs the first 5 rows\n",
    "raw_data_2019_Q1.head(10)"
   ]
  },
  {
   "cell_type": "code",
   "execution_count": 99,
   "id": "e3575456",
   "metadata": {
    "execution": {
     "iopub.execute_input": "2024-12-31T12:06:37.386215Z",
     "iopub.status.busy": "2024-12-31T12:06:37.385873Z",
     "iopub.status.idle": "2024-12-31T12:06:37.455461Z",
     "shell.execute_reply": "2024-12-31T12:06:37.454566Z"
    },
    "id": "dGfJZYbrUWPs",
    "papermill": {
     "duration": 0.122892,
     "end_time": "2024-12-31T12:06:37.457409",
     "exception": false,
     "start_time": "2024-12-31T12:06:37.334517",
     "status": "completed"
    },
    "tags": []
   },
   "outputs": [],
   "source": [
    "# Convert 'Date' to datetime\n",
    "raw_data_2019_Q1['Date'] = pd.to_datetime(raw_data_2019_Q1['Date'])"
   ]
  },
  {
   "cell_type": "code",
   "execution_count": 100,
   "id": "42b6f2ca",
   "metadata": {
    "execution": {
     "iopub.execute_input": "2024-12-31T12:06:37.563122Z",
     "iopub.status.busy": "2024-12-31T12:06:37.562802Z",
     "iopub.status.idle": "2024-12-31T12:06:37.568512Z",
     "shell.execute_reply": "2024-12-31T12:06:37.567477Z"
    },
    "executionInfo": {
     "elapsed": 7,
     "status": "ok",
     "timestamp": 1734445442169,
     "user": {
      "displayName": "Tahmida Majumder",
      "userId": "15415648085337204568"
     },
     "user_tz": -480
    },
    "id": "5f1QMtHrUWPs",
    "outputId": "a5ac0f2b-6aa8-4c51-e9b0-4772808281c8",
    "papermill": {
     "duration": 0.059508,
     "end_time": "2024-12-31T12:06:37.570203",
     "exception": false,
     "start_time": "2024-12-31T12:06:37.510695",
     "status": "completed"
    },
    "tags": []
   },
   "outputs": [
    {
     "data": {
      "text/plain": [
       "(491161, 5)"
      ]
     },
     "execution_count": 100,
     "metadata": {},
     "output_type": "execute_result"
    }
   ],
   "source": [
    "raw_data_2019_Q1.shape"
   ]
  },
  {
   "cell_type": "code",
   "execution_count": 101,
   "id": "060c3936",
   "metadata": {
    "execution": {
     "iopub.execute_input": "2024-12-31T12:06:37.675156Z",
     "iopub.status.busy": "2024-12-31T12:06:37.674830Z",
     "iopub.status.idle": "2024-12-31T12:06:38.026703Z",
     "shell.execute_reply": "2024-12-31T12:06:38.025734Z"
    },
    "id": "cBV6g4USUWPs",
    "papermill": {
     "duration": 0.405892,
     "end_time": "2024-12-31T12:06:38.028599",
     "exception": false,
     "start_time": "2024-12-31T12:06:37.622707",
     "status": "completed"
    },
    "tags": []
   },
   "outputs": [],
   "source": [
    "# Pivot the data\n",
    "data_df_2019_Q1 = raw_data_2019_Q1.pivot_table(\n",
    "    index=['Date', 'Country', 'City'],  # Grouping columns\n",
    "    columns='Specie',                  # Unique values become columns\n",
    "    values='max',                   # Values to aggregate\n",
    "    aggfunc='mean'                     # Aggregation function\n",
    ").reset_index()"
   ]
  },
  {
   "cell_type": "code",
   "execution_count": 102,
   "id": "31fea284",
   "metadata": {
    "execution": {
     "iopub.execute_input": "2024-12-31T12:06:38.132028Z",
     "iopub.status.busy": "2024-12-31T12:06:38.131695Z",
     "iopub.status.idle": "2024-12-31T12:06:38.156186Z",
     "shell.execute_reply": "2024-12-31T12:06:38.155205Z"
    },
    "executionInfo": {
     "elapsed": 12,
     "status": "ok",
     "timestamp": 1734445442579,
     "user": {
      "displayName": "Tahmida Majumder",
      "userId": "15415648085337204568"
     },
     "user_tz": -480
    },
    "id": "g_kaIAN3UWPt",
    "outputId": "4dd78eaf-5e39-4ffc-c7a6-97139ca90ca7",
    "papermill": {
     "duration": 0.078132,
     "end_time": "2024-12-31T12:06:38.157884",
     "exception": false,
     "start_time": "2024-12-31T12:06:38.079752",
     "status": "completed"
    },
    "tags": []
   },
   "outputs": [
    {
     "name": "stdout",
     "output_type": "stream",
     "text": [
      "(49006, 22)\n"
     ]
    },
    {
     "data": {
      "text/html": [
       "<div>\n",
       "<style scoped>\n",
       "    .dataframe tbody tr th:only-of-type {\n",
       "        vertical-align: middle;\n",
       "    }\n",
       "\n",
       "    .dataframe tbody tr th {\n",
       "        vertical-align: top;\n",
       "    }\n",
       "\n",
       "    .dataframe thead th {\n",
       "        text-align: right;\n",
       "    }\n",
       "</style>\n",
       "<table border=\"1\" class=\"dataframe\">\n",
       "  <thead>\n",
       "    <tr style=\"text-align: right;\">\n",
       "      <th>Specie</th>\n",
       "      <th>Date</th>\n",
       "      <th>Country</th>\n",
       "      <th>City</th>\n",
       "      <th>aqi</th>\n",
       "      <th>co</th>\n",
       "      <th>dew</th>\n",
       "      <th>humidity</th>\n",
       "      <th>mepaqi</th>\n",
       "      <th>no2</th>\n",
       "      <th>o3</th>\n",
       "      <th>...</th>\n",
       "      <th>pm25</th>\n",
       "      <th>pol</th>\n",
       "      <th>precipitation</th>\n",
       "      <th>pressure</th>\n",
       "      <th>so2</th>\n",
       "      <th>temperature</th>\n",
       "      <th>uvi</th>\n",
       "      <th>wd</th>\n",
       "      <th>wind-gust</th>\n",
       "      <th>wind-speed</th>\n",
       "    </tr>\n",
       "  </thead>\n",
       "  <tbody>\n",
       "    <tr>\n",
       "      <th>0</th>\n",
       "      <td>2018-12-31</td>\n",
       "      <td>AE</td>\n",
       "      <td>Abu Dhabi</td>\n",
       "      <td>NaN</td>\n",
       "      <td>NaN</td>\n",
       "      <td>19.0</td>\n",
       "      <td>94.0</td>\n",
       "      <td>NaN</td>\n",
       "      <td>49.4</td>\n",
       "      <td>56.5</td>\n",
       "      <td>...</td>\n",
       "      <td>152.0</td>\n",
       "      <td>NaN</td>\n",
       "      <td>NaN</td>\n",
       "      <td>1021.0</td>\n",
       "      <td>27.9</td>\n",
       "      <td>27.0</td>\n",
       "      <td>NaN</td>\n",
       "      <td>NaN</td>\n",
       "      <td>NaN</td>\n",
       "      <td>6.1</td>\n",
       "    </tr>\n",
       "    <tr>\n",
       "      <th>1</th>\n",
       "      <td>2018-12-31</td>\n",
       "      <td>AR</td>\n",
       "      <td>Buenos Aires</td>\n",
       "      <td>NaN</td>\n",
       "      <td>NaN</td>\n",
       "      <td>21.0</td>\n",
       "      <td>78.0</td>\n",
       "      <td>NaN</td>\n",
       "      <td>NaN</td>\n",
       "      <td>NaN</td>\n",
       "      <td>...</td>\n",
       "      <td>NaN</td>\n",
       "      <td>NaN</td>\n",
       "      <td>NaN</td>\n",
       "      <td>1011.0</td>\n",
       "      <td>NaN</td>\n",
       "      <td>23.8</td>\n",
       "      <td>NaN</td>\n",
       "      <td>0.0</td>\n",
       "      <td>188.2</td>\n",
       "      <td>17.3</td>\n",
       "    </tr>\n",
       "    <tr>\n",
       "      <th>2</th>\n",
       "      <td>2018-12-31</td>\n",
       "      <td>AT</td>\n",
       "      <td>Graz</td>\n",
       "      <td>NaN</td>\n",
       "      <td>0.1</td>\n",
       "      <td>NaN</td>\n",
       "      <td>82.0</td>\n",
       "      <td>NaN</td>\n",
       "      <td>35.2</td>\n",
       "      <td>NaN</td>\n",
       "      <td>...</td>\n",
       "      <td>NaN</td>\n",
       "      <td>NaN</td>\n",
       "      <td>NaN</td>\n",
       "      <td>1043.7</td>\n",
       "      <td>2.6</td>\n",
       "      <td>9.0</td>\n",
       "      <td>NaN</td>\n",
       "      <td>NaN</td>\n",
       "      <td>8.6</td>\n",
       "      <td>4.5</td>\n",
       "    </tr>\n",
       "    <tr>\n",
       "      <th>3</th>\n",
       "      <td>2018-12-31</td>\n",
       "      <td>AT</td>\n",
       "      <td>Innsbruck</td>\n",
       "      <td>NaN</td>\n",
       "      <td>0.1</td>\n",
       "      <td>0.5</td>\n",
       "      <td>100.0</td>\n",
       "      <td>NaN</td>\n",
       "      <td>42.5</td>\n",
       "      <td>NaN</td>\n",
       "      <td>...</td>\n",
       "      <td>NaN</td>\n",
       "      <td>NaN</td>\n",
       "      <td>NaN</td>\n",
       "      <td>1034.5</td>\n",
       "      <td>1.8</td>\n",
       "      <td>2.2</td>\n",
       "      <td>NaN</td>\n",
       "      <td>NaN</td>\n",
       "      <td>23.3</td>\n",
       "      <td>11.3</td>\n",
       "    </tr>\n",
       "    <tr>\n",
       "      <th>4</th>\n",
       "      <td>2018-12-31</td>\n",
       "      <td>AT</td>\n",
       "      <td>Linz</td>\n",
       "      <td>NaN</td>\n",
       "      <td>0.1</td>\n",
       "      <td>3.0</td>\n",
       "      <td>100.0</td>\n",
       "      <td>NaN</td>\n",
       "      <td>18.3</td>\n",
       "      <td>NaN</td>\n",
       "      <td>...</td>\n",
       "      <td>82.0</td>\n",
       "      <td>NaN</td>\n",
       "      <td>NaN</td>\n",
       "      <td>1036.9</td>\n",
       "      <td>17.3</td>\n",
       "      <td>5.1</td>\n",
       "      <td>NaN</td>\n",
       "      <td>NaN</td>\n",
       "      <td>11.7</td>\n",
       "      <td>6.9</td>\n",
       "    </tr>\n",
       "  </tbody>\n",
       "</table>\n",
       "<p>5 rows × 22 columns</p>\n",
       "</div>"
      ],
      "text/plain": [
       "Specie       Date Country          City  aqi   co   dew  humidity  mepaqi  \\\n",
       "0      2018-12-31      AE     Abu Dhabi  NaN  NaN  19.0      94.0     NaN   \n",
       "1      2018-12-31      AR  Buenos Aires  NaN  NaN  21.0      78.0     NaN   \n",
       "2      2018-12-31      AT          Graz  NaN  0.1   NaN      82.0     NaN   \n",
       "3      2018-12-31      AT     Innsbruck  NaN  0.1   0.5     100.0     NaN   \n",
       "4      2018-12-31      AT          Linz  NaN  0.1   3.0     100.0     NaN   \n",
       "\n",
       "Specie   no2    o3  ...   pm25  pol  precipitation  pressure   so2  \\\n",
       "0       49.4  56.5  ...  152.0  NaN            NaN    1021.0  27.9   \n",
       "1        NaN   NaN  ...    NaN  NaN            NaN    1011.0   NaN   \n",
       "2       35.2   NaN  ...    NaN  NaN            NaN    1043.7   2.6   \n",
       "3       42.5   NaN  ...    NaN  NaN            NaN    1034.5   1.8   \n",
       "4       18.3   NaN  ...   82.0  NaN            NaN    1036.9  17.3   \n",
       "\n",
       "Specie  temperature  uvi   wd  wind-gust  wind-speed  \n",
       "0              27.0  NaN  NaN        NaN         6.1  \n",
       "1              23.8  NaN  0.0      188.2        17.3  \n",
       "2               9.0  NaN  NaN        8.6         4.5  \n",
       "3               2.2  NaN  NaN       23.3        11.3  \n",
       "4               5.1  NaN  NaN       11.7         6.9  \n",
       "\n",
       "[5 rows x 22 columns]"
      ]
     },
     "execution_count": 102,
     "metadata": {},
     "output_type": "execute_result"
    }
   ],
   "source": [
    "print(data_df_2019_Q1.shape)\n",
    "data_df_2019_Q1.head()"
   ]
  },
  {
   "cell_type": "code",
   "execution_count": 103,
   "id": "5343d6bf",
   "metadata": {
    "execution": {
     "iopub.execute_input": "2024-12-31T12:06:38.260856Z",
     "iopub.status.busy": "2024-12-31T12:06:38.260468Z",
     "iopub.status.idle": "2024-12-31T12:06:38.273944Z",
     "shell.execute_reply": "2024-12-31T12:06:38.272899Z"
    },
    "executionInfo": {
     "elapsed": 9,
     "status": "ok",
     "timestamp": 1734445442579,
     "user": {
      "displayName": "Tahmida Majumder",
      "userId": "15415648085337204568"
     },
     "user_tz": -480
    },
    "id": "XgyHV654UWPt",
    "outputId": "e107e617-5ebc-495b-ac82-59a851117406",
    "papermill": {
     "duration": 0.066854,
     "end_time": "2024-12-31T12:06:38.275693",
     "exception": false,
     "start_time": "2024-12-31T12:06:38.208839",
     "status": "completed"
    },
    "tags": []
   },
   "outputs": [
    {
     "data": {
      "text/plain": [
       "Specie\n",
       "Date                 0\n",
       "Country              0\n",
       "City                 0\n",
       "aqi              47701\n",
       "co               17145\n",
       "dew              21593\n",
       "humidity           293\n",
       "mepaqi           48915\n",
       "no2               7765\n",
       "o3                9237\n",
       "pm1              48915\n",
       "pm10              9686\n",
       "pm25              7771\n",
       "pol              48812\n",
       "precipitation    45579\n",
       "pressure           526\n",
       "so2              13818\n",
       "temperature        280\n",
       "uvi              48084\n",
       "wd               43626\n",
       "wind-gust        16846\n",
       "wind-speed        3361\n",
       "dtype: int64"
      ]
     },
     "execution_count": 103,
     "metadata": {},
     "output_type": "execute_result"
    }
   ],
   "source": [
    "data_df_2019_Q1.isnull().sum()"
   ]
  },
  {
   "cell_type": "code",
   "execution_count": null,
   "id": "0aceb83c",
   "metadata": {
    "id": "LmE5EK_BBLtg",
    "papermill": {
     "duration": 0.051031,
     "end_time": "2024-12-31T12:06:38.377893",
     "exception": false,
     "start_time": "2024-12-31T12:06:38.326862",
     "status": "completed"
    },
    "tags": []
   },
   "outputs": [],
   "source": []
  },
  {
   "cell_type": "markdown",
   "id": "1817d4d7",
   "metadata": {
    "id": "Fa0XA693UvmX",
    "papermill": {
     "duration": 0.050815,
     "end_time": "2024-12-31T12:06:38.479495",
     "exception": false,
     "start_time": "2024-12-31T12:06:38.428680",
     "status": "completed"
    },
    "tags": []
   },
   "source": [
    "# 2019_Q2"
   ]
  },
  {
   "cell_type": "code",
   "execution_count": 104,
   "id": "54cee564",
   "metadata": {
    "execution": {
     "iopub.execute_input": "2024-12-31T12:06:38.588676Z",
     "iopub.status.busy": "2024-12-31T12:06:38.588200Z",
     "iopub.status.idle": "2024-12-31T12:06:39.080104Z",
     "shell.execute_reply": "2024-12-31T12:06:39.078965Z"
    },
    "executionInfo": {
     "elapsed": 1504,
     "status": "ok",
     "timestamp": 1734445444075,
     "user": {
      "displayName": "Tahmida Majumder",
      "userId": "15415648085337204568"
     },
     "user_tz": -480
    },
    "id": "9_-gBvDPUvmX",
    "outputId": "321c62f3-8e0c-4b0c-bc66-54b1db61eca7",
    "papermill": {
     "duration": 0.549423,
     "end_time": "2024-12-31T12:06:39.081886",
     "exception": false,
     "start_time": "2024-12-31T12:06:38.532463",
     "status": "completed"
    },
    "tags": []
   },
   "outputs": [
    {
     "name": "stdout",
     "output_type": "stream",
     "text": [
      "(522904, 5)\n"
     ]
    },
    {
     "data": {
      "text/html": [
       "<div>\n",
       "<style scoped>\n",
       "    .dataframe tbody tr th:only-of-type {\n",
       "        vertical-align: middle;\n",
       "    }\n",
       "\n",
       "    .dataframe tbody tr th {\n",
       "        vertical-align: top;\n",
       "    }\n",
       "\n",
       "    .dataframe thead th {\n",
       "        text-align: right;\n",
       "    }\n",
       "</style>\n",
       "<table border=\"1\" class=\"dataframe\">\n",
       "  <thead>\n",
       "    <tr style=\"text-align: right;\">\n",
       "      <th></th>\n",
       "      <th>Date</th>\n",
       "      <th>Country</th>\n",
       "      <th>City</th>\n",
       "      <th>Specie</th>\n",
       "      <th>max</th>\n",
       "    </tr>\n",
       "  </thead>\n",
       "  <tbody>\n",
       "    <tr>\n",
       "      <th>0</th>\n",
       "      <td>5/10/2019</td>\n",
       "      <td>MO</td>\n",
       "      <td>Macau</td>\n",
       "      <td>o3</td>\n",
       "      <td>42.9</td>\n",
       "    </tr>\n",
       "    <tr>\n",
       "      <th>1</th>\n",
       "      <td>5/14/2019</td>\n",
       "      <td>MO</td>\n",
       "      <td>Macau</td>\n",
       "      <td>o3</td>\n",
       "      <td>39.4</td>\n",
       "    </tr>\n",
       "    <tr>\n",
       "      <th>2</th>\n",
       "      <td>5/15/2019</td>\n",
       "      <td>MO</td>\n",
       "      <td>Macau</td>\n",
       "      <td>o3</td>\n",
       "      <td>24.1</td>\n",
       "    </tr>\n",
       "    <tr>\n",
       "      <th>3</th>\n",
       "      <td>5/22/2019</td>\n",
       "      <td>MO</td>\n",
       "      <td>Macau</td>\n",
       "      <td>o3</td>\n",
       "      <td>70.9</td>\n",
       "    </tr>\n",
       "    <tr>\n",
       "      <th>4</th>\n",
       "      <td>5/29/2019</td>\n",
       "      <td>MO</td>\n",
       "      <td>Macau</td>\n",
       "      <td>o3</td>\n",
       "      <td>42.0</td>\n",
       "    </tr>\n",
       "    <tr>\n",
       "      <th>5</th>\n",
       "      <td>4/19/2019</td>\n",
       "      <td>MO</td>\n",
       "      <td>Macau</td>\n",
       "      <td>o3</td>\n",
       "      <td>40.7</td>\n",
       "    </tr>\n",
       "    <tr>\n",
       "      <th>6</th>\n",
       "      <td>4/22/2019</td>\n",
       "      <td>MO</td>\n",
       "      <td>Macau</td>\n",
       "      <td>o3</td>\n",
       "      <td>32.2</td>\n",
       "    </tr>\n",
       "    <tr>\n",
       "      <th>7</th>\n",
       "      <td>4/24/2019</td>\n",
       "      <td>MO</td>\n",
       "      <td>Macau</td>\n",
       "      <td>o3</td>\n",
       "      <td>27.3</td>\n",
       "    </tr>\n",
       "    <tr>\n",
       "      <th>8</th>\n",
       "      <td>5/7/2019</td>\n",
       "      <td>MO</td>\n",
       "      <td>Macau</td>\n",
       "      <td>o3</td>\n",
       "      <td>44.9</td>\n",
       "    </tr>\n",
       "    <tr>\n",
       "      <th>9</th>\n",
       "      <td>6/4/2019</td>\n",
       "      <td>MO</td>\n",
       "      <td>Macau</td>\n",
       "      <td>o3</td>\n",
       "      <td>26.7</td>\n",
       "    </tr>\n",
       "  </tbody>\n",
       "</table>\n",
       "</div>"
      ],
      "text/plain": [
       "        Date Country   City Specie   max\n",
       "0  5/10/2019      MO  Macau     o3  42.9\n",
       "1  5/14/2019      MO  Macau     o3  39.4\n",
       "2  5/15/2019      MO  Macau     o3  24.1\n",
       "3  5/22/2019      MO  Macau     o3  70.9\n",
       "4  5/29/2019      MO  Macau     o3  42.0\n",
       "5  4/19/2019      MO  Macau     o3  40.7\n",
       "6  4/22/2019      MO  Macau     o3  32.2\n",
       "7  4/24/2019      MO  Macau     o3  27.3\n",
       "8   5/7/2019      MO  Macau     o3  44.9\n",
       "9   6/4/2019      MO  Macau     o3  26.7"
      ]
     },
     "execution_count": 104,
     "metadata": {},
     "output_type": "execute_result"
    }
   ],
   "source": [
    "# Loading the data\n",
    "raw_data_2019_Q2 = pd.read_csv(r\"/kaggle/input/raw-data/airqualitydata-2019Q2.csv\")\n",
    "\n",
    "# print the shape\n",
    "print(raw_data_2019_Q2.shape)\n",
    "\n",
    "#runs the first 5 rows\n",
    "raw_data_2019_Q2.head(10)"
   ]
  },
  {
   "cell_type": "code",
   "execution_count": 105,
   "id": "613fc76c",
   "metadata": {
    "execution": {
     "iopub.execute_input": "2024-12-31T12:06:39.189869Z",
     "iopub.status.busy": "2024-12-31T12:06:39.189476Z",
     "iopub.status.idle": "2024-12-31T12:06:39.264208Z",
     "shell.execute_reply": "2024-12-31T12:06:39.263074Z"
    },
    "id": "ISYacVaHUvmY",
    "papermill": {
     "duration": 0.13233,
     "end_time": "2024-12-31T12:06:39.266138",
     "exception": false,
     "start_time": "2024-12-31T12:06:39.133808",
     "status": "completed"
    },
    "tags": []
   },
   "outputs": [],
   "source": [
    "# Convert 'Date' to datetime\n",
    "raw_data_2019_Q2['Date'] = pd.to_datetime(raw_data_2019_Q2['Date'])"
   ]
  },
  {
   "cell_type": "code",
   "execution_count": 106,
   "id": "4c3f887c",
   "metadata": {
    "execution": {
     "iopub.execute_input": "2024-12-31T12:06:39.370163Z",
     "iopub.status.busy": "2024-12-31T12:06:39.369780Z",
     "iopub.status.idle": "2024-12-31T12:06:39.375531Z",
     "shell.execute_reply": "2024-12-31T12:06:39.374537Z"
    },
    "executionInfo": {
     "elapsed": 10,
     "status": "ok",
     "timestamp": 1734445444076,
     "user": {
      "displayName": "Tahmida Majumder",
      "userId": "15415648085337204568"
     },
     "user_tz": -480
    },
    "id": "F79iK7hQUvmY",
    "outputId": "f9d409e3-9207-42e3-e810-248341fb99f8",
    "papermill": {
     "duration": 0.059453,
     "end_time": "2024-12-31T12:06:39.377124",
     "exception": false,
     "start_time": "2024-12-31T12:06:39.317671",
     "status": "completed"
    },
    "tags": []
   },
   "outputs": [
    {
     "data": {
      "text/plain": [
       "(522904, 5)"
      ]
     },
     "execution_count": 106,
     "metadata": {},
     "output_type": "execute_result"
    }
   ],
   "source": [
    "raw_data_2019_Q2.shape"
   ]
  },
  {
   "cell_type": "code",
   "execution_count": 107,
   "id": "8e81b8fe",
   "metadata": {
    "execution": {
     "iopub.execute_input": "2024-12-31T12:06:39.482729Z",
     "iopub.status.busy": "2024-12-31T12:06:39.482330Z",
     "iopub.status.idle": "2024-12-31T12:06:39.861962Z",
     "shell.execute_reply": "2024-12-31T12:06:39.860695Z"
    },
    "id": "uZSqb0FoUvmY",
    "papermill": {
     "duration": 0.435642,
     "end_time": "2024-12-31T12:06:39.863812",
     "exception": false,
     "start_time": "2024-12-31T12:06:39.428170",
     "status": "completed"
    },
    "tags": []
   },
   "outputs": [],
   "source": [
    "# Pivot the data\n",
    "data_df_2019_Q2 = raw_data_2019_Q2.pivot_table(\n",
    "    index=['Date', 'Country', 'City'],  # Grouping columns\n",
    "    columns='Specie',                  # Unique values become columns\n",
    "    values='max',                   # Values to aggregate\n",
    "    aggfunc='mean'                     # Aggregation function\n",
    ").reset_index()"
   ]
  },
  {
   "cell_type": "code",
   "execution_count": 108,
   "id": "1f0396cf",
   "metadata": {
    "execution": {
     "iopub.execute_input": "2024-12-31T12:06:39.971272Z",
     "iopub.status.busy": "2024-12-31T12:06:39.970943Z",
     "iopub.status.idle": "2024-12-31T12:06:39.996601Z",
     "shell.execute_reply": "2024-12-31T12:06:39.995637Z"
    },
    "executionInfo": {
     "elapsed": 11,
     "status": "ok",
     "timestamp": 1734445444552,
     "user": {
      "displayName": "Tahmida Majumder",
      "userId": "15415648085337204568"
     },
     "user_tz": -480
    },
    "id": "EKadAQLeUvmY",
    "outputId": "ab665ff2-72c9-4b7a-fa14-e3611219d034",
    "papermill": {
     "duration": 0.082793,
     "end_time": "2024-12-31T12:06:39.998345",
     "exception": false,
     "start_time": "2024-12-31T12:06:39.915552",
     "status": "completed"
    },
    "tags": []
   },
   "outputs": [
    {
     "name": "stdout",
     "output_type": "stream",
     "text": [
      "(51421, 22)\n"
     ]
    },
    {
     "data": {
      "text/html": [
       "<div>\n",
       "<style scoped>\n",
       "    .dataframe tbody tr th:only-of-type {\n",
       "        vertical-align: middle;\n",
       "    }\n",
       "\n",
       "    .dataframe tbody tr th {\n",
       "        vertical-align: top;\n",
       "    }\n",
       "\n",
       "    .dataframe thead th {\n",
       "        text-align: right;\n",
       "    }\n",
       "</style>\n",
       "<table border=\"1\" class=\"dataframe\">\n",
       "  <thead>\n",
       "    <tr style=\"text-align: right;\">\n",
       "      <th>Specie</th>\n",
       "      <th>Date</th>\n",
       "      <th>Country</th>\n",
       "      <th>City</th>\n",
       "      <th>aqi</th>\n",
       "      <th>co</th>\n",
       "      <th>dew</th>\n",
       "      <th>humidity</th>\n",
       "      <th>mepaqi</th>\n",
       "      <th>no2</th>\n",
       "      <th>o3</th>\n",
       "      <th>...</th>\n",
       "      <th>pm25</th>\n",
       "      <th>pol</th>\n",
       "      <th>precipitation</th>\n",
       "      <th>pressure</th>\n",
       "      <th>so2</th>\n",
       "      <th>temperature</th>\n",
       "      <th>uvi</th>\n",
       "      <th>wd</th>\n",
       "      <th>wind-gust</th>\n",
       "      <th>wind-speed</th>\n",
       "    </tr>\n",
       "  </thead>\n",
       "  <tbody>\n",
       "    <tr>\n",
       "      <th>0</th>\n",
       "      <td>2019-04-01</td>\n",
       "      <td>AE</td>\n",
       "      <td>Abu Dhabi</td>\n",
       "      <td>NaN</td>\n",
       "      <td>NaN</td>\n",
       "      <td>14.0</td>\n",
       "      <td>39.0</td>\n",
       "      <td>NaN</td>\n",
       "      <td>NaN</td>\n",
       "      <td>NaN</td>\n",
       "      <td>...</td>\n",
       "      <td>175.0</td>\n",
       "      <td>NaN</td>\n",
       "      <td>NaN</td>\n",
       "      <td>1011.0</td>\n",
       "      <td>NaN</td>\n",
       "      <td>40.0</td>\n",
       "      <td>NaN</td>\n",
       "      <td>NaN</td>\n",
       "      <td>NaN</td>\n",
       "      <td>9.2</td>\n",
       "    </tr>\n",
       "    <tr>\n",
       "      <th>1</th>\n",
       "      <td>2019-04-01</td>\n",
       "      <td>AE</td>\n",
       "      <td>Dubai</td>\n",
       "      <td>NaN</td>\n",
       "      <td>NaN</td>\n",
       "      <td>12.0</td>\n",
       "      <td>28.0</td>\n",
       "      <td>NaN</td>\n",
       "      <td>NaN</td>\n",
       "      <td>15.9</td>\n",
       "      <td>...</td>\n",
       "      <td>160.0</td>\n",
       "      <td>NaN</td>\n",
       "      <td>NaN</td>\n",
       "      <td>1012.0</td>\n",
       "      <td>NaN</td>\n",
       "      <td>38.5</td>\n",
       "      <td>NaN</td>\n",
       "      <td>NaN</td>\n",
       "      <td>NaN</td>\n",
       "      <td>7.2</td>\n",
       "    </tr>\n",
       "    <tr>\n",
       "      <th>2</th>\n",
       "      <td>2019-04-01</td>\n",
       "      <td>AR</td>\n",
       "      <td>Buenos Aires</td>\n",
       "      <td>NaN</td>\n",
       "      <td>NaN</td>\n",
       "      <td>21.0</td>\n",
       "      <td>94.0</td>\n",
       "      <td>NaN</td>\n",
       "      <td>NaN</td>\n",
       "      <td>14.7</td>\n",
       "      <td>...</td>\n",
       "      <td>70.0</td>\n",
       "      <td>NaN</td>\n",
       "      <td>NaN</td>\n",
       "      <td>1016.0</td>\n",
       "      <td>2.6</td>\n",
       "      <td>27.8</td>\n",
       "      <td>NaN</td>\n",
       "      <td>0.0</td>\n",
       "      <td>9.9</td>\n",
       "      <td>4.6</td>\n",
       "    </tr>\n",
       "    <tr>\n",
       "      <th>3</th>\n",
       "      <td>2019-04-01</td>\n",
       "      <td>AT</td>\n",
       "      <td>Graz</td>\n",
       "      <td>NaN</td>\n",
       "      <td>0.1</td>\n",
       "      <td>NaN</td>\n",
       "      <td>90.7</td>\n",
       "      <td>NaN</td>\n",
       "      <td>43.5</td>\n",
       "      <td>NaN</td>\n",
       "      <td>...</td>\n",
       "      <td>NaN</td>\n",
       "      <td>NaN</td>\n",
       "      <td>NaN</td>\n",
       "      <td>1021.3</td>\n",
       "      <td>5.1</td>\n",
       "      <td>22.3</td>\n",
       "      <td>NaN</td>\n",
       "      <td>NaN</td>\n",
       "      <td>12.0</td>\n",
       "      <td>3.7</td>\n",
       "    </tr>\n",
       "    <tr>\n",
       "      <th>4</th>\n",
       "      <td>2019-04-01</td>\n",
       "      <td>AT</td>\n",
       "      <td>Innsbruck</td>\n",
       "      <td>NaN</td>\n",
       "      <td>0.1</td>\n",
       "      <td>5.0</td>\n",
       "      <td>75.7</td>\n",
       "      <td>NaN</td>\n",
       "      <td>36.6</td>\n",
       "      <td>NaN</td>\n",
       "      <td>...</td>\n",
       "      <td>NaN</td>\n",
       "      <td>NaN</td>\n",
       "      <td>NaN</td>\n",
       "      <td>1019.0</td>\n",
       "      <td>1.1</td>\n",
       "      <td>19.5</td>\n",
       "      <td>NaN</td>\n",
       "      <td>NaN</td>\n",
       "      <td>12.0</td>\n",
       "      <td>5.9</td>\n",
       "    </tr>\n",
       "  </tbody>\n",
       "</table>\n",
       "<p>5 rows × 22 columns</p>\n",
       "</div>"
      ],
      "text/plain": [
       "Specie       Date Country          City  aqi   co   dew  humidity  mepaqi  \\\n",
       "0      2019-04-01      AE     Abu Dhabi  NaN  NaN  14.0      39.0     NaN   \n",
       "1      2019-04-01      AE         Dubai  NaN  NaN  12.0      28.0     NaN   \n",
       "2      2019-04-01      AR  Buenos Aires  NaN  NaN  21.0      94.0     NaN   \n",
       "3      2019-04-01      AT          Graz  NaN  0.1   NaN      90.7     NaN   \n",
       "4      2019-04-01      AT     Innsbruck  NaN  0.1   5.0      75.7     NaN   \n",
       "\n",
       "Specie   no2    o3  ...   pm25  pol  precipitation  pressure  so2  \\\n",
       "0        NaN   NaN  ...  175.0  NaN            NaN    1011.0  NaN   \n",
       "1        NaN  15.9  ...  160.0  NaN            NaN    1012.0  NaN   \n",
       "2        NaN  14.7  ...   70.0  NaN            NaN    1016.0  2.6   \n",
       "3       43.5   NaN  ...    NaN  NaN            NaN    1021.3  5.1   \n",
       "4       36.6   NaN  ...    NaN  NaN            NaN    1019.0  1.1   \n",
       "\n",
       "Specie  temperature  uvi   wd  wind-gust  wind-speed  \n",
       "0              40.0  NaN  NaN        NaN         9.2  \n",
       "1              38.5  NaN  NaN        NaN         7.2  \n",
       "2              27.8  NaN  0.0        9.9         4.6  \n",
       "3              22.3  NaN  NaN       12.0         3.7  \n",
       "4              19.5  NaN  NaN       12.0         5.9  \n",
       "\n",
       "[5 rows x 22 columns]"
      ]
     },
     "execution_count": 108,
     "metadata": {},
     "output_type": "execute_result"
    }
   ],
   "source": [
    "print(data_df_2019_Q2.shape)\n",
    "data_df_2019_Q2.head()"
   ]
  },
  {
   "cell_type": "code",
   "execution_count": 109,
   "id": "c533db2a",
   "metadata": {
    "execution": {
     "iopub.execute_input": "2024-12-31T12:06:40.138705Z",
     "iopub.status.busy": "2024-12-31T12:06:40.138241Z",
     "iopub.status.idle": "2024-12-31T12:06:40.151945Z",
     "shell.execute_reply": "2024-12-31T12:06:40.150995Z"
    },
    "executionInfo": {
     "elapsed": 8,
     "status": "ok",
     "timestamp": 1734445444552,
     "user": {
      "displayName": "Tahmida Majumder",
      "userId": "15415648085337204568"
     },
     "user_tz": -480
    },
    "id": "gNU4pm3aUvmY",
    "outputId": "a4696837-af6b-40ca-890d-12e16efa6a00",
    "papermill": {
     "duration": 0.077626,
     "end_time": "2024-12-31T12:06:40.153685",
     "exception": false,
     "start_time": "2024-12-31T12:06:40.076059",
     "status": "completed"
    },
    "tags": []
   },
   "outputs": [
    {
     "data": {
      "text/plain": [
       "Specie\n",
       "Date                 0\n",
       "Country              0\n",
       "City                 0\n",
       "aqi              50092\n",
       "co               18780\n",
       "dew              13355\n",
       "humidity           229\n",
       "mepaqi           51331\n",
       "no2               9320\n",
       "o3               10834\n",
       "pm1              51268\n",
       "pm10             10047\n",
       "pm25              8810\n",
       "pol              51067\n",
       "precipitation    47158\n",
       "pressure           501\n",
       "so2              15164\n",
       "temperature        207\n",
       "uvi              50526\n",
       "wd               47337\n",
       "wind-gust        16360\n",
       "wind-speed        1709\n",
       "dtype: int64"
      ]
     },
     "execution_count": 109,
     "metadata": {},
     "output_type": "execute_result"
    }
   ],
   "source": [
    "data_df_2019_Q2.isnull().sum()"
   ]
  },
  {
   "cell_type": "code",
   "execution_count": null,
   "id": "b0f139f4",
   "metadata": {
    "id": "MbM8_D2PBLwG",
    "papermill": {
     "duration": 0.051335,
     "end_time": "2024-12-31T12:06:40.258296",
     "exception": false,
     "start_time": "2024-12-31T12:06:40.206961",
     "status": "completed"
    },
    "tags": []
   },
   "outputs": [],
   "source": []
  },
  {
   "cell_type": "markdown",
   "id": "e5263899",
   "metadata": {
    "id": "Ie9ifpybU_N5",
    "papermill": {
     "duration": 0.051091,
     "end_time": "2024-12-31T12:06:40.360323",
     "exception": false,
     "start_time": "2024-12-31T12:06:40.309232",
     "status": "completed"
    },
    "tags": []
   },
   "source": [
    "# 2019_Q3"
   ]
  },
  {
   "cell_type": "code",
   "execution_count": 110,
   "id": "fd00a6ba",
   "metadata": {
    "execution": {
     "iopub.execute_input": "2024-12-31T12:06:40.472591Z",
     "iopub.status.busy": "2024-12-31T12:06:40.472153Z",
     "iopub.status.idle": "2024-12-31T12:06:40.981524Z",
     "shell.execute_reply": "2024-12-31T12:06:40.980413Z"
    },
    "executionInfo": {
     "elapsed": 1157,
     "status": "ok",
     "timestamp": 1734445445702,
     "user": {
      "displayName": "Tahmida Majumder",
      "userId": "15415648085337204568"
     },
     "user_tz": -480
    },
    "id": "faydXS6IU_N6",
    "outputId": "cc070e3a-3f74-45b4-ab9c-f1da56c17635",
    "papermill": {
     "duration": 0.571102,
     "end_time": "2024-12-31T12:06:40.983356",
     "exception": false,
     "start_time": "2024-12-31T12:06:40.412254",
     "status": "completed"
    },
    "tags": []
   },
   "outputs": [
    {
     "name": "stdout",
     "output_type": "stream",
     "text": [
      "(582606, 5)\n"
     ]
    },
    {
     "data": {
      "text/html": [
       "<div>\n",
       "<style scoped>\n",
       "    .dataframe tbody tr th:only-of-type {\n",
       "        vertical-align: middle;\n",
       "    }\n",
       "\n",
       "    .dataframe tbody tr th {\n",
       "        vertical-align: top;\n",
       "    }\n",
       "\n",
       "    .dataframe thead th {\n",
       "        text-align: right;\n",
       "    }\n",
       "</style>\n",
       "<table border=\"1\" class=\"dataframe\">\n",
       "  <thead>\n",
       "    <tr style=\"text-align: right;\">\n",
       "      <th></th>\n",
       "      <th>Date</th>\n",
       "      <th>Country</th>\n",
       "      <th>City</th>\n",
       "      <th>Specie</th>\n",
       "      <th>max</th>\n",
       "    </tr>\n",
       "  </thead>\n",
       "  <tbody>\n",
       "    <tr>\n",
       "      <th>0</th>\n",
       "      <td>8/20/2019</td>\n",
       "      <td>SK</td>\n",
       "      <td>Košice</td>\n",
       "      <td>dew</td>\n",
       "      <td>18.5</td>\n",
       "    </tr>\n",
       "    <tr>\n",
       "      <th>1</th>\n",
       "      <td>8/22/2019</td>\n",
       "      <td>SK</td>\n",
       "      <td>Košice</td>\n",
       "      <td>dew</td>\n",
       "      <td>14.5</td>\n",
       "    </tr>\n",
       "    <tr>\n",
       "      <th>2</th>\n",
       "      <td>9/20/2019</td>\n",
       "      <td>SK</td>\n",
       "      <td>Košice</td>\n",
       "      <td>dew</td>\n",
       "      <td>4.5</td>\n",
       "    </tr>\n",
       "    <tr>\n",
       "      <th>3</th>\n",
       "      <td>9/27/2019</td>\n",
       "      <td>SK</td>\n",
       "      <td>Košice</td>\n",
       "      <td>dew</td>\n",
       "      <td>12.5</td>\n",
       "    </tr>\n",
       "    <tr>\n",
       "      <th>4</th>\n",
       "      <td>10/1/2019</td>\n",
       "      <td>SK</td>\n",
       "      <td>Košice</td>\n",
       "      <td>dew</td>\n",
       "      <td>8.0</td>\n",
       "    </tr>\n",
       "    <tr>\n",
       "      <th>5</th>\n",
       "      <td>7/8/2019</td>\n",
       "      <td>SK</td>\n",
       "      <td>Košice</td>\n",
       "      <td>dew</td>\n",
       "      <td>13.0</td>\n",
       "    </tr>\n",
       "    <tr>\n",
       "      <th>6</th>\n",
       "      <td>8/3/2019</td>\n",
       "      <td>SK</td>\n",
       "      <td>Košice</td>\n",
       "      <td>dew</td>\n",
       "      <td>16.0</td>\n",
       "    </tr>\n",
       "    <tr>\n",
       "      <th>7</th>\n",
       "      <td>7/21/2019</td>\n",
       "      <td>SK</td>\n",
       "      <td>Košice</td>\n",
       "      <td>dew</td>\n",
       "      <td>18.5</td>\n",
       "    </tr>\n",
       "    <tr>\n",
       "      <th>8</th>\n",
       "      <td>7/23/2019</td>\n",
       "      <td>SK</td>\n",
       "      <td>Košice</td>\n",
       "      <td>dew</td>\n",
       "      <td>15.0</td>\n",
       "    </tr>\n",
       "    <tr>\n",
       "      <th>9</th>\n",
       "      <td>8/11/2019</td>\n",
       "      <td>SK</td>\n",
       "      <td>Košice</td>\n",
       "      <td>dew</td>\n",
       "      <td>18.5</td>\n",
       "    </tr>\n",
       "  </tbody>\n",
       "</table>\n",
       "</div>"
      ],
      "text/plain": [
       "        Date Country    City Specie   max\n",
       "0  8/20/2019      SK  Košice    dew  18.5\n",
       "1  8/22/2019      SK  Košice    dew  14.5\n",
       "2  9/20/2019      SK  Košice    dew   4.5\n",
       "3  9/27/2019      SK  Košice    dew  12.5\n",
       "4  10/1/2019      SK  Košice    dew   8.0\n",
       "5   7/8/2019      SK  Košice    dew  13.0\n",
       "6   8/3/2019      SK  Košice    dew  16.0\n",
       "7  7/21/2019      SK  Košice    dew  18.5\n",
       "8  7/23/2019      SK  Košice    dew  15.0\n",
       "9  8/11/2019      SK  Košice    dew  18.5"
      ]
     },
     "execution_count": 110,
     "metadata": {},
     "output_type": "execute_result"
    }
   ],
   "source": [
    "# Loading the data\n",
    "raw_data_2019_Q3 = pd.read_csv(r\"/kaggle/input/raw-data/airqualitydata-2019Q3.csv\")\n",
    "\n",
    "# print the shape\n",
    "print(raw_data_2019_Q3.shape)\n",
    "\n",
    "#runs the first 5 rows\n",
    "raw_data_2019_Q3.head(10)"
   ]
  },
  {
   "cell_type": "code",
   "execution_count": 111,
   "id": "ddd22e1f",
   "metadata": {
    "execution": {
     "iopub.execute_input": "2024-12-31T12:06:41.092051Z",
     "iopub.status.busy": "2024-12-31T12:06:41.091727Z",
     "iopub.status.idle": "2024-12-31T12:06:41.177599Z",
     "shell.execute_reply": "2024-12-31T12:06:41.176684Z"
    },
    "id": "QefLoWV3U_N6",
    "papermill": {
     "duration": 0.143419,
     "end_time": "2024-12-31T12:06:41.179609",
     "exception": false,
     "start_time": "2024-12-31T12:06:41.036190",
     "status": "completed"
    },
    "tags": []
   },
   "outputs": [],
   "source": [
    "# Convert 'Date' to datetime\n",
    "raw_data_2019_Q3['Date'] = pd.to_datetime(raw_data_2019_Q3['Date'])"
   ]
  },
  {
   "cell_type": "code",
   "execution_count": 112,
   "id": "a009455e",
   "metadata": {
    "execution": {
     "iopub.execute_input": "2024-12-31T12:06:41.286250Z",
     "iopub.status.busy": "2024-12-31T12:06:41.285908Z",
     "iopub.status.idle": "2024-12-31T12:06:41.291646Z",
     "shell.execute_reply": "2024-12-31T12:06:41.290683Z"
    },
    "executionInfo": {
     "elapsed": 10,
     "status": "ok",
     "timestamp": 1734445445703,
     "user": {
      "displayName": "Tahmida Majumder",
      "userId": "15415648085337204568"
     },
     "user_tz": -480
    },
    "id": "M5C6J40TU_N7",
    "outputId": "2edcde12-f403-4e99-b43e-5863fefbe88f",
    "papermill": {
     "duration": 0.06141,
     "end_time": "2024-12-31T12:06:41.293356",
     "exception": false,
     "start_time": "2024-12-31T12:06:41.231946",
     "status": "completed"
    },
    "tags": []
   },
   "outputs": [
    {
     "data": {
      "text/plain": [
       "(582606, 5)"
      ]
     },
     "execution_count": 112,
     "metadata": {},
     "output_type": "execute_result"
    }
   ],
   "source": [
    "raw_data_2019_Q3.shape"
   ]
  },
  {
   "cell_type": "code",
   "execution_count": 113,
   "id": "533a4abc",
   "metadata": {
    "execution": {
     "iopub.execute_input": "2024-12-31T12:06:41.401331Z",
     "iopub.status.busy": "2024-12-31T12:06:41.400974Z",
     "iopub.status.idle": "2024-12-31T12:06:41.809993Z",
     "shell.execute_reply": "2024-12-31T12:06:41.808702Z"
    },
    "id": "ex5MbtTWU_N7",
    "papermill": {
     "duration": 0.466102,
     "end_time": "2024-12-31T12:06:41.811977",
     "exception": false,
     "start_time": "2024-12-31T12:06:41.345875",
     "status": "completed"
    },
    "tags": []
   },
   "outputs": [],
   "source": [
    "# Pivot the data\n",
    "data_df_2019_Q3 = raw_data_2019_Q3.pivot_table(\n",
    "    index=['Date', 'Country', 'City'],  # Grouping columns\n",
    "    columns='Specie',                  # Unique values become columns\n",
    "    values='max',                   # Values to aggregate\n",
    "    aggfunc='mean'                     # Aggregation function\n",
    ").reset_index()\n"
   ]
  },
  {
   "cell_type": "code",
   "execution_count": 114,
   "id": "a139951f",
   "metadata": {
    "execution": {
     "iopub.execute_input": "2024-12-31T12:06:41.918532Z",
     "iopub.status.busy": "2024-12-31T12:06:41.918131Z",
     "iopub.status.idle": "2024-12-31T12:06:41.942517Z",
     "shell.execute_reply": "2024-12-31T12:06:41.941541Z"
    },
    "executionInfo": {
     "elapsed": 10,
     "status": "ok",
     "timestamp": 1734445446314,
     "user": {
      "displayName": "Tahmida Majumder",
      "userId": "15415648085337204568"
     },
     "user_tz": -480
    },
    "id": "fOZF32TvU_N7",
    "outputId": "0e38b96e-d5b6-43eb-e5cc-9d842148aa1f",
    "papermill": {
     "duration": 0.079696,
     "end_time": "2024-12-31T12:06:41.944003",
     "exception": false,
     "start_time": "2024-12-31T12:06:41.864307",
     "status": "completed"
    },
    "tags": []
   },
   "outputs": [
    {
     "name": "stdout",
     "output_type": "stream",
     "text": [
      "(57230, 22)\n"
     ]
    },
    {
     "data": {
      "text/html": [
       "<div>\n",
       "<style scoped>\n",
       "    .dataframe tbody tr th:only-of-type {\n",
       "        vertical-align: middle;\n",
       "    }\n",
       "\n",
       "    .dataframe tbody tr th {\n",
       "        vertical-align: top;\n",
       "    }\n",
       "\n",
       "    .dataframe thead th {\n",
       "        text-align: right;\n",
       "    }\n",
       "</style>\n",
       "<table border=\"1\" class=\"dataframe\">\n",
       "  <thead>\n",
       "    <tr style=\"text-align: right;\">\n",
       "      <th>Specie</th>\n",
       "      <th>Date</th>\n",
       "      <th>Country</th>\n",
       "      <th>City</th>\n",
       "      <th>aqi</th>\n",
       "      <th>co</th>\n",
       "      <th>dew</th>\n",
       "      <th>humidity</th>\n",
       "      <th>mepaqi</th>\n",
       "      <th>no2</th>\n",
       "      <th>o3</th>\n",
       "      <th>...</th>\n",
       "      <th>pm25</th>\n",
       "      <th>pol</th>\n",
       "      <th>precipitation</th>\n",
       "      <th>pressure</th>\n",
       "      <th>so2</th>\n",
       "      <th>temperature</th>\n",
       "      <th>uvi</th>\n",
       "      <th>wd</th>\n",
       "      <th>wind-gust</th>\n",
       "      <th>wind-speed</th>\n",
       "    </tr>\n",
       "  </thead>\n",
       "  <tbody>\n",
       "    <tr>\n",
       "      <th>0</th>\n",
       "      <td>2019-07-01</td>\n",
       "      <td>AE</td>\n",
       "      <td>Abu Dhabi</td>\n",
       "      <td>NaN</td>\n",
       "      <td>NaN</td>\n",
       "      <td>26.0</td>\n",
       "      <td>70.0</td>\n",
       "      <td>NaN</td>\n",
       "      <td>NaN</td>\n",
       "      <td>15.1</td>\n",
       "      <td>...</td>\n",
       "      <td>165.0</td>\n",
       "      <td>NaN</td>\n",
       "      <td>NaN</td>\n",
       "      <td>997.0</td>\n",
       "      <td>NaN</td>\n",
       "      <td>44.0</td>\n",
       "      <td>NaN</td>\n",
       "      <td>NaN</td>\n",
       "      <td>NaN</td>\n",
       "      <td>7.2</td>\n",
       "    </tr>\n",
       "    <tr>\n",
       "      <th>1</th>\n",
       "      <td>2019-07-01</td>\n",
       "      <td>AE</td>\n",
       "      <td>Dubai</td>\n",
       "      <td>NaN</td>\n",
       "      <td>NaN</td>\n",
       "      <td>26.0</td>\n",
       "      <td>62.0</td>\n",
       "      <td>NaN</td>\n",
       "      <td>NaN</td>\n",
       "      <td>NaN</td>\n",
       "      <td>...</td>\n",
       "      <td>159.0</td>\n",
       "      <td>NaN</td>\n",
       "      <td>NaN</td>\n",
       "      <td>997.0</td>\n",
       "      <td>NaN</td>\n",
       "      <td>41.0</td>\n",
       "      <td>NaN</td>\n",
       "      <td>NaN</td>\n",
       "      <td>NaN</td>\n",
       "      <td>7.2</td>\n",
       "    </tr>\n",
       "    <tr>\n",
       "      <th>2</th>\n",
       "      <td>2019-07-01</td>\n",
       "      <td>AR</td>\n",
       "      <td>Buenos Aires</td>\n",
       "      <td>NaN</td>\n",
       "      <td>10.3</td>\n",
       "      <td>4.1</td>\n",
       "      <td>90.2</td>\n",
       "      <td>NaN</td>\n",
       "      <td>15.1</td>\n",
       "      <td>10.6</td>\n",
       "      <td>...</td>\n",
       "      <td>85.0</td>\n",
       "      <td>NaN</td>\n",
       "      <td>NaN</td>\n",
       "      <td>1024.5</td>\n",
       "      <td>NaN</td>\n",
       "      <td>12.7</td>\n",
       "      <td>NaN</td>\n",
       "      <td>337.5</td>\n",
       "      <td>15.8</td>\n",
       "      <td>10.0</td>\n",
       "    </tr>\n",
       "    <tr>\n",
       "      <th>3</th>\n",
       "      <td>2019-07-01</td>\n",
       "      <td>AT</td>\n",
       "      <td>Graz</td>\n",
       "      <td>NaN</td>\n",
       "      <td>0.1</td>\n",
       "      <td>20.0</td>\n",
       "      <td>95.0</td>\n",
       "      <td>NaN</td>\n",
       "      <td>33.4</td>\n",
       "      <td>NaN</td>\n",
       "      <td>...</td>\n",
       "      <td>NaN</td>\n",
       "      <td>NaN</td>\n",
       "      <td>NaN</td>\n",
       "      <td>1019.8</td>\n",
       "      <td>16.8</td>\n",
       "      <td>33.8</td>\n",
       "      <td>NaN</td>\n",
       "      <td>NaN</td>\n",
       "      <td>11.3</td>\n",
       "      <td>5.6</td>\n",
       "    </tr>\n",
       "    <tr>\n",
       "      <th>4</th>\n",
       "      <td>2019-07-01</td>\n",
       "      <td>AT</td>\n",
       "      <td>Innsbruck</td>\n",
       "      <td>NaN</td>\n",
       "      <td>0.1</td>\n",
       "      <td>18.5</td>\n",
       "      <td>91.3</td>\n",
       "      <td>NaN</td>\n",
       "      <td>27.5</td>\n",
       "      <td>NaN</td>\n",
       "      <td>...</td>\n",
       "      <td>NaN</td>\n",
       "      <td>NaN</td>\n",
       "      <td>NaN</td>\n",
       "      <td>1021.5</td>\n",
       "      <td>1.1</td>\n",
       "      <td>31.5</td>\n",
       "      <td>NaN</td>\n",
       "      <td>NaN</td>\n",
       "      <td>15.0</td>\n",
       "      <td>7.2</td>\n",
       "    </tr>\n",
       "  </tbody>\n",
       "</table>\n",
       "<p>5 rows × 22 columns</p>\n",
       "</div>"
      ],
      "text/plain": [
       "Specie       Date Country          City  aqi    co   dew  humidity  mepaqi  \\\n",
       "0      2019-07-01      AE     Abu Dhabi  NaN   NaN  26.0      70.0     NaN   \n",
       "1      2019-07-01      AE         Dubai  NaN   NaN  26.0      62.0     NaN   \n",
       "2      2019-07-01      AR  Buenos Aires  NaN  10.3   4.1      90.2     NaN   \n",
       "3      2019-07-01      AT          Graz  NaN   0.1  20.0      95.0     NaN   \n",
       "4      2019-07-01      AT     Innsbruck  NaN   0.1  18.5      91.3     NaN   \n",
       "\n",
       "Specie   no2    o3  ...   pm25  pol  precipitation  pressure   so2  \\\n",
       "0        NaN  15.1  ...  165.0  NaN            NaN     997.0   NaN   \n",
       "1        NaN   NaN  ...  159.0  NaN            NaN     997.0   NaN   \n",
       "2       15.1  10.6  ...   85.0  NaN            NaN    1024.5   NaN   \n",
       "3       33.4   NaN  ...    NaN  NaN            NaN    1019.8  16.8   \n",
       "4       27.5   NaN  ...    NaN  NaN            NaN    1021.5   1.1   \n",
       "\n",
       "Specie  temperature  uvi     wd  wind-gust  wind-speed  \n",
       "0              44.0  NaN    NaN        NaN         7.2  \n",
       "1              41.0  NaN    NaN        NaN         7.2  \n",
       "2              12.7  NaN  337.5       15.8        10.0  \n",
       "3              33.8  NaN    NaN       11.3         5.6  \n",
       "4              31.5  NaN    NaN       15.0         7.2  \n",
       "\n",
       "[5 rows x 22 columns]"
      ]
     },
     "execution_count": 114,
     "metadata": {},
     "output_type": "execute_result"
    }
   ],
   "source": [
    "print(data_df_2019_Q3.shape)\n",
    "data_df_2019_Q3.head()"
   ]
  },
  {
   "cell_type": "code",
   "execution_count": 115,
   "id": "7c8e9d5e",
   "metadata": {
    "execution": {
     "iopub.execute_input": "2024-12-31T12:06:42.053722Z",
     "iopub.status.busy": "2024-12-31T12:06:42.053302Z",
     "iopub.status.idle": "2024-12-31T12:06:42.067796Z",
     "shell.execute_reply": "2024-12-31T12:06:42.066609Z"
    },
    "executionInfo": {
     "elapsed": 8,
     "status": "ok",
     "timestamp": 1734445446314,
     "user": {
      "displayName": "Tahmida Majumder",
      "userId": "15415648085337204568"
     },
     "user_tz": -480
    },
    "id": "hhIyzbkFU_N8",
    "outputId": "37419db7-4d05-4cdd-dfaa-99b8a622f2e0",
    "papermill": {
     "duration": 0.07032,
     "end_time": "2024-12-31T12:06:42.069792",
     "exception": false,
     "start_time": "2024-12-31T12:06:41.999472",
     "status": "completed"
    },
    "tags": []
   },
   "outputs": [
    {
     "data": {
      "text/plain": [
       "Specie\n",
       "Date                 0\n",
       "Country              0\n",
       "City                 0\n",
       "aqi              55734\n",
       "co               21758\n",
       "dew              14427\n",
       "humidity            74\n",
       "mepaqi           57132\n",
       "no2              10192\n",
       "o3               12979\n",
       "pm1              57100\n",
       "pm10             10728\n",
       "pm25              9627\n",
       "pol              56146\n",
       "precipitation    52356\n",
       "pressure           530\n",
       "so2              17234\n",
       "temperature         67\n",
       "uvi              56261\n",
       "wd               52620\n",
       "wind-gust        18819\n",
       "wind-speed         980\n",
       "dtype: int64"
      ]
     },
     "execution_count": 115,
     "metadata": {},
     "output_type": "execute_result"
    }
   ],
   "source": [
    "data_df_2019_Q3.isnull().sum()"
   ]
  },
  {
   "cell_type": "code",
   "execution_count": null,
   "id": "20f1c0a3",
   "metadata": {
    "id": "2XtakEpkBL0Y",
    "papermill": {
     "duration": 0.051984,
     "end_time": "2024-12-31T12:06:42.176801",
     "exception": false,
     "start_time": "2024-12-31T12:06:42.124817",
     "status": "completed"
    },
    "tags": []
   },
   "outputs": [],
   "source": []
  },
  {
   "cell_type": "markdown",
   "id": "1f04649a",
   "metadata": {
    "id": "TZS06jG3VqRZ",
    "papermill": {
     "duration": 0.052982,
     "end_time": "2024-12-31T12:06:42.282305",
     "exception": false,
     "start_time": "2024-12-31T12:06:42.229323",
     "status": "completed"
    },
    "tags": []
   },
   "source": [
    "# 2019_Q4"
   ]
  },
  {
   "cell_type": "code",
   "execution_count": 116,
   "id": "10a2ed3b",
   "metadata": {
    "execution": {
     "iopub.execute_input": "2024-12-31T12:06:42.389264Z",
     "iopub.status.busy": "2024-12-31T12:06:42.388915Z",
     "iopub.status.idle": "2024-12-31T12:06:42.920741Z",
     "shell.execute_reply": "2024-12-31T12:06:42.919718Z"
    },
    "executionInfo": {
     "elapsed": 1031,
     "status": "ok",
     "timestamp": 1734445447338,
     "user": {
      "displayName": "Tahmida Majumder",
      "userId": "15415648085337204568"
     },
     "user_tz": -480
    },
    "id": "ffHovsxPVqRZ",
    "outputId": "b8e1afa9-a07b-4be0-e104-d29b00781c0f",
    "papermill": {
     "duration": 0.587362,
     "end_time": "2024-12-31T12:06:42.922276",
     "exception": false,
     "start_time": "2024-12-31T12:06:42.334914",
     "status": "completed"
    },
    "tags": []
   },
   "outputs": [
    {
     "name": "stdout",
     "output_type": "stream",
     "text": [
      "(578226, 5)\n"
     ]
    },
    {
     "data": {
      "text/html": [
       "<div>\n",
       "<style scoped>\n",
       "    .dataframe tbody tr th:only-of-type {\n",
       "        vertical-align: middle;\n",
       "    }\n",
       "\n",
       "    .dataframe tbody tr th {\n",
       "        vertical-align: top;\n",
       "    }\n",
       "\n",
       "    .dataframe thead th {\n",
       "        text-align: right;\n",
       "    }\n",
       "</style>\n",
       "<table border=\"1\" class=\"dataframe\">\n",
       "  <thead>\n",
       "    <tr style=\"text-align: right;\">\n",
       "      <th></th>\n",
       "      <th>Date</th>\n",
       "      <th>Country</th>\n",
       "      <th>City</th>\n",
       "      <th>Specie</th>\n",
       "      <th>max</th>\n",
       "    </tr>\n",
       "  </thead>\n",
       "  <tbody>\n",
       "    <tr>\n",
       "      <th>0</th>\n",
       "      <td>11/2/2019</td>\n",
       "      <td>HU</td>\n",
       "      <td>Debrecen</td>\n",
       "      <td>o3</td>\n",
       "      <td>12.2</td>\n",
       "    </tr>\n",
       "    <tr>\n",
       "      <th>1</th>\n",
       "      <td>11/11/2019</td>\n",
       "      <td>HU</td>\n",
       "      <td>Debrecen</td>\n",
       "      <td>o3</td>\n",
       "      <td>15.2</td>\n",
       "    </tr>\n",
       "    <tr>\n",
       "      <th>2</th>\n",
       "      <td>11/12/2019</td>\n",
       "      <td>HU</td>\n",
       "      <td>Debrecen</td>\n",
       "      <td>o3</td>\n",
       "      <td>18.9</td>\n",
       "    </tr>\n",
       "    <tr>\n",
       "      <th>3</th>\n",
       "      <td>12/22/2019</td>\n",
       "      <td>HU</td>\n",
       "      <td>Debrecen</td>\n",
       "      <td>o3</td>\n",
       "      <td>24.1</td>\n",
       "    </tr>\n",
       "    <tr>\n",
       "      <th>4</th>\n",
       "      <td>1/5/2020</td>\n",
       "      <td>HU</td>\n",
       "      <td>Debrecen</td>\n",
       "      <td>o3</td>\n",
       "      <td>26.4</td>\n",
       "    </tr>\n",
       "    <tr>\n",
       "      <th>5</th>\n",
       "      <td>10/4/2019</td>\n",
       "      <td>HU</td>\n",
       "      <td>Debrecen</td>\n",
       "      <td>o3</td>\n",
       "      <td>25.6</td>\n",
       "    </tr>\n",
       "    <tr>\n",
       "      <th>6</th>\n",
       "      <td>10/9/2019</td>\n",
       "      <td>HU</td>\n",
       "      <td>Debrecen</td>\n",
       "      <td>o3</td>\n",
       "      <td>35.2</td>\n",
       "    </tr>\n",
       "    <tr>\n",
       "      <th>7</th>\n",
       "      <td>11/20/2019</td>\n",
       "      <td>HU</td>\n",
       "      <td>Debrecen</td>\n",
       "      <td>o3</td>\n",
       "      <td>24.7</td>\n",
       "    </tr>\n",
       "    <tr>\n",
       "      <th>8</th>\n",
       "      <td>12/11/2019</td>\n",
       "      <td>HU</td>\n",
       "      <td>Debrecen</td>\n",
       "      <td>o3</td>\n",
       "      <td>24.4</td>\n",
       "    </tr>\n",
       "    <tr>\n",
       "      <th>9</th>\n",
       "      <td>12/15/2019</td>\n",
       "      <td>HU</td>\n",
       "      <td>Debrecen</td>\n",
       "      <td>o3</td>\n",
       "      <td>16.8</td>\n",
       "    </tr>\n",
       "  </tbody>\n",
       "</table>\n",
       "</div>"
      ],
      "text/plain": [
       "         Date Country      City Specie   max\n",
       "0   11/2/2019      HU  Debrecen     o3  12.2\n",
       "1  11/11/2019      HU  Debrecen     o3  15.2\n",
       "2  11/12/2019      HU  Debrecen     o3  18.9\n",
       "3  12/22/2019      HU  Debrecen     o3  24.1\n",
       "4    1/5/2020      HU  Debrecen     o3  26.4\n",
       "5   10/4/2019      HU  Debrecen     o3  25.6\n",
       "6   10/9/2019      HU  Debrecen     o3  35.2\n",
       "7  11/20/2019      HU  Debrecen     o3  24.7\n",
       "8  12/11/2019      HU  Debrecen     o3  24.4\n",
       "9  12/15/2019      HU  Debrecen     o3  16.8"
      ]
     },
     "execution_count": 116,
     "metadata": {},
     "output_type": "execute_result"
    }
   ],
   "source": [
    "# Loading the data\n",
    "raw_data_2019_Q4 = pd.read_csv(r\"/kaggle/input/raw-data/airqualitydata-2019Q4.csv\")\n",
    "\n",
    "# print the shape\n",
    "print(raw_data_2019_Q4.shape)\n",
    "\n",
    "#runs the first 5 rows\n",
    "raw_data_2019_Q4.head(10)"
   ]
  },
  {
   "cell_type": "code",
   "execution_count": 117,
   "id": "89b4b6f2",
   "metadata": {
    "execution": {
     "iopub.execute_input": "2024-12-31T12:06:43.032016Z",
     "iopub.status.busy": "2024-12-31T12:06:43.031673Z",
     "iopub.status.idle": "2024-12-31T12:06:43.122554Z",
     "shell.execute_reply": "2024-12-31T12:06:43.121482Z"
    },
    "id": "kqSYvto8VqRZ",
    "papermill": {
     "duration": 0.146987,
     "end_time": "2024-12-31T12:06:43.124449",
     "exception": false,
     "start_time": "2024-12-31T12:06:42.977462",
     "status": "completed"
    },
    "tags": []
   },
   "outputs": [],
   "source": [
    "# Convert 'Date' to datetime\n",
    "raw_data_2019_Q4['Date'] = pd.to_datetime(raw_data_2019_Q4['Date'])"
   ]
  },
  {
   "cell_type": "code",
   "execution_count": 118,
   "id": "047e1667",
   "metadata": {
    "execution": {
     "iopub.execute_input": "2024-12-31T12:06:43.231652Z",
     "iopub.status.busy": "2024-12-31T12:06:43.231217Z",
     "iopub.status.idle": "2024-12-31T12:06:43.236814Z",
     "shell.execute_reply": "2024-12-31T12:06:43.235792Z"
    },
    "executionInfo": {
     "elapsed": 9,
     "status": "ok",
     "timestamp": 1734445447338,
     "user": {
      "displayName": "Tahmida Majumder",
      "userId": "15415648085337204568"
     },
     "user_tz": -480
    },
    "id": "b8hAqhbUVqRZ",
    "outputId": "384d481e-bb79-4ee6-f30b-1e2244f25960",
    "papermill": {
     "duration": 0.061058,
     "end_time": "2024-12-31T12:06:43.238416",
     "exception": false,
     "start_time": "2024-12-31T12:06:43.177358",
     "status": "completed"
    },
    "tags": []
   },
   "outputs": [
    {
     "data": {
      "text/plain": [
       "(578226, 5)"
      ]
     },
     "execution_count": 118,
     "metadata": {},
     "output_type": "execute_result"
    }
   ],
   "source": [
    "raw_data_2019_Q4.shape"
   ]
  },
  {
   "cell_type": "code",
   "execution_count": 119,
   "id": "907c44c6",
   "metadata": {
    "execution": {
     "iopub.execute_input": "2024-12-31T12:06:43.346099Z",
     "iopub.status.busy": "2024-12-31T12:06:43.345746Z",
     "iopub.status.idle": "2024-12-31T12:06:43.774228Z",
     "shell.execute_reply": "2024-12-31T12:06:43.773152Z"
    },
    "id": "hzPxkgpeVqRa",
    "papermill": {
     "duration": 0.484439,
     "end_time": "2024-12-31T12:06:43.776189",
     "exception": false,
     "start_time": "2024-12-31T12:06:43.291750",
     "status": "completed"
    },
    "tags": []
   },
   "outputs": [],
   "source": [
    "# Pivot the data\n",
    "data_df_2019_Q4 = raw_data_2019_Q4.pivot_table(\n",
    "    index=['Date', 'Country', 'City'],  # Grouping columns\n",
    "    columns='Specie',                  # Unique values become columns\n",
    "    values='max',                   # Values to aggregate\n",
    "    aggfunc='mean'                     # Aggregation function\n",
    ").reset_index()"
   ]
  },
  {
   "cell_type": "code",
   "execution_count": 120,
   "id": "6cc0eaa1",
   "metadata": {
    "execution": {
     "iopub.execute_input": "2024-12-31T12:06:43.885246Z",
     "iopub.status.busy": "2024-12-31T12:06:43.884868Z",
     "iopub.status.idle": "2024-12-31T12:06:43.910773Z",
     "shell.execute_reply": "2024-12-31T12:06:43.909834Z"
    },
    "executionInfo": {
     "elapsed": 12,
     "status": "ok",
     "timestamp": 1734445447744,
     "user": {
      "displayName": "Tahmida Majumder",
      "userId": "15415648085337204568"
     },
     "user_tz": -480
    },
    "id": "xn9BPhn1VqRa",
    "outputId": "c9730021-96bd-44a5-9fe8-866bdb9f88fd",
    "papermill": {
     "duration": 0.082089,
     "end_time": "2024-12-31T12:06:43.912403",
     "exception": false,
     "start_time": "2024-12-31T12:06:43.830314",
     "status": "completed"
    },
    "tags": []
   },
   "outputs": [
    {
     "name": "stdout",
     "output_type": "stream",
     "text": [
      "(57861, 25)\n"
     ]
    },
    {
     "data": {
      "text/html": [
       "<div>\n",
       "<style scoped>\n",
       "    .dataframe tbody tr th:only-of-type {\n",
       "        vertical-align: middle;\n",
       "    }\n",
       "\n",
       "    .dataframe tbody tr th {\n",
       "        vertical-align: top;\n",
       "    }\n",
       "\n",
       "    .dataframe thead th {\n",
       "        text-align: right;\n",
       "    }\n",
       "</style>\n",
       "<table border=\"1\" class=\"dataframe\">\n",
       "  <thead>\n",
       "    <tr style=\"text-align: right;\">\n",
       "      <th>Specie</th>\n",
       "      <th>Date</th>\n",
       "      <th>Country</th>\n",
       "      <th>City</th>\n",
       "      <th>aqi</th>\n",
       "      <th>co</th>\n",
       "      <th>dew</th>\n",
       "      <th>humidity</th>\n",
       "      <th>mepaqi</th>\n",
       "      <th>no2</th>\n",
       "      <th>o3</th>\n",
       "      <th>...</th>\n",
       "      <th>pm25</th>\n",
       "      <th>pol</th>\n",
       "      <th>precipitation</th>\n",
       "      <th>pressure</th>\n",
       "      <th>so2</th>\n",
       "      <th>temperature</th>\n",
       "      <th>uvi</th>\n",
       "      <th>wd</th>\n",
       "      <th>wind-gust</th>\n",
       "      <th>wind-speed</th>\n",
       "    </tr>\n",
       "  </thead>\n",
       "  <tbody>\n",
       "    <tr>\n",
       "      <th>0</th>\n",
       "      <td>2018-12-31</td>\n",
       "      <td>AE</td>\n",
       "      <td>Abu Dhabi</td>\n",
       "      <td>NaN</td>\n",
       "      <td>NaN</td>\n",
       "      <td>19.0</td>\n",
       "      <td>94.0</td>\n",
       "      <td>NaN</td>\n",
       "      <td>49.4</td>\n",
       "      <td>56.5</td>\n",
       "      <td>...</td>\n",
       "      <td>152.0</td>\n",
       "      <td>NaN</td>\n",
       "      <td>NaN</td>\n",
       "      <td>1021.0</td>\n",
       "      <td>27.9</td>\n",
       "      <td>27.0</td>\n",
       "      <td>NaN</td>\n",
       "      <td>NaN</td>\n",
       "      <td>NaN</td>\n",
       "      <td>6.1</td>\n",
       "    </tr>\n",
       "    <tr>\n",
       "      <th>1</th>\n",
       "      <td>2018-12-31</td>\n",
       "      <td>AR</td>\n",
       "      <td>Buenos Aires</td>\n",
       "      <td>NaN</td>\n",
       "      <td>NaN</td>\n",
       "      <td>21.0</td>\n",
       "      <td>78.0</td>\n",
       "      <td>NaN</td>\n",
       "      <td>NaN</td>\n",
       "      <td>NaN</td>\n",
       "      <td>...</td>\n",
       "      <td>NaN</td>\n",
       "      <td>NaN</td>\n",
       "      <td>NaN</td>\n",
       "      <td>1011.0</td>\n",
       "      <td>NaN</td>\n",
       "      <td>23.8</td>\n",
       "      <td>NaN</td>\n",
       "      <td>0.0</td>\n",
       "      <td>188.2</td>\n",
       "      <td>17.3</td>\n",
       "    </tr>\n",
       "    <tr>\n",
       "      <th>2</th>\n",
       "      <td>2018-12-31</td>\n",
       "      <td>AT</td>\n",
       "      <td>Graz</td>\n",
       "      <td>NaN</td>\n",
       "      <td>0.1</td>\n",
       "      <td>NaN</td>\n",
       "      <td>82.0</td>\n",
       "      <td>NaN</td>\n",
       "      <td>35.2</td>\n",
       "      <td>NaN</td>\n",
       "      <td>...</td>\n",
       "      <td>NaN</td>\n",
       "      <td>NaN</td>\n",
       "      <td>NaN</td>\n",
       "      <td>1043.7</td>\n",
       "      <td>2.6</td>\n",
       "      <td>9.0</td>\n",
       "      <td>NaN</td>\n",
       "      <td>NaN</td>\n",
       "      <td>8.6</td>\n",
       "      <td>4.5</td>\n",
       "    </tr>\n",
       "    <tr>\n",
       "      <th>3</th>\n",
       "      <td>2018-12-31</td>\n",
       "      <td>AT</td>\n",
       "      <td>Innsbruck</td>\n",
       "      <td>NaN</td>\n",
       "      <td>0.1</td>\n",
       "      <td>0.5</td>\n",
       "      <td>100.0</td>\n",
       "      <td>NaN</td>\n",
       "      <td>42.5</td>\n",
       "      <td>NaN</td>\n",
       "      <td>...</td>\n",
       "      <td>NaN</td>\n",
       "      <td>NaN</td>\n",
       "      <td>NaN</td>\n",
       "      <td>1034.5</td>\n",
       "      <td>1.8</td>\n",
       "      <td>2.2</td>\n",
       "      <td>NaN</td>\n",
       "      <td>NaN</td>\n",
       "      <td>23.3</td>\n",
       "      <td>11.3</td>\n",
       "    </tr>\n",
       "    <tr>\n",
       "      <th>4</th>\n",
       "      <td>2018-12-31</td>\n",
       "      <td>AT</td>\n",
       "      <td>Linz</td>\n",
       "      <td>NaN</td>\n",
       "      <td>0.1</td>\n",
       "      <td>3.0</td>\n",
       "      <td>100.0</td>\n",
       "      <td>NaN</td>\n",
       "      <td>18.3</td>\n",
       "      <td>NaN</td>\n",
       "      <td>...</td>\n",
       "      <td>82.0</td>\n",
       "      <td>NaN</td>\n",
       "      <td>NaN</td>\n",
       "      <td>1036.9</td>\n",
       "      <td>17.3</td>\n",
       "      <td>5.1</td>\n",
       "      <td>NaN</td>\n",
       "      <td>NaN</td>\n",
       "      <td>11.7</td>\n",
       "      <td>6.9</td>\n",
       "    </tr>\n",
       "  </tbody>\n",
       "</table>\n",
       "<p>5 rows × 22 columns</p>\n",
       "</div>"
      ],
      "text/plain": [
       "Specie       Date Country          City  aqi   co   dew  humidity  mepaqi  \\\n",
       "0      2018-12-31      AE     Abu Dhabi  NaN  NaN  19.0      94.0     NaN   \n",
       "1      2018-12-31      AR  Buenos Aires  NaN  NaN  21.0      78.0     NaN   \n",
       "2      2018-12-31      AT          Graz  NaN  0.1   NaN      82.0     NaN   \n",
       "3      2018-12-31      AT     Innsbruck  NaN  0.1   0.5     100.0     NaN   \n",
       "4      2018-12-31      AT          Linz  NaN  0.1   3.0     100.0     NaN   \n",
       "\n",
       "Specie   no2    o3  ...   pm25  pol  precipitation  pressure   so2  \\\n",
       "0       49.4  56.5  ...  152.0  NaN            NaN    1021.0  27.9   \n",
       "1        NaN   NaN  ...    NaN  NaN            NaN    1011.0   NaN   \n",
       "2       35.2   NaN  ...    NaN  NaN            NaN    1043.7   2.6   \n",
       "3       42.5   NaN  ...    NaN  NaN            NaN    1034.5   1.8   \n",
       "4       18.3   NaN  ...   82.0  NaN            NaN    1036.9  17.3   \n",
       "\n",
       "Specie  temperature  uvi   wd  wind-gust  wind-speed  \n",
       "0              27.0  NaN  NaN        NaN         6.1  \n",
       "1              23.8  NaN  0.0      188.2        17.3  \n",
       "2               9.0  NaN  NaN        8.6         4.5  \n",
       "3               2.2  NaN  NaN       23.3        11.3  \n",
       "4               5.1  NaN  NaN       11.7         6.9  \n",
       "\n",
       "[5 rows x 22 columns]"
      ]
     },
     "execution_count": 120,
     "metadata": {},
     "output_type": "execute_result"
    }
   ],
   "source": [
    "print(data_df_2019_Q4.shape)\n",
    "data_df_2019_Q1.head()"
   ]
  },
  {
   "cell_type": "code",
   "execution_count": 121,
   "id": "3db27089",
   "metadata": {
    "execution": {
     "iopub.execute_input": "2024-12-31T12:06:44.023139Z",
     "iopub.status.busy": "2024-12-31T12:06:44.022815Z",
     "iopub.status.idle": "2024-12-31T12:06:44.037263Z",
     "shell.execute_reply": "2024-12-31T12:06:44.036338Z"
    },
    "executionInfo": {
     "elapsed": 8,
     "status": "ok",
     "timestamp": 1734445447744,
     "user": {
      "displayName": "Tahmida Majumder",
      "userId": "15415648085337204568"
     },
     "user_tz": -480
    },
    "id": "xbfysSPtVqRa",
    "outputId": "88dbf73b-036e-4118-940b-084a557c7a45",
    "papermill": {
     "duration": 0.072523,
     "end_time": "2024-12-31T12:06:44.038949",
     "exception": false,
     "start_time": "2024-12-31T12:06:43.966426",
     "status": "completed"
    },
    "tags": []
   },
   "outputs": [
    {
     "data": {
      "text/plain": [
       "Specie\n",
       "Date                 0\n",
       "Country              0\n",
       "City                 0\n",
       "aqi              56388\n",
       "co               21943\n",
       "dew              16361\n",
       "humidity          2755\n",
       "mepaqi           57763\n",
       "neph             57795\n",
       "no2              10772\n",
       "o3               13984\n",
       "pm1              57569\n",
       "pm10             10930\n",
       "pm25              9774\n",
       "pol              56418\n",
       "precipitation    54213\n",
       "pressure          3069\n",
       "so2              17888\n",
       "temperature       2730\n",
       "uvi              56952\n",
       "wd               53664\n",
       "wind gust        54986\n",
       "wind speed       53344\n",
       "wind-gust        21844\n",
       "wind-speed        3574\n",
       "dtype: int64"
      ]
     },
     "execution_count": 121,
     "metadata": {},
     "output_type": "execute_result"
    }
   ],
   "source": [
    "data_df_2019_Q4.isnull().sum()"
   ]
  },
  {
   "cell_type": "code",
   "execution_count": null,
   "id": "26185aca",
   "metadata": {
    "id": "6pYMJ_iMV4C5",
    "papermill": {
     "duration": 0.054413,
     "end_time": "2024-12-31T12:06:44.148573",
     "exception": false,
     "start_time": "2024-12-31T12:06:44.094160",
     "status": "completed"
    },
    "tags": []
   },
   "outputs": [],
   "source": []
  },
  {
   "cell_type": "markdown",
   "id": "6665f8e2",
   "metadata": {
    "id": "mKFAh6nXV5u6",
    "papermill": {
     "duration": 0.052956,
     "end_time": "2024-12-31T12:06:44.255567",
     "exception": false,
     "start_time": "2024-12-31T12:06:44.202611",
     "status": "completed"
    },
    "tags": []
   },
   "source": [
    "# 2018_H1"
   ]
  },
  {
   "cell_type": "code",
   "execution_count": 122,
   "id": "ddf9b7e9",
   "metadata": {
    "execution": {
     "iopub.execute_input": "2024-12-31T12:06:44.362523Z",
     "iopub.status.busy": "2024-12-31T12:06:44.362141Z",
     "iopub.status.idle": "2024-12-31T12:06:44.862309Z",
     "shell.execute_reply": "2024-12-31T12:06:44.861299Z"
    },
    "executionInfo": {
     "elapsed": 594,
     "status": "ok",
     "timestamp": 1734445448331,
     "user": {
      "displayName": "Tahmida Majumder",
      "userId": "15415648085337204568"
     },
     "user_tz": -480
    },
    "id": "QZSML_ewV5u6",
    "outputId": "5febc503-d96a-4ac5-811c-0a4acba0f690",
    "papermill": {
     "duration": 0.555742,
     "end_time": "2024-12-31T12:06:44.863940",
     "exception": false,
     "start_time": "2024-12-31T12:06:44.308198",
     "status": "completed"
    },
    "tags": []
   },
   "outputs": [
    {
     "name": "stdout",
     "output_type": "stream",
     "text": [
      "(552440, 5)\n"
     ]
    },
    {
     "data": {
      "text/html": [
       "<div>\n",
       "<style scoped>\n",
       "    .dataframe tbody tr th:only-of-type {\n",
       "        vertical-align: middle;\n",
       "    }\n",
       "\n",
       "    .dataframe tbody tr th {\n",
       "        vertical-align: top;\n",
       "    }\n",
       "\n",
       "    .dataframe thead th {\n",
       "        text-align: right;\n",
       "    }\n",
       "</style>\n",
       "<table border=\"1\" class=\"dataframe\">\n",
       "  <thead>\n",
       "    <tr style=\"text-align: right;\">\n",
       "      <th></th>\n",
       "      <th>Date</th>\n",
       "      <th>Country</th>\n",
       "      <th>City</th>\n",
       "      <th>Specie</th>\n",
       "      <th>max</th>\n",
       "    </tr>\n",
       "  </thead>\n",
       "  <tbody>\n",
       "    <tr>\n",
       "      <th>0</th>\n",
       "      <td>4/19/2018</td>\n",
       "      <td>HR</td>\n",
       "      <td>Zagreb</td>\n",
       "      <td>pm10</td>\n",
       "      <td>66.0</td>\n",
       "    </tr>\n",
       "    <tr>\n",
       "      <th>1</th>\n",
       "      <td>5/3/2018</td>\n",
       "      <td>HR</td>\n",
       "      <td>Zagreb</td>\n",
       "      <td>pm10</td>\n",
       "      <td>46.0</td>\n",
       "    </tr>\n",
       "    <tr>\n",
       "      <th>2</th>\n",
       "      <td>5/8/2018</td>\n",
       "      <td>HR</td>\n",
       "      <td>Zagreb</td>\n",
       "      <td>pm10</td>\n",
       "      <td>33.0</td>\n",
       "    </tr>\n",
       "    <tr>\n",
       "      <th>3</th>\n",
       "      <td>5/31/2018</td>\n",
       "      <td>HR</td>\n",
       "      <td>Zagreb</td>\n",
       "      <td>pm10</td>\n",
       "      <td>60.0</td>\n",
       "    </tr>\n",
       "    <tr>\n",
       "      <th>4</th>\n",
       "      <td>6/22/2018</td>\n",
       "      <td>HR</td>\n",
       "      <td>Zagreb</td>\n",
       "      <td>pm10</td>\n",
       "      <td>60.0</td>\n",
       "    </tr>\n",
       "    <tr>\n",
       "      <th>5</th>\n",
       "      <td>3/2/2018</td>\n",
       "      <td>HR</td>\n",
       "      <td>Zagreb</td>\n",
       "      <td>pm10</td>\n",
       "      <td>72.0</td>\n",
       "    </tr>\n",
       "    <tr>\n",
       "      <th>6</th>\n",
       "      <td>2/20/2018</td>\n",
       "      <td>HR</td>\n",
       "      <td>Zagreb</td>\n",
       "      <td>pm10</td>\n",
       "      <td>21.0</td>\n",
       "    </tr>\n",
       "    <tr>\n",
       "      <th>7</th>\n",
       "      <td>2/23/2018</td>\n",
       "      <td>HR</td>\n",
       "      <td>Zagreb</td>\n",
       "      <td>pm10</td>\n",
       "      <td>26.0</td>\n",
       "    </tr>\n",
       "    <tr>\n",
       "      <th>8</th>\n",
       "      <td>3/12/2018</td>\n",
       "      <td>HR</td>\n",
       "      <td>Zagreb</td>\n",
       "      <td>pm10</td>\n",
       "      <td>68.0</td>\n",
       "    </tr>\n",
       "    <tr>\n",
       "      <th>9</th>\n",
       "      <td>3/25/2018</td>\n",
       "      <td>HR</td>\n",
       "      <td>Zagreb</td>\n",
       "      <td>pm10</td>\n",
       "      <td>46.0</td>\n",
       "    </tr>\n",
       "  </tbody>\n",
       "</table>\n",
       "</div>"
      ],
      "text/plain": [
       "        Date Country    City Specie   max\n",
       "0  4/19/2018      HR  Zagreb   pm10  66.0\n",
       "1   5/3/2018      HR  Zagreb   pm10  46.0\n",
       "2   5/8/2018      HR  Zagreb   pm10  33.0\n",
       "3  5/31/2018      HR  Zagreb   pm10  60.0\n",
       "4  6/22/2018      HR  Zagreb   pm10  60.0\n",
       "5   3/2/2018      HR  Zagreb   pm10  72.0\n",
       "6  2/20/2018      HR  Zagreb   pm10  21.0\n",
       "7  2/23/2018      HR  Zagreb   pm10  26.0\n",
       "8  3/12/2018      HR  Zagreb   pm10  68.0\n",
       "9  3/25/2018      HR  Zagreb   pm10  46.0"
      ]
     },
     "execution_count": 122,
     "metadata": {},
     "output_type": "execute_result"
    }
   ],
   "source": [
    "# Loading the data\n",
    "raw_data_2018_H1 = pd.read_csv(r\"/kaggle/input/raw-data/airqualitydata-2018H1.csv\")\n",
    "\n",
    "# print the shape\n",
    "print(raw_data_2018_H1.shape)\n",
    "\n",
    "#runs the first 5 rows\n",
    "raw_data_2018_H1.head(10)"
   ]
  },
  {
   "cell_type": "code",
   "execution_count": 123,
   "id": "bd2ead96",
   "metadata": {
    "execution": {
     "iopub.execute_input": "2024-12-31T12:06:44.972957Z",
     "iopub.status.busy": "2024-12-31T12:06:44.972610Z",
     "iopub.status.idle": "2024-12-31T12:06:45.054846Z",
     "shell.execute_reply": "2024-12-31T12:06:45.053702Z"
    },
    "id": "JPelQxICV5u7",
    "papermill": {
     "duration": 0.139512,
     "end_time": "2024-12-31T12:06:45.056809",
     "exception": false,
     "start_time": "2024-12-31T12:06:44.917297",
     "status": "completed"
    },
    "tags": []
   },
   "outputs": [],
   "source": [
    "# Convert 'Date' to datetime\n",
    "raw_data_2018_H1['Date'] = pd.to_datetime(raw_data_2018_H1['Date'])"
   ]
  },
  {
   "cell_type": "code",
   "execution_count": 124,
   "id": "9b444333",
   "metadata": {
    "execution": {
     "iopub.execute_input": "2024-12-31T12:06:45.167877Z",
     "iopub.status.busy": "2024-12-31T12:06:45.167534Z",
     "iopub.status.idle": "2024-12-31T12:06:45.173289Z",
     "shell.execute_reply": "2024-12-31T12:06:45.172277Z"
    },
    "executionInfo": {
     "elapsed": 5,
     "status": "ok",
     "timestamp": 1734445448690,
     "user": {
      "displayName": "Tahmida Majumder",
      "userId": "15415648085337204568"
     },
     "user_tz": -480
    },
    "id": "ZHkuZ82UV5u7",
    "outputId": "e5e8997a-e0d3-48cb-abcb-e898a59d20ca",
    "papermill": {
     "duration": 0.063979,
     "end_time": "2024-12-31T12:06:45.175074",
     "exception": false,
     "start_time": "2024-12-31T12:06:45.111095",
     "status": "completed"
    },
    "tags": []
   },
   "outputs": [
    {
     "data": {
      "text/plain": [
       "(552440, 5)"
      ]
     },
     "execution_count": 124,
     "metadata": {},
     "output_type": "execute_result"
    }
   ],
   "source": [
    "raw_data_2018_H1.shape"
   ]
  },
  {
   "cell_type": "code",
   "execution_count": 125,
   "id": "feb5aff5",
   "metadata": {
    "execution": {
     "iopub.execute_input": "2024-12-31T12:06:45.284886Z",
     "iopub.status.busy": "2024-12-31T12:06:45.284546Z",
     "iopub.status.idle": "2024-12-31T12:06:45.703145Z",
     "shell.execute_reply": "2024-12-31T12:06:45.702274Z"
    },
    "id": "V3SCxI-cV5u7",
    "papermill": {
     "duration": 0.474998,
     "end_time": "2024-12-31T12:06:45.704994",
     "exception": false,
     "start_time": "2024-12-31T12:06:45.229996",
     "status": "completed"
    },
    "tags": []
   },
   "outputs": [],
   "source": [
    "# Pivot the data\n",
    "data_df_2018_H1 = raw_data_2018_H1.pivot_table(\n",
    "    index=['Date', 'Country', 'City'],  # Grouping columns\n",
    "    columns='Specie',                  # Unique values become columns\n",
    "    values='max',                   # Values to aggregate\n",
    "    aggfunc='mean'                     # Aggregation function\n",
    ").reset_index()"
   ]
  },
  {
   "cell_type": "code",
   "execution_count": 126,
   "id": "351d6e16",
   "metadata": {
    "execution": {
     "iopub.execute_input": "2024-12-31T12:06:45.814636Z",
     "iopub.status.busy": "2024-12-31T12:06:45.814238Z",
     "iopub.status.idle": "2024-12-31T12:06:45.836930Z",
     "shell.execute_reply": "2024-12-31T12:06:45.836063Z"
    },
    "executionInfo": {
     "elapsed": 13,
     "status": "ok",
     "timestamp": 1734445449140,
     "user": {
      "displayName": "Tahmida Majumder",
      "userId": "15415648085337204568"
     },
     "user_tz": -480
    },
    "id": "saMJRBpZV5u7",
    "outputId": "789956c9-ac5b-46f4-ddc0-d49b61d8df58",
    "papermill": {
     "duration": 0.079504,
     "end_time": "2024-12-31T12:06:45.838516",
     "exception": false,
     "start_time": "2024-12-31T12:06:45.759012",
     "status": "completed"
    },
    "tags": []
   },
   "outputs": [
    {
     "name": "stdout",
     "output_type": "stream",
     "text": [
      "(92410, 22)\n"
     ]
    },
    {
     "data": {
      "text/html": [
       "<div>\n",
       "<style scoped>\n",
       "    .dataframe tbody tr th:only-of-type {\n",
       "        vertical-align: middle;\n",
       "    }\n",
       "\n",
       "    .dataframe tbody tr th {\n",
       "        vertical-align: top;\n",
       "    }\n",
       "\n",
       "    .dataframe thead th {\n",
       "        text-align: right;\n",
       "    }\n",
       "</style>\n",
       "<table border=\"1\" class=\"dataframe\">\n",
       "  <thead>\n",
       "    <tr style=\"text-align: right;\">\n",
       "      <th>Specie</th>\n",
       "      <th>Date</th>\n",
       "      <th>Country</th>\n",
       "      <th>City</th>\n",
       "      <th>aqi</th>\n",
       "      <th>co</th>\n",
       "      <th>d</th>\n",
       "      <th>humidity</th>\n",
       "      <th>mepaqi</th>\n",
       "      <th>no2</th>\n",
       "      <th>o3</th>\n",
       "      <th>...</th>\n",
       "      <th>pm25</th>\n",
       "      <th>pol</th>\n",
       "      <th>precipitation</th>\n",
       "      <th>pressure</th>\n",
       "      <th>so2</th>\n",
       "      <th>temperature</th>\n",
       "      <th>uvi</th>\n",
       "      <th>wd</th>\n",
       "      <th>wind-gust</th>\n",
       "      <th>wind-speed</th>\n",
       "    </tr>\n",
       "  </thead>\n",
       "  <tbody>\n",
       "    <tr>\n",
       "      <th>0</th>\n",
       "      <td>2018-01-01</td>\n",
       "      <td>AE</td>\n",
       "      <td>Abu Dhabi</td>\n",
       "      <td>NaN</td>\n",
       "      <td>NaN</td>\n",
       "      <td>NaN</td>\n",
       "      <td>NaN</td>\n",
       "      <td>NaN</td>\n",
       "      <td>NaN</td>\n",
       "      <td>NaN</td>\n",
       "      <td>...</td>\n",
       "      <td>119.0</td>\n",
       "      <td>NaN</td>\n",
       "      <td>NaN</td>\n",
       "      <td>NaN</td>\n",
       "      <td>NaN</td>\n",
       "      <td>NaN</td>\n",
       "      <td>NaN</td>\n",
       "      <td>NaN</td>\n",
       "      <td>NaN</td>\n",
       "      <td>NaN</td>\n",
       "    </tr>\n",
       "    <tr>\n",
       "      <th>1</th>\n",
       "      <td>2018-01-01</td>\n",
       "      <td>AR</td>\n",
       "      <td>Buenos Aires</td>\n",
       "      <td>NaN</td>\n",
       "      <td>7.3</td>\n",
       "      <td>NaN</td>\n",
       "      <td>NaN</td>\n",
       "      <td>NaN</td>\n",
       "      <td>14.2</td>\n",
       "      <td>15.1</td>\n",
       "      <td>...</td>\n",
       "      <td>85.0</td>\n",
       "      <td>NaN</td>\n",
       "      <td>NaN</td>\n",
       "      <td>NaN</td>\n",
       "      <td>2.1</td>\n",
       "      <td>NaN</td>\n",
       "      <td>NaN</td>\n",
       "      <td>NaN</td>\n",
       "      <td>NaN</td>\n",
       "      <td>NaN</td>\n",
       "    </tr>\n",
       "    <tr>\n",
       "      <th>2</th>\n",
       "      <td>2018-01-01</td>\n",
       "      <td>AT</td>\n",
       "      <td>Graz</td>\n",
       "      <td>NaN</td>\n",
       "      <td>0.1</td>\n",
       "      <td>NaN</td>\n",
       "      <td>NaN</td>\n",
       "      <td>NaN</td>\n",
       "      <td>43.9</td>\n",
       "      <td>NaN</td>\n",
       "      <td>...</td>\n",
       "      <td>NaN</td>\n",
       "      <td>NaN</td>\n",
       "      <td>NaN</td>\n",
       "      <td>NaN</td>\n",
       "      <td>10.9</td>\n",
       "      <td>NaN</td>\n",
       "      <td>NaN</td>\n",
       "      <td>NaN</td>\n",
       "      <td>NaN</td>\n",
       "      <td>NaN</td>\n",
       "    </tr>\n",
       "    <tr>\n",
       "      <th>3</th>\n",
       "      <td>2018-01-01</td>\n",
       "      <td>AT</td>\n",
       "      <td>Innsbruck</td>\n",
       "      <td>NaN</td>\n",
       "      <td>0.1</td>\n",
       "      <td>NaN</td>\n",
       "      <td>NaN</td>\n",
       "      <td>NaN</td>\n",
       "      <td>33.9</td>\n",
       "      <td>NaN</td>\n",
       "      <td>...</td>\n",
       "      <td>NaN</td>\n",
       "      <td>NaN</td>\n",
       "      <td>NaN</td>\n",
       "      <td>NaN</td>\n",
       "      <td>2.1</td>\n",
       "      <td>NaN</td>\n",
       "      <td>NaN</td>\n",
       "      <td>NaN</td>\n",
       "      <td>NaN</td>\n",
       "      <td>NaN</td>\n",
       "    </tr>\n",
       "    <tr>\n",
       "      <th>4</th>\n",
       "      <td>2018-01-01</td>\n",
       "      <td>AT</td>\n",
       "      <td>Linz</td>\n",
       "      <td>NaN</td>\n",
       "      <td>0.1</td>\n",
       "      <td>NaN</td>\n",
       "      <td>NaN</td>\n",
       "      <td>NaN</td>\n",
       "      <td>38.4</td>\n",
       "      <td>NaN</td>\n",
       "      <td>...</td>\n",
       "      <td>390.0</td>\n",
       "      <td>NaN</td>\n",
       "      <td>NaN</td>\n",
       "      <td>NaN</td>\n",
       "      <td>17.3</td>\n",
       "      <td>NaN</td>\n",
       "      <td>NaN</td>\n",
       "      <td>NaN</td>\n",
       "      <td>NaN</td>\n",
       "      <td>NaN</td>\n",
       "    </tr>\n",
       "  </tbody>\n",
       "</table>\n",
       "<p>5 rows × 22 columns</p>\n",
       "</div>"
      ],
      "text/plain": [
       "Specie       Date Country          City  aqi   co   d  humidity  mepaqi   no2  \\\n",
       "0      2018-01-01      AE     Abu Dhabi  NaN  NaN NaN       NaN     NaN   NaN   \n",
       "1      2018-01-01      AR  Buenos Aires  NaN  7.3 NaN       NaN     NaN  14.2   \n",
       "2      2018-01-01      AT          Graz  NaN  0.1 NaN       NaN     NaN  43.9   \n",
       "3      2018-01-01      AT     Innsbruck  NaN  0.1 NaN       NaN     NaN  33.9   \n",
       "4      2018-01-01      AT          Linz  NaN  0.1 NaN       NaN     NaN  38.4   \n",
       "\n",
       "Specie    o3  ...   pm25  pol  precipitation  pressure   so2  temperature  \\\n",
       "0        NaN  ...  119.0  NaN            NaN       NaN   NaN          NaN   \n",
       "1       15.1  ...   85.0  NaN            NaN       NaN   2.1          NaN   \n",
       "2        NaN  ...    NaN  NaN            NaN       NaN  10.9          NaN   \n",
       "3        NaN  ...    NaN  NaN            NaN       NaN   2.1          NaN   \n",
       "4        NaN  ...  390.0  NaN            NaN       NaN  17.3          NaN   \n",
       "\n",
       "Specie  uvi  wd  wind-gust  wind-speed  \n",
       "0       NaN NaN        NaN         NaN  \n",
       "1       NaN NaN        NaN         NaN  \n",
       "2       NaN NaN        NaN         NaN  \n",
       "3       NaN NaN        NaN         NaN  \n",
       "4       NaN NaN        NaN         NaN  \n",
       "\n",
       "[5 rows x 22 columns]"
      ]
     },
     "execution_count": 126,
     "metadata": {},
     "output_type": "execute_result"
    }
   ],
   "source": [
    "print(data_df_2018_H1.shape)\n",
    "data_df_2018_H1.head()"
   ]
  },
  {
   "cell_type": "code",
   "execution_count": 127,
   "id": "2cf97d99",
   "metadata": {
    "execution": {
     "iopub.execute_input": "2024-12-31T12:06:45.949015Z",
     "iopub.status.busy": "2024-12-31T12:06:45.948692Z",
     "iopub.status.idle": "2024-12-31T12:06:45.966918Z",
     "shell.execute_reply": "2024-12-31T12:06:45.965974Z"
    },
    "executionInfo": {
     "elapsed": 10,
     "status": "ok",
     "timestamp": 1734445449140,
     "user": {
      "displayName": "Tahmida Majumder",
      "userId": "15415648085337204568"
     },
     "user_tz": -480
    },
    "id": "HXEnb-q1V5u7",
    "outputId": "aa296fa0-488a-4c6b-ea0f-3db7fc1837e9",
    "papermill": {
     "duration": 0.075594,
     "end_time": "2024-12-31T12:06:45.968566",
     "exception": false,
     "start_time": "2024-12-31T12:06:45.892972",
     "status": "completed"
    },
    "tags": []
   },
   "outputs": [
    {
     "data": {
      "text/plain": [
       "Specie\n",
       "Date                 0\n",
       "Country              0\n",
       "City                 0\n",
       "aqi              89157\n",
       "co               32652\n",
       "d                90397\n",
       "humidity         68770\n",
       "mepaqi           92232\n",
       "no2              12867\n",
       "o3               16072\n",
       "pm1              92249\n",
       "pm10             16901\n",
       "pm25             16184\n",
       "pol              91979\n",
       "precipitation    90576\n",
       "pressure         69101\n",
       "so2              27288\n",
       "temperature      68764\n",
       "uvi              90294\n",
       "wd               88246\n",
       "wind-gust        77551\n",
       "wind-speed       72070\n",
       "dtype: int64"
      ]
     },
     "execution_count": 127,
     "metadata": {},
     "output_type": "execute_result"
    }
   ],
   "source": [
    "data_df_2018_H1.isnull().sum()"
   ]
  },
  {
   "cell_type": "code",
   "execution_count": null,
   "id": "1956c335",
   "metadata": {
    "id": "LrH9cHRcV4GW",
    "papermill": {
     "duration": 0.055933,
     "end_time": "2024-12-31T12:06:46.081735",
     "exception": false,
     "start_time": "2024-12-31T12:06:46.025802",
     "status": "completed"
    },
    "tags": []
   },
   "outputs": [],
   "source": []
  },
  {
   "cell_type": "markdown",
   "id": "60846ba8",
   "metadata": {
    "id": "MMOZkreeWbiJ",
    "papermill": {
     "duration": 0.055643,
     "end_time": "2024-12-31T12:06:46.191699",
     "exception": false,
     "start_time": "2024-12-31T12:06:46.136056",
     "status": "completed"
    },
    "tags": []
   },
   "source": [
    "# 2017_H1"
   ]
  },
  {
   "cell_type": "code",
   "execution_count": 128,
   "id": "2dc87d8d",
   "metadata": {
    "execution": {
     "iopub.execute_input": "2024-12-31T12:06:46.302432Z",
     "iopub.status.busy": "2024-12-31T12:06:46.302064Z",
     "iopub.status.idle": "2024-12-31T12:06:46.658036Z",
     "shell.execute_reply": "2024-12-31T12:06:46.657006Z"
    },
    "executionInfo": {
     "elapsed": 1232,
     "status": "ok",
     "timestamp": 1734445450364,
     "user": {
      "displayName": "Tahmida Majumder",
      "userId": "15415648085337204568"
     },
     "user_tz": -480
    },
    "id": "gTFzIl_eWbiJ",
    "outputId": "99cf2c57-f316-46ef-9ac6-71f03c00eeec",
    "papermill": {
     "duration": 0.413156,
     "end_time": "2024-12-31T12:06:46.659476",
     "exception": false,
     "start_time": "2024-12-31T12:06:46.246320",
     "status": "completed"
    },
    "tags": []
   },
   "outputs": [
    {
     "name": "stdout",
     "output_type": "stream",
     "text": [
      "(427974, 5)\n"
     ]
    },
    {
     "data": {
      "text/html": [
       "<div>\n",
       "<style scoped>\n",
       "    .dataframe tbody tr th:only-of-type {\n",
       "        vertical-align: middle;\n",
       "    }\n",
       "\n",
       "    .dataframe tbody tr th {\n",
       "        vertical-align: top;\n",
       "    }\n",
       "\n",
       "    .dataframe thead th {\n",
       "        text-align: right;\n",
       "    }\n",
       "</style>\n",
       "<table border=\"1\" class=\"dataframe\">\n",
       "  <thead>\n",
       "    <tr style=\"text-align: right;\">\n",
       "      <th></th>\n",
       "      <th>Date</th>\n",
       "      <th>Country</th>\n",
       "      <th>City</th>\n",
       "      <th>Specie</th>\n",
       "      <th>max</th>\n",
       "    </tr>\n",
       "  </thead>\n",
       "  <tbody>\n",
       "    <tr>\n",
       "      <th>0</th>\n",
       "      <td>12/27/2016</td>\n",
       "      <td>CN</td>\n",
       "      <td>Beijing</td>\n",
       "      <td>co</td>\n",
       "      <td>34.4</td>\n",
       "    </tr>\n",
       "    <tr>\n",
       "      <th>1</th>\n",
       "      <td>1/28/2017</td>\n",
       "      <td>CN</td>\n",
       "      <td>Beijing</td>\n",
       "      <td>co</td>\n",
       "      <td>49.7</td>\n",
       "    </tr>\n",
       "    <tr>\n",
       "      <th>2</th>\n",
       "      <td>2/24/2017</td>\n",
       "      <td>CN</td>\n",
       "      <td>Beijing</td>\n",
       "      <td>co</td>\n",
       "      <td>37.1</td>\n",
       "    </tr>\n",
       "    <tr>\n",
       "      <th>3</th>\n",
       "      <td>3/18/2017</td>\n",
       "      <td>CN</td>\n",
       "      <td>Beijing</td>\n",
       "      <td>co</td>\n",
       "      <td>29.0</td>\n",
       "    </tr>\n",
       "    <tr>\n",
       "      <th>4</th>\n",
       "      <td>4/16/2017</td>\n",
       "      <td>CN</td>\n",
       "      <td>Beijing</td>\n",
       "      <td>co</td>\n",
       "      <td>17.2</td>\n",
       "    </tr>\n",
       "    <tr>\n",
       "      <th>5</th>\n",
       "      <td>6/12/2017</td>\n",
       "      <td>CN</td>\n",
       "      <td>Beijing</td>\n",
       "      <td>co</td>\n",
       "      <td>46.1</td>\n",
       "    </tr>\n",
       "    <tr>\n",
       "      <th>6</th>\n",
       "      <td>2/16/2017</td>\n",
       "      <td>CN</td>\n",
       "      <td>Beijing</td>\n",
       "      <td>co</td>\n",
       "      <td>41.6</td>\n",
       "    </tr>\n",
       "    <tr>\n",
       "      <th>7</th>\n",
       "      <td>3/6/2017</td>\n",
       "      <td>CN</td>\n",
       "      <td>Beijing</td>\n",
       "      <td>co</td>\n",
       "      <td>101.6</td>\n",
       "    </tr>\n",
       "    <tr>\n",
       "      <th>8</th>\n",
       "      <td>4/29/2017</td>\n",
       "      <td>CN</td>\n",
       "      <td>Beijing</td>\n",
       "      <td>co</td>\n",
       "      <td>15.4</td>\n",
       "    </tr>\n",
       "    <tr>\n",
       "      <th>9</th>\n",
       "      <td>6/3/2017</td>\n",
       "      <td>CN</td>\n",
       "      <td>Beijing</td>\n",
       "      <td>co</td>\n",
       "      <td>12.7</td>\n",
       "    </tr>\n",
       "  </tbody>\n",
       "</table>\n",
       "</div>"
      ],
      "text/plain": [
       "         Date Country     City Specie    max\n",
       "0  12/27/2016      CN  Beijing     co   34.4\n",
       "1   1/28/2017      CN  Beijing     co   49.7\n",
       "2   2/24/2017      CN  Beijing     co   37.1\n",
       "3   3/18/2017      CN  Beijing     co   29.0\n",
       "4   4/16/2017      CN  Beijing     co   17.2\n",
       "5   6/12/2017      CN  Beijing     co   46.1\n",
       "6   2/16/2017      CN  Beijing     co   41.6\n",
       "7    3/6/2017      CN  Beijing     co  101.6\n",
       "8   4/29/2017      CN  Beijing     co   15.4\n",
       "9    6/3/2017      CN  Beijing     co   12.7"
      ]
     },
     "execution_count": 128,
     "metadata": {},
     "output_type": "execute_result"
    }
   ],
   "source": [
    "# Loading the data\n",
    "raw_data_2017_H1 = pd.read_csv(r\"/kaggle/input/raw-data/airqualitydata-2017H1.csv\")\n",
    "\n",
    "# print the shape\n",
    "print(raw_data_2017_H1.shape)\n",
    "\n",
    "#runs the first 5 rows\n",
    "raw_data_2017_H1.head(10)"
   ]
  },
  {
   "cell_type": "code",
   "execution_count": 129,
   "id": "eff3c3d1",
   "metadata": {
    "execution": {
     "iopub.execute_input": "2024-12-31T12:06:46.770509Z",
     "iopub.status.busy": "2024-12-31T12:06:46.770099Z",
     "iopub.status.idle": "2024-12-31T12:06:46.831607Z",
     "shell.execute_reply": "2024-12-31T12:06:46.830654Z"
    },
    "id": "Lnzv_vyuWbiJ",
    "papermill": {
     "duration": 0.118705,
     "end_time": "2024-12-31T12:06:46.833421",
     "exception": false,
     "start_time": "2024-12-31T12:06:46.714716",
     "status": "completed"
    },
    "tags": []
   },
   "outputs": [],
   "source": [
    "# Convert 'Date' to datetime\n",
    "raw_data_2017_H1['Date'] = pd.to_datetime(raw_data_2017_H1['Date'])"
   ]
  },
  {
   "cell_type": "code",
   "execution_count": 130,
   "id": "825d00fb",
   "metadata": {
    "execution": {
     "iopub.execute_input": "2024-12-31T12:06:46.946948Z",
     "iopub.status.busy": "2024-12-31T12:06:46.946606Z",
     "iopub.status.idle": "2024-12-31T12:06:46.952115Z",
     "shell.execute_reply": "2024-12-31T12:06:46.951194Z"
    },
    "executionInfo": {
     "elapsed": 15,
     "status": "ok",
     "timestamp": 1734445450364,
     "user": {
      "displayName": "Tahmida Majumder",
      "userId": "15415648085337204568"
     },
     "user_tz": -480
    },
    "id": "sE_T9b0-WbiJ",
    "outputId": "04196de5-0cf9-4b4e-bcc7-a24814a8cbe2",
    "papermill": {
     "duration": 0.064624,
     "end_time": "2024-12-31T12:06:46.953693",
     "exception": false,
     "start_time": "2024-12-31T12:06:46.889069",
     "status": "completed"
    },
    "tags": []
   },
   "outputs": [
    {
     "data": {
      "text/plain": [
       "(427974, 5)"
      ]
     },
     "execution_count": 130,
     "metadata": {},
     "output_type": "execute_result"
    }
   ],
   "source": [
    "raw_data_2017_H1.shape"
   ]
  },
  {
   "cell_type": "code",
   "execution_count": 131,
   "id": "b0fad667",
   "metadata": {
    "execution": {
     "iopub.execute_input": "2024-12-31T12:06:47.072303Z",
     "iopub.status.busy": "2024-12-31T12:06:47.071957Z",
     "iopub.status.idle": "2024-12-31T12:06:47.391659Z",
     "shell.execute_reply": "2024-12-31T12:06:47.390689Z"
    },
    "id": "B1LZaSuFWbiK",
    "papermill": {
     "duration": 0.380418,
     "end_time": "2024-12-31T12:06:47.393458",
     "exception": false,
     "start_time": "2024-12-31T12:06:47.013040",
     "status": "completed"
    },
    "tags": []
   },
   "outputs": [],
   "source": [
    "# Pivot the data\n",
    "data_df_2017_H1 = raw_data_2017_H1.pivot_table(\n",
    "    index=['Date', 'Country', 'City'],  # Grouping columns\n",
    "    columns='Specie',                  # Unique values become columns\n",
    "    values='max',                   # Values to aggregate\n",
    "    aggfunc='mean'                     # Aggregation function\n",
    ").reset_index()"
   ]
  },
  {
   "cell_type": "code",
   "execution_count": 132,
   "id": "a58f6742",
   "metadata": {
    "execution": {
     "iopub.execute_input": "2024-12-31T12:06:47.505135Z",
     "iopub.status.busy": "2024-12-31T12:06:47.504822Z",
     "iopub.status.idle": "2024-12-31T12:06:47.527832Z",
     "shell.execute_reply": "2024-12-31T12:06:47.526482Z"
    },
    "executionInfo": {
     "elapsed": 13,
     "status": "ok",
     "timestamp": 1734445450364,
     "user": {
      "displayName": "Tahmida Majumder",
      "userId": "15415648085337204568"
     },
     "user_tz": -480
    },
    "id": "ZUeeQdFoWbiK",
    "outputId": "8d1a07b8-68eb-40f6-8b94-4c0557aa1cd3",
    "papermill": {
     "duration": 0.080577,
     "end_time": "2024-12-31T12:06:47.529300",
     "exception": false,
     "start_time": "2024-12-31T12:06:47.448723",
     "status": "completed"
    },
    "tags": []
   },
   "outputs": [
    {
     "name": "stdout",
     "output_type": "stream",
     "text": [
      "(88640, 21)\n"
     ]
    },
    {
     "data": {
      "text/html": [
       "<div>\n",
       "<style scoped>\n",
       "    .dataframe tbody tr th:only-of-type {\n",
       "        vertical-align: middle;\n",
       "    }\n",
       "\n",
       "    .dataframe tbody tr th {\n",
       "        vertical-align: top;\n",
       "    }\n",
       "\n",
       "    .dataframe thead th {\n",
       "        text-align: right;\n",
       "    }\n",
       "</style>\n",
       "<table border=\"1\" class=\"dataframe\">\n",
       "  <thead>\n",
       "    <tr style=\"text-align: right;\">\n",
       "      <th>Specie</th>\n",
       "      <th>Date</th>\n",
       "      <th>Country</th>\n",
       "      <th>City</th>\n",
       "      <th>aqi</th>\n",
       "      <th>co</th>\n",
       "      <th>d</th>\n",
       "      <th>humidity</th>\n",
       "      <th>mepaqi</th>\n",
       "      <th>neph</th>\n",
       "      <th>no2</th>\n",
       "      <th>...</th>\n",
       "      <th>pm1</th>\n",
       "      <th>pm10</th>\n",
       "      <th>pm25</th>\n",
       "      <th>pol</th>\n",
       "      <th>pressure</th>\n",
       "      <th>so2</th>\n",
       "      <th>temperature</th>\n",
       "      <th>uvi</th>\n",
       "      <th>wd</th>\n",
       "      <th>wind-speed</th>\n",
       "    </tr>\n",
       "  </thead>\n",
       "  <tbody>\n",
       "    <tr>\n",
       "      <th>0</th>\n",
       "      <td>2016-12-26</td>\n",
       "      <td>AR</td>\n",
       "      <td>Buenos Aires</td>\n",
       "      <td>NaN</td>\n",
       "      <td>0.1</td>\n",
       "      <td>NaN</td>\n",
       "      <td>NaN</td>\n",
       "      <td>NaN</td>\n",
       "      <td>NaN</td>\n",
       "      <td>NaN</td>\n",
       "      <td>...</td>\n",
       "      <td>NaN</td>\n",
       "      <td>38.0</td>\n",
       "      <td>87.0</td>\n",
       "      <td>NaN</td>\n",
       "      <td>NaN</td>\n",
       "      <td>11.2</td>\n",
       "      <td>NaN</td>\n",
       "      <td>NaN</td>\n",
       "      <td>NaN</td>\n",
       "      <td>NaN</td>\n",
       "    </tr>\n",
       "    <tr>\n",
       "      <th>1</th>\n",
       "      <td>2016-12-26</td>\n",
       "      <td>AT</td>\n",
       "      <td>Graz</td>\n",
       "      <td>NaN</td>\n",
       "      <td>0.1</td>\n",
       "      <td>NaN</td>\n",
       "      <td>NaN</td>\n",
       "      <td>NaN</td>\n",
       "      <td>NaN</td>\n",
       "      <td>40.3</td>\n",
       "      <td>...</td>\n",
       "      <td>NaN</td>\n",
       "      <td>115.0</td>\n",
       "      <td>NaN</td>\n",
       "      <td>NaN</td>\n",
       "      <td>NaN</td>\n",
       "      <td>8.7</td>\n",
       "      <td>NaN</td>\n",
       "      <td>NaN</td>\n",
       "      <td>NaN</td>\n",
       "      <td>NaN</td>\n",
       "    </tr>\n",
       "    <tr>\n",
       "      <th>2</th>\n",
       "      <td>2016-12-26</td>\n",
       "      <td>AT</td>\n",
       "      <td>Innsbruck</td>\n",
       "      <td>NaN</td>\n",
       "      <td>0.1</td>\n",
       "      <td>NaN</td>\n",
       "      <td>NaN</td>\n",
       "      <td>NaN</td>\n",
       "      <td>NaN</td>\n",
       "      <td>37.5</td>\n",
       "      <td>...</td>\n",
       "      <td>NaN</td>\n",
       "      <td>44.0</td>\n",
       "      <td>NaN</td>\n",
       "      <td>NaN</td>\n",
       "      <td>NaN</td>\n",
       "      <td>5.6</td>\n",
       "      <td>NaN</td>\n",
       "      <td>NaN</td>\n",
       "      <td>NaN</td>\n",
       "      <td>NaN</td>\n",
       "    </tr>\n",
       "    <tr>\n",
       "      <th>3</th>\n",
       "      <td>2016-12-26</td>\n",
       "      <td>AT</td>\n",
       "      <td>Linz</td>\n",
       "      <td>NaN</td>\n",
       "      <td>0.1</td>\n",
       "      <td>NaN</td>\n",
       "      <td>NaN</td>\n",
       "      <td>NaN</td>\n",
       "      <td>NaN</td>\n",
       "      <td>28.6</td>\n",
       "      <td>...</td>\n",
       "      <td>NaN</td>\n",
       "      <td>18.0</td>\n",
       "      <td>59.0</td>\n",
       "      <td>NaN</td>\n",
       "      <td>NaN</td>\n",
       "      <td>15.2</td>\n",
       "      <td>NaN</td>\n",
       "      <td>NaN</td>\n",
       "      <td>NaN</td>\n",
       "      <td>NaN</td>\n",
       "    </tr>\n",
       "    <tr>\n",
       "      <th>4</th>\n",
       "      <td>2016-12-26</td>\n",
       "      <td>AT</td>\n",
       "      <td>Salzburg</td>\n",
       "      <td>NaN</td>\n",
       "      <td>0.1</td>\n",
       "      <td>NaN</td>\n",
       "      <td>NaN</td>\n",
       "      <td>NaN</td>\n",
       "      <td>NaN</td>\n",
       "      <td>34.8</td>\n",
       "      <td>...</td>\n",
       "      <td>NaN</td>\n",
       "      <td>58.0</td>\n",
       "      <td>NaN</td>\n",
       "      <td>NaN</td>\n",
       "      <td>NaN</td>\n",
       "      <td>2.6</td>\n",
       "      <td>NaN</td>\n",
       "      <td>NaN</td>\n",
       "      <td>NaN</td>\n",
       "      <td>NaN</td>\n",
       "    </tr>\n",
       "  </tbody>\n",
       "</table>\n",
       "<p>5 rows × 21 columns</p>\n",
       "</div>"
      ],
      "text/plain": [
       "Specie       Date Country          City  aqi   co   d  humidity  mepaqi  neph  \\\n",
       "0      2016-12-26      AR  Buenos Aires  NaN  0.1 NaN       NaN     NaN   NaN   \n",
       "1      2016-12-26      AT          Graz  NaN  0.1 NaN       NaN     NaN   NaN   \n",
       "2      2016-12-26      AT     Innsbruck  NaN  0.1 NaN       NaN     NaN   NaN   \n",
       "3      2016-12-26      AT          Linz  NaN  0.1 NaN       NaN     NaN   NaN   \n",
       "4      2016-12-26      AT      Salzburg  NaN  0.1 NaN       NaN     NaN   NaN   \n",
       "\n",
       "Specie   no2  ...  pm1   pm10  pm25  pol  pressure   so2  temperature  uvi  \\\n",
       "0        NaN  ...  NaN   38.0  87.0  NaN       NaN  11.2          NaN  NaN   \n",
       "1       40.3  ...  NaN  115.0   NaN  NaN       NaN   8.7          NaN  NaN   \n",
       "2       37.5  ...  NaN   44.0   NaN  NaN       NaN   5.6          NaN  NaN   \n",
       "3       28.6  ...  NaN   18.0  59.0  NaN       NaN  15.2          NaN  NaN   \n",
       "4       34.8  ...  NaN   58.0   NaN  NaN       NaN   2.6          NaN  NaN   \n",
       "\n",
       "Specie  wd  wind-speed  \n",
       "0      NaN         NaN  \n",
       "1      NaN         NaN  \n",
       "2      NaN         NaN  \n",
       "3      NaN         NaN  \n",
       "4      NaN         NaN  \n",
       "\n",
       "[5 rows x 21 columns]"
      ]
     },
     "execution_count": 132,
     "metadata": {},
     "output_type": "execute_result"
    }
   ],
   "source": [
    "print(data_df_2017_H1.shape)\n",
    "data_df_2017_H1.head()"
   ]
  },
  {
   "cell_type": "code",
   "execution_count": 133,
   "id": "ee149214",
   "metadata": {
    "execution": {
     "iopub.execute_input": "2024-12-31T12:06:47.643141Z",
     "iopub.status.busy": "2024-12-31T12:06:47.642786Z",
     "iopub.status.idle": "2024-12-31T12:06:47.661132Z",
     "shell.execute_reply": "2024-12-31T12:06:47.660078Z"
    },
    "executionInfo": {
     "elapsed": 11,
     "status": "ok",
     "timestamp": 1734445450365,
     "user": {
      "displayName": "Tahmida Majumder",
      "userId": "15415648085337204568"
     },
     "user_tz": -480
    },
    "id": "fayUPva7WbiK",
    "outputId": "930137a7-f030-4094-d89b-ae7c91fb0979",
    "papermill": {
     "duration": 0.077201,
     "end_time": "2024-12-31T12:06:47.662893",
     "exception": false,
     "start_time": "2024-12-31T12:06:47.585692",
     "status": "completed"
    },
    "tags": []
   },
   "outputs": [
    {
     "data": {
      "text/plain": [
       "Specie\n",
       "Date               0\n",
       "Country            0\n",
       "City               0\n",
       "aqi            86591\n",
       "co             30374\n",
       "d              88622\n",
       "humidity       88493\n",
       "mepaqi         88451\n",
       "neph           88100\n",
       "no2            10738\n",
       "o3             12809\n",
       "pm1            88425\n",
       "pm10           16164\n",
       "pm25           13666\n",
       "pol            88438\n",
       "pressure       88507\n",
       "so2            25932\n",
       "temperature    88493\n",
       "uvi            86525\n",
       "wd             88610\n",
       "wind-speed     88608\n",
       "dtype: int64"
      ]
     },
     "execution_count": 133,
     "metadata": {},
     "output_type": "execute_result"
    }
   ],
   "source": [
    "data_df_2017_H1.isnull().sum()"
   ]
  },
  {
   "cell_type": "code",
   "execution_count": null,
   "id": "ce8b7bdf",
   "metadata": {
    "id": "0UJPBKFuWa3t",
    "papermill": {
     "duration": 0.054268,
     "end_time": "2024-12-31T12:06:47.772854",
     "exception": false,
     "start_time": "2024-12-31T12:06:47.718586",
     "status": "completed"
    },
    "tags": []
   },
   "outputs": [],
   "source": []
  },
  {
   "cell_type": "markdown",
   "id": "d64224cb",
   "metadata": {
    "id": "tyiqL55NW0Jb",
    "papermill": {
     "duration": 0.054474,
     "end_time": "2024-12-31T12:06:47.883034",
     "exception": false,
     "start_time": "2024-12-31T12:06:47.828560",
     "status": "completed"
    },
    "tags": []
   },
   "source": [
    "# 2016_H1"
   ]
  },
  {
   "cell_type": "code",
   "execution_count": 134,
   "id": "d0e66537",
   "metadata": {
    "execution": {
     "iopub.execute_input": "2024-12-31T12:06:47.996030Z",
     "iopub.status.busy": "2024-12-31T12:06:47.995662Z",
     "iopub.status.idle": "2024-12-31T12:06:48.356916Z",
     "shell.execute_reply": "2024-12-31T12:06:48.355768Z"
    },
    "executionInfo": {
     "elapsed": 871,
     "status": "ok",
     "timestamp": 1734445451226,
     "user": {
      "displayName": "Tahmida Majumder",
      "userId": "15415648085337204568"
     },
     "user_tz": -480
    },
    "id": "A0oX3oOmW0Jc",
    "outputId": "b6d471b6-9709-4de1-9746-16490d2fee20",
    "papermill": {
     "duration": 0.420759,
     "end_time": "2024-12-31T12:06:48.358487",
     "exception": false,
     "start_time": "2024-12-31T12:06:47.937728",
     "status": "completed"
    },
    "tags": []
   },
   "outputs": [
    {
     "name": "stdout",
     "output_type": "stream",
     "text": [
      "(413840, 5)\n"
     ]
    },
    {
     "data": {
      "text/html": [
       "<div>\n",
       "<style scoped>\n",
       "    .dataframe tbody tr th:only-of-type {\n",
       "        vertical-align: middle;\n",
       "    }\n",
       "\n",
       "    .dataframe tbody tr th {\n",
       "        vertical-align: top;\n",
       "    }\n",
       "\n",
       "    .dataframe thead th {\n",
       "        text-align: right;\n",
       "    }\n",
       "</style>\n",
       "<table border=\"1\" class=\"dataframe\">\n",
       "  <thead>\n",
       "    <tr style=\"text-align: right;\">\n",
       "      <th></th>\n",
       "      <th>Date</th>\n",
       "      <th>Country</th>\n",
       "      <th>City</th>\n",
       "      <th>Specie</th>\n",
       "      <th>max</th>\n",
       "    </tr>\n",
       "  </thead>\n",
       "  <tbody>\n",
       "    <tr>\n",
       "      <th>0</th>\n",
       "      <td>2/3/2016</td>\n",
       "      <td>SE</td>\n",
       "      <td>Stockholm</td>\n",
       "      <td>o3</td>\n",
       "      <td>23.1</td>\n",
       "    </tr>\n",
       "    <tr>\n",
       "      <th>1</th>\n",
       "      <td>2/4/2016</td>\n",
       "      <td>SE</td>\n",
       "      <td>Stockholm</td>\n",
       "      <td>o3</td>\n",
       "      <td>25.7</td>\n",
       "    </tr>\n",
       "    <tr>\n",
       "      <th>2</th>\n",
       "      <td>2/16/2016</td>\n",
       "      <td>SE</td>\n",
       "      <td>Stockholm</td>\n",
       "      <td>o3</td>\n",
       "      <td>21.1</td>\n",
       "    </tr>\n",
       "    <tr>\n",
       "      <th>3</th>\n",
       "      <td>3/11/2016</td>\n",
       "      <td>SE</td>\n",
       "      <td>Stockholm</td>\n",
       "      <td>o3</td>\n",
       "      <td>29.2</td>\n",
       "    </tr>\n",
       "    <tr>\n",
       "      <th>4</th>\n",
       "      <td>4/2/2016</td>\n",
       "      <td>SE</td>\n",
       "      <td>Stockholm</td>\n",
       "      <td>o3</td>\n",
       "      <td>27.0</td>\n",
       "    </tr>\n",
       "    <tr>\n",
       "      <th>5</th>\n",
       "      <td>5/2/2016</td>\n",
       "      <td>SE</td>\n",
       "      <td>Stockholm</td>\n",
       "      <td>o3</td>\n",
       "      <td>42.6</td>\n",
       "    </tr>\n",
       "    <tr>\n",
       "      <th>6</th>\n",
       "      <td>5/11/2016</td>\n",
       "      <td>SE</td>\n",
       "      <td>Stockholm</td>\n",
       "      <td>o3</td>\n",
       "      <td>32.3</td>\n",
       "    </tr>\n",
       "    <tr>\n",
       "      <th>7</th>\n",
       "      <td>1/4/2016</td>\n",
       "      <td>SE</td>\n",
       "      <td>Stockholm</td>\n",
       "      <td>o3</td>\n",
       "      <td>21.9</td>\n",
       "    </tr>\n",
       "    <tr>\n",
       "      <th>8</th>\n",
       "      <td>5/26/2016</td>\n",
       "      <td>SE</td>\n",
       "      <td>Stockholm</td>\n",
       "      <td>o3</td>\n",
       "      <td>28.2</td>\n",
       "    </tr>\n",
       "    <tr>\n",
       "      <th>9</th>\n",
       "      <td>6/18/2016</td>\n",
       "      <td>SE</td>\n",
       "      <td>Stockholm</td>\n",
       "      <td>o3</td>\n",
       "      <td>27.8</td>\n",
       "    </tr>\n",
       "  </tbody>\n",
       "</table>\n",
       "</div>"
      ],
      "text/plain": [
       "        Date Country       City Specie   max\n",
       "0   2/3/2016      SE  Stockholm     o3  23.1\n",
       "1   2/4/2016      SE  Stockholm     o3  25.7\n",
       "2  2/16/2016      SE  Stockholm     o3  21.1\n",
       "3  3/11/2016      SE  Stockholm     o3  29.2\n",
       "4   4/2/2016      SE  Stockholm     o3  27.0\n",
       "5   5/2/2016      SE  Stockholm     o3  42.6\n",
       "6  5/11/2016      SE  Stockholm     o3  32.3\n",
       "7   1/4/2016      SE  Stockholm     o3  21.9\n",
       "8  5/26/2016      SE  Stockholm     o3  28.2\n",
       "9  6/18/2016      SE  Stockholm     o3  27.8"
      ]
     },
     "execution_count": 134,
     "metadata": {},
     "output_type": "execute_result"
    }
   ],
   "source": [
    "# Loading the data\n",
    "raw_data_2016_H1 = pd.read_csv(r\"/kaggle/input/raw-data/airqualitydata-2016H1.csv\")\n",
    "\n",
    "# print the shape\n",
    "print(raw_data_2016_H1.shape)\n",
    "\n",
    "#runs the first 5 rows\n",
    "raw_data_2016_H1.head(10)"
   ]
  },
  {
   "cell_type": "code",
   "execution_count": 135,
   "id": "1a97af63",
   "metadata": {
    "execution": {
     "iopub.execute_input": "2024-12-31T12:06:48.471827Z",
     "iopub.status.busy": "2024-12-31T12:06:48.471464Z",
     "iopub.status.idle": "2024-12-31T12:06:48.533141Z",
     "shell.execute_reply": "2024-12-31T12:06:48.531913Z"
    },
    "id": "pQoiKds5W0Jc",
    "papermill": {
     "duration": 0.12022,
     "end_time": "2024-12-31T12:06:48.535090",
     "exception": false,
     "start_time": "2024-12-31T12:06:48.414870",
     "status": "completed"
    },
    "tags": []
   },
   "outputs": [],
   "source": [
    "# Convert 'Date' to datetime\n",
    "raw_data_2016_H1['Date'] = pd.to_datetime(raw_data_2016_H1['Date'])"
   ]
  },
  {
   "cell_type": "code",
   "execution_count": 136,
   "id": "ee25e18b",
   "metadata": {
    "execution": {
     "iopub.execute_input": "2024-12-31T12:06:48.649268Z",
     "iopub.status.busy": "2024-12-31T12:06:48.648918Z",
     "iopub.status.idle": "2024-12-31T12:06:48.654565Z",
     "shell.execute_reply": "2024-12-31T12:06:48.653687Z"
    },
    "executionInfo": {
     "elapsed": 9,
     "status": "ok",
     "timestamp": 1734445451226,
     "user": {
      "displayName": "Tahmida Majumder",
      "userId": "15415648085337204568"
     },
     "user_tz": -480
    },
    "id": "i7ywTKmBW0Jc",
    "outputId": "6ac79b3d-acac-4d2b-f332-edb1a90399ed",
    "papermill": {
     "duration": 0.064752,
     "end_time": "2024-12-31T12:06:48.656110",
     "exception": false,
     "start_time": "2024-12-31T12:06:48.591358",
     "status": "completed"
    },
    "tags": []
   },
   "outputs": [
    {
     "data": {
      "text/plain": [
       "(413840, 5)"
      ]
     },
     "execution_count": 136,
     "metadata": {},
     "output_type": "execute_result"
    }
   ],
   "source": [
    "raw_data_2016_H1.shape"
   ]
  },
  {
   "cell_type": "code",
   "execution_count": 137,
   "id": "96a9a1ac",
   "metadata": {
    "execution": {
     "iopub.execute_input": "2024-12-31T12:06:48.771119Z",
     "iopub.status.busy": "2024-12-31T12:06:48.770785Z",
     "iopub.status.idle": "2024-12-31T12:06:49.064885Z",
     "shell.execute_reply": "2024-12-31T12:06:49.063869Z"
    },
    "id": "5Yu3LLm9W0Jc",
    "papermill": {
     "duration": 0.352935,
     "end_time": "2024-12-31T12:06:49.066718",
     "exception": false,
     "start_time": "2024-12-31T12:06:48.713783",
     "status": "completed"
    },
    "tags": []
   },
   "outputs": [],
   "source": [
    "# Pivot the data\n",
    "data_df_2016_H1 = raw_data_2016_H1.pivot_table(\n",
    "    index=['Date', 'Country', 'City'],  # Grouping columns\n",
    "    columns='Specie',                  # Unique values become columns\n",
    "    values='max',                   # Values to aggregate\n",
    "    aggfunc='mean'                     # Aggregation function\n",
    ").reset_index()"
   ]
  },
  {
   "cell_type": "code",
   "execution_count": 138,
   "id": "ee614b16",
   "metadata": {
    "execution": {
     "iopub.execute_input": "2024-12-31T12:06:49.182701Z",
     "iopub.status.busy": "2024-12-31T12:06:49.182267Z",
     "iopub.status.idle": "2024-12-31T12:06:49.201040Z",
     "shell.execute_reply": "2024-12-31T12:06:49.199938Z"
    },
    "executionInfo": {
     "elapsed": 407,
     "status": "ok",
     "timestamp": 1734445451627,
     "user": {
      "displayName": "Tahmida Majumder",
      "userId": "15415648085337204568"
     },
     "user_tz": -480
    },
    "id": "NOMXGHXbW0Jc",
    "outputId": "c875047d-b804-4179-ecb4-ab92a18deccb",
    "papermill": {
     "duration": 0.078576,
     "end_time": "2024-12-31T12:06:49.202778",
     "exception": false,
     "start_time": "2024-12-31T12:06:49.124202",
     "status": "completed"
    },
    "tags": []
   },
   "outputs": [
    {
     "name": "stdout",
     "output_type": "stream",
     "text": [
      "(86762, 15)\n"
     ]
    },
    {
     "data": {
      "text/html": [
       "<div>\n",
       "<style scoped>\n",
       "    .dataframe tbody tr th:only-of-type {\n",
       "        vertical-align: middle;\n",
       "    }\n",
       "\n",
       "    .dataframe tbody tr th {\n",
       "        vertical-align: top;\n",
       "    }\n",
       "\n",
       "    .dataframe thead th {\n",
       "        text-align: right;\n",
       "    }\n",
       "</style>\n",
       "<table border=\"1\" class=\"dataframe\">\n",
       "  <thead>\n",
       "    <tr style=\"text-align: right;\">\n",
       "      <th>Specie</th>\n",
       "      <th>Date</th>\n",
       "      <th>Country</th>\n",
       "      <th>City</th>\n",
       "      <th>aqi</th>\n",
       "      <th>co</th>\n",
       "      <th>mepaqi</th>\n",
       "      <th>neph</th>\n",
       "      <th>no2</th>\n",
       "      <th>o3</th>\n",
       "      <th>pm10</th>\n",
       "      <th>pm25</th>\n",
       "      <th>pol</th>\n",
       "      <th>psi</th>\n",
       "      <th>so2</th>\n",
       "      <th>uvi</th>\n",
       "    </tr>\n",
       "  </thead>\n",
       "  <tbody>\n",
       "    <tr>\n",
       "      <th>0</th>\n",
       "      <td>2015-12-28</td>\n",
       "      <td>AE</td>\n",
       "      <td>Dubai</td>\n",
       "      <td>NaN</td>\n",
       "      <td>21.8</td>\n",
       "      <td>NaN</td>\n",
       "      <td>NaN</td>\n",
       "      <td>94.0</td>\n",
       "      <td>49.8</td>\n",
       "      <td>28.0</td>\n",
       "      <td>177.0</td>\n",
       "      <td>NaN</td>\n",
       "      <td>NaN</td>\n",
       "      <td>500.0</td>\n",
       "      <td>NaN</td>\n",
       "    </tr>\n",
       "    <tr>\n",
       "      <th>1</th>\n",
       "      <td>2015-12-28</td>\n",
       "      <td>AT</td>\n",
       "      <td>Graz</td>\n",
       "      <td>NaN</td>\n",
       "      <td>0.1</td>\n",
       "      <td>NaN</td>\n",
       "      <td>NaN</td>\n",
       "      <td>54.9</td>\n",
       "      <td>NaN</td>\n",
       "      <td>90.0</td>\n",
       "      <td>NaN</td>\n",
       "      <td>NaN</td>\n",
       "      <td>NaN</td>\n",
       "      <td>24.9</td>\n",
       "      <td>NaN</td>\n",
       "    </tr>\n",
       "    <tr>\n",
       "      <th>2</th>\n",
       "      <td>2015-12-28</td>\n",
       "      <td>AT</td>\n",
       "      <td>Innsbruck</td>\n",
       "      <td>NaN</td>\n",
       "      <td>0.1</td>\n",
       "      <td>NaN</td>\n",
       "      <td>NaN</td>\n",
       "      <td>82.6</td>\n",
       "      <td>NaN</td>\n",
       "      <td>137.0</td>\n",
       "      <td>NaN</td>\n",
       "      <td>NaN</td>\n",
       "      <td>NaN</td>\n",
       "      <td>5.6</td>\n",
       "      <td>NaN</td>\n",
       "    </tr>\n",
       "    <tr>\n",
       "      <th>3</th>\n",
       "      <td>2015-12-28</td>\n",
       "      <td>AT</td>\n",
       "      <td>Linz</td>\n",
       "      <td>NaN</td>\n",
       "      <td>0.1</td>\n",
       "      <td>NaN</td>\n",
       "      <td>NaN</td>\n",
       "      <td>39.4</td>\n",
       "      <td>NaN</td>\n",
       "      <td>164.0</td>\n",
       "      <td>340.0</td>\n",
       "      <td>NaN</td>\n",
       "      <td>NaN</td>\n",
       "      <td>7.4</td>\n",
       "      <td>NaN</td>\n",
       "    </tr>\n",
       "    <tr>\n",
       "      <th>4</th>\n",
       "      <td>2015-12-28</td>\n",
       "      <td>AT</td>\n",
       "      <td>Salzburg</td>\n",
       "      <td>NaN</td>\n",
       "      <td>0.1</td>\n",
       "      <td>NaN</td>\n",
       "      <td>NaN</td>\n",
       "      <td>66.5</td>\n",
       "      <td>NaN</td>\n",
       "      <td>92.0</td>\n",
       "      <td>NaN</td>\n",
       "      <td>NaN</td>\n",
       "      <td>NaN</td>\n",
       "      <td>20.8</td>\n",
       "      <td>NaN</td>\n",
       "    </tr>\n",
       "  </tbody>\n",
       "</table>\n",
       "</div>"
      ],
      "text/plain": [
       "Specie       Date Country       City  aqi    co  mepaqi  neph   no2    o3  \\\n",
       "0      2015-12-28      AE      Dubai  NaN  21.8     NaN   NaN  94.0  49.8   \n",
       "1      2015-12-28      AT       Graz  NaN   0.1     NaN   NaN  54.9   NaN   \n",
       "2      2015-12-28      AT  Innsbruck  NaN   0.1     NaN   NaN  82.6   NaN   \n",
       "3      2015-12-28      AT       Linz  NaN   0.1     NaN   NaN  39.4   NaN   \n",
       "4      2015-12-28      AT   Salzburg  NaN   0.1     NaN   NaN  66.5   NaN   \n",
       "\n",
       "Specie   pm10   pm25  pol  psi    so2  uvi  \n",
       "0        28.0  177.0  NaN  NaN  500.0  NaN  \n",
       "1        90.0    NaN  NaN  NaN   24.9  NaN  \n",
       "2       137.0    NaN  NaN  NaN    5.6  NaN  \n",
       "3       164.0  340.0  NaN  NaN    7.4  NaN  \n",
       "4        92.0    NaN  NaN  NaN   20.8  NaN  "
      ]
     },
     "execution_count": 138,
     "metadata": {},
     "output_type": "execute_result"
    }
   ],
   "source": [
    "print(data_df_2016_H1.shape)\n",
    "data_df_2016_H1.head()"
   ]
  },
  {
   "cell_type": "code",
   "execution_count": 139,
   "id": "de47bb3e",
   "metadata": {
    "execution": {
     "iopub.execute_input": "2024-12-31T12:06:49.316635Z",
     "iopub.status.busy": "2024-12-31T12:06:49.316244Z",
     "iopub.status.idle": "2024-12-31T12:06:49.333288Z",
     "shell.execute_reply": "2024-12-31T12:06:49.332286Z"
    },
    "executionInfo": {
     "elapsed": 8,
     "status": "ok",
     "timestamp": 1734445451627,
     "user": {
      "displayName": "Tahmida Majumder",
      "userId": "15415648085337204568"
     },
     "user_tz": -480
    },
    "id": "5Rhi5yskW0Jd",
    "outputId": "27a7de6a-d82c-44e0-91cd-a8473d11f26f",
    "papermill": {
     "duration": 0.075748,
     "end_time": "2024-12-31T12:06:49.334860",
     "exception": false,
     "start_time": "2024-12-31T12:06:49.259112",
     "status": "completed"
    },
    "tags": []
   },
   "outputs": [
    {
     "data": {
      "text/plain": [
       "Specie\n",
       "Date           0\n",
       "Country        0\n",
       "City           0\n",
       "aqi        83470\n",
       "co         30320\n",
       "mepaqi     86575\n",
       "neph       86753\n",
       "no2        11241\n",
       "o3         12670\n",
       "pm10       15432\n",
       "pm25       17453\n",
       "pol        86227\n",
       "psi        86575\n",
       "so2        25835\n",
       "uvi        84753\n",
       "dtype: int64"
      ]
     },
     "execution_count": 139,
     "metadata": {},
     "output_type": "execute_result"
    }
   ],
   "source": [
    "data_df_2016_H1.isnull().sum()"
   ]
  },
  {
   "cell_type": "code",
   "execution_count": null,
   "id": "1c4c46a9",
   "metadata": {
    "id": "S4jQH2d5Wa6V",
    "papermill": {
     "duration": 0.055503,
     "end_time": "2024-12-31T12:06:49.447063",
     "exception": false,
     "start_time": "2024-12-31T12:06:49.391560",
     "status": "completed"
    },
    "tags": []
   },
   "outputs": [],
   "source": []
  },
  {
   "cell_type": "markdown",
   "id": "18237c4e",
   "metadata": {
    "id": "_XHNv7igXJZF",
    "papermill": {
     "duration": 0.055571,
     "end_time": "2024-12-31T12:06:49.559142",
     "exception": false,
     "start_time": "2024-12-31T12:06:49.503571",
     "status": "completed"
    },
    "tags": []
   },
   "source": [
    "# 2015_H1"
   ]
  },
  {
   "cell_type": "code",
   "execution_count": 140,
   "id": "dbccb990",
   "metadata": {
    "execution": {
     "iopub.execute_input": "2024-12-31T12:06:49.673047Z",
     "iopub.status.busy": "2024-12-31T12:06:49.672712Z",
     "iopub.status.idle": "2024-12-31T12:06:50.002716Z",
     "shell.execute_reply": "2024-12-31T12:06:50.001538Z"
    },
    "executionInfo": {
     "elapsed": 619,
     "status": "ok",
     "timestamp": 1734445452240,
     "user": {
      "displayName": "Tahmida Majumder",
      "userId": "15415648085337204568"
     },
     "user_tz": -480
    },
    "id": "X7VepbA2XJZF",
    "outputId": "1c20e3b3-b3c9-447b-fece-e3185546fe3c",
    "papermill": {
     "duration": 0.390543,
     "end_time": "2024-12-31T12:06:50.005219",
     "exception": false,
     "start_time": "2024-12-31T12:06:49.614676",
     "status": "completed"
    },
    "tags": []
   },
   "outputs": [
    {
     "name": "stdout",
     "output_type": "stream",
     "text": [
      "(388980, 5)\n"
     ]
    },
    {
     "data": {
      "text/html": [
       "<div>\n",
       "<style scoped>\n",
       "    .dataframe tbody tr th:only-of-type {\n",
       "        vertical-align: middle;\n",
       "    }\n",
       "\n",
       "    .dataframe tbody tr th {\n",
       "        vertical-align: top;\n",
       "    }\n",
       "\n",
       "    .dataframe thead th {\n",
       "        text-align: right;\n",
       "    }\n",
       "</style>\n",
       "<table border=\"1\" class=\"dataframe\">\n",
       "  <thead>\n",
       "    <tr style=\"text-align: right;\">\n",
       "      <th></th>\n",
       "      <th>Date</th>\n",
       "      <th>Country</th>\n",
       "      <th>City</th>\n",
       "      <th>Specie</th>\n",
       "      <th>max</th>\n",
       "    </tr>\n",
       "  </thead>\n",
       "  <tbody>\n",
       "    <tr>\n",
       "      <th>0</th>\n",
       "      <td>1/6/2015</td>\n",
       "      <td>KR</td>\n",
       "      <td>Jeonju</td>\n",
       "      <td>co</td>\n",
       "      <td>12.3</td>\n",
       "    </tr>\n",
       "    <tr>\n",
       "      <th>1</th>\n",
       "      <td>1/22/2015</td>\n",
       "      <td>KR</td>\n",
       "      <td>Jeonju</td>\n",
       "      <td>co</td>\n",
       "      <td>10.0</td>\n",
       "    </tr>\n",
       "    <tr>\n",
       "      <th>2</th>\n",
       "      <td>3/30/2015</td>\n",
       "      <td>KR</td>\n",
       "      <td>Jeonju</td>\n",
       "      <td>co</td>\n",
       "      <td>11.2</td>\n",
       "    </tr>\n",
       "    <tr>\n",
       "      <th>3</th>\n",
       "      <td>5/27/2015</td>\n",
       "      <td>KR</td>\n",
       "      <td>Jeonju</td>\n",
       "      <td>co</td>\n",
       "      <td>5.6</td>\n",
       "    </tr>\n",
       "    <tr>\n",
       "      <th>4</th>\n",
       "      <td>2/3/2015</td>\n",
       "      <td>KR</td>\n",
       "      <td>Jeonju</td>\n",
       "      <td>co</td>\n",
       "      <td>13.4</td>\n",
       "    </tr>\n",
       "    <tr>\n",
       "      <th>5</th>\n",
       "      <td>2/11/2015</td>\n",
       "      <td>KR</td>\n",
       "      <td>Jeonju</td>\n",
       "      <td>co</td>\n",
       "      <td>11.2</td>\n",
       "    </tr>\n",
       "    <tr>\n",
       "      <th>6</th>\n",
       "      <td>2/18/2015</td>\n",
       "      <td>KR</td>\n",
       "      <td>Jeonju</td>\n",
       "      <td>co</td>\n",
       "      <td>8.9</td>\n",
       "    </tr>\n",
       "    <tr>\n",
       "      <th>7</th>\n",
       "      <td>3/5/2015</td>\n",
       "      <td>KR</td>\n",
       "      <td>Jeonju</td>\n",
       "      <td>co</td>\n",
       "      <td>12.3</td>\n",
       "    </tr>\n",
       "    <tr>\n",
       "      <th>8</th>\n",
       "      <td>3/19/2015</td>\n",
       "      <td>KR</td>\n",
       "      <td>Jeonju</td>\n",
       "      <td>co</td>\n",
       "      <td>7.8</td>\n",
       "    </tr>\n",
       "    <tr>\n",
       "      <th>9</th>\n",
       "      <td>4/4/2015</td>\n",
       "      <td>KR</td>\n",
       "      <td>Jeonju</td>\n",
       "      <td>co</td>\n",
       "      <td>10.0</td>\n",
       "    </tr>\n",
       "  </tbody>\n",
       "</table>\n",
       "</div>"
      ],
      "text/plain": [
       "        Date Country    City Specie   max\n",
       "0   1/6/2015      KR  Jeonju     co  12.3\n",
       "1  1/22/2015      KR  Jeonju     co  10.0\n",
       "2  3/30/2015      KR  Jeonju     co  11.2\n",
       "3  5/27/2015      KR  Jeonju     co   5.6\n",
       "4   2/3/2015      KR  Jeonju     co  13.4\n",
       "5  2/11/2015      KR  Jeonju     co  11.2\n",
       "6  2/18/2015      KR  Jeonju     co   8.9\n",
       "7   3/5/2015      KR  Jeonju     co  12.3\n",
       "8  3/19/2015      KR  Jeonju     co   7.8\n",
       "9   4/4/2015      KR  Jeonju     co  10.0"
      ]
     },
     "execution_count": 140,
     "metadata": {},
     "output_type": "execute_result"
    }
   ],
   "source": [
    "# Loading the data\n",
    "raw_data_2015_H1 = pd.read_csv(r\"/kaggle/input/raw-data/airqualitydata-2015H1.csv\")\n",
    "\n",
    "# print the shape\n",
    "print(raw_data_2015_H1.shape)\n",
    "\n",
    "#runs the first 5 rows\n",
    "raw_data_2015_H1.head(10)"
   ]
  },
  {
   "cell_type": "code",
   "execution_count": 141,
   "id": "1b15bac9",
   "metadata": {
    "execution": {
     "iopub.execute_input": "2024-12-31T12:06:50.155734Z",
     "iopub.status.busy": "2024-12-31T12:06:50.155280Z",
     "iopub.status.idle": "2024-12-31T12:06:50.210843Z",
     "shell.execute_reply": "2024-12-31T12:06:50.209660Z"
    },
    "id": "kPDM2cWjXJZF",
    "papermill": {
     "duration": 0.118254,
     "end_time": "2024-12-31T12:06:50.212739",
     "exception": false,
     "start_time": "2024-12-31T12:06:50.094485",
     "status": "completed"
    },
    "tags": []
   },
   "outputs": [],
   "source": [
    "# Convert 'Date' to datetime\n",
    "raw_data_2015_H1['Date'] = pd.to_datetime(raw_data_2015_H1['Date'])"
   ]
  },
  {
   "cell_type": "code",
   "execution_count": 142,
   "id": "190b8c80",
   "metadata": {
    "execution": {
     "iopub.execute_input": "2024-12-31T12:06:50.328082Z",
     "iopub.status.busy": "2024-12-31T12:06:50.327712Z",
     "iopub.status.idle": "2024-12-31T12:06:50.333623Z",
     "shell.execute_reply": "2024-12-31T12:06:50.332489Z"
    },
    "executionInfo": {
     "elapsed": 8,
     "status": "ok",
     "timestamp": 1734445452240,
     "user": {
      "displayName": "Tahmida Majumder",
      "userId": "15415648085337204568"
     },
     "user_tz": -480
    },
    "id": "Z3QTA-YXXJZF",
    "outputId": "ba2ac09d-6e6e-4991-927b-aa4345128eb9",
    "papermill": {
     "duration": 0.065176,
     "end_time": "2024-12-31T12:06:50.335397",
     "exception": false,
     "start_time": "2024-12-31T12:06:50.270221",
     "status": "completed"
    },
    "tags": []
   },
   "outputs": [
    {
     "data": {
      "text/plain": [
       "(388980, 5)"
      ]
     },
     "execution_count": 142,
     "metadata": {},
     "output_type": "execute_result"
    }
   ],
   "source": [
    "raw_data_2015_H1.shape"
   ]
  },
  {
   "cell_type": "code",
   "execution_count": 143,
   "id": "2e496ccd",
   "metadata": {
    "execution": {
     "iopub.execute_input": "2024-12-31T12:06:50.454091Z",
     "iopub.status.busy": "2024-12-31T12:06:50.453544Z",
     "iopub.status.idle": "2024-12-31T12:06:50.715717Z",
     "shell.execute_reply": "2024-12-31T12:06:50.714516Z"
    },
    "id": "SB7P9HiuXJZG",
    "papermill": {
     "duration": 0.323519,
     "end_time": "2024-12-31T12:06:50.717670",
     "exception": false,
     "start_time": "2024-12-31T12:06:50.394151",
     "status": "completed"
    },
    "tags": []
   },
   "outputs": [],
   "source": [
    "# Pivot the data\n",
    "data_df_2015_H1 = raw_data_2015_H1.pivot_table(\n",
    "    index=['Date', 'Country', 'City'],  # Grouping columns\n",
    "    columns='Specie',                  # Unique values become columns\n",
    "    values='max',                   # Values to aggregate\n",
    "    aggfunc='mean'                     # Aggregation function\n",
    ").reset_index()"
   ]
  },
  {
   "cell_type": "code",
   "execution_count": 144,
   "id": "6f6254d6",
   "metadata": {
    "execution": {
     "iopub.execute_input": "2024-12-31T12:06:50.840927Z",
     "iopub.status.busy": "2024-12-31T12:06:50.840537Z",
     "iopub.status.idle": "2024-12-31T12:06:50.857656Z",
     "shell.execute_reply": "2024-12-31T12:06:50.856804Z"
    },
    "executionInfo": {
     "elapsed": 10,
     "status": "ok",
     "timestamp": 1734445452894,
     "user": {
      "displayName": "Tahmida Majumder",
      "userId": "15415648085337204568"
     },
     "user_tz": -480
    },
    "id": "7OXNbflxXJZG",
    "outputId": "7379c4e2-03de-4e8c-8769-416805c32492",
    "papermill": {
     "duration": 0.082569,
     "end_time": "2024-12-31T12:06:50.859081",
     "exception": false,
     "start_time": "2024-12-31T12:06:50.776512",
     "status": "completed"
    },
    "tags": []
   },
   "outputs": [
    {
     "name": "stdout",
     "output_type": "stream",
     "text": [
      "(83090, 14)\n"
     ]
    },
    {
     "data": {
      "text/html": [
       "<div>\n",
       "<style scoped>\n",
       "    .dataframe tbody tr th:only-of-type {\n",
       "        vertical-align: middle;\n",
       "    }\n",
       "\n",
       "    .dataframe tbody tr th {\n",
       "        vertical-align: top;\n",
       "    }\n",
       "\n",
       "    .dataframe thead th {\n",
       "        text-align: right;\n",
       "    }\n",
       "</style>\n",
       "<table border=\"1\" class=\"dataframe\">\n",
       "  <thead>\n",
       "    <tr style=\"text-align: right;\">\n",
       "      <th>Specie</th>\n",
       "      <th>Date</th>\n",
       "      <th>Country</th>\n",
       "      <th>City</th>\n",
       "      <th>aqi</th>\n",
       "      <th>co</th>\n",
       "      <th>mepaqi</th>\n",
       "      <th>neph</th>\n",
       "      <th>no2</th>\n",
       "      <th>o3</th>\n",
       "      <th>pm10</th>\n",
       "      <th>pm25</th>\n",
       "      <th>psi</th>\n",
       "      <th>so2</th>\n",
       "      <th>uvi</th>\n",
       "    </tr>\n",
       "  </thead>\n",
       "  <tbody>\n",
       "    <tr>\n",
       "      <th>0</th>\n",
       "      <td>2014-12-29</td>\n",
       "      <td>AT</td>\n",
       "      <td>Graz</td>\n",
       "      <td>NaN</td>\n",
       "      <td>0.1</td>\n",
       "      <td>NaN</td>\n",
       "      <td>NaN</td>\n",
       "      <td>52.5</td>\n",
       "      <td>NaN</td>\n",
       "      <td>116.0</td>\n",
       "      <td>NaN</td>\n",
       "      <td>NaN</td>\n",
       "      <td>4.6</td>\n",
       "      <td>NaN</td>\n",
       "    </tr>\n",
       "    <tr>\n",
       "      <th>1</th>\n",
       "      <td>2014-12-29</td>\n",
       "      <td>AT</td>\n",
       "      <td>Innsbruck</td>\n",
       "      <td>NaN</td>\n",
       "      <td>0.1</td>\n",
       "      <td>NaN</td>\n",
       "      <td>NaN</td>\n",
       "      <td>46.7</td>\n",
       "      <td>NaN</td>\n",
       "      <td>39.0</td>\n",
       "      <td>NaN</td>\n",
       "      <td>NaN</td>\n",
       "      <td>2.1</td>\n",
       "      <td>NaN</td>\n",
       "    </tr>\n",
       "    <tr>\n",
       "      <th>2</th>\n",
       "      <td>2014-12-29</td>\n",
       "      <td>AT</td>\n",
       "      <td>Linz</td>\n",
       "      <td>NaN</td>\n",
       "      <td>0.1</td>\n",
       "      <td>NaN</td>\n",
       "      <td>NaN</td>\n",
       "      <td>34.3</td>\n",
       "      <td>NaN</td>\n",
       "      <td>50.0</td>\n",
       "      <td>102.0</td>\n",
       "      <td>NaN</td>\n",
       "      <td>21.8</td>\n",
       "      <td>NaN</td>\n",
       "    </tr>\n",
       "    <tr>\n",
       "      <th>3</th>\n",
       "      <td>2014-12-29</td>\n",
       "      <td>AT</td>\n",
       "      <td>Salzburg</td>\n",
       "      <td>NaN</td>\n",
       "      <td>0.1</td>\n",
       "      <td>NaN</td>\n",
       "      <td>NaN</td>\n",
       "      <td>43.0</td>\n",
       "      <td>NaN</td>\n",
       "      <td>46.0</td>\n",
       "      <td>NaN</td>\n",
       "      <td>NaN</td>\n",
       "      <td>3.6</td>\n",
       "      <td>NaN</td>\n",
       "    </tr>\n",
       "    <tr>\n",
       "      <th>4</th>\n",
       "      <td>2014-12-29</td>\n",
       "      <td>AT</td>\n",
       "      <td>Vienna</td>\n",
       "      <td>NaN</td>\n",
       "      <td>0.1</td>\n",
       "      <td>NaN</td>\n",
       "      <td>NaN</td>\n",
       "      <td>22.9</td>\n",
       "      <td>NaN</td>\n",
       "      <td>37.0</td>\n",
       "      <td>80.0</td>\n",
       "      <td>NaN</td>\n",
       "      <td>4.1</td>\n",
       "      <td>NaN</td>\n",
       "    </tr>\n",
       "  </tbody>\n",
       "</table>\n",
       "</div>"
      ],
      "text/plain": [
       "Specie       Date Country       City  aqi   co  mepaqi  neph   no2  o3   pm10  \\\n",
       "0      2014-12-29      AT       Graz  NaN  0.1     NaN   NaN  52.5 NaN  116.0   \n",
       "1      2014-12-29      AT  Innsbruck  NaN  0.1     NaN   NaN  46.7 NaN   39.0   \n",
       "2      2014-12-29      AT       Linz  NaN  0.1     NaN   NaN  34.3 NaN   50.0   \n",
       "3      2014-12-29      AT   Salzburg  NaN  0.1     NaN   NaN  43.0 NaN   46.0   \n",
       "4      2014-12-29      AT     Vienna  NaN  0.1     NaN   NaN  22.9 NaN   37.0   \n",
       "\n",
       "Specie   pm25  psi   so2  uvi  \n",
       "0         NaN  NaN   4.6  NaN  \n",
       "1         NaN  NaN   2.1  NaN  \n",
       "2       102.0  NaN  21.8  NaN  \n",
       "3         NaN  NaN   3.6  NaN  \n",
       "4        80.0  NaN   4.1  NaN  "
      ]
     },
     "execution_count": 144,
     "metadata": {},
     "output_type": "execute_result"
    }
   ],
   "source": [
    "print(data_df_2015_H1.shape)\n",
    "data_df_2015_H1.head()"
   ]
  },
  {
   "cell_type": "code",
   "execution_count": 145,
   "id": "e93c3fcb",
   "metadata": {
    "execution": {
     "iopub.execute_input": "2024-12-31T12:06:50.976360Z",
     "iopub.status.busy": "2024-12-31T12:06:50.976004Z",
     "iopub.status.idle": "2024-12-31T12:06:50.993244Z",
     "shell.execute_reply": "2024-12-31T12:06:50.992309Z"
    },
    "executionInfo": {
     "elapsed": 7,
     "status": "ok",
     "timestamp": 1734445452894,
     "user": {
      "displayName": "Tahmida Majumder",
      "userId": "15415648085337204568"
     },
     "user_tz": -480
    },
    "id": "SFCgjDgeXJZG",
    "outputId": "c7f73fa5-b55c-4f57-a58b-29f0509c3a05",
    "papermill": {
     "duration": 0.077065,
     "end_time": "2024-12-31T12:06:50.995049",
     "exception": false,
     "start_time": "2024-12-31T12:06:50.917984",
     "status": "completed"
    },
    "tags": []
   },
   "outputs": [
    {
     "data": {
      "text/plain": [
       "Specie\n",
       "Date           0\n",
       "Country        0\n",
       "City           0\n",
       "aqi        80383\n",
       "co         30736\n",
       "mepaqi     82901\n",
       "neph       82526\n",
       "no2        12888\n",
       "o3         14612\n",
       "pm10       14221\n",
       "pm25       18769\n",
       "psi        82914\n",
       "so2        24251\n",
       "uvi        80809\n",
       "dtype: int64"
      ]
     },
     "execution_count": 145,
     "metadata": {},
     "output_type": "execute_result"
    }
   ],
   "source": [
    "data_df_2015_H1.isnull().sum()"
   ]
  },
  {
   "cell_type": "markdown",
   "id": "a16d1d74",
   "metadata": {
    "id": "sj16G4xjbPmz",
    "papermill": {
     "duration": 0.057795,
     "end_time": "2024-12-31T12:06:51.111597",
     "exception": false,
     "start_time": "2024-12-31T12:06:51.053802",
     "status": "completed"
    },
    "tags": []
   },
   "source": [
    "# **Combine 2015-2024**"
   ]
  },
  {
   "cell_type": "code",
   "execution_count": 146,
   "id": "dc4656d9",
   "metadata": {
    "execution": {
     "iopub.execute_input": "2024-12-31T12:06:51.226582Z",
     "iopub.status.busy": "2024-12-31T12:06:51.226191Z",
     "iopub.status.idle": "2024-12-31T12:06:51.449913Z",
     "shell.execute_reply": "2024-12-31T12:06:51.448818Z"
    },
    "id": "aXOUsDcDkm5T",
    "papermill": {
     "duration": 0.283287,
     "end_time": "2024-12-31T12:06:51.451897",
     "exception": false,
     "start_time": "2024-12-31T12:06:51.168610",
     "status": "completed"
    },
    "tags": []
   },
   "outputs": [],
   "source": [
    "data_2015_2024 = pd.concat([data_df_2015_H1, data_df_2016_H1, data_df_2017_H1, data_df_2018_H1,\n",
    "                            data_df_2019_Q1, data_df_2019_Q2, data_df_2019_Q3, data_df_2019_Q4,\n",
    "                            data_df_2020_Q1, data_df_2020_Q2, data_df_2020_Q3, data_df_2020_Q4,\n",
    "                            data_df_2021_Q1, data_df_2021_Q2, data_df_2021_Q3, data_df_2021_Q4,\n",
    "                            data_df_2022_Q2, data_df_2022_Q3, data_df_2022_Q4,\n",
    "                            data_df_2023_Q1, data_df_2023_Q2, data_df_2023_Q3, data_df_2023_Q4,\n",
    "                            data_df_2024], ignore_index=True)"
   ]
  },
  {
   "cell_type": "code",
   "execution_count": 147,
   "id": "ef781914",
   "metadata": {
    "execution": {
     "iopub.execute_input": "2024-12-31T12:06:51.568815Z",
     "iopub.status.busy": "2024-12-31T12:06:51.568472Z",
     "iopub.status.idle": "2024-12-31T12:06:51.573909Z",
     "shell.execute_reply": "2024-12-31T12:06:51.573085Z"
    },
    "executionInfo": {
     "elapsed": 416,
     "status": "ok",
     "timestamp": 1734445678440,
     "user": {
      "displayName": "Tahmida Majumder",
      "userId": "15415648085337204568"
     },
     "user_tz": -480
    },
    "id": "xMdnjpaqj1xp",
    "outputId": "c297388a-7bbc-46a4-f802-5c00edd37d28",
    "papermill": {
     "duration": 0.065258,
     "end_time": "2024-12-31T12:06:51.575478",
     "exception": false,
     "start_time": "2024-12-31T12:06:51.510220",
     "status": "completed"
    },
    "tags": []
   },
   "outputs": [
    {
     "data": {
      "text/plain": [
       "(1462740, 27)"
      ]
     },
     "execution_count": 147,
     "metadata": {},
     "output_type": "execute_result"
    }
   ],
   "source": [
    "data_2015_2024.shape"
   ]
  },
  {
   "cell_type": "code",
   "execution_count": 148,
   "id": "2f4b8ba8",
   "metadata": {
    "execution": {
     "iopub.execute_input": "2024-12-31T12:06:51.696436Z",
     "iopub.status.busy": "2024-12-31T12:06:51.696029Z",
     "iopub.status.idle": "2024-12-31T12:06:51.901577Z",
     "shell.execute_reply": "2024-12-31T12:06:51.900556Z"
    },
    "executionInfo": {
     "elapsed": 371,
     "status": "ok",
     "timestamp": 1734445681461,
     "user": {
      "displayName": "Tahmida Majumder",
      "userId": "15415648085337204568"
     },
     "user_tz": -480
    },
    "id": "KXv8f-CUbzgh",
    "outputId": "841c597e-0a59-4318-c87e-59c9927581a3",
    "papermill": {
     "duration": 0.267874,
     "end_time": "2024-12-31T12:06:51.903405",
     "exception": false,
     "start_time": "2024-12-31T12:06:51.635531",
     "status": "completed"
    },
    "tags": []
   },
   "outputs": [
    {
     "data": {
      "text/plain": [
       "Specie\n",
       "Date                   0\n",
       "Country                0\n",
       "City                   0\n",
       "aqi              1427395\n",
       "co                540346\n",
       "mepaqi           1460151\n",
       "neph             1458086\n",
       "no2               253816\n",
       "o3                320411\n",
       "pm10              268219\n",
       "pm25              228850\n",
       "psi              1462377\n",
       "so2               455441\n",
       "uvi              1433423\n",
       "pol              1457782\n",
       "d                1460709\n",
       "humidity          353140\n",
       "pm1              1457366\n",
       "pressure          356910\n",
       "temperature       352246\n",
       "wd               1380269\n",
       "wind-speed        415811\n",
       "precipitation    1337548\n",
       "wind-gust         848792\n",
       "dew               615695\n",
       "wind gust        1430975\n",
       "wind speed       1412989\n",
       "dtype: int64"
      ]
     },
     "execution_count": 148,
     "metadata": {},
     "output_type": "execute_result"
    }
   ],
   "source": [
    "data_2015_2024.isnull().sum()"
   ]
  },
  {
   "cell_type": "code",
   "execution_count": 149,
   "id": "d110c5a7",
   "metadata": {
    "execution": {
     "iopub.execute_input": "2024-12-31T12:06:52.021431Z",
     "iopub.status.busy": "2024-12-31T12:06:52.021057Z",
     "iopub.status.idle": "2024-12-31T12:06:52.043867Z",
     "shell.execute_reply": "2024-12-31T12:06:52.042872Z"
    },
    "executionInfo": {
     "elapsed": 618,
     "status": "ok",
     "timestamp": 1734445685400,
     "user": {
      "displayName": "Tahmida Majumder",
      "userId": "15415648085337204568"
     },
     "user_tz": -480
    },
    "id": "mssZYD39j11H",
    "outputId": "c33709e0-d3d8-4bd1-e283-1a1b253f7681",
    "papermill": {
     "duration": 0.084029,
     "end_time": "2024-12-31T12:06:52.045240",
     "exception": false,
     "start_time": "2024-12-31T12:06:51.961211",
     "status": "completed"
    },
    "tags": []
   },
   "outputs": [
    {
     "data": {
      "text/html": [
       "<div>\n",
       "<style scoped>\n",
       "    .dataframe tbody tr th:only-of-type {\n",
       "        vertical-align: middle;\n",
       "    }\n",
       "\n",
       "    .dataframe tbody tr th {\n",
       "        vertical-align: top;\n",
       "    }\n",
       "\n",
       "    .dataframe thead th {\n",
       "        text-align: right;\n",
       "    }\n",
       "</style>\n",
       "<table border=\"1\" class=\"dataframe\">\n",
       "  <thead>\n",
       "    <tr style=\"text-align: right;\">\n",
       "      <th>Specie</th>\n",
       "      <th>Date</th>\n",
       "      <th>Country</th>\n",
       "      <th>City</th>\n",
       "      <th>aqi</th>\n",
       "      <th>co</th>\n",
       "      <th>mepaqi</th>\n",
       "      <th>neph</th>\n",
       "      <th>no2</th>\n",
       "      <th>o3</th>\n",
       "      <th>pm10</th>\n",
       "      <th>...</th>\n",
       "      <th>pm1</th>\n",
       "      <th>pressure</th>\n",
       "      <th>temperature</th>\n",
       "      <th>wd</th>\n",
       "      <th>wind-speed</th>\n",
       "      <th>precipitation</th>\n",
       "      <th>wind-gust</th>\n",
       "      <th>dew</th>\n",
       "      <th>wind gust</th>\n",
       "      <th>wind speed</th>\n",
       "    </tr>\n",
       "  </thead>\n",
       "  <tbody>\n",
       "    <tr>\n",
       "      <th>0</th>\n",
       "      <td>2014-12-29</td>\n",
       "      <td>AT</td>\n",
       "      <td>Graz</td>\n",
       "      <td>NaN</td>\n",
       "      <td>0.1</td>\n",
       "      <td>NaN</td>\n",
       "      <td>NaN</td>\n",
       "      <td>52.5</td>\n",
       "      <td>NaN</td>\n",
       "      <td>116.0</td>\n",
       "      <td>...</td>\n",
       "      <td>NaN</td>\n",
       "      <td>NaN</td>\n",
       "      <td>NaN</td>\n",
       "      <td>NaN</td>\n",
       "      <td>NaN</td>\n",
       "      <td>NaN</td>\n",
       "      <td>NaN</td>\n",
       "      <td>NaN</td>\n",
       "      <td>NaN</td>\n",
       "      <td>NaN</td>\n",
       "    </tr>\n",
       "    <tr>\n",
       "      <th>1</th>\n",
       "      <td>2014-12-29</td>\n",
       "      <td>AT</td>\n",
       "      <td>Innsbruck</td>\n",
       "      <td>NaN</td>\n",
       "      <td>0.1</td>\n",
       "      <td>NaN</td>\n",
       "      <td>NaN</td>\n",
       "      <td>46.7</td>\n",
       "      <td>NaN</td>\n",
       "      <td>39.0</td>\n",
       "      <td>...</td>\n",
       "      <td>NaN</td>\n",
       "      <td>NaN</td>\n",
       "      <td>NaN</td>\n",
       "      <td>NaN</td>\n",
       "      <td>NaN</td>\n",
       "      <td>NaN</td>\n",
       "      <td>NaN</td>\n",
       "      <td>NaN</td>\n",
       "      <td>NaN</td>\n",
       "      <td>NaN</td>\n",
       "    </tr>\n",
       "    <tr>\n",
       "      <th>2</th>\n",
       "      <td>2014-12-29</td>\n",
       "      <td>AT</td>\n",
       "      <td>Linz</td>\n",
       "      <td>NaN</td>\n",
       "      <td>0.1</td>\n",
       "      <td>NaN</td>\n",
       "      <td>NaN</td>\n",
       "      <td>34.3</td>\n",
       "      <td>NaN</td>\n",
       "      <td>50.0</td>\n",
       "      <td>...</td>\n",
       "      <td>NaN</td>\n",
       "      <td>NaN</td>\n",
       "      <td>NaN</td>\n",
       "      <td>NaN</td>\n",
       "      <td>NaN</td>\n",
       "      <td>NaN</td>\n",
       "      <td>NaN</td>\n",
       "      <td>NaN</td>\n",
       "      <td>NaN</td>\n",
       "      <td>NaN</td>\n",
       "    </tr>\n",
       "    <tr>\n",
       "      <th>3</th>\n",
       "      <td>2014-12-29</td>\n",
       "      <td>AT</td>\n",
       "      <td>Salzburg</td>\n",
       "      <td>NaN</td>\n",
       "      <td>0.1</td>\n",
       "      <td>NaN</td>\n",
       "      <td>NaN</td>\n",
       "      <td>43.0</td>\n",
       "      <td>NaN</td>\n",
       "      <td>46.0</td>\n",
       "      <td>...</td>\n",
       "      <td>NaN</td>\n",
       "      <td>NaN</td>\n",
       "      <td>NaN</td>\n",
       "      <td>NaN</td>\n",
       "      <td>NaN</td>\n",
       "      <td>NaN</td>\n",
       "      <td>NaN</td>\n",
       "      <td>NaN</td>\n",
       "      <td>NaN</td>\n",
       "      <td>NaN</td>\n",
       "    </tr>\n",
       "    <tr>\n",
       "      <th>4</th>\n",
       "      <td>2014-12-29</td>\n",
       "      <td>AT</td>\n",
       "      <td>Vienna</td>\n",
       "      <td>NaN</td>\n",
       "      <td>0.1</td>\n",
       "      <td>NaN</td>\n",
       "      <td>NaN</td>\n",
       "      <td>22.9</td>\n",
       "      <td>NaN</td>\n",
       "      <td>37.0</td>\n",
       "      <td>...</td>\n",
       "      <td>NaN</td>\n",
       "      <td>NaN</td>\n",
       "      <td>NaN</td>\n",
       "      <td>NaN</td>\n",
       "      <td>NaN</td>\n",
       "      <td>NaN</td>\n",
       "      <td>NaN</td>\n",
       "      <td>NaN</td>\n",
       "      <td>NaN</td>\n",
       "      <td>NaN</td>\n",
       "    </tr>\n",
       "  </tbody>\n",
       "</table>\n",
       "<p>5 rows × 27 columns</p>\n",
       "</div>"
      ],
      "text/plain": [
       "Specie       Date Country       City  aqi   co  mepaqi  neph   no2  o3   pm10  \\\n",
       "0      2014-12-29      AT       Graz  NaN  0.1     NaN   NaN  52.5 NaN  116.0   \n",
       "1      2014-12-29      AT  Innsbruck  NaN  0.1     NaN   NaN  46.7 NaN   39.0   \n",
       "2      2014-12-29      AT       Linz  NaN  0.1     NaN   NaN  34.3 NaN   50.0   \n",
       "3      2014-12-29      AT   Salzburg  NaN  0.1     NaN   NaN  43.0 NaN   46.0   \n",
       "4      2014-12-29      AT     Vienna  NaN  0.1     NaN   NaN  22.9 NaN   37.0   \n",
       "\n",
       "Specie  ...  pm1  pressure  temperature  wd  wind-speed  precipitation  \\\n",
       "0       ...  NaN       NaN          NaN NaN         NaN            NaN   \n",
       "1       ...  NaN       NaN          NaN NaN         NaN            NaN   \n",
       "2       ...  NaN       NaN          NaN NaN         NaN            NaN   \n",
       "3       ...  NaN       NaN          NaN NaN         NaN            NaN   \n",
       "4       ...  NaN       NaN          NaN NaN         NaN            NaN   \n",
       "\n",
       "Specie  wind-gust  dew  wind gust  wind speed  \n",
       "0             NaN  NaN        NaN         NaN  \n",
       "1             NaN  NaN        NaN         NaN  \n",
       "2             NaN  NaN        NaN         NaN  \n",
       "3             NaN  NaN        NaN         NaN  \n",
       "4             NaN  NaN        NaN         NaN  \n",
       "\n",
       "[5 rows x 27 columns]"
      ]
     },
     "execution_count": 149,
     "metadata": {},
     "output_type": "execute_result"
    }
   ],
   "source": [
    "data_2015_2024.head()"
   ]
  },
  {
   "cell_type": "code",
   "execution_count": 150,
   "id": "08ad7766",
   "metadata": {
    "execution": {
     "iopub.execute_input": "2024-12-31T12:06:52.164183Z",
     "iopub.status.busy": "2024-12-31T12:06:52.163855Z",
     "iopub.status.idle": "2024-12-31T12:06:52.177452Z",
     "shell.execute_reply": "2024-12-31T12:06:52.176265Z"
    },
    "executionInfo": {
     "elapsed": 468,
     "status": "ok",
     "timestamp": 1734445689653,
     "user": {
      "displayName": "Tahmida Majumder",
      "userId": "15415648085337204568"
     },
     "user_tz": -480
    },
    "id": "bZeT3eCFAnGw",
    "outputId": "ac3572b3-a2ef-40bc-f5ec-4d1351f35263",
    "papermill": {
     "duration": 0.073824,
     "end_time": "2024-12-31T12:06:52.179092",
     "exception": false,
     "start_time": "2024-12-31T12:06:52.105268",
     "status": "completed"
    },
    "tags": []
   },
   "outputs": [
    {
     "name": "stdout",
     "output_type": "stream",
     "text": [
      "Minimum date: 2014-12-29 00:00:00\n",
      "Maximum date: 2024-12-31 00:00:00\n"
     ]
    }
   ],
   "source": [
    "# Find the minimum and maximum dates\n",
    "min_date = data_2015_2024['Date'].min()\n",
    "max_date = data_2015_2024['Date'].max()\n",
    "\n",
    "print('Minimum date:', min_date)\n",
    "print('Maximum date:', max_date)"
   ]
  },
  {
   "cell_type": "code",
   "execution_count": 151,
   "id": "177aa40f",
   "metadata": {
    "execution": {
     "iopub.execute_input": "2024-12-31T12:06:52.295923Z",
     "iopub.status.busy": "2024-12-31T12:06:52.295586Z",
     "iopub.status.idle": "2024-12-31T12:06:52.299571Z",
     "shell.execute_reply": "2024-12-31T12:06:52.298656Z"
    },
    "id": "QCR5xMN0_UkA",
    "papermill": {
     "duration": 0.063679,
     "end_time": "2024-12-31T12:06:52.301019",
     "exception": false,
     "start_time": "2024-12-31T12:06:52.237340",
     "status": "completed"
    },
    "tags": []
   },
   "outputs": [],
   "source": [
    "import os"
   ]
  },
  {
   "cell_type": "code",
   "execution_count": 152,
   "id": "bccb56d2",
   "metadata": {
    "execution": {
     "iopub.execute_input": "2024-12-31T12:06:52.420202Z",
     "iopub.status.busy": "2024-12-31T12:06:52.419886Z",
     "iopub.status.idle": "2024-12-31T12:07:10.429263Z",
     "shell.execute_reply": "2024-12-31T12:07:10.428269Z"
    },
    "id": "ysJ7Sc3w_lSR",
    "papermill": {
     "duration": 18.070365,
     "end_time": "2024-12-31T12:07:10.431179",
     "exception": false,
     "start_time": "2024-12-31T12:06:52.360814",
     "status": "completed"
    },
    "tags": []
   },
   "outputs": [],
   "source": [
    "os.makedirs('/kaggle/working', exist_ok=True)\n",
    "data_2015_2024.to_csv('/kaggle/working/data_2015_2024.csv')"
   ]
  },
  {
   "cell_type": "markdown",
   "id": "b40bb2ee",
   "metadata": {
    "id": "ji1dRy6wbZ_l",
    "papermill": {
     "duration": 0.057381,
     "end_time": "2024-12-31T12:07:10.547109",
     "exception": false,
     "start_time": "2024-12-31T12:07:10.489728",
     "status": "completed"
    },
    "tags": []
   },
   "source": [
    "**Combine 2021-2024**"
   ]
  },
  {
   "cell_type": "code",
   "execution_count": 153,
   "id": "9aac7281",
   "metadata": {
    "execution": {
     "iopub.execute_input": "2024-12-31T12:07:10.663596Z",
     "iopub.status.busy": "2024-12-31T12:07:10.663179Z",
     "iopub.status.idle": "2024-12-31T12:07:10.726316Z",
     "shell.execute_reply": "2024-12-31T12:07:10.725400Z"
    },
    "id": "cIfjk149a_z0",
    "papermill": {
     "duration": 0.123836,
     "end_time": "2024-12-31T12:07:10.728226",
     "exception": false,
     "start_time": "2024-12-31T12:07:10.604390",
     "status": "completed"
    },
    "tags": []
   },
   "outputs": [],
   "source": [
    "data_2021_2024 = pd.concat([data_df_2021_Q1, data_df_2021_Q2, data_df_2021_Q3, data_df_2021_Q4,\n",
    "                            data_df_2022_Q2, data_df_2022_Q3, data_df_2022_Q4,\n",
    "                            data_df_2023_Q1, data_df_2023_Q2, data_df_2023_Q3, data_df_2023_Q4,\n",
    "                            data_df_2024], ignore_index=True)"
   ]
  },
  {
   "cell_type": "code",
   "execution_count": 154,
   "id": "1021469a",
   "metadata": {
    "execution": {
     "iopub.execute_input": "2024-12-31T12:07:10.846182Z",
     "iopub.status.busy": "2024-12-31T12:07:10.845797Z",
     "iopub.status.idle": "2024-12-31T12:07:10.851403Z",
     "shell.execute_reply": "2024-12-31T12:07:10.850475Z"
    },
    "executionInfo": {
     "elapsed": 420,
     "status": "ok",
     "timestamp": 1734445728824,
     "user": {
      "displayName": "Tahmida Majumder",
      "userId": "15415648085337204568"
     },
     "user_tz": -480
    },
    "id": "AAYvH0U5a_z0",
    "outputId": "6f724cdf-a59a-4cf8-f36e-99e742456c17",
    "papermill": {
     "duration": 0.066195,
     "end_time": "2024-12-31T12:07:10.852928",
     "exception": false,
     "start_time": "2024-12-31T12:07:10.786733",
     "status": "completed"
    },
    "tags": []
   },
   "outputs": [
    {
     "data": {
      "text/plain": [
       "(660217, 22)"
      ]
     },
     "execution_count": 154,
     "metadata": {},
     "output_type": "execute_result"
    }
   ],
   "source": [
    "data_2021_2024.shape"
   ]
  },
  {
   "cell_type": "code",
   "execution_count": 155,
   "id": "61ea16b9",
   "metadata": {
    "execution": {
     "iopub.execute_input": "2024-12-31T12:07:10.970219Z",
     "iopub.status.busy": "2024-12-31T12:07:10.969896Z",
     "iopub.status.idle": "2024-12-31T12:07:11.065738Z",
     "shell.execute_reply": "2024-12-31T12:07:11.064691Z"
    },
    "executionInfo": {
     "elapsed": 459,
     "status": "ok",
     "timestamp": 1734445732246,
     "user": {
      "displayName": "Tahmida Majumder",
      "userId": "15415648085337204568"
     },
     "user_tz": -480
    },
    "id": "RVMoHje7cDz6",
    "outputId": "2ea13b1d-5c84-426d-912c-629934cadd7c",
    "papermill": {
     "duration": 0.156342,
     "end_time": "2024-12-31T12:07:11.067691",
     "exception": false,
     "start_time": "2024-12-31T12:07:10.911349",
     "status": "completed"
    },
    "tags": []
   },
   "outputs": [
    {
     "data": {
      "text/plain": [
       "Specie\n",
       "Date                  0\n",
       "Country               0\n",
       "City                  0\n",
       "aqi              647547\n",
       "co               248282\n",
       "dew              139750\n",
       "humidity          10864\n",
       "mepaqi           659140\n",
       "neph             657526\n",
       "no2              123641\n",
       "o3               159519\n",
       "pm1              657298\n",
       "pm10             120443\n",
       "pm25              89541\n",
       "precipitation    578292\n",
       "pressure          12102\n",
       "so2              212662\n",
       "temperature       10082\n",
       "uvi              646956\n",
       "wd               617682\n",
       "wind-gust        300728\n",
       "wind-speed        20316\n",
       "dtype: int64"
      ]
     },
     "execution_count": 155,
     "metadata": {},
     "output_type": "execute_result"
    }
   ],
   "source": [
    "data_2021_2024.isnull().sum()"
   ]
  },
  {
   "cell_type": "code",
   "execution_count": 156,
   "id": "b4551e00",
   "metadata": {
    "execution": {
     "iopub.execute_input": "2024-12-31T12:07:11.186474Z",
     "iopub.status.busy": "2024-12-31T12:07:11.186092Z",
     "iopub.status.idle": "2024-12-31T12:07:11.209868Z",
     "shell.execute_reply": "2024-12-31T12:07:11.208793Z"
    },
    "executionInfo": {
     "elapsed": 400,
     "status": "ok",
     "timestamp": 1734445735767,
     "user": {
      "displayName": "Tahmida Majumder",
      "userId": "15415648085337204568"
     },
     "user_tz": -480
    },
    "id": "F2MaY926a_z1",
    "outputId": "90b9f835-4046-4237-fc19-29c4745903fe",
    "papermill": {
     "duration": 0.083498,
     "end_time": "2024-12-31T12:07:11.211502",
     "exception": false,
     "start_time": "2024-12-31T12:07:11.128004",
     "status": "completed"
    },
    "tags": []
   },
   "outputs": [
    {
     "data": {
      "text/html": [
       "<div>\n",
       "<style scoped>\n",
       "    .dataframe tbody tr th:only-of-type {\n",
       "        vertical-align: middle;\n",
       "    }\n",
       "\n",
       "    .dataframe tbody tr th {\n",
       "        vertical-align: top;\n",
       "    }\n",
       "\n",
       "    .dataframe thead th {\n",
       "        text-align: right;\n",
       "    }\n",
       "</style>\n",
       "<table border=\"1\" class=\"dataframe\">\n",
       "  <thead>\n",
       "    <tr style=\"text-align: right;\">\n",
       "      <th>Specie</th>\n",
       "      <th>Date</th>\n",
       "      <th>Country</th>\n",
       "      <th>City</th>\n",
       "      <th>aqi</th>\n",
       "      <th>co</th>\n",
       "      <th>dew</th>\n",
       "      <th>humidity</th>\n",
       "      <th>mepaqi</th>\n",
       "      <th>neph</th>\n",
       "      <th>no2</th>\n",
       "      <th>...</th>\n",
       "      <th>pm10</th>\n",
       "      <th>pm25</th>\n",
       "      <th>precipitation</th>\n",
       "      <th>pressure</th>\n",
       "      <th>so2</th>\n",
       "      <th>temperature</th>\n",
       "      <th>uvi</th>\n",
       "      <th>wd</th>\n",
       "      <th>wind-gust</th>\n",
       "      <th>wind-speed</th>\n",
       "    </tr>\n",
       "  </thead>\n",
       "  <tbody>\n",
       "    <tr>\n",
       "      <th>0</th>\n",
       "      <td>2020-12-28</td>\n",
       "      <td>AE</td>\n",
       "      <td>Abu Dhabi</td>\n",
       "      <td>NaN</td>\n",
       "      <td>0.1</td>\n",
       "      <td>16.0</td>\n",
       "      <td>73.0</td>\n",
       "      <td>NaN</td>\n",
       "      <td>NaN</td>\n",
       "      <td>38.9</td>\n",
       "      <td>...</td>\n",
       "      <td>113.0</td>\n",
       "      <td>65.0</td>\n",
       "      <td>NaN</td>\n",
       "      <td>1022.0</td>\n",
       "      <td>9.2</td>\n",
       "      <td>25.0</td>\n",
       "      <td>NaN</td>\n",
       "      <td>NaN</td>\n",
       "      <td>NaN</td>\n",
       "      <td>5.6</td>\n",
       "    </tr>\n",
       "    <tr>\n",
       "      <th>1</th>\n",
       "      <td>2020-12-28</td>\n",
       "      <td>AE</td>\n",
       "      <td>Dubai</td>\n",
       "      <td>NaN</td>\n",
       "      <td>NaN</td>\n",
       "      <td>11.0</td>\n",
       "      <td>52.0</td>\n",
       "      <td>NaN</td>\n",
       "      <td>NaN</td>\n",
       "      <td>NaN</td>\n",
       "      <td>...</td>\n",
       "      <td>NaN</td>\n",
       "      <td>72.0</td>\n",
       "      <td>NaN</td>\n",
       "      <td>1022.0</td>\n",
       "      <td>NaN</td>\n",
       "      <td>25.0</td>\n",
       "      <td>NaN</td>\n",
       "      <td>NaN</td>\n",
       "      <td>NaN</td>\n",
       "      <td>5.6</td>\n",
       "    </tr>\n",
       "    <tr>\n",
       "      <th>2</th>\n",
       "      <td>2020-12-28</td>\n",
       "      <td>AF</td>\n",
       "      <td>Kabul</td>\n",
       "      <td>NaN</td>\n",
       "      <td>NaN</td>\n",
       "      <td>-10.0</td>\n",
       "      <td>68.0</td>\n",
       "      <td>NaN</td>\n",
       "      <td>NaN</td>\n",
       "      <td>NaN</td>\n",
       "      <td>...</td>\n",
       "      <td>NaN</td>\n",
       "      <td>384.0</td>\n",
       "      <td>NaN</td>\n",
       "      <td>1022.0</td>\n",
       "      <td>NaN</td>\n",
       "      <td>7.0</td>\n",
       "      <td>NaN</td>\n",
       "      <td>NaN</td>\n",
       "      <td>NaN</td>\n",
       "      <td>7.2</td>\n",
       "    </tr>\n",
       "    <tr>\n",
       "      <th>3</th>\n",
       "      <td>2020-12-28</td>\n",
       "      <td>AR</td>\n",
       "      <td>Buenos Aires</td>\n",
       "      <td>NaN</td>\n",
       "      <td>5.5</td>\n",
       "      <td>22.5</td>\n",
       "      <td>87.0</td>\n",
       "      <td>NaN</td>\n",
       "      <td>NaN</td>\n",
       "      <td>17.9</td>\n",
       "      <td>...</td>\n",
       "      <td>35.0</td>\n",
       "      <td>104.0</td>\n",
       "      <td>NaN</td>\n",
       "      <td>1031.5</td>\n",
       "      <td>NaN</td>\n",
       "      <td>31.9</td>\n",
       "      <td>NaN</td>\n",
       "      <td>135.0</td>\n",
       "      <td>18.3</td>\n",
       "      <td>9.7</td>\n",
       "    </tr>\n",
       "    <tr>\n",
       "      <th>4</th>\n",
       "      <td>2020-12-28</td>\n",
       "      <td>AT</td>\n",
       "      <td>Graz</td>\n",
       "      <td>NaN</td>\n",
       "      <td>0.1</td>\n",
       "      <td>0.1</td>\n",
       "      <td>99.0</td>\n",
       "      <td>NaN</td>\n",
       "      <td>NaN</td>\n",
       "      <td>28.4</td>\n",
       "      <td>...</td>\n",
       "      <td>31.0</td>\n",
       "      <td>NaN</td>\n",
       "      <td>99.5</td>\n",
       "      <td>997.5</td>\n",
       "      <td>1.8</td>\n",
       "      <td>2.0</td>\n",
       "      <td>NaN</td>\n",
       "      <td>NaN</td>\n",
       "      <td>4.1</td>\n",
       "      <td>2.0</td>\n",
       "    </tr>\n",
       "  </tbody>\n",
       "</table>\n",
       "<p>5 rows × 22 columns</p>\n",
       "</div>"
      ],
      "text/plain": [
       "Specie       Date Country          City  aqi   co   dew  humidity  mepaqi  \\\n",
       "0      2020-12-28      AE     Abu Dhabi  NaN  0.1  16.0      73.0     NaN   \n",
       "1      2020-12-28      AE         Dubai  NaN  NaN  11.0      52.0     NaN   \n",
       "2      2020-12-28      AF         Kabul  NaN  NaN -10.0      68.0     NaN   \n",
       "3      2020-12-28      AR  Buenos Aires  NaN  5.5  22.5      87.0     NaN   \n",
       "4      2020-12-28      AT          Graz  NaN  0.1   0.1      99.0     NaN   \n",
       "\n",
       "Specie  neph   no2  ...   pm10   pm25  precipitation  pressure  so2  \\\n",
       "0        NaN  38.9  ...  113.0   65.0            NaN    1022.0  9.2   \n",
       "1        NaN   NaN  ...    NaN   72.0            NaN    1022.0  NaN   \n",
       "2        NaN   NaN  ...    NaN  384.0            NaN    1022.0  NaN   \n",
       "3        NaN  17.9  ...   35.0  104.0            NaN    1031.5  NaN   \n",
       "4        NaN  28.4  ...   31.0    NaN           99.5     997.5  1.8   \n",
       "\n",
       "Specie  temperature  uvi     wd  wind-gust  wind-speed  \n",
       "0              25.0  NaN    NaN        NaN         5.6  \n",
       "1              25.0  NaN    NaN        NaN         5.6  \n",
       "2               7.0  NaN    NaN        NaN         7.2  \n",
       "3              31.9  NaN  135.0       18.3         9.7  \n",
       "4               2.0  NaN    NaN        4.1         2.0  \n",
       "\n",
       "[5 rows x 22 columns]"
      ]
     },
     "execution_count": 156,
     "metadata": {},
     "output_type": "execute_result"
    }
   ],
   "source": [
    "data_2021_2024.head()"
   ]
  },
  {
   "cell_type": "code",
   "execution_count": 157,
   "id": "bf59027c",
   "metadata": {
    "execution": {
     "iopub.execute_input": "2024-12-31T12:07:11.329327Z",
     "iopub.status.busy": "2024-12-31T12:07:11.329012Z",
     "iopub.status.idle": "2024-12-31T12:07:11.338043Z",
     "shell.execute_reply": "2024-12-31T12:07:11.336983Z"
    },
    "executionInfo": {
     "elapsed": 475,
     "status": "ok",
     "timestamp": 1734445791046,
     "user": {
      "displayName": "Tahmida Majumder",
      "userId": "15415648085337204568"
     },
     "user_tz": -480
    },
    "id": "POgiBz6uBiju",
    "outputId": "e4a4681b-9b73-4d04-a6db-18d3bc160025",
    "papermill": {
     "duration": 0.069448,
     "end_time": "2024-12-31T12:07:11.339694",
     "exception": false,
     "start_time": "2024-12-31T12:07:11.270246",
     "status": "completed"
    },
    "tags": []
   },
   "outputs": [
    {
     "name": "stdout",
     "output_type": "stream",
     "text": [
      "Minimum date: 2020-12-28 00:00:00\n",
      "Maximum date: 2024-12-31 00:00:00\n"
     ]
    }
   ],
   "source": [
    "# Find the minimum and maximum dates\n",
    "min_date = data_2021_2024['Date'].min()\n",
    "max_date = data_2021_2024['Date'].max()\n",
    "\n",
    "print('Minimum date:', min_date)\n",
    "print('Maximum date:', max_date)"
   ]
  },
  {
   "cell_type": "code",
   "execution_count": 158,
   "id": "7ab9da65",
   "metadata": {
    "execution": {
     "iopub.execute_input": "2024-12-31T12:07:11.458489Z",
     "iopub.status.busy": "2024-12-31T12:07:11.458117Z",
     "iopub.status.idle": "2024-12-31T12:07:19.063462Z",
     "shell.execute_reply": "2024-12-31T12:07:19.062422Z"
    },
    "id": "Uk9ON_gba_z1",
    "papermill": {
     "duration": 7.666056,
     "end_time": "2024-12-31T12:07:19.065334",
     "exception": false,
     "start_time": "2024-12-31T12:07:11.399278",
     "status": "completed"
    },
    "tags": []
   },
   "outputs": [],
   "source": [
    "os.makedirs('/kaggle/working', exist_ok=True)\n",
    "data_2021_2024.to_csv('/kaggle/working/data_2021_2024.csv')"
   ]
  }
 ],
 "metadata": {
  "colab": {
   "authorship_tag": "ABX9TyM2h2pBYoWj/rl0Kxoyfj8H",
   "provenance": []
  },
  "kaggle": {
   "accelerator": "none",
   "dataSources": [
    {
     "datasetId": 6404012,
     "sourceId": 10341767,
     "sourceType": "datasetVersion"
    }
   ],
   "dockerImageVersionId": 30822,
   "isGpuEnabled": false,
   "isInternetEnabled": false,
   "language": "python",
   "sourceType": "notebook"
  },
  "kernelspec": {
   "display_name": "Python 3",
   "language": "python",
   "name": "python3"
  },
  "language_info": {
   "codemirror_mode": {
    "name": "ipython",
    "version": 3
   },
   "file_extension": ".py",
   "mimetype": "text/x-python",
   "name": "python",
   "nbconvert_exporter": "python",
   "pygments_lexer": "ipython3",
   "version": "3.10.12"
  },
  "papermill": {
   "default_parameters": {},
   "duration": 78.00728,
   "end_time": "2024-12-31T12:07:19.846643",
   "environment_variables": {},
   "exception": null,
   "input_path": "__notebook__.ipynb",
   "output_path": "__notebook__.ipynb",
   "parameters": {},
   "start_time": "2024-12-31T12:06:01.839363",
   "version": "2.6.0"
  }
 },
 "nbformat": 4,
 "nbformat_minor": 5
}
